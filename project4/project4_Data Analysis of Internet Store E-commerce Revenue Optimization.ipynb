{
 "cells": [
  {
   "cell_type": "markdown",
   "metadata": {},
   "source": [
    "# Анализ данных интернет-магазина"
   ]
  },
  {
   "cell_type": "markdown",
   "metadata": {},
   "source": [
    "Вместе с отделом маркетинга был подготовлен список гипотез для увеличения выручки. В связи с чем, нам необходимо приоритизировать гипотезы, запустить А/В тестирование и проанализировать полученные результаты"
   ]
  },
  {
   "cell_type": "markdown",
   "metadata": {},
   "source": [
    "**Описание данных**\n",
    "\n",
    "Файл hypothesis. \n",
    "- Hypothesis — краткое описание гипотезы;\n",
    "- Reach — охват пользователей по 10-балльной шкале;\n",
    "- Impact — влияние на пользователей по 10-балльной шкале;\n",
    "- Confidence — уверенность в гипотезе по 10-балльной шкале;\n",
    "- Efforts — затраты ресурсов на проверку гипотезы по 10-балльной шкале. Чем больше значение Efforts, тем дороже проверка гипотезы.\n",
    "\n",
    "Файл orders \n",
    "- transactionId — идентификатор заказа;\n",
    "- visitorId — идентификатор пользователя, совершившего заказ;\n",
    "- date — дата, когда был совершён заказ;\n",
    "- revenue — выручка заказа;\n",
    "- group — группа A/B-теста, в которую попал заказ.\n",
    "\n",
    "Файл visitors \n",
    "- date — дата;\n",
    "- group — группа A/B-теста;\n",
    "- visitors — количество пользователей в указанную дату в указанной группе A/B-теста"
   ]
  },
  {
   "cell_type": "markdown",
   "metadata": {},
   "source": [
    "## Приоритизация гипотез"
   ]
  },
  {
   "cell_type": "markdown",
   "metadata": {},
   "source": [
    "В файле hypothesis.csv представлены 9 гипотез по увеличению выручки интернет-магазина с указанными параметрами **Reach, Impact, Confidence, Effort**.\n",
    "\n",
    "**Задача**\n",
    "- Применить фреймворк ICE для приоритизации гипотез. Отсортировать их по убыванию приоритета.\n",
    "- Применить фреймворк RICE для приоритизации гипотез. Отсортировать их по убыванию приоритета.\n",
    "- Указать, как изменилась приоритизация гипотез при применении RICE вместо ICE. Объяснить, почему так произошло."
   ]
  },
  {
   "cell_type": "markdown",
   "metadata": {},
   "source": [
    "### Приоритизация гипотезы с помощью ICE"
   ]
  },
  {
   "cell_type": "markdown",
   "metadata": {},
   "source": [
    "Придётся выбрать, что будем тестировать, а чему скажем «нет». Чтобы максимизировать ожидаемое улучшение ключевых метрик бизнеса, сформулированные гипотезы приоритизирируем"
   ]
  },
  {
   "cell_type": "markdown",
   "metadata": {},
   "source": [
    "Для начала загрузим данные и посмотрим на них"
   ]
  },
  {
   "cell_type": "code",
   "execution_count": 1,
   "metadata": {},
   "outputs": [],
   "source": [
    "import pandas as pd\n",
    "import datetime as dt\n",
    "import numpy as np\n",
    "import matplotlib.pyplot as plt\n",
    "from pandas.plotting import register_matplotlib_converters\n",
    "import warnings\n",
    "import scipy.stats as stats"
   ]
  },
  {
   "cell_type": "code",
   "execution_count": 3,
   "metadata": {},
   "outputs": [
    {
     "data": {
      "text/html": [
       "<div>\n",
       "<style scoped>\n",
       "    .dataframe tbody tr th:only-of-type {\n",
       "        vertical-align: middle;\n",
       "    }\n",
       "\n",
       "    .dataframe tbody tr th {\n",
       "        vertical-align: top;\n",
       "    }\n",
       "\n",
       "    .dataframe thead th {\n",
       "        text-align: right;\n",
       "    }\n",
       "</style>\n",
       "<table border=\"1\" class=\"dataframe\">\n",
       "  <thead>\n",
       "    <tr style=\"text-align: right;\">\n",
       "      <th></th>\n",
       "      <th>Hypothesis</th>\n",
       "      <th>Reach</th>\n",
       "      <th>Impact</th>\n",
       "      <th>Confidence</th>\n",
       "      <th>Efforts</th>\n",
       "    </tr>\n",
       "  </thead>\n",
       "  <tbody>\n",
       "    <tr>\n",
       "      <th>0</th>\n",
       "      <td>Добавить два новых канала привлечения трафика,...</td>\n",
       "      <td>3</td>\n",
       "      <td>10</td>\n",
       "      <td>8</td>\n",
       "      <td>6</td>\n",
       "    </tr>\n",
       "    <tr>\n",
       "      <th>1</th>\n",
       "      <td>Запустить собственную службу доставки, что сок...</td>\n",
       "      <td>2</td>\n",
       "      <td>5</td>\n",
       "      <td>4</td>\n",
       "      <td>10</td>\n",
       "    </tr>\n",
       "    <tr>\n",
       "      <th>2</th>\n",
       "      <td>Добавить блоки рекомендаций товаров на сайт ин...</td>\n",
       "      <td>8</td>\n",
       "      <td>3</td>\n",
       "      <td>7</td>\n",
       "      <td>3</td>\n",
       "    </tr>\n",
       "    <tr>\n",
       "      <th>3</th>\n",
       "      <td>Изменить структура категорий, что увеличит кон...</td>\n",
       "      <td>8</td>\n",
       "      <td>3</td>\n",
       "      <td>3</td>\n",
       "      <td>8</td>\n",
       "    </tr>\n",
       "    <tr>\n",
       "      <th>4</th>\n",
       "      <td>Изменить цвет фона главной страницы, чтобы уве...</td>\n",
       "      <td>3</td>\n",
       "      <td>1</td>\n",
       "      <td>1</td>\n",
       "      <td>1</td>\n",
       "    </tr>\n",
       "    <tr>\n",
       "      <th>5</th>\n",
       "      <td>Добавить страницу отзывов клиентов о магазине,...</td>\n",
       "      <td>3</td>\n",
       "      <td>2</td>\n",
       "      <td>2</td>\n",
       "      <td>3</td>\n",
       "    </tr>\n",
       "    <tr>\n",
       "      <th>6</th>\n",
       "      <td>Показать на главной странице баннеры с актуаль...</td>\n",
       "      <td>5</td>\n",
       "      <td>3</td>\n",
       "      <td>8</td>\n",
       "      <td>3</td>\n",
       "    </tr>\n",
       "    <tr>\n",
       "      <th>7</th>\n",
       "      <td>Добавить форму подписки на все основные страни...</td>\n",
       "      <td>10</td>\n",
       "      <td>7</td>\n",
       "      <td>8</td>\n",
       "      <td>5</td>\n",
       "    </tr>\n",
       "    <tr>\n",
       "      <th>8</th>\n",
       "      <td>Запустить акцию, дающую скидку на товар в день...</td>\n",
       "      <td>1</td>\n",
       "      <td>9</td>\n",
       "      <td>9</td>\n",
       "      <td>5</td>\n",
       "    </tr>\n",
       "  </tbody>\n",
       "</table>\n",
       "</div>"
      ],
      "text/plain": [
       "                                          Hypothesis  Reach  Impact  \\\n",
       "0  Добавить два новых канала привлечения трафика,...      3      10   \n",
       "1  Запустить собственную службу доставки, что сок...      2       5   \n",
       "2  Добавить блоки рекомендаций товаров на сайт ин...      8       3   \n",
       "3  Изменить структура категорий, что увеличит кон...      8       3   \n",
       "4  Изменить цвет фона главной страницы, чтобы уве...      3       1   \n",
       "5  Добавить страницу отзывов клиентов о магазине,...      3       2   \n",
       "6  Показать на главной странице баннеры с актуаль...      5       3   \n",
       "7  Добавить форму подписки на все основные страни...     10       7   \n",
       "8  Запустить акцию, дающую скидку на товар в день...      1       9   \n",
       "\n",
       "   Confidence  Efforts  \n",
       "0           8        6  \n",
       "1           4       10  \n",
       "2           7        3  \n",
       "3           3        8  \n",
       "4           1        1  \n",
       "5           2        3  \n",
       "6           8        3  \n",
       "7           8        5  \n",
       "8           9        5  "
      ]
     },
     "execution_count": 3,
     "metadata": {},
     "output_type": "execute_result"
    }
   ],
   "source": [
    "#посмотрим на полученный датафрейм\n",
    "data"
   ]
  },
  {
   "cell_type": "markdown",
   "metadata": {},
   "source": [
    "Перед нами таблица с гипотезами и их оценками по следующим параметрам: Reach — охват пользователей по 10-балльной шкале;\n",
    "Impact — влияние на пользователей по 10-балльной шкале;\n",
    "Confidence — уверенность в гипотезе по 10-балльной шкале;\n",
    "Efforts — затраты ресурсов на проверку гипотезы по 10-балльной шкале. Чем больше значение Efforts, тем дороже проверка гипотезы."
   ]
  },
  {
   "cell_type": "code",
   "execution_count": 4,
   "metadata": {},
   "outputs": [],
   "source": [
    "pd.set_option('display.max_colwidth', None)"
   ]
  },
  {
   "cell_type": "code",
   "execution_count": 5,
   "metadata": {},
   "outputs": [],
   "source": [
    "#посчитаем ICE для гипотез:\n",
    "data['ICE'] = (data['Impact']*data['Confidence'])/data['Efforts']\n",
    "data['ICE'] = round(data['ICE'], 2)"
   ]
  },
  {
   "cell_type": "code",
   "execution_count": 6,
   "metadata": {},
   "outputs": [
    {
     "data": {
      "text/html": [
       "<div>\n",
       "<style scoped>\n",
       "    .dataframe tbody tr th:only-of-type {\n",
       "        vertical-align: middle;\n",
       "    }\n",
       "\n",
       "    .dataframe tbody tr th {\n",
       "        vertical-align: top;\n",
       "    }\n",
       "\n",
       "    .dataframe thead th {\n",
       "        text-align: right;\n",
       "    }\n",
       "</style>\n",
       "<table border=\"1\" class=\"dataframe\">\n",
       "  <thead>\n",
       "    <tr style=\"text-align: right;\">\n",
       "      <th></th>\n",
       "      <th>Hypothesis</th>\n",
       "      <th>ICE</th>\n",
       "    </tr>\n",
       "  </thead>\n",
       "  <tbody>\n",
       "    <tr>\n",
       "      <th>8</th>\n",
       "      <td>Запустить акцию, дающую скидку на товар в день рождения</td>\n",
       "      <td>16.20</td>\n",
       "    </tr>\n",
       "    <tr>\n",
       "      <th>0</th>\n",
       "      <td>Добавить два новых канала привлечения трафика, что позволит привлекать на 30% больше пользователей</td>\n",
       "      <td>13.33</td>\n",
       "    </tr>\n",
       "    <tr>\n",
       "      <th>7</th>\n",
       "      <td>Добавить форму подписки на все основные страницы, чтобы собрать базу клиентов для email-рассылок</td>\n",
       "      <td>11.20</td>\n",
       "    </tr>\n",
       "    <tr>\n",
       "      <th>6</th>\n",
       "      <td>Показать на главной странице баннеры с актуальными акциями и распродажами, чтобы увеличить конверсию</td>\n",
       "      <td>8.00</td>\n",
       "    </tr>\n",
       "    <tr>\n",
       "      <th>2</th>\n",
       "      <td>Добавить блоки рекомендаций товаров на сайт интернет магазина, чтобы повысить конверсию и средний чек заказа</td>\n",
       "      <td>7.00</td>\n",
       "    </tr>\n",
       "    <tr>\n",
       "      <th>1</th>\n",
       "      <td>Запустить собственную службу доставки, что сократит срок доставки заказов</td>\n",
       "      <td>2.00</td>\n",
       "    </tr>\n",
       "    <tr>\n",
       "      <th>5</th>\n",
       "      <td>Добавить страницу отзывов клиентов о магазине, что позволит увеличить количество заказов</td>\n",
       "      <td>1.33</td>\n",
       "    </tr>\n",
       "    <tr>\n",
       "      <th>3</th>\n",
       "      <td>Изменить структура категорий, что увеличит конверсию, т.к. пользователи быстрее найдут нужный товар</td>\n",
       "      <td>1.12</td>\n",
       "    </tr>\n",
       "    <tr>\n",
       "      <th>4</th>\n",
       "      <td>Изменить цвет фона главной страницы, чтобы увеличить вовлеченность пользователей</td>\n",
       "      <td>1.00</td>\n",
       "    </tr>\n",
       "  </tbody>\n",
       "</table>\n",
       "</div>"
      ],
      "text/plain": [
       "                                                                                                     Hypothesis  \\\n",
       "8                                                       Запустить акцию, дающую скидку на товар в день рождения   \n",
       "0            Добавить два новых канала привлечения трафика, что позволит привлекать на 30% больше пользователей   \n",
       "7              Добавить форму подписки на все основные страницы, чтобы собрать базу клиентов для email-рассылок   \n",
       "6          Показать на главной странице баннеры с актуальными акциями и распродажами, чтобы увеличить конверсию   \n",
       "2  Добавить блоки рекомендаций товаров на сайт интернет магазина, чтобы повысить конверсию и средний чек заказа   \n",
       "1                                     Запустить собственную службу доставки, что сократит срок доставки заказов   \n",
       "5                      Добавить страницу отзывов клиентов о магазине, что позволит увеличить количество заказов   \n",
       "3           Изменить структура категорий, что увеличит конверсию, т.к. пользователи быстрее найдут нужный товар   \n",
       "4                              Изменить цвет фона главной страницы, чтобы увеличить вовлеченность пользователей   \n",
       "\n",
       "     ICE  \n",
       "8  16.20  \n",
       "0  13.33  \n",
       "7  11.20  \n",
       "6   8.00  \n",
       "2   7.00  \n",
       "1   2.00  \n",
       "5   1.33  \n",
       "3   1.12  \n",
       "4   1.00  "
      ]
     },
     "execution_count": 6,
     "metadata": {},
     "output_type": "execute_result"
    }
   ],
   "source": [
    "#выведем ICE на экран\n",
    "data[['Hypothesis', 'ICE']].sort_values(by='ICE', ascending = False)"
   ]
  },
  {
   "cell_type": "markdown",
   "metadata": {},
   "source": [
    "Как видим, наиболее перспективными гипотезами по ICE являются: 8,0 и 7 гипотезы: 8- Запустить акцию, дающую скидку на товар в день рождения, 0- Добавить два новых канала привлечения трафика, что позволит привлекать на 30% больше пользователей и 7-Добавить форму подписки на все основные страницы, чтобы собрать базу клиентов для email-рассылок\t"
   ]
  },
  {
   "cell_type": "markdown",
   "metadata": {},
   "source": [
    "### Приоритизация гипотезы с помощью RICE"
   ]
  },
  {
   "cell_type": "markdown",
   "metadata": {},
   "source": [
    "А теперь посмотрим на гипотезы с учетом того, скольких пользователей затронят изменения, которые мы хотим внести. Для этого используем метод RICE"
   ]
  },
  {
   "cell_type": "code",
   "execution_count": 7,
   "metadata": {},
   "outputs": [],
   "source": [
    "pd.set_option('display.max_colwidth', None)"
   ]
  },
  {
   "cell_type": "code",
   "execution_count": 8,
   "metadata": {},
   "outputs": [],
   "source": [
    "#посчитаем RICE для гипотез:\n",
    "data['RICE'] = (data['Impact']*data['Confidence']*data['Reach'])/data['Efforts']"
   ]
  },
  {
   "cell_type": "code",
   "execution_count": 9,
   "metadata": {},
   "outputs": [
    {
     "data": {
      "text/html": [
       "<div>\n",
       "<style scoped>\n",
       "    .dataframe tbody tr th:only-of-type {\n",
       "        vertical-align: middle;\n",
       "    }\n",
       "\n",
       "    .dataframe tbody tr th {\n",
       "        vertical-align: top;\n",
       "    }\n",
       "\n",
       "    .dataframe thead th {\n",
       "        text-align: right;\n",
       "    }\n",
       "</style>\n",
       "<table border=\"1\" class=\"dataframe\">\n",
       "  <thead>\n",
       "    <tr style=\"text-align: right;\">\n",
       "      <th></th>\n",
       "      <th>Hypothesis</th>\n",
       "      <th>RICE</th>\n",
       "    </tr>\n",
       "  </thead>\n",
       "  <tbody>\n",
       "    <tr>\n",
       "      <th>7</th>\n",
       "      <td>Добавить форму подписки на все основные страницы, чтобы собрать базу клиентов для email-рассылок</td>\n",
       "      <td>112.0</td>\n",
       "    </tr>\n",
       "    <tr>\n",
       "      <th>2</th>\n",
       "      <td>Добавить блоки рекомендаций товаров на сайт интернет магазина, чтобы повысить конверсию и средний чек заказа</td>\n",
       "      <td>56.0</td>\n",
       "    </tr>\n",
       "    <tr>\n",
       "      <th>0</th>\n",
       "      <td>Добавить два новых канала привлечения трафика, что позволит привлекать на 30% больше пользователей</td>\n",
       "      <td>40.0</td>\n",
       "    </tr>\n",
       "    <tr>\n",
       "      <th>6</th>\n",
       "      <td>Показать на главной странице баннеры с актуальными акциями и распродажами, чтобы увеличить конверсию</td>\n",
       "      <td>40.0</td>\n",
       "    </tr>\n",
       "    <tr>\n",
       "      <th>8</th>\n",
       "      <td>Запустить акцию, дающую скидку на товар в день рождения</td>\n",
       "      <td>16.2</td>\n",
       "    </tr>\n",
       "    <tr>\n",
       "      <th>3</th>\n",
       "      <td>Изменить структура категорий, что увеличит конверсию, т.к. пользователи быстрее найдут нужный товар</td>\n",
       "      <td>9.0</td>\n",
       "    </tr>\n",
       "    <tr>\n",
       "      <th>1</th>\n",
       "      <td>Запустить собственную службу доставки, что сократит срок доставки заказов</td>\n",
       "      <td>4.0</td>\n",
       "    </tr>\n",
       "    <tr>\n",
       "      <th>5</th>\n",
       "      <td>Добавить страницу отзывов клиентов о магазине, что позволит увеличить количество заказов</td>\n",
       "      <td>4.0</td>\n",
       "    </tr>\n",
       "    <tr>\n",
       "      <th>4</th>\n",
       "      <td>Изменить цвет фона главной страницы, чтобы увеличить вовлеченность пользователей</td>\n",
       "      <td>3.0</td>\n",
       "    </tr>\n",
       "  </tbody>\n",
       "</table>\n",
       "</div>"
      ],
      "text/plain": [
       "                                                                                                     Hypothesis  \\\n",
       "7              Добавить форму подписки на все основные страницы, чтобы собрать базу клиентов для email-рассылок   \n",
       "2  Добавить блоки рекомендаций товаров на сайт интернет магазина, чтобы повысить конверсию и средний чек заказа   \n",
       "0            Добавить два новых канала привлечения трафика, что позволит привлекать на 30% больше пользователей   \n",
       "6          Показать на главной странице баннеры с актуальными акциями и распродажами, чтобы увеличить конверсию   \n",
       "8                                                       Запустить акцию, дающую скидку на товар в день рождения   \n",
       "3           Изменить структура категорий, что увеличит конверсию, т.к. пользователи быстрее найдут нужный товар   \n",
       "1                                     Запустить собственную службу доставки, что сократит срок доставки заказов   \n",
       "5                      Добавить страницу отзывов клиентов о магазине, что позволит увеличить количество заказов   \n",
       "4                              Изменить цвет фона главной страницы, чтобы увеличить вовлеченность пользователей   \n",
       "\n",
       "    RICE  \n",
       "7  112.0  \n",
       "2   56.0  \n",
       "0   40.0  \n",
       "6   40.0  \n",
       "8   16.2  \n",
       "3    9.0  \n",
       "1    4.0  \n",
       "5    4.0  \n",
       "4    3.0  "
      ]
     },
     "execution_count": 9,
     "metadata": {},
     "output_type": "execute_result"
    }
   ],
   "source": [
    "#выведем RICE на экран\n",
    "data[['Hypothesis', 'RICE']].sort_values(by='RICE', ascending = False)"
   ]
  },
  {
   "cell_type": "markdown",
   "metadata": {},
   "source": [
    "Как видим, наиболее перспективными гипотезами по ICE являются: 7, 2 и 0 гипотезы.\n",
    "Наиболее высокий приоритет теперь у гипотезы №7 (\"Добавить форму подписки на все основные страницы, чтобы собрать базу клиентов для email-рассылок\"), которая получила оценку RICE в 112.0. Это произошло из-за того, что помимо высокого показателя ICE у этой гипотезы также высокий охват (Reach), что означает, что она затронет множество пользователей.\n",
    "\n",
    "Гипотеза №2 (\"Добавить блоки рекомендаций товаров на сайт интернет магазина, чтобы повысить конверсию и средний чек заказа\") также существенно увеличила свой приоритет при использовании RICE. Её рейтинг RICE составил 56.0, что делает её второй по приоритетности. Это объясняется тем, что даже при более низкой оценке по ICE, эта гипотеза имеет высокий охват и достаточно высокий потенциальный эффект. Реализация данной гипотезы предположительно даст маленький эффект и потребует небольших затрат, однако окажет влияние на большое количество пользователей \n",
    "\n",
    "Гипотеза №0 (\"Добавить два новых канала привлечения трафика, что позволит привлекать на 30% больше пользователей\") также сохраняет свою значимость, хотя немного потеряла в приоритетности по сравнению с ICE, теперь занимая третье место с рейтингом RICE 40.0.\n",
    "А вот лидер в рейтинге по ICE гипотеза 8 в топ этого рейтинга не попала, поскольку у данной гипотезы, несмотря на высокие показатели Impact и Confidence, самый низкий охват пользователей."
   ]
  },
  {
   "cell_type": "markdown",
   "metadata": {},
   "source": [
    "Изменение приоритизации гипотез при использовании RICE вместо ICE произошло из-за того, что RICE учитывает не только потенциальный эффект изменений (Impact) и уверенность в его достижении (Confidence), но также охват (Reach), то есть, насколько широко изменения затронут пользователей. Таким образом, гипотезы с высоким охватом, даже если их потенциальный эффект не так велик, могут иметь более высокий приоритет при применении RICE."
   ]
  },
  {
   "cell_type": "markdown",
   "metadata": {},
   "source": [
    "## A/B тестирование"
   ]
  },
  {
   "cell_type": "markdown",
   "metadata": {},
   "source": [
    "Было проведено А/B тестирование, в результате которого получили данные, представленные в файлах orders.csv и visitors.csv\n",
    "Для начала изучим полученные таблицы"
   ]
  },
  {
   "cell_type": "code",
   "execution_count": 10,
   "metadata": {},
   "outputs": [],
   "source": [
    "orders['date'] = orders['date'].map(\n",
    "    lambda x: dt.datetime.strptime(x, '%Y-%m-%d')\n",
    ")"
   ]
  },
  {
   "cell_type": "code",
   "execution_count": 11,
   "metadata": {},
   "outputs": [],
   "source": [
    "visitors['date'] = visitors['date'].map(\n",
    "    lambda x: dt.datetime.strptime(x, '%Y-%m-%d')\n",
    ")"
   ]
  },
  {
   "cell_type": "code",
   "execution_count": 12,
   "metadata": {},
   "outputs": [
    {
     "data": {
      "text/html": [
       "<div>\n",
       "<style scoped>\n",
       "    .dataframe tbody tr th:only-of-type {\n",
       "        vertical-align: middle;\n",
       "    }\n",
       "\n",
       "    .dataframe tbody tr th {\n",
       "        vertical-align: top;\n",
       "    }\n",
       "\n",
       "    .dataframe thead th {\n",
       "        text-align: right;\n",
       "    }\n",
       "</style>\n",
       "<table border=\"1\" class=\"dataframe\">\n",
       "  <thead>\n",
       "    <tr style=\"text-align: right;\">\n",
       "      <th></th>\n",
       "      <th>transactionId</th>\n",
       "      <th>visitorId</th>\n",
       "      <th>date</th>\n",
       "      <th>revenue</th>\n",
       "      <th>group</th>\n",
       "    </tr>\n",
       "  </thead>\n",
       "  <tbody>\n",
       "    <tr>\n",
       "      <th>0</th>\n",
       "      <td>3667963787</td>\n",
       "      <td>3312258926</td>\n",
       "      <td>2019-08-15</td>\n",
       "      <td>1650</td>\n",
       "      <td>B</td>\n",
       "    </tr>\n",
       "    <tr>\n",
       "      <th>1</th>\n",
       "      <td>2804400009</td>\n",
       "      <td>3642806036</td>\n",
       "      <td>2019-08-15</td>\n",
       "      <td>730</td>\n",
       "      <td>B</td>\n",
       "    </tr>\n",
       "    <tr>\n",
       "      <th>2</th>\n",
       "      <td>2961555356</td>\n",
       "      <td>4069496402</td>\n",
       "      <td>2019-08-15</td>\n",
       "      <td>400</td>\n",
       "      <td>A</td>\n",
       "    </tr>\n",
       "    <tr>\n",
       "      <th>3</th>\n",
       "      <td>3797467345</td>\n",
       "      <td>1196621759</td>\n",
       "      <td>2019-08-15</td>\n",
       "      <td>9759</td>\n",
       "      <td>B</td>\n",
       "    </tr>\n",
       "    <tr>\n",
       "      <th>4</th>\n",
       "      <td>2282983706</td>\n",
       "      <td>2322279887</td>\n",
       "      <td>2019-08-15</td>\n",
       "      <td>2308</td>\n",
       "      <td>B</td>\n",
       "    </tr>\n",
       "    <tr>\n",
       "      <th>5</th>\n",
       "      <td>182168103</td>\n",
       "      <td>935554773</td>\n",
       "      <td>2019-08-15</td>\n",
       "      <td>2210</td>\n",
       "      <td>B</td>\n",
       "    </tr>\n",
       "    <tr>\n",
       "      <th>6</th>\n",
       "      <td>398296753</td>\n",
       "      <td>2900797465</td>\n",
       "      <td>2019-08-15</td>\n",
       "      <td>1860</td>\n",
       "      <td>B</td>\n",
       "    </tr>\n",
       "    <tr>\n",
       "      <th>7</th>\n",
       "      <td>2626614568</td>\n",
       "      <td>78758296</td>\n",
       "      <td>2019-08-15</td>\n",
       "      <td>1044</td>\n",
       "      <td>A</td>\n",
       "    </tr>\n",
       "    <tr>\n",
       "      <th>8</th>\n",
       "      <td>1576988021</td>\n",
       "      <td>295230930</td>\n",
       "      <td>2019-08-15</td>\n",
       "      <td>13710</td>\n",
       "      <td>A</td>\n",
       "    </tr>\n",
       "    <tr>\n",
       "      <th>9</th>\n",
       "      <td>1506739906</td>\n",
       "      <td>1882260405</td>\n",
       "      <td>2019-08-15</td>\n",
       "      <td>1855</td>\n",
       "      <td>B</td>\n",
       "    </tr>\n",
       "  </tbody>\n",
       "</table>\n",
       "</div>"
      ],
      "text/plain": [
       "   transactionId   visitorId       date  revenue group\n",
       "0     3667963787  3312258926 2019-08-15     1650     B\n",
       "1     2804400009  3642806036 2019-08-15      730     B\n",
       "2     2961555356  4069496402 2019-08-15      400     A\n",
       "3     3797467345  1196621759 2019-08-15     9759     B\n",
       "4     2282983706  2322279887 2019-08-15     2308     B\n",
       "5      182168103   935554773 2019-08-15     2210     B\n",
       "6      398296753  2900797465 2019-08-15     1860     B\n",
       "7     2626614568    78758296 2019-08-15     1044     A\n",
       "8     1576988021   295230930 2019-08-15    13710     A\n",
       "9     1506739906  1882260405 2019-08-15     1855     B"
      ]
     },
     "execution_count": 12,
     "metadata": {},
     "output_type": "execute_result"
    }
   ],
   "source": [
    "#выведем первые 10 строк на экран датасета orders\n",
    "orders.head(10)"
   ]
  },
  {
   "cell_type": "code",
   "execution_count": 13,
   "metadata": {
    "scrolled": true
   },
   "outputs": [
    {
     "name": "stdout",
     "output_type": "stream",
     "text": [
      "<class 'pandas.core.frame.DataFrame'>\n",
      "RangeIndex: 1197 entries, 0 to 1196\n",
      "Data columns (total 5 columns):\n",
      " #   Column         Non-Null Count  Dtype         \n",
      "---  ------         --------------  -----         \n",
      " 0   transactionId  1197 non-null   int64         \n",
      " 1   visitorId      1197 non-null   int64         \n",
      " 2   date           1197 non-null   datetime64[ns]\n",
      " 3   revenue        1197 non-null   int64         \n",
      " 4   group          1197 non-null   object        \n",
      "dtypes: datetime64[ns](1), int64(3), object(1)\n",
      "memory usage: 46.9+ KB\n"
     ]
    }
   ],
   "source": [
    "# посмотрим на полную информацию о orders\n",
    "orders.info()"
   ]
  },
  {
   "cell_type": "code",
   "execution_count": 14,
   "metadata": {},
   "outputs": [
    {
     "data": {
      "text/plain": [
       "transactionId    0\n",
       "visitorId        0\n",
       "date             0\n",
       "revenue          0\n",
       "group            0\n",
       "dtype: int64"
      ]
     },
     "execution_count": 14,
     "metadata": {},
     "output_type": "execute_result"
    }
   ],
   "source": [
    "#проверим наличие пропусков\n",
    "orders.isna().sum()"
   ]
  },
  {
   "cell_type": "code",
   "execution_count": 15,
   "metadata": {},
   "outputs": [
    {
     "data": {
      "text/plain": [
       "0"
      ]
     },
     "execution_count": 15,
     "metadata": {},
     "output_type": "execute_result"
    }
   ],
   "source": [
    "#проверим наличие дубликатов\n",
    "orders.duplicated().sum()"
   ]
  },
  {
   "cell_type": "code",
   "execution_count": 16,
   "metadata": {},
   "outputs": [
    {
     "data": {
      "text/html": [
       "<div>\n",
       "<style scoped>\n",
       "    .dataframe tbody tr th:only-of-type {\n",
       "        vertical-align: middle;\n",
       "    }\n",
       "\n",
       "    .dataframe tbody tr th {\n",
       "        vertical-align: top;\n",
       "    }\n",
       "\n",
       "    .dataframe thead th {\n",
       "        text-align: right;\n",
       "    }\n",
       "</style>\n",
       "<table border=\"1\" class=\"dataframe\">\n",
       "  <thead>\n",
       "    <tr style=\"text-align: right;\">\n",
       "      <th></th>\n",
       "      <th>date</th>\n",
       "      <th>group</th>\n",
       "      <th>visitors</th>\n",
       "    </tr>\n",
       "  </thead>\n",
       "  <tbody>\n",
       "    <tr>\n",
       "      <th>0</th>\n",
       "      <td>2019-08-01</td>\n",
       "      <td>A</td>\n",
       "      <td>719</td>\n",
       "    </tr>\n",
       "    <tr>\n",
       "      <th>1</th>\n",
       "      <td>2019-08-02</td>\n",
       "      <td>A</td>\n",
       "      <td>619</td>\n",
       "    </tr>\n",
       "    <tr>\n",
       "      <th>2</th>\n",
       "      <td>2019-08-03</td>\n",
       "      <td>A</td>\n",
       "      <td>507</td>\n",
       "    </tr>\n",
       "    <tr>\n",
       "      <th>3</th>\n",
       "      <td>2019-08-04</td>\n",
       "      <td>A</td>\n",
       "      <td>717</td>\n",
       "    </tr>\n",
       "    <tr>\n",
       "      <th>4</th>\n",
       "      <td>2019-08-05</td>\n",
       "      <td>A</td>\n",
       "      <td>756</td>\n",
       "    </tr>\n",
       "    <tr>\n",
       "      <th>5</th>\n",
       "      <td>2019-08-06</td>\n",
       "      <td>A</td>\n",
       "      <td>667</td>\n",
       "    </tr>\n",
       "    <tr>\n",
       "      <th>6</th>\n",
       "      <td>2019-08-07</td>\n",
       "      <td>A</td>\n",
       "      <td>644</td>\n",
       "    </tr>\n",
       "    <tr>\n",
       "      <th>7</th>\n",
       "      <td>2019-08-08</td>\n",
       "      <td>A</td>\n",
       "      <td>610</td>\n",
       "    </tr>\n",
       "    <tr>\n",
       "      <th>8</th>\n",
       "      <td>2019-08-09</td>\n",
       "      <td>A</td>\n",
       "      <td>617</td>\n",
       "    </tr>\n",
       "    <tr>\n",
       "      <th>9</th>\n",
       "      <td>2019-08-10</td>\n",
       "      <td>A</td>\n",
       "      <td>406</td>\n",
       "    </tr>\n",
       "  </tbody>\n",
       "</table>\n",
       "</div>"
      ],
      "text/plain": [
       "        date group  visitors\n",
       "0 2019-08-01     A       719\n",
       "1 2019-08-02     A       619\n",
       "2 2019-08-03     A       507\n",
       "3 2019-08-04     A       717\n",
       "4 2019-08-05     A       756\n",
       "5 2019-08-06     A       667\n",
       "6 2019-08-07     A       644\n",
       "7 2019-08-08     A       610\n",
       "8 2019-08-09     A       617\n",
       "9 2019-08-10     A       406"
      ]
     },
     "execution_count": 16,
     "metadata": {},
     "output_type": "execute_result"
    }
   ],
   "source": [
    "#выведем первые 10 строк на экран датасета visitors\n",
    "visitors.head(10)"
   ]
  },
  {
   "cell_type": "code",
   "execution_count": 17,
   "metadata": {},
   "outputs": [
    {
     "name": "stdout",
     "output_type": "stream",
     "text": [
      "<class 'pandas.core.frame.DataFrame'>\n",
      "RangeIndex: 62 entries, 0 to 61\n",
      "Data columns (total 3 columns):\n",
      " #   Column    Non-Null Count  Dtype         \n",
      "---  ------    --------------  -----         \n",
      " 0   date      62 non-null     datetime64[ns]\n",
      " 1   group     62 non-null     object        \n",
      " 2   visitors  62 non-null     int64         \n",
      "dtypes: datetime64[ns](1), int64(1), object(1)\n",
      "memory usage: 1.6+ KB\n"
     ]
    }
   ],
   "source": [
    "# посмотрим на полную информацию о visitors\n",
    "visitors.info()"
   ]
  },
  {
   "cell_type": "code",
   "execution_count": 18,
   "metadata": {},
   "outputs": [
    {
     "data": {
      "text/plain": [
       "date        0\n",
       "group       0\n",
       "visitors    0\n",
       "dtype: int64"
      ]
     },
     "execution_count": 18,
     "metadata": {},
     "output_type": "execute_result"
    }
   ],
   "source": [
    "#проверим наличие пропусков\n",
    "visitors.isna().sum()"
   ]
  },
  {
   "cell_type": "code",
   "execution_count": 19,
   "metadata": {},
   "outputs": [
    {
     "data": {
      "text/plain": [
       "0"
      ]
     },
     "execution_count": 19,
     "metadata": {},
     "output_type": "execute_result"
    }
   ],
   "source": [
    "#проверим наличие дубликатов\n",
    "visitors.duplicated().sum()"
   ]
  },
  {
   "cell_type": "markdown",
   "metadata": {},
   "source": [
    "При анализе данных таблиц visitors и orders, пропусков и дубликатов не обнаружено. Стоит привести названия столбцов в датафрейме visitors к правильному стилю."
   ]
  },
  {
   "cell_type": "code",
   "execution_count": 20,
   "metadata": {},
   "outputs": [],
   "source": [
    "#поправим названия в таблице visitors\n",
    "orders = orders.rename(columns={'transactionId':'transaction_id', 'visitorId':'visitor_id'})"
   ]
  },
  {
   "cell_type": "code",
   "execution_count": 21,
   "metadata": {},
   "outputs": [
    {
     "data": {
      "text/html": [
       "<div>\n",
       "<style scoped>\n",
       "    .dataframe tbody tr th:only-of-type {\n",
       "        vertical-align: middle;\n",
       "    }\n",
       "\n",
       "    .dataframe tbody tr th {\n",
       "        vertical-align: top;\n",
       "    }\n",
       "\n",
       "    .dataframe thead th {\n",
       "        text-align: right;\n",
       "    }\n",
       "</style>\n",
       "<table border=\"1\" class=\"dataframe\">\n",
       "  <thead>\n",
       "    <tr style=\"text-align: right;\">\n",
       "      <th></th>\n",
       "      <th>transaction_id</th>\n",
       "      <th>visitor_id</th>\n",
       "      <th>date</th>\n",
       "      <th>revenue</th>\n",
       "      <th>group</th>\n",
       "    </tr>\n",
       "  </thead>\n",
       "  <tbody>\n",
       "    <tr>\n",
       "      <th>0</th>\n",
       "      <td>3667963787</td>\n",
       "      <td>3312258926</td>\n",
       "      <td>2019-08-15</td>\n",
       "      <td>1650</td>\n",
       "      <td>B</td>\n",
       "    </tr>\n",
       "    <tr>\n",
       "      <th>1</th>\n",
       "      <td>2804400009</td>\n",
       "      <td>3642806036</td>\n",
       "      <td>2019-08-15</td>\n",
       "      <td>730</td>\n",
       "      <td>B</td>\n",
       "    </tr>\n",
       "    <tr>\n",
       "      <th>2</th>\n",
       "      <td>2961555356</td>\n",
       "      <td>4069496402</td>\n",
       "      <td>2019-08-15</td>\n",
       "      <td>400</td>\n",
       "      <td>A</td>\n",
       "    </tr>\n",
       "    <tr>\n",
       "      <th>3</th>\n",
       "      <td>3797467345</td>\n",
       "      <td>1196621759</td>\n",
       "      <td>2019-08-15</td>\n",
       "      <td>9759</td>\n",
       "      <td>B</td>\n",
       "    </tr>\n",
       "    <tr>\n",
       "      <th>4</th>\n",
       "      <td>2282983706</td>\n",
       "      <td>2322279887</td>\n",
       "      <td>2019-08-15</td>\n",
       "      <td>2308</td>\n",
       "      <td>B</td>\n",
       "    </tr>\n",
       "  </tbody>\n",
       "</table>\n",
       "</div>"
      ],
      "text/plain": [
       "   transaction_id  visitor_id       date  revenue group\n",
       "0      3667963787  3312258926 2019-08-15     1650     B\n",
       "1      2804400009  3642806036 2019-08-15      730     B\n",
       "2      2961555356  4069496402 2019-08-15      400     A\n",
       "3      3797467345  1196621759 2019-08-15     9759     B\n",
       "4      2282983706  2322279887 2019-08-15     2308     B"
      ]
     },
     "execution_count": 21,
     "metadata": {},
     "output_type": "execute_result"
    }
   ],
   "source": [
    "orders.head()"
   ]
  },
  {
   "cell_type": "markdown",
   "metadata": {},
   "source": [
    "Далее выполним проверку, не попадают ли какие-то пользователи в обе группы - по таблице с заказами."
   ]
  },
  {
   "cell_type": "code",
   "execution_count": 22,
   "metadata": {},
   "outputs": [],
   "source": [
    "# сгруппируем данные по visitor_id и подсчет уникальных значений группы\n",
    "group_counts = orders.groupby('visitor_id')['group'].nunique().reset_index()\n",
    "# выберем пользователей, у которых количество уникальных значений группы больше 1\n",
    "users_in_both_groups = group_counts[group_counts['group'] > 1]"
   ]
  },
  {
   "cell_type": "code",
   "execution_count": 23,
   "metadata": {},
   "outputs": [
    {
     "data": {
      "text/html": [
       "<div>\n",
       "<style scoped>\n",
       "    .dataframe tbody tr th:only-of-type {\n",
       "        vertical-align: middle;\n",
       "    }\n",
       "\n",
       "    .dataframe tbody tr th {\n",
       "        vertical-align: top;\n",
       "    }\n",
       "\n",
       "    .dataframe thead th {\n",
       "        text-align: right;\n",
       "    }\n",
       "</style>\n",
       "<table border=\"1\" class=\"dataframe\">\n",
       "  <thead>\n",
       "    <tr style=\"text-align: right;\">\n",
       "      <th></th>\n",
       "      <th>visitor_id</th>\n",
       "      <th>group</th>\n",
       "    </tr>\n",
       "  </thead>\n",
       "  <tbody>\n",
       "    <tr>\n",
       "      <th>2</th>\n",
       "      <td>8300375</td>\n",
       "      <td>2</td>\n",
       "    </tr>\n",
       "    <tr>\n",
       "      <th>44</th>\n",
       "      <td>199603092</td>\n",
       "      <td>2</td>\n",
       "    </tr>\n",
       "    <tr>\n",
       "      <th>51</th>\n",
       "      <td>232979603</td>\n",
       "      <td>2</td>\n",
       "    </tr>\n",
       "    <tr>\n",
       "      <th>55</th>\n",
       "      <td>237748145</td>\n",
       "      <td>2</td>\n",
       "    </tr>\n",
       "    <tr>\n",
       "      <th>66</th>\n",
       "      <td>276558944</td>\n",
       "      <td>2</td>\n",
       "    </tr>\n",
       "    <tr>\n",
       "      <th>84</th>\n",
       "      <td>351125977</td>\n",
       "      <td>2</td>\n",
       "    </tr>\n",
       "    <tr>\n",
       "      <th>97</th>\n",
       "      <td>393266494</td>\n",
       "      <td>2</td>\n",
       "    </tr>\n",
       "    <tr>\n",
       "      <th>114</th>\n",
       "      <td>457167155</td>\n",
       "      <td>2</td>\n",
       "    </tr>\n",
       "    <tr>\n",
       "      <th>119</th>\n",
       "      <td>471551937</td>\n",
       "      <td>2</td>\n",
       "    </tr>\n",
       "    <tr>\n",
       "      <th>122</th>\n",
       "      <td>477780734</td>\n",
       "      <td>2</td>\n",
       "    </tr>\n",
       "    <tr>\n",
       "      <th>192</th>\n",
       "      <td>818047933</td>\n",
       "      <td>2</td>\n",
       "    </tr>\n",
       "    <tr>\n",
       "      <th>236</th>\n",
       "      <td>963407295</td>\n",
       "      <td>2</td>\n",
       "    </tr>\n",
       "    <tr>\n",
       "      <th>299</th>\n",
       "      <td>1230306981</td>\n",
       "      <td>2</td>\n",
       "    </tr>\n",
       "    <tr>\n",
       "      <th>311</th>\n",
       "      <td>1294878855</td>\n",
       "      <td>2</td>\n",
       "    </tr>\n",
       "    <tr>\n",
       "      <th>316</th>\n",
       "      <td>1316129916</td>\n",
       "      <td>2</td>\n",
       "    </tr>\n",
       "    <tr>\n",
       "      <th>318</th>\n",
       "      <td>1333886533</td>\n",
       "      <td>2</td>\n",
       "    </tr>\n",
       "    <tr>\n",
       "      <th>340</th>\n",
       "      <td>1404934699</td>\n",
       "      <td>2</td>\n",
       "    </tr>\n",
       "    <tr>\n",
       "      <th>386</th>\n",
       "      <td>1602967004</td>\n",
       "      <td>2</td>\n",
       "    </tr>\n",
       "    <tr>\n",
       "      <th>393</th>\n",
       "      <td>1614305549</td>\n",
       "      <td>2</td>\n",
       "    </tr>\n",
       "    <tr>\n",
       "      <th>402</th>\n",
       "      <td>1648269707</td>\n",
       "      <td>2</td>\n",
       "    </tr>\n",
       "    <tr>\n",
       "      <th>406</th>\n",
       "      <td>1668030113</td>\n",
       "      <td>2</td>\n",
       "    </tr>\n",
       "    <tr>\n",
       "      <th>422</th>\n",
       "      <td>1738359350</td>\n",
       "      <td>2</td>\n",
       "    </tr>\n",
       "    <tr>\n",
       "      <th>436</th>\n",
       "      <td>1801183820</td>\n",
       "      <td>2</td>\n",
       "    </tr>\n",
       "    <tr>\n",
       "      <th>469</th>\n",
       "      <td>1959144690</td>\n",
       "      <td>2</td>\n",
       "    </tr>\n",
       "    <tr>\n",
       "      <th>487</th>\n",
       "      <td>2038680547</td>\n",
       "      <td>2</td>\n",
       "    </tr>\n",
       "    <tr>\n",
       "      <th>491</th>\n",
       "      <td>2044997962</td>\n",
       "      <td>2</td>\n",
       "    </tr>\n",
       "    <tr>\n",
       "      <th>569</th>\n",
       "      <td>2378935119</td>\n",
       "      <td>2</td>\n",
       "    </tr>\n",
       "    <tr>\n",
       "      <th>591</th>\n",
       "      <td>2458001652</td>\n",
       "      <td>2</td>\n",
       "    </tr>\n",
       "    <tr>\n",
       "      <th>614</th>\n",
       "      <td>2579882178</td>\n",
       "      <td>2</td>\n",
       "    </tr>\n",
       "    <tr>\n",
       "      <th>619</th>\n",
       "      <td>2587333274</td>\n",
       "      <td>2</td>\n",
       "    </tr>\n",
       "    <tr>\n",
       "      <th>622</th>\n",
       "      <td>2600415354</td>\n",
       "      <td>2</td>\n",
       "    </tr>\n",
       "    <tr>\n",
       "      <th>639</th>\n",
       "      <td>2654030115</td>\n",
       "      <td>2</td>\n",
       "    </tr>\n",
       "    <tr>\n",
       "      <th>648</th>\n",
       "      <td>2686716486</td>\n",
       "      <td>2</td>\n",
       "    </tr>\n",
       "    <tr>\n",
       "      <th>661</th>\n",
       "      <td>2712142231</td>\n",
       "      <td>2</td>\n",
       "    </tr>\n",
       "    <tr>\n",
       "      <th>662</th>\n",
       "      <td>2716752286</td>\n",
       "      <td>2</td>\n",
       "    </tr>\n",
       "    <tr>\n",
       "      <th>677</th>\n",
       "      <td>2780786433</td>\n",
       "      <td>2</td>\n",
       "    </tr>\n",
       "    <tr>\n",
       "      <th>710</th>\n",
       "      <td>2927087541</td>\n",
       "      <td>2</td>\n",
       "    </tr>\n",
       "    <tr>\n",
       "      <th>715</th>\n",
       "      <td>2949041841</td>\n",
       "      <td>2</td>\n",
       "    </tr>\n",
       "    <tr>\n",
       "      <th>718</th>\n",
       "      <td>2954449915</td>\n",
       "      <td>2</td>\n",
       "    </tr>\n",
       "    <tr>\n",
       "      <th>744</th>\n",
       "      <td>3062433592</td>\n",
       "      <td>2</td>\n",
       "    </tr>\n",
       "    <tr>\n",
       "      <th>784</th>\n",
       "      <td>3202540741</td>\n",
       "      <td>2</td>\n",
       "    </tr>\n",
       "    <tr>\n",
       "      <th>792</th>\n",
       "      <td>3234906277</td>\n",
       "      <td>2</td>\n",
       "    </tr>\n",
       "    <tr>\n",
       "      <th>884</th>\n",
       "      <td>3656415546</td>\n",
       "      <td>2</td>\n",
       "    </tr>\n",
       "    <tr>\n",
       "      <th>897</th>\n",
       "      <td>3717692402</td>\n",
       "      <td>2</td>\n",
       "    </tr>\n",
       "    <tr>\n",
       "      <th>909</th>\n",
       "      <td>3766097110</td>\n",
       "      <td>2</td>\n",
       "    </tr>\n",
       "    <tr>\n",
       "      <th>917</th>\n",
       "      <td>3803269165</td>\n",
       "      <td>2</td>\n",
       "    </tr>\n",
       "    <tr>\n",
       "      <th>932</th>\n",
       "      <td>3891541246</td>\n",
       "      <td>2</td>\n",
       "    </tr>\n",
       "    <tr>\n",
       "      <th>950</th>\n",
       "      <td>3941795274</td>\n",
       "      <td>2</td>\n",
       "    </tr>\n",
       "    <tr>\n",
       "      <th>954</th>\n",
       "      <td>3951559397</td>\n",
       "      <td>2</td>\n",
       "    </tr>\n",
       "    <tr>\n",
       "      <th>957</th>\n",
       "      <td>3957174400</td>\n",
       "      <td>2</td>\n",
       "    </tr>\n",
       "    <tr>\n",
       "      <th>958</th>\n",
       "      <td>3963646447</td>\n",
       "      <td>2</td>\n",
       "    </tr>\n",
       "    <tr>\n",
       "      <th>960</th>\n",
       "      <td>3972127743</td>\n",
       "      <td>2</td>\n",
       "    </tr>\n",
       "    <tr>\n",
       "      <th>963</th>\n",
       "      <td>3984495233</td>\n",
       "      <td>2</td>\n",
       "    </tr>\n",
       "    <tr>\n",
       "      <th>984</th>\n",
       "      <td>4069496402</td>\n",
       "      <td>2</td>\n",
       "    </tr>\n",
       "    <tr>\n",
       "      <th>992</th>\n",
       "      <td>4120364173</td>\n",
       "      <td>2</td>\n",
       "    </tr>\n",
       "    <tr>\n",
       "      <th>1009</th>\n",
       "      <td>4186807279</td>\n",
       "      <td>2</td>\n",
       "    </tr>\n",
       "    <tr>\n",
       "      <th>1023</th>\n",
       "      <td>4256040402</td>\n",
       "      <td>2</td>\n",
       "    </tr>\n",
       "    <tr>\n",
       "      <th>1026</th>\n",
       "      <td>4266935830</td>\n",
       "      <td>2</td>\n",
       "    </tr>\n",
       "  </tbody>\n",
       "</table>\n",
       "</div>"
      ],
      "text/plain": [
       "      visitor_id  group\n",
       "2        8300375      2\n",
       "44     199603092      2\n",
       "51     232979603      2\n",
       "55     237748145      2\n",
       "66     276558944      2\n",
       "84     351125977      2\n",
       "97     393266494      2\n",
       "114    457167155      2\n",
       "119    471551937      2\n",
       "122    477780734      2\n",
       "192    818047933      2\n",
       "236    963407295      2\n",
       "299   1230306981      2\n",
       "311   1294878855      2\n",
       "316   1316129916      2\n",
       "318   1333886533      2\n",
       "340   1404934699      2\n",
       "386   1602967004      2\n",
       "393   1614305549      2\n",
       "402   1648269707      2\n",
       "406   1668030113      2\n",
       "422   1738359350      2\n",
       "436   1801183820      2\n",
       "469   1959144690      2\n",
       "487   2038680547      2\n",
       "491   2044997962      2\n",
       "569   2378935119      2\n",
       "591   2458001652      2\n",
       "614   2579882178      2\n",
       "619   2587333274      2\n",
       "622   2600415354      2\n",
       "639   2654030115      2\n",
       "648   2686716486      2\n",
       "661   2712142231      2\n",
       "662   2716752286      2\n",
       "677   2780786433      2\n",
       "710   2927087541      2\n",
       "715   2949041841      2\n",
       "718   2954449915      2\n",
       "744   3062433592      2\n",
       "784   3202540741      2\n",
       "792   3234906277      2\n",
       "884   3656415546      2\n",
       "897   3717692402      2\n",
       "909   3766097110      2\n",
       "917   3803269165      2\n",
       "932   3891541246      2\n",
       "950   3941795274      2\n",
       "954   3951559397      2\n",
       "957   3957174400      2\n",
       "958   3963646447      2\n",
       "960   3972127743      2\n",
       "963   3984495233      2\n",
       "984   4069496402      2\n",
       "992   4120364173      2\n",
       "1009  4186807279      2\n",
       "1023  4256040402      2\n",
       "1026  4266935830      2"
      ]
     },
     "execution_count": 23,
     "metadata": {},
     "output_type": "execute_result"
    }
   ],
   "source": [
    "users_in_both_groups"
   ]
  },
  {
   "cell_type": "markdown",
   "metadata": {},
   "source": [
    "Таких пользователей 58. Если пользователи попадают в обе группы A/B-тестирования, это может указывать на наличие проблемы или ошибки в процессе разделения пользователей на группы. Пользователей, попавших в обе группы, можно исключить из анализа результатов тестирования, чтобы не искажать результаты."
   ]
  },
  {
   "cell_type": "code",
   "execution_count": 24,
   "metadata": {},
   "outputs": [],
   "source": [
    "# попробуем удалить пользователей, которые состоят только в одной группе\n",
    "single_group_users = group_counts[group_counts['group'] <= 1]['visitor_id']\n",
    "# Оставим только те строки в датафрейме orders, где visitor_id присутствует в single_group_users\n",
    "orders = orders[orders['visitor_id'].isin(single_group_users)]"
   ]
  },
  {
   "cell_type": "markdown",
   "metadata": {},
   "source": [
    "проверим, остались ли такие пользователи, которые состоят в более, чем 1 группе"
   ]
  },
  {
   "cell_type": "code",
   "execution_count": 25,
   "metadata": {},
   "outputs": [],
   "source": [
    "# сгруппируем данные по visitor_id и подсчет уникальных значений группы\n",
    "group_counts = orders.groupby('visitor_id')['group'].nunique().reset_index()\n",
    "# выберем пользователей, у которых количество уникальных значений группы больше 1\n",
    "users_in_both_groups = group_counts[group_counts['group'] > 1]"
   ]
  },
  {
   "cell_type": "code",
   "execution_count": 26,
   "metadata": {},
   "outputs": [
    {
     "data": {
      "text/html": [
       "<div>\n",
       "<style scoped>\n",
       "    .dataframe tbody tr th:only-of-type {\n",
       "        vertical-align: middle;\n",
       "    }\n",
       "\n",
       "    .dataframe tbody tr th {\n",
       "        vertical-align: top;\n",
       "    }\n",
       "\n",
       "    .dataframe thead th {\n",
       "        text-align: right;\n",
       "    }\n",
       "</style>\n",
       "<table border=\"1\" class=\"dataframe\">\n",
       "  <thead>\n",
       "    <tr style=\"text-align: right;\">\n",
       "      <th></th>\n",
       "      <th>visitor_id</th>\n",
       "      <th>group</th>\n",
       "    </tr>\n",
       "  </thead>\n",
       "  <tbody>\n",
       "  </tbody>\n",
       "</table>\n",
       "</div>"
      ],
      "text/plain": [
       "Empty DataFrame\n",
       "Columns: [visitor_id, group]\n",
       "Index: []"
      ]
     },
     "execution_count": 26,
     "metadata": {},
     "output_type": "execute_result"
    }
   ],
   "source": [
    "users_in_both_groups"
   ]
  },
  {
   "cell_type": "markdown",
   "metadata": {},
   "source": [
    "### График кумулятивной выручки по группам"
   ]
  },
  {
   "cell_type": "markdown",
   "metadata": {},
   "source": [
    "Далее изучим графики кумулятивных, или накапливаемых данных. "
   ]
  },
  {
   "cell_type": "markdown",
   "metadata": {},
   "source": [
    "Для этого сначала подготовим данные"
   ]
  },
  {
   "cell_type": "code",
   "execution_count": 27,
   "metadata": {},
   "outputs": [],
   "source": [
    "#Создадим массив уникальных пар значений дат и групп теста методом drop_duplicates()\n",
    "datesGroups = orders[['date','group']].drop_duplicates() "
   ]
  },
  {
   "cell_type": "code",
   "execution_count": 28,
   "metadata": {},
   "outputs": [
    {
     "data": {
      "text/html": [
       "<div>\n",
       "<style scoped>\n",
       "    .dataframe tbody tr th:only-of-type {\n",
       "        vertical-align: middle;\n",
       "    }\n",
       "\n",
       "    .dataframe tbody tr th {\n",
       "        vertical-align: top;\n",
       "    }\n",
       "\n",
       "    .dataframe thead th {\n",
       "        text-align: right;\n",
       "    }\n",
       "</style>\n",
       "<table border=\"1\" class=\"dataframe\">\n",
       "  <thead>\n",
       "    <tr style=\"text-align: right;\">\n",
       "      <th></th>\n",
       "      <th>date</th>\n",
       "      <th>group</th>\n",
       "    </tr>\n",
       "  </thead>\n",
       "  <tbody>\n",
       "    <tr>\n",
       "      <th>0</th>\n",
       "      <td>2019-08-15</td>\n",
       "      <td>B</td>\n",
       "    </tr>\n",
       "    <tr>\n",
       "      <th>7</th>\n",
       "      <td>2019-08-15</td>\n",
       "      <td>A</td>\n",
       "    </tr>\n",
       "    <tr>\n",
       "      <th>45</th>\n",
       "      <td>2019-08-16</td>\n",
       "      <td>A</td>\n",
       "    </tr>\n",
       "    <tr>\n",
       "      <th>47</th>\n",
       "      <td>2019-08-16</td>\n",
       "      <td>B</td>\n",
       "    </tr>\n",
       "    <tr>\n",
       "      <th>55</th>\n",
       "      <td>2019-08-01</td>\n",
       "      <td>A</td>\n",
       "    </tr>\n",
       "  </tbody>\n",
       "</table>\n",
       "</div>"
      ],
      "text/plain": [
       "         date group\n",
       "0  2019-08-15     B\n",
       "7  2019-08-15     A\n",
       "45 2019-08-16     A\n",
       "47 2019-08-16     B\n",
       "55 2019-08-01     A"
      ]
     },
     "execution_count": 28,
     "metadata": {},
     "output_type": "execute_result"
    }
   ],
   "source": [
    "datesGroups.head()"
   ]
  },
  {
   "cell_type": "markdown",
   "metadata": {},
   "source": [
    "Соберём агрегированные кумулятивные по дням данные о заказах в несколько действий. "
   ]
  },
  {
   "cell_type": "code",
   "execution_count": 29,
   "metadata": {},
   "outputs": [],
   "source": [
    "#Получим строки таблицы orders, дата которых меньше или равна дате элемента из datesGroups\n",
    "#Агрегируем значения\n",
    "ordersAggregated = datesGroups.apply(\n",
    "    lambda x: orders[\n",
    "        np.logical_and(\n",
    "            orders['date'] <= x['date'], orders['group'] == x['group']\n",
    "        )\n",
    "    ].agg(\n",
    "        {\n",
    "            'date': 'max',\n",
    "            'group': 'max',\n",
    "            'transaction_id': 'nunique',\n",
    "            'visitor_id': 'nunique',\n",
    "            'revenue': 'sum',\n",
    "        }\n",
    "    ),\n",
    "    axis=1,\n",
    ").sort_values(by=['date', 'group'])\n"
   ]
  },
  {
   "cell_type": "code",
   "execution_count": 30,
   "metadata": {},
   "outputs": [
    {
     "data": {
      "text/html": [
       "<div>\n",
       "<style scoped>\n",
       "    .dataframe tbody tr th:only-of-type {\n",
       "        vertical-align: middle;\n",
       "    }\n",
       "\n",
       "    .dataframe tbody tr th {\n",
       "        vertical-align: top;\n",
       "    }\n",
       "\n",
       "    .dataframe thead th {\n",
       "        text-align: right;\n",
       "    }\n",
       "</style>\n",
       "<table border=\"1\" class=\"dataframe\">\n",
       "  <thead>\n",
       "    <tr style=\"text-align: right;\">\n",
       "      <th></th>\n",
       "      <th>date</th>\n",
       "      <th>group</th>\n",
       "      <th>transaction_id</th>\n",
       "      <th>visitor_id</th>\n",
       "      <th>revenue</th>\n",
       "    </tr>\n",
       "  </thead>\n",
       "  <tbody>\n",
       "    <tr>\n",
       "      <th>55</th>\n",
       "      <td>2019-08-01</td>\n",
       "      <td>A</td>\n",
       "      <td>23</td>\n",
       "      <td>19</td>\n",
       "      <td>142779</td>\n",
       "    </tr>\n",
       "    <tr>\n",
       "      <th>66</th>\n",
       "      <td>2019-08-01</td>\n",
       "      <td>B</td>\n",
       "      <td>17</td>\n",
       "      <td>17</td>\n",
       "      <td>59758</td>\n",
       "    </tr>\n",
       "    <tr>\n",
       "      <th>175</th>\n",
       "      <td>2019-08-02</td>\n",
       "      <td>A</td>\n",
       "      <td>42</td>\n",
       "      <td>36</td>\n",
       "      <td>234381</td>\n",
       "    </tr>\n",
       "    <tr>\n",
       "      <th>173</th>\n",
       "      <td>2019-08-02</td>\n",
       "      <td>B</td>\n",
       "      <td>40</td>\n",
       "      <td>39</td>\n",
       "      <td>221801</td>\n",
       "    </tr>\n",
       "    <tr>\n",
       "      <th>291</th>\n",
       "      <td>2019-08-03</td>\n",
       "      <td>A</td>\n",
       "      <td>66</td>\n",
       "      <td>60</td>\n",
       "      <td>346854</td>\n",
       "    </tr>\n",
       "    <tr>\n",
       "      <th>...</th>\n",
       "      <td>...</td>\n",
       "      <td>...</td>\n",
       "      <td>...</td>\n",
       "      <td>...</td>\n",
       "      <td>...</td>\n",
       "    </tr>\n",
       "    <tr>\n",
       "      <th>533</th>\n",
       "      <td>2019-08-29</td>\n",
       "      <td>B</td>\n",
       "      <td>510</td>\n",
       "      <td>490</td>\n",
       "      <td>4746610</td>\n",
       "    </tr>\n",
       "    <tr>\n",
       "      <th>757</th>\n",
       "      <td>2019-08-30</td>\n",
       "      <td>A</td>\n",
       "      <td>460</td>\n",
       "      <td>437</td>\n",
       "      <td>3311413</td>\n",
       "    </tr>\n",
       "    <tr>\n",
       "      <th>690</th>\n",
       "      <td>2019-08-30</td>\n",
       "      <td>B</td>\n",
       "      <td>531</td>\n",
       "      <td>511</td>\n",
       "      <td>4955833</td>\n",
       "    </tr>\n",
       "    <tr>\n",
       "      <th>958</th>\n",
       "      <td>2019-08-31</td>\n",
       "      <td>A</td>\n",
       "      <td>468</td>\n",
       "      <td>445</td>\n",
       "      <td>3364656</td>\n",
       "    </tr>\n",
       "    <tr>\n",
       "      <th>930</th>\n",
       "      <td>2019-08-31</td>\n",
       "      <td>B</td>\n",
       "      <td>548</td>\n",
       "      <td>528</td>\n",
       "      <td>5068972</td>\n",
       "    </tr>\n",
       "  </tbody>\n",
       "</table>\n",
       "<p>62 rows × 5 columns</p>\n",
       "</div>"
      ],
      "text/plain": [
       "          date group  transaction_id  visitor_id  revenue\n",
       "55  2019-08-01     A              23          19   142779\n",
       "66  2019-08-01     B              17          17    59758\n",
       "175 2019-08-02     A              42          36   234381\n",
       "173 2019-08-02     B              40          39   221801\n",
       "291 2019-08-03     A              66          60   346854\n",
       "..         ...   ...             ...         ...      ...\n",
       "533 2019-08-29     B             510         490  4746610\n",
       "757 2019-08-30     A             460         437  3311413\n",
       "690 2019-08-30     B             531         511  4955833\n",
       "958 2019-08-31     A             468         445  3364656\n",
       "930 2019-08-31     B             548         528  5068972\n",
       "\n",
       "[62 rows x 5 columns]"
      ]
     },
     "execution_count": 30,
     "metadata": {},
     "output_type": "execute_result"
    }
   ],
   "source": [
    "ordersAggregated"
   ]
  },
  {
   "cell_type": "code",
   "execution_count": 31,
   "metadata": {},
   "outputs": [],
   "source": [
    "#Получим строки таблицы visitors, дата которых меньше или равна дате элемента из datesGroups\n",
    "#Агрегируем значения\n",
    "visitorsAggregated = datesGroups.apply(\n",
    "    lambda x: visitors[\n",
    "        np.logical_and(\n",
    "            visitors['date'] <= x['date'], visitors['group'] == x['group']\n",
    "        )\n",
    "    ].agg({'date': 'max', 'group': 'max', 'visitors': 'sum'}),\n",
    "    axis=1,\n",
    ").sort_values(by=['date', 'group'])"
   ]
  },
  {
   "cell_type": "code",
   "execution_count": 32,
   "metadata": {},
   "outputs": [
    {
     "data": {
      "text/html": [
       "<div>\n",
       "<style scoped>\n",
       "    .dataframe tbody tr th:only-of-type {\n",
       "        vertical-align: middle;\n",
       "    }\n",
       "\n",
       "    .dataframe tbody tr th {\n",
       "        vertical-align: top;\n",
       "    }\n",
       "\n",
       "    .dataframe thead th {\n",
       "        text-align: right;\n",
       "    }\n",
       "</style>\n",
       "<table border=\"1\" class=\"dataframe\">\n",
       "  <thead>\n",
       "    <tr style=\"text-align: right;\">\n",
       "      <th></th>\n",
       "      <th>date</th>\n",
       "      <th>group</th>\n",
       "      <th>visitors</th>\n",
       "    </tr>\n",
       "  </thead>\n",
       "  <tbody>\n",
       "    <tr>\n",
       "      <th>55</th>\n",
       "      <td>2019-08-01</td>\n",
       "      <td>A</td>\n",
       "      <td>719</td>\n",
       "    </tr>\n",
       "    <tr>\n",
       "      <th>66</th>\n",
       "      <td>2019-08-01</td>\n",
       "      <td>B</td>\n",
       "      <td>713</td>\n",
       "    </tr>\n",
       "    <tr>\n",
       "      <th>175</th>\n",
       "      <td>2019-08-02</td>\n",
       "      <td>A</td>\n",
       "      <td>1338</td>\n",
       "    </tr>\n",
       "    <tr>\n",
       "      <th>173</th>\n",
       "      <td>2019-08-02</td>\n",
       "      <td>B</td>\n",
       "      <td>1294</td>\n",
       "    </tr>\n",
       "    <tr>\n",
       "      <th>291</th>\n",
       "      <td>2019-08-03</td>\n",
       "      <td>A</td>\n",
       "      <td>1845</td>\n",
       "    </tr>\n",
       "    <tr>\n",
       "      <th>...</th>\n",
       "      <td>...</td>\n",
       "      <td>...</td>\n",
       "      <td>...</td>\n",
       "    </tr>\n",
       "    <tr>\n",
       "      <th>533</th>\n",
       "      <td>2019-08-29</td>\n",
       "      <td>B</td>\n",
       "      <td>17708</td>\n",
       "    </tr>\n",
       "    <tr>\n",
       "      <th>757</th>\n",
       "      <td>2019-08-30</td>\n",
       "      <td>A</td>\n",
       "      <td>18037</td>\n",
       "    </tr>\n",
       "    <tr>\n",
       "      <th>690</th>\n",
       "      <td>2019-08-30</td>\n",
       "      <td>B</td>\n",
       "      <td>18198</td>\n",
       "    </tr>\n",
       "    <tr>\n",
       "      <th>958</th>\n",
       "      <td>2019-08-31</td>\n",
       "      <td>A</td>\n",
       "      <td>18736</td>\n",
       "    </tr>\n",
       "    <tr>\n",
       "      <th>930</th>\n",
       "      <td>2019-08-31</td>\n",
       "      <td>B</td>\n",
       "      <td>18916</td>\n",
       "    </tr>\n",
       "  </tbody>\n",
       "</table>\n",
       "<p>62 rows × 3 columns</p>\n",
       "</div>"
      ],
      "text/plain": [
       "          date group  visitors\n",
       "55  2019-08-01     A       719\n",
       "66  2019-08-01     B       713\n",
       "175 2019-08-02     A      1338\n",
       "173 2019-08-02     B      1294\n",
       "291 2019-08-03     A      1845\n",
       "..         ...   ...       ...\n",
       "533 2019-08-29     B     17708\n",
       "757 2019-08-30     A     18037\n",
       "690 2019-08-30     B     18198\n",
       "958 2019-08-31     A     18736\n",
       "930 2019-08-31     B     18916\n",
       "\n",
       "[62 rows x 3 columns]"
      ]
     },
     "execution_count": 32,
     "metadata": {},
     "output_type": "execute_result"
    }
   ],
   "source": [
    "visitorsAggregated"
   ]
  },
  {
   "cell_type": "code",
   "execution_count": 33,
   "metadata": {},
   "outputs": [],
   "source": [
    "# объединяем кумулятивные данные в одной таблице и присваиваем ее столбцам понятные названия\n",
    "cumulativeData = ordersAggregated.merge(visitorsAggregated, left_on=['date', 'group'], right_on=['date', 'group'])"
   ]
  },
  {
   "cell_type": "code",
   "execution_count": 34,
   "metadata": {},
   "outputs": [
    {
     "data": {
      "text/html": [
       "<div>\n",
       "<style scoped>\n",
       "    .dataframe tbody tr th:only-of-type {\n",
       "        vertical-align: middle;\n",
       "    }\n",
       "\n",
       "    .dataframe tbody tr th {\n",
       "        vertical-align: top;\n",
       "    }\n",
       "\n",
       "    .dataframe thead th {\n",
       "        text-align: right;\n",
       "    }\n",
       "</style>\n",
       "<table border=\"1\" class=\"dataframe\">\n",
       "  <thead>\n",
       "    <tr style=\"text-align: right;\">\n",
       "      <th></th>\n",
       "      <th>date</th>\n",
       "      <th>group</th>\n",
       "      <th>transaction_id</th>\n",
       "      <th>visitor_id</th>\n",
       "      <th>revenue</th>\n",
       "      <th>visitors</th>\n",
       "    </tr>\n",
       "  </thead>\n",
       "  <tbody>\n",
       "    <tr>\n",
       "      <th>0</th>\n",
       "      <td>2019-08-01</td>\n",
       "      <td>A</td>\n",
       "      <td>23</td>\n",
       "      <td>19</td>\n",
       "      <td>142779</td>\n",
       "      <td>719</td>\n",
       "    </tr>\n",
       "    <tr>\n",
       "      <th>1</th>\n",
       "      <td>2019-08-01</td>\n",
       "      <td>B</td>\n",
       "      <td>17</td>\n",
       "      <td>17</td>\n",
       "      <td>59758</td>\n",
       "      <td>713</td>\n",
       "    </tr>\n",
       "    <tr>\n",
       "      <th>2</th>\n",
       "      <td>2019-08-02</td>\n",
       "      <td>A</td>\n",
       "      <td>42</td>\n",
       "      <td>36</td>\n",
       "      <td>234381</td>\n",
       "      <td>1338</td>\n",
       "    </tr>\n",
       "    <tr>\n",
       "      <th>3</th>\n",
       "      <td>2019-08-02</td>\n",
       "      <td>B</td>\n",
       "      <td>40</td>\n",
       "      <td>39</td>\n",
       "      <td>221801</td>\n",
       "      <td>1294</td>\n",
       "    </tr>\n",
       "    <tr>\n",
       "      <th>4</th>\n",
       "      <td>2019-08-03</td>\n",
       "      <td>A</td>\n",
       "      <td>66</td>\n",
       "      <td>60</td>\n",
       "      <td>346854</td>\n",
       "      <td>1845</td>\n",
       "    </tr>\n",
       "  </tbody>\n",
       "</table>\n",
       "</div>"
      ],
      "text/plain": [
       "        date group  transaction_id  visitor_id  revenue  visitors\n",
       "0 2019-08-01     A              23          19   142779       719\n",
       "1 2019-08-01     B              17          17    59758       713\n",
       "2 2019-08-02     A              42          36   234381      1338\n",
       "3 2019-08-02     B              40          39   221801      1294\n",
       "4 2019-08-03     A              66          60   346854      1845"
      ]
     },
     "execution_count": 34,
     "metadata": {},
     "output_type": "execute_result"
    }
   ],
   "source": [
    "cumulativeData.head()"
   ]
  },
  {
   "cell_type": "code",
   "execution_count": 35,
   "metadata": {},
   "outputs": [],
   "source": [
    "#переименуем полученные данные\n",
    "cumulativeData.columns = ['date', 'group', 'orders', 'buyers', 'revenue', 'visitors']"
   ]
  },
  {
   "cell_type": "code",
   "execution_count": 36,
   "metadata": {},
   "outputs": [
    {
     "data": {
      "text/html": [
       "<div>\n",
       "<style scoped>\n",
       "    .dataframe tbody tr th:only-of-type {\n",
       "        vertical-align: middle;\n",
       "    }\n",
       "\n",
       "    .dataframe tbody tr th {\n",
       "        vertical-align: top;\n",
       "    }\n",
       "\n",
       "    .dataframe thead th {\n",
       "        text-align: right;\n",
       "    }\n",
       "</style>\n",
       "<table border=\"1\" class=\"dataframe\">\n",
       "  <thead>\n",
       "    <tr style=\"text-align: right;\">\n",
       "      <th></th>\n",
       "      <th>date</th>\n",
       "      <th>group</th>\n",
       "      <th>orders</th>\n",
       "      <th>buyers</th>\n",
       "      <th>revenue</th>\n",
       "      <th>visitors</th>\n",
       "    </tr>\n",
       "  </thead>\n",
       "  <tbody>\n",
       "    <tr>\n",
       "      <th>0</th>\n",
       "      <td>2019-08-01</td>\n",
       "      <td>A</td>\n",
       "      <td>23</td>\n",
       "      <td>19</td>\n",
       "      <td>142779</td>\n",
       "      <td>719</td>\n",
       "    </tr>\n",
       "    <tr>\n",
       "      <th>1</th>\n",
       "      <td>2019-08-01</td>\n",
       "      <td>B</td>\n",
       "      <td>17</td>\n",
       "      <td>17</td>\n",
       "      <td>59758</td>\n",
       "      <td>713</td>\n",
       "    </tr>\n",
       "    <tr>\n",
       "      <th>2</th>\n",
       "      <td>2019-08-02</td>\n",
       "      <td>A</td>\n",
       "      <td>42</td>\n",
       "      <td>36</td>\n",
       "      <td>234381</td>\n",
       "      <td>1338</td>\n",
       "    </tr>\n",
       "    <tr>\n",
       "      <th>3</th>\n",
       "      <td>2019-08-02</td>\n",
       "      <td>B</td>\n",
       "      <td>40</td>\n",
       "      <td>39</td>\n",
       "      <td>221801</td>\n",
       "      <td>1294</td>\n",
       "    </tr>\n",
       "    <tr>\n",
       "      <th>4</th>\n",
       "      <td>2019-08-03</td>\n",
       "      <td>A</td>\n",
       "      <td>66</td>\n",
       "      <td>60</td>\n",
       "      <td>346854</td>\n",
       "      <td>1845</td>\n",
       "    </tr>\n",
       "  </tbody>\n",
       "</table>\n",
       "</div>"
      ],
      "text/plain": [
       "        date group  orders  buyers  revenue  visitors\n",
       "0 2019-08-01     A      23      19   142779       719\n",
       "1 2019-08-01     B      17      17    59758       713\n",
       "2 2019-08-02     A      42      36   234381      1338\n",
       "3 2019-08-02     B      40      39   221801      1294\n",
       "4 2019-08-03     A      66      60   346854      1845"
      ]
     },
     "execution_count": 36,
     "metadata": {},
     "output_type": "execute_result"
    }
   ],
   "source": [
    "cumulativeData.head()"
   ]
  },
  {
   "cell_type": "markdown",
   "metadata": {},
   "source": [
    "Объявим переменные cumulativeRevenueA и cumulativeRevenueB, в которых сохраним данные о датах, выручке и числе заказов в группах A и B."
   ]
  },
  {
   "cell_type": "code",
   "execution_count": 37,
   "metadata": {},
   "outputs": [],
   "source": [
    "# датафрейм с кумулятивным количеством заказов и кумулятивной выручкой по дням в группе А\n",
    "cumulativeRevenueA = cumulativeData[cumulativeData['group']=='A'][['date','revenue', 'orders']]"
   ]
  },
  {
   "cell_type": "code",
   "execution_count": 38,
   "metadata": {},
   "outputs": [],
   "source": [
    "# датафрейм с кумулятивным количеством заказов и кумулятивной выручкой по дням в группе B\n",
    "cumulativeRevenueB = cumulativeData[cumulativeData['group']=='B'][['date','revenue', 'orders']]"
   ]
  },
  {
   "cell_type": "code",
   "execution_count": 39,
   "metadata": {},
   "outputs": [
    {
     "data": {
      "image/png": "[encoded data removed]",
      "text/plain": [
       "<Figure size 1080x504 with 1 Axes>"
      ]
     },
     "metadata": {
      "needs_background": "light"
     },
     "output_type": "display_data"
    }
   ],
   "source": [
    "# Строим график выручки группы А\n",
    "plt.plot(cumulativeRevenueA['date'], cumulativeRevenueA['revenue'], label='A')\n",
    "# Строим график выручки группы B\n",
    "plt.plot(cumulativeRevenueB['date'], cumulativeRevenueB['revenue'], label='B')\n",
    "plt.title('График кумулятивной выручки по группам')\n",
    "plt.xlabel('Дата')\n",
    "plt.ylabel('Выручка')\n",
    "plt.legend(title='Группа')\n",
    "plt.gcf().set_size_inches(15, 7) \n",
    "plt.show()"
   ]
  },
  {
   "cell_type": "markdown",
   "metadata": {},
   "source": [
    "Согласно полученному графику, почти сразу группа B вырвалась вперёд и продолжала лидировать весь остаток теста. Не исключено, что резкий рост может быть результатом случайных факторов или выбросов данных. В таком случае необходимо провести более глубокий анализ данных и проверить наличие аномалий или ошибок."
   ]
  },
  {
   "cell_type": "markdown",
   "metadata": {},
   "source": [
    "### График кумулятивного среднего чека по группам"
   ]
  },
  {
   "cell_type": "code",
   "execution_count": 40,
   "metadata": {},
   "outputs": [
    {
     "data": {
      "image/png": "[encoded data removed]",
      "text/plain": [
       "<Figure size 1080x504 with 1 Axes>"
      ]
     },
     "metadata": {
      "needs_background": "light"
     },
     "output_type": "display_data"
    }
   ],
   "source": [
    "# Строим график выручки группы А\n",
    "plt.plot(cumulativeRevenueA['date'], cumulativeRevenueA['revenue']/cumulativeRevenueA['orders'], label='A')\n",
    "# Строим график выручки группы B\n",
    "plt.plot(cumulativeRevenueB['date'], cumulativeRevenueB['revenue']/cumulativeRevenueB['orders'], label='B')\n",
    "plt.title('График кумулятивного среднего чека по группам')\n",
    "plt.xlabel('Дата')\n",
    "plt.ylabel('Выручка')\n",
    "plt.legend(title='Группа')\n",
    "plt.gcf().set_size_inches(15, 7) \n",
    "plt.show()"
   ]
  },
  {
   "cell_type": "markdown",
   "metadata": {},
   "source": [
    "Кумулятивное значение среднего чека колеблется. Хоть группа В сразу же стала лидировать, в середине теста произошел провал. Возможно, требуется дополнительный анализ выбросов, которые могут искажать результаты."
   ]
  },
  {
   "cell_type": "markdown",
   "metadata": {},
   "source": [
    "### График относительного изменения кумулятивного среднего чека группы B к группе A."
   ]
  },
  {
   "cell_type": "code",
   "execution_count": 41,
   "metadata": {},
   "outputs": [],
   "source": [
    "# собираем данные в одном датафрейме\n",
    "mergedCumulativeRevenue = cumulativeRevenueA.merge(cumulativeRevenueB, left_on='date', right_on='date', how='left', suffixes=['A', 'B'])"
   ]
  },
  {
   "cell_type": "code",
   "execution_count": 42,
   "metadata": {},
   "outputs": [
    {
     "data": {
      "image/png": "[encoded data removed]",
      "text/plain": [
       "<Figure size 1080x504 with 1 Axes>"
      ]
     },
     "metadata": {
      "needs_background": "light"
     },
     "output_type": "display_data"
    }
   ],
   "source": [
    "# cтроим отношение средних чеков\n",
    "plt.plot(mergedCumulativeRevenue['date'],\n",
    "(mergedCumulativeRevenue['revenueB']/mergedCumulativeRevenue['ordersB'])/(mergedCumulativeRevenue['revenueA']/mergedCumulativeRevenue['ordersA'])-1)\n",
    "# добавляем ось X\n",
    "plt.axhline(y=0, color='black', linestyle='--') \n",
    "plt.title('График  относительного изменения кумулятивного среднего чека группы B к группе A')\n",
    "plt.xlabel('Дата')\n",
    "plt.ylabel('Относительное изменение среднего чека (группа B / группа A) - 1')\n",
    "plt.gcf().set_size_inches(15, 7) \n",
    "plt.show()"
   ]
  },
  {
   "cell_type": "markdown",
   "metadata": {},
   "source": [
    "Результаты теста значительно и резко менялись в несколько дат. Видимо, именно тогда были совершены аномальные заказы."
   ]
  },
  {
   "cell_type": "markdown",
   "metadata": {},
   "source": [
    "### График кумулятивного среднего количества заказов на посетителя по группам"
   ]
  },
  {
   "cell_type": "code",
   "execution_count": 43,
   "metadata": {},
   "outputs": [],
   "source": [
    "# считаем среднее количество заказов на посетителя\n",
    "cumulativeData['conversion'] = cumulativeData['orders']/cumulativeData['visitors']"
   ]
  },
  {
   "cell_type": "code",
   "execution_count": 44,
   "metadata": {},
   "outputs": [],
   "source": [
    "# отделяем данные по группе A\n",
    "cumulativeDataA = cumulativeData[cumulativeData['group']=='A']"
   ]
  },
  {
   "cell_type": "code",
   "execution_count": 45,
   "metadata": {},
   "outputs": [],
   "source": [
    "# отделяем данные по группе B\n",
    "cumulativeDataB = cumulativeData[cumulativeData['group']=='B']"
   ]
  },
  {
   "cell_type": "code",
   "execution_count": 46,
   "metadata": {},
   "outputs": [
    {
     "data": {
      "image/png": "[encoded data removed]",
      "text/plain": [
       "<Figure size 1080x504 with 1 Axes>"
      ]
     },
     "metadata": {
      "needs_background": "light"
     },
     "output_type": "display_data"
    }
   ],
   "source": [
    "# строим графики\n",
    "plt.plot(cumulativeDataA['date'], cumulativeDataA['conversion'], label='A')\n",
    "plt.plot(cumulativeDataB['date'], cumulativeDataB['conversion'], label='B')\n",
    "plt.title('График кумулятивного среднего количества заказов на посетителя по группам')\n",
    "plt.xlabel('Дата')\n",
    "plt.ylabel('Кумулятивное среднее количество заказов на посетителя')\n",
    "plt.legend(title='Группа')\n",
    "plt.gcf().set_size_inches(15, 7) "
   ]
  },
  {
   "cell_type": "markdown",
   "metadata": {},
   "source": [
    "В начале теста группа A имела большее кумулятивное среднее количество заказов, но постепенно сегмент B выровнялся и зафиксировался примерно около одного значения, больше значения сегмента A."
   ]
  },
  {
   "cell_type": "markdown",
   "metadata": {},
   "source": [
    "### График относительного изменения кумулятивного среднего количества заказов на посетителя группы B к группе A"
   ]
  },
  {
   "cell_type": "code",
   "execution_count": 47,
   "metadata": {},
   "outputs": [],
   "source": [
    "mergedCumulativeConversions = cumulativeDataA[['date','conversion']].merge(cumulativeDataB[['date','conversion']], left_on='date', right_on='date', how='left', suffixes=['A', 'B'])\n"
   ]
  },
  {
   "cell_type": "code",
   "execution_count": 48,
   "metadata": {},
   "outputs": [
    {
     "data": {
      "image/png": "[encoded data removed]",
      "text/plain": [
       "<Figure size 1080x504 with 1 Axes>"
      ]
     },
     "metadata": {
      "needs_background": "light"
     },
     "output_type": "display_data"
    }
   ],
   "source": [
    "plt.plot(mergedCumulativeConversions['date'], mergedCumulativeConversions['conversionB']/mergedCumulativeConversions['conversionA']-1)\n",
    "plt.title('График относительного изменения кумулятивного среднего количества заказов на посетителя группы B к группе A')\n",
    "plt.xlabel('Дата')\n",
    "plt.ylabel('Относительное изменение кумулятивного среднего количества заказов на посетителя, B/A - 1')\n",
    "plt.gcf().set_size_inches(15, 7) \n",
    "plt.axhline(y=0, color='black', linestyle='--')\n",
    "plt.axhline(y=0.15, color='grey', linestyle='--')\n",
    "# Преобразуем даты в объекты datetime\n",
    "start_date = pd.to_datetime('2019-08-01')\n",
    "end_date = pd.to_datetime('2019-09-01')"
   ]
  },
  {
   "cell_type": "markdown",
   "metadata": {},
   "source": [
    "Почти с самого начала теста группа B лидирует по метрике(за исключением провала в районе 03.08 до 06.08): становится лучше и лучше. В районе 15.08 группа зафиксировалась около прироста в 20% относительно группы A, после чего пошел спад до ок 15% и стабилизация. "
   ]
  },
  {
   "cell_type": "markdown",
   "metadata": {},
   "source": [
    "### График количества заказов по пользователям"
   ]
  },
  {
   "cell_type": "code",
   "execution_count": 49,
   "metadata": {},
   "outputs": [],
   "source": [
    "#определим количество заказов для каждого уникального пользователя\n",
    "ordersByUsers = (\n",
    "    orders.groupby('visitor_id', as_index=False)\n",
    "    .agg({'transaction_id': 'nunique'})\n",
    ")"
   ]
  },
  {
   "cell_type": "code",
   "execution_count": 50,
   "metadata": {},
   "outputs": [
    {
     "data": {
      "text/html": [
       "<div>\n",
       "<style scoped>\n",
       "    .dataframe tbody tr th:only-of-type {\n",
       "        vertical-align: middle;\n",
       "    }\n",
       "\n",
       "    .dataframe tbody tr th {\n",
       "        vertical-align: top;\n",
       "    }\n",
       "\n",
       "    .dataframe thead th {\n",
       "        text-align: right;\n",
       "    }\n",
       "</style>\n",
       "<table border=\"1\" class=\"dataframe\">\n",
       "  <thead>\n",
       "    <tr style=\"text-align: right;\">\n",
       "      <th></th>\n",
       "      <th>visitor_id</th>\n",
       "      <th>transaction_id</th>\n",
       "    </tr>\n",
       "  </thead>\n",
       "  <tbody>\n",
       "    <tr>\n",
       "      <th>0</th>\n",
       "      <td>5114589</td>\n",
       "      <td>1</td>\n",
       "    </tr>\n",
       "    <tr>\n",
       "      <th>1</th>\n",
       "      <td>6958315</td>\n",
       "      <td>1</td>\n",
       "    </tr>\n",
       "    <tr>\n",
       "      <th>2</th>\n",
       "      <td>11685486</td>\n",
       "      <td>1</td>\n",
       "    </tr>\n",
       "    <tr>\n",
       "      <th>3</th>\n",
       "      <td>39475350</td>\n",
       "      <td>1</td>\n",
       "    </tr>\n",
       "    <tr>\n",
       "      <th>4</th>\n",
       "      <td>47206413</td>\n",
       "      <td>1</td>\n",
       "    </tr>\n",
       "  </tbody>\n",
       "</table>\n",
       "</div>"
      ],
      "text/plain": [
       "   visitor_id  transaction_id\n",
       "0     5114589               1\n",
       "1     6958315               1\n",
       "2    11685486               1\n",
       "3    39475350               1\n",
       "4    47206413               1"
      ]
     },
     "execution_count": 50,
     "metadata": {},
     "output_type": "execute_result"
    }
   ],
   "source": [
    "#выведем на экран полученную таблицу\n",
    "ordersByUsers.head()"
   ]
  },
  {
   "cell_type": "code",
   "execution_count": 51,
   "metadata": {},
   "outputs": [],
   "source": [
    "#переименуем колонки\n",
    "ordersByUsers.columns = ['user_id', 'orders']"
   ]
  },
  {
   "cell_type": "code",
   "execution_count": 52,
   "metadata": {},
   "outputs": [
    {
     "data": {
      "text/html": [
       "<div>\n",
       "<style scoped>\n",
       "    .dataframe tbody tr th:only-of-type {\n",
       "        vertical-align: middle;\n",
       "    }\n",
       "\n",
       "    .dataframe tbody tr th {\n",
       "        vertical-align: top;\n",
       "    }\n",
       "\n",
       "    .dataframe thead th {\n",
       "        text-align: right;\n",
       "    }\n",
       "</style>\n",
       "<table border=\"1\" class=\"dataframe\">\n",
       "  <thead>\n",
       "    <tr style=\"text-align: right;\">\n",
       "      <th></th>\n",
       "      <th>user_id</th>\n",
       "      <th>orders</th>\n",
       "    </tr>\n",
       "  </thead>\n",
       "  <tbody>\n",
       "    <tr>\n",
       "      <th>0</th>\n",
       "      <td>5114589</td>\n",
       "      <td>1</td>\n",
       "    </tr>\n",
       "    <tr>\n",
       "      <th>1</th>\n",
       "      <td>6958315</td>\n",
       "      <td>1</td>\n",
       "    </tr>\n",
       "    <tr>\n",
       "      <th>2</th>\n",
       "      <td>11685486</td>\n",
       "      <td>1</td>\n",
       "    </tr>\n",
       "    <tr>\n",
       "      <th>3</th>\n",
       "      <td>39475350</td>\n",
       "      <td>1</td>\n",
       "    </tr>\n",
       "    <tr>\n",
       "      <th>4</th>\n",
       "      <td>47206413</td>\n",
       "      <td>1</td>\n",
       "    </tr>\n",
       "  </tbody>\n",
       "</table>\n",
       "</div>"
      ],
      "text/plain": [
       "    user_id  orders\n",
       "0   5114589       1\n",
       "1   6958315       1\n",
       "2  11685486       1\n",
       "3  39475350       1\n",
       "4  47206413       1"
      ]
     },
     "execution_count": 52,
     "metadata": {},
     "output_type": "execute_result"
    }
   ],
   "source": [
    "ordersByUsers.head()"
   ]
  },
  {
   "cell_type": "code",
   "execution_count": 53,
   "metadata": {},
   "outputs": [
    {
     "data": {
      "image/png": "[encoded data removed]",
      "text/plain": [
       "<Figure size 576x360 with 1 Axes>"
      ]
     },
     "metadata": {
      "needs_background": "light"
     },
     "output_type": "display_data"
    }
   ],
   "source": [
    "#Построим диаграмму методом scatter()\n",
    "x_values = pd.Series(range(0, len(ordersByUsers)))\n",
    "plt.scatter(x_values, ordersByUsers['orders']) \n",
    "plt.title('График количества заказов по пользователям')\n",
    "plt.xlabel('Сгенерированные номера наблюдений')\n",
    "plt.ylabel('Количество заказов')\n",
    "plt.gcf().set_size_inches(8, 5) "
   ]
  },
  {
   "cell_type": "markdown",
   "metadata": {},
   "source": [
    "Согласно графику, большинство покупателей заказывали только один раз. Однако, доля пользователей с 2 заказами тоже значительна. Пользователи, заказавшие более 3-х раз вполне могут быть аномальными "
   ]
  },
  {
   "cell_type": "code",
   "execution_count": 54,
   "metadata": {},
   "outputs": [
    {
     "data": {
      "text/plain": [
       "array([1., 1., 2.])"
      ]
     },
     "execution_count": 54,
     "metadata": {},
     "output_type": "execute_result"
    }
   ],
   "source": [
    "#Посчитаем выборочные перцентили количества заказов на одного пользователя:\n",
    "np.percentile(ordersByUsers['orders'], [90, 95, 99])"
   ]
  },
  {
   "cell_type": "markdown",
   "metadata": {},
   "source": [
    "Не более 1% пользователей оформляли больше чем 2 заказа. Скорее всего, пользователей, заказавших более 2-х раз можно считать аномальными"
   ]
  },
  {
   "cell_type": "markdown",
   "metadata": {},
   "source": [
    "### График стоимостей заказов"
   ]
  },
  {
   "cell_type": "code",
   "execution_count": 55,
   "metadata": {},
   "outputs": [
    {
     "data": {
      "image/png": "[encoded data removed]",
      "text/plain": [
       "<Figure size 576x360 with 1 Axes>"
      ]
     },
     "metadata": {
      "needs_background": "light"
     },
     "output_type": "display_data"
    }
   ],
   "source": [
    "#Построим диаграмму методом scatter()\n",
    "x_values = pd.Series(range(0, len(orders['revenue'])))\n",
    "plt.scatter(x_values, orders['revenue']) \n",
    "plt.title('График количества заказов по пользователям')\n",
    "plt.ylabel('Выручка')\n",
    "plt.xlabel('Сгенерированные номера наблюдений')\n",
    "plt.gcf().set_size_inches(8, 5) "
   ]
  },
  {
   "cell_type": "markdown",
   "metadata": {},
   "source": [
    "Большинство заказов приходятся до 100 тыс рублей. Есть единичные выбросы в районе 200 000 и 1 250 000 рублей \n",
    "Из-за таких выбросов сложно рассмотреть более детально диапазон до 100 тыс рублей, поскольку масштаб графика вытягивается"
   ]
  },
  {
   "cell_type": "code",
   "execution_count": 56,
   "metadata": {},
   "outputs": [
    {
     "data": {
      "image/png": "[encoded data removed]",
      "text/plain": [
       "<Figure size 576x360 with 1 Axes>"
      ]
     },
     "metadata": {
      "needs_background": "light"
     },
     "output_type": "display_data"
    }
   ],
   "source": [
    "#попробуем отфильтровать данные до 200 000 руб\n",
    "x_values = pd.Series(range(0, len(orders['revenue'])))\n",
    "filtered_revenue = orders['revenue'][orders['revenue'] <= 200000]\n",
    "plt.scatter(x_values[:len(filtered_revenue)], filtered_revenue) \n",
    "plt.title('График количества заказов по пользователям')\n",
    "plt.ylabel('Выручка')\n",
    "plt.xlabel('Сгенерированные номера наблюдений')\n",
    "plt.gcf().set_size_inches(8, 5)"
   ]
  },
  {
   "cell_type": "markdown",
   "metadata": {},
   "source": [
    "Судя по этому графику, наибольшее количество заказов - заказы до 20000 руб"
   ]
  },
  {
   "cell_type": "code",
   "execution_count": 57,
   "metadata": {},
   "outputs": [
    {
     "data": {
      "text/plain": [
       "array([17990., 26785., 53904.])"
      ]
     },
     "execution_count": 57,
     "metadata": {},
     "output_type": "execute_result"
    }
   ],
   "source": [
    "#Посчитаем выборочные перцентили выручки с заказов по пользователям:\n",
    "np.percentile(orders['revenue'], [90,95,99])"
   ]
  },
  {
   "cell_type": "markdown",
   "metadata": {},
   "source": [
    "Не более, чем у 5% заказов чек дороже 26785 рублей. И не больше, чем у 1% заказов — дороже 53 904 рублей. Все, что больше 53904 тысяч, можно считать аномальными значениями"
   ]
  },
  {
   "cell_type": "markdown",
   "metadata": {},
   "source": [
    "### Расчет статистической значимости различий в среднем количестве заказов на посетителя между группами по «сырым» данным"
   ]
  },
  {
   "cell_type": "markdown",
   "metadata": {},
   "source": [
    "Подготовим данные:"
   ]
  },
  {
   "cell_type": "code",
   "execution_count": 58,
   "metadata": {},
   "outputs": [],
   "source": [
    "visitorsADaily = visitors[visitors['group'] == 'A'][['date', 'visitors']]\n",
    "visitorsADaily.columns = ['date', 'visitorsPerDateA']\n",
    "\n",
    "visitorsACummulative = visitorsADaily.apply(\n",
    "    lambda x: visitorsADaily[visitorsADaily['date'] <= x['date']].agg(\n",
    "        {'date': 'max', 'visitorsPerDateA': 'sum'}\n",
    "    ),\n",
    "    axis=1,\n",
    ")\n",
    "visitorsACummulative.columns = ['date', 'visitorsCummulativeA']"
   ]
  },
  {
   "cell_type": "code",
   "execution_count": 59,
   "metadata": {},
   "outputs": [],
   "source": [
    "visitorsBDaily = visitors[visitors['group'] == 'B'][['date', 'visitors']]\n",
    "visitorsBDaily.columns = ['date', 'visitorsPerDateB']\n",
    "\n",
    "visitorsBCummulative = visitorsBDaily.apply(\n",
    "    lambda x: visitorsBDaily[visitorsBDaily['date'] <= x['date']].agg(\n",
    "        {'date': 'max', 'visitorsPerDateB': 'sum'}\n",
    "    ),\n",
    "    axis=1,\n",
    ")\n",
    "visitorsBCummulative.columns = ['date', 'visitorsCummulativeB']"
   ]
  },
  {
   "cell_type": "code",
   "execution_count": 60,
   "metadata": {},
   "outputs": [],
   "source": [
    "ordersADaily = (\n",
    "    orders[orders['group'] == 'A'][['date', 'transaction_id', 'visitor_id', 'revenue']]\n",
    "    .groupby('date', as_index=False)\n",
    "    .agg({'transaction_id': pd.Series.nunique, 'revenue': 'sum'})\n",
    ")\n",
    "ordersADaily.columns = ['date', 'ordersPerDateA', 'revenuePerDateA']"
   ]
  },
  {
   "cell_type": "code",
   "execution_count": 61,
   "metadata": {},
   "outputs": [
    {
     "data": {
      "text/html": [
       "<div>\n",
       "<style scoped>\n",
       "    .dataframe tbody tr th:only-of-type {\n",
       "        vertical-align: middle;\n",
       "    }\n",
       "\n",
       "    .dataframe tbody tr th {\n",
       "        vertical-align: top;\n",
       "    }\n",
       "\n",
       "    .dataframe thead th {\n",
       "        text-align: right;\n",
       "    }\n",
       "</style>\n",
       "<table border=\"1\" class=\"dataframe\">\n",
       "  <thead>\n",
       "    <tr style=\"text-align: right;\">\n",
       "      <th></th>\n",
       "      <th>date</th>\n",
       "      <th>ordersPerDateA</th>\n",
       "      <th>revenuePerDateA</th>\n",
       "    </tr>\n",
       "  </thead>\n",
       "  <tbody>\n",
       "    <tr>\n",
       "      <th>0</th>\n",
       "      <td>2019-08-01</td>\n",
       "      <td>23</td>\n",
       "      <td>142779</td>\n",
       "    </tr>\n",
       "    <tr>\n",
       "      <th>1</th>\n",
       "      <td>2019-08-02</td>\n",
       "      <td>19</td>\n",
       "      <td>91602</td>\n",
       "    </tr>\n",
       "    <tr>\n",
       "      <th>2</th>\n",
       "      <td>2019-08-03</td>\n",
       "      <td>24</td>\n",
       "      <td>112473</td>\n",
       "    </tr>\n",
       "    <tr>\n",
       "      <th>3</th>\n",
       "      <td>2019-08-04</td>\n",
       "      <td>11</td>\n",
       "      <td>41176</td>\n",
       "    </tr>\n",
       "    <tr>\n",
       "      <th>4</th>\n",
       "      <td>2019-08-05</td>\n",
       "      <td>22</td>\n",
       "      <td>86383</td>\n",
       "    </tr>\n",
       "  </tbody>\n",
       "</table>\n",
       "</div>"
      ],
      "text/plain": [
       "        date  ordersPerDateA  revenuePerDateA\n",
       "0 2019-08-01              23           142779\n",
       "1 2019-08-02              19            91602\n",
       "2 2019-08-03              24           112473\n",
       "3 2019-08-04              11            41176\n",
       "4 2019-08-05              22            86383"
      ]
     },
     "execution_count": 61,
     "metadata": {},
     "output_type": "execute_result"
    }
   ],
   "source": [
    "#выведем на экран полученную таблицу\n",
    "ordersADaily.head()"
   ]
  },
  {
   "cell_type": "code",
   "execution_count": 62,
   "metadata": {},
   "outputs": [],
   "source": [
    "ordersACummulative = ordersADaily.apply(\n",
    "    lambda x: ordersADaily[ordersADaily['date'] <= x['date']].agg(\n",
    "        {'date': 'max', 'ordersPerDateA': 'sum', 'revenuePerDateA': 'sum'}\n",
    "    ),\n",
    "    axis=1,\n",
    ").sort_values(by=['date'])\n",
    "ordersACummulative.columns = [\n",
    "    'date',\n",
    "    'ordersCummulativeA',\n",
    "    'revenueCummulativeA',\n",
    "]"
   ]
  },
  {
   "cell_type": "code",
   "execution_count": 63,
   "metadata": {},
   "outputs": [],
   "source": [
    "ordersBDaily = (\n",
    "    orders[orders['group'] == 'B'][['date', 'transaction_id', 'visitor_id', 'revenue']]\n",
    "    .groupby('date', as_index=False)\n",
    "    .agg({'transaction_id': pd.Series.nunique, 'revenue': 'sum'})\n",
    ")\n",
    "ordersBDaily.columns = ['date', 'ordersPerDateB', 'revenuePerDateB']"
   ]
  },
  {
   "cell_type": "code",
   "execution_count": 64,
   "metadata": {},
   "outputs": [
    {
     "data": {
      "text/html": [
       "<div>\n",
       "<style scoped>\n",
       "    .dataframe tbody tr th:only-of-type {\n",
       "        vertical-align: middle;\n",
       "    }\n",
       "\n",
       "    .dataframe tbody tr th {\n",
       "        vertical-align: top;\n",
       "    }\n",
       "\n",
       "    .dataframe thead th {\n",
       "        text-align: right;\n",
       "    }\n",
       "</style>\n",
       "<table border=\"1\" class=\"dataframe\">\n",
       "  <thead>\n",
       "    <tr style=\"text-align: right;\">\n",
       "      <th></th>\n",
       "      <th>date</th>\n",
       "      <th>ordersPerDateB</th>\n",
       "      <th>revenuePerDateB</th>\n",
       "    </tr>\n",
       "  </thead>\n",
       "  <tbody>\n",
       "    <tr>\n",
       "      <th>0</th>\n",
       "      <td>2019-08-01</td>\n",
       "      <td>17</td>\n",
       "      <td>59758</td>\n",
       "    </tr>\n",
       "    <tr>\n",
       "      <th>1</th>\n",
       "      <td>2019-08-02</td>\n",
       "      <td>23</td>\n",
       "      <td>162043</td>\n",
       "    </tr>\n",
       "    <tr>\n",
       "      <th>2</th>\n",
       "      <td>2019-08-03</td>\n",
       "      <td>14</td>\n",
       "      <td>67049</td>\n",
       "    </tr>\n",
       "    <tr>\n",
       "      <th>3</th>\n",
       "      <td>2019-08-04</td>\n",
       "      <td>14</td>\n",
       "      <td>96890</td>\n",
       "    </tr>\n",
       "    <tr>\n",
       "      <th>4</th>\n",
       "      <td>2019-08-05</td>\n",
       "      <td>21</td>\n",
       "      <td>89908</td>\n",
       "    </tr>\n",
       "  </tbody>\n",
       "</table>\n",
       "</div>"
      ],
      "text/plain": [
       "        date  ordersPerDateB  revenuePerDateB\n",
       "0 2019-08-01              17            59758\n",
       "1 2019-08-02              23           162043\n",
       "2 2019-08-03              14            67049\n",
       "3 2019-08-04              14            96890\n",
       "4 2019-08-05              21            89908"
      ]
     },
     "execution_count": 64,
     "metadata": {},
     "output_type": "execute_result"
    }
   ],
   "source": [
    "#выведем на экран полученную таблицу\n",
    "ordersBDaily.head()"
   ]
  },
  {
   "cell_type": "code",
   "execution_count": 65,
   "metadata": {},
   "outputs": [],
   "source": [
    "ordersBCummulative = ordersBDaily.apply(\n",
    "    lambda x: ordersBDaily[ordersBDaily['date'] <= x['date']].agg(\n",
    "        {'date': 'max', 'ordersPerDateB': 'sum', 'revenuePerDateB': 'sum'}\n",
    "    ),\n",
    "    axis=1,\n",
    ").sort_values(by=['date'])\n",
    "ordersBCummulative.columns = [\n",
    "    'date',\n",
    "    'ordersCummulativeB',\n",
    "    'revenueCummulativeB',\n",
    "]"
   ]
  },
  {
   "cell_type": "code",
   "execution_count": 66,
   "metadata": {},
   "outputs": [],
   "source": [
    "data = (\n",
    "    ordersADaily.merge(\n",
    "        ordersBDaily, left_on='date', right_on='date', how='left'\n",
    "    )\n",
    "    .merge(ordersACummulative, left_on='date', right_on='date', how='left')\n",
    "    .merge(ordersBCummulative, left_on='date', right_on='date', how='left')\n",
    "    .merge(visitorsADaily, left_on='date', right_on='date', how='left')\n",
    "    .merge(visitorsBDaily, left_on='date', right_on='date', how='left')\n",
    "    .merge(visitorsACummulative, left_on='date', right_on='date', how='left')\n",
    "    .merge(visitorsBCummulative, left_on='date', right_on='date', how='left')\n",
    ")"
   ]
  },
  {
   "cell_type": "code",
   "execution_count": 67,
   "metadata": {},
   "outputs": [
    {
     "data": {
      "text/html": [
       "<div>\n",
       "<style scoped>\n",
       "    .dataframe tbody tr th:only-of-type {\n",
       "        vertical-align: middle;\n",
       "    }\n",
       "\n",
       "    .dataframe tbody tr th {\n",
       "        vertical-align: top;\n",
       "    }\n",
       "\n",
       "    .dataframe thead th {\n",
       "        text-align: right;\n",
       "    }\n",
       "</style>\n",
       "<table border=\"1\" class=\"dataframe\">\n",
       "  <thead>\n",
       "    <tr style=\"text-align: right;\">\n",
       "      <th></th>\n",
       "      <th>date</th>\n",
       "      <th>ordersPerDateA</th>\n",
       "      <th>revenuePerDateA</th>\n",
       "      <th>ordersPerDateB</th>\n",
       "      <th>revenuePerDateB</th>\n",
       "      <th>ordersCummulativeA</th>\n",
       "      <th>revenueCummulativeA</th>\n",
       "      <th>ordersCummulativeB</th>\n",
       "      <th>revenueCummulativeB</th>\n",
       "      <th>visitorsPerDateA</th>\n",
       "      <th>visitorsPerDateB</th>\n",
       "      <th>visitorsCummulativeA</th>\n",
       "      <th>visitorsCummulativeB</th>\n",
       "    </tr>\n",
       "  </thead>\n",
       "  <tbody>\n",
       "    <tr>\n",
       "      <th>0</th>\n",
       "      <td>2019-08-01</td>\n",
       "      <td>23</td>\n",
       "      <td>142779</td>\n",
       "      <td>17</td>\n",
       "      <td>59758</td>\n",
       "      <td>23</td>\n",
       "      <td>142779</td>\n",
       "      <td>17</td>\n",
       "      <td>59758</td>\n",
       "      <td>719</td>\n",
       "      <td>713</td>\n",
       "      <td>719</td>\n",
       "      <td>713</td>\n",
       "    </tr>\n",
       "    <tr>\n",
       "      <th>1</th>\n",
       "      <td>2019-08-02</td>\n",
       "      <td>19</td>\n",
       "      <td>91602</td>\n",
       "      <td>23</td>\n",
       "      <td>162043</td>\n",
       "      <td>42</td>\n",
       "      <td>234381</td>\n",
       "      <td>40</td>\n",
       "      <td>221801</td>\n",
       "      <td>619</td>\n",
       "      <td>581</td>\n",
       "      <td>1338</td>\n",
       "      <td>1294</td>\n",
       "    </tr>\n",
       "    <tr>\n",
       "      <th>2</th>\n",
       "      <td>2019-08-03</td>\n",
       "      <td>24</td>\n",
       "      <td>112473</td>\n",
       "      <td>14</td>\n",
       "      <td>67049</td>\n",
       "      <td>66</td>\n",
       "      <td>346854</td>\n",
       "      <td>54</td>\n",
       "      <td>288850</td>\n",
       "      <td>507</td>\n",
       "      <td>509</td>\n",
       "      <td>1845</td>\n",
       "      <td>1803</td>\n",
       "    </tr>\n",
       "    <tr>\n",
       "      <th>3</th>\n",
       "      <td>2019-08-04</td>\n",
       "      <td>11</td>\n",
       "      <td>41176</td>\n",
       "      <td>14</td>\n",
       "      <td>96890</td>\n",
       "      <td>77</td>\n",
       "      <td>388030</td>\n",
       "      <td>68</td>\n",
       "      <td>385740</td>\n",
       "      <td>717</td>\n",
       "      <td>770</td>\n",
       "      <td>2562</td>\n",
       "      <td>2573</td>\n",
       "    </tr>\n",
       "    <tr>\n",
       "      <th>4</th>\n",
       "      <td>2019-08-05</td>\n",
       "      <td>22</td>\n",
       "      <td>86383</td>\n",
       "      <td>21</td>\n",
       "      <td>89908</td>\n",
       "      <td>99</td>\n",
       "      <td>474413</td>\n",
       "      <td>89</td>\n",
       "      <td>475648</td>\n",
       "      <td>756</td>\n",
       "      <td>707</td>\n",
       "      <td>3318</td>\n",
       "      <td>3280</td>\n",
       "    </tr>\n",
       "  </tbody>\n",
       "</table>\n",
       "</div>"
      ],
      "text/plain": [
       "        date  ordersPerDateA  revenuePerDateA  ordersPerDateB  \\\n",
       "0 2019-08-01              23           142779              17   \n",
       "1 2019-08-02              19            91602              23   \n",
       "2 2019-08-03              24           112473              14   \n",
       "3 2019-08-04              11            41176              14   \n",
       "4 2019-08-05              22            86383              21   \n",
       "\n",
       "   revenuePerDateB  ordersCummulativeA  revenueCummulativeA  \\\n",
       "0            59758                  23               142779   \n",
       "1           162043                  42               234381   \n",
       "2            67049                  66               346854   \n",
       "3            96890                  77               388030   \n",
       "4            89908                  99               474413   \n",
       "\n",
       "   ordersCummulativeB  revenueCummulativeB  visitorsPerDateA  \\\n",
       "0                  17                59758               719   \n",
       "1                  40               221801               619   \n",
       "2                  54               288850               507   \n",
       "3                  68               385740               717   \n",
       "4                  89               475648               756   \n",
       "\n",
       "   visitorsPerDateB  visitorsCummulativeA  visitorsCummulativeB  \n",
       "0               713                   719                   713  \n",
       "1               581                  1338                  1294  \n",
       "2               509                  1845                  1803  \n",
       "3               770                  2562                  2573  \n",
       "4               707                  3318                  3280  "
      ]
     },
     "execution_count": 67,
     "metadata": {},
     "output_type": "execute_result"
    }
   ],
   "source": [
    "data.head(5)"
   ]
  },
  {
   "cell_type": "markdown",
   "metadata": {},
   "source": [
    "Получили таблицу со следующими столбцами: \n",
    "- date — дата;\n",
    "- ordersPerDateA — количество заказов в выбранную дату в группе A;\n",
    "- revenuePerDateA — суммарная выручка в выбранную дату в группе A;\n",
    "- ordersPerDateB — количество заказов в выбранную дату в группе B;\n",
    "- revenuePerDateB — суммарная выручка в выбранную дату в группе B;\n",
    "- ordersCummulativeA — суммарное число заказов до выбранной даты включительно в группе A;\n",
    "- revenueCummulativeA — суммарная выручка до выбранной даты включительно в группе A;\n",
    "- ordersCummulativeB — суммарное количество заказов до выбранной даты включительно в группе B;\n",
    "- revenueCummulativeB — суммарная выручка до выбранной даты включительно в группе B;\n",
    "- visitorsPerDateA — количество пользователей в выбранную дату в группе A;\n",
    "- visitorsPerDateB — количество пользователей в выбранную дату в группе B;\n",
    "- visitorsCummulativeA — количество пользователей до выбранной даты включительно в группе A;\n",
    "- visitorsCummulativeB — количество пользователей до выбранной даты включительно в группе B."
   ]
  },
  {
   "cell_type": "markdown",
   "metadata": {},
   "source": [
    "Посчитаем статистическую значимость различия в среднем количестве заказов между группами."
   ]
  },
  {
   "cell_type": "code",
   "execution_count": 68,
   "metadata": {},
   "outputs": [],
   "source": [
    "#Создадим переменные ordersByUsersA и ordersByUsersB со столбцами ['userId', 'orders']\n",
    "#В них для пользователей, которые заказывали хотя бы 1 раз, укажем число совершённых заказов. \n",
    "ordersByUsersA = (\n",
    "    orders[orders['group'] == 'A']\n",
    "    .groupby('visitor_id', as_index=False)\n",
    "    .agg({'transaction_id': pd.Series.nunique})\n",
    ")\n",
    "ordersByUsersA.columns = ['userId', 'orders']\n",
    "\n",
    "ordersByUsersB = (\n",
    "    orders[orders['group'] == 'B']\n",
    "    .groupby('visitor_id', as_index=False)\n",
    "    .agg({'transaction_id': pd.Series.nunique})\n",
    ")\n",
    "ordersByUsersB.columns = ['userId', 'orders']"
   ]
  },
  {
   "cell_type": "code",
   "execution_count": 69,
   "metadata": {},
   "outputs": [],
   "source": [
    "#Объявим переменные sampleA и sampleB, в которых пользователям из разных групп будет соответствовать количество заказов\n",
    "#Тем, кто ничего не заказал, будут соответствовать нули.\n",
    "sampleA = pd.concat(\n",
    "    [\n",
    "        ordersByUsersA['orders'],\n",
    "        pd.Series(\n",
    "            0,\n",
    "            index=np.arange(\n",
    "                data['visitorsPerDateA'].sum() - len(ordersByUsersA['orders'])\n",
    "            ),\n",
    "            name='orders',\n",
    "        ),\n",
    "    ],\n",
    "    axis=0,\n",
    ")"
   ]
  },
  {
   "cell_type": "code",
   "execution_count": 70,
   "metadata": {},
   "outputs": [],
   "source": [
    "sampleB = pd.concat(\n",
    "    [\n",
    "        ordersByUsersB['orders'],\n",
    "        pd.Series(\n",
    "            0,\n",
    "            index=np.arange(\n",
    "                data['visitorsPerDateB'].sum() - len(ordersByUsersB['orders'])\n",
    "            ),\n",
    "            name='orders',\n",
    "        ),\n",
    "    ],\n",
    "    axis=0,\n",
    ")"
   ]
  },
  {
   "cell_type": "markdown",
   "metadata": {},
   "source": [
    "Проверим статистическую значимость различий в среднем количестве заказов на посетителя между группами. \n",
    "- **Нулевая гипотеза**: различий в среднем количестве заказов между группами нет. \n",
    "- **Альтернативная гипотеза**: различия в среднем количестве заказов между группами есть. \n",
    "- Уровень статистической значимости (значение **alpha**) =**0.05**\n",
    "\n",
    "Используем метод mannwhitneyu() для проверки статистической значимости различий в среднем количестве заказов между группами, потому что он подходит для анализа независимых выборок и не требует предположений о распределении данных. Чтобы рассчитать статистическую значимость различий в среднем количестве заказов, передадим критерию mannwhitneyu() данные о выручке с заказов. А ещё найдём относительные различия в среднем чеке между группами:"
   ]
  },
  {
   "cell_type": "code",
   "execution_count": 71,
   "metadata": {},
   "outputs": [
    {
     "name": "stdout",
     "output_type": "stream",
     "text": [
      "p-value: 0.011\n",
      "Относительный прирост среднего числа заказов группы B: 0.160\n"
     ]
    }
   ],
   "source": [
    "# рассчитаем р-value\n",
    "print(\"p-value: {0:.3f}\".format(stats.mannwhitneyu(sampleA, sampleB)[1]))\n",
    "# выведем относительный прирост среднего числа заказов группы B\n",
    "print(\"Относительный прирост среднего числа заказов группы B: {0:.3f}\".format(sampleB.mean() / sampleA.mean() - 1))"
   ]
  },
  {
   "cell_type": "markdown",
   "metadata": {},
   "source": [
    "Первое число — p-value = 0.011 меньше 0.05. Значит, нулевую гипотезу о том, что статистически значимых различий в среднем числе заказов между группами нет, отвергаем. Это означает, что существует статистически значимое различие между группами. Относительный прирост среднего числа заказов в группе B составляет 16%. Это указывает на то, что в группе B среднее количество заказов выше, чем в группе A, и этот прирост является статистически значимым. Итак, на основе этих результатов мы можем сделать вывод, что изменение, внесенное в группе B, скорее всего, положительно повлияло на количество заказов, и это различие является статистически значимым."
   ]
  },
  {
   "cell_type": "markdown",
   "metadata": {},
   "source": [
    "### Расчет статистической значимости различий в среднем чеке заказа между группами по «сырым» данным."
   ]
  },
  {
   "cell_type": "markdown",
   "metadata": {},
   "source": [
    "Теперь проверим статистическую значимость различий в среднем чеке между сегментами. \n",
    "- **Нулевая гипотеза**: различий в среднем чеке между группами нет. \n",
    "- **Альтернативная гипотеза**: различия в среднем чеке между группами есть.\n",
    "- Уровень статистической значимости (значение **alpha**) =**0.05**\n",
    "\n",
    "Чтобы рассчитать статистическую значимость различий в среднем чеке, передадим критерию mannwhitneyu() данные о выручке с заказов.  А ещё найдём относительные различия в среднем чеке между группами:"
   ]
  },
  {
   "cell_type": "code",
   "execution_count": 72,
   "metadata": {},
   "outputs": [
    {
     "name": "stdout",
     "output_type": "stream",
     "text": [
      "p-value: 0.829\n",
      "относительный прирост среднего чека заказа группы B: 0.287\n"
     ]
    }
   ],
   "source": [
    "# рассчитаем р-value\n",
    "print('p-value: {0:.3f}'.format(stats.mannwhitneyu(orders[orders['group']=='A']['revenue'], orders[orders['group']=='B']['revenue'])[1]))\n",
    "# выведем относительный прирост среднего чека заказа группы B\n",
    "print('относительный прирост среднего чека заказа группы B: {0:.3f}'.format(orders[orders['group']=='B']['revenue'].mean()/orders[orders['group']=='A']['revenue'].mean()-1)) "
   ]
  },
  {
   "cell_type": "markdown",
   "metadata": {},
   "source": [
    "Так как p-value (0.829) значительно больше уровня статистической значимости (=0.05), нет достаточных оснований отвергнуть нулевую гипотезу. Это означает, что различий в среднем чеке заказа между группами нет на статистически значимом уровне.\n",
    "Относительный прирост среднего чека заказа в группе B составляет 28.7%, но без статистической значимости этот результат не имеет большого значения. Вероятно, это не является статистически значимым улучшением.Таким образом, по «сырым» данным мы не можем сделать вывод о наличии статистически значимых различий в среднем чеке заказа между группами."
   ]
  },
  {
   "cell_type": "markdown",
   "metadata": {},
   "source": [
    "### Расчет статистической значимости различий в среднем количестве заказов на посетителя между группами по «очищенным» данным."
   ]
  },
  {
   "cell_type": "markdown",
   "metadata": {},
   "source": [
    "Примем за аномальных пользователей тех, кто совершил более 3 заказов или совершил заказ дороже 58 000 рублей. Так мы уберём 1-5% пользователей с наибольшим числом заказов и 1% пользователей с дорогими заказами. Сделаем срезы пользователей с числом заказов больше 3 — usersWithManyOrders и пользователей, совершивших заказы дороже 58 000 — usersWithExpensiveOrders. Объединим их в таблице abnormalUsers. \n",
    "Узнаем, сколько всего аномальных пользователей атрибутом shape."
   ]
  },
  {
   "cell_type": "code",
   "execution_count": 73,
   "metadata": {},
   "outputs": [],
   "source": [
    "usersWithManyOrders = pd.concat(\n",
    "    [\n",
    "        ordersByUsersA[ordersByUsersA['orders'] >  np.percentile(ordersByUsers['orders'], 99)]['userId'],\n",
    "        ordersByUsersB[ordersByUsersB['orders'] >  np.percentile(ordersByUsers['orders'], 99)]['userId'],\n",
    "    ],\n",
    "    axis=0,\n",
    ")\n",
    "usersWithExpensiveOrders = orders[orders['revenue'] > np.percentile(orders['revenue'], 99)]['visitor_id']\n",
    "abnormalUsers = (\n",
    "    pd.concat([usersWithManyOrders, usersWithExpensiveOrders], axis=0)\n",
    "    .drop_duplicates()\n",
    "    .sort_values()\n",
    ")"
   ]
  },
  {
   "cell_type": "code",
   "execution_count": 74,
   "metadata": {},
   "outputs": [
    {
     "data": {
      "text/plain": [
       "16"
      ]
     },
     "execution_count": 74,
     "metadata": {},
     "output_type": "execute_result"
    }
   ],
   "source": [
    "abnormalUsers.head(5)\n",
    "abnormalUsers.shape[0]"
   ]
  },
  {
   "cell_type": "markdown",
   "metadata": {},
   "source": [
    "Получилось всего 16 аномальных пользователей"
   ]
  },
  {
   "cell_type": "markdown",
   "metadata": {},
   "source": [
    "Узнаем, как их действия повлияли на результаты теста. Посчитаем статистическую значимость различий в среднем количестве заказов между группами теста по очищенным данным. Сначала подготовим выборки количества заказов по пользователям по группам теста:\n"
   ]
  },
  {
   "cell_type": "code",
   "execution_count": 75,
   "metadata": {},
   "outputs": [],
   "source": [
    "sampleAFiltered = pd.concat(\n",
    "    [\n",
    "        ordersByUsersA[\n",
    "            np.logical_not(ordersByUsersA['userId'].isin(abnormalUsers))\n",
    "        ]['orders'],\n",
    "        pd.Series(\n",
    "            0,\n",
    "            index=np.arange(\n",
    "                data['visitorsPerDateA'].sum() - len(ordersByUsersA['orders'])\n",
    "            ),\n",
    "            name='orders',\n",
    "        ),\n",
    "    ],\n",
    "    axis=0,\n",
    ")\n",
    "\n",
    "sampleBFiltered = pd.concat(\n",
    "    [\n",
    "        ordersByUsersB[\n",
    "            np.logical_not(ordersByUsersB['userId'].isin(abnormalUsers))\n",
    "        ]['orders'],\n",
    "        pd.Series(\n",
    "            0,\n",
    "            index=np.arange(\n",
    "                data['visitorsPerDateB'].sum() - len(ordersByUsersB['orders'])\n",
    "            ),\n",
    "            name='orders',\n",
    "        ),\n",
    "    ],\n",
    "    axis=0,\n",
    ") "
   ]
  },
  {
   "cell_type": "markdown",
   "metadata": {},
   "source": [
    "Проверим статистическую значимость различий в среднем количестве заказов на посетителя между группами после фильтрации данных.\n",
    "\n",
    "- **Нулевая гипотеза**: различий в среднем количестве заказов между группами нет.\n",
    "- **Альтернативная гипотеза**: различия в среднем количестве заказов между группами есть.\n",
    "- Уровень статистической значимости (значение **alpha**) =**0.05**"
   ]
  },
  {
   "cell_type": "code",
   "execution_count": 76,
   "metadata": {},
   "outputs": [
    {
     "data": {
      "text/plain": [
       "' р-value: 0.007'"
      ]
     },
     "execution_count": 76,
     "metadata": {},
     "output_type": "execute_result"
    }
   ],
   "source": [
    "#Применим статистический критерий Манна-Уитни к полученным выборкам:\n",
    "# рассчитаем р-value\n",
    "' р-value: {0:.3f}'.format(stats.mannwhitneyu(sampleAFiltered, sampleBFiltered)[1])"
   ]
  },
  {
   "cell_type": "code",
   "execution_count": 77,
   "metadata": {},
   "outputs": [
    {
     "data": {
      "text/plain": [
       "'относительный прирост среднего числа заказов группы B: 0.189'"
      ]
     },
     "execution_count": 77,
     "metadata": {},
     "output_type": "execute_result"
    }
   ],
   "source": [
    "# выведем относительный прирост среднего числа заказов группы B\n",
    "'относительный прирост среднего числа заказов группы B: {0:.3f}'.format(sampleBFiltered.mean()/sampleAFiltered.mean()-1)"
   ]
  },
  {
   "cell_type": "markdown",
   "metadata": {},
   "source": [
    "р-value > 0.05 значит, нулевую гипотезу о том, что статистически значимых различий в среднем числе заказов между группами нет, отвергаем. Это означает, что существует статистически значимое различие между группами. До фильтрации данных: р-value = 0.011 и относительный прирост среднего числа заказов группы B = 0.160. После фильтрации аномальных заказов p-value стало меньше, что указывает на более высокую статистическую значимость различий между группами.\n",
    "Относительный прирост среднего числа заказов в группе B также немного увеличился с 0.160 до 0.164.\n",
    "Эти изменения подтверждают, что после фильтрации аномальных заказов различия в среднем количестве заказов на посетителя между группами стали более значимыми статистически. Таким образом, изменения, внесенные в группе B, вероятно, действительно повлияли на количество заказов, и это различие статистически значимо."
   ]
  },
  {
   "cell_type": "markdown",
   "metadata": {},
   "source": [
    "### Расчет статистической значимости различий в среднем чеке заказа между группами по «очищенным» данным."
   ]
  },
  {
   "cell_type": "markdown",
   "metadata": {},
   "source": [
    "Посмотрим, произошло ли что-нибудь с результатами по среднему чеку"
   ]
  },
  {
   "cell_type": "markdown",
   "metadata": {},
   "source": [
    "Теперь проверим статистическую значимость различий в среднем чеке между группами после фильтрации данных\n",
    "\n",
    "- **Нулевая гипотеза**: различий в среднем чеке между группами нет.\n",
    "- **Альтернативная гипотеза**: различия в среднем чеке между группами есть.\n",
    "- Уровень статистической значимости (значение **alpha**) =**0.05**"
   ]
  },
  {
   "cell_type": "code",
   "execution_count": 78,
   "metadata": {},
   "outputs": [
    {
     "data": {
      "text/plain": [
       "'р-value: 0.788'"
      ]
     },
     "execution_count": 78,
     "metadata": {},
     "output_type": "execute_result"
    }
   ],
   "source": [
    "'р-value: {0:.3f}'.format(\n",
    "        stats.mannwhitneyu(\n",
    "            orders[\n",
    "                np.logical_and(\n",
    "                    orders['group'] == 'A',\n",
    "                    np.logical_not(orders['visitor_id'].isin(abnormalUsers)),\n",
    "                )\n",
    "            ]['revenue'],\n",
    "            orders[\n",
    "                np.logical_and(\n",
    "                    orders['group'] == 'B',\n",
    "                    np.logical_not(orders['visitor_id'].isin(abnormalUsers)),\n",
    "                )\n",
    "            ]['revenue'],\n",
    "        )[1]\n",
    "    )"
   ]
  },
  {
   "cell_type": "code",
   "execution_count": 79,
   "metadata": {},
   "outputs": [
    {
     "data": {
      "text/plain": [
       "'относительный прирост среднего чека заказа в группе B: -0.032'"
      ]
     },
     "execution_count": 79,
     "metadata": {},
     "output_type": "execute_result"
    }
   ],
   "source": [
    "\"относительный прирост среднего чека заказа в группе B: {0:.3f}\".format(\n",
    "        orders[\n",
    "            np.logical_and(\n",
    "                orders['group'] == 'B',\n",
    "                np.logical_not(orders['visitor_id'].isin(abnormalUsers)),\n",
    "            )\n",
    "        ]['revenue'].mean()\n",
    "        / orders[\n",
    "            np.logical_and(\n",
    "                orders['group'] == 'A',\n",
    "                np.logical_not(orders['visitor_id'].isin(abnormalUsers)),\n",
    "            )\n",
    "        ]['revenue'].mean()\n",
    "        - 1\n",
    "    )"
   ]
  },
  {
   "cell_type": "markdown",
   "metadata": {},
   "source": [
    "Так как p-value значительно больше уровня статистической значимости, нет достаточных оснований отвергнуть нулевую гипотезу. Это означает, что различий в среднем чеке заказа между группами нет на статистически значимом уровне. Сравнивая эти результаты с исходными данными до фильтрации, где p-value = 0.829 и относительный прирост среднего чека заказа в группе B = 0.287, мы видим, что: После фильтрации аномальных заказов p-value уменьшилось с 0.829 до 0.788. Это означает, что после фильтрации статистически значимых различий в среднем чеке заказа между группами не наблюдается.\n",
    "Относительный прирост среднего чека заказа в группе B изменился с положительного значения (0.287) на небольшое отрицательное значение (-0.032). Это указывает на то, что после фильтрации аномалий средний чек заказа в группе B снизился.\n",
    "Таким образом, после фильтрации аномальных заказов различий в среднем чеке заказа между группами нет на статистически значимом уровне, и относительный прирост среднего чека в группе B стал незначительно отрицательным.\n",
    "Изменение относительного прироста среднего чека группы B после удаления выбросов может быть объяснено изменением самого значения среднего чека в группе B после очистки данных. Когда мы убираем выбросы из данных, мы убираем самые крупные заказы, которые могут сильно исказить среднее значение. Вероятно, в исходных данных в группе B были несколько очень крупных заказов, что повысило средний чек в этой группе. После удаления этих крупных заказов средний чек группы B уменьшился, что привело к изменению его относительного прироста по сравнению с группой A.\n",
    "Отрицательное значение относительного прироста в данном контексте говорит о том, что после удаления выбросов средний чек группы B стал ниже, чем в группе A. Вероятно, это может быть связано с тем, что крупные заказы вносили больший вклад в средний чек группы B, чем в группу A, и после их удаления этот эффект исчез. "
   ]
  },
  {
   "cell_type": "markdown",
   "metadata": {},
   "source": [
    "### Вывод"
   ]
  },
  {
   "cell_type": "markdown",
   "metadata": {},
   "source": [
    "На основании результатов анализа A/B тестирования можно сделать следующие выводы и принять соответствующее решение:\n",
    "Группа B продемонстрировала значительное улучшение в среднем количестве заказов на посетителя по сравнению с группой A как по \"сырым\", так и по \"очищенным\" данным. Это изменение является статистически значимым и вероятно обусловлено проведенными изменениями.\n",
    "Статистически значимых различий в среднем чеке заказа между группами не наблюдается ни по \"сырым\", ни по \"очищенным\" данным. Вероятно, различия, выявленные в начале теста, были вызваны аномальными значениями.\n",
    "Группа B также продемонстрировала увеличение кумулятивной выручки и кумулятивного среднего чека по сравнению с группой A, но не на стабильном уровне, что может быть вызвано аномалиями или естественной вариативностью.\n",
    "Изменения в кумулятивном среднем количестве заказов на посетителя стабилизировались к концу теста, а в кумулятивном среднем чеке заказа подвержены значительным колебаниям, что требует дополнительного анализа и возможно устранения аномалий.\n",
    "Принимая во внимание значительное улучшение в среднем количестве заказов на посетителя в группе B и отсутствие статистически значимых различий в среднем чеке заказа между группами, а также учитывая увеличение кумулятивной выручки и кумулятивного среднего чека, хоть и на непостоянном уровне, предлагается остановить тест и зафиксировать победу группы B.\n",
    "Это решение обосновано тем, что группа B продемонстрировала значительное улучшение ключевого показателя – среднего количества заказов на посетителя, что важно для бизнеса, и не наблюдалось статистически значимых различий в среднем чеке заказа. Также, учитывая нестабильность кумулятивной выручки и кумулятивного среднего чека в группе B, возможно, требуется дополнительный анализ и устранение аномалий, но основные тенденции уже позволяют сделать вывод о выигрыше группы B."
   ]
  }
 ],
 "metadata": {
  "ExecuteTimeLog": [
   {
    "duration": 4,
    "start_time": "2024-02-27T04:54:20.777Z"
   },
   {
    "duration": 1432,
    "start_time": "2024-02-27T04:55:34.110Z"
   },
   {
    "duration": 3,
    "start_time": "2024-02-27T04:56:49.613Z"
   },
   {
    "duration": 69,
    "start_time": "2024-02-27T04:58:19.582Z"
   },
   {
    "duration": 12,
    "start_time": "2024-02-27T04:58:44.676Z"
   },
   {
    "duration": 6,
    "start_time": "2024-02-27T05:03:17.968Z"
   },
   {
    "duration": 106,
    "start_time": "2024-02-27T05:04:53.511Z"
   },
   {
    "duration": 10,
    "start_time": "2024-02-27T05:05:20.907Z"
   },
   {
    "duration": 9,
    "start_time": "2024-02-27T05:09:12.860Z"
   },
   {
    "duration": 3,
    "start_time": "2024-02-27T05:09:24.082Z"
   },
   {
    "duration": 11,
    "start_time": "2024-02-27T05:13:08.571Z"
   },
   {
    "duration": 11,
    "start_time": "2024-02-27T05:13:30.258Z"
   },
   {
    "duration": 5,
    "start_time": "2024-02-27T05:13:43.077Z"
   },
   {
    "duration": 5,
    "start_time": "2024-02-27T05:13:49.122Z"
   },
   {
    "duration": 7,
    "start_time": "2024-02-27T05:13:56.486Z"
   },
   {
    "duration": 9,
    "start_time": "2024-02-27T05:14:23.351Z"
   },
   {
    "duration": 27,
    "start_time": "2024-02-27T05:14:52.144Z"
   },
   {
    "duration": 9,
    "start_time": "2024-02-27T05:14:53.228Z"
   },
   {
    "duration": 3,
    "start_time": "2024-02-27T05:14:59.610Z"
   },
   {
    "duration": 11,
    "start_time": "2024-02-27T05:16:11.897Z"
   },
   {
    "duration": 4,
    "start_time": "2024-02-27T05:16:21.519Z"
   },
   {
    "duration": 9,
    "start_time": "2024-02-27T05:16:23.155Z"
   },
   {
    "duration": 5,
    "start_time": "2024-02-27T05:21:05.201Z"
   },
   {
    "duration": 17,
    "start_time": "2024-02-27T05:21:28.087Z"
   },
   {
    "duration": 4,
    "start_time": "2024-02-27T05:21:44.444Z"
   },
   {
    "duration": 11,
    "start_time": "2024-02-27T05:21:45.458Z"
   },
   {
    "duration": 3,
    "start_time": "2024-02-27T06:08:40.132Z"
   },
   {
    "duration": 46,
    "start_time": "2024-02-27T06:08:40.137Z"
   },
   {
    "duration": 8,
    "start_time": "2024-02-27T06:08:40.185Z"
   },
   {
    "duration": 18,
    "start_time": "2024-02-27T06:08:40.194Z"
   },
   {
    "duration": 30,
    "start_time": "2024-02-27T06:08:40.214Z"
   },
   {
    "duration": 14,
    "start_time": "2024-02-27T06:08:40.246Z"
   },
   {
    "duration": 11,
    "start_time": "2024-02-27T06:08:40.261Z"
   },
   {
    "duration": 25,
    "start_time": "2024-02-27T06:08:40.274Z"
   },
   {
    "duration": 108,
    "start_time": "2024-02-27T06:08:40.300Z"
   },
   {
    "duration": 4,
    "start_time": "2024-02-27T09:01:00.007Z"
   },
   {
    "duration": 27,
    "start_time": "2024-02-27T09:01:00.245Z"
   },
   {
    "duration": 113,
    "start_time": "2024-02-27T09:01:00.274Z"
   },
   {
    "duration": 159,
    "start_time": "2024-02-27T09:01:00.389Z"
   },
   {
    "duration": 94,
    "start_time": "2024-02-27T09:01:00.549Z"
   },
   {
    "duration": 114,
    "start_time": "2024-02-27T09:01:00.645Z"
   },
   {
    "duration": 356,
    "start_time": "2024-02-27T09:01:00.761Z"
   },
   {
    "duration": 165,
    "start_time": "2024-02-27T09:01:01.119Z"
   },
   {
    "duration": 40,
    "start_time": "2024-02-27T09:01:01.286Z"
   },
   {
    "duration": 88,
    "start_time": "2024-02-27T09:15:51.952Z"
   },
   {
    "duration": 81,
    "start_time": "2024-02-27T09:16:12.824Z"
   },
   {
    "duration": 2,
    "start_time": "2024-02-27T09:17:10.622Z"
   },
   {
    "duration": 40,
    "start_time": "2024-02-27T09:17:10.626Z"
   },
   {
    "duration": 8,
    "start_time": "2024-02-27T09:17:10.668Z"
   },
   {
    "duration": 31,
    "start_time": "2024-02-27T09:17:10.677Z"
   },
   {
    "duration": 17,
    "start_time": "2024-02-27T09:17:10.710Z"
   },
   {
    "duration": 9,
    "start_time": "2024-02-27T09:17:10.859Z"
   },
   {
    "duration": 11,
    "start_time": "2024-02-27T09:17:10.870Z"
   },
   {
    "duration": 7,
    "start_time": "2024-02-27T09:17:10.883Z"
   },
   {
    "duration": 20,
    "start_time": "2024-02-27T09:17:10.891Z"
   },
   {
    "duration": 53,
    "start_time": "2024-02-27T09:17:10.913Z"
   },
   {
    "duration": 55,
    "start_time": "2024-02-27T09:17:10.968Z"
   },
   {
    "duration": 9,
    "start_time": "2024-02-27T09:17:44.774Z"
   },
   {
    "duration": 8,
    "start_time": "2024-02-27T09:18:50.725Z"
   },
   {
    "duration": 561,
    "start_time": "2024-02-27T09:28:14.942Z"
   },
   {
    "duration": 3,
    "start_time": "2024-02-27T09:29:04.363Z"
   },
   {
    "duration": 56,
    "start_time": "2024-02-27T09:29:04.367Z"
   },
   {
    "duration": 12,
    "start_time": "2024-02-27T09:29:04.425Z"
   },
   {
    "duration": 29,
    "start_time": "2024-02-27T09:29:04.439Z"
   },
   {
    "duration": 50,
    "start_time": "2024-02-27T09:29:04.470Z"
   },
   {
    "duration": 45,
    "start_time": "2024-02-27T09:29:04.522Z"
   },
   {
    "duration": 24,
    "start_time": "2024-02-27T09:29:04.569Z"
   },
   {
    "duration": 25,
    "start_time": "2024-02-27T09:29:04.595Z"
   },
   {
    "duration": 53,
    "start_time": "2024-02-27T09:29:04.621Z"
   },
   {
    "duration": 503,
    "start_time": "2024-02-27T09:29:04.677Z"
   },
   {
    "duration": 0,
    "start_time": "2024-02-27T09:29:05.181Z"
   },
   {
    "duration": 0,
    "start_time": "2024-02-27T09:29:05.183Z"
   },
   {
    "duration": 0,
    "start_time": "2024-02-27T09:29:05.184Z"
   },
   {
    "duration": 58,
    "start_time": "2024-02-27T09:30:17.719Z"
   },
   {
    "duration": 421,
    "start_time": "2024-02-27T09:30:34.585Z"
   },
   {
    "duration": 12,
    "start_time": "2024-02-27T09:30:36.167Z"
   },
   {
    "duration": 27,
    "start_time": "2024-02-27T09:30:47.879Z"
   },
   {
    "duration": 9,
    "start_time": "2024-02-27T09:30:49.742Z"
   },
   {
    "duration": 8,
    "start_time": "2024-02-27T09:30:53.306Z"
   },
   {
    "duration": 9,
    "start_time": "2024-02-27T09:33:26.117Z"
   },
   {
    "duration": 4,
    "start_time": "2024-02-27T09:33:44.479Z"
   },
   {
    "duration": 8,
    "start_time": "2024-02-27T09:33:59.583Z"
   },
   {
    "duration": 5,
    "start_time": "2024-02-27T09:34:40.481Z"
   },
   {
    "duration": 8,
    "start_time": "2024-02-27T09:34:41.012Z"
   },
   {
    "duration": 7,
    "start_time": "2024-02-27T09:43:20.195Z"
   },
   {
    "duration": 6,
    "start_time": "2024-02-27T09:43:54.284Z"
   },
   {
    "duration": 3,
    "start_time": "2024-02-27T09:47:57.245Z"
   },
   {
    "duration": 28,
    "start_time": "2024-02-27T09:47:57.250Z"
   },
   {
    "duration": 9,
    "start_time": "2024-02-27T09:47:57.279Z"
   },
   {
    "duration": 41,
    "start_time": "2024-02-27T09:47:57.289Z"
   },
   {
    "duration": 32,
    "start_time": "2024-02-27T09:47:57.332Z"
   },
   {
    "duration": 19,
    "start_time": "2024-02-27T09:47:57.365Z"
   },
   {
    "duration": 13,
    "start_time": "2024-02-27T09:47:57.386Z"
   },
   {
    "duration": 18,
    "start_time": "2024-02-27T09:47:57.400Z"
   },
   {
    "duration": 11,
    "start_time": "2024-02-27T09:47:57.420Z"
   },
   {
    "duration": 50,
    "start_time": "2024-02-27T09:47:57.432Z"
   },
   {
    "duration": 17,
    "start_time": "2024-02-27T09:47:57.485Z"
   },
   {
    "duration": 10,
    "start_time": "2024-02-27T09:47:57.504Z"
   },
   {
    "duration": 17,
    "start_time": "2024-02-27T09:47:57.516Z"
   },
   {
    "duration": 23,
    "start_time": "2024-02-27T09:47:57.535Z"
   },
   {
    "duration": 27,
    "start_time": "2024-02-27T09:47:57.559Z"
   },
   {
    "duration": 30,
    "start_time": "2024-02-27T09:47:57.588Z"
   },
   {
    "duration": 10,
    "start_time": "2024-02-27T09:48:49.443Z"
   },
   {
    "duration": 174,
    "start_time": "2024-02-27T10:02:28.770Z"
   },
   {
    "duration": 14,
    "start_time": "2024-02-27T10:03:55.111Z"
   },
   {
    "duration": 10,
    "start_time": "2024-02-27T10:04:14.683Z"
   },
   {
    "duration": 11,
    "start_time": "2024-02-27T10:04:27.611Z"
   },
   {
    "duration": 129,
    "start_time": "2024-02-27T10:04:35.126Z"
   },
   {
    "duration": 11,
    "start_time": "2024-02-27T10:04:36.341Z"
   },
   {
    "duration": 11,
    "start_time": "2024-02-27T10:32:32.781Z"
   },
   {
    "duration": 8,
    "start_time": "2024-02-27T10:32:39.445Z"
   },
   {
    "duration": 10,
    "start_time": "2024-02-27T10:32:39.904Z"
   },
   {
    "duration": 3,
    "start_time": "2024-02-27T10:33:16.981Z"
   },
   {
    "duration": 8,
    "start_time": "2024-02-27T10:33:26.287Z"
   },
   {
    "duration": 7,
    "start_time": "2024-02-27T10:35:22.678Z"
   },
   {
    "duration": 4,
    "start_time": "2024-02-27T10:35:29.597Z"
   },
   {
    "duration": 256,
    "start_time": "2024-02-27T10:35:40.129Z"
   },
   {
    "duration": 159,
    "start_time": "2024-02-27T10:35:49.619Z"
   },
   {
    "duration": 196,
    "start_time": "2024-02-27T10:36:11.784Z"
   },
   {
    "duration": 182,
    "start_time": "2024-02-27T10:36:31.282Z"
   },
   {
    "duration": 268,
    "start_time": "2024-02-27T10:39:30.082Z"
   },
   {
    "duration": 247,
    "start_time": "2024-02-27T12:04:45.163Z"
   },
   {
    "duration": 234,
    "start_time": "2024-02-27T12:05:16.718Z"
   },
   {
    "duration": 15,
    "start_time": "2024-02-27T13:09:03.694Z"
   },
   {
    "duration": 8,
    "start_time": "2024-02-27T13:09:34.699Z"
   },
   {
    "duration": 388,
    "start_time": "2024-02-27T13:09:35.526Z"
   },
   {
    "duration": 349,
    "start_time": "2024-02-27T13:11:15.280Z"
   },
   {
    "duration": 333,
    "start_time": "2024-02-27T13:11:36.054Z"
   },
   {
    "duration": 4,
    "start_time": "2024-02-27T13:14:35.304Z"
   },
   {
    "duration": 3,
    "start_time": "2024-02-27T13:14:44.331Z"
   },
   {
    "duration": 4,
    "start_time": "2024-02-27T13:14:51.891Z"
   },
   {
    "duration": 162,
    "start_time": "2024-02-27T13:15:08.282Z"
   },
   {
    "duration": 440,
    "start_time": "2024-02-27T13:18:26.952Z"
   },
   {
    "duration": 393,
    "start_time": "2024-02-27T13:18:42.805Z"
   },
   {
    "duration": 243,
    "start_time": "2024-02-27T13:19:42.985Z"
   },
   {
    "duration": 222,
    "start_time": "2024-02-27T13:20:20.637Z"
   },
   {
    "duration": 243,
    "start_time": "2024-02-27T13:20:38.980Z"
   },
   {
    "duration": 9,
    "start_time": "2024-02-27T13:30:02.562Z"
   },
   {
    "duration": 242,
    "start_time": "2024-02-27T13:32:28.906Z"
   },
   {
    "duration": 492,
    "start_time": "2024-02-27T13:32:36.582Z"
   },
   {
    "duration": 365,
    "start_time": "2024-02-27T13:33:11.199Z"
   },
   {
    "duration": 331,
    "start_time": "2024-02-27T13:33:31.405Z"
   },
   {
    "duration": 345,
    "start_time": "2024-02-27T13:35:57.469Z"
   },
   {
    "duration": 316,
    "start_time": "2024-02-27T13:36:26.221Z"
   },
   {
    "duration": 293,
    "start_time": "2024-02-27T13:37:11.026Z"
   },
   {
    "duration": 299,
    "start_time": "2024-02-27T13:40:37.230Z"
   },
   {
    "duration": 15,
    "start_time": "2024-02-27T13:50:12.518Z"
   },
   {
    "duration": 8,
    "start_time": "2024-02-27T13:51:21.382Z"
   },
   {
    "duration": 7,
    "start_time": "2024-02-27T13:53:12.865Z"
   },
   {
    "duration": 3,
    "start_time": "2024-02-27T13:53:21.155Z"
   },
   {
    "duration": 3,
    "start_time": "2024-02-27T13:53:29.470Z"
   },
   {
    "duration": 7,
    "start_time": "2024-02-27T13:53:43.613Z"
   },
   {
    "duration": 128,
    "start_time": "2024-02-27T13:59:02.027Z"
   },
   {
    "duration": 5,
    "start_time": "2024-02-27T14:01:46.437Z"
   },
   {
    "duration": 152,
    "start_time": "2024-02-27T14:06:09.286Z"
   },
   {
    "duration": 129,
    "start_time": "2024-02-27T14:06:21.142Z"
   },
   {
    "duration": 125,
    "start_time": "2024-02-27T14:06:32.671Z"
   },
   {
    "duration": 141,
    "start_time": "2024-02-27T14:06:38.613Z"
   },
   {
    "duration": 159,
    "start_time": "2024-02-27T14:12:28.830Z"
   },
   {
    "duration": 154,
    "start_time": "2024-02-27T14:14:59.219Z"
   },
   {
    "duration": 6,
    "start_time": "2024-02-27T14:19:48.815Z"
   },
   {
    "duration": 297,
    "start_time": "2024-02-27T14:24:00.364Z"
   },
   {
    "duration": 166,
    "start_time": "2024-02-27T14:24:28.697Z"
   },
   {
    "duration": 50,
    "start_time": "2024-02-27T14:35:17.417Z"
   },
   {
    "duration": 48,
    "start_time": "2024-02-27T14:35:21.333Z"
   },
   {
    "duration": 22,
    "start_time": "2024-02-27T14:36:34.354Z"
   },
   {
    "duration": 19,
    "start_time": "2024-02-27T14:38:00.909Z"
   },
   {
    "duration": 51,
    "start_time": "2024-02-27T14:38:02.589Z"
   },
   {
    "duration": 51,
    "start_time": "2024-02-27T14:38:07.186Z"
   },
   {
    "duration": 15,
    "start_time": "2024-02-27T14:38:23.036Z"
   },
   {
    "duration": 16,
    "start_time": "2024-02-27T14:38:37.842Z"
   },
   {
    "duration": 8,
    "start_time": "2024-02-27T14:38:57.421Z"
   },
   {
    "duration": 14,
    "start_time": "2024-02-27T14:39:33.863Z"
   },
   {
    "duration": 7,
    "start_time": "2024-02-27T14:39:50.307Z"
   },
   {
    "duration": 49,
    "start_time": "2024-02-27T14:40:25.244Z"
   },
   {
    "duration": 21,
    "start_time": "2024-02-27T14:40:35.202Z"
   },
   {
    "duration": 10,
    "start_time": "2024-02-27T14:41:40.604Z"
   },
   {
    "duration": 106,
    "start_time": "2024-02-27T14:42:21.297Z"
   },
   {
    "duration": 3,
    "start_time": "2024-02-27T14:43:52.072Z"
   },
   {
    "duration": 15,
    "start_time": "2024-02-27T14:44:30.290Z"
   },
   {
    "duration": 15,
    "start_time": "2024-02-27T14:45:13.924Z"
   },
   {
    "duration": 132,
    "start_time": "2024-02-27T14:45:44.121Z"
   },
   {
    "duration": 5,
    "start_time": "2024-02-27T14:46:44.559Z"
   },
   {
    "duration": 5,
    "start_time": "2024-02-27T14:46:47.343Z"
   },
   {
    "duration": 5,
    "start_time": "2024-02-27T14:46:52.741Z"
   },
   {
    "duration": 28,
    "start_time": "2024-02-27T14:47:23.625Z"
   },
   {
    "duration": 12,
    "start_time": "2024-02-27T14:55:37.121Z"
   },
   {
    "duration": 1561,
    "start_time": "2024-02-27T15:11:55.861Z"
   },
   {
    "duration": 8,
    "start_time": "2024-02-27T15:13:03.953Z"
   },
   {
    "duration": 4,
    "start_time": "2024-02-27T15:13:05.747Z"
   },
   {
    "duration": 8,
    "start_time": "2024-02-27T15:13:55.248Z"
   },
   {
    "duration": 5,
    "start_time": "2024-02-27T15:13:56.011Z"
   },
   {
    "duration": 11,
    "start_time": "2024-02-27T15:15:24.115Z"
   },
   {
    "duration": 27,
    "start_time": "2024-02-27T15:16:05.856Z"
   },
   {
    "duration": 5,
    "start_time": "2024-02-27T15:16:18.718Z"
   },
   {
    "duration": 25,
    "start_time": "2024-02-27T15:16:25.501Z"
   },
   {
    "duration": 106,
    "start_time": "2024-02-27T15:19:11.665Z"
   },
   {
    "duration": 1593,
    "start_time": "2024-02-27T15:19:26.687Z"
   },
   {
    "duration": 11,
    "start_time": "2024-02-27T15:20:07.403Z"
   },
   {
    "duration": 10,
    "start_time": "2024-02-27T15:20:21.138Z"
   },
   {
    "duration": 52,
    "start_time": "2024-02-28T04:31:34.038Z"
   },
   {
    "duration": 871,
    "start_time": "2024-02-28T04:31:49.417Z"
   },
   {
    "duration": 59,
    "start_time": "2024-02-28T04:31:50.290Z"
   },
   {
    "duration": 12,
    "start_time": "2024-02-28T04:31:50.351Z"
   },
   {
    "duration": 2,
    "start_time": "2024-02-28T04:31:50.365Z"
   },
   {
    "duration": 7,
    "start_time": "2024-02-28T04:31:50.369Z"
   },
   {
    "duration": 12,
    "start_time": "2024-02-28T04:31:50.378Z"
   },
   {
    "duration": 14,
    "start_time": "2024-02-28T04:31:50.391Z"
   },
   {
    "duration": 11,
    "start_time": "2024-02-28T04:31:50.407Z"
   },
   {
    "duration": 27,
    "start_time": "2024-02-28T04:31:50.420Z"
   },
   {
    "duration": 88,
    "start_time": "2024-02-28T04:31:50.449Z"
   },
   {
    "duration": 53,
    "start_time": "2024-02-28T04:31:50.539Z"
   },
   {
    "duration": 9,
    "start_time": "2024-02-28T04:31:50.593Z"
   },
   {
    "duration": 11,
    "start_time": "2024-02-28T04:31:50.604Z"
   },
   {
    "duration": 10,
    "start_time": "2024-02-28T04:31:50.618Z"
   },
   {
    "duration": 12,
    "start_time": "2024-02-28T04:31:50.630Z"
   },
   {
    "duration": 8,
    "start_time": "2024-02-28T04:31:50.644Z"
   },
   {
    "duration": 22,
    "start_time": "2024-02-28T04:31:50.653Z"
   },
   {
    "duration": 187,
    "start_time": "2024-02-28T04:31:50.677Z"
   },
   {
    "duration": 12,
    "start_time": "2024-02-28T04:31:50.866Z"
   },
   {
    "duration": 133,
    "start_time": "2024-02-28T04:31:50.880Z"
   },
   {
    "duration": 12,
    "start_time": "2024-02-28T04:31:51.015Z"
   },
   {
    "duration": 28,
    "start_time": "2024-02-28T04:31:51.029Z"
   },
   {
    "duration": 22,
    "start_time": "2024-02-28T04:31:51.059Z"
   },
   {
    "duration": 11,
    "start_time": "2024-02-28T04:31:51.083Z"
   },
   {
    "duration": 23,
    "start_time": "2024-02-28T04:31:51.096Z"
   },
   {
    "duration": 15,
    "start_time": "2024-02-28T04:31:51.121Z"
   },
   {
    "duration": 22,
    "start_time": "2024-02-28T04:31:51.138Z"
   },
   {
    "duration": 350,
    "start_time": "2024-02-28T04:31:51.162Z"
   },
   {
    "duration": 260,
    "start_time": "2024-02-28T04:31:51.514Z"
   },
   {
    "duration": 7,
    "start_time": "2024-02-28T04:31:51.776Z"
   },
   {
    "duration": 417,
    "start_time": "2024-02-28T04:31:51.785Z"
   },
   {
    "duration": 5,
    "start_time": "2024-02-28T04:31:52.203Z"
   },
   {
    "duration": 22,
    "start_time": "2024-02-28T04:31:52.209Z"
   },
   {
    "duration": 103,
    "start_time": "2024-02-28T04:31:52.233Z"
   },
   {
    "duration": 318,
    "start_time": "2024-02-28T04:31:52.338Z"
   },
   {
    "duration": 72,
    "start_time": "2024-02-28T04:31:52.658Z"
   },
   {
    "duration": 0,
    "start_time": "2024-02-28T04:31:52.732Z"
   },
   {
    "duration": 0,
    "start_time": "2024-02-28T04:31:52.734Z"
   },
   {
    "duration": 0,
    "start_time": "2024-02-28T04:31:52.735Z"
   },
   {
    "duration": 0,
    "start_time": "2024-02-28T04:31:52.736Z"
   },
   {
    "duration": 0,
    "start_time": "2024-02-28T04:31:52.737Z"
   },
   {
    "duration": 0,
    "start_time": "2024-02-28T04:31:52.738Z"
   },
   {
    "duration": 0,
    "start_time": "2024-02-28T04:31:52.740Z"
   },
   {
    "duration": 0,
    "start_time": "2024-02-28T04:31:52.741Z"
   },
   {
    "duration": 0,
    "start_time": "2024-02-28T04:31:52.742Z"
   },
   {
    "duration": 0,
    "start_time": "2024-02-28T04:31:52.744Z"
   },
   {
    "duration": 0,
    "start_time": "2024-02-28T04:31:52.745Z"
   },
   {
    "duration": 0,
    "start_time": "2024-02-28T04:31:52.746Z"
   },
   {
    "duration": 0,
    "start_time": "2024-02-28T04:31:52.747Z"
   },
   {
    "duration": 0,
    "start_time": "2024-02-28T04:31:52.749Z"
   },
   {
    "duration": 0,
    "start_time": "2024-02-28T04:31:52.751Z"
   },
   {
    "duration": 0,
    "start_time": "2024-02-28T04:31:52.752Z"
   },
   {
    "duration": 0,
    "start_time": "2024-02-28T04:31:52.753Z"
   },
   {
    "duration": 0,
    "start_time": "2024-02-28T04:31:52.754Z"
   },
   {
    "duration": 0,
    "start_time": "2024-02-28T04:31:52.756Z"
   },
   {
    "duration": 0,
    "start_time": "2024-02-28T04:31:52.757Z"
   },
   {
    "duration": 0,
    "start_time": "2024-02-28T04:31:52.759Z"
   },
   {
    "duration": 0,
    "start_time": "2024-02-28T04:31:52.761Z"
   },
   {
    "duration": 0,
    "start_time": "2024-02-28T04:31:52.762Z"
   },
   {
    "duration": 1,
    "start_time": "2024-02-28T04:31:52.763Z"
   },
   {
    "duration": 0,
    "start_time": "2024-02-28T04:31:52.765Z"
   },
   {
    "duration": 0,
    "start_time": "2024-02-28T04:31:52.767Z"
   },
   {
    "duration": 0,
    "start_time": "2024-02-28T04:31:52.823Z"
   },
   {
    "duration": 0,
    "start_time": "2024-02-28T04:31:52.825Z"
   },
   {
    "duration": 0,
    "start_time": "2024-02-28T04:31:52.827Z"
   },
   {
    "duration": 0,
    "start_time": "2024-02-28T04:31:52.828Z"
   },
   {
    "duration": 0,
    "start_time": "2024-02-28T04:31:52.830Z"
   },
   {
    "duration": 0,
    "start_time": "2024-02-28T04:31:52.831Z"
   },
   {
    "duration": 8,
    "start_time": "2024-02-28T04:32:29.117Z"
   },
   {
    "duration": 3,
    "start_time": "2024-02-28T04:32:31.706Z"
   },
   {
    "duration": 161,
    "start_time": "2024-02-28T04:32:31.711Z"
   },
   {
    "duration": 204,
    "start_time": "2024-02-28T04:32:31.875Z"
   },
   {
    "duration": 69,
    "start_time": "2024-02-28T04:32:32.080Z"
   },
   {
    "duration": 47,
    "start_time": "2024-02-28T04:32:32.151Z"
   },
   {
    "duration": 43,
    "start_time": "2024-02-28T04:32:32.200Z"
   },
   {
    "duration": 42,
    "start_time": "2024-02-28T04:32:32.246Z"
   },
   {
    "duration": 28,
    "start_time": "2024-02-28T04:32:32.290Z"
   },
   {
    "duration": 41,
    "start_time": "2024-02-28T04:32:32.319Z"
   },
   {
    "duration": 94,
    "start_time": "2024-02-28T04:32:32.361Z"
   },
   {
    "duration": 17,
    "start_time": "2024-02-28T04:32:32.457Z"
   },
   {
    "duration": 34,
    "start_time": "2024-02-28T04:32:32.475Z"
   },
   {
    "duration": 31,
    "start_time": "2024-02-28T04:32:32.511Z"
   },
   {
    "duration": 23,
    "start_time": "2024-02-28T04:32:32.544Z"
   },
   {
    "duration": 39,
    "start_time": "2024-02-28T04:32:32.569Z"
   },
   {
    "duration": 31,
    "start_time": "2024-02-28T04:32:32.610Z"
   },
   {
    "duration": 60,
    "start_time": "2024-02-28T04:32:32.643Z"
   },
   {
    "duration": 220,
    "start_time": "2024-02-28T04:32:32.705Z"
   },
   {
    "duration": 12,
    "start_time": "2024-02-28T04:32:32.927Z"
   },
   {
    "duration": 201,
    "start_time": "2024-02-28T04:32:32.940Z"
   },
   {
    "duration": 62,
    "start_time": "2024-02-28T04:32:33.143Z"
   },
   {
    "duration": 58,
    "start_time": "2024-02-28T04:32:33.207Z"
   },
   {
    "duration": 49,
    "start_time": "2024-02-28T04:32:33.267Z"
   },
   {
    "duration": 63,
    "start_time": "2024-02-28T04:32:33.318Z"
   },
   {
    "duration": 51,
    "start_time": "2024-02-28T04:32:33.382Z"
   },
   {
    "duration": 131,
    "start_time": "2024-02-28T04:32:33.435Z"
   },
   {
    "duration": 77,
    "start_time": "2024-02-28T04:32:33.568Z"
   },
   {
    "duration": 310,
    "start_time": "2024-02-28T04:32:33.646Z"
   },
   {
    "duration": 324,
    "start_time": "2024-02-28T04:32:33.961Z"
   },
   {
    "duration": 6,
    "start_time": "2024-02-28T04:32:34.287Z"
   },
   {
    "duration": 361,
    "start_time": "2024-02-28T04:32:34.295Z"
   },
   {
    "duration": 5,
    "start_time": "2024-02-28T04:32:34.658Z"
   },
   {
    "duration": 11,
    "start_time": "2024-02-28T04:32:34.666Z"
   },
   {
    "duration": 7,
    "start_time": "2024-02-28T04:32:34.679Z"
   },
   {
    "duration": 307,
    "start_time": "2024-02-28T04:32:34.688Z"
   },
   {
    "duration": 8,
    "start_time": "2024-02-28T04:32:34.996Z"
   },
   {
    "duration": 377,
    "start_time": "2024-02-28T04:32:35.006Z"
   },
   {
    "duration": 9,
    "start_time": "2024-02-28T04:32:35.385Z"
   },
   {
    "duration": 12,
    "start_time": "2024-02-28T04:32:35.395Z"
   },
   {
    "duration": 18,
    "start_time": "2024-02-28T04:32:35.408Z"
   },
   {
    "duration": 16,
    "start_time": "2024-02-28T04:32:35.427Z"
   },
   {
    "duration": 166,
    "start_time": "2024-02-28T04:32:35.445Z"
   },
   {
    "duration": 12,
    "start_time": "2024-02-28T04:32:35.613Z"
   },
   {
    "duration": 188,
    "start_time": "2024-02-28T04:32:35.627Z"
   },
   {
    "duration": 157,
    "start_time": "2024-02-28T04:32:35.817Z"
   },
   {
    "duration": 5,
    "start_time": "2024-02-28T04:32:35.975Z"
   },
   {
    "duration": 99,
    "start_time": "2024-02-28T04:32:35.982Z"
   },
   {
    "duration": 57,
    "start_time": "2024-02-28T04:32:36.083Z"
   },
   {
    "duration": 17,
    "start_time": "2024-02-28T04:32:36.142Z"
   },
   {
    "duration": 15,
    "start_time": "2024-02-28T04:32:36.161Z"
   },
   {
    "duration": 57,
    "start_time": "2024-02-28T04:32:36.178Z"
   },
   {
    "duration": 14,
    "start_time": "2024-02-28T04:32:36.237Z"
   },
   {
    "duration": 31,
    "start_time": "2024-02-28T04:32:36.253Z"
   },
   {
    "duration": 60,
    "start_time": "2024-02-28T04:32:36.286Z"
   },
   {
    "duration": 23,
    "start_time": "2024-02-28T04:32:36.348Z"
   },
   {
    "duration": 11,
    "start_time": "2024-02-28T04:32:36.373Z"
   },
   {
    "duration": 183,
    "start_time": "2024-02-28T04:32:36.385Z"
   },
   {
    "duration": 5,
    "start_time": "2024-02-28T04:32:36.570Z"
   },
   {
    "duration": 6,
    "start_time": "2024-02-28T04:32:36.576Z"
   },
   {
    "duration": 55,
    "start_time": "2024-02-28T04:32:36.584Z"
   },
   {
    "duration": 0,
    "start_time": "2024-02-28T04:32:36.641Z"
   },
   {
    "duration": 0,
    "start_time": "2024-02-28T04:32:36.642Z"
   },
   {
    "duration": 0,
    "start_time": "2024-02-28T04:32:36.643Z"
   },
   {
    "duration": 0,
    "start_time": "2024-02-28T04:32:36.644Z"
   },
   {
    "duration": 0,
    "start_time": "2024-02-28T04:32:36.645Z"
   },
   {
    "duration": 0,
    "start_time": "2024-02-28T04:32:36.646Z"
   },
   {
    "duration": 0,
    "start_time": "2024-02-28T04:32:36.647Z"
   },
   {
    "duration": 0,
    "start_time": "2024-02-28T04:32:36.649Z"
   },
   {
    "duration": 534,
    "start_time": "2024-02-28T04:34:17.468Z"
   },
   {
    "duration": 26,
    "start_time": "2024-02-28T04:34:18.004Z"
   },
   {
    "duration": 58,
    "start_time": "2024-02-28T04:34:18.031Z"
   },
   {
    "duration": 53,
    "start_time": "2024-02-28T04:34:18.092Z"
   },
   {
    "duration": 18,
    "start_time": "2024-02-28T04:34:18.147Z"
   },
   {
    "duration": 44,
    "start_time": "2024-02-28T04:34:18.167Z"
   },
   {
    "duration": 30,
    "start_time": "2024-02-28T04:34:18.213Z"
   },
   {
    "duration": 14,
    "start_time": "2024-02-28T04:34:18.245Z"
   },
   {
    "duration": 45,
    "start_time": "2024-02-28T04:34:18.261Z"
   },
   {
    "duration": 63,
    "start_time": "2024-02-28T04:34:18.309Z"
   },
   {
    "duration": 17,
    "start_time": "2024-02-28T04:34:18.374Z"
   },
   {
    "duration": 20,
    "start_time": "2024-02-28T04:34:18.392Z"
   },
   {
    "duration": 38,
    "start_time": "2024-02-28T04:34:18.413Z"
   },
   {
    "duration": 28,
    "start_time": "2024-02-28T04:34:18.452Z"
   },
   {
    "duration": 15,
    "start_time": "2024-02-28T04:34:18.481Z"
   },
   {
    "duration": 8,
    "start_time": "2024-02-28T04:34:18.497Z"
   },
   {
    "duration": 43,
    "start_time": "2024-02-28T04:34:18.506Z"
   },
   {
    "duration": 163,
    "start_time": "2024-02-28T04:34:18.551Z"
   },
   {
    "duration": 12,
    "start_time": "2024-02-28T04:34:18.715Z"
   },
   {
    "duration": 127,
    "start_time": "2024-02-28T04:34:18.728Z"
   },
   {
    "duration": 11,
    "start_time": "2024-02-28T04:34:18.857Z"
   },
   {
    "duration": 38,
    "start_time": "2024-02-28T04:34:18.870Z"
   },
   {
    "duration": 16,
    "start_time": "2024-02-28T04:34:18.910Z"
   },
   {
    "duration": 4,
    "start_time": "2024-02-28T04:34:18.928Z"
   },
   {
    "duration": 10,
    "start_time": "2024-02-28T04:34:18.934Z"
   },
   {
    "duration": 7,
    "start_time": "2024-02-28T04:34:18.946Z"
   },
   {
    "duration": 30,
    "start_time": "2024-02-28T04:34:18.955Z"
   },
   {
    "duration": 281,
    "start_time": "2024-02-28T04:34:18.992Z"
   },
   {
    "duration": 240,
    "start_time": "2024-02-28T04:34:19.274Z"
   },
   {
    "duration": 7,
    "start_time": "2024-02-28T04:34:19.516Z"
   },
   {
    "duration": 341,
    "start_time": "2024-02-28T04:34:19.525Z"
   },
   {
    "duration": 4,
    "start_time": "2024-02-28T04:34:19.868Z"
   },
   {
    "duration": 24,
    "start_time": "2024-02-28T04:34:19.874Z"
   },
   {
    "duration": 7,
    "start_time": "2024-02-28T04:34:19.900Z"
   },
   {
    "duration": 260,
    "start_time": "2024-02-28T04:34:19.908Z"
   },
   {
    "duration": 8,
    "start_time": "2024-02-28T04:34:20.169Z"
   },
   {
    "duration": 357,
    "start_time": "2024-02-28T04:34:20.179Z"
   },
   {
    "duration": 7,
    "start_time": "2024-02-28T04:34:20.538Z"
   },
   {
    "duration": 21,
    "start_time": "2024-02-28T04:34:20.547Z"
   },
   {
    "duration": 34,
    "start_time": "2024-02-28T04:34:20.570Z"
   },
   {
    "duration": 23,
    "start_time": "2024-02-28T04:34:20.606Z"
   },
   {
    "duration": 228,
    "start_time": "2024-02-28T04:34:20.631Z"
   },
   {
    "duration": 5,
    "start_time": "2024-02-28T04:34:20.860Z"
   },
   {
    "duration": 172,
    "start_time": "2024-02-28T04:34:20.867Z"
   },
   {
    "duration": 157,
    "start_time": "2024-02-28T04:34:21.041Z"
   },
   {
    "duration": 5,
    "start_time": "2024-02-28T04:34:21.200Z"
   },
   {
    "duration": 70,
    "start_time": "2024-02-28T04:34:21.206Z"
   },
   {
    "duration": 53,
    "start_time": "2024-02-28T04:34:21.278Z"
   },
   {
    "duration": 36,
    "start_time": "2024-02-28T04:34:21.333Z"
   },
   {
    "duration": 23,
    "start_time": "2024-02-28T04:34:21.370Z"
   },
   {
    "duration": 62,
    "start_time": "2024-02-28T04:34:21.395Z"
   },
   {
    "duration": 14,
    "start_time": "2024-02-28T04:34:21.459Z"
   },
   {
    "duration": 16,
    "start_time": "2024-02-28T04:34:21.474Z"
   },
   {
    "duration": 76,
    "start_time": "2024-02-28T04:34:21.492Z"
   },
   {
    "duration": 38,
    "start_time": "2024-02-28T04:34:21.570Z"
   },
   {
    "duration": 17,
    "start_time": "2024-02-28T04:34:21.610Z"
   },
   {
    "duration": 158,
    "start_time": "2024-02-28T04:34:21.629Z"
   },
   {
    "duration": 6,
    "start_time": "2024-02-28T04:34:21.790Z"
   },
   {
    "duration": 14,
    "start_time": "2024-02-28T04:34:21.798Z"
   },
   {
    "duration": 39,
    "start_time": "2024-02-28T04:34:21.813Z"
   },
   {
    "duration": 10,
    "start_time": "2024-02-28T04:34:21.853Z"
   },
   {
    "duration": 20,
    "start_time": "2024-02-28T04:34:21.865Z"
   },
   {
    "duration": 22,
    "start_time": "2024-02-28T04:34:21.887Z"
   },
   {
    "duration": 16,
    "start_time": "2024-02-28T04:34:21.911Z"
   },
   {
    "duration": 44,
    "start_time": "2024-02-28T04:34:21.928Z"
   },
   {
    "duration": 5,
    "start_time": "2024-02-28T04:34:21.973Z"
   },
   {
    "duration": 28,
    "start_time": "2024-02-28T04:34:21.979Z"
   },
   {
    "duration": 39,
    "start_time": "2024-02-28T04:34:22.009Z"
   },
   {
    "duration": 1154,
    "start_time": "2024-02-28T04:41:16.455Z"
   },
   {
    "duration": 27,
    "start_time": "2024-02-28T04:41:17.611Z"
   },
   {
    "duration": 12,
    "start_time": "2024-02-28T04:41:17.640Z"
   },
   {
    "duration": 3,
    "start_time": "2024-02-28T04:41:17.654Z"
   },
   {
    "duration": 11,
    "start_time": "2024-02-28T04:41:17.659Z"
   },
   {
    "duration": 18,
    "start_time": "2024-02-28T04:41:17.672Z"
   },
   {
    "duration": 4,
    "start_time": "2024-02-28T04:41:17.691Z"
   },
   {
    "duration": 6,
    "start_time": "2024-02-28T04:41:17.697Z"
   },
   {
    "duration": 21,
    "start_time": "2024-02-28T04:41:17.704Z"
   },
   {
    "duration": 53,
    "start_time": "2024-02-28T04:41:17.728Z"
   },
   {
    "duration": 17,
    "start_time": "2024-02-28T04:41:17.783Z"
   },
   {
    "duration": 9,
    "start_time": "2024-02-28T04:41:17.802Z"
   },
   {
    "duration": 10,
    "start_time": "2024-02-28T04:41:17.812Z"
   },
   {
    "duration": 4,
    "start_time": "2024-02-28T04:41:17.823Z"
   },
   {
    "duration": 10,
    "start_time": "2024-02-28T04:41:17.828Z"
   },
   {
    "duration": 17,
    "start_time": "2024-02-28T04:41:17.839Z"
   },
   {
    "duration": 18,
    "start_time": "2024-02-28T04:41:17.858Z"
   },
   {
    "duration": 184,
    "start_time": "2024-02-28T04:41:17.878Z"
   },
   {
    "duration": 12,
    "start_time": "2024-02-28T04:41:18.064Z"
   },
   {
    "duration": 145,
    "start_time": "2024-02-28T04:41:18.078Z"
   },
   {
    "duration": 11,
    "start_time": "2024-02-28T04:41:18.224Z"
   },
   {
    "duration": 21,
    "start_time": "2024-02-28T04:41:18.236Z"
   },
   {
    "duration": 19,
    "start_time": "2024-02-28T04:41:18.258Z"
   },
   {
    "duration": 13,
    "start_time": "2024-02-28T04:41:18.279Z"
   },
   {
    "duration": 14,
    "start_time": "2024-02-28T04:41:18.294Z"
   },
   {
    "duration": 18,
    "start_time": "2024-02-28T04:41:18.310Z"
   },
   {
    "duration": 21,
    "start_time": "2024-02-28T04:41:18.330Z"
   },
   {
    "duration": 327,
    "start_time": "2024-02-28T04:41:18.355Z"
   },
   {
    "duration": 240,
    "start_time": "2024-02-28T04:41:18.684Z"
   },
   {
    "duration": 6,
    "start_time": "2024-02-28T04:41:18.926Z"
   },
   {
    "duration": 343,
    "start_time": "2024-02-28T04:41:18.933Z"
   },
   {
    "duration": 4,
    "start_time": "2024-02-28T04:41:19.278Z"
   },
   {
    "duration": 31,
    "start_time": "2024-02-28T04:41:19.284Z"
   },
   {
    "duration": 19,
    "start_time": "2024-02-28T04:41:19.317Z"
   },
   {
    "duration": 281,
    "start_time": "2024-02-28T04:41:19.339Z"
   },
   {
    "duration": 8,
    "start_time": "2024-02-28T04:41:19.622Z"
   },
   {
    "duration": 327,
    "start_time": "2024-02-28T04:41:19.632Z"
   },
   {
    "duration": 7,
    "start_time": "2024-02-28T04:41:19.961Z"
   },
   {
    "duration": 12,
    "start_time": "2024-02-28T04:41:19.970Z"
   },
   {
    "duration": 5,
    "start_time": "2024-02-28T04:41:19.984Z"
   },
   {
    "duration": 27,
    "start_time": "2024-02-28T04:41:19.990Z"
   },
   {
    "duration": 162,
    "start_time": "2024-02-28T04:41:20.019Z"
   },
   {
    "duration": 5,
    "start_time": "2024-02-28T04:41:20.183Z"
   },
   {
    "duration": 183,
    "start_time": "2024-02-28T04:41:20.190Z"
   },
   {
    "duration": 166,
    "start_time": "2024-02-28T04:41:20.375Z"
   },
   {
    "duration": 5,
    "start_time": "2024-02-28T04:41:20.543Z"
   },
   {
    "duration": 165,
    "start_time": "2024-02-28T04:41:20.549Z"
   },
   {
    "duration": 56,
    "start_time": "2024-02-28T04:41:20.716Z"
   },
   {
    "duration": 21,
    "start_time": "2024-02-28T04:41:20.774Z"
   },
   {
    "duration": 29,
    "start_time": "2024-02-28T04:41:20.797Z"
   },
   {
    "duration": 67,
    "start_time": "2024-02-28T04:41:20.828Z"
   },
   {
    "duration": 31,
    "start_time": "2024-02-28T04:41:20.897Z"
   },
   {
    "duration": 25,
    "start_time": "2024-02-28T04:41:20.930Z"
   },
   {
    "duration": 62,
    "start_time": "2024-02-28T04:41:20.957Z"
   },
   {
    "duration": 21,
    "start_time": "2024-02-28T04:41:21.020Z"
   },
   {
    "duration": 11,
    "start_time": "2024-02-28T04:41:21.042Z"
   },
   {
    "duration": 147,
    "start_time": "2024-02-28T04:41:21.054Z"
   },
   {
    "duration": 6,
    "start_time": "2024-02-28T04:41:21.203Z"
   },
   {
    "duration": 24,
    "start_time": "2024-02-28T04:41:21.211Z"
   },
   {
    "duration": 30,
    "start_time": "2024-02-28T04:41:21.237Z"
   },
   {
    "duration": 10,
    "start_time": "2024-02-28T04:41:21.269Z"
   },
   {
    "duration": 9,
    "start_time": "2024-02-28T04:41:21.280Z"
   },
   {
    "duration": 6,
    "start_time": "2024-02-28T04:41:21.290Z"
   },
   {
    "duration": 27,
    "start_time": "2024-02-28T04:41:21.298Z"
   },
   {
    "duration": 25,
    "start_time": "2024-02-28T04:41:21.327Z"
   },
   {
    "duration": 5,
    "start_time": "2024-02-28T04:41:21.354Z"
   },
   {
    "duration": 14,
    "start_time": "2024-02-28T04:41:21.360Z"
   },
   {
    "duration": 11,
    "start_time": "2024-02-28T04:41:21.375Z"
   },
   {
    "duration": 1169,
    "start_time": "2024-02-28T05:02:56.845Z"
   },
   {
    "duration": 33,
    "start_time": "2024-02-28T05:02:58.016Z"
   },
   {
    "duration": 15,
    "start_time": "2024-02-28T05:02:58.050Z"
   },
   {
    "duration": 12,
    "start_time": "2024-02-28T05:02:58.067Z"
   },
   {
    "duration": 22,
    "start_time": "2024-02-28T05:02:58.081Z"
   },
   {
    "duration": 25,
    "start_time": "2024-02-28T05:02:58.105Z"
   },
   {
    "duration": 12,
    "start_time": "2024-02-28T05:02:58.132Z"
   },
   {
    "duration": 12,
    "start_time": "2024-02-28T05:02:58.145Z"
   },
   {
    "duration": 11,
    "start_time": "2024-02-28T05:02:58.159Z"
   },
   {
    "duration": 46,
    "start_time": "2024-02-28T05:02:58.173Z"
   },
   {
    "duration": 17,
    "start_time": "2024-02-28T05:02:58.220Z"
   },
   {
    "duration": 8,
    "start_time": "2024-02-28T05:02:58.238Z"
   },
   {
    "duration": 11,
    "start_time": "2024-02-28T05:02:58.248Z"
   },
   {
    "duration": 12,
    "start_time": "2024-02-28T05:02:58.261Z"
   },
   {
    "duration": 23,
    "start_time": "2024-02-28T05:02:58.275Z"
   },
   {
    "duration": 10,
    "start_time": "2024-02-28T05:02:58.300Z"
   },
   {
    "duration": 18,
    "start_time": "2024-02-28T05:02:58.312Z"
   },
   {
    "duration": 172,
    "start_time": "2024-02-28T05:02:58.331Z"
   },
   {
    "duration": 18,
    "start_time": "2024-02-28T05:02:58.505Z"
   },
   {
    "duration": 130,
    "start_time": "2024-02-28T05:02:58.525Z"
   },
   {
    "duration": 9,
    "start_time": "2024-02-28T05:02:58.657Z"
   },
   {
    "duration": 12,
    "start_time": "2024-02-28T05:02:58.668Z"
   },
   {
    "duration": 16,
    "start_time": "2024-02-28T05:02:58.682Z"
   },
   {
    "duration": 6,
    "start_time": "2024-02-28T05:02:58.699Z"
   },
   {
    "duration": 19,
    "start_time": "2024-02-28T05:02:58.706Z"
   },
   {
    "duration": 8,
    "start_time": "2024-02-28T05:02:58.727Z"
   },
   {
    "duration": 6,
    "start_time": "2024-02-28T05:02:58.737Z"
   },
   {
    "duration": 330,
    "start_time": "2024-02-28T05:02:58.748Z"
   },
   {
    "duration": 241,
    "start_time": "2024-02-28T05:02:59.079Z"
   },
   {
    "duration": 6,
    "start_time": "2024-02-28T05:02:59.323Z"
   },
   {
    "duration": 339,
    "start_time": "2024-02-28T05:02:59.331Z"
   },
   {
    "duration": 4,
    "start_time": "2024-02-28T05:02:59.671Z"
   },
   {
    "duration": 11,
    "start_time": "2024-02-28T05:02:59.677Z"
   },
   {
    "duration": 11,
    "start_time": "2024-02-28T05:02:59.690Z"
   },
   {
    "duration": 247,
    "start_time": "2024-02-28T05:02:59.702Z"
   },
   {
    "duration": 8,
    "start_time": "2024-02-28T05:02:59.950Z"
   },
   {
    "duration": 328,
    "start_time": "2024-02-28T05:02:59.960Z"
   },
   {
    "duration": 7,
    "start_time": "2024-02-28T05:03:00.290Z"
   },
   {
    "duration": 254,
    "start_time": "2024-02-28T05:03:00.299Z"
   },
   {
    "duration": 35,
    "start_time": "2024-02-28T05:03:00.555Z"
   },
   {
    "duration": 38,
    "start_time": "2024-02-28T05:03:00.592Z"
   },
   {
    "duration": 233,
    "start_time": "2024-02-28T05:03:00.632Z"
   },
   {
    "duration": 5,
    "start_time": "2024-02-28T05:03:00.867Z"
   },
   {
    "duration": 210,
    "start_time": "2024-02-28T05:03:00.873Z"
   },
   {
    "duration": 157,
    "start_time": "2024-02-28T05:03:01.086Z"
   },
   {
    "duration": 4,
    "start_time": "2024-02-28T05:03:01.245Z"
   },
   {
    "duration": 168,
    "start_time": "2024-02-28T05:03:01.251Z"
   },
   {
    "duration": 114,
    "start_time": "2024-02-28T05:03:01.420Z"
   },
   {
    "duration": 78,
    "start_time": "2024-02-28T05:03:01.536Z"
   },
   {
    "duration": 62,
    "start_time": "2024-02-28T05:03:01.615Z"
   },
   {
    "duration": 105,
    "start_time": "2024-02-28T05:03:01.679Z"
   },
   {
    "duration": 40,
    "start_time": "2024-02-28T05:03:01.786Z"
   },
   {
    "duration": 34,
    "start_time": "2024-02-28T05:03:01.827Z"
   },
   {
    "duration": 69,
    "start_time": "2024-02-28T05:03:01.863Z"
   },
   {
    "duration": 30,
    "start_time": "2024-02-28T05:03:01.934Z"
   },
   {
    "duration": 26,
    "start_time": "2024-02-28T05:03:01.966Z"
   },
   {
    "duration": 162,
    "start_time": "2024-02-28T05:03:01.993Z"
   },
   {
    "duration": 5,
    "start_time": "2024-02-28T05:03:02.157Z"
   },
   {
    "duration": 71,
    "start_time": "2024-02-28T05:03:02.163Z"
   },
   {
    "duration": 74,
    "start_time": "2024-02-28T05:03:02.235Z"
   },
   {
    "duration": 46,
    "start_time": "2024-02-28T05:03:02.311Z"
   },
   {
    "duration": 79,
    "start_time": "2024-02-28T05:03:02.359Z"
   },
   {
    "duration": 44,
    "start_time": "2024-02-28T05:03:02.439Z"
   },
   {
    "duration": 53,
    "start_time": "2024-02-28T05:03:02.485Z"
   },
   {
    "duration": 113,
    "start_time": "2024-02-28T05:03:02.540Z"
   },
   {
    "duration": 169,
    "start_time": "2024-02-28T05:03:02.655Z"
   },
   {
    "duration": 329,
    "start_time": "2024-02-28T05:03:02.825Z"
   },
   {
    "duration": 586,
    "start_time": "2024-02-28T05:03:03.156Z"
   },
   {
    "duration": 1083,
    "start_time": "2024-02-28T05:46:23.848Z"
   },
   {
    "duration": 25,
    "start_time": "2024-02-28T05:46:24.933Z"
   },
   {
    "duration": 11,
    "start_time": "2024-02-28T05:46:24.959Z"
   },
   {
    "duration": 2,
    "start_time": "2024-02-28T05:46:24.972Z"
   },
   {
    "duration": 7,
    "start_time": "2024-02-28T05:46:24.976Z"
   },
   {
    "duration": 14,
    "start_time": "2024-02-28T05:46:24.984Z"
   },
   {
    "duration": 3,
    "start_time": "2024-02-28T05:46:24.999Z"
   },
   {
    "duration": 5,
    "start_time": "2024-02-28T05:46:25.004Z"
   },
   {
    "duration": 9,
    "start_time": "2024-02-28T05:46:25.011Z"
   },
   {
    "duration": 57,
    "start_time": "2024-02-28T05:46:25.022Z"
   },
   {
    "duration": 18,
    "start_time": "2024-02-28T05:46:25.081Z"
   },
   {
    "duration": 11,
    "start_time": "2024-02-28T05:46:25.100Z"
   },
   {
    "duration": 8,
    "start_time": "2024-02-28T05:46:25.113Z"
   },
   {
    "duration": 5,
    "start_time": "2024-02-28T05:46:25.122Z"
   },
   {
    "duration": 8,
    "start_time": "2024-02-28T05:46:25.128Z"
   },
   {
    "duration": 6,
    "start_time": "2024-02-28T05:46:25.137Z"
   },
   {
    "duration": 21,
    "start_time": "2024-02-28T05:46:25.145Z"
   },
   {
    "duration": 163,
    "start_time": "2024-02-28T05:46:25.167Z"
   },
   {
    "duration": 10,
    "start_time": "2024-02-28T05:46:25.332Z"
   },
   {
    "duration": 127,
    "start_time": "2024-02-28T05:46:25.344Z"
   },
   {
    "duration": 10,
    "start_time": "2024-02-28T05:46:25.473Z"
   },
   {
    "duration": 10,
    "start_time": "2024-02-28T05:46:25.485Z"
   },
   {
    "duration": 14,
    "start_time": "2024-02-28T05:46:25.497Z"
   },
   {
    "duration": 4,
    "start_time": "2024-02-28T05:46:25.513Z"
   },
   {
    "duration": 8,
    "start_time": "2024-02-28T05:46:25.519Z"
   },
   {
    "duration": 6,
    "start_time": "2024-02-28T05:46:25.528Z"
   },
   {
    "duration": 31,
    "start_time": "2024-02-28T05:46:25.535Z"
   },
   {
    "duration": 332,
    "start_time": "2024-02-28T05:46:25.570Z"
   },
   {
    "duration": 215,
    "start_time": "2024-02-28T05:46:25.903Z"
   },
   {
    "duration": 6,
    "start_time": "2024-02-28T05:46:26.119Z"
   },
   {
    "duration": 329,
    "start_time": "2024-02-28T05:46:26.126Z"
   },
   {
    "duration": 8,
    "start_time": "2024-02-28T05:46:26.457Z"
   },
   {
    "duration": 6,
    "start_time": "2024-02-28T05:46:26.467Z"
   },
   {
    "duration": 5,
    "start_time": "2024-02-28T05:46:26.474Z"
   },
   {
    "duration": 226,
    "start_time": "2024-02-28T05:46:26.481Z"
   },
   {
    "duration": 9,
    "start_time": "2024-02-28T05:46:26.708Z"
   },
   {
    "duration": 307,
    "start_time": "2024-02-28T05:46:26.719Z"
   },
   {
    "duration": 6,
    "start_time": "2024-02-28T05:46:27.028Z"
   },
   {
    "duration": 9,
    "start_time": "2024-02-28T05:46:27.036Z"
   },
   {
    "duration": 6,
    "start_time": "2024-02-28T05:46:27.046Z"
   },
   {
    "duration": 13,
    "start_time": "2024-02-28T05:46:27.054Z"
   },
   {
    "duration": 157,
    "start_time": "2024-02-28T05:46:27.069Z"
   },
   {
    "duration": 5,
    "start_time": "2024-02-28T05:46:27.227Z"
   },
   {
    "duration": 148,
    "start_time": "2024-02-28T05:46:27.233Z"
   },
   {
    "duration": 137,
    "start_time": "2024-02-28T05:46:27.383Z"
   },
   {
    "duration": 5,
    "start_time": "2024-02-28T05:46:27.522Z"
   },
   {
    "duration": 121,
    "start_time": "2024-02-28T05:46:27.528Z"
   },
   {
    "duration": 50,
    "start_time": "2024-02-28T05:46:27.651Z"
   },
   {
    "duration": 13,
    "start_time": "2024-02-28T05:46:27.702Z"
   },
   {
    "duration": 7,
    "start_time": "2024-02-28T05:46:27.716Z"
   },
   {
    "duration": 63,
    "start_time": "2024-02-28T05:46:27.725Z"
   },
   {
    "duration": 14,
    "start_time": "2024-02-28T05:46:27.789Z"
   },
   {
    "duration": 15,
    "start_time": "2024-02-28T05:46:27.804Z"
   },
   {
    "duration": 58,
    "start_time": "2024-02-28T05:46:27.820Z"
   },
   {
    "duration": 20,
    "start_time": "2024-02-28T05:46:27.879Z"
   },
   {
    "duration": 9,
    "start_time": "2024-02-28T05:46:27.900Z"
   },
   {
    "duration": 142,
    "start_time": "2024-02-28T05:46:27.911Z"
   },
   {
    "duration": 10,
    "start_time": "2024-02-28T05:46:28.055Z"
   },
   {
    "duration": 8,
    "start_time": "2024-02-28T05:46:28.067Z"
   },
   {
    "duration": 27,
    "start_time": "2024-02-28T05:46:28.076Z"
   },
   {
    "duration": 9,
    "start_time": "2024-02-28T05:46:28.105Z"
   },
   {
    "duration": 7,
    "start_time": "2024-02-28T05:46:28.115Z"
   },
   {
    "duration": 5,
    "start_time": "2024-02-28T05:46:28.123Z"
   },
   {
    "duration": 36,
    "start_time": "2024-02-28T05:46:28.129Z"
   },
   {
    "duration": 31,
    "start_time": "2024-02-28T05:46:28.166Z"
   },
   {
    "duration": 5,
    "start_time": "2024-02-28T05:46:28.199Z"
   },
   {
    "duration": 10,
    "start_time": "2024-02-28T05:46:28.205Z"
   },
   {
    "duration": 7,
    "start_time": "2024-02-28T05:46:28.216Z"
   },
   {
    "duration": 1678,
    "start_time": "2024-02-28T10:17:07.992Z"
   },
   {
    "duration": 4,
    "start_time": "2024-02-28T10:17:28.017Z"
   },
   {
    "duration": 28,
    "start_time": "2024-02-28T10:17:28.025Z"
   },
   {
    "duration": 8,
    "start_time": "2024-02-28T10:17:28.054Z"
   },
   {
    "duration": 10,
    "start_time": "2024-02-28T10:17:28.064Z"
   },
   {
    "duration": 12,
    "start_time": "2024-02-28T10:17:28.075Z"
   },
   {
    "duration": 15,
    "start_time": "2024-02-28T10:17:28.089Z"
   },
   {
    "duration": 4,
    "start_time": "2024-02-28T10:17:28.106Z"
   },
   {
    "duration": 8,
    "start_time": "2024-02-28T10:17:28.112Z"
   },
   {
    "duration": 22,
    "start_time": "2024-02-28T10:17:28.122Z"
   },
   {
    "duration": 84,
    "start_time": "2024-02-28T10:17:28.146Z"
   },
   {
    "duration": 16,
    "start_time": "2024-02-28T10:17:28.232Z"
   },
   {
    "duration": 9,
    "start_time": "2024-02-28T10:17:28.250Z"
   },
   {
    "duration": 8,
    "start_time": "2024-02-28T10:17:28.261Z"
   },
   {
    "duration": 12,
    "start_time": "2024-02-28T10:17:28.271Z"
   },
   {
    "duration": 10,
    "start_time": "2024-02-28T10:17:28.285Z"
   },
   {
    "duration": 8,
    "start_time": "2024-02-28T10:17:28.297Z"
   },
   {
    "duration": 15,
    "start_time": "2024-02-28T10:17:28.307Z"
   },
   {
    "duration": 198,
    "start_time": "2024-02-28T10:17:28.325Z"
   },
   {
    "duration": 12,
    "start_time": "2024-02-28T10:17:28.525Z"
   },
   {
    "duration": 141,
    "start_time": "2024-02-28T10:17:28.539Z"
   },
   {
    "duration": 10,
    "start_time": "2024-02-28T10:17:28.682Z"
   },
   {
    "duration": 8,
    "start_time": "2024-02-28T10:17:28.694Z"
   },
   {
    "duration": 17,
    "start_time": "2024-02-28T10:17:28.704Z"
   },
   {
    "duration": 5,
    "start_time": "2024-02-28T10:17:28.723Z"
   },
   {
    "duration": 27,
    "start_time": "2024-02-28T10:17:28.730Z"
   },
   {
    "duration": 13,
    "start_time": "2024-02-28T10:17:28.759Z"
   },
   {
    "duration": 23,
    "start_time": "2024-02-28T10:17:28.775Z"
   },
   {
    "duration": 262,
    "start_time": "2024-02-28T10:17:28.799Z"
   },
   {
    "duration": 262,
    "start_time": "2024-02-28T10:17:29.063Z"
   },
   {
    "duration": 9,
    "start_time": "2024-02-28T10:17:29.327Z"
   },
   {
    "duration": 378,
    "start_time": "2024-02-28T10:17:29.338Z"
   },
   {
    "duration": 6,
    "start_time": "2024-02-28T10:17:29.717Z"
   },
   {
    "duration": 37,
    "start_time": "2024-02-28T10:17:29.724Z"
   },
   {
    "duration": 19,
    "start_time": "2024-02-28T10:17:29.763Z"
   },
   {
    "duration": 269,
    "start_time": "2024-02-28T10:17:29.783Z"
   },
   {
    "duration": 10,
    "start_time": "2024-02-28T10:17:30.054Z"
   },
   {
    "duration": 459,
    "start_time": "2024-02-28T10:17:30.079Z"
   },
   {
    "duration": 8,
    "start_time": "2024-02-28T10:17:30.540Z"
   },
   {
    "duration": 323,
    "start_time": "2024-02-28T10:17:30.550Z"
   },
   {
    "duration": 211,
    "start_time": "2024-02-28T10:17:30.875Z"
   },
   {
    "duration": 89,
    "start_time": "2024-02-28T10:17:31.088Z"
   },
   {
    "duration": 207,
    "start_time": "2024-02-28T10:17:31.179Z"
   },
   {
    "duration": 6,
    "start_time": "2024-02-28T10:17:31.388Z"
   },
   {
    "duration": 217,
    "start_time": "2024-02-28T10:17:31.398Z"
   },
   {
    "duration": 198,
    "start_time": "2024-02-28T10:17:31.617Z"
   },
   {
    "duration": 354,
    "start_time": "2024-02-28T10:17:31.817Z"
   },
   {
    "duration": 73,
    "start_time": "2024-02-28T10:17:32.174Z"
   },
   {
    "duration": 69,
    "start_time": "2024-02-28T10:17:32.249Z"
   },
   {
    "duration": 26,
    "start_time": "2024-02-28T10:17:32.319Z"
   },
   {
    "duration": 8,
    "start_time": "2024-02-28T10:17:32.347Z"
   },
   {
    "duration": 72,
    "start_time": "2024-02-28T10:17:32.356Z"
   },
   {
    "duration": 24,
    "start_time": "2024-02-28T10:17:32.429Z"
   },
   {
    "duration": 13,
    "start_time": "2024-02-28T10:17:32.454Z"
   },
   {
    "duration": 81,
    "start_time": "2024-02-28T10:17:32.469Z"
   },
   {
    "duration": 34,
    "start_time": "2024-02-28T10:17:32.551Z"
   },
   {
    "duration": 48,
    "start_time": "2024-02-28T10:17:32.587Z"
   },
   {
    "duration": 177,
    "start_time": "2024-02-28T10:17:32.637Z"
   },
   {
    "duration": 5,
    "start_time": "2024-02-28T10:17:32.815Z"
   },
   {
    "duration": 52,
    "start_time": "2024-02-28T10:17:32.821Z"
   },
   {
    "duration": 55,
    "start_time": "2024-02-28T10:17:32.874Z"
   },
   {
    "duration": 11,
    "start_time": "2024-02-28T10:17:32.931Z"
   },
   {
    "duration": 12,
    "start_time": "2024-02-28T10:17:32.943Z"
   },
   {
    "duration": 25,
    "start_time": "2024-02-28T10:17:32.957Z"
   },
   {
    "duration": 32,
    "start_time": "2024-02-28T10:17:32.984Z"
   },
   {
    "duration": 33,
    "start_time": "2024-02-28T10:17:33.017Z"
   },
   {
    "duration": 5,
    "start_time": "2024-02-28T10:17:33.052Z"
   },
   {
    "duration": 11,
    "start_time": "2024-02-28T10:17:33.058Z"
   },
   {
    "duration": 10,
    "start_time": "2024-02-28T10:17:33.071Z"
   },
   {
    "duration": 12,
    "start_time": "2024-02-28T10:20:12.636Z"
   },
   {
    "duration": 10,
    "start_time": "2024-02-28T10:20:26.721Z"
   },
   {
    "duration": 6,
    "start_time": "2024-02-28T10:20:42.994Z"
   },
   {
    "duration": 5,
    "start_time": "2024-02-28T10:21:44.325Z"
   },
   {
    "duration": 11,
    "start_time": "2024-02-28T10:22:26.083Z"
   },
   {
    "duration": 8,
    "start_time": "2024-02-28T10:23:06.688Z"
   },
   {
    "duration": 6,
    "start_time": "2024-02-28T10:23:20.728Z"
   },
   {
    "duration": 12,
    "start_time": "2024-02-28T10:26:56.710Z"
   },
   {
    "duration": 4,
    "start_time": "2024-02-28T10:27:10.158Z"
   },
   {
    "duration": 46,
    "start_time": "2024-02-28T10:27:10.166Z"
   },
   {
    "duration": 8,
    "start_time": "2024-02-28T10:27:10.214Z"
   },
   {
    "duration": 15,
    "start_time": "2024-02-28T10:27:10.224Z"
   },
   {
    "duration": 25,
    "start_time": "2024-02-28T10:27:10.241Z"
   },
   {
    "duration": 23,
    "start_time": "2024-02-28T10:27:10.268Z"
   },
   {
    "duration": 36,
    "start_time": "2024-02-28T10:27:10.293Z"
   },
   {
    "duration": 17,
    "start_time": "2024-02-28T10:27:10.331Z"
   },
   {
    "duration": 23,
    "start_time": "2024-02-28T10:27:10.350Z"
   },
   {
    "duration": 61,
    "start_time": "2024-02-28T10:27:10.375Z"
   },
   {
    "duration": 16,
    "start_time": "2024-02-28T10:27:10.438Z"
   },
   {
    "duration": 19,
    "start_time": "2024-02-28T10:27:10.456Z"
   },
   {
    "duration": 36,
    "start_time": "2024-02-28T10:27:10.477Z"
   },
   {
    "duration": 39,
    "start_time": "2024-02-28T10:27:10.515Z"
   },
   {
    "duration": 53,
    "start_time": "2024-02-28T10:27:10.556Z"
   },
   {
    "duration": 65,
    "start_time": "2024-02-28T10:27:10.611Z"
   },
   {
    "duration": 0,
    "start_time": "2024-02-28T10:27:10.679Z"
   },
   {
    "duration": 0,
    "start_time": "2024-02-28T10:27:10.680Z"
   },
   {
    "duration": 0,
    "start_time": "2024-02-28T10:27:10.681Z"
   },
   {
    "duration": 0,
    "start_time": "2024-02-28T10:27:10.682Z"
   },
   {
    "duration": 0,
    "start_time": "2024-02-28T10:27:10.683Z"
   },
   {
    "duration": 0,
    "start_time": "2024-02-28T10:27:10.684Z"
   },
   {
    "duration": 0,
    "start_time": "2024-02-28T10:27:10.685Z"
   },
   {
    "duration": 0,
    "start_time": "2024-02-28T10:27:10.687Z"
   },
   {
    "duration": 0,
    "start_time": "2024-02-28T10:27:10.688Z"
   },
   {
    "duration": 0,
    "start_time": "2024-02-28T10:27:10.689Z"
   },
   {
    "duration": 0,
    "start_time": "2024-02-28T10:27:10.691Z"
   },
   {
    "duration": 0,
    "start_time": "2024-02-28T10:27:10.692Z"
   },
   {
    "duration": 0,
    "start_time": "2024-02-28T10:27:10.694Z"
   },
   {
    "duration": 0,
    "start_time": "2024-02-28T10:27:10.696Z"
   },
   {
    "duration": 0,
    "start_time": "2024-02-28T10:27:10.698Z"
   },
   {
    "duration": 0,
    "start_time": "2024-02-28T10:27:10.700Z"
   },
   {
    "duration": 0,
    "start_time": "2024-02-28T10:27:10.701Z"
   },
   {
    "duration": 0,
    "start_time": "2024-02-28T10:27:10.703Z"
   },
   {
    "duration": 0,
    "start_time": "2024-02-28T10:27:10.704Z"
   },
   {
    "duration": 0,
    "start_time": "2024-02-28T10:27:10.706Z"
   },
   {
    "duration": 0,
    "start_time": "2024-02-28T10:27:10.707Z"
   },
   {
    "duration": 0,
    "start_time": "2024-02-28T10:27:10.709Z"
   },
   {
    "duration": 1,
    "start_time": "2024-02-28T10:27:10.710Z"
   },
   {
    "duration": 0,
    "start_time": "2024-02-28T10:27:10.712Z"
   },
   {
    "duration": 0,
    "start_time": "2024-02-28T10:27:10.713Z"
   },
   {
    "duration": 0,
    "start_time": "2024-02-28T10:27:10.714Z"
   },
   {
    "duration": 0,
    "start_time": "2024-02-28T10:27:10.715Z"
   },
   {
    "duration": 0,
    "start_time": "2024-02-28T10:27:10.716Z"
   },
   {
    "duration": 0,
    "start_time": "2024-02-28T10:27:10.717Z"
   },
   {
    "duration": 0,
    "start_time": "2024-02-28T10:27:10.719Z"
   },
   {
    "duration": 0,
    "start_time": "2024-02-28T10:27:10.720Z"
   },
   {
    "duration": 0,
    "start_time": "2024-02-28T10:27:10.781Z"
   },
   {
    "duration": 0,
    "start_time": "2024-02-28T10:27:10.782Z"
   },
   {
    "duration": 0,
    "start_time": "2024-02-28T10:27:10.783Z"
   },
   {
    "duration": 0,
    "start_time": "2024-02-28T10:27:10.785Z"
   },
   {
    "duration": 0,
    "start_time": "2024-02-28T10:27:10.786Z"
   },
   {
    "duration": 0,
    "start_time": "2024-02-28T10:27:10.787Z"
   },
   {
    "duration": 0,
    "start_time": "2024-02-28T10:27:10.788Z"
   },
   {
    "duration": 0,
    "start_time": "2024-02-28T10:27:10.789Z"
   },
   {
    "duration": 0,
    "start_time": "2024-02-28T10:27:10.790Z"
   },
   {
    "duration": 0,
    "start_time": "2024-02-28T10:27:10.792Z"
   },
   {
    "duration": 0,
    "start_time": "2024-02-28T10:27:10.793Z"
   },
   {
    "duration": 1,
    "start_time": "2024-02-28T10:27:10.794Z"
   },
   {
    "duration": 0,
    "start_time": "2024-02-28T10:27:10.796Z"
   },
   {
    "duration": 0,
    "start_time": "2024-02-28T10:27:10.797Z"
   },
   {
    "duration": 0,
    "start_time": "2024-02-28T10:27:10.798Z"
   },
   {
    "duration": 0,
    "start_time": "2024-02-28T10:27:10.799Z"
   },
   {
    "duration": 0,
    "start_time": "2024-02-28T10:27:10.800Z"
   },
   {
    "duration": 0,
    "start_time": "2024-02-28T10:27:10.801Z"
   },
   {
    "duration": 0,
    "start_time": "2024-02-28T10:27:10.802Z"
   },
   {
    "duration": 0,
    "start_time": "2024-02-28T10:27:10.803Z"
   },
   {
    "duration": 0,
    "start_time": "2024-02-28T10:27:10.804Z"
   },
   {
    "duration": 0,
    "start_time": "2024-02-28T10:27:10.805Z"
   },
   {
    "duration": 0,
    "start_time": "2024-02-28T10:27:10.806Z"
   },
   {
    "duration": 0,
    "start_time": "2024-02-28T10:27:10.807Z"
   },
   {
    "duration": 0,
    "start_time": "2024-02-28T10:27:10.809Z"
   },
   {
    "duration": 0,
    "start_time": "2024-02-28T10:27:10.810Z"
   },
   {
    "duration": 0,
    "start_time": "2024-02-28T10:27:10.811Z"
   },
   {
    "duration": 0,
    "start_time": "2024-02-28T10:27:10.812Z"
   },
   {
    "duration": 0,
    "start_time": "2024-02-28T10:27:10.813Z"
   },
   {
    "duration": 3,
    "start_time": "2024-02-28T10:30:10.993Z"
   },
   {
    "duration": 30,
    "start_time": "2024-02-28T10:30:10.998Z"
   },
   {
    "duration": 8,
    "start_time": "2024-02-28T10:30:11.030Z"
   },
   {
    "duration": 15,
    "start_time": "2024-02-28T10:30:11.040Z"
   },
   {
    "duration": 13,
    "start_time": "2024-02-28T10:30:11.057Z"
   },
   {
    "duration": 11,
    "start_time": "2024-02-28T10:30:11.072Z"
   },
   {
    "duration": 3,
    "start_time": "2024-02-28T10:30:11.086Z"
   },
   {
    "duration": 6,
    "start_time": "2024-02-28T10:30:11.091Z"
   },
   {
    "duration": 12,
    "start_time": "2024-02-28T10:30:11.098Z"
   },
   {
    "duration": 68,
    "start_time": "2024-02-28T10:30:11.113Z"
   },
   {
    "duration": 18,
    "start_time": "2024-02-28T10:30:11.183Z"
   },
   {
    "duration": 9,
    "start_time": "2024-02-28T10:30:11.202Z"
   },
   {
    "duration": 15,
    "start_time": "2024-02-28T10:30:11.213Z"
   },
   {
    "duration": 25,
    "start_time": "2024-02-28T10:30:11.229Z"
   },
   {
    "duration": 13,
    "start_time": "2024-02-28T10:30:11.256Z"
   },
   {
    "duration": 9,
    "start_time": "2024-02-28T10:30:11.271Z"
   },
   {
    "duration": 8,
    "start_time": "2024-02-28T10:30:11.282Z"
   },
   {
    "duration": 20,
    "start_time": "2024-02-28T10:30:11.292Z"
   },
   {
    "duration": 12,
    "start_time": "2024-02-28T10:30:11.313Z"
   },
   {
    "duration": 10,
    "start_time": "2024-02-28T10:30:11.327Z"
   },
   {
    "duration": 9,
    "start_time": "2024-02-28T10:30:11.339Z"
   },
   {
    "duration": 31,
    "start_time": "2024-02-28T10:30:11.349Z"
   },
   {
    "duration": 17,
    "start_time": "2024-02-28T10:30:11.382Z"
   },
   {
    "duration": 6,
    "start_time": "2024-02-28T10:30:11.401Z"
   },
   {
    "duration": 13,
    "start_time": "2024-02-28T10:30:11.409Z"
   },
   {
    "duration": 208,
    "start_time": "2024-02-28T10:30:11.423Z"
   },
   {
    "duration": 13,
    "start_time": "2024-02-28T10:30:11.632Z"
   },
   {
    "duration": 155,
    "start_time": "2024-02-28T10:30:11.647Z"
   },
   {
    "duration": 11,
    "start_time": "2024-02-28T10:30:11.804Z"
   },
   {
    "duration": 8,
    "start_time": "2024-02-28T10:30:11.816Z"
   },
   {
    "duration": 22,
    "start_time": "2024-02-28T10:30:11.826Z"
   },
   {
    "duration": 23,
    "start_time": "2024-02-28T10:30:11.849Z"
   },
   {
    "duration": 12,
    "start_time": "2024-02-28T10:30:11.874Z"
   },
   {
    "duration": 10,
    "start_time": "2024-02-28T10:30:11.888Z"
   },
   {
    "duration": 13,
    "start_time": "2024-02-28T10:30:11.902Z"
   },
   {
    "duration": 272,
    "start_time": "2024-02-28T10:30:11.916Z"
   },
   {
    "duration": 256,
    "start_time": "2024-02-28T10:30:12.190Z"
   },
   {
    "duration": 7,
    "start_time": "2024-02-28T10:30:12.448Z"
   },
   {
    "duration": 370,
    "start_time": "2024-02-28T10:30:12.457Z"
   },
   {
    "duration": 4,
    "start_time": "2024-02-28T10:30:12.829Z"
   },
   {
    "duration": 12,
    "start_time": "2024-02-28T10:30:12.835Z"
   },
   {
    "duration": 9,
    "start_time": "2024-02-28T10:30:12.849Z"
   },
   {
    "duration": 336,
    "start_time": "2024-02-28T10:30:12.859Z"
   },
   {
    "duration": 8,
    "start_time": "2024-02-28T10:30:13.197Z"
   },
   {
    "duration": 325,
    "start_time": "2024-02-28T10:30:13.207Z"
   },
   {
    "duration": 6,
    "start_time": "2024-02-28T10:30:13.534Z"
   },
   {
    "duration": 14,
    "start_time": "2024-02-28T10:30:13.542Z"
   },
   {
    "duration": 9,
    "start_time": "2024-02-28T10:30:13.558Z"
   },
   {
    "duration": 18,
    "start_time": "2024-02-28T10:30:13.580Z"
   },
   {
    "duration": 140,
    "start_time": "2024-02-28T10:30:13.600Z"
   },
   {
    "duration": 6,
    "start_time": "2024-02-28T10:30:13.742Z"
   },
   {
    "duration": 172,
    "start_time": "2024-02-28T10:30:13.750Z"
   },
   {
    "duration": 161,
    "start_time": "2024-02-28T10:30:13.924Z"
   },
   {
    "duration": 5,
    "start_time": "2024-02-28T10:30:14.087Z"
   },
   {
    "duration": 268,
    "start_time": "2024-02-28T10:30:14.093Z"
   },
   {
    "duration": 191,
    "start_time": "2024-02-28T10:30:14.362Z"
   },
   {
    "duration": 18,
    "start_time": "2024-02-28T10:30:14.555Z"
   },
   {
    "duration": 24,
    "start_time": "2024-02-28T10:30:14.575Z"
   },
   {
    "duration": 73,
    "start_time": "2024-02-28T10:30:14.601Z"
   },
   {
    "duration": 25,
    "start_time": "2024-02-28T10:30:14.676Z"
   },
   {
    "duration": 9,
    "start_time": "2024-02-28T10:30:14.703Z"
   },
   {
    "duration": 76,
    "start_time": "2024-02-28T10:30:14.714Z"
   },
   {
    "duration": 27,
    "start_time": "2024-02-28T10:30:14.792Z"
   },
   {
    "duration": 15,
    "start_time": "2024-02-28T10:30:14.821Z"
   },
   {
    "duration": 160,
    "start_time": "2024-02-28T10:30:14.839Z"
   },
   {
    "duration": 7,
    "start_time": "2024-02-28T10:30:15.001Z"
   },
   {
    "duration": 578,
    "start_time": "2024-02-28T10:30:15.010Z"
   },
   {
    "duration": 364,
    "start_time": "2024-02-28T10:30:15.590Z"
   },
   {
    "duration": 12,
    "start_time": "2024-02-28T10:30:15.956Z"
   },
   {
    "duration": 56,
    "start_time": "2024-02-28T10:30:15.969Z"
   },
   {
    "duration": 62,
    "start_time": "2024-02-28T10:30:16.027Z"
   },
   {
    "duration": 38,
    "start_time": "2024-02-28T10:30:16.091Z"
   },
   {
    "duration": 45,
    "start_time": "2024-02-28T10:30:16.131Z"
   },
   {
    "duration": 5,
    "start_time": "2024-02-28T10:30:16.178Z"
   },
   {
    "duration": 35,
    "start_time": "2024-02-28T10:30:16.185Z"
   },
   {
    "duration": 15,
    "start_time": "2024-02-28T10:30:16.225Z"
   },
   {
    "duration": 3,
    "start_time": "2024-02-28T10:32:26.766Z"
   },
   {
    "duration": 29,
    "start_time": "2024-02-28T10:32:26.773Z"
   },
   {
    "duration": 8,
    "start_time": "2024-02-28T10:32:26.803Z"
   },
   {
    "duration": 21,
    "start_time": "2024-02-28T10:32:26.813Z"
   },
   {
    "duration": 18,
    "start_time": "2024-02-28T10:32:26.837Z"
   },
   {
    "duration": 18,
    "start_time": "2024-02-28T10:32:26.857Z"
   },
   {
    "duration": 3,
    "start_time": "2024-02-28T10:32:26.877Z"
   },
   {
    "duration": 11,
    "start_time": "2024-02-28T10:32:26.881Z"
   },
   {
    "duration": 26,
    "start_time": "2024-02-28T10:32:26.893Z"
   },
   {
    "duration": 45,
    "start_time": "2024-02-28T10:32:26.922Z"
   },
   {
    "duration": 17,
    "start_time": "2024-02-28T10:32:26.969Z"
   },
   {
    "duration": 17,
    "start_time": "2024-02-28T10:32:26.988Z"
   },
   {
    "duration": 23,
    "start_time": "2024-02-28T10:32:27.007Z"
   },
   {
    "duration": 26,
    "start_time": "2024-02-28T10:32:27.031Z"
   },
   {
    "duration": 22,
    "start_time": "2024-02-28T10:32:27.059Z"
   },
   {
    "duration": 8,
    "start_time": "2024-02-28T10:32:27.083Z"
   },
   {
    "duration": 34,
    "start_time": "2024-02-28T10:32:27.093Z"
   },
   {
    "duration": 29,
    "start_time": "2024-02-28T10:32:27.129Z"
   },
   {
    "duration": 16,
    "start_time": "2024-02-28T10:32:27.160Z"
   },
   {
    "duration": 56,
    "start_time": "2024-02-28T10:32:27.178Z"
   },
   {
    "duration": 16,
    "start_time": "2024-02-28T10:32:27.237Z"
   },
   {
    "duration": 8,
    "start_time": "2024-02-28T10:32:27.255Z"
   },
   {
    "duration": 15,
    "start_time": "2024-02-28T10:32:27.265Z"
   },
   {
    "duration": 5,
    "start_time": "2024-02-28T10:32:27.282Z"
   },
   {
    "duration": 29,
    "start_time": "2024-02-28T10:32:27.290Z"
   },
   {
    "duration": 19,
    "start_time": "2024-02-28T10:32:27.321Z"
   },
   {
    "duration": 8,
    "start_time": "2024-02-28T10:32:27.342Z"
   },
   {
    "duration": 172,
    "start_time": "2024-02-28T10:32:27.352Z"
   },
   {
    "duration": 14,
    "start_time": "2024-02-28T10:32:27.527Z"
   },
   {
    "duration": 126,
    "start_time": "2024-02-28T10:32:27.543Z"
   },
   {
    "duration": 18,
    "start_time": "2024-02-28T10:32:27.671Z"
   },
   {
    "duration": 9,
    "start_time": "2024-02-28T10:32:27.691Z"
   },
   {
    "duration": 10,
    "start_time": "2024-02-28T10:32:27.702Z"
   },
   {
    "duration": 9,
    "start_time": "2024-02-28T10:32:27.714Z"
   },
   {
    "duration": 26,
    "start_time": "2024-02-28T10:32:27.725Z"
   },
   {
    "duration": 8,
    "start_time": "2024-02-28T10:32:27.753Z"
   },
   {
    "duration": 8,
    "start_time": "2024-02-28T10:32:27.763Z"
   },
   {
    "duration": 238,
    "start_time": "2024-02-28T10:32:27.773Z"
   },
   {
    "duration": 242,
    "start_time": "2024-02-28T10:32:28.013Z"
   },
   {
    "duration": 6,
    "start_time": "2024-02-28T10:32:28.257Z"
   },
   {
    "duration": 352,
    "start_time": "2024-02-28T10:32:28.265Z"
   },
   {
    "duration": 4,
    "start_time": "2024-02-28T10:32:28.619Z"
   },
   {
    "duration": 16,
    "start_time": "2024-02-28T10:32:28.624Z"
   },
   {
    "duration": 5,
    "start_time": "2024-02-28T10:32:28.642Z"
   },
   {
    "duration": 279,
    "start_time": "2024-02-28T10:32:28.650Z"
   },
   {
    "duration": 9,
    "start_time": "2024-02-28T10:32:28.931Z"
   },
   {
    "duration": 365,
    "start_time": "2024-02-28T10:32:28.942Z"
   },
   {
    "duration": 6,
    "start_time": "2024-02-28T10:32:29.309Z"
   },
   {
    "duration": 6,
    "start_time": "2024-02-28T10:32:29.317Z"
   },
   {
    "duration": 8,
    "start_time": "2024-02-28T10:32:29.324Z"
   },
   {
    "duration": 25,
    "start_time": "2024-02-28T10:32:29.334Z"
   },
   {
    "duration": 224,
    "start_time": "2024-02-28T10:32:29.361Z"
   },
   {
    "duration": 5,
    "start_time": "2024-02-28T10:32:29.590Z"
   },
   {
    "duration": 171,
    "start_time": "2024-02-28T10:32:29.597Z"
   },
   {
    "duration": 161,
    "start_time": "2024-02-28T10:32:29.770Z"
   },
   {
    "duration": 4,
    "start_time": "2024-02-28T10:32:29.933Z"
   },
   {
    "duration": 58,
    "start_time": "2024-02-28T10:32:29.939Z"
   },
   {
    "duration": 99,
    "start_time": "2024-02-28T10:32:29.999Z"
   },
   {
    "duration": 100,
    "start_time": "2024-02-28T10:32:30.100Z"
   },
   {
    "duration": 408,
    "start_time": "2024-02-28T10:32:30.202Z"
   },
   {
    "duration": 227,
    "start_time": "2024-02-28T10:32:30.612Z"
   },
   {
    "duration": 124,
    "start_time": "2024-02-28T10:32:30.841Z"
   },
   {
    "duration": 80,
    "start_time": "2024-02-28T10:32:30.966Z"
   },
   {
    "duration": 249,
    "start_time": "2024-02-28T10:32:31.047Z"
   },
   {
    "duration": 294,
    "start_time": "2024-02-28T10:32:31.297Z"
   },
   {
    "duration": 294,
    "start_time": "2024-02-28T10:32:31.593Z"
   },
   {
    "duration": 314,
    "start_time": "2024-02-28T10:32:31.889Z"
   },
   {
    "duration": 6,
    "start_time": "2024-02-28T10:32:32.204Z"
   },
   {
    "duration": 46,
    "start_time": "2024-02-28T10:32:32.211Z"
   },
   {
    "duration": 121,
    "start_time": "2024-02-28T10:32:32.259Z"
   },
   {
    "duration": 74,
    "start_time": "2024-02-28T10:32:32.382Z"
   },
   {
    "duration": 73,
    "start_time": "2024-02-28T10:32:32.458Z"
   },
   {
    "duration": 187,
    "start_time": "2024-02-28T10:32:32.533Z"
   },
   {
    "duration": 66,
    "start_time": "2024-02-28T10:32:32.721Z"
   },
   {
    "duration": 37,
    "start_time": "2024-02-28T10:32:32.789Z"
   },
   {
    "duration": 51,
    "start_time": "2024-02-28T10:32:32.828Z"
   },
   {
    "duration": 60,
    "start_time": "2024-02-28T10:32:32.881Z"
   },
   {
    "duration": 125,
    "start_time": "2024-02-28T10:32:32.943Z"
   },
   {
    "duration": 14,
    "start_time": "2024-02-28T10:37:58.673Z"
   },
   {
    "duration": 6,
    "start_time": "2024-02-28T10:38:01.991Z"
   },
   {
    "duration": 3,
    "start_time": "2024-02-28T10:38:09.033Z"
   },
   {
    "duration": 235,
    "start_time": "2024-02-28T10:38:09.039Z"
   },
   {
    "duration": 8,
    "start_time": "2024-02-28T10:38:09.276Z"
   },
   {
    "duration": 15,
    "start_time": "2024-02-28T10:38:09.286Z"
   },
   {
    "duration": 24,
    "start_time": "2024-02-28T10:38:09.303Z"
   },
   {
    "duration": 14,
    "start_time": "2024-02-28T10:38:09.328Z"
   },
   {
    "duration": 24,
    "start_time": "2024-02-28T10:38:09.344Z"
   },
   {
    "duration": 11,
    "start_time": "2024-02-28T10:38:09.370Z"
   },
   {
    "duration": 25,
    "start_time": "2024-02-28T10:38:09.382Z"
   },
   {
    "duration": 47,
    "start_time": "2024-02-28T10:38:09.408Z"
   },
   {
    "duration": 17,
    "start_time": "2024-02-28T10:38:09.459Z"
   },
   {
    "duration": 9,
    "start_time": "2024-02-28T10:38:09.478Z"
   },
   {
    "duration": 12,
    "start_time": "2024-02-28T10:38:09.490Z"
   },
   {
    "duration": 6,
    "start_time": "2024-02-28T10:38:09.503Z"
   },
   {
    "duration": 10,
    "start_time": "2024-02-28T10:38:09.510Z"
   },
   {
    "duration": 5,
    "start_time": "2024-02-28T10:38:09.522Z"
   },
   {
    "duration": 53,
    "start_time": "2024-02-28T10:38:09.528Z"
   },
   {
    "duration": 5,
    "start_time": "2024-02-28T10:38:09.583Z"
   },
   {
    "duration": 15,
    "start_time": "2024-02-28T10:38:09.590Z"
   },
   {
    "duration": 26,
    "start_time": "2024-02-28T10:38:09.606Z"
   },
   {
    "duration": 18,
    "start_time": "2024-02-28T10:38:09.633Z"
   },
   {
    "duration": 9,
    "start_time": "2024-02-28T10:38:09.653Z"
   },
   {
    "duration": 17,
    "start_time": "2024-02-28T10:38:09.664Z"
   },
   {
    "duration": 7,
    "start_time": "2024-02-28T10:38:09.683Z"
   },
   {
    "duration": 31,
    "start_time": "2024-02-28T10:38:09.691Z"
   },
   {
    "duration": 23,
    "start_time": "2024-02-28T10:38:09.724Z"
   },
   {
    "duration": 14,
    "start_time": "2024-02-28T10:38:09.749Z"
   },
   {
    "duration": 175,
    "start_time": "2024-02-28T10:38:09.765Z"
   },
   {
    "duration": 11,
    "start_time": "2024-02-28T10:38:09.944Z"
   },
   {
    "duration": 133,
    "start_time": "2024-02-28T10:38:09.957Z"
   },
   {
    "duration": 11,
    "start_time": "2024-02-28T10:38:10.091Z"
   },
   {
    "duration": 17,
    "start_time": "2024-02-28T10:38:10.103Z"
   },
   {
    "duration": 21,
    "start_time": "2024-02-28T10:38:10.122Z"
   },
   {
    "duration": 5,
    "start_time": "2024-02-28T10:38:10.145Z"
   },
   {
    "duration": 10,
    "start_time": "2024-02-28T10:38:10.152Z"
   },
   {
    "duration": 57,
    "start_time": "2024-02-28T10:38:10.164Z"
   },
   {
    "duration": 10,
    "start_time": "2024-02-28T10:38:10.222Z"
   },
   {
    "duration": 237,
    "start_time": "2024-02-28T10:38:10.234Z"
   },
   {
    "duration": 236,
    "start_time": "2024-02-28T10:38:10.480Z"
   },
   {
    "duration": 6,
    "start_time": "2024-02-28T10:38:10.717Z"
   },
   {
    "duration": 369,
    "start_time": "2024-02-28T10:38:10.725Z"
   },
   {
    "duration": 4,
    "start_time": "2024-02-28T10:38:11.097Z"
   },
   {
    "duration": 19,
    "start_time": "2024-02-28T10:38:11.103Z"
   },
   {
    "duration": 8,
    "start_time": "2024-02-28T10:38:11.123Z"
   },
   {
    "duration": 252,
    "start_time": "2024-02-28T10:38:11.132Z"
   },
   {
    "duration": 8,
    "start_time": "2024-02-28T10:38:11.386Z"
   },
   {
    "duration": 329,
    "start_time": "2024-02-28T10:38:11.395Z"
   },
   {
    "duration": 8,
    "start_time": "2024-02-28T10:38:11.726Z"
   },
   {
    "duration": 12,
    "start_time": "2024-02-28T10:38:11.735Z"
   },
   {
    "duration": 5,
    "start_time": "2024-02-28T10:38:11.749Z"
   },
   {
    "duration": 25,
    "start_time": "2024-02-28T10:38:11.756Z"
   },
   {
    "duration": 142,
    "start_time": "2024-02-28T10:38:11.782Z"
   },
   {
    "duration": 5,
    "start_time": "2024-02-28T10:38:11.926Z"
   },
   {
    "duration": 177,
    "start_time": "2024-02-28T10:38:11.932Z"
   },
   {
    "duration": 245,
    "start_time": "2024-02-28T10:38:12.111Z"
   },
   {
    "duration": 5,
    "start_time": "2024-02-28T10:38:12.358Z"
   },
   {
    "duration": 55,
    "start_time": "2024-02-28T10:38:12.364Z"
   },
   {
    "duration": 63,
    "start_time": "2024-02-28T10:38:12.420Z"
   },
   {
    "duration": 21,
    "start_time": "2024-02-28T10:38:12.485Z"
   },
   {
    "duration": 13,
    "start_time": "2024-02-28T10:38:12.511Z"
   },
   {
    "duration": 74,
    "start_time": "2024-02-28T10:38:12.526Z"
   },
   {
    "duration": 26,
    "start_time": "2024-02-28T10:38:12.602Z"
   },
   {
    "duration": 15,
    "start_time": "2024-02-28T10:38:12.630Z"
   },
   {
    "duration": 50,
    "start_time": "2024-02-28T10:38:12.647Z"
   },
   {
    "duration": 40,
    "start_time": "2024-02-28T10:38:12.699Z"
   },
   {
    "duration": 14,
    "start_time": "2024-02-28T10:38:12.741Z"
   },
   {
    "duration": 139,
    "start_time": "2024-02-28T10:38:12.757Z"
   },
   {
    "duration": 5,
    "start_time": "2024-02-28T10:38:12.898Z"
   },
   {
    "duration": 21,
    "start_time": "2024-02-28T10:38:12.904Z"
   },
   {
    "duration": 45,
    "start_time": "2024-02-28T10:38:12.927Z"
   },
   {
    "duration": 11,
    "start_time": "2024-02-28T10:38:12.973Z"
   },
   {
    "duration": 8,
    "start_time": "2024-02-28T10:38:12.985Z"
   },
   {
    "duration": 10,
    "start_time": "2024-02-28T10:38:12.994Z"
   },
   {
    "duration": 8,
    "start_time": "2024-02-28T10:38:13.005Z"
   },
   {
    "duration": 28,
    "start_time": "2024-02-28T10:38:13.015Z"
   },
   {
    "duration": 4,
    "start_time": "2024-02-28T10:38:13.045Z"
   },
   {
    "duration": 30,
    "start_time": "2024-02-28T10:38:13.051Z"
   },
   {
    "duration": 34,
    "start_time": "2024-02-28T10:38:13.083Z"
   },
   {
    "duration": 13,
    "start_time": "2024-02-28T10:40:46.500Z"
   },
   {
    "duration": 4,
    "start_time": "2024-02-28T10:41:00.489Z"
   },
   {
    "duration": 71,
    "start_time": "2024-02-28T10:41:00.497Z"
   },
   {
    "duration": 37,
    "start_time": "2024-02-28T10:41:00.570Z"
   },
   {
    "duration": 65,
    "start_time": "2024-02-28T10:41:00.609Z"
   },
   {
    "duration": 33,
    "start_time": "2024-02-28T10:41:00.677Z"
   },
   {
    "duration": 57,
    "start_time": "2024-02-28T10:41:00.712Z"
   },
   {
    "duration": 70,
    "start_time": "2024-02-28T10:41:00.770Z"
   },
   {
    "duration": 79,
    "start_time": "2024-02-28T10:41:00.842Z"
   },
   {
    "duration": 41,
    "start_time": "2024-02-28T10:41:00.923Z"
   },
   {
    "duration": 90,
    "start_time": "2024-02-28T10:41:00.966Z"
   },
   {
    "duration": 17,
    "start_time": "2024-02-28T10:41:01.059Z"
   },
   {
    "duration": 108,
    "start_time": "2024-02-28T10:41:01.078Z"
   },
   {
    "duration": 139,
    "start_time": "2024-02-28T10:41:01.187Z"
   },
   {
    "duration": 174,
    "start_time": "2024-02-28T10:41:01.328Z"
   },
   {
    "duration": 126,
    "start_time": "2024-02-28T10:41:01.504Z"
   },
   {
    "duration": 125,
    "start_time": "2024-02-28T10:41:01.631Z"
   },
   {
    "duration": 188,
    "start_time": "2024-02-28T10:41:01.758Z"
   },
   {
    "duration": 77,
    "start_time": "2024-02-28T10:41:01.948Z"
   },
   {
    "duration": 47,
    "start_time": "2024-02-28T10:41:02.027Z"
   },
   {
    "duration": 50,
    "start_time": "2024-02-28T10:41:02.076Z"
   },
   {
    "duration": 36,
    "start_time": "2024-02-28T10:41:02.128Z"
   },
   {
    "duration": 45,
    "start_time": "2024-02-28T10:41:02.165Z"
   },
   {
    "duration": 60,
    "start_time": "2024-02-28T10:41:02.211Z"
   },
   {
    "duration": 41,
    "start_time": "2024-02-28T10:41:02.273Z"
   },
   {
    "duration": 121,
    "start_time": "2024-02-28T10:41:02.316Z"
   },
   {
    "duration": 45,
    "start_time": "2024-02-28T10:41:02.438Z"
   },
   {
    "duration": 0,
    "start_time": "2024-02-28T10:41:02.486Z"
   },
   {
    "duration": 0,
    "start_time": "2024-02-28T10:41:02.487Z"
   },
   {
    "duration": 0,
    "start_time": "2024-02-28T10:41:02.489Z"
   },
   {
    "duration": 0,
    "start_time": "2024-02-28T10:41:02.490Z"
   },
   {
    "duration": 0,
    "start_time": "2024-02-28T10:41:02.491Z"
   },
   {
    "duration": 0,
    "start_time": "2024-02-28T10:41:02.492Z"
   },
   {
    "duration": 0,
    "start_time": "2024-02-28T10:41:02.493Z"
   },
   {
    "duration": 0,
    "start_time": "2024-02-28T10:41:02.494Z"
   },
   {
    "duration": 0,
    "start_time": "2024-02-28T10:41:02.495Z"
   },
   {
    "duration": 0,
    "start_time": "2024-02-28T10:41:02.496Z"
   },
   {
    "duration": 0,
    "start_time": "2024-02-28T10:41:02.497Z"
   },
   {
    "duration": 0,
    "start_time": "2024-02-28T10:41:02.498Z"
   },
   {
    "duration": 0,
    "start_time": "2024-02-28T10:41:02.499Z"
   },
   {
    "duration": 0,
    "start_time": "2024-02-28T10:41:02.501Z"
   },
   {
    "duration": 0,
    "start_time": "2024-02-28T10:41:02.502Z"
   },
   {
    "duration": 0,
    "start_time": "2024-02-28T10:41:02.503Z"
   },
   {
    "duration": 1,
    "start_time": "2024-02-28T10:41:02.503Z"
   },
   {
    "duration": 0,
    "start_time": "2024-02-28T10:41:02.505Z"
   },
   {
    "duration": 0,
    "start_time": "2024-02-28T10:41:02.506Z"
   },
   {
    "duration": 0,
    "start_time": "2024-02-28T10:41:02.507Z"
   },
   {
    "duration": 0,
    "start_time": "2024-02-28T10:41:02.508Z"
   },
   {
    "duration": 0,
    "start_time": "2024-02-28T10:41:02.509Z"
   },
   {
    "duration": 0,
    "start_time": "2024-02-28T10:41:02.510Z"
   },
   {
    "duration": 0,
    "start_time": "2024-02-28T10:41:02.511Z"
   },
   {
    "duration": 0,
    "start_time": "2024-02-28T10:41:02.511Z"
   },
   {
    "duration": 0,
    "start_time": "2024-02-28T10:41:02.513Z"
   },
   {
    "duration": 0,
    "start_time": "2024-02-28T10:41:02.514Z"
   },
   {
    "duration": 0,
    "start_time": "2024-02-28T10:41:02.515Z"
   },
   {
    "duration": 0,
    "start_time": "2024-02-28T10:41:02.516Z"
   },
   {
    "duration": 0,
    "start_time": "2024-02-28T10:41:02.518Z"
   },
   {
    "duration": 0,
    "start_time": "2024-02-28T10:41:02.518Z"
   },
   {
    "duration": 0,
    "start_time": "2024-02-28T10:41:02.520Z"
   },
   {
    "duration": 0,
    "start_time": "2024-02-28T10:41:02.521Z"
   },
   {
    "duration": 0,
    "start_time": "2024-02-28T10:41:02.580Z"
   },
   {
    "duration": 0,
    "start_time": "2024-02-28T10:41:02.581Z"
   },
   {
    "duration": 0,
    "start_time": "2024-02-28T10:41:02.582Z"
   },
   {
    "duration": 0,
    "start_time": "2024-02-28T10:41:02.583Z"
   },
   {
    "duration": 0,
    "start_time": "2024-02-28T10:41:02.584Z"
   },
   {
    "duration": 0,
    "start_time": "2024-02-28T10:41:02.585Z"
   },
   {
    "duration": 0,
    "start_time": "2024-02-28T10:41:02.586Z"
   },
   {
    "duration": 0,
    "start_time": "2024-02-28T10:41:02.587Z"
   },
   {
    "duration": 0,
    "start_time": "2024-02-28T10:41:02.588Z"
   },
   {
    "duration": 0,
    "start_time": "2024-02-28T10:41:02.589Z"
   },
   {
    "duration": 0,
    "start_time": "2024-02-28T10:41:02.590Z"
   },
   {
    "duration": 0,
    "start_time": "2024-02-28T10:41:02.591Z"
   },
   {
    "duration": 0,
    "start_time": "2024-02-28T10:41:02.592Z"
   },
   {
    "duration": 0,
    "start_time": "2024-02-28T10:41:02.593Z"
   },
   {
    "duration": 0,
    "start_time": "2024-02-28T10:41:02.594Z"
   },
   {
    "duration": 0,
    "start_time": "2024-02-28T10:41:02.595Z"
   },
   {
    "duration": 0,
    "start_time": "2024-02-28T10:41:02.597Z"
   },
   {
    "duration": 0,
    "start_time": "2024-02-28T10:41:02.597Z"
   },
   {
    "duration": 0,
    "start_time": "2024-02-28T10:41:02.598Z"
   },
   {
    "duration": 0,
    "start_time": "2024-02-28T10:41:02.599Z"
   },
   {
    "duration": 4,
    "start_time": "2024-02-28T10:41:32.604Z"
   },
   {
    "duration": 87,
    "start_time": "2024-02-28T10:41:32.613Z"
   },
   {
    "duration": 26,
    "start_time": "2024-02-28T10:41:32.702Z"
   },
   {
    "duration": 12,
    "start_time": "2024-02-28T10:41:32.730Z"
   },
   {
    "duration": 9,
    "start_time": "2024-02-28T10:41:32.744Z"
   },
   {
    "duration": 29,
    "start_time": "2024-02-28T10:41:32.754Z"
   },
   {
    "duration": 10,
    "start_time": "2024-02-28T10:41:32.785Z"
   },
   {
    "duration": 12,
    "start_time": "2024-02-28T10:41:32.796Z"
   },
   {
    "duration": 32,
    "start_time": "2024-02-28T10:41:32.810Z"
   },
   {
    "duration": 58,
    "start_time": "2024-02-28T10:41:32.844Z"
   },
   {
    "duration": 18,
    "start_time": "2024-02-28T10:41:32.905Z"
   },
   {
    "duration": 10,
    "start_time": "2024-02-28T10:41:32.925Z"
   },
   {
    "duration": 15,
    "start_time": "2024-02-28T10:41:32.937Z"
   },
   {
    "duration": 16,
    "start_time": "2024-02-28T10:41:32.954Z"
   },
   {
    "duration": 11,
    "start_time": "2024-02-28T10:41:32.971Z"
   },
   {
    "duration": 5,
    "start_time": "2024-02-28T10:41:32.985Z"
   },
   {
    "duration": 15,
    "start_time": "2024-02-28T10:41:32.992Z"
   },
   {
    "duration": 12,
    "start_time": "2024-02-28T10:41:33.009Z"
   },
   {
    "duration": 13,
    "start_time": "2024-02-28T10:41:33.023Z"
   },
   {
    "duration": 13,
    "start_time": "2024-02-28T10:41:33.038Z"
   },
   {
    "duration": 12,
    "start_time": "2024-02-28T10:41:33.081Z"
   },
   {
    "duration": 27,
    "start_time": "2024-02-28T10:41:33.094Z"
   },
   {
    "duration": 14,
    "start_time": "2024-02-28T10:41:33.122Z"
   },
   {
    "duration": 6,
    "start_time": "2024-02-28T10:41:33.137Z"
   },
   {
    "duration": 20,
    "start_time": "2024-02-28T10:41:33.145Z"
   },
   {
    "duration": 22,
    "start_time": "2024-02-28T10:41:33.166Z"
   },
   {
    "duration": 8,
    "start_time": "2024-02-28T10:41:33.190Z"
   },
   {
    "duration": 24,
    "start_time": "2024-02-28T10:41:33.199Z"
   },
   {
    "duration": 162,
    "start_time": "2024-02-28T10:41:33.228Z"
   },
   {
    "duration": 11,
    "start_time": "2024-02-28T10:41:33.392Z"
   },
   {
    "duration": 132,
    "start_time": "2024-02-28T10:41:33.404Z"
   },
   {
    "duration": 11,
    "start_time": "2024-02-28T10:41:33.538Z"
   },
   {
    "duration": 8,
    "start_time": "2024-02-28T10:41:33.550Z"
   },
   {
    "duration": 27,
    "start_time": "2024-02-28T10:41:33.559Z"
   },
   {
    "duration": 5,
    "start_time": "2024-02-28T10:41:33.587Z"
   },
   {
    "duration": 10,
    "start_time": "2024-02-28T10:41:33.593Z"
   },
   {
    "duration": 5,
    "start_time": "2024-02-28T10:41:33.605Z"
   },
   {
    "duration": 9,
    "start_time": "2024-02-28T10:41:33.611Z"
   },
   {
    "duration": 250,
    "start_time": "2024-02-28T10:41:33.621Z"
   },
   {
    "duration": 233,
    "start_time": "2024-02-28T10:41:33.873Z"
   },
   {
    "duration": 5,
    "start_time": "2024-02-28T10:41:34.108Z"
   },
   {
    "duration": 327,
    "start_time": "2024-02-28T10:41:34.115Z"
   },
   {
    "duration": 4,
    "start_time": "2024-02-28T10:41:34.443Z"
   },
   {
    "duration": 18,
    "start_time": "2024-02-28T10:41:34.448Z"
   },
   {
    "duration": 5,
    "start_time": "2024-02-28T10:41:34.468Z"
   },
   {
    "duration": 263,
    "start_time": "2024-02-28T10:41:34.475Z"
   },
   {
    "duration": 10,
    "start_time": "2024-02-28T10:41:34.739Z"
   },
   {
    "duration": 364,
    "start_time": "2024-02-28T10:41:34.751Z"
   },
   {
    "duration": 8,
    "start_time": "2024-02-28T10:41:35.117Z"
   },
   {
    "duration": 9,
    "start_time": "2024-02-28T10:41:35.126Z"
   },
   {
    "duration": 5,
    "start_time": "2024-02-28T10:41:35.137Z"
   },
   {
    "duration": 9,
    "start_time": "2024-02-28T10:41:35.144Z"
   },
   {
    "duration": 165,
    "start_time": "2024-02-28T10:41:35.154Z"
   },
   {
    "duration": 6,
    "start_time": "2024-02-28T10:41:35.321Z"
   },
   {
    "duration": 166,
    "start_time": "2024-02-28T10:41:35.329Z"
   },
   {
    "duration": 158,
    "start_time": "2024-02-28T10:41:35.497Z"
   },
   {
    "duration": 5,
    "start_time": "2024-02-28T10:41:35.657Z"
   },
   {
    "duration": 62,
    "start_time": "2024-02-28T10:41:35.679Z"
   },
   {
    "duration": 65,
    "start_time": "2024-02-28T10:41:35.742Z"
   },
   {
    "duration": 26,
    "start_time": "2024-02-28T10:41:35.808Z"
   },
   {
    "duration": 24,
    "start_time": "2024-02-28T10:41:35.837Z"
   },
   {
    "duration": 57,
    "start_time": "2024-02-28T10:41:35.863Z"
   },
   {
    "duration": 20,
    "start_time": "2024-02-28T10:41:35.921Z"
   },
   {
    "duration": 7,
    "start_time": "2024-02-28T10:41:35.943Z"
   },
   {
    "duration": 60,
    "start_time": "2024-02-28T10:41:35.951Z"
   },
   {
    "duration": 28,
    "start_time": "2024-02-28T10:41:36.013Z"
   },
   {
    "duration": 10,
    "start_time": "2024-02-28T10:41:36.043Z"
   },
   {
    "duration": 179,
    "start_time": "2024-02-28T10:41:36.054Z"
   },
   {
    "duration": 5,
    "start_time": "2024-02-28T10:41:36.234Z"
   },
   {
    "duration": 10,
    "start_time": "2024-02-28T10:41:36.240Z"
   },
   {
    "duration": 36,
    "start_time": "2024-02-28T10:41:36.252Z"
   },
   {
    "duration": 12,
    "start_time": "2024-02-28T10:41:36.289Z"
   },
   {
    "duration": 10,
    "start_time": "2024-02-28T10:41:36.302Z"
   },
   {
    "duration": 10,
    "start_time": "2024-02-28T10:41:36.314Z"
   },
   {
    "duration": 9,
    "start_time": "2024-02-28T10:41:36.325Z"
   },
   {
    "duration": 48,
    "start_time": "2024-02-28T10:41:36.335Z"
   },
   {
    "duration": 5,
    "start_time": "2024-02-28T10:41:36.384Z"
   },
   {
    "duration": 11,
    "start_time": "2024-02-28T10:41:36.390Z"
   },
   {
    "duration": 25,
    "start_time": "2024-02-28T10:41:36.403Z"
   },
   {
    "duration": 13,
    "start_time": "2024-02-28T10:42:39.449Z"
   },
   {
    "duration": 6,
    "start_time": "2024-02-28T10:46:30.901Z"
   },
   {
    "duration": 10,
    "start_time": "2024-02-28T10:46:31.515Z"
   },
   {
    "duration": 1820,
    "start_time": "2024-02-28T10:57:00.302Z"
   },
   {
    "duration": 17,
    "start_time": "2024-02-28T10:57:11.736Z"
   },
   {
    "duration": 3,
    "start_time": "2024-02-28T10:57:23.047Z"
   },
   {
    "duration": 30,
    "start_time": "2024-02-28T10:57:23.052Z"
   },
   {
    "duration": 8,
    "start_time": "2024-02-28T10:57:23.084Z"
   },
   {
    "duration": 23,
    "start_time": "2024-02-28T10:57:23.093Z"
   },
   {
    "duration": 9,
    "start_time": "2024-02-28T10:57:23.118Z"
   },
   {
    "duration": 14,
    "start_time": "2024-02-28T10:57:23.128Z"
   },
   {
    "duration": 16,
    "start_time": "2024-02-28T10:57:23.144Z"
   },
   {
    "duration": 25,
    "start_time": "2024-02-28T10:57:23.161Z"
   },
   {
    "duration": 22,
    "start_time": "2024-02-28T10:57:23.188Z"
   },
   {
    "duration": 75,
    "start_time": "2024-02-28T10:57:23.212Z"
   },
   {
    "duration": 17,
    "start_time": "2024-02-28T10:57:23.289Z"
   },
   {
    "duration": 10,
    "start_time": "2024-02-28T10:57:23.308Z"
   },
   {
    "duration": 30,
    "start_time": "2024-02-28T10:57:23.320Z"
   },
   {
    "duration": 10,
    "start_time": "2024-02-28T10:57:23.352Z"
   },
   {
    "duration": 22,
    "start_time": "2024-02-28T10:57:23.363Z"
   },
   {
    "duration": 9,
    "start_time": "2024-02-28T10:57:23.387Z"
   },
   {
    "duration": 16,
    "start_time": "2024-02-28T10:57:23.398Z"
   },
   {
    "duration": 12,
    "start_time": "2024-02-28T10:57:23.416Z"
   },
   {
    "duration": 21,
    "start_time": "2024-02-28T10:57:23.430Z"
   },
   {
    "duration": 9,
    "start_time": "2024-02-28T10:57:23.453Z"
   },
   {
    "duration": 15,
    "start_time": "2024-02-28T10:57:23.464Z"
   },
   {
    "duration": 29,
    "start_time": "2024-02-28T10:57:23.483Z"
   },
   {
    "duration": 22,
    "start_time": "2024-02-28T10:57:23.514Z"
   },
   {
    "duration": 32,
    "start_time": "2024-02-28T10:57:23.537Z"
   },
   {
    "duration": 0,
    "start_time": "2024-02-28T10:57:23.571Z"
   },
   {
    "duration": 0,
    "start_time": "2024-02-28T10:57:23.572Z"
   },
   {
    "duration": 0,
    "start_time": "2024-02-28T10:57:23.574Z"
   },
   {
    "duration": 0,
    "start_time": "2024-02-28T10:57:23.575Z"
   },
   {
    "duration": 0,
    "start_time": "2024-02-28T10:57:23.576Z"
   },
   {
    "duration": 0,
    "start_time": "2024-02-28T10:57:23.577Z"
   },
   {
    "duration": 0,
    "start_time": "2024-02-28T10:57:23.578Z"
   },
   {
    "duration": 0,
    "start_time": "2024-02-28T10:57:23.579Z"
   },
   {
    "duration": 0,
    "start_time": "2024-02-28T10:57:23.580Z"
   },
   {
    "duration": 0,
    "start_time": "2024-02-28T10:57:23.581Z"
   },
   {
    "duration": 0,
    "start_time": "2024-02-28T10:57:23.582Z"
   },
   {
    "duration": 0,
    "start_time": "2024-02-28T10:57:23.583Z"
   },
   {
    "duration": 0,
    "start_time": "2024-02-28T10:57:23.585Z"
   },
   {
    "duration": 0,
    "start_time": "2024-02-28T10:57:23.586Z"
   },
   {
    "duration": 0,
    "start_time": "2024-02-28T10:57:23.586Z"
   },
   {
    "duration": 0,
    "start_time": "2024-02-28T10:57:23.587Z"
   },
   {
    "duration": 0,
    "start_time": "2024-02-28T10:57:23.588Z"
   },
   {
    "duration": 0,
    "start_time": "2024-02-28T10:57:23.590Z"
   },
   {
    "duration": 0,
    "start_time": "2024-02-28T10:57:23.591Z"
   },
   {
    "duration": 0,
    "start_time": "2024-02-28T10:57:23.592Z"
   },
   {
    "duration": 0,
    "start_time": "2024-02-28T10:57:23.593Z"
   },
   {
    "duration": 0,
    "start_time": "2024-02-28T10:57:23.594Z"
   },
   {
    "duration": 0,
    "start_time": "2024-02-28T10:57:23.595Z"
   },
   {
    "duration": 0,
    "start_time": "2024-02-28T10:57:23.596Z"
   },
   {
    "duration": 0,
    "start_time": "2024-02-28T10:57:23.597Z"
   },
   {
    "duration": 0,
    "start_time": "2024-02-28T10:57:23.598Z"
   },
   {
    "duration": 0,
    "start_time": "2024-02-28T10:57:23.599Z"
   },
   {
    "duration": 0,
    "start_time": "2024-02-28T10:57:23.600Z"
   },
   {
    "duration": 0,
    "start_time": "2024-02-28T10:57:23.601Z"
   },
   {
    "duration": 0,
    "start_time": "2024-02-28T10:57:23.602Z"
   },
   {
    "duration": 1,
    "start_time": "2024-02-28T10:57:23.603Z"
   },
   {
    "duration": 0,
    "start_time": "2024-02-28T10:57:23.605Z"
   },
   {
    "duration": 0,
    "start_time": "2024-02-28T10:57:23.605Z"
   },
   {
    "duration": 1,
    "start_time": "2024-02-28T10:57:23.606Z"
   },
   {
    "duration": 0,
    "start_time": "2024-02-28T10:57:23.608Z"
   },
   {
    "duration": 0,
    "start_time": "2024-02-28T10:57:23.609Z"
   },
   {
    "duration": 0,
    "start_time": "2024-02-28T10:57:23.610Z"
   },
   {
    "duration": 1,
    "start_time": "2024-02-28T10:57:23.611Z"
   },
   {
    "duration": 0,
    "start_time": "2024-02-28T10:57:23.613Z"
   },
   {
    "duration": 0,
    "start_time": "2024-02-28T10:57:23.613Z"
   },
   {
    "duration": 0,
    "start_time": "2024-02-28T10:57:23.614Z"
   },
   {
    "duration": 0,
    "start_time": "2024-02-28T10:57:23.616Z"
   },
   {
    "duration": 0,
    "start_time": "2024-02-28T10:57:23.617Z"
   },
   {
    "duration": 0,
    "start_time": "2024-02-28T10:57:23.680Z"
   },
   {
    "duration": 0,
    "start_time": "2024-02-28T10:57:23.682Z"
   },
   {
    "duration": 0,
    "start_time": "2024-02-28T10:57:23.683Z"
   },
   {
    "duration": 0,
    "start_time": "2024-02-28T10:57:23.685Z"
   },
   {
    "duration": 0,
    "start_time": "2024-02-28T10:57:23.686Z"
   },
   {
    "duration": 0,
    "start_time": "2024-02-28T10:57:23.687Z"
   },
   {
    "duration": 0,
    "start_time": "2024-02-28T10:57:23.688Z"
   },
   {
    "duration": 0,
    "start_time": "2024-02-28T10:57:23.689Z"
   },
   {
    "duration": 0,
    "start_time": "2024-02-28T10:57:23.690Z"
   },
   {
    "duration": 16,
    "start_time": "2024-02-28T10:57:23.694Z"
   },
   {
    "duration": 9,
    "start_time": "2024-02-28T10:59:00.024Z"
   },
   {
    "duration": 4,
    "start_time": "2024-02-28T10:59:17.100Z"
   },
   {
    "duration": 56,
    "start_time": "2024-02-28T10:59:17.105Z"
   },
   {
    "duration": 18,
    "start_time": "2024-02-28T10:59:17.163Z"
   },
   {
    "duration": 26,
    "start_time": "2024-02-28T10:59:17.182Z"
   },
   {
    "duration": 34,
    "start_time": "2024-02-28T10:59:17.210Z"
   },
   {
    "duration": 14,
    "start_time": "2024-02-28T10:59:17.246Z"
   },
   {
    "duration": 23,
    "start_time": "2024-02-28T10:59:17.262Z"
   },
   {
    "duration": 11,
    "start_time": "2024-02-28T10:59:17.287Z"
   },
   {
    "duration": 15,
    "start_time": "2024-02-28T10:59:17.300Z"
   },
   {
    "duration": 57,
    "start_time": "2024-02-28T10:59:17.317Z"
   },
   {
    "duration": 17,
    "start_time": "2024-02-28T10:59:17.376Z"
   },
   {
    "duration": 15,
    "start_time": "2024-02-28T10:59:17.395Z"
   },
   {
    "duration": 26,
    "start_time": "2024-02-28T10:59:17.411Z"
   },
   {
    "duration": 13,
    "start_time": "2024-02-28T10:59:17.439Z"
   },
   {
    "duration": 18,
    "start_time": "2024-02-28T10:59:17.453Z"
   },
   {
    "duration": 8,
    "start_time": "2024-02-28T10:59:17.473Z"
   },
   {
    "duration": 14,
    "start_time": "2024-02-28T10:59:17.482Z"
   },
   {
    "duration": 11,
    "start_time": "2024-02-28T10:59:17.498Z"
   },
   {
    "duration": 22,
    "start_time": "2024-02-28T10:59:17.511Z"
   },
   {
    "duration": 18,
    "start_time": "2024-02-28T10:59:17.534Z"
   },
   {
    "duration": 16,
    "start_time": "2024-02-28T10:59:17.553Z"
   },
   {
    "duration": 11,
    "start_time": "2024-02-28T10:59:17.570Z"
   },
   {
    "duration": 19,
    "start_time": "2024-02-28T10:59:17.583Z"
   },
   {
    "duration": 11,
    "start_time": "2024-02-28T10:59:17.604Z"
   },
   {
    "duration": 13,
    "start_time": "2024-02-28T10:59:17.617Z"
   },
   {
    "duration": 21,
    "start_time": "2024-02-28T10:59:17.632Z"
   },
   {
    "duration": 27,
    "start_time": "2024-02-28T10:59:17.655Z"
   },
   {
    "duration": 51,
    "start_time": "2024-02-28T10:59:17.683Z"
   },
   {
    "duration": 29,
    "start_time": "2024-02-28T10:59:17.738Z"
   },
   {
    "duration": 22,
    "start_time": "2024-02-28T10:59:17.768Z"
   },
   {
    "duration": 28,
    "start_time": "2024-02-28T10:59:17.792Z"
   },
   {
    "duration": 22,
    "start_time": "2024-02-28T10:59:17.821Z"
   },
   {
    "duration": 32,
    "start_time": "2024-02-28T10:59:17.845Z"
   },
   {
    "duration": 8,
    "start_time": "2024-02-28T10:59:17.879Z"
   },
   {
    "duration": 34,
    "start_time": "2024-02-28T10:59:17.889Z"
   },
   {
    "duration": 10,
    "start_time": "2024-02-28T10:59:17.925Z"
   },
   {
    "duration": 9,
    "start_time": "2024-02-28T10:59:17.937Z"
   },
   {
    "duration": 282,
    "start_time": "2024-02-28T10:59:17.947Z"
   },
   {
    "duration": 196,
    "start_time": "2024-02-28T10:59:18.231Z"
   },
   {
    "duration": 6,
    "start_time": "2024-02-28T10:59:18.429Z"
   },
   {
    "duration": 325,
    "start_time": "2024-02-28T10:59:18.437Z"
   },
   {
    "duration": 5,
    "start_time": "2024-02-28T10:59:18.764Z"
   },
   {
    "duration": 5,
    "start_time": "2024-02-28T10:59:18.781Z"
   },
   {
    "duration": 17,
    "start_time": "2024-02-28T10:59:18.788Z"
   },
   {
    "duration": 244,
    "start_time": "2024-02-28T10:59:18.807Z"
   },
   {
    "duration": 7,
    "start_time": "2024-02-28T10:59:19.053Z"
   },
   {
    "duration": 337,
    "start_time": "2024-02-28T10:59:19.062Z"
   },
   {
    "duration": 6,
    "start_time": "2024-02-28T10:59:19.400Z"
   },
   {
    "duration": 11,
    "start_time": "2024-02-28T10:59:19.408Z"
   },
   {
    "duration": 11,
    "start_time": "2024-02-28T10:59:19.420Z"
   },
   {
    "duration": 18,
    "start_time": "2024-02-28T10:59:19.433Z"
   },
   {
    "duration": 169,
    "start_time": "2024-02-28T10:59:19.453Z"
   },
   {
    "duration": 225,
    "start_time": "2024-02-28T10:59:19.624Z"
   },
   {
    "duration": 0,
    "start_time": "2024-02-28T10:59:19.851Z"
   },
   {
    "duration": 0,
    "start_time": "2024-02-28T10:59:19.852Z"
   },
   {
    "duration": 0,
    "start_time": "2024-02-28T10:59:19.853Z"
   },
   {
    "duration": 0,
    "start_time": "2024-02-28T10:59:19.855Z"
   },
   {
    "duration": 0,
    "start_time": "2024-02-28T10:59:19.856Z"
   },
   {
    "duration": 0,
    "start_time": "2024-02-28T10:59:19.857Z"
   },
   {
    "duration": 0,
    "start_time": "2024-02-28T10:59:19.858Z"
   },
   {
    "duration": 0,
    "start_time": "2024-02-28T10:59:19.859Z"
   },
   {
    "duration": 0,
    "start_time": "2024-02-28T10:59:19.860Z"
   },
   {
    "duration": 0,
    "start_time": "2024-02-28T10:59:19.861Z"
   },
   {
    "duration": 0,
    "start_time": "2024-02-28T10:59:19.862Z"
   },
   {
    "duration": 0,
    "start_time": "2024-02-28T10:59:19.863Z"
   },
   {
    "duration": 0,
    "start_time": "2024-02-28T10:59:19.864Z"
   },
   {
    "duration": 0,
    "start_time": "2024-02-28T10:59:19.865Z"
   },
   {
    "duration": 0,
    "start_time": "2024-02-28T10:59:19.866Z"
   },
   {
    "duration": 0,
    "start_time": "2024-02-28T10:59:19.867Z"
   },
   {
    "duration": 0,
    "start_time": "2024-02-28T10:59:19.868Z"
   },
   {
    "duration": 0,
    "start_time": "2024-02-28T10:59:19.869Z"
   },
   {
    "duration": 0,
    "start_time": "2024-02-28T10:59:19.870Z"
   },
   {
    "duration": 0,
    "start_time": "2024-02-28T10:59:19.871Z"
   },
   {
    "duration": 0,
    "start_time": "2024-02-28T10:59:19.872Z"
   },
   {
    "duration": 0,
    "start_time": "2024-02-28T10:59:19.874Z"
   },
   {
    "duration": 0,
    "start_time": "2024-02-28T10:59:19.875Z"
   },
   {
    "duration": 0,
    "start_time": "2024-02-28T10:59:19.876Z"
   },
   {
    "duration": 0,
    "start_time": "2024-02-28T10:59:19.877Z"
   },
   {
    "duration": 6,
    "start_time": "2024-02-28T11:06:30.362Z"
   },
   {
    "duration": 3,
    "start_time": "2024-02-28T11:06:50.837Z"
   },
   {
    "duration": 39,
    "start_time": "2024-02-28T11:06:50.844Z"
   },
   {
    "duration": 8,
    "start_time": "2024-02-28T11:06:50.885Z"
   },
   {
    "duration": 4,
    "start_time": "2024-02-28T11:06:50.895Z"
   },
   {
    "duration": 6,
    "start_time": "2024-02-28T11:06:50.901Z"
   },
   {
    "duration": 12,
    "start_time": "2024-02-28T11:06:50.909Z"
   },
   {
    "duration": 13,
    "start_time": "2024-02-28T11:06:50.922Z"
   },
   {
    "duration": 15,
    "start_time": "2024-02-28T11:06:50.937Z"
   },
   {
    "duration": 13,
    "start_time": "2024-02-28T11:06:50.954Z"
   },
   {
    "duration": 46,
    "start_time": "2024-02-28T11:06:50.982Z"
   },
   {
    "duration": 18,
    "start_time": "2024-02-28T11:06:51.030Z"
   },
   {
    "duration": 9,
    "start_time": "2024-02-28T11:06:51.050Z"
   },
   {
    "duration": 10,
    "start_time": "2024-02-28T11:06:51.061Z"
   },
   {
    "duration": 8,
    "start_time": "2024-02-28T11:06:51.072Z"
   },
   {
    "duration": 6,
    "start_time": "2024-02-28T11:06:51.081Z"
   },
   {
    "duration": 19,
    "start_time": "2024-02-28T11:06:51.088Z"
   },
   {
    "duration": 20,
    "start_time": "2024-02-28T11:06:51.108Z"
   },
   {
    "duration": 33,
    "start_time": "2024-02-28T11:06:51.129Z"
   },
   {
    "duration": 42,
    "start_time": "2024-02-28T11:06:51.164Z"
   },
   {
    "duration": 11,
    "start_time": "2024-02-28T11:06:51.208Z"
   },
   {
    "duration": 12,
    "start_time": "2024-02-28T11:06:51.221Z"
   },
   {
    "duration": 6,
    "start_time": "2024-02-28T11:06:51.236Z"
   },
   {
    "duration": 34,
    "start_time": "2024-02-28T11:06:51.243Z"
   },
   {
    "duration": 5,
    "start_time": "2024-02-28T11:06:51.278Z"
   },
   {
    "duration": 16,
    "start_time": "2024-02-28T11:06:51.285Z"
   },
   {
    "duration": 9,
    "start_time": "2024-02-28T11:06:51.302Z"
   },
   {
    "duration": 7,
    "start_time": "2024-02-28T11:06:51.313Z"
   },
   {
    "duration": 175,
    "start_time": "2024-02-28T11:06:51.322Z"
   },
   {
    "duration": 10,
    "start_time": "2024-02-28T11:06:51.499Z"
   },
   {
    "duration": 129,
    "start_time": "2024-02-28T11:06:51.511Z"
   },
   {
    "duration": 11,
    "start_time": "2024-02-28T11:06:51.642Z"
   },
   {
    "duration": 28,
    "start_time": "2024-02-28T11:06:51.655Z"
   },
   {
    "duration": 25,
    "start_time": "2024-02-28T11:06:51.685Z"
   },
   {
    "duration": 6,
    "start_time": "2024-02-28T11:06:51.711Z"
   },
   {
    "duration": 10,
    "start_time": "2024-02-28T11:06:51.718Z"
   },
   {
    "duration": 13,
    "start_time": "2024-02-28T11:06:51.730Z"
   },
   {
    "duration": 18,
    "start_time": "2024-02-28T11:06:51.745Z"
   },
   {
    "duration": 234,
    "start_time": "2024-02-28T11:06:51.765Z"
   },
   {
    "duration": 261,
    "start_time": "2024-02-28T11:06:52.001Z"
   },
   {
    "duration": 6,
    "start_time": "2024-02-28T11:06:52.263Z"
   },
   {
    "duration": 340,
    "start_time": "2024-02-28T11:06:52.271Z"
   },
   {
    "duration": 4,
    "start_time": "2024-02-28T11:06:52.613Z"
   },
   {
    "duration": 7,
    "start_time": "2024-02-28T11:06:52.619Z"
   },
   {
    "duration": 6,
    "start_time": "2024-02-28T11:06:52.627Z"
   },
   {
    "duration": 265,
    "start_time": "2024-02-28T11:06:52.635Z"
   },
   {
    "duration": 8,
    "start_time": "2024-02-28T11:06:52.902Z"
   },
   {
    "duration": 405,
    "start_time": "2024-02-28T11:06:52.912Z"
   },
   {
    "duration": 7,
    "start_time": "2024-02-28T11:06:53.319Z"
   },
   {
    "duration": 6,
    "start_time": "2024-02-28T11:06:53.327Z"
   },
   {
    "duration": 5,
    "start_time": "2024-02-28T11:06:53.335Z"
   },
   {
    "duration": 12,
    "start_time": "2024-02-28T11:06:53.341Z"
   },
   {
    "duration": 200,
    "start_time": "2024-02-28T11:06:53.355Z"
   },
   {
    "duration": 5,
    "start_time": "2024-02-28T11:06:53.558Z"
   },
   {
    "duration": 150,
    "start_time": "2024-02-28T11:06:53.580Z"
   },
   {
    "duration": 152,
    "start_time": "2024-02-28T11:06:53.732Z"
   },
   {
    "duration": 5,
    "start_time": "2024-02-28T11:06:53.885Z"
   },
   {
    "duration": 56,
    "start_time": "2024-02-28T11:06:53.891Z"
   },
   {
    "duration": 75,
    "start_time": "2024-02-28T11:06:53.949Z"
   },
   {
    "duration": 25,
    "start_time": "2024-02-28T11:06:54.026Z"
   },
   {
    "duration": 9,
    "start_time": "2024-02-28T11:06:54.054Z"
   },
   {
    "duration": 60,
    "start_time": "2024-02-28T11:06:54.065Z"
   },
   {
    "duration": 16,
    "start_time": "2024-02-28T11:06:54.127Z"
   },
   {
    "duration": 8,
    "start_time": "2024-02-28T11:06:54.144Z"
   },
   {
    "duration": 68,
    "start_time": "2024-02-28T11:06:54.154Z"
   },
   {
    "duration": 28,
    "start_time": "2024-02-28T11:06:54.224Z"
   },
   {
    "duration": 11,
    "start_time": "2024-02-28T11:06:54.253Z"
   },
   {
    "duration": 147,
    "start_time": "2024-02-28T11:06:54.266Z"
   },
   {
    "duration": 5,
    "start_time": "2024-02-28T11:06:54.415Z"
   },
   {
    "duration": 13,
    "start_time": "2024-02-28T11:06:54.422Z"
   },
   {
    "duration": 48,
    "start_time": "2024-02-28T11:06:54.437Z"
   },
   {
    "duration": 11,
    "start_time": "2024-02-28T11:06:54.487Z"
   },
   {
    "duration": 15,
    "start_time": "2024-02-28T11:06:54.499Z"
   },
   {
    "duration": 7,
    "start_time": "2024-02-28T11:06:54.516Z"
   },
   {
    "duration": 11,
    "start_time": "2024-02-28T11:06:54.525Z"
   },
   {
    "duration": 54,
    "start_time": "2024-02-28T11:06:54.538Z"
   },
   {
    "duration": 5,
    "start_time": "2024-02-28T11:06:54.594Z"
   },
   {
    "duration": 13,
    "start_time": "2024-02-28T11:06:54.601Z"
   },
   {
    "duration": 9,
    "start_time": "2024-02-28T11:06:54.615Z"
   },
   {
    "duration": 3,
    "start_time": "2024-02-28T11:07:56.946Z"
   },
   {
    "duration": 47,
    "start_time": "2024-02-28T11:07:56.957Z"
   },
   {
    "duration": 8,
    "start_time": "2024-02-28T11:07:57.006Z"
   },
   {
    "duration": 10,
    "start_time": "2024-02-28T11:07:57.016Z"
   },
   {
    "duration": 5,
    "start_time": "2024-02-28T11:07:57.028Z"
   },
   {
    "duration": 26,
    "start_time": "2024-02-28T11:07:57.034Z"
   },
   {
    "duration": 13,
    "start_time": "2024-02-28T11:07:57.062Z"
   },
   {
    "duration": 7,
    "start_time": "2024-02-28T11:07:57.076Z"
   },
   {
    "duration": 11,
    "start_time": "2024-02-28T11:07:57.085Z"
   },
   {
    "duration": 66,
    "start_time": "2024-02-28T11:07:57.099Z"
   },
   {
    "duration": 19,
    "start_time": "2024-02-28T11:07:57.167Z"
   },
   {
    "duration": 11,
    "start_time": "2024-02-28T11:07:57.188Z"
   },
   {
    "duration": 21,
    "start_time": "2024-02-28T11:07:57.201Z"
   },
   {
    "duration": 12,
    "start_time": "2024-02-28T11:07:57.224Z"
   },
   {
    "duration": 8,
    "start_time": "2024-02-28T11:07:57.238Z"
   },
   {
    "duration": 41,
    "start_time": "2024-02-28T11:07:57.247Z"
   },
   {
    "duration": 23,
    "start_time": "2024-02-28T11:07:57.293Z"
   },
   {
    "duration": 20,
    "start_time": "2024-02-28T11:07:57.318Z"
   },
   {
    "duration": 26,
    "start_time": "2024-02-28T11:07:57.339Z"
   },
   {
    "duration": 31,
    "start_time": "2024-02-28T11:07:57.367Z"
   },
   {
    "duration": 13,
    "start_time": "2024-02-28T11:07:57.400Z"
   },
   {
    "duration": 19,
    "start_time": "2024-02-28T11:07:57.415Z"
   },
   {
    "duration": 33,
    "start_time": "2024-02-28T11:07:57.436Z"
   },
   {
    "duration": 16,
    "start_time": "2024-02-28T11:07:57.470Z"
   },
   {
    "duration": 53,
    "start_time": "2024-02-28T11:07:57.487Z"
   },
   {
    "duration": 24,
    "start_time": "2024-02-28T11:07:57.542Z"
   },
   {
    "duration": 28,
    "start_time": "2024-02-28T11:07:57.568Z"
   },
   {
    "duration": 23,
    "start_time": "2024-02-28T11:07:57.598Z"
   },
   {
    "duration": 34,
    "start_time": "2024-02-28T11:07:57.622Z"
   },
   {
    "duration": 167,
    "start_time": "2024-02-28T11:07:57.658Z"
   },
   {
    "duration": 12,
    "start_time": "2024-02-28T11:07:57.826Z"
   },
   {
    "duration": 134,
    "start_time": "2024-02-28T11:07:57.840Z"
   },
   {
    "duration": 11,
    "start_time": "2024-02-28T11:07:57.981Z"
   },
   {
    "duration": 8,
    "start_time": "2024-02-28T11:07:57.993Z"
   },
   {
    "duration": 29,
    "start_time": "2024-02-28T11:07:58.003Z"
   },
   {
    "duration": 7,
    "start_time": "2024-02-28T11:07:58.034Z"
   },
   {
    "duration": 9,
    "start_time": "2024-02-28T11:07:58.046Z"
   },
   {
    "duration": 14,
    "start_time": "2024-02-28T11:07:58.057Z"
   },
   {
    "duration": 8,
    "start_time": "2024-02-28T11:07:58.073Z"
   },
   {
    "duration": 233,
    "start_time": "2024-02-28T11:07:58.083Z"
   },
   {
    "duration": 242,
    "start_time": "2024-02-28T11:07:58.318Z"
   },
   {
    "duration": 6,
    "start_time": "2024-02-28T11:07:58.562Z"
   },
   {
    "duration": 335,
    "start_time": "2024-02-28T11:07:58.570Z"
   },
   {
    "duration": 4,
    "start_time": "2024-02-28T11:07:58.907Z"
   },
   {
    "duration": 6,
    "start_time": "2024-02-28T11:07:58.912Z"
   },
   {
    "duration": 14,
    "start_time": "2024-02-28T11:07:58.919Z"
   },
   {
    "duration": 261,
    "start_time": "2024-02-28T11:07:58.934Z"
   },
   {
    "duration": 9,
    "start_time": "2024-02-28T11:07:59.197Z"
   },
   {
    "duration": 325,
    "start_time": "2024-02-28T11:07:59.207Z"
   },
   {
    "duration": 6,
    "start_time": "2024-02-28T11:07:59.533Z"
   },
   {
    "duration": 29,
    "start_time": "2024-02-28T11:07:59.541Z"
   },
   {
    "duration": 23,
    "start_time": "2024-02-28T11:07:59.571Z"
   },
   {
    "duration": 11,
    "start_time": "2024-02-28T11:07:59.595Z"
   },
   {
    "duration": 164,
    "start_time": "2024-02-28T11:07:59.607Z"
   },
   {
    "duration": 5,
    "start_time": "2024-02-28T11:07:59.779Z"
   },
   {
    "duration": 154,
    "start_time": "2024-02-28T11:07:59.786Z"
   },
   {
    "duration": 251,
    "start_time": "2024-02-28T11:07:59.941Z"
   },
   {
    "duration": 5,
    "start_time": "2024-02-28T11:08:00.194Z"
   },
   {
    "duration": 160,
    "start_time": "2024-02-28T11:08:00.200Z"
   },
   {
    "duration": 119,
    "start_time": "2024-02-28T11:08:00.362Z"
   },
   {
    "duration": 38,
    "start_time": "2024-02-28T11:08:00.483Z"
   },
   {
    "duration": 39,
    "start_time": "2024-02-28T11:08:00.523Z"
   },
   {
    "duration": 91,
    "start_time": "2024-02-28T11:08:00.564Z"
   },
   {
    "duration": 52,
    "start_time": "2024-02-28T11:08:00.657Z"
   },
   {
    "duration": 52,
    "start_time": "2024-02-28T11:08:00.711Z"
   },
   {
    "duration": 71,
    "start_time": "2024-02-28T11:08:00.765Z"
   },
   {
    "duration": 55,
    "start_time": "2024-02-28T11:08:00.838Z"
   },
   {
    "duration": 29,
    "start_time": "2024-02-28T11:08:00.895Z"
   },
   {
    "duration": 150,
    "start_time": "2024-02-28T11:08:00.925Z"
   },
   {
    "duration": 6,
    "start_time": "2024-02-28T11:08:01.077Z"
   },
   {
    "duration": 34,
    "start_time": "2024-02-28T11:08:01.084Z"
   },
   {
    "duration": 50,
    "start_time": "2024-02-28T11:08:01.120Z"
   },
   {
    "duration": 24,
    "start_time": "2024-02-28T11:08:01.171Z"
   },
   {
    "duration": 65,
    "start_time": "2024-02-28T11:08:01.196Z"
   },
   {
    "duration": 31,
    "start_time": "2024-02-28T11:08:01.263Z"
   },
   {
    "duration": 34,
    "start_time": "2024-02-28T11:08:01.296Z"
   },
   {
    "duration": 67,
    "start_time": "2024-02-28T11:08:01.332Z"
   },
   {
    "duration": 69,
    "start_time": "2024-02-28T11:08:01.401Z"
   },
   {
    "duration": 80,
    "start_time": "2024-02-28T11:08:01.472Z"
   },
   {
    "duration": 55,
    "start_time": "2024-02-28T11:08:01.553Z"
   },
   {
    "duration": 3,
    "start_time": "2024-02-28T11:09:51.595Z"
   },
   {
    "duration": 46,
    "start_time": "2024-02-28T11:09:51.602Z"
   },
   {
    "duration": 9,
    "start_time": "2024-02-28T11:09:51.649Z"
   },
   {
    "duration": 27,
    "start_time": "2024-02-28T11:09:51.660Z"
   },
   {
    "duration": 22,
    "start_time": "2024-02-28T11:09:51.689Z"
   },
   {
    "duration": 43,
    "start_time": "2024-02-28T11:09:51.713Z"
   },
   {
    "duration": 25,
    "start_time": "2024-02-28T11:09:51.758Z"
   },
   {
    "duration": 24,
    "start_time": "2024-02-28T11:09:51.785Z"
   },
   {
    "duration": 38,
    "start_time": "2024-02-28T11:09:51.810Z"
   },
   {
    "duration": 67,
    "start_time": "2024-02-28T11:09:51.850Z"
   },
   {
    "duration": 26,
    "start_time": "2024-02-28T11:09:51.920Z"
   },
   {
    "duration": 42,
    "start_time": "2024-02-28T11:09:51.948Z"
   },
   {
    "duration": 42,
    "start_time": "2024-02-28T11:09:51.992Z"
   },
   {
    "duration": 49,
    "start_time": "2024-02-28T11:09:52.036Z"
   },
   {
    "duration": 30,
    "start_time": "2024-02-28T11:09:52.087Z"
   },
   {
    "duration": 39,
    "start_time": "2024-02-28T11:09:52.119Z"
   },
   {
    "duration": 23,
    "start_time": "2024-02-28T11:09:52.159Z"
   },
   {
    "duration": 38,
    "start_time": "2024-02-28T11:09:52.184Z"
   },
   {
    "duration": 12,
    "start_time": "2024-02-28T11:09:52.223Z"
   },
   {
    "duration": 17,
    "start_time": "2024-02-28T11:09:52.236Z"
   },
   {
    "duration": 17,
    "start_time": "2024-02-28T11:09:52.254Z"
   },
   {
    "duration": 28,
    "start_time": "2024-02-28T11:09:52.273Z"
   },
   {
    "duration": 29,
    "start_time": "2024-02-28T11:09:52.303Z"
   },
   {
    "duration": 20,
    "start_time": "2024-02-28T11:09:52.334Z"
   },
   {
    "duration": 29,
    "start_time": "2024-02-28T11:09:52.355Z"
   },
   {
    "duration": 20,
    "start_time": "2024-02-28T11:09:52.386Z"
   },
   {
    "duration": 44,
    "start_time": "2024-02-28T11:09:52.408Z"
   },
   {
    "duration": 39,
    "start_time": "2024-02-28T11:09:52.454Z"
   },
   {
    "duration": 179,
    "start_time": "2024-02-28T11:09:52.497Z"
   },
   {
    "duration": 12,
    "start_time": "2024-02-28T11:09:52.678Z"
   },
   {
    "duration": 139,
    "start_time": "2024-02-28T11:09:52.692Z"
   },
   {
    "duration": 12,
    "start_time": "2024-02-28T11:09:52.832Z"
   },
   {
    "duration": 17,
    "start_time": "2024-02-28T11:09:52.846Z"
   },
   {
    "duration": 27,
    "start_time": "2024-02-28T11:09:52.864Z"
   },
   {
    "duration": 22,
    "start_time": "2024-02-28T11:09:52.893Z"
   },
   {
    "duration": 42,
    "start_time": "2024-02-28T11:09:52.916Z"
   },
   {
    "duration": 25,
    "start_time": "2024-02-28T11:09:52.960Z"
   },
   {
    "duration": 33,
    "start_time": "2024-02-28T11:09:52.986Z"
   },
   {
    "duration": 240,
    "start_time": "2024-02-28T11:09:53.021Z"
   },
   {
    "duration": 248,
    "start_time": "2024-02-28T11:09:53.263Z"
   },
   {
    "duration": 7,
    "start_time": "2024-02-28T11:09:53.512Z"
   },
   {
    "duration": 298,
    "start_time": "2024-02-28T11:09:53.520Z"
   },
   {
    "duration": 4,
    "start_time": "2024-02-28T11:09:53.819Z"
   },
   {
    "duration": 7,
    "start_time": "2024-02-28T11:09:53.824Z"
   },
   {
    "duration": 11,
    "start_time": "2024-02-28T11:09:53.833Z"
   },
   {
    "duration": 269,
    "start_time": "2024-02-28T11:09:53.845Z"
   },
   {
    "duration": 7,
    "start_time": "2024-02-28T11:09:54.116Z"
   },
   {
    "duration": 330,
    "start_time": "2024-02-28T11:09:54.125Z"
   },
   {
    "duration": 7,
    "start_time": "2024-02-28T11:09:54.457Z"
   },
   {
    "duration": 34,
    "start_time": "2024-02-28T11:09:54.466Z"
   },
   {
    "duration": 25,
    "start_time": "2024-02-28T11:09:54.502Z"
   },
   {
    "duration": 35,
    "start_time": "2024-02-28T11:09:54.529Z"
   },
   {
    "duration": 166,
    "start_time": "2024-02-28T11:09:54.567Z"
   },
   {
    "duration": 5,
    "start_time": "2024-02-28T11:09:54.735Z"
   },
   {
    "duration": 160,
    "start_time": "2024-02-28T11:09:54.741Z"
   },
   {
    "duration": 148,
    "start_time": "2024-02-28T11:09:54.902Z"
   },
   {
    "duration": 6,
    "start_time": "2024-02-28T11:09:55.052Z"
   },
   {
    "duration": 62,
    "start_time": "2024-02-28T11:09:55.059Z"
   },
   {
    "duration": 58,
    "start_time": "2024-02-28T11:09:55.123Z"
   },
   {
    "duration": 21,
    "start_time": "2024-02-28T11:09:55.183Z"
   },
   {
    "duration": 9,
    "start_time": "2024-02-28T11:09:55.206Z"
   },
   {
    "duration": 65,
    "start_time": "2024-02-28T11:09:55.217Z"
   },
   {
    "duration": 22,
    "start_time": "2024-02-28T11:09:55.284Z"
   },
   {
    "duration": 9,
    "start_time": "2024-02-28T11:09:55.308Z"
   },
   {
    "duration": 71,
    "start_time": "2024-02-28T11:09:55.318Z"
   },
   {
    "duration": 30,
    "start_time": "2024-02-28T11:09:55.391Z"
   },
   {
    "duration": 16,
    "start_time": "2024-02-28T11:09:55.423Z"
   },
   {
    "duration": 143,
    "start_time": "2024-02-28T11:09:55.441Z"
   },
   {
    "duration": 6,
    "start_time": "2024-02-28T11:09:55.585Z"
   },
   {
    "duration": 16,
    "start_time": "2024-02-28T11:09:55.592Z"
   },
   {
    "duration": 45,
    "start_time": "2024-02-28T11:09:55.610Z"
   },
   {
    "duration": 9,
    "start_time": "2024-02-28T11:09:55.657Z"
   },
   {
    "duration": 14,
    "start_time": "2024-02-28T11:09:55.668Z"
   },
   {
    "duration": 14,
    "start_time": "2024-02-28T11:09:55.685Z"
   },
   {
    "duration": 16,
    "start_time": "2024-02-28T11:09:55.701Z"
   },
   {
    "duration": 37,
    "start_time": "2024-02-28T11:09:55.719Z"
   },
   {
    "duration": 4,
    "start_time": "2024-02-28T11:09:55.758Z"
   },
   {
    "duration": 14,
    "start_time": "2024-02-28T11:09:55.764Z"
   },
   {
    "duration": 7,
    "start_time": "2024-02-28T11:09:55.780Z"
   },
   {
    "duration": 337,
    "start_time": "2024-02-28T11:39:56.293Z"
   },
   {
    "duration": 360,
    "start_time": "2024-02-28T11:41:33.805Z"
   },
   {
    "duration": 256,
    "start_time": "2024-02-28T11:42:56.434Z"
   },
   {
    "duration": 274,
    "start_time": "2024-02-28T11:43:20.779Z"
   },
   {
    "duration": 244,
    "start_time": "2024-02-28T11:43:47.841Z"
   },
   {
    "duration": 235,
    "start_time": "2024-02-28T11:43:56.357Z"
   },
   {
    "duration": 256,
    "start_time": "2024-02-28T11:45:43.216Z"
   },
   {
    "duration": 327,
    "start_time": "2024-02-28T11:46:55.254Z"
   },
   {
    "duration": 371,
    "start_time": "2024-02-28T11:49:53.594Z"
   },
   {
    "duration": 369,
    "start_time": "2024-02-28T11:50:26.063Z"
   },
   {
    "duration": 388,
    "start_time": "2024-02-28T11:50:38.968Z"
   },
   {
    "duration": 334,
    "start_time": "2024-02-28T11:50:56.006Z"
   },
   {
    "duration": 1169,
    "start_time": "2024-02-28T11:52:17.187Z"
   },
   {
    "duration": 27,
    "start_time": "2024-02-28T11:52:18.358Z"
   },
   {
    "duration": 13,
    "start_time": "2024-02-28T11:52:18.386Z"
   },
   {
    "duration": 18,
    "start_time": "2024-02-28T11:52:18.401Z"
   },
   {
    "duration": 18,
    "start_time": "2024-02-28T11:52:18.421Z"
   },
   {
    "duration": 12,
    "start_time": "2024-02-28T11:52:18.440Z"
   },
   {
    "duration": 19,
    "start_time": "2024-02-28T11:52:18.453Z"
   },
   {
    "duration": 21,
    "start_time": "2024-02-28T11:52:18.474Z"
   },
   {
    "duration": 18,
    "start_time": "2024-02-28T11:52:18.497Z"
   },
   {
    "duration": 58,
    "start_time": "2024-02-28T11:52:18.518Z"
   },
   {
    "duration": 17,
    "start_time": "2024-02-28T11:52:18.578Z"
   },
   {
    "duration": 10,
    "start_time": "2024-02-28T11:52:18.596Z"
   },
   {
    "duration": 14,
    "start_time": "2024-02-28T11:52:18.607Z"
   },
   {
    "duration": 14,
    "start_time": "2024-02-28T11:52:18.623Z"
   },
   {
    "duration": 10,
    "start_time": "2024-02-28T11:52:18.639Z"
   },
   {
    "duration": 30,
    "start_time": "2024-02-28T11:52:18.651Z"
   },
   {
    "duration": 26,
    "start_time": "2024-02-28T11:52:18.683Z"
   },
   {
    "duration": 40,
    "start_time": "2024-02-28T11:52:18.712Z"
   },
   {
    "duration": 20,
    "start_time": "2024-02-28T11:52:18.754Z"
   },
   {
    "duration": 9,
    "start_time": "2024-02-28T11:52:18.775Z"
   },
   {
    "duration": 15,
    "start_time": "2024-02-28T11:52:18.785Z"
   },
   {
    "duration": 18,
    "start_time": "2024-02-28T11:52:18.802Z"
   },
   {
    "duration": 22,
    "start_time": "2024-02-28T11:52:18.822Z"
   },
   {
    "duration": 14,
    "start_time": "2024-02-28T11:52:18.846Z"
   },
   {
    "duration": 17,
    "start_time": "2024-02-28T11:52:18.862Z"
   },
   {
    "duration": 16,
    "start_time": "2024-02-28T11:52:18.881Z"
   },
   {
    "duration": 9,
    "start_time": "2024-02-28T11:52:18.899Z"
   },
   {
    "duration": 13,
    "start_time": "2024-02-28T11:52:18.915Z"
   },
   {
    "duration": 193,
    "start_time": "2024-02-28T11:52:18.931Z"
   },
   {
    "duration": 13,
    "start_time": "2024-02-28T11:52:19.125Z"
   },
   {
    "duration": 135,
    "start_time": "2024-02-28T11:52:19.139Z"
   },
   {
    "duration": 11,
    "start_time": "2024-02-28T11:52:19.279Z"
   },
   {
    "duration": 22,
    "start_time": "2024-02-28T11:52:19.292Z"
   },
   {
    "duration": 13,
    "start_time": "2024-02-28T11:52:19.316Z"
   },
   {
    "duration": 4,
    "start_time": "2024-02-28T11:52:19.331Z"
   },
   {
    "duration": 11,
    "start_time": "2024-02-28T11:52:19.337Z"
   },
   {
    "duration": 6,
    "start_time": "2024-02-28T11:52:19.349Z"
   },
   {
    "duration": 24,
    "start_time": "2024-02-28T11:52:19.356Z"
   },
   {
    "duration": 339,
    "start_time": "2024-02-28T11:52:19.382Z"
   },
   {
    "duration": 244,
    "start_time": "2024-02-28T11:52:19.723Z"
   },
   {
    "duration": 14,
    "start_time": "2024-02-28T11:52:19.968Z"
   },
   {
    "duration": 337,
    "start_time": "2024-02-28T11:52:19.983Z"
   },
   {
    "duration": 4,
    "start_time": "2024-02-28T11:52:20.322Z"
   },
   {
    "duration": 17,
    "start_time": "2024-02-28T11:52:20.328Z"
   },
   {
    "duration": 19,
    "start_time": "2024-02-28T11:52:20.347Z"
   },
   {
    "duration": 274,
    "start_time": "2024-02-28T11:52:20.368Z"
   },
   {
    "duration": 9,
    "start_time": "2024-02-28T11:52:20.643Z"
   },
   {
    "duration": 378,
    "start_time": "2024-02-28T11:52:20.653Z"
   },
   {
    "duration": 6,
    "start_time": "2024-02-28T11:52:21.033Z"
   },
   {
    "duration": 25,
    "start_time": "2024-02-28T11:52:21.041Z"
   },
   {
    "duration": 22,
    "start_time": "2024-02-28T11:52:21.068Z"
   },
   {
    "duration": 13,
    "start_time": "2024-02-28T11:52:21.091Z"
   },
   {
    "duration": 173,
    "start_time": "2024-02-28T11:52:21.105Z"
   },
   {
    "duration": 5,
    "start_time": "2024-02-28T11:52:21.279Z"
   },
   {
    "duration": 160,
    "start_time": "2024-02-28T11:52:21.285Z"
   },
   {
    "duration": 161,
    "start_time": "2024-02-28T11:52:21.447Z"
   },
   {
    "duration": 6,
    "start_time": "2024-02-28T11:52:21.610Z"
   },
   {
    "duration": 154,
    "start_time": "2024-02-28T11:52:21.617Z"
   },
   {
    "duration": 49,
    "start_time": "2024-02-28T11:52:21.775Z"
   },
   {
    "duration": 16,
    "start_time": "2024-02-28T11:52:21.826Z"
   },
   {
    "duration": 44,
    "start_time": "2024-02-28T11:52:21.844Z"
   },
   {
    "duration": 77,
    "start_time": "2024-02-28T11:52:21.890Z"
   },
   {
    "duration": 32,
    "start_time": "2024-02-28T11:52:21.970Z"
   },
   {
    "duration": 9,
    "start_time": "2024-02-28T11:52:22.004Z"
   },
   {
    "duration": 67,
    "start_time": "2024-02-28T11:52:22.015Z"
   },
   {
    "duration": 25,
    "start_time": "2024-02-28T11:52:22.084Z"
   },
   {
    "duration": 14,
    "start_time": "2024-02-28T11:52:22.111Z"
   },
   {
    "duration": 166,
    "start_time": "2024-02-28T11:52:22.126Z"
   },
   {
    "duration": 5,
    "start_time": "2024-02-28T11:52:22.294Z"
   },
   {
    "duration": 7,
    "start_time": "2024-02-28T11:52:22.301Z"
   },
   {
    "duration": 30,
    "start_time": "2024-02-28T11:52:22.309Z"
   },
   {
    "duration": 42,
    "start_time": "2024-02-28T11:52:22.341Z"
   },
   {
    "duration": 26,
    "start_time": "2024-02-28T11:52:22.385Z"
   },
   {
    "duration": 20,
    "start_time": "2024-02-28T11:52:22.412Z"
   },
   {
    "duration": 31,
    "start_time": "2024-02-28T11:52:22.434Z"
   },
   {
    "duration": 35,
    "start_time": "2024-02-28T11:52:22.467Z"
   },
   {
    "duration": 4,
    "start_time": "2024-02-28T11:52:22.504Z"
   },
   {
    "duration": 16,
    "start_time": "2024-02-28T11:52:22.510Z"
   },
   {
    "duration": 26,
    "start_time": "2024-02-28T11:52:22.527Z"
   },
   {
    "duration": 28,
    "start_time": "2024-02-28T12:00:09.336Z"
   },
   {
    "duration": 27,
    "start_time": "2024-02-28T12:00:17.243Z"
   },
   {
    "duration": 26,
    "start_time": "2024-02-28T12:00:35.346Z"
   },
   {
    "duration": 12,
    "start_time": "2024-02-28T12:12:17.833Z"
   },
   {
    "duration": 8,
    "start_time": "2024-02-28T12:21:16.483Z"
   },
   {
    "duration": 4,
    "start_time": "2024-02-28T12:21:23.468Z"
   },
   {
    "duration": 26,
    "start_time": "2024-02-28T12:22:17.926Z"
   },
   {
    "duration": 4,
    "start_time": "2024-02-28T12:22:18.891Z"
   },
   {
    "duration": 10,
    "start_time": "2024-02-28T12:30:15.870Z"
   },
   {
    "duration": 1198,
    "start_time": "2024-02-28T12:30:29.278Z"
   },
   {
    "duration": 29,
    "start_time": "2024-02-28T12:30:30.479Z"
   },
   {
    "duration": 502,
    "start_time": "2024-02-28T12:30:30.513Z"
   },
   {
    "duration": 44,
    "start_time": "2024-02-28T12:30:31.017Z"
   },
   {
    "duration": 56,
    "start_time": "2024-02-28T12:30:31.063Z"
   },
   {
    "duration": 56,
    "start_time": "2024-02-28T12:30:31.121Z"
   },
   {
    "duration": 65,
    "start_time": "2024-02-28T12:30:31.179Z"
   },
   {
    "duration": 120,
    "start_time": "2024-02-28T12:30:31.246Z"
   },
   {
    "duration": 82,
    "start_time": "2024-02-28T12:30:31.368Z"
   },
   {
    "duration": 133,
    "start_time": "2024-02-28T12:30:31.452Z"
   },
   {
    "duration": 17,
    "start_time": "2024-02-28T12:30:31.586Z"
   },
   {
    "duration": 147,
    "start_time": "2024-02-28T12:30:31.605Z"
   },
   {
    "duration": 180,
    "start_time": "2024-02-28T12:30:31.754Z"
   },
   {
    "duration": 102,
    "start_time": "2024-02-28T12:30:31.936Z"
   },
   {
    "duration": 149,
    "start_time": "2024-02-28T12:30:32.040Z"
   },
   {
    "duration": 47,
    "start_time": "2024-02-28T12:30:32.191Z"
   },
   {
    "duration": 55,
    "start_time": "2024-02-28T12:30:32.240Z"
   },
   {
    "duration": 51,
    "start_time": "2024-02-28T12:30:32.297Z"
   },
   {
    "duration": 40,
    "start_time": "2024-02-28T12:30:32.349Z"
   },
   {
    "duration": 119,
    "start_time": "2024-02-28T12:30:32.391Z"
   },
   {
    "duration": 50,
    "start_time": "2024-02-28T12:30:32.513Z"
   },
   {
    "duration": 53,
    "start_time": "2024-02-28T12:30:32.564Z"
   },
   {
    "duration": 69,
    "start_time": "2024-02-28T12:30:32.618Z"
   },
   {
    "duration": 54,
    "start_time": "2024-02-28T12:30:32.689Z"
   },
   {
    "duration": 52,
    "start_time": "2024-02-28T12:30:32.745Z"
   },
   {
    "duration": 33,
    "start_time": "2024-02-28T12:30:32.799Z"
   },
   {
    "duration": 53,
    "start_time": "2024-02-28T12:30:32.834Z"
   },
   {
    "duration": 127,
    "start_time": "2024-02-28T12:30:32.891Z"
   },
   {
    "duration": 187,
    "start_time": "2024-02-28T12:30:33.020Z"
   },
   {
    "duration": 12,
    "start_time": "2024-02-28T12:30:33.209Z"
   },
   {
    "duration": 171,
    "start_time": "2024-02-28T12:30:33.222Z"
   },
   {
    "duration": 11,
    "start_time": "2024-02-28T12:30:33.395Z"
   },
   {
    "duration": 31,
    "start_time": "2024-02-28T12:30:33.408Z"
   },
   {
    "duration": 24,
    "start_time": "2024-02-28T12:30:33.441Z"
   },
   {
    "duration": 48,
    "start_time": "2024-02-28T12:30:33.466Z"
   },
   {
    "duration": 35,
    "start_time": "2024-02-28T12:30:33.516Z"
   },
   {
    "duration": 26,
    "start_time": "2024-02-28T12:30:33.553Z"
   },
   {
    "duration": 47,
    "start_time": "2024-02-28T12:30:33.581Z"
   },
   {
    "duration": 330,
    "start_time": "2024-02-28T12:30:33.630Z"
   },
   {
    "duration": 247,
    "start_time": "2024-02-28T12:30:33.961Z"
   },
   {
    "duration": 7,
    "start_time": "2024-02-28T12:30:34.210Z"
   },
   {
    "duration": 335,
    "start_time": "2024-02-28T12:30:34.219Z"
   },
   {
    "duration": 4,
    "start_time": "2024-02-28T12:30:34.557Z"
   },
   {
    "duration": 18,
    "start_time": "2024-02-28T12:30:34.563Z"
   },
   {
    "duration": 17,
    "start_time": "2024-02-28T12:30:34.583Z"
   },
   {
    "duration": 271,
    "start_time": "2024-02-28T12:30:34.602Z"
   },
   {
    "duration": 12,
    "start_time": "2024-02-28T12:30:34.874Z"
   },
   {
    "duration": 349,
    "start_time": "2024-02-28T12:30:34.888Z"
   },
   {
    "duration": 9,
    "start_time": "2024-02-28T12:30:35.239Z"
   },
   {
    "duration": 26,
    "start_time": "2024-02-28T12:30:35.250Z"
   },
   {
    "duration": 9,
    "start_time": "2024-02-28T12:30:35.278Z"
   },
   {
    "duration": 16,
    "start_time": "2024-02-28T12:30:35.289Z"
   },
   {
    "duration": 173,
    "start_time": "2024-02-28T12:30:35.307Z"
   },
   {
    "duration": 6,
    "start_time": "2024-02-28T12:30:35.482Z"
   },
   {
    "duration": 166,
    "start_time": "2024-02-28T12:30:35.490Z"
   },
   {
    "duration": 166,
    "start_time": "2024-02-28T12:30:35.658Z"
   },
   {
    "duration": 5,
    "start_time": "2024-02-28T12:30:35.826Z"
   },
   {
    "duration": 148,
    "start_time": "2024-02-28T12:30:35.833Z"
   },
   {
    "duration": 53,
    "start_time": "2024-02-28T12:30:35.983Z"
   },
   {
    "duration": 25,
    "start_time": "2024-02-28T12:30:36.038Z"
   },
   {
    "duration": 38,
    "start_time": "2024-02-28T12:30:36.064Z"
   },
   {
    "duration": 61,
    "start_time": "2024-02-28T12:30:36.104Z"
   },
   {
    "duration": 38,
    "start_time": "2024-02-28T12:30:36.167Z"
   },
   {
    "duration": 9,
    "start_time": "2024-02-28T12:30:36.206Z"
   },
   {
    "duration": 66,
    "start_time": "2024-02-28T12:30:36.217Z"
   },
   {
    "duration": 24,
    "start_time": "2024-02-28T12:30:36.285Z"
   },
   {
    "duration": 10,
    "start_time": "2024-02-28T12:30:36.310Z"
   },
   {
    "duration": 151,
    "start_time": "2024-02-28T12:30:36.321Z"
   },
   {
    "duration": 8,
    "start_time": "2024-02-28T12:30:36.474Z"
   },
   {
    "duration": 6,
    "start_time": "2024-02-28T12:30:36.483Z"
   },
   {
    "duration": 39,
    "start_time": "2024-02-28T12:30:36.491Z"
   },
   {
    "duration": 11,
    "start_time": "2024-02-28T12:30:36.531Z"
   },
   {
    "duration": 13,
    "start_time": "2024-02-28T12:30:36.544Z"
   },
   {
    "duration": 4,
    "start_time": "2024-02-28T12:30:36.579Z"
   },
   {
    "duration": 9,
    "start_time": "2024-02-28T12:30:36.585Z"
   },
   {
    "duration": 30,
    "start_time": "2024-02-28T12:30:36.596Z"
   },
   {
    "duration": 4,
    "start_time": "2024-02-28T12:30:36.628Z"
   },
   {
    "duration": 38,
    "start_time": "2024-02-28T12:30:36.634Z"
   },
   {
    "duration": 11,
    "start_time": "2024-02-28T12:30:36.681Z"
   },
   {
    "duration": 1135,
    "start_time": "2024-02-28T13:13:06.133Z"
   },
   {
    "duration": 28,
    "start_time": "2024-02-28T13:13:07.270Z"
   },
   {
    "duration": 15,
    "start_time": "2024-02-28T13:13:07.300Z"
   },
   {
    "duration": 6,
    "start_time": "2024-02-28T13:13:07.317Z"
   },
   {
    "duration": 7,
    "start_time": "2024-02-28T13:13:07.325Z"
   },
   {
    "duration": 24,
    "start_time": "2024-02-28T13:13:07.334Z"
   },
   {
    "duration": 5,
    "start_time": "2024-02-28T13:13:07.359Z"
   },
   {
    "duration": 7,
    "start_time": "2024-02-28T13:13:07.366Z"
   },
   {
    "duration": 22,
    "start_time": "2024-02-28T13:13:07.375Z"
   },
   {
    "duration": 51,
    "start_time": "2024-02-28T13:13:07.399Z"
   },
   {
    "duration": 16,
    "start_time": "2024-02-28T13:13:07.452Z"
   },
   {
    "duration": 9,
    "start_time": "2024-02-28T13:13:07.470Z"
   },
   {
    "duration": 14,
    "start_time": "2024-02-28T13:13:07.480Z"
   },
   {
    "duration": 7,
    "start_time": "2024-02-28T13:13:07.497Z"
   },
   {
    "duration": 16,
    "start_time": "2024-02-28T13:13:07.505Z"
   },
   {
    "duration": 23,
    "start_time": "2024-02-28T13:13:07.523Z"
   },
   {
    "duration": 20,
    "start_time": "2024-02-28T13:13:07.548Z"
   },
   {
    "duration": 12,
    "start_time": "2024-02-28T13:13:07.569Z"
   },
   {
    "duration": 6,
    "start_time": "2024-02-28T13:13:07.582Z"
   },
   {
    "duration": 8,
    "start_time": "2024-02-28T13:13:07.590Z"
   },
   {
    "duration": 12,
    "start_time": "2024-02-28T13:13:07.600Z"
   },
   {
    "duration": 15,
    "start_time": "2024-02-28T13:13:07.614Z"
   },
   {
    "duration": 11,
    "start_time": "2024-02-28T13:13:07.631Z"
   },
   {
    "duration": 15,
    "start_time": "2024-02-28T13:13:07.644Z"
   },
   {
    "duration": 21,
    "start_time": "2024-02-28T13:13:07.661Z"
   },
   {
    "duration": 5,
    "start_time": "2024-02-28T13:13:07.683Z"
   },
   {
    "duration": 21,
    "start_time": "2024-02-28T13:13:07.690Z"
   },
   {
    "duration": 14,
    "start_time": "2024-02-28T13:13:07.712Z"
   },
   {
    "duration": 174,
    "start_time": "2024-02-28T13:13:07.728Z"
   },
   {
    "duration": 12,
    "start_time": "2024-02-28T13:13:07.903Z"
   },
   {
    "duration": 124,
    "start_time": "2024-02-28T13:13:07.916Z"
   },
   {
    "duration": 11,
    "start_time": "2024-02-28T13:13:08.041Z"
   },
   {
    "duration": 6,
    "start_time": "2024-02-28T13:13:08.053Z"
   },
   {
    "duration": 9,
    "start_time": "2024-02-28T13:13:08.080Z"
   },
   {
    "duration": 6,
    "start_time": "2024-02-28T13:13:08.091Z"
   },
   {
    "duration": 10,
    "start_time": "2024-02-28T13:13:08.098Z"
   },
   {
    "duration": 22,
    "start_time": "2024-02-28T13:13:08.109Z"
   },
   {
    "duration": 16,
    "start_time": "2024-02-28T13:13:08.133Z"
   },
   {
    "duration": 323,
    "start_time": "2024-02-28T13:13:08.151Z"
   },
   {
    "duration": 303,
    "start_time": "2024-02-28T13:13:08.479Z"
   },
   {
    "duration": 6,
    "start_time": "2024-02-28T13:13:08.787Z"
   },
   {
    "duration": 332,
    "start_time": "2024-02-28T13:13:08.794Z"
   },
   {
    "duration": 4,
    "start_time": "2024-02-28T13:13:09.128Z"
   },
   {
    "duration": 7,
    "start_time": "2024-02-28T13:13:09.133Z"
   },
   {
    "duration": 17,
    "start_time": "2024-02-28T13:13:09.141Z"
   },
   {
    "duration": 247,
    "start_time": "2024-02-28T13:13:09.160Z"
   },
   {
    "duration": 9,
    "start_time": "2024-02-28T13:13:09.408Z"
   },
   {
    "duration": 322,
    "start_time": "2024-02-28T13:13:09.418Z"
   },
   {
    "duration": 6,
    "start_time": "2024-02-28T13:13:09.742Z"
   },
   {
    "duration": 7,
    "start_time": "2024-02-28T13:13:09.749Z"
   },
   {
    "duration": 7,
    "start_time": "2024-02-28T13:13:09.757Z"
   },
   {
    "duration": 19,
    "start_time": "2024-02-28T13:13:09.766Z"
   },
   {
    "duration": 172,
    "start_time": "2024-02-28T13:13:09.786Z"
   },
   {
    "duration": 5,
    "start_time": "2024-02-28T13:13:09.960Z"
   },
   {
    "duration": 168,
    "start_time": "2024-02-28T13:13:09.967Z"
   },
   {
    "duration": 165,
    "start_time": "2024-02-28T13:13:10.137Z"
   },
   {
    "duration": 7,
    "start_time": "2024-02-28T13:13:10.304Z"
   },
   {
    "duration": 148,
    "start_time": "2024-02-28T13:13:10.313Z"
   },
   {
    "duration": 75,
    "start_time": "2024-02-28T13:13:10.462Z"
   },
   {
    "duration": 28,
    "start_time": "2024-02-28T13:13:10.539Z"
   },
   {
    "duration": 13,
    "start_time": "2024-02-28T13:13:10.569Z"
   },
   {
    "duration": 56,
    "start_time": "2024-02-28T13:13:10.584Z"
   },
   {
    "duration": 20,
    "start_time": "2024-02-28T13:13:10.642Z"
   },
   {
    "duration": 19,
    "start_time": "2024-02-28T13:13:10.664Z"
   },
   {
    "duration": 62,
    "start_time": "2024-02-28T13:13:10.686Z"
   },
   {
    "duration": 22,
    "start_time": "2024-02-28T13:13:10.750Z"
   },
   {
    "duration": 16,
    "start_time": "2024-02-28T13:13:10.774Z"
   },
   {
    "duration": 155,
    "start_time": "2024-02-28T13:13:10.791Z"
   },
   {
    "duration": 5,
    "start_time": "2024-02-28T13:13:10.948Z"
   },
   {
    "duration": 28,
    "start_time": "2024-02-28T13:13:10.954Z"
   },
   {
    "duration": 35,
    "start_time": "2024-02-28T13:13:10.983Z"
   },
   {
    "duration": 11,
    "start_time": "2024-02-28T13:13:11.019Z"
   },
   {
    "duration": 22,
    "start_time": "2024-02-28T13:13:11.032Z"
   },
   {
    "duration": 5,
    "start_time": "2024-02-28T13:13:11.055Z"
   },
   {
    "duration": 18,
    "start_time": "2024-02-28T13:13:11.061Z"
   },
   {
    "duration": 52,
    "start_time": "2024-02-28T13:13:11.080Z"
   },
   {
    "duration": 4,
    "start_time": "2024-02-28T13:13:11.134Z"
   },
   {
    "duration": 13,
    "start_time": "2024-02-28T13:13:11.140Z"
   },
   {
    "duration": 16,
    "start_time": "2024-02-28T13:13:11.154Z"
   },
   {
    "duration": 1243,
    "start_time": "2024-02-28T13:35:20.457Z"
   },
   {
    "duration": 70,
    "start_time": "2024-02-28T13:35:21.703Z"
   },
   {
    "duration": 13,
    "start_time": "2024-02-28T13:35:21.775Z"
   },
   {
    "duration": 4,
    "start_time": "2024-02-28T13:35:21.791Z"
   },
   {
    "duration": 17,
    "start_time": "2024-02-28T13:35:21.796Z"
   },
   {
    "duration": 15,
    "start_time": "2024-02-28T13:35:21.815Z"
   },
   {
    "duration": 9,
    "start_time": "2024-02-28T13:35:21.832Z"
   },
   {
    "duration": 6,
    "start_time": "2024-02-28T13:35:21.843Z"
   },
   {
    "duration": 18,
    "start_time": "2024-02-28T13:35:21.851Z"
   },
   {
    "duration": 91,
    "start_time": "2024-02-28T13:35:21.872Z"
   },
   {
    "duration": 54,
    "start_time": "2024-02-28T13:35:21.965Z"
   },
   {
    "duration": 11,
    "start_time": "2024-02-28T13:35:22.021Z"
   },
   {
    "duration": 12,
    "start_time": "2024-02-28T13:35:22.034Z"
   },
   {
    "duration": 8,
    "start_time": "2024-02-28T13:35:22.048Z"
   },
   {
    "duration": 9,
    "start_time": "2024-02-28T13:35:22.059Z"
   },
   {
    "duration": 9,
    "start_time": "2024-02-28T13:35:22.070Z"
   },
   {
    "duration": 45,
    "start_time": "2024-02-28T13:35:22.081Z"
   },
   {
    "duration": 9,
    "start_time": "2024-02-28T13:35:22.128Z"
   },
   {
    "duration": 14,
    "start_time": "2024-02-28T13:35:22.139Z"
   },
   {
    "duration": 11,
    "start_time": "2024-02-28T13:35:22.155Z"
   },
   {
    "duration": 10,
    "start_time": "2024-02-28T13:35:22.167Z"
   },
   {
    "duration": 9,
    "start_time": "2024-02-28T13:35:22.179Z"
   },
   {
    "duration": 12,
    "start_time": "2024-02-28T13:35:22.189Z"
   },
   {
    "duration": 18,
    "start_time": "2024-02-28T13:35:22.203Z"
   },
   {
    "duration": 6,
    "start_time": "2024-02-28T13:35:22.222Z"
   },
   {
    "duration": 5,
    "start_time": "2024-02-28T13:35:22.229Z"
   },
   {
    "duration": 7,
    "start_time": "2024-02-28T13:35:22.236Z"
   },
   {
    "duration": 8,
    "start_time": "2024-02-28T13:35:22.247Z"
   },
   {
    "duration": 176,
    "start_time": "2024-02-28T13:35:22.256Z"
   },
   {
    "duration": 10,
    "start_time": "2024-02-28T13:35:22.434Z"
   },
   {
    "duration": 127,
    "start_time": "2024-02-28T13:35:22.446Z"
   },
   {
    "duration": 13,
    "start_time": "2024-02-28T13:35:22.575Z"
   },
   {
    "duration": 5,
    "start_time": "2024-02-28T13:35:22.590Z"
   },
   {
    "duration": 25,
    "start_time": "2024-02-28T13:35:22.597Z"
   },
   {
    "duration": 3,
    "start_time": "2024-02-28T13:35:22.624Z"
   },
   {
    "duration": 8,
    "start_time": "2024-02-28T13:35:22.629Z"
   },
   {
    "duration": 16,
    "start_time": "2024-02-28T13:35:22.639Z"
   },
   {
    "duration": 5,
    "start_time": "2024-02-28T13:35:22.657Z"
   },
   {
    "duration": 314,
    "start_time": "2024-02-28T13:35:22.664Z"
   },
   {
    "duration": 262,
    "start_time": "2024-02-28T13:35:22.981Z"
   },
   {
    "duration": 7,
    "start_time": "2024-02-28T13:35:23.245Z"
   },
   {
    "duration": 319,
    "start_time": "2024-02-28T13:35:23.253Z"
   },
   {
    "duration": 4,
    "start_time": "2024-02-28T13:35:23.573Z"
   },
   {
    "duration": 6,
    "start_time": "2024-02-28T13:35:23.578Z"
   },
   {
    "duration": 8,
    "start_time": "2024-02-28T13:35:23.585Z"
   },
   {
    "duration": 269,
    "start_time": "2024-02-28T13:35:23.595Z"
   },
   {
    "duration": 7,
    "start_time": "2024-02-28T13:35:23.865Z"
   },
   {
    "duration": 320,
    "start_time": "2024-02-28T13:35:23.873Z"
   },
   {
    "duration": 6,
    "start_time": "2024-02-28T13:35:24.195Z"
   },
   {
    "duration": 18,
    "start_time": "2024-02-28T13:35:24.202Z"
   },
   {
    "duration": 7,
    "start_time": "2024-02-28T13:35:24.222Z"
   },
   {
    "duration": 8,
    "start_time": "2024-02-28T13:35:24.231Z"
   },
   {
    "duration": 159,
    "start_time": "2024-02-28T13:35:24.240Z"
   },
   {
    "duration": 17,
    "start_time": "2024-02-28T13:35:24.402Z"
   },
   {
    "duration": 156,
    "start_time": "2024-02-28T13:35:24.422Z"
   },
   {
    "duration": 150,
    "start_time": "2024-02-28T13:35:24.580Z"
   },
   {
    "duration": 6,
    "start_time": "2024-02-28T13:35:24.731Z"
   },
   {
    "duration": 123,
    "start_time": "2024-02-28T13:35:24.739Z"
   },
   {
    "duration": 41,
    "start_time": "2024-02-28T13:35:24.864Z"
   },
   {
    "duration": 14,
    "start_time": "2024-02-28T13:35:24.918Z"
   },
   {
    "duration": 17,
    "start_time": "2024-02-28T13:35:24.934Z"
   },
   {
    "duration": 76,
    "start_time": "2024-02-28T13:35:24.952Z"
   },
   {
    "duration": 18,
    "start_time": "2024-02-28T13:35:25.030Z"
   },
   {
    "duration": 11,
    "start_time": "2024-02-28T13:35:25.050Z"
   },
   {
    "duration": 89,
    "start_time": "2024-02-28T13:35:25.064Z"
   },
   {
    "duration": 28,
    "start_time": "2024-02-28T13:35:25.154Z"
   },
   {
    "duration": 14,
    "start_time": "2024-02-28T13:35:25.183Z"
   },
   {
    "duration": 150,
    "start_time": "2024-02-28T13:35:25.199Z"
   },
   {
    "duration": 5,
    "start_time": "2024-02-28T13:35:25.351Z"
   },
   {
    "duration": 13,
    "start_time": "2024-02-28T13:35:25.357Z"
   },
   {
    "duration": 28,
    "start_time": "2024-02-28T13:35:25.372Z"
   },
   {
    "duration": 20,
    "start_time": "2024-02-28T13:35:25.402Z"
   },
   {
    "duration": 19,
    "start_time": "2024-02-28T13:35:25.424Z"
   },
   {
    "duration": 12,
    "start_time": "2024-02-28T13:35:25.444Z"
   },
   {
    "duration": 21,
    "start_time": "2024-02-28T13:35:25.458Z"
   },
   {
    "duration": 34,
    "start_time": "2024-02-28T13:35:25.482Z"
   },
   {
    "duration": 4,
    "start_time": "2024-02-28T13:35:25.517Z"
   },
   {
    "duration": 26,
    "start_time": "2024-02-28T13:35:25.523Z"
   },
   {
    "duration": 23,
    "start_time": "2024-02-28T13:35:25.551Z"
   },
   {
    "duration": 10,
    "start_time": "2024-02-28T13:36:59.172Z"
   }
  ],
  "kernelspec": {
   "display_name": "Python 3 (ipykernel)",
   "language": "python",
   "name": "python3"
  },
  "language_info": {
   "codemirror_mode": {
    "name": "ipython",
    "version": 3
   },
   "file_extension": ".py",
   "mimetype": "text/x-python",
   "name": "python",
   "nbconvert_exporter": "python",
   "pygments_lexer": "ipython3",
   "version": "3.9.5"
  },
  "toc": {
   "base_numbering": 1,
   "nav_menu": {},
   "number_sections": true,
   "sideBar": true,
   "skip_h1_title": true,
   "title_cell": "Table of Contents",
   "title_sidebar": "Contents",
   "toc_cell": false,
   "toc_position": {},
   "toc_section_display": true,
   "toc_window_display": false
  }
 },
 "nbformat": 4,
 "nbformat_minor": 2
}
