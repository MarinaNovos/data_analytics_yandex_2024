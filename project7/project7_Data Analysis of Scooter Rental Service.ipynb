{
 "cells": [
  {
   "cell_type": "markdown",
   "id": "a2205bca",
   "metadata": {},
   "source": [
    "# Исследование данных о пользователях сервиса аренды самокатов"
   ]
  },
  {
   "cell_type": "markdown",
   "id": "af3ffac3",
   "metadata": {},
   "source": [
    "Получены данные о некоторых пользователях популярного сервиса аренды самокатов  из нескольких городов, а также об их поездках. \n",
    "\n",
    "**Задача** - Нужно проанализировать данные и проверить некоторые гипотезы, которые могут помочь бизнесу вырасти.\n",
    "Чтобы совершать поездки по городу, пользователи сервиса пользуются мобильным приложением.\n",
    "\n",
    "Сервисом можно пользоваться:\n",
    "\n",
    "- **без подписки:**\n",
    "- абонентская плата отсутствует;\n",
    "- стоимость одной минуты поездки — 8 рублей;\n",
    "- стоимость старта (начала поездки) — 50 рублей;\n",
    "\n",
    "- **с подпиской Ultra:**\n",
    "- абонентская плата — 199 рублей в месяц;\n",
    "- стоимость одной минуты поездки — 6 рублей;\n",
    "- стоимость старта — бесплатно."
   ]
  },
  {
   "cell_type": "markdown",
   "id": "69c4ab9f",
   "metadata": {},
   "source": [
    "- **Пользователи — users_go**\n",
    "- user_id- уникальный идентификатор пользователя\n",
    "- name\t- имя пользователя\n",
    "- age\t- возраст\n",
    "- city\t- город\n",
    "- subscription_type\t- тип подписки (free, ultra)\n",
    "\n",
    "- **Поездки — rides_go**\n",
    "- user_id\t- уникальный идентификатор пользователя\n",
    "- distance\t- расстояние, которое пользователь проехал в текущей сессии (в метрах)\n",
    "- duration\t- продолжительность сессии (в минутах) — время с того момента, как пользователь нажал кнопку «Начать поездку» до момента, как он нажал кнопку «Завершить поездку»\n",
    "- date\t- дата совершения поездки\n",
    "\n",
    "- **Подписки — subscriptions_go**\n",
    "- subscription_type\t- тип подписки\n",
    "- minute_price\t- стоимость одной минуты поездки по данной подписке\n",
    "- start_ride_price\t- стоимость начала поездки\n",
    "- subscription_fee\t- стоимость ежемесячного платежа"
   ]
  },
  {
   "cell_type": "code",
   "execution_count": 1,
   "id": "72576667",
   "metadata": {},
   "outputs": [],
   "source": [
    "#используемые библиотеки\n",
    "import pandas as pd\n",
    "import matplotlib.pyplot as plt\n",
    "import numpy as np\n",
    "from scipy.stats import binom, norm\n",
    "from math import sqrt"
   ]
  },
  {
   "cell_type": "markdown",
   "id": "c42cbe00",
   "metadata": {},
   "source": [
    "## Загрузка и предварительное исследование данных "
   ]
  },
  {
   "cell_type": "markdown",
   "id": "c43cb999",
   "metadata": {},
   "source": [
    "### Загрузка данных"
   ]
  },
  {
   "cell_type": "markdown",
   "id": "c0b4236f",
   "metadata": {},
   "source": [
    "Для начала загрузим данные 3-х датафреймов, которые содержат информацию о пользователях, их поездках и подписках."
   ]
  },
  {
   "cell_type": "code",
   "execution_count": 3,
   "id": "a17c0dfb",
   "metadata": {},
   "outputs": [
    {
     "data": {
      "text/html": [
       "<div>\n",
       "<style scoped>\n",
       "    .dataframe tbody tr th:only-of-type {\n",
       "        vertical-align: middle;\n",
       "    }\n",
       "\n",
       "    .dataframe tbody tr th {\n",
       "        vertical-align: top;\n",
       "    }\n",
       "\n",
       "    .dataframe thead th {\n",
       "        text-align: right;\n",
       "    }\n",
       "</style>\n",
       "<table border=\"1\" class=\"dataframe\">\n",
       "  <thead>\n",
       "    <tr style=\"text-align: right;\">\n",
       "      <th></th>\n",
       "      <th>user_id</th>\n",
       "      <th>name</th>\n",
       "      <th>age</th>\n",
       "      <th>city</th>\n",
       "      <th>subscription_type</th>\n",
       "    </tr>\n",
       "  </thead>\n",
       "  <tbody>\n",
       "    <tr>\n",
       "      <th>0</th>\n",
       "      <td>1</td>\n",
       "      <td>Кира</td>\n",
       "      <td>22</td>\n",
       "      <td>Тюмень</td>\n",
       "      <td>ultra</td>\n",
       "    </tr>\n",
       "    <tr>\n",
       "      <th>1</th>\n",
       "      <td>2</td>\n",
       "      <td>Станислав</td>\n",
       "      <td>31</td>\n",
       "      <td>Омск</td>\n",
       "      <td>ultra</td>\n",
       "    </tr>\n",
       "    <tr>\n",
       "      <th>2</th>\n",
       "      <td>3</td>\n",
       "      <td>Алексей</td>\n",
       "      <td>20</td>\n",
       "      <td>Москва</td>\n",
       "      <td>ultra</td>\n",
       "    </tr>\n",
       "    <tr>\n",
       "      <th>3</th>\n",
       "      <td>4</td>\n",
       "      <td>Константин</td>\n",
       "      <td>26</td>\n",
       "      <td>Ростов-на-Дону</td>\n",
       "      <td>ultra</td>\n",
       "    </tr>\n",
       "    <tr>\n",
       "      <th>4</th>\n",
       "      <td>5</td>\n",
       "      <td>Адель</td>\n",
       "      <td>28</td>\n",
       "      <td>Омск</td>\n",
       "      <td>ultra</td>\n",
       "    </tr>\n",
       "    <tr>\n",
       "      <th>5</th>\n",
       "      <td>6</td>\n",
       "      <td>Регина</td>\n",
       "      <td>25</td>\n",
       "      <td>Краснодар</td>\n",
       "      <td>ultra</td>\n",
       "    </tr>\n",
       "    <tr>\n",
       "      <th>6</th>\n",
       "      <td>7</td>\n",
       "      <td>Игорь</td>\n",
       "      <td>23</td>\n",
       "      <td>Омск</td>\n",
       "      <td>ultra</td>\n",
       "    </tr>\n",
       "    <tr>\n",
       "      <th>7</th>\n",
       "      <td>8</td>\n",
       "      <td>Юрий</td>\n",
       "      <td>23</td>\n",
       "      <td>Краснодар</td>\n",
       "      <td>ultra</td>\n",
       "    </tr>\n",
       "    <tr>\n",
       "      <th>8</th>\n",
       "      <td>9</td>\n",
       "      <td>Ян</td>\n",
       "      <td>21</td>\n",
       "      <td>Пятигорск</td>\n",
       "      <td>ultra</td>\n",
       "    </tr>\n",
       "    <tr>\n",
       "      <th>9</th>\n",
       "      <td>10</td>\n",
       "      <td>Валерий</td>\n",
       "      <td>18</td>\n",
       "      <td>Екатеринбург</td>\n",
       "      <td>ultra</td>\n",
       "    </tr>\n",
       "  </tbody>\n",
       "</table>\n",
       "</div>"
      ],
      "text/plain": [
       "   user_id        name  age            city subscription_type\n",
       "0        1        Кира   22          Тюмень             ultra\n",
       "1        2   Станислав   31            Омск             ultra\n",
       "2        3     Алексей   20          Москва             ultra\n",
       "3        4  Константин   26  Ростов-на-Дону             ultra\n",
       "4        5       Адель   28            Омск             ultra\n",
       "5        6      Регина   25       Краснодар             ultra\n",
       "6        7       Игорь   23            Омск             ultra\n",
       "7        8        Юрий   23       Краснодар             ultra\n",
       "8        9          Ян   21       Пятигорск             ultra\n",
       "9       10     Валерий   18    Екатеринбург             ultra"
      ]
     },
     "execution_count": 3,
     "metadata": {},
     "output_type": "execute_result"
    }
   ],
   "source": [
    "#Посмотрим на полученный датафрейм\n",
    "users.head(10)"
   ]
  },
  {
   "cell_type": "code",
   "execution_count": 4,
   "id": "fe0161c5",
   "metadata": {},
   "outputs": [
    {
     "name": "stdout",
     "output_type": "stream",
     "text": [
      "<class 'pandas.core.frame.DataFrame'>\n",
      "RangeIndex: 1565 entries, 0 to 1564\n",
      "Data columns (total 5 columns):\n",
      " #   Column             Non-Null Count  Dtype \n",
      "---  ------             --------------  ----- \n",
      " 0   user_id            1565 non-null   int64 \n",
      " 1   name               1565 non-null   object\n",
      " 2   age                1565 non-null   int64 \n",
      " 3   city               1565 non-null   object\n",
      " 4   subscription_type  1565 non-null   object\n",
      "dtypes: int64(2), object(3)\n",
      "memory usage: 61.3+ KB\n"
     ]
    }
   ],
   "source": [
    "users.info()"
   ]
  },
  {
   "cell_type": "code",
   "execution_count": 5,
   "id": "e566893b",
   "metadata": {},
   "outputs": [
    {
     "data": {
      "image/png": "[encoded data removed]",
      "text/plain": [
       "<Figure size 576x360 with 2 Axes>"
      ]
     },
     "metadata": {
      "needs_background": "light"
     },
     "output_type": "display_data"
    }
   ],
   "source": [
    "#Построим гистограммы\n",
    "users.hist(figsize=(8,5));"
   ]
  },
  {
   "cell_type": "code",
   "execution_count": 7,
   "id": "5443a1db",
   "metadata": {},
   "outputs": [
    {
     "data": {
      "text/html": [
       "<div>\n",
       "<style scoped>\n",
       "    .dataframe tbody tr th:only-of-type {\n",
       "        vertical-align: middle;\n",
       "    }\n",
       "\n",
       "    .dataframe tbody tr th {\n",
       "        vertical-align: top;\n",
       "    }\n",
       "\n",
       "    .dataframe thead th {\n",
       "        text-align: right;\n",
       "    }\n",
       "</style>\n",
       "<table border=\"1\" class=\"dataframe\">\n",
       "  <thead>\n",
       "    <tr style=\"text-align: right;\">\n",
       "      <th></th>\n",
       "      <th>user_id</th>\n",
       "      <th>distance</th>\n",
       "      <th>duration</th>\n",
       "      <th>date</th>\n",
       "    </tr>\n",
       "  </thead>\n",
       "  <tbody>\n",
       "    <tr>\n",
       "      <th>0</th>\n",
       "      <td>1</td>\n",
       "      <td>4409.919140</td>\n",
       "      <td>25.599769</td>\n",
       "      <td>2021-01-01</td>\n",
       "    </tr>\n",
       "    <tr>\n",
       "      <th>1</th>\n",
       "      <td>1</td>\n",
       "      <td>2617.592153</td>\n",
       "      <td>15.816871</td>\n",
       "      <td>2021-01-18</td>\n",
       "    </tr>\n",
       "    <tr>\n",
       "      <th>2</th>\n",
       "      <td>1</td>\n",
       "      <td>754.159807</td>\n",
       "      <td>6.232113</td>\n",
       "      <td>2021-04-20</td>\n",
       "    </tr>\n",
       "    <tr>\n",
       "      <th>3</th>\n",
       "      <td>1</td>\n",
       "      <td>2694.783254</td>\n",
       "      <td>18.511000</td>\n",
       "      <td>2021-08-11</td>\n",
       "    </tr>\n",
       "    <tr>\n",
       "      <th>4</th>\n",
       "      <td>1</td>\n",
       "      <td>4028.687306</td>\n",
       "      <td>26.265803</td>\n",
       "      <td>2021-08-28</td>\n",
       "    </tr>\n",
       "    <tr>\n",
       "      <th>5</th>\n",
       "      <td>1</td>\n",
       "      <td>2770.890808</td>\n",
       "      <td>16.650138</td>\n",
       "      <td>2021-10-09</td>\n",
       "    </tr>\n",
       "    <tr>\n",
       "      <th>6</th>\n",
       "      <td>1</td>\n",
       "      <td>3039.020292</td>\n",
       "      <td>14.927879</td>\n",
       "      <td>2021-10-19</td>\n",
       "    </tr>\n",
       "    <tr>\n",
       "      <th>7</th>\n",
       "      <td>1</td>\n",
       "      <td>2842.118050</td>\n",
       "      <td>23.117468</td>\n",
       "      <td>2021-11-06</td>\n",
       "    </tr>\n",
       "    <tr>\n",
       "      <th>8</th>\n",
       "      <td>1</td>\n",
       "      <td>3412.690668</td>\n",
       "      <td>15.238072</td>\n",
       "      <td>2021-11-14</td>\n",
       "    </tr>\n",
       "    <tr>\n",
       "      <th>9</th>\n",
       "      <td>1</td>\n",
       "      <td>748.690645</td>\n",
       "      <td>15.041884</td>\n",
       "      <td>2021-11-22</td>\n",
       "    </tr>\n",
       "  </tbody>\n",
       "</table>\n",
       "</div>"
      ],
      "text/plain": [
       "   user_id     distance   duration        date\n",
       "0        1  4409.919140  25.599769  2021-01-01\n",
       "1        1  2617.592153  15.816871  2021-01-18\n",
       "2        1   754.159807   6.232113  2021-04-20\n",
       "3        1  2694.783254  18.511000  2021-08-11\n",
       "4        1  4028.687306  26.265803  2021-08-28\n",
       "5        1  2770.890808  16.650138  2021-10-09\n",
       "6        1  3039.020292  14.927879  2021-10-19\n",
       "7        1  2842.118050  23.117468  2021-11-06\n",
       "8        1  3412.690668  15.238072  2021-11-14\n",
       "9        1   748.690645  15.041884  2021-11-22"
      ]
     },
     "execution_count": 7,
     "metadata": {},
     "output_type": "execute_result"
    }
   ],
   "source": [
    "#Посмотрим на полученный датафрейм\n",
    "rides.head(10)"
   ]
  },
  {
   "cell_type": "code",
   "execution_count": 8,
   "id": "73d15bec",
   "metadata": {},
   "outputs": [
    {
     "name": "stdout",
     "output_type": "stream",
     "text": [
      "<class 'pandas.core.frame.DataFrame'>\n",
      "RangeIndex: 18068 entries, 0 to 18067\n",
      "Data columns (total 4 columns):\n",
      " #   Column    Non-Null Count  Dtype  \n",
      "---  ------    --------------  -----  \n",
      " 0   user_id   18068 non-null  int64  \n",
      " 1   distance  18068 non-null  float64\n",
      " 2   duration  18068 non-null  float64\n",
      " 3   date      18068 non-null  object \n",
      "dtypes: float64(2), int64(1), object(1)\n",
      "memory usage: 564.8+ KB\n"
     ]
    }
   ],
   "source": [
    "rides.info()"
   ]
  },
  {
   "cell_type": "code",
   "execution_count": 9,
   "id": "9e227ecf",
   "metadata": {},
   "outputs": [
    {
     "data": {
      "image/png": "[encoded data removed]",
      "text/plain": [
       "<Figure size 1080x1440 with 4 Axes>"
      ]
     },
     "metadata": {
      "needs_background": "light"
     },
     "output_type": "display_data"
    }
   ],
   "source": [
    "#Построим гистограммы\n",
    "rides.hist(figsize=(15, 20));"
   ]
  },
  {
   "cell_type": "code",
   "execution_count": 11,
   "id": "87f06a79",
   "metadata": {},
   "outputs": [
    {
     "data": {
      "text/html": [
       "<div>\n",
       "<style scoped>\n",
       "    .dataframe tbody tr th:only-of-type {\n",
       "        vertical-align: middle;\n",
       "    }\n",
       "\n",
       "    .dataframe tbody tr th {\n",
       "        vertical-align: top;\n",
       "    }\n",
       "\n",
       "    .dataframe thead th {\n",
       "        text-align: right;\n",
       "    }\n",
       "</style>\n",
       "<table border=\"1\" class=\"dataframe\">\n",
       "  <thead>\n",
       "    <tr style=\"text-align: right;\">\n",
       "      <th></th>\n",
       "      <th>subscription_type</th>\n",
       "      <th>minute_price</th>\n",
       "      <th>start_ride_price</th>\n",
       "      <th>subscription_fee</th>\n",
       "    </tr>\n",
       "  </thead>\n",
       "  <tbody>\n",
       "    <tr>\n",
       "      <th>0</th>\n",
       "      <td>free</td>\n",
       "      <td>8</td>\n",
       "      <td>50</td>\n",
       "      <td>0</td>\n",
       "    </tr>\n",
       "    <tr>\n",
       "      <th>1</th>\n",
       "      <td>ultra</td>\n",
       "      <td>6</td>\n",
       "      <td>0</td>\n",
       "      <td>199</td>\n",
       "    </tr>\n",
       "  </tbody>\n",
       "</table>\n",
       "</div>"
      ],
      "text/plain": [
       "  subscription_type  minute_price  start_ride_price  subscription_fee\n",
       "0              free             8                50                 0\n",
       "1             ultra             6                 0               199"
      ]
     },
     "execution_count": 11,
     "metadata": {},
     "output_type": "execute_result"
    }
   ],
   "source": [
    "#Посмотрим на полученный датафрейм\n",
    "subscriptions"
   ]
  },
  {
   "cell_type": "markdown",
   "id": "f0e0dcd0",
   "metadata": {},
   "source": [
    "**Вывод:** \n",
    "На основе предоставленной информации, данные DataFrame выглядят вполне структурированными и без явных проблем. Однако, рассмотрим некоторые аспекты, которые могут потребовать внимания при обработке данных: типы данных в столбцах \"user_id\" и \"age\" соответствуют ожидаемым (целочисленные значения). Тип данных в столбцах \"name\", \"city\" и \"subscription_type\" также соответствует ожидаемым строковым значениям (object). Однако, нужно будет столбец \"date\" привести к формату datetime. \n",
    "Все столбцы содержат 18068 (rides), 1565 (users) и 2(subscriptions) непустых значений, что означает отсутствие пропущенных значений в данных.\n",
    "Для некоторых столбцов, таких как \"subscription_type\", возможно имеет смысл оценить уникальные значения, чтобы убедиться в разнообразии данных и отсутствии неожиданных категорий.\n",
    "Возможно, имеет смысл проверить наличие статистических аномалий, таких как выбросы в столбце \"age\", \"distance\" и \"duration\"\n",
    "Общее впечатление от данных — они кажутся чистыми и подготовленными для анализа.."
   ]
  },
  {
   "cell_type": "markdown",
   "id": "e95ebca7",
   "metadata": {},
   "source": [
    "### Предобработка данных"
   ]
  },
  {
   "cell_type": "markdown",
   "id": "0b4a066c",
   "metadata": {},
   "source": [
    "Теперь приступим к обработке полученных датафреймов и подготовке их к анализу"
   ]
  },
  {
   "cell_type": "code",
   "execution_count": 12,
   "id": "84bf79eb",
   "metadata": {},
   "outputs": [],
   "source": [
    "# приведем first_day_exposition к объекту datetime используя pd.to_datetime()\n",
    "rides['date'] = pd.to_datetime(rides['date'], format='%Y-%m-%d')"
   ]
  },
  {
   "cell_type": "code",
   "execution_count": 13,
   "id": "65faa591",
   "metadata": {},
   "outputs": [
    {
     "data": {
      "text/html": [
       "<div>\n",
       "<style scoped>\n",
       "    .dataframe tbody tr th:only-of-type {\n",
       "        vertical-align: middle;\n",
       "    }\n",
       "\n",
       "    .dataframe tbody tr th {\n",
       "        vertical-align: top;\n",
       "    }\n",
       "\n",
       "    .dataframe thead th {\n",
       "        text-align: right;\n",
       "    }\n",
       "</style>\n",
       "<table border=\"1\" class=\"dataframe\">\n",
       "  <thead>\n",
       "    <tr style=\"text-align: right;\">\n",
       "      <th></th>\n",
       "      <th>user_id</th>\n",
       "      <th>distance</th>\n",
       "      <th>duration</th>\n",
       "      <th>date</th>\n",
       "    </tr>\n",
       "  </thead>\n",
       "  <tbody>\n",
       "    <tr>\n",
       "      <th>0</th>\n",
       "      <td>1</td>\n",
       "      <td>4409.919140</td>\n",
       "      <td>25.599769</td>\n",
       "      <td>2021-01-01</td>\n",
       "    </tr>\n",
       "    <tr>\n",
       "      <th>1</th>\n",
       "      <td>1</td>\n",
       "      <td>2617.592153</td>\n",
       "      <td>15.816871</td>\n",
       "      <td>2021-01-18</td>\n",
       "    </tr>\n",
       "    <tr>\n",
       "      <th>2</th>\n",
       "      <td>1</td>\n",
       "      <td>754.159807</td>\n",
       "      <td>6.232113</td>\n",
       "      <td>2021-04-20</td>\n",
       "    </tr>\n",
       "    <tr>\n",
       "      <th>3</th>\n",
       "      <td>1</td>\n",
       "      <td>2694.783254</td>\n",
       "      <td>18.511000</td>\n",
       "      <td>2021-08-11</td>\n",
       "    </tr>\n",
       "    <tr>\n",
       "      <th>4</th>\n",
       "      <td>1</td>\n",
       "      <td>4028.687306</td>\n",
       "      <td>26.265803</td>\n",
       "      <td>2021-08-28</td>\n",
       "    </tr>\n",
       "    <tr>\n",
       "      <th>5</th>\n",
       "      <td>1</td>\n",
       "      <td>2770.890808</td>\n",
       "      <td>16.650138</td>\n",
       "      <td>2021-10-09</td>\n",
       "    </tr>\n",
       "    <tr>\n",
       "      <th>6</th>\n",
       "      <td>1</td>\n",
       "      <td>3039.020292</td>\n",
       "      <td>14.927879</td>\n",
       "      <td>2021-10-19</td>\n",
       "    </tr>\n",
       "    <tr>\n",
       "      <th>7</th>\n",
       "      <td>1</td>\n",
       "      <td>2842.118050</td>\n",
       "      <td>23.117468</td>\n",
       "      <td>2021-11-06</td>\n",
       "    </tr>\n",
       "    <tr>\n",
       "      <th>8</th>\n",
       "      <td>1</td>\n",
       "      <td>3412.690668</td>\n",
       "      <td>15.238072</td>\n",
       "      <td>2021-11-14</td>\n",
       "    </tr>\n",
       "    <tr>\n",
       "      <th>9</th>\n",
       "      <td>1</td>\n",
       "      <td>748.690645</td>\n",
       "      <td>15.041884</td>\n",
       "      <td>2021-11-22</td>\n",
       "    </tr>\n",
       "  </tbody>\n",
       "</table>\n",
       "</div>"
      ],
      "text/plain": [
       "   user_id     distance   duration       date\n",
       "0        1  4409.919140  25.599769 2021-01-01\n",
       "1        1  2617.592153  15.816871 2021-01-18\n",
       "2        1   754.159807   6.232113 2021-04-20\n",
       "3        1  2694.783254  18.511000 2021-08-11\n",
       "4        1  4028.687306  26.265803 2021-08-28\n",
       "5        1  2770.890808  16.650138 2021-10-09\n",
       "6        1  3039.020292  14.927879 2021-10-19\n",
       "7        1  2842.118050  23.117468 2021-11-06\n",
       "8        1  3412.690668  15.238072 2021-11-14\n",
       "9        1   748.690645  15.041884 2021-11-22"
      ]
     },
     "execution_count": 13,
     "metadata": {},
     "output_type": "execute_result"
    }
   ],
   "source": [
    "#Посмотрим на полученный датафрейм\n",
    "rides.head(10)"
   ]
  },
  {
   "cell_type": "code",
   "execution_count": 14,
   "id": "6b7968b6",
   "metadata": {},
   "outputs": [
    {
     "name": "stdout",
     "output_type": "stream",
     "text": [
      "<class 'pandas.core.frame.DataFrame'>\n",
      "RangeIndex: 18068 entries, 0 to 18067\n",
      "Data columns (total 4 columns):\n",
      " #   Column    Non-Null Count  Dtype         \n",
      "---  ------    --------------  -----         \n",
      " 0   user_id   18068 non-null  int64         \n",
      " 1   distance  18068 non-null  float64       \n",
      " 2   duration  18068 non-null  float64       \n",
      " 3   date      18068 non-null  datetime64[ns]\n",
      "dtypes: datetime64[ns](1), float64(2), int64(1)\n",
      "memory usage: 564.8 KB\n"
     ]
    }
   ],
   "source": [
    "rides.info()"
   ]
  },
  {
   "cell_type": "code",
   "execution_count": 15,
   "id": "74299ad7",
   "metadata": {},
   "outputs": [],
   "source": [
    "#добавим столбец с номером месяца\n",
    "rides['month'] = rides['date'].dt.month"
   ]
  },
  {
   "cell_type": "code",
   "execution_count": 16,
   "id": "ebb02575",
   "metadata": {},
   "outputs": [
    {
     "data": {
      "text/html": [
       "<div>\n",
       "<style scoped>\n",
       "    .dataframe tbody tr th:only-of-type {\n",
       "        vertical-align: middle;\n",
       "    }\n",
       "\n",
       "    .dataframe tbody tr th {\n",
       "        vertical-align: top;\n",
       "    }\n",
       "\n",
       "    .dataframe thead th {\n",
       "        text-align: right;\n",
       "    }\n",
       "</style>\n",
       "<table border=\"1\" class=\"dataframe\">\n",
       "  <thead>\n",
       "    <tr style=\"text-align: right;\">\n",
       "      <th></th>\n",
       "      <th>user_id</th>\n",
       "      <th>distance</th>\n",
       "      <th>duration</th>\n",
       "      <th>date</th>\n",
       "      <th>month</th>\n",
       "    </tr>\n",
       "  </thead>\n",
       "  <tbody>\n",
       "    <tr>\n",
       "      <th>0</th>\n",
       "      <td>1</td>\n",
       "      <td>4409.919140</td>\n",
       "      <td>25.599769</td>\n",
       "      <td>2021-01-01</td>\n",
       "      <td>1</td>\n",
       "    </tr>\n",
       "    <tr>\n",
       "      <th>1</th>\n",
       "      <td>1</td>\n",
       "      <td>2617.592153</td>\n",
       "      <td>15.816871</td>\n",
       "      <td>2021-01-18</td>\n",
       "      <td>1</td>\n",
       "    </tr>\n",
       "    <tr>\n",
       "      <th>2</th>\n",
       "      <td>1</td>\n",
       "      <td>754.159807</td>\n",
       "      <td>6.232113</td>\n",
       "      <td>2021-04-20</td>\n",
       "      <td>4</td>\n",
       "    </tr>\n",
       "    <tr>\n",
       "      <th>3</th>\n",
       "      <td>1</td>\n",
       "      <td>2694.783254</td>\n",
       "      <td>18.511000</td>\n",
       "      <td>2021-08-11</td>\n",
       "      <td>8</td>\n",
       "    </tr>\n",
       "    <tr>\n",
       "      <th>4</th>\n",
       "      <td>1</td>\n",
       "      <td>4028.687306</td>\n",
       "      <td>26.265803</td>\n",
       "      <td>2021-08-28</td>\n",
       "      <td>8</td>\n",
       "    </tr>\n",
       "    <tr>\n",
       "      <th>5</th>\n",
       "      <td>1</td>\n",
       "      <td>2770.890808</td>\n",
       "      <td>16.650138</td>\n",
       "      <td>2021-10-09</td>\n",
       "      <td>10</td>\n",
       "    </tr>\n",
       "    <tr>\n",
       "      <th>6</th>\n",
       "      <td>1</td>\n",
       "      <td>3039.020292</td>\n",
       "      <td>14.927879</td>\n",
       "      <td>2021-10-19</td>\n",
       "      <td>10</td>\n",
       "    </tr>\n",
       "    <tr>\n",
       "      <th>7</th>\n",
       "      <td>1</td>\n",
       "      <td>2842.118050</td>\n",
       "      <td>23.117468</td>\n",
       "      <td>2021-11-06</td>\n",
       "      <td>11</td>\n",
       "    </tr>\n",
       "    <tr>\n",
       "      <th>8</th>\n",
       "      <td>1</td>\n",
       "      <td>3412.690668</td>\n",
       "      <td>15.238072</td>\n",
       "      <td>2021-11-14</td>\n",
       "      <td>11</td>\n",
       "    </tr>\n",
       "    <tr>\n",
       "      <th>9</th>\n",
       "      <td>1</td>\n",
       "      <td>748.690645</td>\n",
       "      <td>15.041884</td>\n",
       "      <td>2021-11-22</td>\n",
       "      <td>11</td>\n",
       "    </tr>\n",
       "  </tbody>\n",
       "</table>\n",
       "</div>"
      ],
      "text/plain": [
       "   user_id     distance   duration       date  month\n",
       "0        1  4409.919140  25.599769 2021-01-01      1\n",
       "1        1  2617.592153  15.816871 2021-01-18      1\n",
       "2        1   754.159807   6.232113 2021-04-20      4\n",
       "3        1  2694.783254  18.511000 2021-08-11      8\n",
       "4        1  4028.687306  26.265803 2021-08-28      8\n",
       "5        1  2770.890808  16.650138 2021-10-09     10\n",
       "6        1  3039.020292  14.927879 2021-10-19     10\n",
       "7        1  2842.118050  23.117468 2021-11-06     11\n",
       "8        1  3412.690668  15.238072 2021-11-14     11\n",
       "9        1   748.690645  15.041884 2021-11-22     11"
      ]
     },
     "execution_count": 16,
     "metadata": {},
     "output_type": "execute_result"
    }
   ],
   "source": [
    "#Посмотрим на полученный датафрейм\n",
    "rides.head(10)"
   ]
  },
  {
   "cell_type": "code",
   "execution_count": 17,
   "id": "38f1c179",
   "metadata": {},
   "outputs": [
    {
     "data": {
      "text/plain": [
       "array(['ultra', 'free'], dtype=object)"
      ]
     },
     "execution_count": 17,
     "metadata": {},
     "output_type": "execute_result"
    }
   ],
   "source": [
    "#в \"subscription_type\", возможно имеет смысл оценить уникальные значения\n",
    "users['subscription_type'].unique()"
   ]
  },
  {
   "cell_type": "markdown",
   "id": "57265fa0",
   "metadata": {},
   "source": [
    "В subscription_type все впорядке, найдено 2 уникальных значения: 'ultra', 'free'"
   ]
  },
  {
   "cell_type": "code",
   "execution_count": 18,
   "id": "da61dc84",
   "metadata": {},
   "outputs": [
    {
     "data": {
      "text/plain": [
       "0       False\n",
       "1       False\n",
       "2       False\n",
       "3       False\n",
       "4       False\n",
       "        ...  \n",
       "1560     True\n",
       "1561     True\n",
       "1562     True\n",
       "1563     True\n",
       "1564     True\n",
       "Length: 1565, dtype: bool"
      ]
     },
     "execution_count": 18,
     "metadata": {},
     "output_type": "execute_result"
    }
   ],
   "source": [
    "users.duplicated()"
   ]
  },
  {
   "cell_type": "markdown",
   "id": "fea2d412",
   "metadata": {},
   "source": [
    "Этот вывод показывает логический ряд из булевых значений, где каждое значение указывает, является ли соответствующая строка в датафрейме пользователей (users) дубликатом (True) или нет (False). Когда значение True, это означает, что данная строка полностью совпадает с предыдущей строкой в датафрейме."
   ]
  },
  {
   "cell_type": "code",
   "execution_count": 19,
   "id": "b69037ac",
   "metadata": {},
   "outputs": [
    {
     "data": {
      "text/plain": [
       "31"
      ]
     },
     "execution_count": 19,
     "metadata": {},
     "output_type": "execute_result"
    }
   ],
   "source": [
    "# посмотрим на количество дубликатов\n",
    "users.duplicated().sum()"
   ]
  },
  {
   "cell_type": "code",
   "execution_count": 20,
   "id": "045b6b68",
   "metadata": {},
   "outputs": [],
   "source": [
    "duplicated_users = users[users.duplicated()]"
   ]
  },
  {
   "cell_type": "code",
   "execution_count": 21,
   "id": "aaf9defa",
   "metadata": {},
   "outputs": [
    {
     "data": {
      "text/html": [
       "<div>\n",
       "<style scoped>\n",
       "    .dataframe tbody tr th:only-of-type {\n",
       "        vertical-align: middle;\n",
       "    }\n",
       "\n",
       "    .dataframe tbody tr th {\n",
       "        vertical-align: top;\n",
       "    }\n",
       "\n",
       "    .dataframe thead th {\n",
       "        text-align: right;\n",
       "    }\n",
       "</style>\n",
       "<table border=\"1\" class=\"dataframe\">\n",
       "  <thead>\n",
       "    <tr style=\"text-align: right;\">\n",
       "      <th></th>\n",
       "      <th>user_id</th>\n",
       "      <th>name</th>\n",
       "      <th>age</th>\n",
       "      <th>city</th>\n",
       "      <th>subscription_type</th>\n",
       "    </tr>\n",
       "  </thead>\n",
       "  <tbody>\n",
       "    <tr>\n",
       "      <th>1534</th>\n",
       "      <td>293</td>\n",
       "      <td>Агата</td>\n",
       "      <td>26</td>\n",
       "      <td>Краснодар</td>\n",
       "      <td>ultra</td>\n",
       "    </tr>\n",
       "    <tr>\n",
       "      <th>1535</th>\n",
       "      <td>16</td>\n",
       "      <td>Амалия</td>\n",
       "      <td>27</td>\n",
       "      <td>Краснодар</td>\n",
       "      <td>ultra</td>\n",
       "    </tr>\n",
       "    <tr>\n",
       "      <th>1536</th>\n",
       "      <td>909</td>\n",
       "      <td>Константин</td>\n",
       "      <td>20</td>\n",
       "      <td>Екатеринбург</td>\n",
       "      <td>free</td>\n",
       "    </tr>\n",
       "    <tr>\n",
       "      <th>1537</th>\n",
       "      <td>403</td>\n",
       "      <td>Полина</td>\n",
       "      <td>19</td>\n",
       "      <td>Сочи</td>\n",
       "      <td>ultra</td>\n",
       "    </tr>\n",
       "    <tr>\n",
       "      <th>1538</th>\n",
       "      <td>908</td>\n",
       "      <td>Рустам</td>\n",
       "      <td>30</td>\n",
       "      <td>Тюмень</td>\n",
       "      <td>free</td>\n",
       "    </tr>\n",
       "    <tr>\n",
       "      <th>1539</th>\n",
       "      <td>43</td>\n",
       "      <td>Стефания</td>\n",
       "      <td>22</td>\n",
       "      <td>Омск</td>\n",
       "      <td>ultra</td>\n",
       "    </tr>\n",
       "    <tr>\n",
       "      <th>1540</th>\n",
       "      <td>127</td>\n",
       "      <td>Павел</td>\n",
       "      <td>25</td>\n",
       "      <td>Пятигорск</td>\n",
       "      <td>ultra</td>\n",
       "    </tr>\n",
       "    <tr>\n",
       "      <th>1541</th>\n",
       "      <td>659</td>\n",
       "      <td>Злата</td>\n",
       "      <td>27</td>\n",
       "      <td>Ростов-на-Дону</td>\n",
       "      <td>ultra</td>\n",
       "    </tr>\n",
       "    <tr>\n",
       "      <th>1542</th>\n",
       "      <td>204</td>\n",
       "      <td>Руслан</td>\n",
       "      <td>30</td>\n",
       "      <td>Пятигорск</td>\n",
       "      <td>ultra</td>\n",
       "    </tr>\n",
       "    <tr>\n",
       "      <th>1543</th>\n",
       "      <td>153</td>\n",
       "      <td>Герман</td>\n",
       "      <td>23</td>\n",
       "      <td>Москва</td>\n",
       "      <td>ultra</td>\n",
       "    </tr>\n",
       "    <tr>\n",
       "      <th>1544</th>\n",
       "      <td>1245</td>\n",
       "      <td>Регина</td>\n",
       "      <td>27</td>\n",
       "      <td>Пятигорск</td>\n",
       "      <td>free</td>\n",
       "    </tr>\n",
       "    <tr>\n",
       "      <th>1545</th>\n",
       "      <td>807</td>\n",
       "      <td>Александр</td>\n",
       "      <td>28</td>\n",
       "      <td>Екатеринбург</td>\n",
       "      <td>free</td>\n",
       "    </tr>\n",
       "    <tr>\n",
       "      <th>1546</th>\n",
       "      <td>924</td>\n",
       "      <td>Мария</td>\n",
       "      <td>23</td>\n",
       "      <td>Пятигорск</td>\n",
       "      <td>free</td>\n",
       "    </tr>\n",
       "    <tr>\n",
       "      <th>1547</th>\n",
       "      <td>635</td>\n",
       "      <td>Герман</td>\n",
       "      <td>21</td>\n",
       "      <td>Москва</td>\n",
       "      <td>ultra</td>\n",
       "    </tr>\n",
       "    <tr>\n",
       "      <th>1548</th>\n",
       "      <td>136</td>\n",
       "      <td>Марсель</td>\n",
       "      <td>25</td>\n",
       "      <td>Тюмень</td>\n",
       "      <td>ultra</td>\n",
       "    </tr>\n",
       "    <tr>\n",
       "      <th>1549</th>\n",
       "      <td>108</td>\n",
       "      <td>Влада</td>\n",
       "      <td>29</td>\n",
       "      <td>Тюмень</td>\n",
       "      <td>ultra</td>\n",
       "    </tr>\n",
       "    <tr>\n",
       "      <th>1550</th>\n",
       "      <td>737</td>\n",
       "      <td>Мелания</td>\n",
       "      <td>27</td>\n",
       "      <td>Ростов-на-Дону</td>\n",
       "      <td>free</td>\n",
       "    </tr>\n",
       "    <tr>\n",
       "      <th>1551</th>\n",
       "      <td>666</td>\n",
       "      <td>Зарина</td>\n",
       "      <td>29</td>\n",
       "      <td>Москва</td>\n",
       "      <td>ultra</td>\n",
       "    </tr>\n",
       "    <tr>\n",
       "      <th>1552</th>\n",
       "      <td>297</td>\n",
       "      <td>Егор</td>\n",
       "      <td>33</td>\n",
       "      <td>Пятигорск</td>\n",
       "      <td>ultra</td>\n",
       "    </tr>\n",
       "    <tr>\n",
       "      <th>1553</th>\n",
       "      <td>121</td>\n",
       "      <td>Алина</td>\n",
       "      <td>25</td>\n",
       "      <td>Пятигорск</td>\n",
       "      <td>ultra</td>\n",
       "    </tr>\n",
       "    <tr>\n",
       "      <th>1554</th>\n",
       "      <td>1198</td>\n",
       "      <td>Демид</td>\n",
       "      <td>29</td>\n",
       "      <td>Ростов-на-Дону</td>\n",
       "      <td>free</td>\n",
       "    </tr>\n",
       "    <tr>\n",
       "      <th>1555</th>\n",
       "      <td>72</td>\n",
       "      <td>Никита</td>\n",
       "      <td>25</td>\n",
       "      <td>Москва</td>\n",
       "      <td>ultra</td>\n",
       "    </tr>\n",
       "    <tr>\n",
       "      <th>1556</th>\n",
       "      <td>422</td>\n",
       "      <td>Кирилл</td>\n",
       "      <td>27</td>\n",
       "      <td>Сочи</td>\n",
       "      <td>ultra</td>\n",
       "    </tr>\n",
       "    <tr>\n",
       "      <th>1557</th>\n",
       "      <td>611</td>\n",
       "      <td>Владимир</td>\n",
       "      <td>28</td>\n",
       "      <td>Омск</td>\n",
       "      <td>ultra</td>\n",
       "    </tr>\n",
       "    <tr>\n",
       "      <th>1558</th>\n",
       "      <td>1237</td>\n",
       "      <td>Евгения</td>\n",
       "      <td>23</td>\n",
       "      <td>Тюмень</td>\n",
       "      <td>free</td>\n",
       "    </tr>\n",
       "    <tr>\n",
       "      <th>1559</th>\n",
       "      <td>209</td>\n",
       "      <td>Андрей</td>\n",
       "      <td>23</td>\n",
       "      <td>Омск</td>\n",
       "      <td>ultra</td>\n",
       "    </tr>\n",
       "    <tr>\n",
       "      <th>1560</th>\n",
       "      <td>829</td>\n",
       "      <td>Федор</td>\n",
       "      <td>29</td>\n",
       "      <td>Пятигорск</td>\n",
       "      <td>free</td>\n",
       "    </tr>\n",
       "    <tr>\n",
       "      <th>1561</th>\n",
       "      <td>809</td>\n",
       "      <td>Юрий</td>\n",
       "      <td>26</td>\n",
       "      <td>Сочи</td>\n",
       "      <td>free</td>\n",
       "    </tr>\n",
       "    <tr>\n",
       "      <th>1562</th>\n",
       "      <td>307</td>\n",
       "      <td>Ясмина</td>\n",
       "      <td>19</td>\n",
       "      <td>Краснодар</td>\n",
       "      <td>ultra</td>\n",
       "    </tr>\n",
       "    <tr>\n",
       "      <th>1563</th>\n",
       "      <td>47</td>\n",
       "      <td>Юрий</td>\n",
       "      <td>28</td>\n",
       "      <td>Тюмень</td>\n",
       "      <td>ultra</td>\n",
       "    </tr>\n",
       "    <tr>\n",
       "      <th>1564</th>\n",
       "      <td>1045</td>\n",
       "      <td>Артемий</td>\n",
       "      <td>28</td>\n",
       "      <td>Ростов-на-Дону</td>\n",
       "      <td>free</td>\n",
       "    </tr>\n",
       "  </tbody>\n",
       "</table>\n",
       "</div>"
      ],
      "text/plain": [
       "      user_id        name  age            city subscription_type\n",
       "1534      293       Агата   26       Краснодар             ultra\n",
       "1535       16      Амалия   27       Краснодар             ultra\n",
       "1536      909  Константин   20    Екатеринбург              free\n",
       "1537      403      Полина   19            Сочи             ultra\n",
       "1538      908      Рустам   30          Тюмень              free\n",
       "1539       43    Стефания   22            Омск             ultra\n",
       "1540      127       Павел   25       Пятигорск             ultra\n",
       "1541      659       Злата   27  Ростов-на-Дону             ultra\n",
       "1542      204      Руслан   30       Пятигорск             ultra\n",
       "1543      153      Герман   23          Москва             ultra\n",
       "1544     1245      Регина   27       Пятигорск              free\n",
       "1545      807   Александр   28    Екатеринбург              free\n",
       "1546      924       Мария   23       Пятигорск              free\n",
       "1547      635      Герман   21          Москва             ultra\n",
       "1548      136     Марсель   25          Тюмень             ultra\n",
       "1549      108       Влада   29          Тюмень             ultra\n",
       "1550      737     Мелания   27  Ростов-на-Дону              free\n",
       "1551      666      Зарина   29          Москва             ultra\n",
       "1552      297        Егор   33       Пятигорск             ultra\n",
       "1553      121       Алина   25       Пятигорск             ultra\n",
       "1554     1198       Демид   29  Ростов-на-Дону              free\n",
       "1555       72      Никита   25          Москва             ultra\n",
       "1556      422      Кирилл   27            Сочи             ultra\n",
       "1557      611    Владимир   28            Омск             ultra\n",
       "1558     1237     Евгения   23          Тюмень              free\n",
       "1559      209      Андрей   23            Омск             ultra\n",
       "1560      829       Федор   29       Пятигорск              free\n",
       "1561      809        Юрий   26            Сочи              free\n",
       "1562      307      Ясмина   19       Краснодар             ultra\n",
       "1563       47        Юрий   28          Тюмень             ultra\n",
       "1564     1045     Артемий   28  Ростов-на-Дону              free"
      ]
     },
     "execution_count": 21,
     "metadata": {},
     "output_type": "execute_result"
    }
   ],
   "source": [
    "duplicated_users"
   ]
  },
  {
   "cell_type": "markdown",
   "id": "42141d13",
   "metadata": {},
   "source": [
    "Эта таблица показывает дубликаты в датафрейме пользователей по столбцу 'user_id'. Дубликаты по 'user_id' могут указывать на наличие нескольких записей для одного и того же пользователя. Такие дубликаты могут возникнуть из-за ошибок в сборе данных или технических аспектов системы.\n",
    "Чтобы устранить дубликаты, можно использовать метод drop_duplicates"
   ]
  },
  {
   "cell_type": "code",
   "execution_count": 22,
   "id": "1649d8e6",
   "metadata": {},
   "outputs": [],
   "source": [
    "users = users.drop_duplicates(subset=['user_id']).reset_index()"
   ]
  },
  {
   "cell_type": "code",
   "execution_count": 23,
   "id": "b0a468b0",
   "metadata": {},
   "outputs": [
    {
     "data": {
      "text/plain": [
       "0"
      ]
     },
     "execution_count": 23,
     "metadata": {},
     "output_type": "execute_result"
    }
   ],
   "source": [
    "# теперь посмотрим на количество дубликатов\n",
    "users.duplicated().sum()"
   ]
  },
  {
   "cell_type": "markdown",
   "id": "b93ef5dc",
   "metadata": {},
   "source": [
    "все дубликаты успешно устранены"
   ]
  },
  {
   "cell_type": "code",
   "execution_count": 24,
   "id": "2e0fd280",
   "metadata": {},
   "outputs": [
    {
     "data": {
      "text/plain": [
       "0"
      ]
     },
     "execution_count": 24,
     "metadata": {},
     "output_type": "execute_result"
    }
   ],
   "source": [
    "#посмотрим на наличие дубликатов в датафрейме rides\n",
    "rides.duplicated().sum()"
   ]
  },
  {
   "cell_type": "code",
   "execution_count": 25,
   "id": "32726db0",
   "metadata": {
    "scrolled": true
   },
   "outputs": [
    {
     "data": {
      "text/plain": [
       "array(['Кира', 'Станислав', 'Алексей', 'Константин', 'Адель', 'Регина',\n",
       "       'Игорь', 'Юрий', 'Ян', 'Валерий', 'Агата', 'Марк', 'Ева',\n",
       "       'Антонина', 'Валерия', 'Амалия', 'Даниил', 'Аделина', 'Святогор',\n",
       "       'Борис', 'Вероника', 'Ростислав', 'Назар', 'Эдуард', 'Василий',\n",
       "       'Денис', 'Тамара', 'Николай', 'Эвелина', 'Федор', 'Руслан', 'Иван',\n",
       "       'Любовь', 'Ярослава', 'Майя', 'Ильдар', 'Данила', 'Нина',\n",
       "       'Стефания', 'Ясмина', 'Дмитрий', 'Александр', 'Одиссей', 'Арсений',\n",
       "       'Алла', 'Таисия', 'Максим', 'Юлиана', 'Павел', 'Карина', 'Алиса',\n",
       "       'Лидия', 'Рамиль', 'Родион', 'Ника', 'Оксана', 'Анастасия',\n",
       "       'Маргарита', 'Вера', 'Тимур', 'Никита', 'Лев', 'Влад', 'Артур',\n",
       "       'Анна', 'Ольга', 'Вячеслав', 'Ксения', 'Виталина', 'Владислав',\n",
       "       'Тамерлан', 'Амина', 'Вадим', 'Олеся', 'Зарина', 'Егор', 'Гордей',\n",
       "       'Лилия', 'Святослав', 'Роберт', 'Амир', 'Влада', 'Богдан',\n",
       "       'Полина', 'Марат', 'Елисей', 'Макар', 'Алина', 'Глеб', 'Андрей',\n",
       "       'Альбина', 'Людмила', 'Марсель', 'Милена', 'Диана', 'Дарина',\n",
       "       'Данил', 'Артемий', 'Лиана', 'Альберт', 'Герман', 'Жанна', 'Нелли',\n",
       "       'Евгения', 'Ариана', 'Самира', 'Захар', 'Эльвира', 'Екатерина',\n",
       "       'Инна', 'Демид', 'Яна', 'Михаил', 'Татьяна', 'Степан', 'Мелания',\n",
       "       'Тимофей', 'Ирина', 'Анжелика', 'Владислава', 'Елизавета',\n",
       "       'Мадина', 'Снежана', 'Даниэль', 'Рустам', 'Каролина', 'Ангелина',\n",
       "       'Владимир', 'Виктория', 'Валентина', 'Семен', 'Арина', 'Лариса',\n",
       "       'Есения', 'Галина', 'Кирилл', 'Игнат', 'Виталий', 'Эмилия',\n",
       "       'Виолетта', 'Яромир', 'Софья', 'Мирослава', 'Евгений', 'Варвара',\n",
       "       'Платон', 'Наталия', 'Анатолий', 'Кристина', 'Всеволод', 'Дарья',\n",
       "       'Наташа', 'Мария', 'Марина', 'Василиса', 'Юлия', 'Илья', 'Злата',\n",
       "       'Роман', 'Наталья', 'Элина', 'Арсен', 'Айдар', 'Алия', 'Виктор',\n",
       "       'Мирон', 'Ульяна', 'Георгий', 'Петр', 'Эльмира', 'Олег', 'Дамир',\n",
       "       'Самир', 'Ярослав', 'Камилла', 'Сергей', 'Эмиль', 'Радмир',\n",
       "       'Савелий', 'Елена', 'Антон', 'Мирослав', 'София', 'Тихон', 'Артём',\n",
       "       'Давид', 'Григорий', 'Алёна', 'Светлана', 'Леонид', 'Александра',\n",
       "       'Василина', 'Милана', 'Матвей'], dtype=object)"
      ]
     },
     "execution_count": 25,
     "metadata": {},
     "output_type": "execute_result"
    }
   ],
   "source": [
    "#в \"subscription_type\", возможно имеет смысл оценить уникальные значения\n",
    "users['name'].unique()"
   ]
  },
  {
   "cell_type": "code",
   "execution_count": 26,
   "id": "1f29f9ff",
   "metadata": {},
   "outputs": [
    {
     "data": {
      "text/plain": [
       "Анна         22\n",
       "Мария        22\n",
       "Дмитрий      17\n",
       "Александр    17\n",
       "Никита       16\n",
       "             ..\n",
       "Алина         3\n",
       "Семен         2\n",
       "Тихон         1\n",
       "Милана        1\n",
       "Радмир        1\n",
       "Name: name, Length: 194, dtype: int64"
      ]
     },
     "execution_count": 26,
     "metadata": {},
     "output_type": "execute_result"
    }
   ],
   "source": [
    "users['name'].value_counts()"
   ]
  },
  {
   "cell_type": "code",
   "execution_count": 27,
   "id": "3aca7ac0",
   "metadata": {},
   "outputs": [
    {
     "data": {
      "text/plain": [
       "array(['Тюмень', 'Омск', 'Москва', 'Ростов-на-Дону', 'Краснодар',\n",
       "       'Пятигорск', 'Екатеринбург', 'Сочи'], dtype=object)"
      ]
     },
     "execution_count": 27,
     "metadata": {},
     "output_type": "execute_result"
    }
   ],
   "source": [
    "users['city'].unique()"
   ]
  },
  {
   "cell_type": "markdown",
   "id": "c9c77df5",
   "metadata": {},
   "source": [
    "с данными все в порядке, неявных дубликатов не обнаружено"
   ]
  },
  {
   "cell_type": "code",
   "execution_count": 28,
   "id": "dc5d3de6",
   "metadata": {},
   "outputs": [
    {
     "data": {
      "text/html": [
       "<div>\n",
       "<style scoped>\n",
       "    .dataframe tbody tr th:only-of-type {\n",
       "        vertical-align: middle;\n",
       "    }\n",
       "\n",
       "    .dataframe tbody tr th {\n",
       "        vertical-align: top;\n",
       "    }\n",
       "\n",
       "    .dataframe thead th {\n",
       "        text-align: right;\n",
       "    }\n",
       "</style>\n",
       "<table border=\"1\" class=\"dataframe\">\n",
       "  <thead>\n",
       "    <tr style=\"text-align: right;\">\n",
       "      <th></th>\n",
       "      <th>index</th>\n",
       "      <th>user_id</th>\n",
       "      <th>name</th>\n",
       "      <th>age</th>\n",
       "      <th>city</th>\n",
       "      <th>subscription_type</th>\n",
       "    </tr>\n",
       "  </thead>\n",
       "  <tbody>\n",
       "    <tr>\n",
       "      <th>20</th>\n",
       "      <td>20</td>\n",
       "      <td>21</td>\n",
       "      <td>Святогор</td>\n",
       "      <td>14</td>\n",
       "      <td>Ростов-на-Дону</td>\n",
       "      <td>ultra</td>\n",
       "    </tr>\n",
       "    <tr>\n",
       "      <th>34</th>\n",
       "      <td>34</td>\n",
       "      <td>35</td>\n",
       "      <td>Руслан</td>\n",
       "      <td>12</td>\n",
       "      <td>Пятигорск</td>\n",
       "      <td>ultra</td>\n",
       "    </tr>\n",
       "    <tr>\n",
       "      <th>66</th>\n",
       "      <td>66</td>\n",
       "      <td>67</td>\n",
       "      <td>Анастасия</td>\n",
       "      <td>12</td>\n",
       "      <td>Ростов-на-Дону</td>\n",
       "      <td>ultra</td>\n",
       "    </tr>\n",
       "    <tr>\n",
       "      <th>83</th>\n",
       "      <td>83</td>\n",
       "      <td>84</td>\n",
       "      <td>Анна</td>\n",
       "      <td>13</td>\n",
       "      <td>Екатеринбург</td>\n",
       "      <td>ultra</td>\n",
       "    </tr>\n",
       "    <tr>\n",
       "      <th>145</th>\n",
       "      <td>145</td>\n",
       "      <td>146</td>\n",
       "      <td>Ева</td>\n",
       "      <td>14</td>\n",
       "      <td>Ростов-на-Дону</td>\n",
       "      <td>ultra</td>\n",
       "    </tr>\n",
       "    <tr>\n",
       "      <th>235</th>\n",
       "      <td>235</td>\n",
       "      <td>236</td>\n",
       "      <td>Владимир</td>\n",
       "      <td>13</td>\n",
       "      <td>Тюмень</td>\n",
       "      <td>ultra</td>\n",
       "    </tr>\n",
       "    <tr>\n",
       "      <th>314</th>\n",
       "      <td>314</td>\n",
       "      <td>315</td>\n",
       "      <td>Игорь</td>\n",
       "      <td>13</td>\n",
       "      <td>Москва</td>\n",
       "      <td>ultra</td>\n",
       "    </tr>\n",
       "    <tr>\n",
       "      <th>448</th>\n",
       "      <td>448</td>\n",
       "      <td>449</td>\n",
       "      <td>Александр</td>\n",
       "      <td>14</td>\n",
       "      <td>Москва</td>\n",
       "      <td>ultra</td>\n",
       "    </tr>\n",
       "    <tr>\n",
       "      <th>553</th>\n",
       "      <td>553</td>\n",
       "      <td>554</td>\n",
       "      <td>Евгений</td>\n",
       "      <td>13</td>\n",
       "      <td>Тюмень</td>\n",
       "      <td>ultra</td>\n",
       "    </tr>\n",
       "    <tr>\n",
       "      <th>664</th>\n",
       "      <td>664</td>\n",
       "      <td>665</td>\n",
       "      <td>Герман</td>\n",
       "      <td>12</td>\n",
       "      <td>Сочи</td>\n",
       "      <td>ultra</td>\n",
       "    </tr>\n",
       "    <tr>\n",
       "      <th>694</th>\n",
       "      <td>694</td>\n",
       "      <td>695</td>\n",
       "      <td>Злата</td>\n",
       "      <td>14</td>\n",
       "      <td>Тюмень</td>\n",
       "      <td>ultra</td>\n",
       "    </tr>\n",
       "    <tr>\n",
       "      <th>727</th>\n",
       "      <td>727</td>\n",
       "      <td>728</td>\n",
       "      <td>Вячеслав</td>\n",
       "      <td>12</td>\n",
       "      <td>Пятигорск</td>\n",
       "      <td>free</td>\n",
       "    </tr>\n",
       "    <tr>\n",
       "      <th>779</th>\n",
       "      <td>779</td>\n",
       "      <td>780</td>\n",
       "      <td>Семен</td>\n",
       "      <td>13</td>\n",
       "      <td>Тюмень</td>\n",
       "      <td>free</td>\n",
       "    </tr>\n",
       "    <tr>\n",
       "      <th>810</th>\n",
       "      <td>810</td>\n",
       "      <td>811</td>\n",
       "      <td>Маргарита</td>\n",
       "      <td>14</td>\n",
       "      <td>Сочи</td>\n",
       "      <td>free</td>\n",
       "    </tr>\n",
       "    <tr>\n",
       "      <th>933</th>\n",
       "      <td>933</td>\n",
       "      <td>934</td>\n",
       "      <td>Самир</td>\n",
       "      <td>14</td>\n",
       "      <td>Пятигорск</td>\n",
       "      <td>free</td>\n",
       "    </tr>\n",
       "    <tr>\n",
       "      <th>1021</th>\n",
       "      <td>1021</td>\n",
       "      <td>1022</td>\n",
       "      <td>Антонина</td>\n",
       "      <td>14</td>\n",
       "      <td>Сочи</td>\n",
       "      <td>free</td>\n",
       "    </tr>\n",
       "    <tr>\n",
       "      <th>1161</th>\n",
       "      <td>1161</td>\n",
       "      <td>1162</td>\n",
       "      <td>Вера</td>\n",
       "      <td>14</td>\n",
       "      <td>Ростов-на-Дону</td>\n",
       "      <td>free</td>\n",
       "    </tr>\n",
       "    <tr>\n",
       "      <th>1241</th>\n",
       "      <td>1241</td>\n",
       "      <td>1242</td>\n",
       "      <td>Майя</td>\n",
       "      <td>13</td>\n",
       "      <td>Омск</td>\n",
       "      <td>free</td>\n",
       "    </tr>\n",
       "    <tr>\n",
       "      <th>1249</th>\n",
       "      <td>1249</td>\n",
       "      <td>1250</td>\n",
       "      <td>Георгий</td>\n",
       "      <td>13</td>\n",
       "      <td>Краснодар</td>\n",
       "      <td>free</td>\n",
       "    </tr>\n",
       "    <tr>\n",
       "      <th>1282</th>\n",
       "      <td>1282</td>\n",
       "      <td>1283</td>\n",
       "      <td>Дмитрий</td>\n",
       "      <td>14</td>\n",
       "      <td>Тюмень</td>\n",
       "      <td>free</td>\n",
       "    </tr>\n",
       "    <tr>\n",
       "      <th>1475</th>\n",
       "      <td>1475</td>\n",
       "      <td>1476</td>\n",
       "      <td>Стефания</td>\n",
       "      <td>13</td>\n",
       "      <td>Москва</td>\n",
       "      <td>free</td>\n",
       "    </tr>\n",
       "  </tbody>\n",
       "</table>\n",
       "</div>"
      ],
      "text/plain": [
       "      index  user_id       name  age            city subscription_type\n",
       "20       20       21   Святогор   14  Ростов-на-Дону             ultra\n",
       "34       34       35     Руслан   12       Пятигорск             ultra\n",
       "66       66       67  Анастасия   12  Ростов-на-Дону             ultra\n",
       "83       83       84       Анна   13    Екатеринбург             ultra\n",
       "145     145      146        Ева   14  Ростов-на-Дону             ultra\n",
       "235     235      236   Владимир   13          Тюмень             ultra\n",
       "314     314      315      Игорь   13          Москва             ultra\n",
       "448     448      449  Александр   14          Москва             ultra\n",
       "553     553      554    Евгений   13          Тюмень             ultra\n",
       "664     664      665     Герман   12            Сочи             ultra\n",
       "694     694      695      Злата   14          Тюмень             ultra\n",
       "727     727      728   Вячеслав   12       Пятигорск              free\n",
       "779     779      780      Семен   13          Тюмень              free\n",
       "810     810      811  Маргарита   14            Сочи              free\n",
       "933     933      934      Самир   14       Пятигорск              free\n",
       "1021   1021     1022   Антонина   14            Сочи              free\n",
       "1161   1161     1162       Вера   14  Ростов-на-Дону              free\n",
       "1241   1241     1242       Майя   13            Омск              free\n",
       "1249   1249     1250    Георгий   13       Краснодар              free\n",
       "1282   1282     1283    Дмитрий   14          Тюмень              free\n",
       "1475   1475     1476   Стефания   13          Москва              free"
      ]
     },
     "execution_count": 28,
     "metadata": {},
     "output_type": "execute_result"
    }
   ],
   "source": [
    "#Посмотрим на самых младших пользователей\n",
    "users.query('age<15')"
   ]
  },
  {
   "cell_type": "code",
   "execution_count": 29,
   "id": "c746a853",
   "metadata": {},
   "outputs": [
    {
     "data": {
      "text/html": [
       "<div>\n",
       "<style scoped>\n",
       "    .dataframe tbody tr th:only-of-type {\n",
       "        vertical-align: middle;\n",
       "    }\n",
       "\n",
       "    .dataframe tbody tr th {\n",
       "        vertical-align: top;\n",
       "    }\n",
       "\n",
       "    .dataframe thead th {\n",
       "        text-align: right;\n",
       "    }\n",
       "</style>\n",
       "<table border=\"1\" class=\"dataframe\">\n",
       "  <thead>\n",
       "    <tr style=\"text-align: right;\">\n",
       "      <th></th>\n",
       "      <th>index</th>\n",
       "      <th>user_id</th>\n",
       "      <th>name</th>\n",
       "      <th>age</th>\n",
       "      <th>city</th>\n",
       "      <th>subscription_type</th>\n",
       "    </tr>\n",
       "  </thead>\n",
       "  <tbody>\n",
       "    <tr>\n",
       "      <th>1201</th>\n",
       "      <td>1201</td>\n",
       "      <td>1202</td>\n",
       "      <td>Ангелина</td>\n",
       "      <td>43</td>\n",
       "      <td>Москва</td>\n",
       "      <td>free</td>\n",
       "    </tr>\n",
       "  </tbody>\n",
       "</table>\n",
       "</div>"
      ],
      "text/plain": [
       "      index  user_id      name  age    city subscription_type\n",
       "1201   1201     1202  Ангелина   43  Москва              free"
      ]
     },
     "execution_count": 29,
     "metadata": {},
     "output_type": "execute_result"
    }
   ],
   "source": [
    "#Посмотрим на самых старших пользователей\n",
    "users.query('age>40')"
   ]
  },
  {
   "cell_type": "markdown",
   "id": "9938dae1",
   "metadata": {},
   "source": [
    "**Вывод:**\n",
    "\n",
    "В ходе выполнения предварительной обработки, столбец \"date\" был приведен к формату datetime и добавили новый столбец с номером месяца. Также были обнаружены и удалены дубликаты в датафрейме rides"
   ]
  },
  {
   "cell_type": "markdown",
   "id": "212593c7",
   "metadata": {},
   "source": [
    "## Исследовательский анализ данных"
   ]
  },
  {
   "cell_type": "markdown",
   "id": "5e9c30c0",
   "metadata": {},
   "source": [
    "Далее опишем и визуализируем общую информацию о пользователях и поездках"
   ]
  },
  {
   "cell_type": "markdown",
   "id": "757b067e",
   "metadata": {},
   "source": [
    "### Частота встречаемости городов"
   ]
  },
  {
   "cell_type": "code",
   "execution_count": 30,
   "id": "c48f66b2",
   "metadata": {},
   "outputs": [],
   "source": [
    "#посмотрим на частоту встречаемости городов\n",
    "city_distribution = users['city'].value_counts()"
   ]
  },
  {
   "cell_type": "code",
   "execution_count": 31,
   "id": "aad6d034",
   "metadata": {},
   "outputs": [
    {
     "data": {
      "text/plain": [
       "Пятигорск         219\n",
       "Екатеринбург      204\n",
       "Ростов-на-Дону    198\n",
       "Краснодар         193\n",
       "Сочи              189\n",
       "Омск              183\n",
       "Тюмень            180\n",
       "Москва            168\n",
       "Name: city, dtype: int64"
      ]
     },
     "execution_count": 31,
     "metadata": {},
     "output_type": "execute_result"
    }
   ],
   "source": [
    "city_distribution"
   ]
  },
  {
   "cell_type": "code",
   "execution_count": 32,
   "id": "bd639552",
   "metadata": {},
   "outputs": [
    {
     "data": {
      "image/png": "[encoded data removed]",
      "text/plain": [
       "<Figure size 720x432 with 1 Axes>"
      ]
     },
     "metadata": {
      "needs_background": "light"
     },
     "output_type": "display_data"
    }
   ],
   "source": [
    "# Построим график для визуализации полученных данных\n",
    "plt.figure(figsize=(10, 6))\n",
    "city_distribution.plot(kind='bar', color='darkblue')\n",
    "plt.title('Распределение городов в данных пользователей')\n",
    "plt.xlabel('Город')\n",
    "plt.ylabel('Количество пользователей')\n",
    "plt.xticks(rotation=45, ha='right')  \n",
    "plt.tight_layout()\n",
    "\n",
    "plt.show()"
   ]
  },
  {
   "cell_type": "markdown",
   "id": "61fc8ca8",
   "metadata": {},
   "source": [
    " Согласно полученным данным, в топ городов-пользователей сервиса аренды самокатов вошли Пятигорск (226 пользователей),\n",
    "Екатеринбург (206 пользователей) и Ростов-на-Дону (202 пользователя). Но разница между 1-ым и последним местом (Москва) всего 54 человека."
   ]
  },
  {
   "cell_type": "markdown",
   "id": "b006e07d",
   "metadata": {},
   "source": [
    "### Соотношение пользователей с подпиской и без подписки"
   ]
  },
  {
   "cell_type": "code",
   "execution_count": 33,
   "id": "61e222c9",
   "metadata": {},
   "outputs": [],
   "source": [
    "# Объединим данные о пользователях с данными о подписках\n",
    "merged_data = pd.merge(users, subscriptions, on='subscription_type', how='left')"
   ]
  },
  {
   "cell_type": "code",
   "execution_count": 34,
   "id": "cc3df388",
   "metadata": {},
   "outputs": [
    {
     "data": {
      "text/html": [
       "<div>\n",
       "<style scoped>\n",
       "    .dataframe tbody tr th:only-of-type {\n",
       "        vertical-align: middle;\n",
       "    }\n",
       "\n",
       "    .dataframe tbody tr th {\n",
       "        vertical-align: top;\n",
       "    }\n",
       "\n",
       "    .dataframe thead th {\n",
       "        text-align: right;\n",
       "    }\n",
       "</style>\n",
       "<table border=\"1\" class=\"dataframe\">\n",
       "  <thead>\n",
       "    <tr style=\"text-align: right;\">\n",
       "      <th></th>\n",
       "      <th>index</th>\n",
       "      <th>user_id</th>\n",
       "      <th>name</th>\n",
       "      <th>age</th>\n",
       "      <th>city</th>\n",
       "      <th>subscription_type</th>\n",
       "      <th>minute_price</th>\n",
       "      <th>start_ride_price</th>\n",
       "      <th>subscription_fee</th>\n",
       "    </tr>\n",
       "  </thead>\n",
       "  <tbody>\n",
       "    <tr>\n",
       "      <th>0</th>\n",
       "      <td>0</td>\n",
       "      <td>1</td>\n",
       "      <td>Кира</td>\n",
       "      <td>22</td>\n",
       "      <td>Тюмень</td>\n",
       "      <td>ultra</td>\n",
       "      <td>6</td>\n",
       "      <td>0</td>\n",
       "      <td>199</td>\n",
       "    </tr>\n",
       "    <tr>\n",
       "      <th>1</th>\n",
       "      <td>1</td>\n",
       "      <td>2</td>\n",
       "      <td>Станислав</td>\n",
       "      <td>31</td>\n",
       "      <td>Омск</td>\n",
       "      <td>ultra</td>\n",
       "      <td>6</td>\n",
       "      <td>0</td>\n",
       "      <td>199</td>\n",
       "    </tr>\n",
       "    <tr>\n",
       "      <th>2</th>\n",
       "      <td>2</td>\n",
       "      <td>3</td>\n",
       "      <td>Алексей</td>\n",
       "      <td>20</td>\n",
       "      <td>Москва</td>\n",
       "      <td>ultra</td>\n",
       "      <td>6</td>\n",
       "      <td>0</td>\n",
       "      <td>199</td>\n",
       "    </tr>\n",
       "    <tr>\n",
       "      <th>3</th>\n",
       "      <td>3</td>\n",
       "      <td>4</td>\n",
       "      <td>Константин</td>\n",
       "      <td>26</td>\n",
       "      <td>Ростов-на-Дону</td>\n",
       "      <td>ultra</td>\n",
       "      <td>6</td>\n",
       "      <td>0</td>\n",
       "      <td>199</td>\n",
       "    </tr>\n",
       "    <tr>\n",
       "      <th>4</th>\n",
       "      <td>4</td>\n",
       "      <td>5</td>\n",
       "      <td>Адель</td>\n",
       "      <td>28</td>\n",
       "      <td>Омск</td>\n",
       "      <td>ultra</td>\n",
       "      <td>6</td>\n",
       "      <td>0</td>\n",
       "      <td>199</td>\n",
       "    </tr>\n",
       "    <tr>\n",
       "      <th>5</th>\n",
       "      <td>5</td>\n",
       "      <td>6</td>\n",
       "      <td>Регина</td>\n",
       "      <td>25</td>\n",
       "      <td>Краснодар</td>\n",
       "      <td>ultra</td>\n",
       "      <td>6</td>\n",
       "      <td>0</td>\n",
       "      <td>199</td>\n",
       "    </tr>\n",
       "    <tr>\n",
       "      <th>6</th>\n",
       "      <td>6</td>\n",
       "      <td>7</td>\n",
       "      <td>Игорь</td>\n",
       "      <td>23</td>\n",
       "      <td>Омск</td>\n",
       "      <td>ultra</td>\n",
       "      <td>6</td>\n",
       "      <td>0</td>\n",
       "      <td>199</td>\n",
       "    </tr>\n",
       "    <tr>\n",
       "      <th>7</th>\n",
       "      <td>7</td>\n",
       "      <td>8</td>\n",
       "      <td>Юрий</td>\n",
       "      <td>23</td>\n",
       "      <td>Краснодар</td>\n",
       "      <td>ultra</td>\n",
       "      <td>6</td>\n",
       "      <td>0</td>\n",
       "      <td>199</td>\n",
       "    </tr>\n",
       "    <tr>\n",
       "      <th>8</th>\n",
       "      <td>8</td>\n",
       "      <td>9</td>\n",
       "      <td>Ян</td>\n",
       "      <td>21</td>\n",
       "      <td>Пятигорск</td>\n",
       "      <td>ultra</td>\n",
       "      <td>6</td>\n",
       "      <td>0</td>\n",
       "      <td>199</td>\n",
       "    </tr>\n",
       "    <tr>\n",
       "      <th>9</th>\n",
       "      <td>9</td>\n",
       "      <td>10</td>\n",
       "      <td>Валерий</td>\n",
       "      <td>18</td>\n",
       "      <td>Екатеринбург</td>\n",
       "      <td>ultra</td>\n",
       "      <td>6</td>\n",
       "      <td>0</td>\n",
       "      <td>199</td>\n",
       "    </tr>\n",
       "  </tbody>\n",
       "</table>\n",
       "</div>"
      ],
      "text/plain": [
       "   index  user_id        name  age            city subscription_type  \\\n",
       "0      0        1        Кира   22          Тюмень             ultra   \n",
       "1      1        2   Станислав   31            Омск             ultra   \n",
       "2      2        3     Алексей   20          Москва             ultra   \n",
       "3      3        4  Константин   26  Ростов-на-Дону             ultra   \n",
       "4      4        5       Адель   28            Омск             ultra   \n",
       "5      5        6      Регина   25       Краснодар             ultra   \n",
       "6      6        7       Игорь   23            Омск             ultra   \n",
       "7      7        8        Юрий   23       Краснодар             ultra   \n",
       "8      8        9          Ян   21       Пятигорск             ultra   \n",
       "9      9       10     Валерий   18    Екатеринбург             ultra   \n",
       "\n",
       "   minute_price  start_ride_price  subscription_fee  \n",
       "0             6                 0               199  \n",
       "1             6                 0               199  \n",
       "2             6                 0               199  \n",
       "3             6                 0               199  \n",
       "4             6                 0               199  \n",
       "5             6                 0               199  \n",
       "6             6                 0               199  \n",
       "7             6                 0               199  \n",
       "8             6                 0               199  \n",
       "9             6                 0               199  "
      ]
     },
     "execution_count": 34,
     "metadata": {},
     "output_type": "execute_result"
    }
   ],
   "source": [
    "#Посмотрим на полученный датафрейм\n",
    "merged_data.head(10)"
   ]
  },
  {
   "cell_type": "code",
   "execution_count": 35,
   "id": "92632297",
   "metadata": {},
   "outputs": [],
   "source": [
    "#Подсчитаем количество пользователей с подпиской и без подписки\n",
    "subscription_counts = merged_data['subscription_type'].value_counts()"
   ]
  },
  {
   "cell_type": "code",
   "execution_count": 36,
   "id": "43ef1f4e",
   "metadata": {},
   "outputs": [
    {
     "data": {
      "text/plain": [
       "free     835\n",
       "ultra    699\n",
       "Name: subscription_type, dtype: int64"
      ]
     },
     "execution_count": 36,
     "metadata": {},
     "output_type": "execute_result"
    }
   ],
   "source": [
    "subscription_counts "
   ]
  },
  {
   "cell_type": "code",
   "execution_count": 37,
   "id": "b01c5da5",
   "metadata": {},
   "outputs": [],
   "source": [
    "# Рассчитаем соотношения пользователей с подпиской и без подписки\n",
    "subscription_ratio = subscription_counts / len(users)"
   ]
  },
  {
   "cell_type": "code",
   "execution_count": 38,
   "id": "50259ee0",
   "metadata": {},
   "outputs": [
    {
     "data": {
      "text/plain": [
       "free     0.544329\n",
       "ultra    0.455671\n",
       "Name: subscription_type, dtype: float64"
      ]
     },
     "execution_count": 38,
     "metadata": {},
     "output_type": "execute_result"
    }
   ],
   "source": [
    "subscription_ratio"
   ]
  },
  {
   "cell_type": "markdown",
   "id": "e15026c3",
   "metadata": {},
   "source": [
    "Предоставленные результаты отражают соотношение пользователей с различными типами подписок в сервисе аренды самокатов GoFast. В данном случае, данные описывают долю пользователей с подпиской \"ultra\" и без подписки \"free\". Представленные числа отражают процентное соотношение каждой из подписок относительно общего числа пользователей. Пользователи с подпиской \"free\": Примерно 54.06% от общего числа пользователей сервиса GoFast не используют абонентскую подписку и, вероятно, платят за каждую поездку отдельно.Пользователи с подпиской \"ultra\": Примерно 45.94% от общего числа пользователей выбирают подписку \"ultra\", что предоставляет им привилегии, такие как бесплатный старт поездки и более низкая стоимость за минуту поездки.\n",
    "Возможно, следует провести дополнительные маркетинговые кампании для привлечения пользователей к типу подписки ultra или адаптировать условия подписки, чтобы сделать ее более привлекательной для широкого круга пользователей."
   ]
  },
  {
   "cell_type": "markdown",
   "id": "63b5a8dd",
   "metadata": {},
   "source": [
    "### Возраст пользователей"
   ]
  },
  {
   "cell_type": "code",
   "execution_count": 39,
   "id": "449ab716",
   "metadata": {},
   "outputs": [
    {
     "data": {
      "image/png": "[encoded data removed]",
      "text/plain": [
       "<Figure size 720x432 with 1 Axes>"
      ]
     },
     "metadata": {
      "needs_background": "light"
     },
     "output_type": "display_data"
    }
   ],
   "source": [
    "#Построим гистограмму по возрасту пользователей\n",
    "plt.figure(figsize=(10, 6))\n",
    "users['age'].hist(bins=30, color='darkblue', edgecolor='black')\n",
    "\n",
    "# Добавим подписи осей и заголовка\n",
    "plt.xlabel('Возраст')\n",
    "plt.ylabel('Количество пользователей')\n",
    "plt.title('Распределение возраста пользователей')\n",
    "\n",
    "plt.show()"
   ]
  },
  {
   "cell_type": "code",
   "execution_count": 40,
   "id": "4640876a",
   "metadata": {},
   "outputs": [
    {
     "data": {
      "text/plain": [
       "count    1534.000000\n",
       "mean       24.903520\n",
       "std         4.572367\n",
       "min        12.000000\n",
       "25%        22.000000\n",
       "50%        25.000000\n",
       "75%        28.000000\n",
       "max        43.000000\n",
       "Name: age, dtype: float64"
      ]
     },
     "execution_count": 40,
     "metadata": {},
     "output_type": "execute_result"
    }
   ],
   "source": [
    "users['age'].describe()"
   ]
  },
  {
   "cell_type": "markdown",
   "id": "46c7786a",
   "metadata": {},
   "source": [
    "Судя по гистограмме, средний возраст пользователя сервиса аренды самокатов GoFast - 25 лет, пользователей с возрастом более 40 лет редко встретишь. Молодые люди, такие как студенты или молодые работники, могут чаще иметь потребность в быстром и удобном транспортном средстве для перемещения по городу. Молодые люди могут быть более открытыми для использования аренды самокатов из-за экономических соображений или потребности в бюджетных вариантах транспорта. Можно отметить наличие пользователей даже младше 18 лет."
   ]
  },
  {
   "cell_type": "code",
   "execution_count": 41,
   "id": "27e3f407",
   "metadata": {},
   "outputs": [
    {
     "data": {
      "text/html": [
       "<div>\n",
       "<style scoped>\n",
       "    .dataframe tbody tr th:only-of-type {\n",
       "        vertical-align: middle;\n",
       "    }\n",
       "\n",
       "    .dataframe tbody tr th {\n",
       "        vertical-align: top;\n",
       "    }\n",
       "\n",
       "    .dataframe thead th {\n",
       "        text-align: right;\n",
       "    }\n",
       "</style>\n",
       "<table border=\"1\" class=\"dataframe\">\n",
       "  <thead>\n",
       "    <tr style=\"text-align: right;\">\n",
       "      <th></th>\n",
       "      <th>index</th>\n",
       "      <th>user_id</th>\n",
       "      <th>name</th>\n",
       "      <th>age</th>\n",
       "      <th>city</th>\n",
       "      <th>subscription_type</th>\n",
       "    </tr>\n",
       "  </thead>\n",
       "  <tbody>\n",
       "    <tr>\n",
       "      <th>20</th>\n",
       "      <td>20</td>\n",
       "      <td>21</td>\n",
       "      <td>Святогор</td>\n",
       "      <td>14</td>\n",
       "      <td>Ростов-на-Дону</td>\n",
       "      <td>ultra</td>\n",
       "    </tr>\n",
       "    <tr>\n",
       "      <th>33</th>\n",
       "      <td>33</td>\n",
       "      <td>34</td>\n",
       "      <td>Федор</td>\n",
       "      <td>17</td>\n",
       "      <td>Краснодар</td>\n",
       "      <td>ultra</td>\n",
       "    </tr>\n",
       "    <tr>\n",
       "      <th>34</th>\n",
       "      <td>34</td>\n",
       "      <td>35</td>\n",
       "      <td>Руслан</td>\n",
       "      <td>12</td>\n",
       "      <td>Пятигорск</td>\n",
       "      <td>ultra</td>\n",
       "    </tr>\n",
       "    <tr>\n",
       "      <th>48</th>\n",
       "      <td>48</td>\n",
       "      <td>49</td>\n",
       "      <td>Одиссей</td>\n",
       "      <td>17</td>\n",
       "      <td>Ростов-на-Дону</td>\n",
       "      <td>ultra</td>\n",
       "    </tr>\n",
       "    <tr>\n",
       "      <th>66</th>\n",
       "      <td>66</td>\n",
       "      <td>67</td>\n",
       "      <td>Анастасия</td>\n",
       "      <td>12</td>\n",
       "      <td>Ростов-на-Дону</td>\n",
       "      <td>ultra</td>\n",
       "    </tr>\n",
       "    <tr>\n",
       "      <th>...</th>\n",
       "      <td>...</td>\n",
       "      <td>...</td>\n",
       "      <td>...</td>\n",
       "      <td>...</td>\n",
       "      <td>...</td>\n",
       "      <td>...</td>\n",
       "    </tr>\n",
       "    <tr>\n",
       "      <th>1474</th>\n",
       "      <td>1474</td>\n",
       "      <td>1475</td>\n",
       "      <td>Артём</td>\n",
       "      <td>17</td>\n",
       "      <td>Тюмень</td>\n",
       "      <td>free</td>\n",
       "    </tr>\n",
       "    <tr>\n",
       "      <th>1475</th>\n",
       "      <td>1475</td>\n",
       "      <td>1476</td>\n",
       "      <td>Стефания</td>\n",
       "      <td>13</td>\n",
       "      <td>Москва</td>\n",
       "      <td>free</td>\n",
       "    </tr>\n",
       "    <tr>\n",
       "      <th>1476</th>\n",
       "      <td>1476</td>\n",
       "      <td>1477</td>\n",
       "      <td>Ян</td>\n",
       "      <td>17</td>\n",
       "      <td>Сочи</td>\n",
       "      <td>free</td>\n",
       "    </tr>\n",
       "    <tr>\n",
       "      <th>1487</th>\n",
       "      <td>1487</td>\n",
       "      <td>1488</td>\n",
       "      <td>Рамиль</td>\n",
       "      <td>15</td>\n",
       "      <td>Екатеринбург</td>\n",
       "      <td>free</td>\n",
       "    </tr>\n",
       "    <tr>\n",
       "      <th>1515</th>\n",
       "      <td>1515</td>\n",
       "      <td>1516</td>\n",
       "      <td>Давид</td>\n",
       "      <td>16</td>\n",
       "      <td>Краснодар</td>\n",
       "      <td>free</td>\n",
       "    </tr>\n",
       "  </tbody>\n",
       "</table>\n",
       "<p>79 rows × 6 columns</p>\n",
       "</div>"
      ],
      "text/plain": [
       "      index  user_id       name  age            city subscription_type\n",
       "20       20       21   Святогор   14  Ростов-на-Дону             ultra\n",
       "33       33       34      Федор   17       Краснодар             ultra\n",
       "34       34       35     Руслан   12       Пятигорск             ultra\n",
       "48       48       49    Одиссей   17  Ростов-на-Дону             ultra\n",
       "66       66       67  Анастасия   12  Ростов-на-Дону             ultra\n",
       "...     ...      ...        ...  ...             ...               ...\n",
       "1474   1474     1475      Артём   17          Тюмень              free\n",
       "1475   1475     1476   Стефания   13          Москва              free\n",
       "1476   1476     1477         Ян   17            Сочи              free\n",
       "1487   1487     1488     Рамиль   15    Екатеринбург              free\n",
       "1515   1515     1516      Давид   16       Краснодар              free\n",
       "\n",
       "[79 rows x 6 columns]"
      ]
     },
     "execution_count": 41,
     "metadata": {},
     "output_type": "execute_result"
    }
   ],
   "source": [
    "# посмотрим на количество пользователей меньше 18 лет\n",
    "users.query('age<18')"
   ]
  },
  {
   "cell_type": "markdown",
   "id": "5000b152",
   "metadata": {},
   "source": [
    "79 пользователей - младше 18 лет"
   ]
  },
  {
   "cell_type": "markdown",
   "id": "65e08312",
   "metadata": {},
   "source": [
    "###  Расстояние, которое пользователь преодолел за одну поездку"
   ]
  },
  {
   "cell_type": "code",
   "execution_count": 42,
   "id": "fbe7f4db",
   "metadata": {},
   "outputs": [],
   "source": [
    "#Пересчитаем расстояния для каждой поездки в километрах\n",
    "rides['distance_km'] = rides['distance'] / 1000"
   ]
  },
  {
   "cell_type": "code",
   "execution_count": 43,
   "id": "0b486929",
   "metadata": {},
   "outputs": [
    {
     "data": {
      "text/html": [
       "<div>\n",
       "<style scoped>\n",
       "    .dataframe tbody tr th:only-of-type {\n",
       "        vertical-align: middle;\n",
       "    }\n",
       "\n",
       "    .dataframe tbody tr th {\n",
       "        vertical-align: top;\n",
       "    }\n",
       "\n",
       "    .dataframe thead th {\n",
       "        text-align: right;\n",
       "    }\n",
       "</style>\n",
       "<table border=\"1\" class=\"dataframe\">\n",
       "  <thead>\n",
       "    <tr style=\"text-align: right;\">\n",
       "      <th></th>\n",
       "      <th>user_id</th>\n",
       "      <th>distance</th>\n",
       "      <th>duration</th>\n",
       "      <th>date</th>\n",
       "      <th>month</th>\n",
       "      <th>distance_km</th>\n",
       "    </tr>\n",
       "  </thead>\n",
       "  <tbody>\n",
       "    <tr>\n",
       "      <th>0</th>\n",
       "      <td>1</td>\n",
       "      <td>4409.919140</td>\n",
       "      <td>25.599769</td>\n",
       "      <td>2021-01-01</td>\n",
       "      <td>1</td>\n",
       "      <td>4.409919</td>\n",
       "    </tr>\n",
       "    <tr>\n",
       "      <th>1</th>\n",
       "      <td>1</td>\n",
       "      <td>2617.592153</td>\n",
       "      <td>15.816871</td>\n",
       "      <td>2021-01-18</td>\n",
       "      <td>1</td>\n",
       "      <td>2.617592</td>\n",
       "    </tr>\n",
       "    <tr>\n",
       "      <th>2</th>\n",
       "      <td>1</td>\n",
       "      <td>754.159807</td>\n",
       "      <td>6.232113</td>\n",
       "      <td>2021-04-20</td>\n",
       "      <td>4</td>\n",
       "      <td>0.754160</td>\n",
       "    </tr>\n",
       "    <tr>\n",
       "      <th>3</th>\n",
       "      <td>1</td>\n",
       "      <td>2694.783254</td>\n",
       "      <td>18.511000</td>\n",
       "      <td>2021-08-11</td>\n",
       "      <td>8</td>\n",
       "      <td>2.694783</td>\n",
       "    </tr>\n",
       "    <tr>\n",
       "      <th>4</th>\n",
       "      <td>1</td>\n",
       "      <td>4028.687306</td>\n",
       "      <td>26.265803</td>\n",
       "      <td>2021-08-28</td>\n",
       "      <td>8</td>\n",
       "      <td>4.028687</td>\n",
       "    </tr>\n",
       "    <tr>\n",
       "      <th>5</th>\n",
       "      <td>1</td>\n",
       "      <td>2770.890808</td>\n",
       "      <td>16.650138</td>\n",
       "      <td>2021-10-09</td>\n",
       "      <td>10</td>\n",
       "      <td>2.770891</td>\n",
       "    </tr>\n",
       "    <tr>\n",
       "      <th>6</th>\n",
       "      <td>1</td>\n",
       "      <td>3039.020292</td>\n",
       "      <td>14.927879</td>\n",
       "      <td>2021-10-19</td>\n",
       "      <td>10</td>\n",
       "      <td>3.039020</td>\n",
       "    </tr>\n",
       "    <tr>\n",
       "      <th>7</th>\n",
       "      <td>1</td>\n",
       "      <td>2842.118050</td>\n",
       "      <td>23.117468</td>\n",
       "      <td>2021-11-06</td>\n",
       "      <td>11</td>\n",
       "      <td>2.842118</td>\n",
       "    </tr>\n",
       "    <tr>\n",
       "      <th>8</th>\n",
       "      <td>1</td>\n",
       "      <td>3412.690668</td>\n",
       "      <td>15.238072</td>\n",
       "      <td>2021-11-14</td>\n",
       "      <td>11</td>\n",
       "      <td>3.412691</td>\n",
       "    </tr>\n",
       "    <tr>\n",
       "      <th>9</th>\n",
       "      <td>1</td>\n",
       "      <td>748.690645</td>\n",
       "      <td>15.041884</td>\n",
       "      <td>2021-11-22</td>\n",
       "      <td>11</td>\n",
       "      <td>0.748691</td>\n",
       "    </tr>\n",
       "  </tbody>\n",
       "</table>\n",
       "</div>"
      ],
      "text/plain": [
       "   user_id     distance   duration       date  month  distance_km\n",
       "0        1  4409.919140  25.599769 2021-01-01      1     4.409919\n",
       "1        1  2617.592153  15.816871 2021-01-18      1     2.617592\n",
       "2        1   754.159807   6.232113 2021-04-20      4     0.754160\n",
       "3        1  2694.783254  18.511000 2021-08-11      8     2.694783\n",
       "4        1  4028.687306  26.265803 2021-08-28      8     4.028687\n",
       "5        1  2770.890808  16.650138 2021-10-09     10     2.770891\n",
       "6        1  3039.020292  14.927879 2021-10-19     10     3.039020\n",
       "7        1  2842.118050  23.117468 2021-11-06     11     2.842118\n",
       "8        1  3412.690668  15.238072 2021-11-14     11     3.412691\n",
       "9        1   748.690645  15.041884 2021-11-22     11     0.748691"
      ]
     },
     "execution_count": 43,
     "metadata": {},
     "output_type": "execute_result"
    }
   ],
   "source": [
    "#Посмотрим на полученный датафрейм\n",
    "rides.head(10)"
   ]
  },
  {
   "cell_type": "code",
   "execution_count": 44,
   "id": "35d24101",
   "metadata": {},
   "outputs": [],
   "source": [
    "#окгруглим столбец до 2 знаков после запятой\n",
    "rides['distance_km'] = rides['distance_km'].round(2)"
   ]
  },
  {
   "cell_type": "code",
   "execution_count": 45,
   "id": "44f8b0be",
   "metadata": {},
   "outputs": [
    {
     "data": {
      "text/html": [
       "<div>\n",
       "<style scoped>\n",
       "    .dataframe tbody tr th:only-of-type {\n",
       "        vertical-align: middle;\n",
       "    }\n",
       "\n",
       "    .dataframe tbody tr th {\n",
       "        vertical-align: top;\n",
       "    }\n",
       "\n",
       "    .dataframe thead th {\n",
       "        text-align: right;\n",
       "    }\n",
       "</style>\n",
       "<table border=\"1\" class=\"dataframe\">\n",
       "  <thead>\n",
       "    <tr style=\"text-align: right;\">\n",
       "      <th></th>\n",
       "      <th>user_id</th>\n",
       "      <th>distance</th>\n",
       "      <th>duration</th>\n",
       "      <th>date</th>\n",
       "      <th>month</th>\n",
       "      <th>distance_km</th>\n",
       "    </tr>\n",
       "  </thead>\n",
       "  <tbody>\n",
       "    <tr>\n",
       "      <th>0</th>\n",
       "      <td>1</td>\n",
       "      <td>4409.919140</td>\n",
       "      <td>25.599769</td>\n",
       "      <td>2021-01-01</td>\n",
       "      <td>1</td>\n",
       "      <td>4.41</td>\n",
       "    </tr>\n",
       "    <tr>\n",
       "      <th>1</th>\n",
       "      <td>1</td>\n",
       "      <td>2617.592153</td>\n",
       "      <td>15.816871</td>\n",
       "      <td>2021-01-18</td>\n",
       "      <td>1</td>\n",
       "      <td>2.62</td>\n",
       "    </tr>\n",
       "    <tr>\n",
       "      <th>2</th>\n",
       "      <td>1</td>\n",
       "      <td>754.159807</td>\n",
       "      <td>6.232113</td>\n",
       "      <td>2021-04-20</td>\n",
       "      <td>4</td>\n",
       "      <td>0.75</td>\n",
       "    </tr>\n",
       "    <tr>\n",
       "      <th>3</th>\n",
       "      <td>1</td>\n",
       "      <td>2694.783254</td>\n",
       "      <td>18.511000</td>\n",
       "      <td>2021-08-11</td>\n",
       "      <td>8</td>\n",
       "      <td>2.69</td>\n",
       "    </tr>\n",
       "    <tr>\n",
       "      <th>4</th>\n",
       "      <td>1</td>\n",
       "      <td>4028.687306</td>\n",
       "      <td>26.265803</td>\n",
       "      <td>2021-08-28</td>\n",
       "      <td>8</td>\n",
       "      <td>4.03</td>\n",
       "    </tr>\n",
       "    <tr>\n",
       "      <th>5</th>\n",
       "      <td>1</td>\n",
       "      <td>2770.890808</td>\n",
       "      <td>16.650138</td>\n",
       "      <td>2021-10-09</td>\n",
       "      <td>10</td>\n",
       "      <td>2.77</td>\n",
       "    </tr>\n",
       "    <tr>\n",
       "      <th>6</th>\n",
       "      <td>1</td>\n",
       "      <td>3039.020292</td>\n",
       "      <td>14.927879</td>\n",
       "      <td>2021-10-19</td>\n",
       "      <td>10</td>\n",
       "      <td>3.04</td>\n",
       "    </tr>\n",
       "    <tr>\n",
       "      <th>7</th>\n",
       "      <td>1</td>\n",
       "      <td>2842.118050</td>\n",
       "      <td>23.117468</td>\n",
       "      <td>2021-11-06</td>\n",
       "      <td>11</td>\n",
       "      <td>2.84</td>\n",
       "    </tr>\n",
       "    <tr>\n",
       "      <th>8</th>\n",
       "      <td>1</td>\n",
       "      <td>3412.690668</td>\n",
       "      <td>15.238072</td>\n",
       "      <td>2021-11-14</td>\n",
       "      <td>11</td>\n",
       "      <td>3.41</td>\n",
       "    </tr>\n",
       "    <tr>\n",
       "      <th>9</th>\n",
       "      <td>1</td>\n",
       "      <td>748.690645</td>\n",
       "      <td>15.041884</td>\n",
       "      <td>2021-11-22</td>\n",
       "      <td>11</td>\n",
       "      <td>0.75</td>\n",
       "    </tr>\n",
       "  </tbody>\n",
       "</table>\n",
       "</div>"
      ],
      "text/plain": [
       "   user_id     distance   duration       date  month  distance_km\n",
       "0        1  4409.919140  25.599769 2021-01-01      1         4.41\n",
       "1        1  2617.592153  15.816871 2021-01-18      1         2.62\n",
       "2        1   754.159807   6.232113 2021-04-20      4         0.75\n",
       "3        1  2694.783254  18.511000 2021-08-11      8         2.69\n",
       "4        1  4028.687306  26.265803 2021-08-28      8         4.03\n",
       "5        1  2770.890808  16.650138 2021-10-09     10         2.77\n",
       "6        1  3039.020292  14.927879 2021-10-19     10         3.04\n",
       "7        1  2842.118050  23.117468 2021-11-06     11         2.84\n",
       "8        1  3412.690668  15.238072 2021-11-14     11         3.41\n",
       "9        1   748.690645  15.041884 2021-11-22     11         0.75"
      ]
     },
     "execution_count": 45,
     "metadata": {},
     "output_type": "execute_result"
    }
   ],
   "source": [
    "#Посмотрим на полученный датафрейм\n",
    "rides.head(10)"
   ]
  },
  {
   "cell_type": "code",
   "execution_count": 46,
   "id": "184f30de",
   "metadata": {},
   "outputs": [
    {
     "data": {
      "image/png": "[encoded data removed]",
      "text/plain": [
       "<Figure size 720x432 with 1 Axes>"
      ]
     },
     "metadata": {
      "needs_background": "light"
     },
     "output_type": "display_data"
    }
   ],
   "source": [
    "#Построим гистограмму по расстоянию, которое пользователь преодолел за одну поездку\n",
    "plt.figure(figsize=(10, 6))\n",
    "rides['distance_km'].hist(bins=30, color='darkblue', edgecolor='black')\n",
    "\n",
    "# Добавим подписи осей и заголовка\n",
    "plt.xlabel('Расстояние в км')\n",
    "plt.ylabel('Количество пользователей')\n",
    "plt.title('Распределение пользователей по расстоянию')\n",
    "\n",
    "plt.show()"
   ]
  },
  {
   "cell_type": "code",
   "execution_count": 47,
   "id": "42410188",
   "metadata": {},
   "outputs": [
    {
     "data": {
      "text/plain": [
       "count    18068.000000\n",
       "mean         3.070649\n",
       "std          1.116847\n",
       "min          0.000000\n",
       "25%          2.540000\n",
       "50%          3.130000\n",
       "75%          3.780000\n",
       "max          7.210000\n",
       "Name: distance_km, dtype: float64"
      ]
     },
     "execution_count": 47,
     "metadata": {},
     "output_type": "execute_result"
    }
   ],
   "source": [
    "rides['distance_km'].describe()"
   ]
  },
  {
   "cell_type": "markdown",
   "id": "a428124d",
   "metadata": {},
   "source": [
    "Судя по полученным данным, 2-3 км - среднее расстояние, которое преодолевает пользователь. Пользователи редко преодолевают более 6 км. Что касается двух пиков на гистограмме (0.6 и 3 км), это может свидетельствовать о наличии двух различных групп пользователей с характерными для них расстояниями поездок. Второй, меньший пик в более низком диапазоне может указывать на отдельную группу пользователей, которые часто совершают более короткие поездки, возможно, для краткосрочных перемещений в пределах одного района или для частых коротких поездок."
   ]
  },
  {
   "cell_type": "markdown",
   "id": "a3133e5e",
   "metadata": {},
   "source": [
    "### Продолжительность поездок"
   ]
  },
  {
   "cell_type": "code",
   "execution_count": 48,
   "id": "e42400a2",
   "metadata": {},
   "outputs": [],
   "source": [
    "#окгруглим столбец до 2 знаков после запятой\n",
    "rides['duration'] = rides['duration'].round(2)"
   ]
  },
  {
   "cell_type": "code",
   "execution_count": 49,
   "id": "e173b76a",
   "metadata": {},
   "outputs": [
    {
     "data": {
      "text/html": [
       "<div>\n",
       "<style scoped>\n",
       "    .dataframe tbody tr th:only-of-type {\n",
       "        vertical-align: middle;\n",
       "    }\n",
       "\n",
       "    .dataframe tbody tr th {\n",
       "        vertical-align: top;\n",
       "    }\n",
       "\n",
       "    .dataframe thead th {\n",
       "        text-align: right;\n",
       "    }\n",
       "</style>\n",
       "<table border=\"1\" class=\"dataframe\">\n",
       "  <thead>\n",
       "    <tr style=\"text-align: right;\">\n",
       "      <th></th>\n",
       "      <th>user_id</th>\n",
       "      <th>distance</th>\n",
       "      <th>duration</th>\n",
       "      <th>date</th>\n",
       "      <th>month</th>\n",
       "      <th>distance_km</th>\n",
       "    </tr>\n",
       "  </thead>\n",
       "  <tbody>\n",
       "    <tr>\n",
       "      <th>0</th>\n",
       "      <td>1</td>\n",
       "      <td>4409.919140</td>\n",
       "      <td>25.60</td>\n",
       "      <td>2021-01-01</td>\n",
       "      <td>1</td>\n",
       "      <td>4.41</td>\n",
       "    </tr>\n",
       "    <tr>\n",
       "      <th>1</th>\n",
       "      <td>1</td>\n",
       "      <td>2617.592153</td>\n",
       "      <td>15.82</td>\n",
       "      <td>2021-01-18</td>\n",
       "      <td>1</td>\n",
       "      <td>2.62</td>\n",
       "    </tr>\n",
       "    <tr>\n",
       "      <th>2</th>\n",
       "      <td>1</td>\n",
       "      <td>754.159807</td>\n",
       "      <td>6.23</td>\n",
       "      <td>2021-04-20</td>\n",
       "      <td>4</td>\n",
       "      <td>0.75</td>\n",
       "    </tr>\n",
       "    <tr>\n",
       "      <th>3</th>\n",
       "      <td>1</td>\n",
       "      <td>2694.783254</td>\n",
       "      <td>18.51</td>\n",
       "      <td>2021-08-11</td>\n",
       "      <td>8</td>\n",
       "      <td>2.69</td>\n",
       "    </tr>\n",
       "    <tr>\n",
       "      <th>4</th>\n",
       "      <td>1</td>\n",
       "      <td>4028.687306</td>\n",
       "      <td>26.27</td>\n",
       "      <td>2021-08-28</td>\n",
       "      <td>8</td>\n",
       "      <td>4.03</td>\n",
       "    </tr>\n",
       "    <tr>\n",
       "      <th>5</th>\n",
       "      <td>1</td>\n",
       "      <td>2770.890808</td>\n",
       "      <td>16.65</td>\n",
       "      <td>2021-10-09</td>\n",
       "      <td>10</td>\n",
       "      <td>2.77</td>\n",
       "    </tr>\n",
       "    <tr>\n",
       "      <th>6</th>\n",
       "      <td>1</td>\n",
       "      <td>3039.020292</td>\n",
       "      <td>14.93</td>\n",
       "      <td>2021-10-19</td>\n",
       "      <td>10</td>\n",
       "      <td>3.04</td>\n",
       "    </tr>\n",
       "    <tr>\n",
       "      <th>7</th>\n",
       "      <td>1</td>\n",
       "      <td>2842.118050</td>\n",
       "      <td>23.12</td>\n",
       "      <td>2021-11-06</td>\n",
       "      <td>11</td>\n",
       "      <td>2.84</td>\n",
       "    </tr>\n",
       "    <tr>\n",
       "      <th>8</th>\n",
       "      <td>1</td>\n",
       "      <td>3412.690668</td>\n",
       "      <td>15.24</td>\n",
       "      <td>2021-11-14</td>\n",
       "      <td>11</td>\n",
       "      <td>3.41</td>\n",
       "    </tr>\n",
       "    <tr>\n",
       "      <th>9</th>\n",
       "      <td>1</td>\n",
       "      <td>748.690645</td>\n",
       "      <td>15.04</td>\n",
       "      <td>2021-11-22</td>\n",
       "      <td>11</td>\n",
       "      <td>0.75</td>\n",
       "    </tr>\n",
       "  </tbody>\n",
       "</table>\n",
       "</div>"
      ],
      "text/plain": [
       "   user_id     distance  duration       date  month  distance_km\n",
       "0        1  4409.919140     25.60 2021-01-01      1         4.41\n",
       "1        1  2617.592153     15.82 2021-01-18      1         2.62\n",
       "2        1   754.159807      6.23 2021-04-20      4         0.75\n",
       "3        1  2694.783254     18.51 2021-08-11      8         2.69\n",
       "4        1  4028.687306     26.27 2021-08-28      8         4.03\n",
       "5        1  2770.890808     16.65 2021-10-09     10         2.77\n",
       "6        1  3039.020292     14.93 2021-10-19     10         3.04\n",
       "7        1  2842.118050     23.12 2021-11-06     11         2.84\n",
       "8        1  3412.690668     15.24 2021-11-14     11         3.41\n",
       "9        1   748.690645     15.04 2021-11-22     11         0.75"
      ]
     },
     "execution_count": 49,
     "metadata": {},
     "output_type": "execute_result"
    }
   ],
   "source": [
    "#Посмотрим на полученный датафрейм\n",
    "rides.head(10)"
   ]
  },
  {
   "cell_type": "code",
   "execution_count": 50,
   "id": "3a77d79d",
   "metadata": {},
   "outputs": [
    {
     "data": {
      "image/png": "[encoded data removed]",
      "text/plain": [
       "<Figure size 720x432 with 1 Axes>"
      ]
     },
     "metadata": {
      "needs_background": "light"
     },
     "output_type": "display_data"
    }
   ],
   "source": [
    "#Построим гистограмму по продолжительности поездок:\n",
    "plt.figure(figsize=(10, 6))\n",
    "rides['duration'].hist(bins=30, color='darkblue', edgecolor='black')\n",
    "\n",
    "# Добавим подписи осей и заголовка\n",
    "plt.xlabel('Продолжительность поездки, мин')\n",
    "plt.ylabel('Количество пользователей')\n",
    "plt.title('Распределение пользователей по продолжительности поездки')\n",
    "\n",
    "plt.show()\n",
    "#Построим гистограмму"
   ]
  },
  {
   "cell_type": "code",
   "execution_count": 51,
   "id": "b5f005f2",
   "metadata": {},
   "outputs": [
    {
     "data": {
      "text/plain": [
       "count    18068.000000\n",
       "mean        17.805017\n",
       "std          6.091071\n",
       "min          0.500000\n",
       "25%         13.600000\n",
       "50%         17.680000\n",
       "75%         21.722500\n",
       "max         40.820000\n",
       "Name: duration, dtype: float64"
      ]
     },
     "execution_count": 51,
     "metadata": {},
     "output_type": "execute_result"
    }
   ],
   "source": [
    "rides['duration'].describe()"
   ]
  },
  {
   "cell_type": "markdown",
   "id": "8452105b",
   "metadata": {},
   "source": [
    "Судя по полученным данным, в среднем поездка длится 17 минут и очень редко более 35 минут. Это может свидетельствовать о том, что пользователи склонны использовать самокаты для коротких перемещений в пределах города или на небольшие расстояния."
   ]
  },
  {
   "cell_type": "code",
   "execution_count": 52,
   "id": "3e9bfa63",
   "metadata": {},
   "outputs": [
    {
     "data": {
      "text/html": [
       "<div>\n",
       "<style scoped>\n",
       "    .dataframe tbody tr th:only-of-type {\n",
       "        vertical-align: middle;\n",
       "    }\n",
       "\n",
       "    .dataframe tbody tr th {\n",
       "        vertical-align: top;\n",
       "    }\n",
       "\n",
       "    .dataframe thead th {\n",
       "        text-align: right;\n",
       "    }\n",
       "</style>\n",
       "<table border=\"1\" class=\"dataframe\">\n",
       "  <thead>\n",
       "    <tr style=\"text-align: right;\">\n",
       "      <th></th>\n",
       "      <th>user_id</th>\n",
       "      <th>distance</th>\n",
       "      <th>duration</th>\n",
       "      <th>date</th>\n",
       "      <th>month</th>\n",
       "      <th>distance_km</th>\n",
       "    </tr>\n",
       "  </thead>\n",
       "  <tbody>\n",
       "    <tr>\n",
       "      <th>6531</th>\n",
       "      <td>701</td>\n",
       "      <td>4196.445201</td>\n",
       "      <td>0.5</td>\n",
       "      <td>2021-08-31</td>\n",
       "      <td>8</td>\n",
       "      <td>4.20</td>\n",
       "    </tr>\n",
       "    <tr>\n",
       "      <th>6570</th>\n",
       "      <td>704</td>\n",
       "      <td>4830.824371</td>\n",
       "      <td>0.5</td>\n",
       "      <td>2021-10-14</td>\n",
       "      <td>10</td>\n",
       "      <td>4.83</td>\n",
       "    </tr>\n",
       "    <tr>\n",
       "      <th>6680</th>\n",
       "      <td>712</td>\n",
       "      <td>4684.004397</td>\n",
       "      <td>0.5</td>\n",
       "      <td>2021-03-04</td>\n",
       "      <td>3</td>\n",
       "      <td>4.68</td>\n",
       "    </tr>\n",
       "    <tr>\n",
       "      <th>6695</th>\n",
       "      <td>713</td>\n",
       "      <td>5215.642710</td>\n",
       "      <td>0.5</td>\n",
       "      <td>2021-02-25</td>\n",
       "      <td>2</td>\n",
       "      <td>5.22</td>\n",
       "    </tr>\n",
       "    <tr>\n",
       "      <th>6768</th>\n",
       "      <td>718</td>\n",
       "      <td>5197.436649</td>\n",
       "      <td>0.5</td>\n",
       "      <td>2021-02-11</td>\n",
       "      <td>2</td>\n",
       "      <td>5.20</td>\n",
       "    </tr>\n",
       "    <tr>\n",
       "      <th>...</th>\n",
       "      <td>...</td>\n",
       "      <td>...</td>\n",
       "      <td>...</td>\n",
       "      <td>...</td>\n",
       "      <td>...</td>\n",
       "      <td>...</td>\n",
       "    </tr>\n",
       "    <tr>\n",
       "      <th>17004</th>\n",
       "      <td>1460</td>\n",
       "      <td>5531.335845</td>\n",
       "      <td>0.5</td>\n",
       "      <td>2021-01-19</td>\n",
       "      <td>1</td>\n",
       "      <td>5.53</td>\n",
       "    </tr>\n",
       "    <tr>\n",
       "      <th>17242</th>\n",
       "      <td>1477</td>\n",
       "      <td>6724.932981</td>\n",
       "      <td>0.5</td>\n",
       "      <td>2021-01-12</td>\n",
       "      <td>1</td>\n",
       "      <td>6.72</td>\n",
       "    </tr>\n",
       "    <tr>\n",
       "      <th>17314</th>\n",
       "      <td>1483</td>\n",
       "      <td>4445.481070</td>\n",
       "      <td>0.5</td>\n",
       "      <td>2021-03-06</td>\n",
       "      <td>3</td>\n",
       "      <td>4.45</td>\n",
       "    </tr>\n",
       "    <tr>\n",
       "      <th>17505</th>\n",
       "      <td>1496</td>\n",
       "      <td>5722.551787</td>\n",
       "      <td>0.5</td>\n",
       "      <td>2021-02-14</td>\n",
       "      <td>2</td>\n",
       "      <td>5.72</td>\n",
       "    </tr>\n",
       "    <tr>\n",
       "      <th>17909</th>\n",
       "      <td>1524</td>\n",
       "      <td>4103.998874</td>\n",
       "      <td>0.5</td>\n",
       "      <td>2021-06-18</td>\n",
       "      <td>6</td>\n",
       "      <td>4.10</td>\n",
       "    </tr>\n",
       "  </tbody>\n",
       "</table>\n",
       "<p>95 rows × 6 columns</p>\n",
       "</div>"
      ],
      "text/plain": [
       "       user_id     distance  duration       date  month  distance_km\n",
       "6531       701  4196.445201       0.5 2021-08-31      8         4.20\n",
       "6570       704  4830.824371       0.5 2021-10-14     10         4.83\n",
       "6680       712  4684.004397       0.5 2021-03-04      3         4.68\n",
       "6695       713  5215.642710       0.5 2021-02-25      2         5.22\n",
       "6768       718  5197.436649       0.5 2021-02-11      2         5.20\n",
       "...        ...          ...       ...        ...    ...          ...\n",
       "17004     1460  5531.335845       0.5 2021-01-19      1         5.53\n",
       "17242     1477  6724.932981       0.5 2021-01-12      1         6.72\n",
       "17314     1483  4445.481070       0.5 2021-03-06      3         4.45\n",
       "17505     1496  5722.551787       0.5 2021-02-14      2         5.72\n",
       "17909     1524  4103.998874       0.5 2021-06-18      6         4.10\n",
       "\n",
       "[95 rows x 6 columns]"
      ]
     },
     "execution_count": 52,
     "metadata": {},
     "output_type": "execute_result"
    }
   ],
   "source": [
    "# Посмотрим на наличие поездок, которые длились меньше минуты\n",
    "rides.query('duration<1')"
   ]
  },
  {
   "cell_type": "markdown",
   "id": "ad6b9fb7",
   "metadata": {},
   "source": [
    "Таких данных с поезками менее минуты оказалось 95. Поездки с длительностью менее 1 минуты, как видно из наших данных, действительно кажутся аномалиями или, возможно, ошибками в данных. Обычно такие короткие поездки не имеют смысла, так как даже небольшая поездка требует определенного времени на начало и завершение. Поэтому такие даные удалим"
   ]
  },
  {
   "cell_type": "code",
   "execution_count": 53,
   "id": "e0c8a8a0",
   "metadata": {},
   "outputs": [],
   "source": [
    "rides = rides.query('duration >= 1')"
   ]
  },
  {
   "cell_type": "code",
   "execution_count": 54,
   "id": "4d369cf3",
   "metadata": {},
   "outputs": [
    {
     "data": {
      "image/png": "[encoded data removed]",
      "text/plain": [
       "<Figure size 720x432 with 1 Axes>"
      ]
     },
     "metadata": {
      "needs_background": "light"
     },
     "output_type": "display_data"
    }
   ],
   "source": [
    "#Построим обновленную гистограмму по продолжительности поездок:\n",
    "plt.figure(figsize=(10, 6))\n",
    "rides['duration'].hist(bins=30, color='darkblue', edgecolor='black')\n",
    "\n",
    "# Добавим подписи осей и заголовка\n",
    "plt.xlabel('Продолжительность поездки, мин')\n",
    "plt.ylabel('Количество пользователей')\n",
    "plt.title('Распределение пользователей по продолжительности поездки')\n",
    "\n",
    "plt.show()\n",
    "#Построим гистограмму"
   ]
  },
  {
   "cell_type": "markdown",
   "id": "aab99197",
   "metadata": {},
   "source": [
    "### Вывод: \n",
    "При анализе данных GoFast выделены топовые города-пользователи, где Пятигорск, Екатеринбург и Ростов-на-Дону, занимающие лидирующие позиции. Однако разница между лидерами и аутсайдером (Москвой) невелика, всего 54 человека.\n",
    "Относительно подписок, более половины пользователей (54.06%) не используют абонентскую подписку, предпочитая оплату за каждую поездку. В то время как подписка \"ultra\" выбрана 45.94% пользователей, предоставляя привилегии, такие как бесплатный старт и сниженная стоимость за минуту.\n",
    "Средний возраст пользователя составляет 25 лет, преобладают молодые люди, что может свидетельствовать о спросе на удобные транспортные средства среди студентов и молодых работников. Данные также указывают на среднюю длительность поездки в 15-20 минут, что свидетельствует о их использовании для коротких перемещений внутри города."
   ]
  },
  {
   "cell_type": "markdown",
   "id": "4ef51331",
   "metadata": {},
   "source": [
    "## Объединение данных"
   ]
  },
  {
   "cell_type": "markdown",
   "id": "663f4f42",
   "metadata": {},
   "source": [
    "###  Объединение данных о пользователях, поездках и подписках в один датафрейм. "
   ]
  },
  {
   "cell_type": "code",
   "execution_count": 55,
   "id": "69912506",
   "metadata": {},
   "outputs": [],
   "source": [
    "# Объединение данных о пользователях и поездках по user_id\n",
    "merged2_data = pd.merge(rides, users, on='user_id', how='left')"
   ]
  },
  {
   "cell_type": "code",
   "execution_count": 56,
   "id": "cdb95355",
   "metadata": {},
   "outputs": [],
   "source": [
    "# Объединение полученного датафрейма с данными о подписках по subscription_type\n",
    "final_data = pd.merge(merged2_data, subscriptions, on='subscription_type', how='left')"
   ]
  },
  {
   "cell_type": "code",
   "execution_count": 57,
   "id": "db2b1427",
   "metadata": {
    "scrolled": true
   },
   "outputs": [
    {
     "data": {
      "text/html": [
       "<div>\n",
       "<style scoped>\n",
       "    .dataframe tbody tr th:only-of-type {\n",
       "        vertical-align: middle;\n",
       "    }\n",
       "\n",
       "    .dataframe tbody tr th {\n",
       "        vertical-align: top;\n",
       "    }\n",
       "\n",
       "    .dataframe thead th {\n",
       "        text-align: right;\n",
       "    }\n",
       "</style>\n",
       "<table border=\"1\" class=\"dataframe\">\n",
       "  <thead>\n",
       "    <tr style=\"text-align: right;\">\n",
       "      <th></th>\n",
       "      <th>user_id</th>\n",
       "      <th>distance</th>\n",
       "      <th>duration</th>\n",
       "      <th>date</th>\n",
       "      <th>month</th>\n",
       "      <th>distance_km</th>\n",
       "      <th>index</th>\n",
       "      <th>name</th>\n",
       "      <th>age</th>\n",
       "      <th>city</th>\n",
       "      <th>subscription_type</th>\n",
       "      <th>minute_price</th>\n",
       "      <th>start_ride_price</th>\n",
       "      <th>subscription_fee</th>\n",
       "    </tr>\n",
       "  </thead>\n",
       "  <tbody>\n",
       "    <tr>\n",
       "      <th>0</th>\n",
       "      <td>1</td>\n",
       "      <td>4409.919140</td>\n",
       "      <td>25.60</td>\n",
       "      <td>2021-01-01</td>\n",
       "      <td>1</td>\n",
       "      <td>4.41</td>\n",
       "      <td>0</td>\n",
       "      <td>Кира</td>\n",
       "      <td>22</td>\n",
       "      <td>Тюмень</td>\n",
       "      <td>ultra</td>\n",
       "      <td>6</td>\n",
       "      <td>0</td>\n",
       "      <td>199</td>\n",
       "    </tr>\n",
       "    <tr>\n",
       "      <th>1</th>\n",
       "      <td>1</td>\n",
       "      <td>2617.592153</td>\n",
       "      <td>15.82</td>\n",
       "      <td>2021-01-18</td>\n",
       "      <td>1</td>\n",
       "      <td>2.62</td>\n",
       "      <td>0</td>\n",
       "      <td>Кира</td>\n",
       "      <td>22</td>\n",
       "      <td>Тюмень</td>\n",
       "      <td>ultra</td>\n",
       "      <td>6</td>\n",
       "      <td>0</td>\n",
       "      <td>199</td>\n",
       "    </tr>\n",
       "    <tr>\n",
       "      <th>2</th>\n",
       "      <td>1</td>\n",
       "      <td>754.159807</td>\n",
       "      <td>6.23</td>\n",
       "      <td>2021-04-20</td>\n",
       "      <td>4</td>\n",
       "      <td>0.75</td>\n",
       "      <td>0</td>\n",
       "      <td>Кира</td>\n",
       "      <td>22</td>\n",
       "      <td>Тюмень</td>\n",
       "      <td>ultra</td>\n",
       "      <td>6</td>\n",
       "      <td>0</td>\n",
       "      <td>199</td>\n",
       "    </tr>\n",
       "    <tr>\n",
       "      <th>3</th>\n",
       "      <td>1</td>\n",
       "      <td>2694.783254</td>\n",
       "      <td>18.51</td>\n",
       "      <td>2021-08-11</td>\n",
       "      <td>8</td>\n",
       "      <td>2.69</td>\n",
       "      <td>0</td>\n",
       "      <td>Кира</td>\n",
       "      <td>22</td>\n",
       "      <td>Тюмень</td>\n",
       "      <td>ultra</td>\n",
       "      <td>6</td>\n",
       "      <td>0</td>\n",
       "      <td>199</td>\n",
       "    </tr>\n",
       "    <tr>\n",
       "      <th>4</th>\n",
       "      <td>1</td>\n",
       "      <td>4028.687306</td>\n",
       "      <td>26.27</td>\n",
       "      <td>2021-08-28</td>\n",
       "      <td>8</td>\n",
       "      <td>4.03</td>\n",
       "      <td>0</td>\n",
       "      <td>Кира</td>\n",
       "      <td>22</td>\n",
       "      <td>Тюмень</td>\n",
       "      <td>ultra</td>\n",
       "      <td>6</td>\n",
       "      <td>0</td>\n",
       "      <td>199</td>\n",
       "    </tr>\n",
       "    <tr>\n",
       "      <th>5</th>\n",
       "      <td>1</td>\n",
       "      <td>2770.890808</td>\n",
       "      <td>16.65</td>\n",
       "      <td>2021-10-09</td>\n",
       "      <td>10</td>\n",
       "      <td>2.77</td>\n",
       "      <td>0</td>\n",
       "      <td>Кира</td>\n",
       "      <td>22</td>\n",
       "      <td>Тюмень</td>\n",
       "      <td>ultra</td>\n",
       "      <td>6</td>\n",
       "      <td>0</td>\n",
       "      <td>199</td>\n",
       "    </tr>\n",
       "    <tr>\n",
       "      <th>6</th>\n",
       "      <td>1</td>\n",
       "      <td>3039.020292</td>\n",
       "      <td>14.93</td>\n",
       "      <td>2021-10-19</td>\n",
       "      <td>10</td>\n",
       "      <td>3.04</td>\n",
       "      <td>0</td>\n",
       "      <td>Кира</td>\n",
       "      <td>22</td>\n",
       "      <td>Тюмень</td>\n",
       "      <td>ultra</td>\n",
       "      <td>6</td>\n",
       "      <td>0</td>\n",
       "      <td>199</td>\n",
       "    </tr>\n",
       "    <tr>\n",
       "      <th>7</th>\n",
       "      <td>1</td>\n",
       "      <td>2842.118050</td>\n",
       "      <td>23.12</td>\n",
       "      <td>2021-11-06</td>\n",
       "      <td>11</td>\n",
       "      <td>2.84</td>\n",
       "      <td>0</td>\n",
       "      <td>Кира</td>\n",
       "      <td>22</td>\n",
       "      <td>Тюмень</td>\n",
       "      <td>ultra</td>\n",
       "      <td>6</td>\n",
       "      <td>0</td>\n",
       "      <td>199</td>\n",
       "    </tr>\n",
       "    <tr>\n",
       "      <th>8</th>\n",
       "      <td>1</td>\n",
       "      <td>3412.690668</td>\n",
       "      <td>15.24</td>\n",
       "      <td>2021-11-14</td>\n",
       "      <td>11</td>\n",
       "      <td>3.41</td>\n",
       "      <td>0</td>\n",
       "      <td>Кира</td>\n",
       "      <td>22</td>\n",
       "      <td>Тюмень</td>\n",
       "      <td>ultra</td>\n",
       "      <td>6</td>\n",
       "      <td>0</td>\n",
       "      <td>199</td>\n",
       "    </tr>\n",
       "    <tr>\n",
       "      <th>9</th>\n",
       "      <td>1</td>\n",
       "      <td>748.690645</td>\n",
       "      <td>15.04</td>\n",
       "      <td>2021-11-22</td>\n",
       "      <td>11</td>\n",
       "      <td>0.75</td>\n",
       "      <td>0</td>\n",
       "      <td>Кира</td>\n",
       "      <td>22</td>\n",
       "      <td>Тюмень</td>\n",
       "      <td>ultra</td>\n",
       "      <td>6</td>\n",
       "      <td>0</td>\n",
       "      <td>199</td>\n",
       "    </tr>\n",
       "    <tr>\n",
       "      <th>10</th>\n",
       "      <td>1</td>\n",
       "      <td>4031.020195</td>\n",
       "      <td>17.67</td>\n",
       "      <td>2021-12-14</td>\n",
       "      <td>12</td>\n",
       "      <td>4.03</td>\n",
       "      <td>0</td>\n",
       "      <td>Кира</td>\n",
       "      <td>22</td>\n",
       "      <td>Тюмень</td>\n",
       "      <td>ultra</td>\n",
       "      <td>6</td>\n",
       "      <td>0</td>\n",
       "      <td>199</td>\n",
       "    </tr>\n",
       "    <tr>\n",
       "      <th>11</th>\n",
       "      <td>1</td>\n",
       "      <td>2720.609748</td>\n",
       "      <td>9.53</td>\n",
       "      <td>2021-12-22</td>\n",
       "      <td>12</td>\n",
       "      <td>2.72</td>\n",
       "      <td>0</td>\n",
       "      <td>Кира</td>\n",
       "      <td>22</td>\n",
       "      <td>Тюмень</td>\n",
       "      <td>ultra</td>\n",
       "      <td>6</td>\n",
       "      <td>0</td>\n",
       "      <td>199</td>\n",
       "    </tr>\n",
       "    <tr>\n",
       "      <th>12</th>\n",
       "      <td>2</td>\n",
       "      <td>3105.086678</td>\n",
       "      <td>24.31</td>\n",
       "      <td>2021-03-15</td>\n",
       "      <td>3</td>\n",
       "      <td>3.11</td>\n",
       "      <td>1</td>\n",
       "      <td>Станислав</td>\n",
       "      <td>31</td>\n",
       "      <td>Омск</td>\n",
       "      <td>ultra</td>\n",
       "      <td>6</td>\n",
       "      <td>0</td>\n",
       "      <td>199</td>\n",
       "    </tr>\n",
       "    <tr>\n",
       "      <th>13</th>\n",
       "      <td>2</td>\n",
       "      <td>3053.519401</td>\n",
       "      <td>11.54</td>\n",
       "      <td>2021-03-18</td>\n",
       "      <td>3</td>\n",
       "      <td>3.05</td>\n",
       "      <td>1</td>\n",
       "      <td>Станислав</td>\n",
       "      <td>31</td>\n",
       "      <td>Омск</td>\n",
       "      <td>ultra</td>\n",
       "      <td>6</td>\n",
       "      <td>0</td>\n",
       "      <td>199</td>\n",
       "    </tr>\n",
       "    <tr>\n",
       "      <th>14</th>\n",
       "      <td>2</td>\n",
       "      <td>4029.116927</td>\n",
       "      <td>25.11</td>\n",
       "      <td>2021-03-23</td>\n",
       "      <td>3</td>\n",
       "      <td>4.03</td>\n",
       "      <td>1</td>\n",
       "      <td>Станислав</td>\n",
       "      <td>31</td>\n",
       "      <td>Омск</td>\n",
       "      <td>ultra</td>\n",
       "      <td>6</td>\n",
       "      <td>0</td>\n",
       "      <td>199</td>\n",
       "    </tr>\n",
       "  </tbody>\n",
       "</table>\n",
       "</div>"
      ],
      "text/plain": [
       "    user_id     distance  duration       date  month  distance_km  index  \\\n",
       "0         1  4409.919140     25.60 2021-01-01      1         4.41      0   \n",
       "1         1  2617.592153     15.82 2021-01-18      1         2.62      0   \n",
       "2         1   754.159807      6.23 2021-04-20      4         0.75      0   \n",
       "3         1  2694.783254     18.51 2021-08-11      8         2.69      0   \n",
       "4         1  4028.687306     26.27 2021-08-28      8         4.03      0   \n",
       "5         1  2770.890808     16.65 2021-10-09     10         2.77      0   \n",
       "6         1  3039.020292     14.93 2021-10-19     10         3.04      0   \n",
       "7         1  2842.118050     23.12 2021-11-06     11         2.84      0   \n",
       "8         1  3412.690668     15.24 2021-11-14     11         3.41      0   \n",
       "9         1   748.690645     15.04 2021-11-22     11         0.75      0   \n",
       "10        1  4031.020195     17.67 2021-12-14     12         4.03      0   \n",
       "11        1  2720.609748      9.53 2021-12-22     12         2.72      0   \n",
       "12        2  3105.086678     24.31 2021-03-15      3         3.11      1   \n",
       "13        2  3053.519401     11.54 2021-03-18      3         3.05      1   \n",
       "14        2  4029.116927     25.11 2021-03-23      3         4.03      1   \n",
       "\n",
       "         name  age    city subscription_type  minute_price  start_ride_price  \\\n",
       "0        Кира   22  Тюмень             ultra             6                 0   \n",
       "1        Кира   22  Тюмень             ultra             6                 0   \n",
       "2        Кира   22  Тюмень             ultra             6                 0   \n",
       "3        Кира   22  Тюмень             ultra             6                 0   \n",
       "4        Кира   22  Тюмень             ultra             6                 0   \n",
       "5        Кира   22  Тюмень             ultra             6                 0   \n",
       "6        Кира   22  Тюмень             ultra             6                 0   \n",
       "7        Кира   22  Тюмень             ultra             6                 0   \n",
       "8        Кира   22  Тюмень             ultra             6                 0   \n",
       "9        Кира   22  Тюмень             ultra             6                 0   \n",
       "10       Кира   22  Тюмень             ultra             6                 0   \n",
       "11       Кира   22  Тюмень             ultra             6                 0   \n",
       "12  Станислав   31    Омск             ultra             6                 0   \n",
       "13  Станислав   31    Омск             ultra             6                 0   \n",
       "14  Станислав   31    Омск             ultra             6                 0   \n",
       "\n",
       "    subscription_fee  \n",
       "0                199  \n",
       "1                199  \n",
       "2                199  \n",
       "3                199  \n",
       "4                199  \n",
       "5                199  \n",
       "6                199  \n",
       "7                199  \n",
       "8                199  \n",
       "9                199  \n",
       "10               199  \n",
       "11               199  \n",
       "12               199  \n",
       "13               199  \n",
       "14               199  "
      ]
     },
     "execution_count": 57,
     "metadata": {},
     "output_type": "execute_result"
    }
   ],
   "source": [
    "#Посмотрим на полученный датафрейм\n",
    "final_data.head(15)"
   ]
  },
  {
   "cell_type": "code",
   "execution_count": 58,
   "id": "9a49c3f0",
   "metadata": {},
   "outputs": [
    {
     "name": "stdout",
     "output_type": "stream",
     "text": [
      "<class 'pandas.core.frame.DataFrame'>\n",
      "Int64Index: 17973 entries, 0 to 17972\n",
      "Data columns (total 14 columns):\n",
      " #   Column             Non-Null Count  Dtype         \n",
      "---  ------             --------------  -----         \n",
      " 0   user_id            17973 non-null  int64         \n",
      " 1   distance           17973 non-null  float64       \n",
      " 2   duration           17973 non-null  float64       \n",
      " 3   date               17973 non-null  datetime64[ns]\n",
      " 4   month              17973 non-null  int64         \n",
      " 5   distance_km        17973 non-null  float64       \n",
      " 6   index              17973 non-null  int64         \n",
      " 7   name               17973 non-null  object        \n",
      " 8   age                17973 non-null  int64         \n",
      " 9   city               17973 non-null  object        \n",
      " 10  subscription_type  17973 non-null  object        \n",
      " 11  minute_price       17973 non-null  int64         \n",
      " 12  start_ride_price   17973 non-null  int64         \n",
      " 13  subscription_fee   17973 non-null  int64         \n",
      "dtypes: datetime64[ns](1), float64(3), int64(7), object(3)\n",
      "memory usage: 2.1+ MB\n"
     ]
    }
   ],
   "source": [
    "#Посмотрим на информацию об объединенном датафрейме\n",
    "final_data.info()"
   ]
  },
  {
   "cell_type": "markdown",
   "id": "079b1893",
   "metadata": {},
   "source": [
    "Судя по всему, все в порядке"
   ]
  },
  {
   "cell_type": "markdown",
   "id": "57e77344",
   "metadata": {},
   "source": [
    "###  Создание датафреймов c данными о пользователях без подписки и с данными о пользователях с подпиской"
   ]
  },
  {
   "cell_type": "code",
   "execution_count": 59,
   "id": "b653d2fd",
   "metadata": {},
   "outputs": [],
   "source": [
    "# Создание датафрейма с данными о пользователях без подписки\n",
    "users_without_subscription = final_data[final_data['subscription_type'] == 'free'].copy()"
   ]
  },
  {
   "cell_type": "code",
   "execution_count": 60,
   "id": "2682a3b9",
   "metadata": {},
   "outputs": [
    {
     "data": {
      "text/html": [
       "<div>\n",
       "<style scoped>\n",
       "    .dataframe tbody tr th:only-of-type {\n",
       "        vertical-align: middle;\n",
       "    }\n",
       "\n",
       "    .dataframe tbody tr th {\n",
       "        vertical-align: top;\n",
       "    }\n",
       "\n",
       "    .dataframe thead th {\n",
       "        text-align: right;\n",
       "    }\n",
       "</style>\n",
       "<table border=\"1\" class=\"dataframe\">\n",
       "  <thead>\n",
       "    <tr style=\"text-align: right;\">\n",
       "      <th></th>\n",
       "      <th>user_id</th>\n",
       "      <th>distance</th>\n",
       "      <th>duration</th>\n",
       "      <th>date</th>\n",
       "      <th>month</th>\n",
       "      <th>distance_km</th>\n",
       "      <th>index</th>\n",
       "      <th>name</th>\n",
       "      <th>age</th>\n",
       "      <th>city</th>\n",
       "      <th>subscription_type</th>\n",
       "      <th>minute_price</th>\n",
       "      <th>start_ride_price</th>\n",
       "      <th>subscription_fee</th>\n",
       "    </tr>\n",
       "  </thead>\n",
       "  <tbody>\n",
       "    <tr>\n",
       "      <th>6500</th>\n",
       "      <td>700</td>\n",
       "      <td>2515.690719</td>\n",
       "      <td>14.94</td>\n",
       "      <td>2021-01-02</td>\n",
       "      <td>1</td>\n",
       "      <td>2.52</td>\n",
       "      <td>699</td>\n",
       "      <td>Айдар</td>\n",
       "      <td>22</td>\n",
       "      <td>Омск</td>\n",
       "      <td>free</td>\n",
       "      <td>8</td>\n",
       "      <td>50</td>\n",
       "      <td>0</td>\n",
       "    </tr>\n",
       "    <tr>\n",
       "      <th>6501</th>\n",
       "      <td>700</td>\n",
       "      <td>846.932642</td>\n",
       "      <td>16.23</td>\n",
       "      <td>2021-02-01</td>\n",
       "      <td>2</td>\n",
       "      <td>0.85</td>\n",
       "      <td>699</td>\n",
       "      <td>Айдар</td>\n",
       "      <td>22</td>\n",
       "      <td>Омск</td>\n",
       "      <td>free</td>\n",
       "      <td>8</td>\n",
       "      <td>50</td>\n",
       "      <td>0</td>\n",
       "    </tr>\n",
       "    <tr>\n",
       "      <th>6502</th>\n",
       "      <td>700</td>\n",
       "      <td>4004.434142</td>\n",
       "      <td>20.02</td>\n",
       "      <td>2021-02-04</td>\n",
       "      <td>2</td>\n",
       "      <td>4.00</td>\n",
       "      <td>699</td>\n",
       "      <td>Айдар</td>\n",
       "      <td>22</td>\n",
       "      <td>Омск</td>\n",
       "      <td>free</td>\n",
       "      <td>8</td>\n",
       "      <td>50</td>\n",
       "      <td>0</td>\n",
       "    </tr>\n",
       "    <tr>\n",
       "      <th>6503</th>\n",
       "      <td>700</td>\n",
       "      <td>1205.911290</td>\n",
       "      <td>9.78</td>\n",
       "      <td>2021-02-10</td>\n",
       "      <td>2</td>\n",
       "      <td>1.21</td>\n",
       "      <td>699</td>\n",
       "      <td>Айдар</td>\n",
       "      <td>22</td>\n",
       "      <td>Омск</td>\n",
       "      <td>free</td>\n",
       "      <td>8</td>\n",
       "      <td>50</td>\n",
       "      <td>0</td>\n",
       "    </tr>\n",
       "    <tr>\n",
       "      <th>6504</th>\n",
       "      <td>700</td>\n",
       "      <td>3047.379435</td>\n",
       "      <td>17.43</td>\n",
       "      <td>2021-02-14</td>\n",
       "      <td>2</td>\n",
       "      <td>3.05</td>\n",
       "      <td>699</td>\n",
       "      <td>Айдар</td>\n",
       "      <td>22</td>\n",
       "      <td>Омск</td>\n",
       "      <td>free</td>\n",
       "      <td>8</td>\n",
       "      <td>50</td>\n",
       "      <td>0</td>\n",
       "    </tr>\n",
       "    <tr>\n",
       "      <th>6505</th>\n",
       "      <td>700</td>\n",
       "      <td>4342.002254</td>\n",
       "      <td>22.37</td>\n",
       "      <td>2021-02-23</td>\n",
       "      <td>2</td>\n",
       "      <td>4.34</td>\n",
       "      <td>699</td>\n",
       "      <td>Айдар</td>\n",
       "      <td>22</td>\n",
       "      <td>Омск</td>\n",
       "      <td>free</td>\n",
       "      <td>8</td>\n",
       "      <td>50</td>\n",
       "      <td>0</td>\n",
       "    </tr>\n",
       "    <tr>\n",
       "      <th>6506</th>\n",
       "      <td>700</td>\n",
       "      <td>3798.334905</td>\n",
       "      <td>18.24</td>\n",
       "      <td>2021-03-03</td>\n",
       "      <td>3</td>\n",
       "      <td>3.80</td>\n",
       "      <td>699</td>\n",
       "      <td>Айдар</td>\n",
       "      <td>22</td>\n",
       "      <td>Омск</td>\n",
       "      <td>free</td>\n",
       "      <td>8</td>\n",
       "      <td>50</td>\n",
       "      <td>0</td>\n",
       "    </tr>\n",
       "    <tr>\n",
       "      <th>6507</th>\n",
       "      <td>700</td>\n",
       "      <td>2984.551206</td>\n",
       "      <td>15.42</td>\n",
       "      <td>2021-04-09</td>\n",
       "      <td>4</td>\n",
       "      <td>2.98</td>\n",
       "      <td>699</td>\n",
       "      <td>Айдар</td>\n",
       "      <td>22</td>\n",
       "      <td>Омск</td>\n",
       "      <td>free</td>\n",
       "      <td>8</td>\n",
       "      <td>50</td>\n",
       "      <td>0</td>\n",
       "    </tr>\n",
       "    <tr>\n",
       "      <th>6508</th>\n",
       "      <td>700</td>\n",
       "      <td>3360.107141</td>\n",
       "      <td>16.77</td>\n",
       "      <td>2021-06-12</td>\n",
       "      <td>6</td>\n",
       "      <td>3.36</td>\n",
       "      <td>699</td>\n",
       "      <td>Айдар</td>\n",
       "      <td>22</td>\n",
       "      <td>Омск</td>\n",
       "      <td>free</td>\n",
       "      <td>8</td>\n",
       "      <td>50</td>\n",
       "      <td>0</td>\n",
       "    </tr>\n",
       "    <tr>\n",
       "      <th>6509</th>\n",
       "      <td>700</td>\n",
       "      <td>2567.543847</td>\n",
       "      <td>11.31</td>\n",
       "      <td>2021-06-23</td>\n",
       "      <td>6</td>\n",
       "      <td>2.57</td>\n",
       "      <td>699</td>\n",
       "      <td>Айдар</td>\n",
       "      <td>22</td>\n",
       "      <td>Омск</td>\n",
       "      <td>free</td>\n",
       "      <td>8</td>\n",
       "      <td>50</td>\n",
       "      <td>0</td>\n",
       "    </tr>\n",
       "    <tr>\n",
       "      <th>6510</th>\n",
       "      <td>700</td>\n",
       "      <td>4110.232038</td>\n",
       "      <td>15.81</td>\n",
       "      <td>2021-07-08</td>\n",
       "      <td>7</td>\n",
       "      <td>4.11</td>\n",
       "      <td>699</td>\n",
       "      <td>Айдар</td>\n",
       "      <td>22</td>\n",
       "      <td>Омск</td>\n",
       "      <td>free</td>\n",
       "      <td>8</td>\n",
       "      <td>50</td>\n",
       "      <td>0</td>\n",
       "    </tr>\n",
       "    <tr>\n",
       "      <th>6511</th>\n",
       "      <td>700</td>\n",
       "      <td>288.974241</td>\n",
       "      <td>4.79</td>\n",
       "      <td>2021-07-18</td>\n",
       "      <td>7</td>\n",
       "      <td>0.29</td>\n",
       "      <td>699</td>\n",
       "      <td>Айдар</td>\n",
       "      <td>22</td>\n",
       "      <td>Омск</td>\n",
       "      <td>free</td>\n",
       "      <td>8</td>\n",
       "      <td>50</td>\n",
       "      <td>0</td>\n",
       "    </tr>\n",
       "    <tr>\n",
       "      <th>6512</th>\n",
       "      <td>700</td>\n",
       "      <td>4071.654669</td>\n",
       "      <td>16.37</td>\n",
       "      <td>2021-08-17</td>\n",
       "      <td>8</td>\n",
       "      <td>4.07</td>\n",
       "      <td>699</td>\n",
       "      <td>Айдар</td>\n",
       "      <td>22</td>\n",
       "      <td>Омск</td>\n",
       "      <td>free</td>\n",
       "      <td>8</td>\n",
       "      <td>50</td>\n",
       "      <td>0</td>\n",
       "    </tr>\n",
       "    <tr>\n",
       "      <th>6513</th>\n",
       "      <td>700</td>\n",
       "      <td>1920.188901</td>\n",
       "      <td>9.61</td>\n",
       "      <td>2021-10-08</td>\n",
       "      <td>10</td>\n",
       "      <td>1.92</td>\n",
       "      <td>699</td>\n",
       "      <td>Айдар</td>\n",
       "      <td>22</td>\n",
       "      <td>Омск</td>\n",
       "      <td>free</td>\n",
       "      <td>8</td>\n",
       "      <td>50</td>\n",
       "      <td>0</td>\n",
       "    </tr>\n",
       "    <tr>\n",
       "      <th>6514</th>\n",
       "      <td>700</td>\n",
       "      <td>4402.389717</td>\n",
       "      <td>33.01</td>\n",
       "      <td>2021-10-15</td>\n",
       "      <td>10</td>\n",
       "      <td>4.40</td>\n",
       "      <td>699</td>\n",
       "      <td>Айдар</td>\n",
       "      <td>22</td>\n",
       "      <td>Омск</td>\n",
       "      <td>free</td>\n",
       "      <td>8</td>\n",
       "      <td>50</td>\n",
       "      <td>0</td>\n",
       "    </tr>\n",
       "  </tbody>\n",
       "</table>\n",
       "</div>"
      ],
      "text/plain": [
       "      user_id     distance  duration       date  month  distance_km  index  \\\n",
       "6500      700  2515.690719     14.94 2021-01-02      1         2.52    699   \n",
       "6501      700   846.932642     16.23 2021-02-01      2         0.85    699   \n",
       "6502      700  4004.434142     20.02 2021-02-04      2         4.00    699   \n",
       "6503      700  1205.911290      9.78 2021-02-10      2         1.21    699   \n",
       "6504      700  3047.379435     17.43 2021-02-14      2         3.05    699   \n",
       "6505      700  4342.002254     22.37 2021-02-23      2         4.34    699   \n",
       "6506      700  3798.334905     18.24 2021-03-03      3         3.80    699   \n",
       "6507      700  2984.551206     15.42 2021-04-09      4         2.98    699   \n",
       "6508      700  3360.107141     16.77 2021-06-12      6         3.36    699   \n",
       "6509      700  2567.543847     11.31 2021-06-23      6         2.57    699   \n",
       "6510      700  4110.232038     15.81 2021-07-08      7         4.11    699   \n",
       "6511      700   288.974241      4.79 2021-07-18      7         0.29    699   \n",
       "6512      700  4071.654669     16.37 2021-08-17      8         4.07    699   \n",
       "6513      700  1920.188901      9.61 2021-10-08     10         1.92    699   \n",
       "6514      700  4402.389717     33.01 2021-10-15     10         4.40    699   \n",
       "\n",
       "       name  age  city subscription_type  minute_price  start_ride_price  \\\n",
       "6500  Айдар   22  Омск              free             8                50   \n",
       "6501  Айдар   22  Омск              free             8                50   \n",
       "6502  Айдар   22  Омск              free             8                50   \n",
       "6503  Айдар   22  Омск              free             8                50   \n",
       "6504  Айдар   22  Омск              free             8                50   \n",
       "6505  Айдар   22  Омск              free             8                50   \n",
       "6506  Айдар   22  Омск              free             8                50   \n",
       "6507  Айдар   22  Омск              free             8                50   \n",
       "6508  Айдар   22  Омск              free             8                50   \n",
       "6509  Айдар   22  Омск              free             8                50   \n",
       "6510  Айдар   22  Омск              free             8                50   \n",
       "6511  Айдар   22  Омск              free             8                50   \n",
       "6512  Айдар   22  Омск              free             8                50   \n",
       "6513  Айдар   22  Омск              free             8                50   \n",
       "6514  Айдар   22  Омск              free             8                50   \n",
       "\n",
       "      subscription_fee  \n",
       "6500                 0  \n",
       "6501                 0  \n",
       "6502                 0  \n",
       "6503                 0  \n",
       "6504                 0  \n",
       "6505                 0  \n",
       "6506                 0  \n",
       "6507                 0  \n",
       "6508                 0  \n",
       "6509                 0  \n",
       "6510                 0  \n",
       "6511                 0  \n",
       "6512                 0  \n",
       "6513                 0  \n",
       "6514                 0  "
      ]
     },
     "execution_count": 60,
     "metadata": {},
     "output_type": "execute_result"
    }
   ],
   "source": [
    "users_without_subscription.head(15)"
   ]
  },
  {
   "cell_type": "code",
   "execution_count": 61,
   "id": "81d31625",
   "metadata": {},
   "outputs": [
    {
     "name": "stdout",
     "output_type": "stream",
     "text": [
      "<class 'pandas.core.frame.DataFrame'>\n",
      "Int64Index: 11473 entries, 6500 to 17972\n",
      "Data columns (total 14 columns):\n",
      " #   Column             Non-Null Count  Dtype         \n",
      "---  ------             --------------  -----         \n",
      " 0   user_id            11473 non-null  int64         \n",
      " 1   distance           11473 non-null  float64       \n",
      " 2   duration           11473 non-null  float64       \n",
      " 3   date               11473 non-null  datetime64[ns]\n",
      " 4   month              11473 non-null  int64         \n",
      " 5   distance_km        11473 non-null  float64       \n",
      " 6   index              11473 non-null  int64         \n",
      " 7   name               11473 non-null  object        \n",
      " 8   age                11473 non-null  int64         \n",
      " 9   city               11473 non-null  object        \n",
      " 10  subscription_type  11473 non-null  object        \n",
      " 11  minute_price       11473 non-null  int64         \n",
      " 12  start_ride_price   11473 non-null  int64         \n",
      " 13  subscription_fee   11473 non-null  int64         \n",
      "dtypes: datetime64[ns](1), float64(3), int64(7), object(3)\n",
      "memory usage: 1.3+ MB\n"
     ]
    }
   ],
   "source": [
    "users_without_subscription.info()"
   ]
  },
  {
   "cell_type": "code",
   "execution_count": 62,
   "id": "acbe16f9",
   "metadata": {},
   "outputs": [],
   "source": [
    "# Создание датафрейма с данными о пользователях с подпиской\n",
    "users_with_subscription = final_data[final_data['subscription_type'] == 'ultra'].copy()"
   ]
  },
  {
   "cell_type": "code",
   "execution_count": 63,
   "id": "5ba6ac0d",
   "metadata": {},
   "outputs": [
    {
     "data": {
      "text/html": [
       "<div>\n",
       "<style scoped>\n",
       "    .dataframe tbody tr th:only-of-type {\n",
       "        vertical-align: middle;\n",
       "    }\n",
       "\n",
       "    .dataframe tbody tr th {\n",
       "        vertical-align: top;\n",
       "    }\n",
       "\n",
       "    .dataframe thead th {\n",
       "        text-align: right;\n",
       "    }\n",
       "</style>\n",
       "<table border=\"1\" class=\"dataframe\">\n",
       "  <thead>\n",
       "    <tr style=\"text-align: right;\">\n",
       "      <th></th>\n",
       "      <th>user_id</th>\n",
       "      <th>distance</th>\n",
       "      <th>duration</th>\n",
       "      <th>date</th>\n",
       "      <th>month</th>\n",
       "      <th>distance_km</th>\n",
       "      <th>index</th>\n",
       "      <th>name</th>\n",
       "      <th>age</th>\n",
       "      <th>city</th>\n",
       "      <th>subscription_type</th>\n",
       "      <th>minute_price</th>\n",
       "      <th>start_ride_price</th>\n",
       "      <th>subscription_fee</th>\n",
       "    </tr>\n",
       "  </thead>\n",
       "  <tbody>\n",
       "    <tr>\n",
       "      <th>0</th>\n",
       "      <td>1</td>\n",
       "      <td>4409.919140</td>\n",
       "      <td>25.60</td>\n",
       "      <td>2021-01-01</td>\n",
       "      <td>1</td>\n",
       "      <td>4.41</td>\n",
       "      <td>0</td>\n",
       "      <td>Кира</td>\n",
       "      <td>22</td>\n",
       "      <td>Тюмень</td>\n",
       "      <td>ultra</td>\n",
       "      <td>6</td>\n",
       "      <td>0</td>\n",
       "      <td>199</td>\n",
       "    </tr>\n",
       "    <tr>\n",
       "      <th>1</th>\n",
       "      <td>1</td>\n",
       "      <td>2617.592153</td>\n",
       "      <td>15.82</td>\n",
       "      <td>2021-01-18</td>\n",
       "      <td>1</td>\n",
       "      <td>2.62</td>\n",
       "      <td>0</td>\n",
       "      <td>Кира</td>\n",
       "      <td>22</td>\n",
       "      <td>Тюмень</td>\n",
       "      <td>ultra</td>\n",
       "      <td>6</td>\n",
       "      <td>0</td>\n",
       "      <td>199</td>\n",
       "    </tr>\n",
       "    <tr>\n",
       "      <th>2</th>\n",
       "      <td>1</td>\n",
       "      <td>754.159807</td>\n",
       "      <td>6.23</td>\n",
       "      <td>2021-04-20</td>\n",
       "      <td>4</td>\n",
       "      <td>0.75</td>\n",
       "      <td>0</td>\n",
       "      <td>Кира</td>\n",
       "      <td>22</td>\n",
       "      <td>Тюмень</td>\n",
       "      <td>ultra</td>\n",
       "      <td>6</td>\n",
       "      <td>0</td>\n",
       "      <td>199</td>\n",
       "    </tr>\n",
       "    <tr>\n",
       "      <th>3</th>\n",
       "      <td>1</td>\n",
       "      <td>2694.783254</td>\n",
       "      <td>18.51</td>\n",
       "      <td>2021-08-11</td>\n",
       "      <td>8</td>\n",
       "      <td>2.69</td>\n",
       "      <td>0</td>\n",
       "      <td>Кира</td>\n",
       "      <td>22</td>\n",
       "      <td>Тюмень</td>\n",
       "      <td>ultra</td>\n",
       "      <td>6</td>\n",
       "      <td>0</td>\n",
       "      <td>199</td>\n",
       "    </tr>\n",
       "    <tr>\n",
       "      <th>4</th>\n",
       "      <td>1</td>\n",
       "      <td>4028.687306</td>\n",
       "      <td>26.27</td>\n",
       "      <td>2021-08-28</td>\n",
       "      <td>8</td>\n",
       "      <td>4.03</td>\n",
       "      <td>0</td>\n",
       "      <td>Кира</td>\n",
       "      <td>22</td>\n",
       "      <td>Тюмень</td>\n",
       "      <td>ultra</td>\n",
       "      <td>6</td>\n",
       "      <td>0</td>\n",
       "      <td>199</td>\n",
       "    </tr>\n",
       "    <tr>\n",
       "      <th>5</th>\n",
       "      <td>1</td>\n",
       "      <td>2770.890808</td>\n",
       "      <td>16.65</td>\n",
       "      <td>2021-10-09</td>\n",
       "      <td>10</td>\n",
       "      <td>2.77</td>\n",
       "      <td>0</td>\n",
       "      <td>Кира</td>\n",
       "      <td>22</td>\n",
       "      <td>Тюмень</td>\n",
       "      <td>ultra</td>\n",
       "      <td>6</td>\n",
       "      <td>0</td>\n",
       "      <td>199</td>\n",
       "    </tr>\n",
       "    <tr>\n",
       "      <th>6</th>\n",
       "      <td>1</td>\n",
       "      <td>3039.020292</td>\n",
       "      <td>14.93</td>\n",
       "      <td>2021-10-19</td>\n",
       "      <td>10</td>\n",
       "      <td>3.04</td>\n",
       "      <td>0</td>\n",
       "      <td>Кира</td>\n",
       "      <td>22</td>\n",
       "      <td>Тюмень</td>\n",
       "      <td>ultra</td>\n",
       "      <td>6</td>\n",
       "      <td>0</td>\n",
       "      <td>199</td>\n",
       "    </tr>\n",
       "    <tr>\n",
       "      <th>7</th>\n",
       "      <td>1</td>\n",
       "      <td>2842.118050</td>\n",
       "      <td>23.12</td>\n",
       "      <td>2021-11-06</td>\n",
       "      <td>11</td>\n",
       "      <td>2.84</td>\n",
       "      <td>0</td>\n",
       "      <td>Кира</td>\n",
       "      <td>22</td>\n",
       "      <td>Тюмень</td>\n",
       "      <td>ultra</td>\n",
       "      <td>6</td>\n",
       "      <td>0</td>\n",
       "      <td>199</td>\n",
       "    </tr>\n",
       "    <tr>\n",
       "      <th>8</th>\n",
       "      <td>1</td>\n",
       "      <td>3412.690668</td>\n",
       "      <td>15.24</td>\n",
       "      <td>2021-11-14</td>\n",
       "      <td>11</td>\n",
       "      <td>3.41</td>\n",
       "      <td>0</td>\n",
       "      <td>Кира</td>\n",
       "      <td>22</td>\n",
       "      <td>Тюмень</td>\n",
       "      <td>ultra</td>\n",
       "      <td>6</td>\n",
       "      <td>0</td>\n",
       "      <td>199</td>\n",
       "    </tr>\n",
       "    <tr>\n",
       "      <th>9</th>\n",
       "      <td>1</td>\n",
       "      <td>748.690645</td>\n",
       "      <td>15.04</td>\n",
       "      <td>2021-11-22</td>\n",
       "      <td>11</td>\n",
       "      <td>0.75</td>\n",
       "      <td>0</td>\n",
       "      <td>Кира</td>\n",
       "      <td>22</td>\n",
       "      <td>Тюмень</td>\n",
       "      <td>ultra</td>\n",
       "      <td>6</td>\n",
       "      <td>0</td>\n",
       "      <td>199</td>\n",
       "    </tr>\n",
       "    <tr>\n",
       "      <th>10</th>\n",
       "      <td>1</td>\n",
       "      <td>4031.020195</td>\n",
       "      <td>17.67</td>\n",
       "      <td>2021-12-14</td>\n",
       "      <td>12</td>\n",
       "      <td>4.03</td>\n",
       "      <td>0</td>\n",
       "      <td>Кира</td>\n",
       "      <td>22</td>\n",
       "      <td>Тюмень</td>\n",
       "      <td>ultra</td>\n",
       "      <td>6</td>\n",
       "      <td>0</td>\n",
       "      <td>199</td>\n",
       "    </tr>\n",
       "    <tr>\n",
       "      <th>11</th>\n",
       "      <td>1</td>\n",
       "      <td>2720.609748</td>\n",
       "      <td>9.53</td>\n",
       "      <td>2021-12-22</td>\n",
       "      <td>12</td>\n",
       "      <td>2.72</td>\n",
       "      <td>0</td>\n",
       "      <td>Кира</td>\n",
       "      <td>22</td>\n",
       "      <td>Тюмень</td>\n",
       "      <td>ultra</td>\n",
       "      <td>6</td>\n",
       "      <td>0</td>\n",
       "      <td>199</td>\n",
       "    </tr>\n",
       "    <tr>\n",
       "      <th>12</th>\n",
       "      <td>2</td>\n",
       "      <td>3105.086678</td>\n",
       "      <td>24.31</td>\n",
       "      <td>2021-03-15</td>\n",
       "      <td>3</td>\n",
       "      <td>3.11</td>\n",
       "      <td>1</td>\n",
       "      <td>Станислав</td>\n",
       "      <td>31</td>\n",
       "      <td>Омск</td>\n",
       "      <td>ultra</td>\n",
       "      <td>6</td>\n",
       "      <td>0</td>\n",
       "      <td>199</td>\n",
       "    </tr>\n",
       "    <tr>\n",
       "      <th>13</th>\n",
       "      <td>2</td>\n",
       "      <td>3053.519401</td>\n",
       "      <td>11.54</td>\n",
       "      <td>2021-03-18</td>\n",
       "      <td>3</td>\n",
       "      <td>3.05</td>\n",
       "      <td>1</td>\n",
       "      <td>Станислав</td>\n",
       "      <td>31</td>\n",
       "      <td>Омск</td>\n",
       "      <td>ultra</td>\n",
       "      <td>6</td>\n",
       "      <td>0</td>\n",
       "      <td>199</td>\n",
       "    </tr>\n",
       "    <tr>\n",
       "      <th>14</th>\n",
       "      <td>2</td>\n",
       "      <td>4029.116927</td>\n",
       "      <td>25.11</td>\n",
       "      <td>2021-03-23</td>\n",
       "      <td>3</td>\n",
       "      <td>4.03</td>\n",
       "      <td>1</td>\n",
       "      <td>Станислав</td>\n",
       "      <td>31</td>\n",
       "      <td>Омск</td>\n",
       "      <td>ultra</td>\n",
       "      <td>6</td>\n",
       "      <td>0</td>\n",
       "      <td>199</td>\n",
       "    </tr>\n",
       "  </tbody>\n",
       "</table>\n",
       "</div>"
      ],
      "text/plain": [
       "    user_id     distance  duration       date  month  distance_km  index  \\\n",
       "0         1  4409.919140     25.60 2021-01-01      1         4.41      0   \n",
       "1         1  2617.592153     15.82 2021-01-18      1         2.62      0   \n",
       "2         1   754.159807      6.23 2021-04-20      4         0.75      0   \n",
       "3         1  2694.783254     18.51 2021-08-11      8         2.69      0   \n",
       "4         1  4028.687306     26.27 2021-08-28      8         4.03      0   \n",
       "5         1  2770.890808     16.65 2021-10-09     10         2.77      0   \n",
       "6         1  3039.020292     14.93 2021-10-19     10         3.04      0   \n",
       "7         1  2842.118050     23.12 2021-11-06     11         2.84      0   \n",
       "8         1  3412.690668     15.24 2021-11-14     11         3.41      0   \n",
       "9         1   748.690645     15.04 2021-11-22     11         0.75      0   \n",
       "10        1  4031.020195     17.67 2021-12-14     12         4.03      0   \n",
       "11        1  2720.609748      9.53 2021-12-22     12         2.72      0   \n",
       "12        2  3105.086678     24.31 2021-03-15      3         3.11      1   \n",
       "13        2  3053.519401     11.54 2021-03-18      3         3.05      1   \n",
       "14        2  4029.116927     25.11 2021-03-23      3         4.03      1   \n",
       "\n",
       "         name  age    city subscription_type  minute_price  start_ride_price  \\\n",
       "0        Кира   22  Тюмень             ultra             6                 0   \n",
       "1        Кира   22  Тюмень             ultra             6                 0   \n",
       "2        Кира   22  Тюмень             ultra             6                 0   \n",
       "3        Кира   22  Тюмень             ultra             6                 0   \n",
       "4        Кира   22  Тюмень             ultra             6                 0   \n",
       "5        Кира   22  Тюмень             ultra             6                 0   \n",
       "6        Кира   22  Тюмень             ultra             6                 0   \n",
       "7        Кира   22  Тюмень             ultra             6                 0   \n",
       "8        Кира   22  Тюмень             ultra             6                 0   \n",
       "9        Кира   22  Тюмень             ultra             6                 0   \n",
       "10       Кира   22  Тюмень             ultra             6                 0   \n",
       "11       Кира   22  Тюмень             ultra             6                 0   \n",
       "12  Станислав   31    Омск             ultra             6                 0   \n",
       "13  Станислав   31    Омск             ultra             6                 0   \n",
       "14  Станислав   31    Омск             ultra             6                 0   \n",
       "\n",
       "    subscription_fee  \n",
       "0                199  \n",
       "1                199  \n",
       "2                199  \n",
       "3                199  \n",
       "4                199  \n",
       "5                199  \n",
       "6                199  \n",
       "7                199  \n",
       "8                199  \n",
       "9                199  \n",
       "10               199  \n",
       "11               199  \n",
       "12               199  \n",
       "13               199  \n",
       "14               199  "
      ]
     },
     "execution_count": 63,
     "metadata": {},
     "output_type": "execute_result"
    }
   ],
   "source": [
    "users_with_subscription.head(15)"
   ]
  },
  {
   "cell_type": "code",
   "execution_count": 64,
   "id": "524adbe9",
   "metadata": {},
   "outputs": [
    {
     "name": "stdout",
     "output_type": "stream",
     "text": [
      "<class 'pandas.core.frame.DataFrame'>\n",
      "Int64Index: 6500 entries, 0 to 6499\n",
      "Data columns (total 14 columns):\n",
      " #   Column             Non-Null Count  Dtype         \n",
      "---  ------             --------------  -----         \n",
      " 0   user_id            6500 non-null   int64         \n",
      " 1   distance           6500 non-null   float64       \n",
      " 2   duration           6500 non-null   float64       \n",
      " 3   date               6500 non-null   datetime64[ns]\n",
      " 4   month              6500 non-null   int64         \n",
      " 5   distance_km        6500 non-null   float64       \n",
      " 6   index              6500 non-null   int64         \n",
      " 7   name               6500 non-null   object        \n",
      " 8   age                6500 non-null   int64         \n",
      " 9   city               6500 non-null   object        \n",
      " 10  subscription_type  6500 non-null   object        \n",
      " 11  minute_price       6500 non-null   int64         \n",
      " 12  start_ride_price   6500 non-null   int64         \n",
      " 13  subscription_fee   6500 non-null   int64         \n",
      "dtypes: datetime64[ns](1), float64(3), int64(7), object(3)\n",
      "memory usage: 761.7+ KB\n"
     ]
    }
   ],
   "source": [
    "users_with_subscription.info()"
   ]
  },
  {
   "cell_type": "markdown",
   "id": "a7cc2e9c",
   "metadata": {},
   "source": [
    "### Визуализация информации о расстоянии и времени поездок для пользователей обеих категорий."
   ]
  },
  {
   "cell_type": "code",
   "execution_count": 65,
   "id": "145d01df",
   "metadata": {},
   "outputs": [
    {
     "data": {
      "image/png": "[encoded data removed]",
      "text/plain": [
       "<Figure size 720x576 with 2 Axes>"
      ]
     },
     "metadata": {
      "needs_background": "light"
     },
     "output_type": "display_data"
    }
   ],
   "source": [
    "# Создаем два подграфика для расстояния и времени поездок\n",
    "fig, axes = plt.subplots(nrows=2, ncols=1, figsize=(10, 8))\n",
    "\n",
    "# График для расстояния\n",
    "boxplot_distance = final_data.boxplot(column='distance_km', by='subscription_type', ax=axes[0], patch_artist=True, boxprops=dict(facecolor='lightblue'))\n",
    "axes[0].set_title('Distribution of distance by subscription type')\n",
    "axes[0].set_ylabel('Distance (km)')\n",
    "axes[0].set_xticklabels(['Without subscription', 'With subscription'])\n",
    "\n",
    "# График для времени поездок\n",
    "boxplot_duration = final_data.boxplot(column='duration', by='subscription_type', ax=axes[1], patch_artist=True, boxprops=dict(facecolor='lightgreen'))\n",
    "axes[1].set_title('Distribution of duration by subscription type')\n",
    "axes[1].set_ylabel('Duration (minutes)')\n",
    "axes[1].set_xticklabels(['Without subscription', 'With subscription'])\n",
    "\n",
    "# Регулируем расположение графиков\n",
    "plt.tight_layout()\n",
    "\n",
    "# Вывод графиков\n",
    "plt.show()"
   ]
  },
  {
   "cell_type": "markdown",
   "id": "58f2f6b5",
   "metadata": {},
   "source": [
    "Графики \"Распределение расстояния по типу подписки\" и \"Распределение времени поездок по типу подписки\" позволяют провести сравнительный анализ между пользователями с подпиской и без подписки в сервисе аренды самокатов GoFast.\n",
    "Распределение расстояния по типу подписки:\n",
    "Без подписки. Медианное расстояние составляет примерно 3.1, с интерквартильным размахом от 2.3 до 3.9. Усы ящика указывают на наличие множества выбросов, как в нижней, так и верхней части распределения, что свидетельствует о том, что часть пользователей без подписки совершают крайне короткие и долгие поездки.\n",
    "С подпиской. Медианное расстояние равно примерно 3.2, с интерквартильным размахом от 2.8 до 3.7. Усы ящика также демонстрируют наличие выбросов как в нижней, так и верхней части распределения, подчеркивая разнообразие пройденных расстояний пользователями с подпиской.\n",
    "\n",
    "Распределение времени поездок по типу подписки:\n",
    "Без подписки. Медианное время поездок составляет примерно 17 минут, с интерквартильным размахом от 13.5 до 22. Усы ящика указывают на наличие выбросов в верхней части распределения, что может свидетельствовать о длительных поездках некоторых пользователей без подписки.\n",
    "С подпиской. Медианное время поездок равно примерно 18.5 минут, с интерквартильным размахом от 15 до 23. Усы ящика также демонстрируют наличие выбросов в верхней части распределения, подчеркивая разнообразие времени поездок среди пользователей с подпиской.\n",
    "\n",
    "Вывод: Оба вида пользователей, с подпиской и без подписки, проявляют разнообразие в дистанции и времени поездок. Подписка \"ultra\" несмотря на свои привилегии, не исключает наличие как крайне коротких, так и долгих поездок. Распределение данных подчеркивает важность адаптации сервиса под различные предпочтения пользователей для оптимизации их удовлетворения от использования GoFast."
   ]
  },
  {
   "cell_type": "markdown",
   "id": "23a909a1",
   "metadata": {},
   "source": [
    "### Вывод:\n",
    "Объединив данные о пользователях, поездках и подписках в один датафрейм с использованием метода merge(), были созданы два отдельных датафрейма: с информацией о пользователях без подписки и пользователях с подпиской \"ultra\". Визуализация распределений расстояния и времени поездок позволила сравнить обе категории пользователей, выявив разнообразие пройденных дистанций и времени поездок. "
   ]
  },
  {
   "cell_type": "markdown",
   "id": "402d620f",
   "metadata": {},
   "source": [
    "## Подсчёт выручки"
   ]
  },
  {
   "cell_type": "markdown",
   "id": "4c6e0765",
   "metadata": {},
   "source": [
    "### Создадим датафрейм с агрегированными данными о поездках на основе датафрейма с объединёнными данными из предыдущего шага: найдем суммарное расстояние, количество поездок и суммарное время для каждого пользователя за каждый месяц."
   ]
  },
  {
   "cell_type": "code",
   "execution_count": 66,
   "id": "c5557045",
   "metadata": {},
   "outputs": [],
   "source": [
    "# Сгруппируем и сагрегируем данные по пользователям и месяцам, подсчитываем суммарное расстояние, количество поездок\n",
    "#и суммарное время\n",
    "aggregated_data = final_data.groupby(['user_id', 'month']).agg({\n",
    "  'distance_km': 'sum',\n",
    "   'duration': 'sum',\n",
    "   'subscription_type': 'first'  # чтобы сохранить тип подписки пользователя\n",
    "}).reset_index()"
   ]
  },
  {
   "cell_type": "code",
   "execution_count": 67,
   "id": "8d92892b",
   "metadata": {
    "scrolled": true
   },
   "outputs": [
    {
     "data": {
      "text/html": [
       "<div>\n",
       "<style scoped>\n",
       "    .dataframe tbody tr th:only-of-type {\n",
       "        vertical-align: middle;\n",
       "    }\n",
       "\n",
       "    .dataframe tbody tr th {\n",
       "        vertical-align: top;\n",
       "    }\n",
       "\n",
       "    .dataframe thead th {\n",
       "        text-align: right;\n",
       "    }\n",
       "</style>\n",
       "<table border=\"1\" class=\"dataframe\">\n",
       "  <thead>\n",
       "    <tr style=\"text-align: right;\">\n",
       "      <th></th>\n",
       "      <th>user_id</th>\n",
       "      <th>month</th>\n",
       "      <th>distance_km</th>\n",
       "      <th>duration</th>\n",
       "      <th>subscription_type</th>\n",
       "    </tr>\n",
       "  </thead>\n",
       "  <tbody>\n",
       "    <tr>\n",
       "      <th>0</th>\n",
       "      <td>1</td>\n",
       "      <td>1</td>\n",
       "      <td>7.03</td>\n",
       "      <td>41.42</td>\n",
       "      <td>ultra</td>\n",
       "    </tr>\n",
       "    <tr>\n",
       "      <th>1</th>\n",
       "      <td>1</td>\n",
       "      <td>4</td>\n",
       "      <td>0.75</td>\n",
       "      <td>6.23</td>\n",
       "      <td>ultra</td>\n",
       "    </tr>\n",
       "    <tr>\n",
       "      <th>2</th>\n",
       "      <td>1</td>\n",
       "      <td>8</td>\n",
       "      <td>6.72</td>\n",
       "      <td>44.78</td>\n",
       "      <td>ultra</td>\n",
       "    </tr>\n",
       "    <tr>\n",
       "      <th>3</th>\n",
       "      <td>1</td>\n",
       "      <td>10</td>\n",
       "      <td>5.81</td>\n",
       "      <td>31.58</td>\n",
       "      <td>ultra</td>\n",
       "    </tr>\n",
       "    <tr>\n",
       "      <th>4</th>\n",
       "      <td>1</td>\n",
       "      <td>11</td>\n",
       "      <td>7.00</td>\n",
       "      <td>53.40</td>\n",
       "      <td>ultra</td>\n",
       "    </tr>\n",
       "    <tr>\n",
       "      <th>5</th>\n",
       "      <td>1</td>\n",
       "      <td>12</td>\n",
       "      <td>6.75</td>\n",
       "      <td>27.20</td>\n",
       "      <td>ultra</td>\n",
       "    </tr>\n",
       "    <tr>\n",
       "      <th>6</th>\n",
       "      <td>2</td>\n",
       "      <td>3</td>\n",
       "      <td>10.19</td>\n",
       "      <td>60.96</td>\n",
       "      <td>ultra</td>\n",
       "    </tr>\n",
       "    <tr>\n",
       "      <th>7</th>\n",
       "      <td>2</td>\n",
       "      <td>4</td>\n",
       "      <td>6.17</td>\n",
       "      <td>39.05</td>\n",
       "      <td>ultra</td>\n",
       "    </tr>\n",
       "    <tr>\n",
       "      <th>8</th>\n",
       "      <td>2</td>\n",
       "      <td>6</td>\n",
       "      <td>3.26</td>\n",
       "      <td>13.85</td>\n",
       "      <td>ultra</td>\n",
       "    </tr>\n",
       "    <tr>\n",
       "      <th>9</th>\n",
       "      <td>2</td>\n",
       "      <td>7</td>\n",
       "      <td>6.78</td>\n",
       "      <td>46.17</td>\n",
       "      <td>ultra</td>\n",
       "    </tr>\n",
       "    <tr>\n",
       "      <th>10</th>\n",
       "      <td>2</td>\n",
       "      <td>8</td>\n",
       "      <td>0.92</td>\n",
       "      <td>6.91</td>\n",
       "      <td>ultra</td>\n",
       "    </tr>\n",
       "    <tr>\n",
       "      <th>11</th>\n",
       "      <td>2</td>\n",
       "      <td>10</td>\n",
       "      <td>2.82</td>\n",
       "      <td>18.78</td>\n",
       "      <td>ultra</td>\n",
       "    </tr>\n",
       "    <tr>\n",
       "      <th>12</th>\n",
       "      <td>2</td>\n",
       "      <td>12</td>\n",
       "      <td>3.83</td>\n",
       "      <td>11.92</td>\n",
       "      <td>ultra</td>\n",
       "    </tr>\n",
       "    <tr>\n",
       "      <th>13</th>\n",
       "      <td>3</td>\n",
       "      <td>1</td>\n",
       "      <td>3.06</td>\n",
       "      <td>12.65</td>\n",
       "      <td>ultra</td>\n",
       "    </tr>\n",
       "    <tr>\n",
       "      <th>14</th>\n",
       "      <td>3</td>\n",
       "      <td>2</td>\n",
       "      <td>5.42</td>\n",
       "      <td>37.56</td>\n",
       "      <td>ultra</td>\n",
       "    </tr>\n",
       "  </tbody>\n",
       "</table>\n",
       "</div>"
      ],
      "text/plain": [
       "    user_id  month  distance_km  duration subscription_type\n",
       "0         1      1         7.03     41.42             ultra\n",
       "1         1      4         0.75      6.23             ultra\n",
       "2         1      8         6.72     44.78             ultra\n",
       "3         1     10         5.81     31.58             ultra\n",
       "4         1     11         7.00     53.40             ultra\n",
       "5         1     12         6.75     27.20             ultra\n",
       "6         2      3        10.19     60.96             ultra\n",
       "7         2      4         6.17     39.05             ultra\n",
       "8         2      6         3.26     13.85             ultra\n",
       "9         2      7         6.78     46.17             ultra\n",
       "10        2      8         0.92      6.91             ultra\n",
       "11        2     10         2.82     18.78             ultra\n",
       "12        2     12         3.83     11.92             ultra\n",
       "13        3      1         3.06     12.65             ultra\n",
       "14        3      2         5.42     37.56             ultra"
      ]
     },
     "execution_count": 67,
     "metadata": {},
     "output_type": "execute_result"
    }
   ],
   "source": [
    "#Вывод первых строк агрегированного датафрейма для проверки\n",
    "aggregated_data.head(15)"
   ]
  },
  {
   "cell_type": "code",
   "execution_count": 68,
   "id": "ce1055db",
   "metadata": {},
   "outputs": [],
   "source": [
    "# Добавим столбец с количеством поездок на основе 'distance_km'\n",
    "aggregated_data['trips'] = (final_data['distance_km'] > 0).groupby([final_data['user_id'], final_data['month']]).sum().reset_index()['distance_km']"
   ]
  },
  {
   "cell_type": "code",
   "execution_count": 69,
   "id": "1566ab6f",
   "metadata": {},
   "outputs": [
    {
     "data": {
      "text/html": [
       "<div>\n",
       "<style scoped>\n",
       "    .dataframe tbody tr th:only-of-type {\n",
       "        vertical-align: middle;\n",
       "    }\n",
       "\n",
       "    .dataframe tbody tr th {\n",
       "        vertical-align: top;\n",
       "    }\n",
       "\n",
       "    .dataframe thead th {\n",
       "        text-align: right;\n",
       "    }\n",
       "</style>\n",
       "<table border=\"1\" class=\"dataframe\">\n",
       "  <thead>\n",
       "    <tr style=\"text-align: right;\">\n",
       "      <th></th>\n",
       "      <th>user_id</th>\n",
       "      <th>month</th>\n",
       "      <th>distance_km</th>\n",
       "      <th>duration</th>\n",
       "      <th>subscription_type</th>\n",
       "      <th>trips</th>\n",
       "    </tr>\n",
       "  </thead>\n",
       "  <tbody>\n",
       "    <tr>\n",
       "      <th>0</th>\n",
       "      <td>1</td>\n",
       "      <td>1</td>\n",
       "      <td>7.03</td>\n",
       "      <td>41.42</td>\n",
       "      <td>ultra</td>\n",
       "      <td>2</td>\n",
       "    </tr>\n",
       "    <tr>\n",
       "      <th>1</th>\n",
       "      <td>1</td>\n",
       "      <td>4</td>\n",
       "      <td>0.75</td>\n",
       "      <td>6.23</td>\n",
       "      <td>ultra</td>\n",
       "      <td>1</td>\n",
       "    </tr>\n",
       "    <tr>\n",
       "      <th>2</th>\n",
       "      <td>1</td>\n",
       "      <td>8</td>\n",
       "      <td>6.72</td>\n",
       "      <td>44.78</td>\n",
       "      <td>ultra</td>\n",
       "      <td>2</td>\n",
       "    </tr>\n",
       "    <tr>\n",
       "      <th>3</th>\n",
       "      <td>1</td>\n",
       "      <td>10</td>\n",
       "      <td>5.81</td>\n",
       "      <td>31.58</td>\n",
       "      <td>ultra</td>\n",
       "      <td>2</td>\n",
       "    </tr>\n",
       "    <tr>\n",
       "      <th>4</th>\n",
       "      <td>1</td>\n",
       "      <td>11</td>\n",
       "      <td>7.00</td>\n",
       "      <td>53.40</td>\n",
       "      <td>ultra</td>\n",
       "      <td>3</td>\n",
       "    </tr>\n",
       "    <tr>\n",
       "      <th>5</th>\n",
       "      <td>1</td>\n",
       "      <td>12</td>\n",
       "      <td>6.75</td>\n",
       "      <td>27.20</td>\n",
       "      <td>ultra</td>\n",
       "      <td>2</td>\n",
       "    </tr>\n",
       "    <tr>\n",
       "      <th>6</th>\n",
       "      <td>2</td>\n",
       "      <td>3</td>\n",
       "      <td>10.19</td>\n",
       "      <td>60.96</td>\n",
       "      <td>ultra</td>\n",
       "      <td>3</td>\n",
       "    </tr>\n",
       "    <tr>\n",
       "      <th>7</th>\n",
       "      <td>2</td>\n",
       "      <td>4</td>\n",
       "      <td>6.17</td>\n",
       "      <td>39.05</td>\n",
       "      <td>ultra</td>\n",
       "      <td>2</td>\n",
       "    </tr>\n",
       "    <tr>\n",
       "      <th>8</th>\n",
       "      <td>2</td>\n",
       "      <td>6</td>\n",
       "      <td>3.26</td>\n",
       "      <td>13.85</td>\n",
       "      <td>ultra</td>\n",
       "      <td>1</td>\n",
       "    </tr>\n",
       "    <tr>\n",
       "      <th>9</th>\n",
       "      <td>2</td>\n",
       "      <td>7</td>\n",
       "      <td>6.78</td>\n",
       "      <td>46.17</td>\n",
       "      <td>ultra</td>\n",
       "      <td>2</td>\n",
       "    </tr>\n",
       "    <tr>\n",
       "      <th>10</th>\n",
       "      <td>2</td>\n",
       "      <td>8</td>\n",
       "      <td>0.92</td>\n",
       "      <td>6.91</td>\n",
       "      <td>ultra</td>\n",
       "      <td>1</td>\n",
       "    </tr>\n",
       "    <tr>\n",
       "      <th>11</th>\n",
       "      <td>2</td>\n",
       "      <td>10</td>\n",
       "      <td>2.82</td>\n",
       "      <td>18.78</td>\n",
       "      <td>ultra</td>\n",
       "      <td>1</td>\n",
       "    </tr>\n",
       "    <tr>\n",
       "      <th>12</th>\n",
       "      <td>2</td>\n",
       "      <td>12</td>\n",
       "      <td>3.83</td>\n",
       "      <td>11.92</td>\n",
       "      <td>ultra</td>\n",
       "      <td>1</td>\n",
       "    </tr>\n",
       "    <tr>\n",
       "      <th>13</th>\n",
       "      <td>3</td>\n",
       "      <td>1</td>\n",
       "      <td>3.06</td>\n",
       "      <td>12.65</td>\n",
       "      <td>ultra</td>\n",
       "      <td>1</td>\n",
       "    </tr>\n",
       "    <tr>\n",
       "      <th>14</th>\n",
       "      <td>3</td>\n",
       "      <td>2</td>\n",
       "      <td>5.42</td>\n",
       "      <td>37.56</td>\n",
       "      <td>ultra</td>\n",
       "      <td>2</td>\n",
       "    </tr>\n",
       "  </tbody>\n",
       "</table>\n",
       "</div>"
      ],
      "text/plain": [
       "    user_id  month  distance_km  duration subscription_type  trips\n",
       "0         1      1         7.03     41.42             ultra      2\n",
       "1         1      4         0.75      6.23             ultra      1\n",
       "2         1      8         6.72     44.78             ultra      2\n",
       "3         1     10         5.81     31.58             ultra      2\n",
       "4         1     11         7.00     53.40             ultra      3\n",
       "5         1     12         6.75     27.20             ultra      2\n",
       "6         2      3        10.19     60.96             ultra      3\n",
       "7         2      4         6.17     39.05             ultra      2\n",
       "8         2      6         3.26     13.85             ultra      1\n",
       "9         2      7         6.78     46.17             ultra      2\n",
       "10        2      8         0.92      6.91             ultra      1\n",
       "11        2     10         2.82     18.78             ultra      1\n",
       "12        2     12         3.83     11.92             ultra      1\n",
       "13        3      1         3.06     12.65             ultra      1\n",
       "14        3      2         5.42     37.56             ultra      2"
      ]
     },
     "execution_count": 69,
     "metadata": {},
     "output_type": "execute_result"
    }
   ],
   "source": [
    "#Вывод первых строк агрегированного датафрейма для проверки\n",
    "aggregated_data.head(15)"
   ]
  },
  {
   "cell_type": "markdown",
   "id": "8e7864f0",
   "metadata": {},
   "source": [
    "### В полученный датафрейм добавим столбец с помесячной выручкой, которую принёс каждый пользователь. "
   ]
  },
  {
   "cell_type": "code",
   "execution_count": 70,
   "id": "cd6699a2",
   "metadata": {},
   "outputs": [],
   "source": [
    "import numpy as np\n",
    "# Округлим значения продолжительности в aggregated_data до ближайшего целого числа\n",
    "aggregated_data['duration'] = np.ceil(aggregated_data['duration'])"
   ]
  },
  {
   "cell_type": "code",
   "execution_count": 71,
   "id": "0de3dabc",
   "metadata": {},
   "outputs": [
    {
     "data": {
      "text/html": [
       "<div>\n",
       "<style scoped>\n",
       "    .dataframe tbody tr th:only-of-type {\n",
       "        vertical-align: middle;\n",
       "    }\n",
       "\n",
       "    .dataframe tbody tr th {\n",
       "        vertical-align: top;\n",
       "    }\n",
       "\n",
       "    .dataframe thead th {\n",
       "        text-align: right;\n",
       "    }\n",
       "</style>\n",
       "<table border=\"1\" class=\"dataframe\">\n",
       "  <thead>\n",
       "    <tr style=\"text-align: right;\">\n",
       "      <th></th>\n",
       "      <th>user_id</th>\n",
       "      <th>month</th>\n",
       "      <th>distance_km</th>\n",
       "      <th>duration</th>\n",
       "      <th>subscription_type</th>\n",
       "      <th>trips</th>\n",
       "    </tr>\n",
       "  </thead>\n",
       "  <tbody>\n",
       "    <tr>\n",
       "      <th>0</th>\n",
       "      <td>1</td>\n",
       "      <td>1</td>\n",
       "      <td>7.03</td>\n",
       "      <td>42.0</td>\n",
       "      <td>ultra</td>\n",
       "      <td>2</td>\n",
       "    </tr>\n",
       "    <tr>\n",
       "      <th>1</th>\n",
       "      <td>1</td>\n",
       "      <td>4</td>\n",
       "      <td>0.75</td>\n",
       "      <td>7.0</td>\n",
       "      <td>ultra</td>\n",
       "      <td>1</td>\n",
       "    </tr>\n",
       "    <tr>\n",
       "      <th>2</th>\n",
       "      <td>1</td>\n",
       "      <td>8</td>\n",
       "      <td>6.72</td>\n",
       "      <td>45.0</td>\n",
       "      <td>ultra</td>\n",
       "      <td>2</td>\n",
       "    </tr>\n",
       "    <tr>\n",
       "      <th>3</th>\n",
       "      <td>1</td>\n",
       "      <td>10</td>\n",
       "      <td>5.81</td>\n",
       "      <td>32.0</td>\n",
       "      <td>ultra</td>\n",
       "      <td>2</td>\n",
       "    </tr>\n",
       "    <tr>\n",
       "      <th>4</th>\n",
       "      <td>1</td>\n",
       "      <td>11</td>\n",
       "      <td>7.00</td>\n",
       "      <td>54.0</td>\n",
       "      <td>ultra</td>\n",
       "      <td>3</td>\n",
       "    </tr>\n",
       "  </tbody>\n",
       "</table>\n",
       "</div>"
      ],
      "text/plain": [
       "   user_id  month  distance_km  duration subscription_type  trips\n",
       "0        1      1         7.03      42.0             ultra      2\n",
       "1        1      4         0.75       7.0             ultra      1\n",
       "2        1      8         6.72      45.0             ultra      2\n",
       "3        1     10         5.81      32.0             ultra      2\n",
       "4        1     11         7.00      54.0             ultra      3"
      ]
     },
     "execution_count": 71,
     "metadata": {},
     "output_type": "execute_result"
    }
   ],
   "source": [
    "# Проверим результат\n",
    "aggregated_data.head()"
   ]
  },
  {
   "cell_type": "code",
   "execution_count": 72,
   "id": "ca475964",
   "metadata": {},
   "outputs": [],
   "source": [
    "# Создаем столбец 'monthly_revenue', содержащий выручку для каждой поездки\n",
    "aggregated_data['monthly_revenue'] = 0  # инициализируем столбец нулями"
   ]
  },
  {
   "cell_type": "code",
   "execution_count": 73,
   "id": "2b30d233",
   "metadata": {},
   "outputs": [],
   "source": [
    "# Заполняем столбец 'monthly_revenue' в зависимости от типа подписки\n",
    "aggregated_data.loc[aggregated_data['subscription_type'] == 'free', 'monthly_revenue'] = (\n",
    "    8 * aggregated_data['duration'] + 50 * aggregated_data['trips']\n",
    ")\n",
    "\n",
    "aggregated_data.loc[aggregated_data['subscription_type'] == 'ultra', 'monthly_revenue'] = (\n",
    "    199 + 6 * aggregated_data['duration']\n",
    ")"
   ]
  },
  {
   "cell_type": "code",
   "execution_count": 74,
   "id": "5efc03a8",
   "metadata": {},
   "outputs": [
    {
     "data": {
      "text/html": [
       "<div>\n",
       "<style scoped>\n",
       "    .dataframe tbody tr th:only-of-type {\n",
       "        vertical-align: middle;\n",
       "    }\n",
       "\n",
       "    .dataframe tbody tr th {\n",
       "        vertical-align: top;\n",
       "    }\n",
       "\n",
       "    .dataframe thead th {\n",
       "        text-align: right;\n",
       "    }\n",
       "</style>\n",
       "<table border=\"1\" class=\"dataframe\">\n",
       "  <thead>\n",
       "    <tr style=\"text-align: right;\">\n",
       "      <th></th>\n",
       "      <th>user_id</th>\n",
       "      <th>month</th>\n",
       "      <th>distance_km</th>\n",
       "      <th>duration</th>\n",
       "      <th>subscription_type</th>\n",
       "      <th>trips</th>\n",
       "      <th>monthly_revenue</th>\n",
       "    </tr>\n",
       "  </thead>\n",
       "  <tbody>\n",
       "    <tr>\n",
       "      <th>0</th>\n",
       "      <td>1</td>\n",
       "      <td>1</td>\n",
       "      <td>7.03</td>\n",
       "      <td>42.0</td>\n",
       "      <td>ultra</td>\n",
       "      <td>2</td>\n",
       "      <td>451.0</td>\n",
       "    </tr>\n",
       "    <tr>\n",
       "      <th>1</th>\n",
       "      <td>1</td>\n",
       "      <td>4</td>\n",
       "      <td>0.75</td>\n",
       "      <td>7.0</td>\n",
       "      <td>ultra</td>\n",
       "      <td>1</td>\n",
       "      <td>241.0</td>\n",
       "    </tr>\n",
       "    <tr>\n",
       "      <th>2</th>\n",
       "      <td>1</td>\n",
       "      <td>8</td>\n",
       "      <td>6.72</td>\n",
       "      <td>45.0</td>\n",
       "      <td>ultra</td>\n",
       "      <td>2</td>\n",
       "      <td>469.0</td>\n",
       "    </tr>\n",
       "    <tr>\n",
       "      <th>3</th>\n",
       "      <td>1</td>\n",
       "      <td>10</td>\n",
       "      <td>5.81</td>\n",
       "      <td>32.0</td>\n",
       "      <td>ultra</td>\n",
       "      <td>2</td>\n",
       "      <td>391.0</td>\n",
       "    </tr>\n",
       "    <tr>\n",
       "      <th>4</th>\n",
       "      <td>1</td>\n",
       "      <td>11</td>\n",
       "      <td>7.00</td>\n",
       "      <td>54.0</td>\n",
       "      <td>ultra</td>\n",
       "      <td>3</td>\n",
       "      <td>523.0</td>\n",
       "    </tr>\n",
       "    <tr>\n",
       "      <th>5</th>\n",
       "      <td>1</td>\n",
       "      <td>12</td>\n",
       "      <td>6.75</td>\n",
       "      <td>28.0</td>\n",
       "      <td>ultra</td>\n",
       "      <td>2</td>\n",
       "      <td>367.0</td>\n",
       "    </tr>\n",
       "    <tr>\n",
       "      <th>6</th>\n",
       "      <td>2</td>\n",
       "      <td>3</td>\n",
       "      <td>10.19</td>\n",
       "      <td>61.0</td>\n",
       "      <td>ultra</td>\n",
       "      <td>3</td>\n",
       "      <td>565.0</td>\n",
       "    </tr>\n",
       "    <tr>\n",
       "      <th>7</th>\n",
       "      <td>2</td>\n",
       "      <td>4</td>\n",
       "      <td>6.17</td>\n",
       "      <td>40.0</td>\n",
       "      <td>ultra</td>\n",
       "      <td>2</td>\n",
       "      <td>439.0</td>\n",
       "    </tr>\n",
       "    <tr>\n",
       "      <th>8</th>\n",
       "      <td>2</td>\n",
       "      <td>6</td>\n",
       "      <td>3.26</td>\n",
       "      <td>14.0</td>\n",
       "      <td>ultra</td>\n",
       "      <td>1</td>\n",
       "      <td>283.0</td>\n",
       "    </tr>\n",
       "    <tr>\n",
       "      <th>9</th>\n",
       "      <td>2</td>\n",
       "      <td>7</td>\n",
       "      <td>6.78</td>\n",
       "      <td>47.0</td>\n",
       "      <td>ultra</td>\n",
       "      <td>2</td>\n",
       "      <td>481.0</td>\n",
       "    </tr>\n",
       "    <tr>\n",
       "      <th>10</th>\n",
       "      <td>2</td>\n",
       "      <td>8</td>\n",
       "      <td>0.92</td>\n",
       "      <td>7.0</td>\n",
       "      <td>ultra</td>\n",
       "      <td>1</td>\n",
       "      <td>241.0</td>\n",
       "    </tr>\n",
       "    <tr>\n",
       "      <th>11</th>\n",
       "      <td>2</td>\n",
       "      <td>10</td>\n",
       "      <td>2.82</td>\n",
       "      <td>19.0</td>\n",
       "      <td>ultra</td>\n",
       "      <td>1</td>\n",
       "      <td>313.0</td>\n",
       "    </tr>\n",
       "    <tr>\n",
       "      <th>12</th>\n",
       "      <td>2</td>\n",
       "      <td>12</td>\n",
       "      <td>3.83</td>\n",
       "      <td>12.0</td>\n",
       "      <td>ultra</td>\n",
       "      <td>1</td>\n",
       "      <td>271.0</td>\n",
       "    </tr>\n",
       "    <tr>\n",
       "      <th>13</th>\n",
       "      <td>3</td>\n",
       "      <td>1</td>\n",
       "      <td>3.06</td>\n",
       "      <td>13.0</td>\n",
       "      <td>ultra</td>\n",
       "      <td>1</td>\n",
       "      <td>277.0</td>\n",
       "    </tr>\n",
       "    <tr>\n",
       "      <th>14</th>\n",
       "      <td>3</td>\n",
       "      <td>2</td>\n",
       "      <td>5.42</td>\n",
       "      <td>38.0</td>\n",
       "      <td>ultra</td>\n",
       "      <td>2</td>\n",
       "      <td>427.0</td>\n",
       "    </tr>\n",
       "  </tbody>\n",
       "</table>\n",
       "</div>"
      ],
      "text/plain": [
       "    user_id  month  distance_km  duration subscription_type  trips  \\\n",
       "0         1      1         7.03      42.0             ultra      2   \n",
       "1         1      4         0.75       7.0             ultra      1   \n",
       "2         1      8         6.72      45.0             ultra      2   \n",
       "3         1     10         5.81      32.0             ultra      2   \n",
       "4         1     11         7.00      54.0             ultra      3   \n",
       "5         1     12         6.75      28.0             ultra      2   \n",
       "6         2      3        10.19      61.0             ultra      3   \n",
       "7         2      4         6.17      40.0             ultra      2   \n",
       "8         2      6         3.26      14.0             ultra      1   \n",
       "9         2      7         6.78      47.0             ultra      2   \n",
       "10        2      8         0.92       7.0             ultra      1   \n",
       "11        2     10         2.82      19.0             ultra      1   \n",
       "12        2     12         3.83      12.0             ultra      1   \n",
       "13        3      1         3.06      13.0             ultra      1   \n",
       "14        3      2         5.42      38.0             ultra      2   \n",
       "\n",
       "    monthly_revenue  \n",
       "0             451.0  \n",
       "1             241.0  \n",
       "2             469.0  \n",
       "3             391.0  \n",
       "4             523.0  \n",
       "5             367.0  \n",
       "6             565.0  \n",
       "7             439.0  \n",
       "8             283.0  \n",
       "9             481.0  \n",
       "10            241.0  \n",
       "11            313.0  \n",
       "12            271.0  \n",
       "13            277.0  \n",
       "14            427.0  "
      ]
     },
     "execution_count": 74,
     "metadata": {},
     "output_type": "execute_result"
    }
   ],
   "source": [
    "aggregated_data.head(15)"
   ]
  },
  {
   "cell_type": "code",
   "execution_count": 75,
   "id": "95f4d008",
   "metadata": {},
   "outputs": [
    {
     "name": "stdout",
     "output_type": "stream",
     "text": [
      "<class 'pandas.core.frame.DataFrame'>\n",
      "RangeIndex: 11300 entries, 0 to 11299\n",
      "Data columns (total 7 columns):\n",
      " #   Column             Non-Null Count  Dtype  \n",
      "---  ------             --------------  -----  \n",
      " 0   user_id            11300 non-null  int64  \n",
      " 1   month              11300 non-null  int64  \n",
      " 2   distance_km        11300 non-null  float64\n",
      " 3   duration           11300 non-null  float64\n",
      " 4   subscription_type  11300 non-null  object \n",
      " 5   trips              11300 non-null  int64  \n",
      " 6   monthly_revenue    11300 non-null  float64\n",
      "dtypes: float64(3), int64(3), object(1)\n",
      "memory usage: 618.1+ KB\n"
     ]
    }
   ],
   "source": [
    "aggregated_data.info()"
   ]
  },
  {
   "cell_type": "markdown",
   "id": "3022cfe3",
   "metadata": {},
   "source": [
    "### Вывод:\n",
    "На шаге 5 был создан датафрейм с агрегированными данными о поездках, основанный на объединенных данных из шага 4. Добавлены суммарные значения расстояния, количества поездок и времени для каждого пользователя за каждый месяц. Также в датафрейм добавлен столбец с помесячной выручкой для каждого пользователя, учитывая условия оплаты для подписчиков и тех, у кого нет подписки. "
   ]
  },
  {
   "cell_type": "markdown",
   "id": "41545ac0",
   "metadata": {},
   "source": [
    "## Проверка гипотез"
   ]
  },
  {
   "cell_type": "markdown",
   "id": "8d17f97a",
   "metadata": {},
   "source": [
    "### Важно понять, тратят ли пользователи с подпиской больше времени на поездки? Если да, то пользователи с подпиской могут быть «выгоднее» для компании. Проверим гипотезу."
   ]
  },
  {
   "cell_type": "markdown",
   "id": "87c19cb7",
   "metadata": {},
   "source": [
    "Для проверки гипотезы о том, тратят ли пользователи с подпиской больше времени на поездки, можно воспользоваться статистическим анализом - t-тестом. В данном случае, сравним средние продолжительности поездок для пользователей с подпиской и без подписки.\n",
    "За нулевую гипотезу примем что они равны, альтернативная - с подпиской тратят больше времени на поездку"
   ]
  },
  {
   "cell_type": "code",
   "execution_count": 76,
   "id": "2739fad3",
   "metadata": {},
   "outputs": [],
   "source": [
    "from scipy import stats as st"
   ]
  },
  {
   "cell_type": "code",
   "execution_count": 77,
   "id": "47f26c2c",
   "metadata": {},
   "outputs": [],
   "source": [
    "# Разделим данные на две выборки: с подпиской и без подписки\n",
    "duration_subscription = final_data[final_data['subscription_type'] == 'ultra']['duration']\n",
    "duration_no_subscription = final_data[final_data['subscription_type'] == 'free']['duration']"
   ]
  },
  {
   "cell_type": "code",
   "execution_count": 78,
   "id": "94d8a5ea",
   "metadata": {},
   "outputs": [],
   "source": [
    "alpha = 0.05 # уровень статистической значимости"
   ]
  },
  {
   "cell_type": "code",
   "execution_count": 79,
   "id": "e98a79c7",
   "metadata": {},
   "outputs": [],
   "source": [
    "results = st.ttest_ind(duration_subscription, duration_no_subscription, alternative='greater')"
   ]
  },
  {
   "cell_type": "code",
   "execution_count": 80,
   "id": "293fb026",
   "metadata": {},
   "outputs": [
    {
     "name": "stdout",
     "output_type": "stream",
     "text": [
      "p-значение: 4.68327274119323e-28\n"
     ]
    }
   ],
   "source": [
    "print('p-значение:', results.pvalue)"
   ]
  },
  {
   "cell_type": "code",
   "execution_count": 81,
   "id": "a4c17329",
   "metadata": {},
   "outputs": [
    {
     "name": "stdout",
     "output_type": "stream",
     "text": [
      "Отвергаем нулевую гипотезу\n"
     ]
    }
   ],
   "source": [
    "if results.pvalue < alpha:\n",
    "    print('Отвергаем нулевую гипотезу')\n",
    "else:\n",
    "    print('Не получилось отвергнуть нулевую гипотезу') "
   ]
  },
  {
   "cell_type": "markdown",
   "id": "bda23d6f",
   "metadata": {},
   "source": [
    "Полученное значение p-value меньше заданного уровня значимости, поэтому можно отвергнуть нулевую гипотезу. Есть основания говорить, что пользователи с подпиской тратят больше времени на поездки."
   ]
  },
  {
   "cell_type": "markdown",
   "id": "3c17030e",
   "metadata": {},
   "source": [
    "### Расстояние одной поездки в 3130 метров — оптимальное с точки зрения износа самоката. Можно ли сказать, что среднее расстояние, которое проезжают пользователи с подпиской за одну поездку, не превышает 3130 метров? Проверим гипотезу "
   ]
  },
  {
   "cell_type": "markdown",
   "id": "06f2b447",
   "metadata": {},
   "source": [
    "В этом случае, нулевая гипотеза Ho: m <= 3130 m (среднее расстояние не превышает 3130 метров).\n",
    "Альтернативная гипотеза H1: m> 3130 (среднее расстояние превышает 3130 метров)."
   ]
  },
  {
   "cell_type": "code",
   "execution_count": 82,
   "id": "e63edd00",
   "metadata": {},
   "outputs": [],
   "source": [
    "interested_value = 3.130\n",
    "alpha = 0.05 # уровень статистической значимости"
   ]
  },
  {
   "cell_type": "code",
   "execution_count": 83,
   "id": "78de480b",
   "metadata": {},
   "outputs": [],
   "source": [
    "# Получим выборку с подпиской\n",
    "distance_subscription = final_data[final_data['subscription_type'] == 'ultra']['distance_km']"
   ]
  },
  {
   "cell_type": "code",
   "execution_count": 84,
   "id": "9a7c9a2a",
   "metadata": {},
   "outputs": [],
   "source": [
    "results = st.ttest_1samp(\n",
    "    distance_subscription, \n",
    "    interested_value)"
   ]
  },
  {
   "cell_type": "code",
   "execution_count": 85,
   "id": "8c43dab6",
   "metadata": {},
   "outputs": [
    {
     "name": "stdout",
     "output_type": "stream",
     "text": [
      "p-значение: 0.1601562785135761\n",
      "Не получилось отвергнуть нулевую гипотезу\n"
     ]
    }
   ],
   "source": [
    "print('p-значение:', results.pvalue)\n",
    "\n",
    "if results.pvalue < alpha:\n",
    "    print('Отвергаем нулевую гипотезу')\n",
    "else:\n",
    "    print('Не получилось отвергнуть нулевую гипотезу')"
   ]
  },
  {
   "cell_type": "markdown",
   "id": "2bfd1469",
   "metadata": {},
   "source": [
    "Полученное значение p-value равно 0.1601562785135761, что больше уровня статистической значимости alpha = 0.05. Поэтому мы не можем отвергнуть нулевую гипотезу. В данном контексте это означает, что нет достаточных статистических доказательств для того, чтобы утверждать, что среднее расстояние за одну поездку с подпиской \"ultra\" превышает 3130 метров."
   ]
  },
  {
   "cell_type": "markdown",
   "id": "03964a1a",
   "metadata": {},
   "source": [
    "Проверим теперь в MEТРАХ\n",
    "В этом случае, нулевая гипотеза Ho: m <= 3130 m (среднее расстояние не превышает 3130 метров). Альтернативная гипотеза H1: m> 3130 (среднее расстояние превышает 3130 метров)."
   ]
  },
  {
   "cell_type": "code",
   "execution_count": 86,
   "id": "a47eaecf",
   "metadata": {},
   "outputs": [],
   "source": [
    "interested_value = 3130\n",
    "alpha = 0.05 # уровень статистической значимости"
   ]
  },
  {
   "cell_type": "code",
   "execution_count": 87,
   "id": "56dd58ea",
   "metadata": {},
   "outputs": [],
   "source": [
    "# Получим выборку с подпиской\n",
    "distance_subscription = final_data[final_data['subscription_type'] == 'ultra']['distance']"
   ]
  },
  {
   "cell_type": "code",
   "execution_count": 88,
   "id": "ffd03b12",
   "metadata": {},
   "outputs": [],
   "source": [
    "results = st.ttest_1samp(\n",
    "    distance_subscription, \n",
    "    interested_value)"
   ]
  },
  {
   "cell_type": "code",
   "execution_count": 89,
   "id": "d389a6ef",
   "metadata": {},
   "outputs": [
    {
     "name": "stdout",
     "output_type": "stream",
     "text": [
      "p-значение: 0.16092623043004292\n",
      "Не получилось отвергнуть нулевую гипотезу\n"
     ]
    }
   ],
   "source": [
    "print('p-значение:', results.pvalue)\n",
    "\n",
    "if results.pvalue < alpha:\n",
    "    print('Отвергаем нулевую гипотезу')\n",
    "else:\n",
    "    print('Не получилось отвергнуть нулевую гипотезу')"
   ]
  },
  {
   "cell_type": "markdown",
   "id": "cf15f440",
   "metadata": {},
   "source": [
    "###  Проверим гипотезу о том, будет ли помесячная выручка от пользователей с подпиской по месяцам выше, чем выручка от пользователей без подписки. "
   ]
  },
  {
   "cell_type": "markdown",
   "id": "11633b91",
   "metadata": {},
   "source": [
    "Для проверки гипотезы о том, будет ли помесячная выручка от пользователей с подпиской по месяцам выше, чем выручка от пользователей без подписки, можно воспользоваться статистическим анализом - t-тестом. В данном случае, сравним выручки по месяцам для пользователей с подпиской и без.\n",
    "За нулевую гипотезу примем, что они равны, альтернативная - с подпиской выручка больше, чем без подписки"
   ]
  },
  {
   "cell_type": "code",
   "execution_count": 90,
   "id": "7a81b055",
   "metadata": {},
   "outputs": [],
   "source": [
    "# Разделим данные на две группы: пользователи с подпиской и без подписки\n",
    "df_subscription = aggregated_data[aggregated_data['subscription_type'] == 'ultra']\n",
    "df_no_subscription = aggregated_data[aggregated_data['subscription_type'] == 'free']"
   ]
  },
  {
   "cell_type": "code",
   "execution_count": 91,
   "id": "909157a5",
   "metadata": {},
   "outputs": [
    {
     "data": {
      "text/html": [
       "<div>\n",
       "<style scoped>\n",
       "    .dataframe tbody tr th:only-of-type {\n",
       "        vertical-align: middle;\n",
       "    }\n",
       "\n",
       "    .dataframe tbody tr th {\n",
       "        vertical-align: top;\n",
       "    }\n",
       "\n",
       "    .dataframe thead th {\n",
       "        text-align: right;\n",
       "    }\n",
       "</style>\n",
       "<table border=\"1\" class=\"dataframe\">\n",
       "  <thead>\n",
       "    <tr style=\"text-align: right;\">\n",
       "      <th></th>\n",
       "      <th>user_id</th>\n",
       "      <th>month</th>\n",
       "      <th>distance_km</th>\n",
       "      <th>duration</th>\n",
       "      <th>subscription_type</th>\n",
       "      <th>trips</th>\n",
       "      <th>monthly_revenue</th>\n",
       "    </tr>\n",
       "  </thead>\n",
       "  <tbody>\n",
       "    <tr>\n",
       "      <th>0</th>\n",
       "      <td>1</td>\n",
       "      <td>1</td>\n",
       "      <td>7.03</td>\n",
       "      <td>42.0</td>\n",
       "      <td>ultra</td>\n",
       "      <td>2</td>\n",
       "      <td>451.0</td>\n",
       "    </tr>\n",
       "    <tr>\n",
       "      <th>1</th>\n",
       "      <td>1</td>\n",
       "      <td>4</td>\n",
       "      <td>0.75</td>\n",
       "      <td>7.0</td>\n",
       "      <td>ultra</td>\n",
       "      <td>1</td>\n",
       "      <td>241.0</td>\n",
       "    </tr>\n",
       "    <tr>\n",
       "      <th>2</th>\n",
       "      <td>1</td>\n",
       "      <td>8</td>\n",
       "      <td>6.72</td>\n",
       "      <td>45.0</td>\n",
       "      <td>ultra</td>\n",
       "      <td>2</td>\n",
       "      <td>469.0</td>\n",
       "    </tr>\n",
       "    <tr>\n",
       "      <th>3</th>\n",
       "      <td>1</td>\n",
       "      <td>10</td>\n",
       "      <td>5.81</td>\n",
       "      <td>32.0</td>\n",
       "      <td>ultra</td>\n",
       "      <td>2</td>\n",
       "      <td>391.0</td>\n",
       "    </tr>\n",
       "    <tr>\n",
       "      <th>4</th>\n",
       "      <td>1</td>\n",
       "      <td>11</td>\n",
       "      <td>7.00</td>\n",
       "      <td>54.0</td>\n",
       "      <td>ultra</td>\n",
       "      <td>3</td>\n",
       "      <td>523.0</td>\n",
       "    </tr>\n",
       "    <tr>\n",
       "      <th>...</th>\n",
       "      <td>...</td>\n",
       "      <td>...</td>\n",
       "      <td>...</td>\n",
       "      <td>...</td>\n",
       "      <td>...</td>\n",
       "      <td>...</td>\n",
       "      <td>...</td>\n",
       "    </tr>\n",
       "    <tr>\n",
       "      <th>4528</th>\n",
       "      <td>699</td>\n",
       "      <td>6</td>\n",
       "      <td>4.07</td>\n",
       "      <td>17.0</td>\n",
       "      <td>ultra</td>\n",
       "      <td>1</td>\n",
       "      <td>301.0</td>\n",
       "    </tr>\n",
       "    <tr>\n",
       "      <th>4529</th>\n",
       "      <td>699</td>\n",
       "      <td>8</td>\n",
       "      <td>7.02</td>\n",
       "      <td>45.0</td>\n",
       "      <td>ultra</td>\n",
       "      <td>2</td>\n",
       "      <td>469.0</td>\n",
       "    </tr>\n",
       "    <tr>\n",
       "      <th>4530</th>\n",
       "      <td>699</td>\n",
       "      <td>9</td>\n",
       "      <td>6.37</td>\n",
       "      <td>31.0</td>\n",
       "      <td>ultra</td>\n",
       "      <td>2</td>\n",
       "      <td>385.0</td>\n",
       "    </tr>\n",
       "    <tr>\n",
       "      <th>4531</th>\n",
       "      <td>699</td>\n",
       "      <td>10</td>\n",
       "      <td>4.71</td>\n",
       "      <td>16.0</td>\n",
       "      <td>ultra</td>\n",
       "      <td>1</td>\n",
       "      <td>295.0</td>\n",
       "    </tr>\n",
       "    <tr>\n",
       "      <th>4532</th>\n",
       "      <td>699</td>\n",
       "      <td>12</td>\n",
       "      <td>3.20</td>\n",
       "      <td>26.0</td>\n",
       "      <td>ultra</td>\n",
       "      <td>1</td>\n",
       "      <td>355.0</td>\n",
       "    </tr>\n",
       "  </tbody>\n",
       "</table>\n",
       "<p>4533 rows × 7 columns</p>\n",
       "</div>"
      ],
      "text/plain": [
       "      user_id  month  distance_km  duration subscription_type  trips  \\\n",
       "0           1      1         7.03      42.0             ultra      2   \n",
       "1           1      4         0.75       7.0             ultra      1   \n",
       "2           1      8         6.72      45.0             ultra      2   \n",
       "3           1     10         5.81      32.0             ultra      2   \n",
       "4           1     11         7.00      54.0             ultra      3   \n",
       "...       ...    ...          ...       ...               ...    ...   \n",
       "4528      699      6         4.07      17.0             ultra      1   \n",
       "4529      699      8         7.02      45.0             ultra      2   \n",
       "4530      699      9         6.37      31.0             ultra      2   \n",
       "4531      699     10         4.71      16.0             ultra      1   \n",
       "4532      699     12         3.20      26.0             ultra      1   \n",
       "\n",
       "      monthly_revenue  \n",
       "0               451.0  \n",
       "1               241.0  \n",
       "2               469.0  \n",
       "3               391.0  \n",
       "4               523.0  \n",
       "...               ...  \n",
       "4528            301.0  \n",
       "4529            469.0  \n",
       "4530            385.0  \n",
       "4531            295.0  \n",
       "4532            355.0  \n",
       "\n",
       "[4533 rows x 7 columns]"
      ]
     },
     "execution_count": 91,
     "metadata": {},
     "output_type": "execute_result"
    }
   ],
   "source": [
    "df_subscription"
   ]
  },
  {
   "cell_type": "code",
   "execution_count": 92,
   "id": "b46a3cfc",
   "metadata": {},
   "outputs": [
    {
     "data": {
      "text/html": [
       "<div>\n",
       "<style scoped>\n",
       "    .dataframe tbody tr th:only-of-type {\n",
       "        vertical-align: middle;\n",
       "    }\n",
       "\n",
       "    .dataframe tbody tr th {\n",
       "        vertical-align: top;\n",
       "    }\n",
       "\n",
       "    .dataframe thead th {\n",
       "        text-align: right;\n",
       "    }\n",
       "</style>\n",
       "<table border=\"1\" class=\"dataframe\">\n",
       "  <thead>\n",
       "    <tr style=\"text-align: right;\">\n",
       "      <th></th>\n",
       "      <th>user_id</th>\n",
       "      <th>month</th>\n",
       "      <th>distance_km</th>\n",
       "      <th>duration</th>\n",
       "      <th>subscription_type</th>\n",
       "      <th>trips</th>\n",
       "      <th>monthly_revenue</th>\n",
       "    </tr>\n",
       "  </thead>\n",
       "  <tbody>\n",
       "    <tr>\n",
       "      <th>4533</th>\n",
       "      <td>700</td>\n",
       "      <td>1</td>\n",
       "      <td>2.52</td>\n",
       "      <td>15.0</td>\n",
       "      <td>free</td>\n",
       "      <td>1</td>\n",
       "      <td>170.0</td>\n",
       "    </tr>\n",
       "    <tr>\n",
       "      <th>4534</th>\n",
       "      <td>700</td>\n",
       "      <td>2</td>\n",
       "      <td>13.45</td>\n",
       "      <td>86.0</td>\n",
       "      <td>free</td>\n",
       "      <td>5</td>\n",
       "      <td>938.0</td>\n",
       "    </tr>\n",
       "    <tr>\n",
       "      <th>4535</th>\n",
       "      <td>700</td>\n",
       "      <td>3</td>\n",
       "      <td>3.80</td>\n",
       "      <td>19.0</td>\n",
       "      <td>free</td>\n",
       "      <td>1</td>\n",
       "      <td>202.0</td>\n",
       "    </tr>\n",
       "    <tr>\n",
       "      <th>4536</th>\n",
       "      <td>700</td>\n",
       "      <td>4</td>\n",
       "      <td>2.98</td>\n",
       "      <td>16.0</td>\n",
       "      <td>free</td>\n",
       "      <td>1</td>\n",
       "      <td>178.0</td>\n",
       "    </tr>\n",
       "    <tr>\n",
       "      <th>4537</th>\n",
       "      <td>700</td>\n",
       "      <td>6</td>\n",
       "      <td>5.93</td>\n",
       "      <td>29.0</td>\n",
       "      <td>free</td>\n",
       "      <td>2</td>\n",
       "      <td>332.0</td>\n",
       "    </tr>\n",
       "    <tr>\n",
       "      <th>...</th>\n",
       "      <td>...</td>\n",
       "      <td>...</td>\n",
       "      <td>...</td>\n",
       "      <td>...</td>\n",
       "      <td>...</td>\n",
       "      <td>...</td>\n",
       "      <td>...</td>\n",
       "    </tr>\n",
       "    <tr>\n",
       "      <th>11295</th>\n",
       "      <td>1534</td>\n",
       "      <td>6</td>\n",
       "      <td>3.41</td>\n",
       "      <td>25.0</td>\n",
       "      <td>free</td>\n",
       "      <td>2</td>\n",
       "      <td>300.0</td>\n",
       "    </tr>\n",
       "    <tr>\n",
       "      <th>11296</th>\n",
       "      <td>1534</td>\n",
       "      <td>8</td>\n",
       "      <td>7.62</td>\n",
       "      <td>48.0</td>\n",
       "      <td>free</td>\n",
       "      <td>2</td>\n",
       "      <td>484.0</td>\n",
       "    </tr>\n",
       "    <tr>\n",
       "      <th>11297</th>\n",
       "      <td>1534</td>\n",
       "      <td>9</td>\n",
       "      <td>4.93</td>\n",
       "      <td>23.0</td>\n",
       "      <td>free</td>\n",
       "      <td>1</td>\n",
       "      <td>234.0</td>\n",
       "    </tr>\n",
       "    <tr>\n",
       "      <th>11298</th>\n",
       "      <td>1534</td>\n",
       "      <td>11</td>\n",
       "      <td>13.35</td>\n",
       "      <td>77.0</td>\n",
       "      <td>free</td>\n",
       "      <td>4</td>\n",
       "      <td>816.0</td>\n",
       "    </tr>\n",
       "    <tr>\n",
       "      <th>11299</th>\n",
       "      <td>1534</td>\n",
       "      <td>12</td>\n",
       "      <td>2.37</td>\n",
       "      <td>16.0</td>\n",
       "      <td>free</td>\n",
       "      <td>1</td>\n",
       "      <td>178.0</td>\n",
       "    </tr>\n",
       "  </tbody>\n",
       "</table>\n",
       "<p>6767 rows × 7 columns</p>\n",
       "</div>"
      ],
      "text/plain": [
       "       user_id  month  distance_km  duration subscription_type  trips  \\\n",
       "4533       700      1         2.52      15.0              free      1   \n",
       "4534       700      2        13.45      86.0              free      5   \n",
       "4535       700      3         3.80      19.0              free      1   \n",
       "4536       700      4         2.98      16.0              free      1   \n",
       "4537       700      6         5.93      29.0              free      2   \n",
       "...        ...    ...          ...       ...               ...    ...   \n",
       "11295     1534      6         3.41      25.0              free      2   \n",
       "11296     1534      8         7.62      48.0              free      2   \n",
       "11297     1534      9         4.93      23.0              free      1   \n",
       "11298     1534     11        13.35      77.0              free      4   \n",
       "11299     1534     12         2.37      16.0              free      1   \n",
       "\n",
       "       monthly_revenue  \n",
       "4533             170.0  \n",
       "4534             938.0  \n",
       "4535             202.0  \n",
       "4536             178.0  \n",
       "4537             332.0  \n",
       "...                ...  \n",
       "11295            300.0  \n",
       "11296            484.0  \n",
       "11297            234.0  \n",
       "11298            816.0  \n",
       "11299            178.0  \n",
       "\n",
       "[6767 rows x 7 columns]"
      ]
     },
     "execution_count": 92,
     "metadata": {},
     "output_type": "execute_result"
    }
   ],
   "source": [
    "df_no_subscription"
   ]
  },
  {
   "cell_type": "code",
   "execution_count": 93,
   "id": "6788e621",
   "metadata": {},
   "outputs": [],
   "source": [
    "# Выполним t-тест для сравнения выручки между двумя группами\n",
    "results = st.ttest_ind(df_subscription['monthly_revenue'], df_no_subscription['monthly_revenue'], alternative='greater', equal_var=False)"
   ]
  },
  {
   "cell_type": "code",
   "execution_count": 94,
   "id": "cfaa1400",
   "metadata": {},
   "outputs": [
    {
     "name": "stdout",
     "output_type": "stream",
     "text": [
      "p-значение: 3.740263628220316e-43\n",
      "Отвергаем нулевую гипотезу.  Существуют статистически значимые различия в выручке.\n"
     ]
    }
   ],
   "source": [
    "# Определим уровень значимости\n",
    "alpha = 0.05\n",
    "print('p-значение:', results.pvalue)\n",
    "\n",
    "if results.pvalue < alpha:\n",
    "    print('Отвергаем нулевую гипотезу.  Существуют статистически значимые различия в выручке.')\n",
    "else:\n",
    "    print('Не отвергаем нулевую гипотезу. Статистически значимых различий в выручке нет или выручка от пользователей с подпиской не меньше выручки от пользователей без подписки.') "
   ]
  },
  {
   "cell_type": "markdown",
   "id": "95faa4d5",
   "metadata": {},
   "source": [
    "В данном случае, мы используем alternative='greater', чтобы указать, что интересует нас направление \"больше\". Полученное p-значение (1.257780646441438e-45) говорит о том, что мы отвергаем нулевую гипотезу о равенстве выручки от пользователей с подпиской и без подписки в пользу альтернативной гипотезы, что выручка от пользователей с подпиской по месяцам статистически значимо выше, чем у пользователей без подписки.\n",
    "Таким образом, можно сделать вывод о том, что существуют статистически значимые различия в выручке от пользователей с подпиской и без подписки, причем выручка от пользователей с подпиской статистически значимо выше."
   ]
  },
  {
   "cell_type": "markdown",
   "id": "cc1a5e65",
   "metadata": {},
   "source": [
    "### Представим такую ситуацию: техническая команда сервиса обновила сервера, с которыми взаимодействует мобильное приложение. Она надеется, что из-за этого количество обращений в техподдержку значимо снизилось. Некоторый файл содержит для каждого пользователя данные о количестве обращений до обновления и после него. Какой тест  понадобился бы для проверки этой гипотезы?"
   ]
  },
  {
   "cell_type": "markdown",
   "id": "a5f79c80",
   "metadata": {},
   "source": [
    "Для проверки гипотезы о том, что обновление серверов снизило количество обращений в техподдержку, можно использовать статистический тест для сравнения средних двух групп до и после обновления - t-тест для связанных выборок.\n",
    "Нулевая гипотеза (H0) может быть сформулирована следующим образом:среднее количество обращений до обновления и после равны m1=m2\n",
    "Альтернативная гипотеза (H1) будет утверждать, что количество обращений снизилось: m1>m2"
   ]
  },
  {
   "cell_type": "markdown",
   "id": "6f410516",
   "metadata": {},
   "source": [
    "### Вывод:\n",
    "Анализ проведенных гипотез позволяет сделать следующие выводы:1)Пользователи с подпиской проводят больше времени на поездках по сравнению с теми, у кого подписки нет. 2) Среднее расстояние за одну поездку у пользователей с подпиской \"ultra\" не превышает 3130 метров. 3) Месячная выручка от пользователей с подпиской статистически значимо выше, чем у пользователей без подписки. 4) Для проверки гипотезы о снижении обращений в техподдержку после обновления серверов предлагается использовать t-тест для связанных выборок."
   ]
  },
  {
   "cell_type": "markdown",
   "id": "61213c5e",
   "metadata": {},
   "source": [
    "## Распределения"
   ]
  },
  {
   "cell_type": "markdown",
   "id": "6f29cf57",
   "metadata": {},
   "source": [
    "###  Отделу маркетинга GoFast поставили задачу: нужно провести акцию с раздачей промокодов на один бесплатный месяц подписки, в рамках которой как минимум 100 существующих клиентов должны продлить эту подписку. То есть по завершении периода действия подписки пользователь может либо отказаться от неё, либо продлить, совершив соответствующий платёж. Эта акция уже проводилась ранее и по итогу выяснилось, что после бесплатного пробного периода подписку продлевают 10 % пользователей. Выясним, какое минимальное количество промокодов нужно разослать, чтобы вероятность не выполнить план была примерно 5 %. Подберем параметры распределения, описывающего эту ситуацию, построим график распределения и дадим ответ на вопрос о количестве промокодов."
   ]
  },
  {
   "cell_type": "code",
   "execution_count": 95,
   "id": "88d7fcd1",
   "metadata": {},
   "outputs": [],
   "source": [
    "# Заданные параметры\n",
    "p_success = 0.1  # Вероятность продления подписки после использования промокода\n",
    "target_probability = 0.05  # Вероятность не выполнения плана"
   ]
  },
  {
   "cell_type": "code",
   "execution_count": 96,
   "id": "b2d33862",
   "metadata": {},
   "outputs": [],
   "source": [
    "# Подберем значение n с шагом = 1\n",
    "n_values = np.arange(1, 5000)\n",
    "probabilities = binom.cdf(99, n_values, p_success)  # используем функцию распределения"
   ]
  },
  {
   "cell_type": "code",
   "execution_count": 97,
   "id": "8bd58ad4",
   "metadata": {},
   "outputs": [
    {
     "data": {
      "image/png": "[encoded data removed]",
      "text/plain": [
       "<Figure size 432x288 with 1 Axes>"
      ]
     },
     "metadata": {
      "needs_background": "light"
     },
     "output_type": "display_data"
    }
   ],
   "source": [
    "# Построим график\n",
    "plt.plot(n_values, 1 - probabilities, marker='o')  # используем 1 - P(X < 100) для вероятности P(X > 100)\n",
    "plt.xlabel('Количество промокодов (n)')\n",
    "plt.ylabel('Вероятность (P(X > 100))')\n",
    "plt.title('Зависимость вероятности от количества промокодов')\n",
    "plt.grid(True)\n",
    "plt.show()"
   ]
  },
  {
   "cell_type": "code",
   "execution_count": 98,
   "id": "82fbb004",
   "metadata": {},
   "outputs": [],
   "source": [
    "# Определим минимальное значение n, при котором вероятность не выполнения плана составляет примерно 0.05\n",
    "min_n_index = np.argmax(1 - probabilities > target_probability)\n",
    "min_n = n_values[min_n_index]"
   ]
  },
  {
   "cell_type": "code",
   "execution_count": 99,
   "id": "713ffa98",
   "metadata": {},
   "outputs": [
    {
     "data": {
      "text/plain": [
       "850"
      ]
     },
     "execution_count": 99,
     "metadata": {},
     "output_type": "execute_result"
    }
   ],
   "source": [
    "min_n "
   ]
  },
  {
   "cell_type": "code",
   "execution_count": 100,
   "id": "a4c4aca5",
   "metadata": {},
   "outputs": [
    {
     "data": {
      "text/plain": [
       "1.0"
      ]
     },
     "execution_count": 100,
     "metadata": {},
     "output_type": "execute_result"
    }
   ],
   "source": [
    "# Код ревьюера\n",
    "probabilities[0]"
   ]
  },
  {
   "cell_type": "markdown",
   "id": "bdf5deea",
   "metadata": {},
   "source": [
    "Таким образом, для выполнения плана, который состоит в том, чтобы как минимум 100 существующих клиентов продлили подписку после использования промокодов, необходимо разослать примерно 850 промокодов на бесплатный месяц подписки. Вероятность того, что при таком количестве промокодов более 100 пользователей продлят подписку, составляет примерно 5%."
   ]
  },
  {
   "cell_type": "markdown",
   "id": "6be89c81",
   "metadata": {},
   "source": [
    "### Отдел маркетинга рассылает клиентам push-уведомления в мобильном приложении. Клиенты могут открыть его или не открывать. Известно, что уведомления открывают около 40 % получивших клиентов. Отдел планирует разослать 1 млн уведомлений. С помощью аппроксимации построим примерный график распределения и оценим вероятность того, что уведомление откроют не более 399,5 тыс. пользователей."
   ]
  },
  {
   "cell_type": "code",
   "execution_count": 101,
   "id": "b2e84eb8",
   "metadata": {},
   "outputs": [],
   "source": [
    "# Вероятность открытия уведомления\n",
    "p = 0.40"
   ]
  },
  {
   "cell_type": "code",
   "execution_count": 102,
   "id": "1709eea9",
   "metadata": {},
   "outputs": [],
   "source": [
    "# Общее количество уведомлений\n",
    "n = 1000000"
   ]
  },
  {
   "cell_type": "code",
   "execution_count": 103,
   "id": "fb8c18ba",
   "metadata": {},
   "outputs": [],
   "source": [
    "# Параметры нормального распределения\n",
    "mu = n * p\n",
    "sigma = sqrt(n * p * (1 - p))\n",
    "distr = st.norm(mu,sigma)"
   ]
  },
  {
   "cell_type": "code",
   "execution_count": 104,
   "id": "3439071e",
   "metadata": {},
   "outputs": [],
   "source": [
    "#cчитаем вероятность хвоста слева от 399 500\n",
    "result = distr.cdf(399500)"
   ]
  },
  {
   "cell_type": "code",
   "execution_count": 105,
   "id": "4e62a02e",
   "metadata": {},
   "outputs": [
    {
     "data": {
      "text/plain": [
       "0.15371708296369768"
      ]
     },
     "execution_count": 105,
     "metadata": {},
     "output_type": "execute_result"
    }
   ],
   "source": [
    "result"
   ]
  },
  {
   "cell_type": "markdown",
   "id": "77e78708",
   "metadata": {},
   "source": [
    "Таким образом, результат 0.1537 указывает на то, что вероятность того, что уведомление откроют не более 399,5 тыс. пользователей, составляет примерно 15.37%, что означает, что большинство пользователей не откроют уведомление."
   ]
  },
  {
   "cell_type": "markdown",
   "id": "609d76b3",
   "metadata": {},
   "source": [
    "Для выполнения плана и обеспечения продления подписки как минимум 100 клиентами, необходимо разослать примерно 850 промокодов. Это обеспечит вероятность более 5% того, что более 100 пользователей воспользуются промокодами. В случае рассылки 1 млн уведомлений о push-уведомлениях, вероятность того, что не более 399,5 тыс. пользователей откроют уведомление, составляет примерно 15.37%. Это говорит о том, что большинство пользователей не будет открывать уведомления."
   ]
  },
  {
   "cell_type": "markdown",
   "id": "546ae0bd",
   "metadata": {},
   "source": [
    "## Вывод\n",
    "В данной аналитической работе проведен полный цикл анализа данных для сервиса аренды самокатов GoFast. Выполнены задачи по загрузке, предобработке и исследовательскому анализу данных. Объединены данные о пользователях, поездках и подписках, а также подсчитана выручка. Проверены гипотезы о поведении пользователей с подпиской и без, а также проведена аналитика распределения для акций.\n",
    "Анализ гипотез позволил сделать следующие выводы и рекомендации для бизнеса.Пользователи с подпиской активнее пользуются сервисом, проводя больше времени на поездках. Это предоставляет потенциал для более эффективного маркетинга и удержания подписчиков.Среднее расстояние за поездку у пользователей с подпиской \"ultra\" не превышает 3130 метров, что соответствует оптимальным параметрам. Это подтверждает привлекательность данной подписки для пользователей.\n",
    "Статистически значимое увеличение месячной выручки от пользователей с подпиской подчеркивает их важность для финансового успеха компании. Для успешной акции по продлению подписок рекомендуется разослать примерно 850 промокодов, обеспечивая вероятность более 5% успешных продлений. При рассылке 1 млн push-уведомлений ожидается, что менее 399,5 тыс. пользователей откроют уведомление. Рекомендуется пересмотреть стратегию рассылок для повышения их эффективности."
   ]
  }
 ],
 "metadata": {
  "ExecuteTimeLog": [
   {
    "duration": 364,
    "start_time": "2023-12-08T06:05:13.911Z"
   },
   {
    "duration": 74,
    "start_time": "2023-12-08T06:05:14.276Z"
   },
   {
    "duration": 69,
    "start_time": "2023-12-08T06:05:14.351Z"
   },
   {
    "duration": 51,
    "start_time": "2023-12-08T06:05:14.421Z"
   },
   {
    "duration": 3,
    "start_time": "2023-12-08T06:06:05.722Z"
   },
   {
    "duration": 33,
    "start_time": "2023-12-08T06:06:05.726Z"
   },
   {
    "duration": 17,
    "start_time": "2023-12-08T06:06:05.761Z"
   },
   {
    "duration": 10,
    "start_time": "2023-12-08T06:06:05.780Z"
   },
   {
    "duration": 52,
    "start_time": "2023-12-08T06:06:05.791Z"
   },
   {
    "duration": 14,
    "start_time": "2023-12-08T06:06:05.845Z"
   },
   {
    "duration": 2,
    "start_time": "2023-12-08T06:06:58.073Z"
   },
   {
    "duration": 27,
    "start_time": "2023-12-08T06:06:58.078Z"
   },
   {
    "duration": 11,
    "start_time": "2023-12-08T06:06:58.112Z"
   },
   {
    "duration": 10,
    "start_time": "2023-12-08T06:06:58.125Z"
   },
   {
    "duration": 31,
    "start_time": "2023-12-08T06:06:58.136Z"
   },
   {
    "duration": 11,
    "start_time": "2023-12-08T06:06:58.168Z"
   },
   {
    "duration": 11,
    "start_time": "2023-12-08T06:06:58.180Z"
   },
   {
    "duration": 14,
    "start_time": "2023-12-08T06:06:58.193Z"
   },
   {
    "duration": 6,
    "start_time": "2023-12-08T06:06:58.208Z"
   },
   {
    "duration": 19,
    "start_time": "2023-12-08T06:06:58.215Z"
   },
   {
    "duration": 2,
    "start_time": "2023-12-08T06:08:15.403Z"
   },
   {
    "duration": 36,
    "start_time": "2023-12-08T06:08:15.407Z"
   },
   {
    "duration": 9,
    "start_time": "2023-12-08T06:08:15.444Z"
   },
   {
    "duration": 10,
    "start_time": "2023-12-08T06:08:15.455Z"
   },
   {
    "duration": 27,
    "start_time": "2023-12-08T06:08:15.467Z"
   },
   {
    "duration": 8,
    "start_time": "2023-12-08T06:08:15.496Z"
   },
   {
    "duration": 11,
    "start_time": "2023-12-08T06:08:15.506Z"
   },
   {
    "duration": 14,
    "start_time": "2023-12-08T06:08:15.518Z"
   },
   {
    "duration": 6,
    "start_time": "2023-12-08T06:08:15.534Z"
   },
   {
    "duration": 9,
    "start_time": "2023-12-08T06:08:15.541Z"
   },
   {
    "duration": 64,
    "start_time": "2023-12-08T07:07:26.175Z"
   },
   {
    "duration": 2,
    "start_time": "2023-12-08T07:09:27.934Z"
   },
   {
    "duration": 28,
    "start_time": "2023-12-08T07:09:28.012Z"
   },
   {
    "duration": 8,
    "start_time": "2023-12-08T07:09:28.041Z"
   },
   {
    "duration": 9,
    "start_time": "2023-12-08T07:09:28.050Z"
   },
   {
    "duration": 32,
    "start_time": "2023-12-08T07:09:28.061Z"
   },
   {
    "duration": 7,
    "start_time": "2023-12-08T07:09:28.094Z"
   },
   {
    "duration": 9,
    "start_time": "2023-12-08T07:09:28.217Z"
   },
   {
    "duration": 20,
    "start_time": "2023-12-08T07:09:28.228Z"
   },
   {
    "duration": 7,
    "start_time": "2023-12-08T07:09:28.249Z"
   },
   {
    "duration": 10,
    "start_time": "2023-12-08T07:09:28.257Z"
   },
   {
    "duration": 4,
    "start_time": "2023-12-08T07:09:28.269Z"
   },
   {
    "duration": 9,
    "start_time": "2023-12-08T07:09:28.274Z"
   },
   {
    "duration": 9,
    "start_time": "2023-12-08T07:09:44.833Z"
   },
   {
    "duration": 9,
    "start_time": "2023-12-08T07:09:59.332Z"
   },
   {
    "duration": 4,
    "start_time": "2023-12-08T07:13:19.901Z"
   },
   {
    "duration": 9,
    "start_time": "2023-12-08T07:13:30.244Z"
   },
   {
    "duration": 1331,
    "start_time": "2023-12-08T07:24:34.167Z"
   },
   {
    "duration": 378,
    "start_time": "2023-12-08T07:26:04.601Z"
   },
   {
    "duration": 436,
    "start_time": "2023-12-08T07:26:23.629Z"
   },
   {
    "duration": 384,
    "start_time": "2023-12-08T07:26:33.344Z"
   },
   {
    "duration": 561,
    "start_time": "2023-12-08T07:26:45.573Z"
   },
   {
    "duration": 512,
    "start_time": "2023-12-08T07:26:52.673Z"
   },
   {
    "duration": 385,
    "start_time": "2023-12-08T07:27:05.617Z"
   },
   {
    "duration": 304,
    "start_time": "2023-12-08T07:27:21.022Z"
   },
   {
    "duration": 231,
    "start_time": "2023-12-08T07:27:31.833Z"
   },
   {
    "duration": 69,
    "start_time": "2023-12-08T07:27:38.954Z"
   },
   {
    "duration": 207,
    "start_time": "2023-12-08T07:27:56.589Z"
   },
   {
    "duration": 206,
    "start_time": "2023-12-08T07:28:04.404Z"
   },
   {
    "duration": 208,
    "start_time": "2023-12-08T07:28:16.462Z"
   },
   {
    "duration": 5,
    "start_time": "2023-12-08T08:09:15.098Z"
   },
   {
    "duration": 9,
    "start_time": "2023-12-08T08:11:23.116Z"
   },
   {
    "duration": 45,
    "start_time": "2023-12-11T06:17:45.214Z"
   },
   {
    "duration": 424,
    "start_time": "2023-12-11T06:17:49.653Z"
   },
   {
    "duration": 85,
    "start_time": "2023-12-11T06:17:50.080Z"
   },
   {
    "duration": 20,
    "start_time": "2023-12-11T06:17:50.167Z"
   },
   {
    "duration": 13,
    "start_time": "2023-12-11T06:17:50.188Z"
   },
   {
    "duration": 745,
    "start_time": "2023-12-11T06:17:50.204Z"
   },
   {
    "duration": 144,
    "start_time": "2023-12-11T06:17:50.952Z"
   },
   {
    "duration": 11,
    "start_time": "2023-12-11T06:17:51.098Z"
   },
   {
    "duration": 54,
    "start_time": "2023-12-11T06:17:51.111Z"
   },
   {
    "duration": 502,
    "start_time": "2023-12-11T06:17:51.167Z"
   },
   {
    "duration": 66,
    "start_time": "2023-12-11T06:17:51.670Z"
   },
   {
    "duration": 8,
    "start_time": "2023-12-11T06:17:51.737Z"
   },
   {
    "duration": 24,
    "start_time": "2023-12-11T06:17:51.746Z"
   },
   {
    "duration": 11,
    "start_time": "2023-12-11T06:17:51.773Z"
   },
   {
    "duration": 44,
    "start_time": "2023-12-11T06:17:51.786Z"
   },
   {
    "duration": 19,
    "start_time": "2023-12-11T06:17:51.831Z"
   },
   {
    "duration": 13,
    "start_time": "2023-12-11T06:17:51.852Z"
   },
   {
    "duration": 14,
    "start_time": "2023-12-11T06:17:51.867Z"
   },
   {
    "duration": 16,
    "start_time": "2023-12-11T06:17:51.882Z"
   },
   {
    "duration": 25,
    "start_time": "2023-12-11T06:17:51.899Z"
   },
   {
    "duration": 6,
    "start_time": "2023-12-11T06:20:25.940Z"
   },
   {
    "duration": 8,
    "start_time": "2023-12-11T06:20:46.640Z"
   },
   {
    "duration": 5,
    "start_time": "2023-12-11T06:21:21.811Z"
   },
   {
    "duration": 7,
    "start_time": "2023-12-11T06:25:41.643Z"
   },
   {
    "duration": 10,
    "start_time": "2023-12-11T06:26:19.260Z"
   },
   {
    "duration": 4,
    "start_time": "2023-12-11T06:27:23.656Z"
   },
   {
    "duration": 5,
    "start_time": "2023-12-11T06:27:34.894Z"
   },
   {
    "duration": 4,
    "start_time": "2023-12-11T06:28:08.153Z"
   },
   {
    "duration": 5,
    "start_time": "2023-12-11T06:28:17.484Z"
   },
   {
    "duration": 251,
    "start_time": "2023-12-11T06:32:27.137Z"
   },
   {
    "duration": 135,
    "start_time": "2023-12-11T06:32:36.515Z"
   },
   {
    "duration": 122,
    "start_time": "2023-12-11T06:32:48.903Z"
   },
   {
    "duration": 148,
    "start_time": "2023-12-11T06:32:58.107Z"
   },
   {
    "duration": 11,
    "start_time": "2023-12-11T07:13:20.141Z"
   },
   {
    "duration": 16,
    "start_time": "2023-12-11T07:13:54.717Z"
   },
   {
    "duration": 4,
    "start_time": "2023-12-11T07:14:44.725Z"
   },
   {
    "duration": 11,
    "start_time": "2023-12-11T07:14:53.614Z"
   },
   {
    "duration": 936,
    "start_time": "2023-12-11T07:15:37.502Z"
   },
   {
    "duration": 774,
    "start_time": "2023-12-11T07:15:41.855Z"
   },
   {
    "duration": 141,
    "start_time": "2023-12-11T07:16:04.912Z"
   },
   {
    "duration": 21,
    "start_time": "2023-12-11T07:17:25.162Z"
   },
   {
    "duration": 18,
    "start_time": "2023-12-11T07:17:33.917Z"
   },
   {
    "duration": 3,
    "start_time": "2023-12-11T07:19:35.161Z"
   },
   {
    "duration": 11,
    "start_time": "2023-12-11T07:19:43.046Z"
   },
   {
    "duration": 145,
    "start_time": "2023-12-11T07:20:25.036Z"
   },
   {
    "duration": 7,
    "start_time": "2023-12-11T07:39:42.933Z"
   },
   {
    "duration": 8,
    "start_time": "2023-12-11T07:44:00.725Z"
   },
   {
    "duration": 8,
    "start_time": "2023-12-11T07:44:06.699Z"
   },
   {
    "duration": 8,
    "start_time": "2023-12-11T07:44:10.957Z"
   },
   {
    "duration": 8,
    "start_time": "2023-12-11T07:44:16.745Z"
   },
   {
    "duration": 13,
    "start_time": "2023-12-11T07:44:21.305Z"
   },
   {
    "duration": 9,
    "start_time": "2023-12-11T07:45:47.018Z"
   },
   {
    "duration": 13,
    "start_time": "2023-12-11T07:54:07.315Z"
   },
   {
    "duration": 11,
    "start_time": "2023-12-11T07:54:08.248Z"
   },
   {
    "duration": 16,
    "start_time": "2023-12-11T07:54:48.152Z"
   },
   {
    "duration": 10,
    "start_time": "2023-12-11T07:59:01.316Z"
   },
   {
    "duration": 5,
    "start_time": "2023-12-11T07:59:02.282Z"
   },
   {
    "duration": 16,
    "start_time": "2023-12-11T07:59:27.733Z"
   },
   {
    "duration": 5,
    "start_time": "2023-12-11T07:59:35.832Z"
   },
   {
    "duration": 15,
    "start_time": "2023-12-11T07:59:51.461Z"
   },
   {
    "duration": 255,
    "start_time": "2023-12-11T08:10:43.416Z"
   },
   {
    "duration": 477,
    "start_time": "2023-12-11T08:12:08.667Z"
   },
   {
    "duration": 396,
    "start_time": "2023-12-11T08:13:53.783Z"
   },
   {
    "duration": 13,
    "start_time": "2023-12-11T08:24:45.770Z"
   },
   {
    "duration": 12,
    "start_time": "2023-12-11T08:25:04.516Z"
   },
   {
    "duration": 5,
    "start_time": "2023-12-11T08:26:04.870Z"
   },
   {
    "duration": 6,
    "start_time": "2023-12-11T08:26:56.549Z"
   },
   {
    "duration": 3,
    "start_time": "2023-12-11T08:35:03.873Z"
   },
   {
    "duration": 5,
    "start_time": "2023-12-11T08:35:31.431Z"
   },
   {
    "duration": 10,
    "start_time": "2023-12-11T08:35:46.773Z"
   },
   {
    "duration": 2,
    "start_time": "2023-12-11T08:36:53.203Z"
   },
   {
    "duration": 31,
    "start_time": "2023-12-11T08:36:53.207Z"
   },
   {
    "duration": 9,
    "start_time": "2023-12-11T08:36:53.240Z"
   },
   {
    "duration": 16,
    "start_time": "2023-12-11T08:36:53.251Z"
   },
   {
    "duration": 339,
    "start_time": "2023-12-11T08:36:53.269Z"
   },
   {
    "duration": 27,
    "start_time": "2023-12-11T08:36:53.610Z"
   },
   {
    "duration": 8,
    "start_time": "2023-12-11T08:36:53.639Z"
   },
   {
    "duration": 14,
    "start_time": "2023-12-11T08:36:53.648Z"
   },
   {
    "duration": 437,
    "start_time": "2023-12-11T08:36:53.663Z"
   },
   {
    "duration": 15,
    "start_time": "2023-12-11T08:36:54.103Z"
   },
   {
    "duration": 14,
    "start_time": "2023-12-11T08:36:54.121Z"
   },
   {
    "duration": 9,
    "start_time": "2023-12-11T08:36:54.136Z"
   },
   {
    "duration": 17,
    "start_time": "2023-12-11T08:36:54.146Z"
   },
   {
    "duration": 14,
    "start_time": "2023-12-11T08:36:54.164Z"
   },
   {
    "duration": 5,
    "start_time": "2023-12-11T08:36:54.180Z"
   },
   {
    "duration": 23,
    "start_time": "2023-12-11T08:36:54.186Z"
   },
   {
    "duration": 14,
    "start_time": "2023-12-11T08:36:54.211Z"
   },
   {
    "duration": 12,
    "start_time": "2023-12-11T08:36:54.230Z"
   },
   {
    "duration": 11,
    "start_time": "2023-12-11T08:36:54.243Z"
   },
   {
    "duration": 9,
    "start_time": "2023-12-11T08:36:54.255Z"
   },
   {
    "duration": 5,
    "start_time": "2023-12-11T08:36:54.266Z"
   },
   {
    "duration": 11,
    "start_time": "2023-12-11T08:36:54.273Z"
   },
   {
    "duration": 12,
    "start_time": "2023-12-11T08:36:54.285Z"
   },
   {
    "duration": 7,
    "start_time": "2023-12-11T08:36:54.298Z"
   },
   {
    "duration": 29,
    "start_time": "2023-12-11T08:36:54.306Z"
   },
   {
    "duration": 20,
    "start_time": "2023-12-11T08:36:54.337Z"
   },
   {
    "duration": 5,
    "start_time": "2023-12-11T08:36:54.359Z"
   },
   {
    "duration": 8,
    "start_time": "2023-12-11T08:36:54.366Z"
   },
   {
    "duration": 3,
    "start_time": "2023-12-11T08:36:54.378Z"
   },
   {
    "duration": 11,
    "start_time": "2023-12-11T08:36:54.383Z"
   },
   {
    "duration": 191,
    "start_time": "2023-12-11T08:36:54.396Z"
   },
   {
    "duration": 5,
    "start_time": "2023-12-11T08:36:54.588Z"
   },
   {
    "duration": 17,
    "start_time": "2023-12-11T08:36:54.595Z"
   },
   {
    "duration": 20,
    "start_time": "2023-12-11T08:36:54.614Z"
   },
   {
    "duration": 24,
    "start_time": "2023-12-11T08:36:54.635Z"
   },
   {
    "duration": 138,
    "start_time": "2023-12-11T08:36:54.661Z"
   },
   {
    "duration": 4,
    "start_time": "2023-12-11T08:36:54.801Z"
   },
   {
    "duration": 25,
    "start_time": "2023-12-11T08:36:54.806Z"
   },
   {
    "duration": 137,
    "start_time": "2023-12-11T08:36:54.833Z"
   },
   {
    "duration": 10,
    "start_time": "2023-12-11T08:36:54.972Z"
   },
   {
    "duration": 10,
    "start_time": "2023-12-11T08:36:54.984Z"
   },
   {
    "duration": 36,
    "start_time": "2023-12-11T08:36:54.996Z"
   },
   {
    "duration": 12,
    "start_time": "2023-12-11T08:36:55.035Z"
   },
   {
    "duration": 16,
    "start_time": "2023-12-11T08:36:55.049Z"
   },
   {
    "duration": 7,
    "start_time": "2023-12-11T08:36:55.067Z"
   },
   {
    "duration": 28,
    "start_time": "2023-12-11T08:36:55.076Z"
   },
   {
    "duration": 481,
    "start_time": "2023-12-11T08:36:55.105Z"
   },
   {
    "duration": 14,
    "start_time": "2023-12-11T08:36:55.588Z"
   },
   {
    "duration": 30,
    "start_time": "2023-12-11T08:36:55.603Z"
   },
   {
    "duration": 3,
    "start_time": "2023-12-11T08:36:55.636Z"
   },
   {
    "duration": 6,
    "start_time": "2023-12-11T08:36:55.641Z"
   },
   {
    "duration": 12,
    "start_time": "2023-12-11T08:36:55.649Z"
   },
   {
    "duration": 7,
    "start_time": "2023-12-11T08:36:55.663Z"
   },
   {
    "duration": 16,
    "start_time": "2023-12-11T08:36:55.672Z"
   },
   {
    "duration": 959,
    "start_time": "2023-12-11T08:39:13.496Z"
   },
   {
    "duration": 407,
    "start_time": "2023-12-11T10:28:18.349Z"
   },
   {
    "duration": 15,
    "start_time": "2023-12-11T10:28:18.907Z"
   },
   {
    "duration": 3,
    "start_time": "2023-12-11T10:28:19.403Z"
   },
   {
    "duration": 4,
    "start_time": "2023-12-11T10:28:20.237Z"
   },
   {
    "duration": 3,
    "start_time": "2023-12-11T10:28:20.965Z"
   },
   {
    "duration": 4,
    "start_time": "2023-12-11T10:28:22.065Z"
   },
   {
    "duration": 2,
    "start_time": "2023-12-11T10:37:49.601Z"
   },
   {
    "duration": 33,
    "start_time": "2023-12-11T10:37:49.606Z"
   },
   {
    "duration": 11,
    "start_time": "2023-12-11T10:37:49.641Z"
   },
   {
    "duration": 24,
    "start_time": "2023-12-11T10:37:49.653Z"
   },
   {
    "duration": 269,
    "start_time": "2023-12-11T10:37:49.679Z"
   },
   {
    "duration": 31,
    "start_time": "2023-12-11T10:37:49.950Z"
   },
   {
    "duration": 10,
    "start_time": "2023-12-11T10:37:49.983Z"
   },
   {
    "duration": 18,
    "start_time": "2023-12-11T10:37:49.994Z"
   },
   {
    "duration": 493,
    "start_time": "2023-12-11T10:37:50.013Z"
   },
   {
    "duration": 16,
    "start_time": "2023-12-11T10:37:50.508Z"
   },
   {
    "duration": 8,
    "start_time": "2023-12-11T10:37:50.527Z"
   },
   {
    "duration": 12,
    "start_time": "2023-12-11T10:37:50.537Z"
   },
   {
    "duration": 11,
    "start_time": "2023-12-11T10:37:50.550Z"
   },
   {
    "duration": 18,
    "start_time": "2023-12-11T10:37:50.562Z"
   },
   {
    "duration": 5,
    "start_time": "2023-12-11T10:37:50.581Z"
   },
   {
    "duration": 15,
    "start_time": "2023-12-11T10:37:50.587Z"
   },
   {
    "duration": 28,
    "start_time": "2023-12-11T10:37:50.604Z"
   },
   {
    "duration": 8,
    "start_time": "2023-12-11T10:37:50.633Z"
   },
   {
    "duration": 153,
    "start_time": "2023-12-11T10:37:50.642Z"
   },
   {
    "duration": 28,
    "start_time": "2023-12-11T10:37:50.797Z"
   },
   {
    "duration": 11,
    "start_time": "2023-12-11T10:37:50.827Z"
   },
   {
    "duration": 29,
    "start_time": "2023-12-11T10:37:50.840Z"
   },
   {
    "duration": 33,
    "start_time": "2023-12-11T10:37:50.871Z"
   },
   {
    "duration": 41,
    "start_time": "2023-12-11T10:37:50.906Z"
   },
   {
    "duration": 13,
    "start_time": "2023-12-11T10:37:50.949Z"
   },
   {
    "duration": 19,
    "start_time": "2023-12-11T10:37:50.964Z"
   },
   {
    "duration": 27,
    "start_time": "2023-12-11T10:37:50.985Z"
   },
   {
    "duration": 12,
    "start_time": "2023-12-11T10:37:51.013Z"
   },
   {
    "duration": 16,
    "start_time": "2023-12-11T10:37:51.029Z"
   },
   {
    "duration": 16,
    "start_time": "2023-12-11T10:37:51.047Z"
   },
   {
    "duration": 215,
    "start_time": "2023-12-11T10:37:51.065Z"
   },
   {
    "duration": 4,
    "start_time": "2023-12-11T10:37:51.282Z"
   },
   {
    "duration": 22,
    "start_time": "2023-12-11T10:37:51.288Z"
   },
   {
    "duration": 18,
    "start_time": "2023-12-11T10:37:51.312Z"
   },
   {
    "duration": 25,
    "start_time": "2023-12-11T10:37:51.332Z"
   },
   {
    "duration": 144,
    "start_time": "2023-12-11T10:37:51.358Z"
   },
   {
    "duration": 3,
    "start_time": "2023-12-11T10:37:51.504Z"
   },
   {
    "duration": 23,
    "start_time": "2023-12-11T10:37:51.509Z"
   },
   {
    "duration": 168,
    "start_time": "2023-12-11T10:37:51.533Z"
   },
   {
    "duration": 12,
    "start_time": "2023-12-11T10:37:51.703Z"
   },
   {
    "duration": 24,
    "start_time": "2023-12-11T10:37:51.716Z"
   },
   {
    "duration": 27,
    "start_time": "2023-12-11T10:37:51.742Z"
   },
   {
    "duration": 10,
    "start_time": "2023-12-11T10:37:51.771Z"
   },
   {
    "duration": 36,
    "start_time": "2023-12-11T10:37:51.782Z"
   },
   {
    "duration": 12,
    "start_time": "2023-12-11T10:37:51.819Z"
   },
   {
    "duration": 23,
    "start_time": "2023-12-11T10:37:51.833Z"
   },
   {
    "duration": 480,
    "start_time": "2023-12-11T10:37:51.858Z"
   },
   {
    "duration": 14,
    "start_time": "2023-12-11T10:37:52.341Z"
   },
   {
    "duration": 10,
    "start_time": "2023-12-11T10:37:52.357Z"
   },
   {
    "duration": 5,
    "start_time": "2023-12-11T10:37:52.369Z"
   },
   {
    "duration": 37,
    "start_time": "2023-12-11T10:37:52.375Z"
   },
   {
    "duration": 7,
    "start_time": "2023-12-11T10:37:52.414Z"
   },
   {
    "duration": 10,
    "start_time": "2023-12-11T10:37:52.422Z"
   },
   {
    "duration": 18,
    "start_time": "2023-12-11T10:37:52.434Z"
   },
   {
    "duration": 943,
    "start_time": "2023-12-11T10:37:52.453Z"
   },
   {
    "duration": 3,
    "start_time": "2023-12-11T10:37:53.398Z"
   },
   {
    "duration": 17,
    "start_time": "2023-12-11T10:37:53.402Z"
   },
   {
    "duration": 10,
    "start_time": "2023-12-11T10:37:53.421Z"
   },
   {
    "duration": 8,
    "start_time": "2023-12-11T10:37:53.432Z"
   },
   {
    "duration": 13,
    "start_time": "2023-12-11T10:37:53.442Z"
   },
   {
    "duration": 8,
    "start_time": "2023-12-11T10:37:53.457Z"
   },
   {
    "duration": 3,
    "start_time": "2023-12-11T10:55:07.745Z"
   },
   {
    "duration": 4,
    "start_time": "2023-12-11T10:55:57.936Z"
   },
   {
    "duration": 5,
    "start_time": "2023-12-11T10:56:22.404Z"
   },
   {
    "duration": 34,
    "start_time": "2023-12-11T11:30:59.603Z"
   },
   {
    "duration": 13,
    "start_time": "2023-12-11T11:34:30.440Z"
   },
   {
    "duration": 10,
    "start_time": "2023-12-11T11:34:34.326Z"
   },
   {
    "duration": 10,
    "start_time": "2023-12-11T11:35:47.614Z"
   },
   {
    "duration": 10,
    "start_time": "2023-12-11T11:36:30.952Z"
   },
   {
    "duration": 11,
    "start_time": "2023-12-11T11:36:32.616Z"
   },
   {
    "duration": 3,
    "start_time": "2023-12-11T11:36:42.385Z"
   },
   {
    "duration": 4,
    "start_time": "2023-12-11T11:36:44.014Z"
   },
   {
    "duration": 2,
    "start_time": "2023-12-11T11:36:45.150Z"
   },
   {
    "duration": 794,
    "start_time": "2023-12-11T11:36:46.115Z"
   },
   {
    "duration": 3,
    "start_time": "2023-12-11T11:37:27.235Z"
   },
   {
    "duration": 42,
    "start_time": "2023-12-11T11:37:27.239Z"
   },
   {
    "duration": 10,
    "start_time": "2023-12-11T11:37:27.284Z"
   },
   {
    "duration": 25,
    "start_time": "2023-12-11T11:37:27.295Z"
   },
   {
    "duration": 255,
    "start_time": "2023-12-11T11:37:27.322Z"
   },
   {
    "duration": 27,
    "start_time": "2023-12-11T11:37:27.579Z"
   },
   {
    "duration": 10,
    "start_time": "2023-12-11T11:37:27.608Z"
   },
   {
    "duration": 15,
    "start_time": "2023-12-11T11:37:27.631Z"
   },
   {
    "duration": 565,
    "start_time": "2023-12-11T11:37:27.647Z"
   },
   {
    "duration": 16,
    "start_time": "2023-12-11T11:37:28.214Z"
   },
   {
    "duration": 26,
    "start_time": "2023-12-11T11:37:28.234Z"
   },
   {
    "duration": 18,
    "start_time": "2023-12-11T11:37:28.262Z"
   },
   {
    "duration": 34,
    "start_time": "2023-12-11T11:37:28.282Z"
   },
   {
    "duration": 54,
    "start_time": "2023-12-11T11:37:28.318Z"
   },
   {
    "duration": 11,
    "start_time": "2023-12-11T11:37:28.374Z"
   },
   {
    "duration": 29,
    "start_time": "2023-12-11T11:37:28.387Z"
   },
   {
    "duration": 17,
    "start_time": "2023-12-11T11:37:28.418Z"
   },
   {
    "duration": 27,
    "start_time": "2023-12-11T11:37:28.438Z"
   },
   {
    "duration": 18,
    "start_time": "2023-12-11T11:37:28.467Z"
   },
   {
    "duration": 26,
    "start_time": "2023-12-11T11:37:28.487Z"
   },
   {
    "duration": 20,
    "start_time": "2023-12-11T11:37:28.515Z"
   },
   {
    "duration": 24,
    "start_time": "2023-12-11T11:37:28.537Z"
   },
   {
    "duration": 17,
    "start_time": "2023-12-11T11:37:28.563Z"
   },
   {
    "duration": 7,
    "start_time": "2023-12-11T11:37:28.582Z"
   },
   {
    "duration": 26,
    "start_time": "2023-12-11T11:37:28.591Z"
   },
   {
    "duration": 33,
    "start_time": "2023-12-11T11:37:28.619Z"
   },
   {
    "duration": 30,
    "start_time": "2023-12-11T11:37:28.655Z"
   },
   {
    "duration": 16,
    "start_time": "2023-12-11T11:37:28.687Z"
   },
   {
    "duration": 23,
    "start_time": "2023-12-11T11:37:28.709Z"
   },
   {
    "duration": 14,
    "start_time": "2023-12-11T11:37:28.735Z"
   },
   {
    "duration": 174,
    "start_time": "2023-12-11T11:37:28.751Z"
   },
   {
    "duration": 4,
    "start_time": "2023-12-11T11:37:28.930Z"
   },
   {
    "duration": 19,
    "start_time": "2023-12-11T11:37:28.936Z"
   },
   {
    "duration": 13,
    "start_time": "2023-12-11T11:37:28.957Z"
   },
   {
    "duration": 25,
    "start_time": "2023-12-11T11:37:28.972Z"
   },
   {
    "duration": 132,
    "start_time": "2023-12-11T11:37:28.999Z"
   },
   {
    "duration": 4,
    "start_time": "2023-12-11T11:37:29.133Z"
   },
   {
    "duration": 47,
    "start_time": "2023-12-11T11:37:29.138Z"
   },
   {
    "duration": 138,
    "start_time": "2023-12-11T11:37:29.186Z"
   },
   {
    "duration": 14,
    "start_time": "2023-12-11T11:37:29.326Z"
   },
   {
    "duration": 26,
    "start_time": "2023-12-11T11:37:29.341Z"
   },
   {
    "duration": 24,
    "start_time": "2023-12-11T11:37:29.368Z"
   },
   {
    "duration": 38,
    "start_time": "2023-12-11T11:37:29.394Z"
   },
   {
    "duration": 29,
    "start_time": "2023-12-11T11:37:29.433Z"
   },
   {
    "duration": 18,
    "start_time": "2023-12-11T11:37:29.464Z"
   },
   {
    "duration": 20,
    "start_time": "2023-12-11T11:37:29.484Z"
   },
   {
    "duration": 492,
    "start_time": "2023-12-11T11:37:29.506Z"
   },
   {
    "duration": 13,
    "start_time": "2023-12-11T11:37:30.000Z"
   },
   {
    "duration": 66,
    "start_time": "2023-12-11T11:37:30.015Z"
   },
   {
    "duration": 41,
    "start_time": "2023-12-11T11:37:30.083Z"
   },
   {
    "duration": 77,
    "start_time": "2023-12-11T11:37:30.125Z"
   },
   {
    "duration": 60,
    "start_time": "2023-12-11T11:37:30.204Z"
   },
   {
    "duration": 15,
    "start_time": "2023-12-11T11:37:30.265Z"
   },
   {
    "duration": 32,
    "start_time": "2023-12-11T11:37:30.282Z"
   },
   {
    "duration": 1134,
    "start_time": "2023-12-11T11:37:30.316Z"
   },
   {
    "duration": 0,
    "start_time": "2023-12-11T11:37:31.451Z"
   },
   {
    "duration": 0,
    "start_time": "2023-12-11T11:37:31.452Z"
   },
   {
    "duration": 0,
    "start_time": "2023-12-11T11:37:31.453Z"
   },
   {
    "duration": 0,
    "start_time": "2023-12-11T11:37:31.455Z"
   },
   {
    "duration": 0,
    "start_time": "2023-12-11T11:37:31.456Z"
   },
   {
    "duration": 0,
    "start_time": "2023-12-11T11:37:31.456Z"
   },
   {
    "duration": 0,
    "start_time": "2023-12-11T11:37:31.457Z"
   },
   {
    "duration": 0,
    "start_time": "2023-12-11T11:37:31.458Z"
   },
   {
    "duration": 0,
    "start_time": "2023-12-11T11:37:31.459Z"
   },
   {
    "duration": 0,
    "start_time": "2023-12-11T11:37:31.461Z"
   },
   {
    "duration": 0,
    "start_time": "2023-12-11T11:37:31.462Z"
   },
   {
    "duration": 5,
    "start_time": "2023-12-11T11:38:43.613Z"
   },
   {
    "duration": 12,
    "start_time": "2023-12-11T11:38:47.577Z"
   },
   {
    "duration": 759,
    "start_time": "2023-12-11T11:39:03.403Z"
   },
   {
    "duration": 3,
    "start_time": "2023-12-11T11:39:32.426Z"
   },
   {
    "duration": 35,
    "start_time": "2023-12-11T11:39:32.431Z"
   },
   {
    "duration": 8,
    "start_time": "2023-12-11T11:39:32.468Z"
   },
   {
    "duration": 24,
    "start_time": "2023-12-11T11:39:32.478Z"
   },
   {
    "duration": 244,
    "start_time": "2023-12-11T11:39:32.505Z"
   },
   {
    "duration": 25,
    "start_time": "2023-12-11T11:39:32.750Z"
   },
   {
    "duration": 8,
    "start_time": "2023-12-11T11:39:32.777Z"
   },
   {
    "duration": 24,
    "start_time": "2023-12-11T11:39:32.786Z"
   },
   {
    "duration": 527,
    "start_time": "2023-12-11T11:39:32.811Z"
   },
   {
    "duration": 14,
    "start_time": "2023-12-11T11:39:33.340Z"
   },
   {
    "duration": 7,
    "start_time": "2023-12-11T11:39:33.357Z"
   },
   {
    "duration": 12,
    "start_time": "2023-12-11T11:39:33.365Z"
   },
   {
    "duration": 11,
    "start_time": "2023-12-11T11:39:33.378Z"
   },
   {
    "duration": 14,
    "start_time": "2023-12-11T11:39:33.391Z"
   },
   {
    "duration": 20,
    "start_time": "2023-12-11T11:39:33.407Z"
   },
   {
    "duration": 20,
    "start_time": "2023-12-11T11:39:33.429Z"
   },
   {
    "duration": 18,
    "start_time": "2023-12-11T11:39:33.450Z"
   },
   {
    "duration": 10,
    "start_time": "2023-12-11T11:39:33.470Z"
   },
   {
    "duration": 11,
    "start_time": "2023-12-11T11:39:33.482Z"
   },
   {
    "duration": 7,
    "start_time": "2023-12-11T11:39:33.495Z"
   },
   {
    "duration": 7,
    "start_time": "2023-12-11T11:39:33.503Z"
   },
   {
    "duration": 15,
    "start_time": "2023-12-11T11:39:33.511Z"
   },
   {
    "duration": 17,
    "start_time": "2023-12-11T11:39:33.528Z"
   },
   {
    "duration": 6,
    "start_time": "2023-12-11T11:39:33.547Z"
   },
   {
    "duration": 9,
    "start_time": "2023-12-11T11:39:33.554Z"
   },
   {
    "duration": 20,
    "start_time": "2023-12-11T11:39:33.564Z"
   },
   {
    "duration": 24,
    "start_time": "2023-12-11T11:39:33.586Z"
   },
   {
    "duration": 24,
    "start_time": "2023-12-11T11:39:33.611Z"
   },
   {
    "duration": 10,
    "start_time": "2023-12-11T11:39:33.638Z"
   },
   {
    "duration": 36,
    "start_time": "2023-12-11T11:39:33.650Z"
   },
   {
    "duration": 146,
    "start_time": "2023-12-11T11:39:33.688Z"
   },
   {
    "duration": 4,
    "start_time": "2023-12-11T11:39:33.836Z"
   },
   {
    "duration": 13,
    "start_time": "2023-12-11T11:39:33.842Z"
   },
   {
    "duration": 8,
    "start_time": "2023-12-11T11:39:33.857Z"
   },
   {
    "duration": 14,
    "start_time": "2023-12-11T11:39:33.867Z"
   },
   {
    "duration": 141,
    "start_time": "2023-12-11T11:39:33.882Z"
   },
   {
    "duration": 8,
    "start_time": "2023-12-11T11:39:34.024Z"
   },
   {
    "duration": 30,
    "start_time": "2023-12-11T11:39:34.034Z"
   },
   {
    "duration": 143,
    "start_time": "2023-12-11T11:39:34.066Z"
   },
   {
    "duration": 9,
    "start_time": "2023-12-11T11:39:34.211Z"
   },
   {
    "duration": 9,
    "start_time": "2023-12-11T11:39:34.230Z"
   },
   {
    "duration": 16,
    "start_time": "2023-12-11T11:39:34.241Z"
   },
   {
    "duration": 11,
    "start_time": "2023-12-11T11:39:34.258Z"
   },
   {
    "duration": 17,
    "start_time": "2023-12-11T11:39:34.271Z"
   },
   {
    "duration": 10,
    "start_time": "2023-12-11T11:39:34.290Z"
   },
   {
    "duration": 39,
    "start_time": "2023-12-11T11:39:34.302Z"
   },
   {
    "duration": 433,
    "start_time": "2023-12-11T11:39:34.342Z"
   },
   {
    "duration": 12,
    "start_time": "2023-12-11T11:39:34.777Z"
   },
   {
    "duration": 12,
    "start_time": "2023-12-11T11:39:34.791Z"
   },
   {
    "duration": 23,
    "start_time": "2023-12-11T11:39:34.804Z"
   },
   {
    "duration": 29,
    "start_time": "2023-12-11T11:39:34.828Z"
   },
   {
    "duration": 4,
    "start_time": "2023-12-11T11:39:34.859Z"
   },
   {
    "duration": 11,
    "start_time": "2023-12-11T11:39:34.864Z"
   },
   {
    "duration": 19,
    "start_time": "2023-12-11T11:39:34.876Z"
   },
   {
    "duration": 15,
    "start_time": "2023-12-11T11:39:34.897Z"
   },
   {
    "duration": 28,
    "start_time": "2023-12-11T11:39:34.914Z"
   },
   {
    "duration": 774,
    "start_time": "2023-12-11T11:39:34.943Z"
   },
   {
    "duration": 3,
    "start_time": "2023-12-11T11:39:35.719Z"
   },
   {
    "duration": 33,
    "start_time": "2023-12-11T11:39:35.731Z"
   },
   {
    "duration": 14,
    "start_time": "2023-12-11T11:39:35.766Z"
   },
   {
    "duration": 29,
    "start_time": "2023-12-11T11:39:35.781Z"
   },
   {
    "duration": 22,
    "start_time": "2023-12-11T11:39:35.811Z"
   },
   {
    "duration": 35,
    "start_time": "2023-12-11T11:39:35.835Z"
   },
   {
    "duration": 26,
    "start_time": "2023-12-11T11:39:35.872Z"
   },
   {
    "duration": 25,
    "start_time": "2023-12-11T11:39:35.900Z"
   },
   {
    "duration": 5,
    "start_time": "2023-12-11T11:39:35.927Z"
   },
   {
    "duration": 7,
    "start_time": "2023-12-11T11:44:24.958Z"
   },
   {
    "duration": 10,
    "start_time": "2023-12-11T11:44:26.043Z"
   },
   {
    "duration": 12,
    "start_time": "2023-12-11T12:07:47.312Z"
   },
   {
    "duration": 6,
    "start_time": "2023-12-11T12:09:22.117Z"
   },
   {
    "duration": 15,
    "start_time": "2023-12-11T12:10:10.195Z"
   },
   {
    "duration": 16,
    "start_time": "2023-12-11T12:10:25.525Z"
   },
   {
    "duration": 3,
    "start_time": "2023-12-11T12:10:48.898Z"
   },
   {
    "duration": 33,
    "start_time": "2023-12-11T12:10:48.904Z"
   },
   {
    "duration": 9,
    "start_time": "2023-12-11T12:10:48.939Z"
   },
   {
    "duration": 19,
    "start_time": "2023-12-11T12:10:48.949Z"
   },
   {
    "duration": 279,
    "start_time": "2023-12-11T12:10:48.969Z"
   },
   {
    "duration": 26,
    "start_time": "2023-12-11T12:10:49.249Z"
   },
   {
    "duration": 9,
    "start_time": "2023-12-11T12:10:49.277Z"
   },
   {
    "duration": 19,
    "start_time": "2023-12-11T12:10:49.287Z"
   },
   {
    "duration": 594,
    "start_time": "2023-12-11T12:10:49.308Z"
   },
   {
    "duration": 15,
    "start_time": "2023-12-11T12:10:49.904Z"
   },
   {
    "duration": 17,
    "start_time": "2023-12-11T12:10:49.921Z"
   },
   {
    "duration": 24,
    "start_time": "2023-12-11T12:10:49.940Z"
   },
   {
    "duration": 31,
    "start_time": "2023-12-11T12:10:49.965Z"
   },
   {
    "duration": 18,
    "start_time": "2023-12-11T12:10:49.998Z"
   },
   {
    "duration": 23,
    "start_time": "2023-12-11T12:10:50.018Z"
   },
   {
    "duration": 44,
    "start_time": "2023-12-11T12:10:50.043Z"
   },
   {
    "duration": 56,
    "start_time": "2023-12-11T12:10:50.088Z"
   },
   {
    "duration": 27,
    "start_time": "2023-12-11T12:10:50.146Z"
   },
   {
    "duration": 14,
    "start_time": "2023-12-11T12:10:50.174Z"
   },
   {
    "duration": 12,
    "start_time": "2023-12-11T12:10:50.189Z"
   },
   {
    "duration": 12,
    "start_time": "2023-12-11T12:10:50.203Z"
   },
   {
    "duration": 28,
    "start_time": "2023-12-11T12:10:50.216Z"
   },
   {
    "duration": 26,
    "start_time": "2023-12-11T12:10:50.245Z"
   },
   {
    "duration": 7,
    "start_time": "2023-12-11T12:10:50.274Z"
   },
   {
    "duration": 10,
    "start_time": "2023-12-11T12:10:50.282Z"
   },
   {
    "duration": 10,
    "start_time": "2023-12-11T12:10:50.293Z"
   },
   {
    "duration": 18,
    "start_time": "2023-12-11T12:10:50.304Z"
   },
   {
    "duration": 19,
    "start_time": "2023-12-11T12:10:50.324Z"
   },
   {
    "duration": 6,
    "start_time": "2023-12-11T12:10:50.344Z"
   },
   {
    "duration": 8,
    "start_time": "2023-12-11T12:10:50.352Z"
   },
   {
    "duration": 155,
    "start_time": "2023-12-11T12:10:50.362Z"
   },
   {
    "duration": 4,
    "start_time": "2023-12-11T12:10:50.518Z"
   },
   {
    "duration": 31,
    "start_time": "2023-12-11T12:10:50.524Z"
   },
   {
    "duration": 9,
    "start_time": "2023-12-11T12:10:50.556Z"
   },
   {
    "duration": 21,
    "start_time": "2023-12-11T12:10:50.567Z"
   },
   {
    "duration": 133,
    "start_time": "2023-12-11T12:10:50.589Z"
   },
   {
    "duration": 9,
    "start_time": "2023-12-11T12:10:50.723Z"
   },
   {
    "duration": 33,
    "start_time": "2023-12-11T12:10:50.733Z"
   },
   {
    "duration": 170,
    "start_time": "2023-12-11T12:10:50.768Z"
   },
   {
    "duration": 11,
    "start_time": "2023-12-11T12:10:50.940Z"
   },
   {
    "duration": 57,
    "start_time": "2023-12-11T12:10:50.953Z"
   },
   {
    "duration": 40,
    "start_time": "2023-12-11T12:10:51.012Z"
   },
   {
    "duration": 32,
    "start_time": "2023-12-11T12:10:51.053Z"
   },
   {
    "duration": 36,
    "start_time": "2023-12-11T12:10:51.087Z"
   },
   {
    "duration": 24,
    "start_time": "2023-12-11T12:10:51.125Z"
   },
   {
    "duration": 23,
    "start_time": "2023-12-11T12:10:51.151Z"
   },
   {
    "duration": 436,
    "start_time": "2023-12-11T12:10:51.176Z"
   },
   {
    "duration": 21,
    "start_time": "2023-12-11T12:10:51.614Z"
   },
   {
    "duration": 6,
    "start_time": "2023-12-11T12:10:51.637Z"
   },
   {
    "duration": 22,
    "start_time": "2023-12-11T12:10:51.645Z"
   },
   {
    "duration": 21,
    "start_time": "2023-12-11T12:10:51.669Z"
   },
   {
    "duration": 28,
    "start_time": "2023-12-11T12:10:51.692Z"
   },
   {
    "duration": 21,
    "start_time": "2023-12-11T12:10:51.722Z"
   },
   {
    "duration": 11,
    "start_time": "2023-12-11T12:10:51.745Z"
   },
   {
    "duration": 31,
    "start_time": "2023-12-11T12:10:51.757Z"
   },
   {
    "duration": 52,
    "start_time": "2023-12-11T12:10:51.790Z"
   },
   {
    "duration": 795,
    "start_time": "2023-12-11T12:10:51.844Z"
   },
   {
    "duration": 3,
    "start_time": "2023-12-11T12:10:52.640Z"
   },
   {
    "duration": 11,
    "start_time": "2023-12-11T12:10:52.645Z"
   },
   {
    "duration": 9,
    "start_time": "2023-12-11T12:10:52.658Z"
   },
   {
    "duration": 9,
    "start_time": "2023-12-11T12:10:52.669Z"
   },
   {
    "duration": 15,
    "start_time": "2023-12-11T12:10:52.680Z"
   },
   {
    "duration": 8,
    "start_time": "2023-12-11T12:10:52.697Z"
   },
   {
    "duration": 15,
    "start_time": "2023-12-11T12:10:52.707Z"
   },
   {
    "duration": 7,
    "start_time": "2023-12-11T12:10:52.723Z"
   },
   {
    "duration": 4,
    "start_time": "2023-12-11T12:10:52.736Z"
   },
   {
    "duration": 7,
    "start_time": "2023-12-11T12:10:52.742Z"
   },
   {
    "duration": 18,
    "start_time": "2023-12-11T12:10:52.751Z"
   },
   {
    "duration": 21,
    "start_time": "2023-12-11T12:10:52.771Z"
   },
   {
    "duration": 14,
    "start_time": "2023-12-11T12:10:52.793Z"
   },
   {
    "duration": 6,
    "start_time": "2023-12-11T12:16:58.259Z"
   },
   {
    "duration": 3,
    "start_time": "2023-12-11T12:17:03.667Z"
   },
   {
    "duration": 26,
    "start_time": "2023-12-11T12:17:03.683Z"
   },
   {
    "duration": 9,
    "start_time": "2023-12-11T12:17:03.711Z"
   },
   {
    "duration": 14,
    "start_time": "2023-12-11T12:17:03.722Z"
   },
   {
    "duration": 240,
    "start_time": "2023-12-11T12:17:03.738Z"
   },
   {
    "duration": 24,
    "start_time": "2023-12-11T12:17:03.980Z"
   },
   {
    "duration": 8,
    "start_time": "2023-12-11T12:17:04.006Z"
   },
   {
    "duration": 13,
    "start_time": "2023-12-11T12:17:04.030Z"
   },
   {
    "duration": 621,
    "start_time": "2023-12-11T12:17:04.045Z"
   },
   {
    "duration": 15,
    "start_time": "2023-12-11T12:17:04.668Z"
   },
   {
    "duration": 8,
    "start_time": "2023-12-11T12:17:04.685Z"
   },
   {
    "duration": 8,
    "start_time": "2023-12-11T12:17:04.695Z"
   },
   {
    "duration": 10,
    "start_time": "2023-12-11T12:17:04.705Z"
   },
   {
    "duration": 10,
    "start_time": "2023-12-11T12:17:04.731Z"
   },
   {
    "duration": 4,
    "start_time": "2023-12-11T12:17:04.745Z"
   },
   {
    "duration": 14,
    "start_time": "2023-12-11T12:17:04.751Z"
   },
   {
    "duration": 6,
    "start_time": "2023-12-11T12:17:04.767Z"
   },
   {
    "duration": 8,
    "start_time": "2023-12-11T12:17:04.775Z"
   },
   {
    "duration": 8,
    "start_time": "2023-12-11T12:17:04.785Z"
   },
   {
    "duration": 36,
    "start_time": "2023-12-11T12:17:04.795Z"
   },
   {
    "duration": 7,
    "start_time": "2023-12-11T12:17:04.833Z"
   },
   {
    "duration": 28,
    "start_time": "2023-12-11T12:17:04.842Z"
   },
   {
    "duration": 10,
    "start_time": "2023-12-11T12:17:04.872Z"
   },
   {
    "duration": 8,
    "start_time": "2023-12-11T12:17:04.884Z"
   },
   {
    "duration": 11,
    "start_time": "2023-12-11T12:17:04.893Z"
   },
   {
    "duration": 10,
    "start_time": "2023-12-11T12:17:04.906Z"
   },
   {
    "duration": 17,
    "start_time": "2023-12-11T12:17:04.917Z"
   },
   {
    "duration": 11,
    "start_time": "2023-12-11T12:17:04.935Z"
   },
   {
    "duration": 11,
    "start_time": "2023-12-11T12:17:04.948Z"
   },
   {
    "duration": 18,
    "start_time": "2023-12-11T12:17:04.961Z"
   },
   {
    "duration": 156,
    "start_time": "2023-12-11T12:17:04.981Z"
   },
   {
    "duration": 4,
    "start_time": "2023-12-11T12:17:05.139Z"
   },
   {
    "duration": 16,
    "start_time": "2023-12-11T12:17:05.145Z"
   },
   {
    "duration": 17,
    "start_time": "2023-12-11T12:17:05.163Z"
   },
   {
    "duration": 25,
    "start_time": "2023-12-11T12:17:05.181Z"
   },
   {
    "duration": 134,
    "start_time": "2023-12-11T12:17:05.208Z"
   },
   {
    "duration": 4,
    "start_time": "2023-12-11T12:17:05.345Z"
   },
   {
    "duration": 12,
    "start_time": "2023-12-11T12:17:05.351Z"
   },
   {
    "duration": 157,
    "start_time": "2023-12-11T12:17:05.365Z"
   },
   {
    "duration": 11,
    "start_time": "2023-12-11T12:17:05.531Z"
   },
   {
    "duration": 14,
    "start_time": "2023-12-11T12:17:05.544Z"
   },
   {
    "duration": 20,
    "start_time": "2023-12-11T12:17:05.564Z"
   },
   {
    "duration": 25,
    "start_time": "2023-12-11T12:17:05.586Z"
   },
   {
    "duration": 34,
    "start_time": "2023-12-11T12:17:05.612Z"
   },
   {
    "duration": 6,
    "start_time": "2023-12-11T12:17:05.648Z"
   },
   {
    "duration": 22,
    "start_time": "2023-12-11T12:17:05.656Z"
   },
   {
    "duration": 456,
    "start_time": "2023-12-11T12:17:05.680Z"
   },
   {
    "duration": 14,
    "start_time": "2023-12-11T12:17:06.137Z"
   },
   {
    "duration": 25,
    "start_time": "2023-12-11T12:17:06.153Z"
   },
   {
    "duration": 23,
    "start_time": "2023-12-11T12:17:06.180Z"
   },
   {
    "duration": 11,
    "start_time": "2023-12-11T12:17:06.205Z"
   },
   {
    "duration": 8,
    "start_time": "2023-12-11T12:17:06.218Z"
   },
   {
    "duration": 8,
    "start_time": "2023-12-11T12:17:06.228Z"
   },
   {
    "duration": 4,
    "start_time": "2023-12-11T12:17:06.238Z"
   },
   {
    "duration": 13,
    "start_time": "2023-12-11T12:17:06.244Z"
   },
   {
    "duration": 15,
    "start_time": "2023-12-11T12:17:06.259Z"
   },
   {
    "duration": 751,
    "start_time": "2023-12-11T12:17:06.276Z"
   },
   {
    "duration": 2,
    "start_time": "2023-12-11T12:17:07.031Z"
   },
   {
    "duration": 10,
    "start_time": "2023-12-11T12:17:07.035Z"
   },
   {
    "duration": 6,
    "start_time": "2023-12-11T12:17:07.047Z"
   },
   {
    "duration": 8,
    "start_time": "2023-12-11T12:17:07.054Z"
   },
   {
    "duration": 18,
    "start_time": "2023-12-11T12:17:07.063Z"
   },
   {
    "duration": 6,
    "start_time": "2023-12-11T12:17:07.082Z"
   },
   {
    "duration": 5,
    "start_time": "2023-12-11T12:17:07.090Z"
   },
   {
    "duration": 5,
    "start_time": "2023-12-11T12:17:07.097Z"
   },
   {
    "duration": 16,
    "start_time": "2023-12-11T12:17:07.103Z"
   },
   {
    "duration": 14,
    "start_time": "2023-12-11T12:17:07.120Z"
   },
   {
    "duration": 17,
    "start_time": "2023-12-11T12:17:07.135Z"
   },
   {
    "duration": 28,
    "start_time": "2023-12-11T12:17:07.154Z"
   },
   {
    "duration": 43,
    "start_time": "2023-12-11T12:17:07.184Z"
   },
   {
    "duration": 6,
    "start_time": "2023-12-11T12:18:03.270Z"
   },
   {
    "duration": 139,
    "start_time": "2023-12-11T12:21:30.604Z"
   },
   {
    "duration": 398,
    "start_time": "2023-12-11T12:23:04.635Z"
   },
   {
    "duration": 17,
    "start_time": "2023-12-11T14:08:08.443Z"
   },
   {
    "duration": 6,
    "start_time": "2023-12-11T14:10:10.577Z"
   },
   {
    "duration": 5,
    "start_time": "2023-12-11T14:10:15.214Z"
   },
   {
    "duration": 4,
    "start_time": "2023-12-11T14:10:45.722Z"
   },
   {
    "duration": 10,
    "start_time": "2023-12-11T14:23:11.846Z"
   },
   {
    "duration": 5,
    "start_time": "2023-12-11T14:25:20.368Z"
   },
   {
    "duration": 10,
    "start_time": "2023-12-11T14:25:22.360Z"
   },
   {
    "duration": 6,
    "start_time": "2023-12-11T14:26:17.242Z"
   },
   {
    "duration": 12,
    "start_time": "2023-12-11T14:26:18.691Z"
   },
   {
    "duration": 15,
    "start_time": "2023-12-11T14:27:57.216Z"
   },
   {
    "duration": 29,
    "start_time": "2023-12-11T14:27:57.234Z"
   },
   {
    "duration": 8,
    "start_time": "2023-12-11T14:27:57.265Z"
   },
   {
    "duration": 19,
    "start_time": "2023-12-11T14:27:57.274Z"
   },
   {
    "duration": 222,
    "start_time": "2023-12-11T14:27:57.295Z"
   },
   {
    "duration": 27,
    "start_time": "2023-12-11T14:27:57.519Z"
   },
   {
    "duration": 9,
    "start_time": "2023-12-11T14:27:57.548Z"
   },
   {
    "duration": 18,
    "start_time": "2023-12-11T14:27:57.559Z"
   },
   {
    "duration": 468,
    "start_time": "2023-12-11T14:27:57.579Z"
   },
   {
    "duration": 16,
    "start_time": "2023-12-11T14:27:58.049Z"
   },
   {
    "duration": 7,
    "start_time": "2023-12-11T14:27:58.066Z"
   },
   {
    "duration": 9,
    "start_time": "2023-12-11T14:27:58.074Z"
   },
   {
    "duration": 15,
    "start_time": "2023-12-11T14:27:58.085Z"
   },
   {
    "duration": 42,
    "start_time": "2023-12-11T14:27:58.101Z"
   },
   {
    "duration": 5,
    "start_time": "2023-12-11T14:27:58.144Z"
   },
   {
    "duration": 44,
    "start_time": "2023-12-11T14:27:58.150Z"
   },
   {
    "duration": 41,
    "start_time": "2023-12-11T14:27:58.196Z"
   },
   {
    "duration": 39,
    "start_time": "2023-12-11T14:27:58.239Z"
   },
   {
    "duration": 29,
    "start_time": "2023-12-11T14:27:58.280Z"
   },
   {
    "duration": 16,
    "start_time": "2023-12-11T14:27:58.311Z"
   },
   {
    "duration": 19,
    "start_time": "2023-12-11T14:27:58.328Z"
   },
   {
    "duration": 34,
    "start_time": "2023-12-11T14:27:58.348Z"
   },
   {
    "duration": 36,
    "start_time": "2023-12-11T14:27:58.383Z"
   },
   {
    "duration": 8,
    "start_time": "2023-12-11T14:27:58.420Z"
   },
   {
    "duration": 18,
    "start_time": "2023-12-11T14:27:58.430Z"
   },
   {
    "duration": 17,
    "start_time": "2023-12-11T14:27:58.453Z"
   },
   {
    "duration": 8,
    "start_time": "2023-12-11T14:27:58.471Z"
   },
   {
    "duration": 20,
    "start_time": "2023-12-11T14:27:58.481Z"
   },
   {
    "duration": 9,
    "start_time": "2023-12-11T14:27:58.502Z"
   },
   {
    "duration": 14,
    "start_time": "2023-12-11T14:27:58.512Z"
   },
   {
    "duration": 143,
    "start_time": "2023-12-11T14:27:58.528Z"
   },
   {
    "duration": 4,
    "start_time": "2023-12-11T14:27:58.673Z"
   },
   {
    "duration": 28,
    "start_time": "2023-12-11T14:27:58.679Z"
   },
   {
    "duration": 10,
    "start_time": "2023-12-11T14:27:58.709Z"
   },
   {
    "duration": 20,
    "start_time": "2023-12-11T14:27:58.721Z"
   },
   {
    "duration": 159,
    "start_time": "2023-12-11T14:27:58.743Z"
   },
   {
    "duration": 5,
    "start_time": "2023-12-11T14:27:58.904Z"
   },
   {
    "duration": 22,
    "start_time": "2023-12-11T14:27:58.910Z"
   },
   {
    "duration": 133,
    "start_time": "2023-12-11T14:27:58.934Z"
   },
   {
    "duration": 10,
    "start_time": "2023-12-11T14:27:59.069Z"
   },
   {
    "duration": 10,
    "start_time": "2023-12-11T14:27:59.081Z"
   },
   {
    "duration": 16,
    "start_time": "2023-12-11T14:27:59.092Z"
   },
   {
    "duration": 31,
    "start_time": "2023-12-11T14:27:59.110Z"
   },
   {
    "duration": 22,
    "start_time": "2023-12-11T14:27:59.143Z"
   },
   {
    "duration": 8,
    "start_time": "2023-12-11T14:27:59.167Z"
   },
   {
    "duration": 22,
    "start_time": "2023-12-11T14:27:59.176Z"
   },
   {
    "duration": 438,
    "start_time": "2023-12-11T14:27:59.200Z"
   },
   {
    "duration": 12,
    "start_time": "2023-12-11T14:27:59.640Z"
   },
   {
    "duration": 2,
    "start_time": "2023-12-11T14:27:59.654Z"
   },
   {
    "duration": 24,
    "start_time": "2023-12-11T14:27:59.658Z"
   },
   {
    "duration": 14,
    "start_time": "2023-12-11T14:27:59.684Z"
   },
   {
    "duration": 6,
    "start_time": "2023-12-11T14:27:59.700Z"
   },
   {
    "duration": 8,
    "start_time": "2023-12-11T14:27:59.707Z"
   },
   {
    "duration": 6,
    "start_time": "2023-12-11T14:27:59.716Z"
   },
   {
    "duration": 5,
    "start_time": "2023-12-11T14:27:59.731Z"
   },
   {
    "duration": 23,
    "start_time": "2023-12-11T14:27:59.737Z"
   },
   {
    "duration": 761,
    "start_time": "2023-12-11T14:27:59.761Z"
   },
   {
    "duration": 6,
    "start_time": "2023-12-11T14:28:00.524Z"
   },
   {
    "duration": 35,
    "start_time": "2023-12-11T14:28:00.532Z"
   },
   {
    "duration": 19,
    "start_time": "2023-12-11T14:28:00.569Z"
   },
   {
    "duration": 26,
    "start_time": "2023-12-11T14:28:00.590Z"
   },
   {
    "duration": 24,
    "start_time": "2023-12-11T14:28:00.618Z"
   },
   {
    "duration": 16,
    "start_time": "2023-12-11T14:28:00.644Z"
   },
   {
    "duration": 30,
    "start_time": "2023-12-11T14:28:00.663Z"
   },
   {
    "duration": 28,
    "start_time": "2023-12-11T14:28:00.695Z"
   },
   {
    "duration": 22,
    "start_time": "2023-12-11T14:28:00.725Z"
   },
   {
    "duration": 34,
    "start_time": "2023-12-11T14:28:00.749Z"
   },
   {
    "duration": 26,
    "start_time": "2023-12-11T14:28:00.785Z"
   },
   {
    "duration": 40,
    "start_time": "2023-12-11T14:28:00.813Z"
   },
   {
    "duration": 35,
    "start_time": "2023-12-11T14:28:00.855Z"
   },
   {
    "duration": 161,
    "start_time": "2023-12-11T14:28:00.892Z"
   },
   {
    "duration": 5,
    "start_time": "2023-12-11T14:28:01.054Z"
   },
   {
    "duration": 34147,
    "start_time": "2023-12-11T14:28:01.061Z"
   },
   {
    "duration": 4,
    "start_time": "2023-12-11T14:28:35.210Z"
   },
   {
    "duration": 158,
    "start_time": "2023-12-11T14:42:54.741Z"
   },
   {
    "duration": 144,
    "start_time": "2023-12-11T14:44:04.196Z"
   },
   {
    "duration": 103,
    "start_time": "2023-12-11T14:46:10.630Z"
   },
   {
    "duration": 300,
    "start_time": "2023-12-11T14:46:51.013Z"
   },
   {
    "duration": 257,
    "start_time": "2023-12-11T14:47:55.992Z"
   },
   {
    "duration": 252,
    "start_time": "2023-12-11T14:48:19.294Z"
   },
   {
    "duration": 273,
    "start_time": "2023-12-11T14:49:05.364Z"
   },
   {
    "duration": 263,
    "start_time": "2023-12-11T14:50:59.277Z"
   },
   {
    "duration": 289,
    "start_time": "2023-12-11T14:51:57.824Z"
   },
   {
    "duration": 276,
    "start_time": "2023-12-11T14:52:47.104Z"
   },
   {
    "duration": 10,
    "start_time": "2023-12-11T14:53:29.909Z"
   },
   {
    "duration": 5061,
    "start_time": "2023-12-11T14:54:11.549Z"
   },
   {
    "duration": 412,
    "start_time": "2023-12-12T14:48:52.276Z"
   },
   {
    "duration": 86,
    "start_time": "2023-12-12T14:48:52.699Z"
   },
   {
    "duration": 14,
    "start_time": "2023-12-12T14:48:52.787Z"
   },
   {
    "duration": 9,
    "start_time": "2023-12-12T14:48:52.802Z"
   },
   {
    "duration": 585,
    "start_time": "2023-12-12T14:48:52.812Z"
   },
   {
    "duration": 160,
    "start_time": "2023-12-12T14:48:53.399Z"
   },
   {
    "duration": 8,
    "start_time": "2023-12-12T14:48:53.561Z"
   },
   {
    "duration": 20,
    "start_time": "2023-12-12T14:48:53.571Z"
   },
   {
    "duration": 411,
    "start_time": "2023-12-12T14:48:53.592Z"
   },
   {
    "duration": 68,
    "start_time": "2023-12-12T14:48:54.006Z"
   },
   {
    "duration": 7,
    "start_time": "2023-12-12T14:48:54.076Z"
   },
   {
    "duration": 17,
    "start_time": "2023-12-12T14:48:54.084Z"
   },
   {
    "duration": 9,
    "start_time": "2023-12-12T14:48:54.102Z"
   },
   {
    "duration": 71,
    "start_time": "2023-12-12T14:48:54.113Z"
   },
   {
    "duration": 15,
    "start_time": "2023-12-12T14:48:54.186Z"
   },
   {
    "duration": 9,
    "start_time": "2023-12-12T14:48:54.202Z"
   },
   {
    "duration": 4,
    "start_time": "2023-12-12T14:48:54.212Z"
   },
   {
    "duration": 7,
    "start_time": "2023-12-12T14:48:54.218Z"
   },
   {
    "duration": 4,
    "start_time": "2023-12-12T14:48:54.226Z"
   },
   {
    "duration": 7,
    "start_time": "2023-12-12T14:48:54.232Z"
   },
   {
    "duration": 6,
    "start_time": "2023-12-12T14:48:54.240Z"
   },
   {
    "duration": 13,
    "start_time": "2023-12-12T14:48:54.248Z"
   },
   {
    "duration": 42,
    "start_time": "2023-12-12T14:48:54.263Z"
   },
   {
    "duration": 28,
    "start_time": "2023-12-12T14:48:54.307Z"
   },
   {
    "duration": 28,
    "start_time": "2023-12-12T14:48:54.337Z"
   },
   {
    "duration": 20,
    "start_time": "2023-12-12T14:48:54.366Z"
   },
   {
    "duration": 4,
    "start_time": "2023-12-12T14:48:54.388Z"
   },
   {
    "duration": 5,
    "start_time": "2023-12-12T14:48:54.395Z"
   },
   {
    "duration": 5,
    "start_time": "2023-12-12T14:48:54.401Z"
   },
   {
    "duration": 5,
    "start_time": "2023-12-12T14:48:54.407Z"
   },
   {
    "duration": 147,
    "start_time": "2023-12-12T14:48:54.414Z"
   },
   {
    "duration": 4,
    "start_time": "2023-12-12T14:48:54.563Z"
   },
   {
    "duration": 17,
    "start_time": "2023-12-12T14:48:54.568Z"
   },
   {
    "duration": 15,
    "start_time": "2023-12-12T14:48:54.586Z"
   },
   {
    "duration": 9,
    "start_time": "2023-12-12T14:48:54.603Z"
   },
   {
    "duration": 137,
    "start_time": "2023-12-12T14:48:54.614Z"
   },
   {
    "duration": 3,
    "start_time": "2023-12-12T14:48:54.753Z"
   },
   {
    "duration": 15,
    "start_time": "2023-12-12T14:48:54.757Z"
   },
   {
    "duration": 134,
    "start_time": "2023-12-12T14:48:54.773Z"
   },
   {
    "duration": 9,
    "start_time": "2023-12-12T14:48:54.909Z"
   },
   {
    "duration": 9,
    "start_time": "2023-12-12T14:48:54.919Z"
   },
   {
    "duration": 14,
    "start_time": "2023-12-12T14:48:54.930Z"
   },
   {
    "duration": 19,
    "start_time": "2023-12-12T14:48:54.946Z"
   },
   {
    "duration": 33,
    "start_time": "2023-12-12T14:48:54.967Z"
   },
   {
    "duration": 11,
    "start_time": "2023-12-12T14:48:55.001Z"
   },
   {
    "duration": 20,
    "start_time": "2023-12-12T14:48:55.013Z"
   },
   {
    "duration": 232,
    "start_time": "2023-12-12T14:48:55.034Z"
   },
   {
    "duration": 5,
    "start_time": "2023-12-12T14:48:55.268Z"
   },
   {
    "duration": 47,
    "start_time": "2023-12-12T14:48:55.274Z"
   },
   {
    "duration": 4,
    "start_time": "2023-12-12T14:48:55.323Z"
   },
   {
    "duration": 32,
    "start_time": "2023-12-12T14:48:55.329Z"
   },
   {
    "duration": 4,
    "start_time": "2023-12-12T14:48:55.363Z"
   },
   {
    "duration": 24,
    "start_time": "2023-12-12T14:48:55.368Z"
   },
   {
    "duration": 21,
    "start_time": "2023-12-12T14:48:55.394Z"
   },
   {
    "duration": 6,
    "start_time": "2023-12-12T14:48:55.417Z"
   },
   {
    "duration": 15,
    "start_time": "2023-12-12T14:48:55.425Z"
   },
   {
    "duration": 11,
    "start_time": "2023-12-12T14:48:55.441Z"
   },
   {
    "duration": 19,
    "start_time": "2023-12-12T14:48:55.454Z"
   },
   {
    "duration": 18,
    "start_time": "2023-12-12T14:48:55.475Z"
   },
   {
    "duration": 743,
    "start_time": "2023-12-12T14:48:55.494Z"
   },
   {
    "duration": 468,
    "start_time": "2023-12-12T14:48:56.239Z"
   },
   {
    "duration": 8,
    "start_time": "2023-12-12T14:48:56.708Z"
   },
   {
    "duration": 5,
    "start_time": "2023-12-12T14:48:56.717Z"
   },
   {
    "duration": 11,
    "start_time": "2023-12-12T14:48:56.724Z"
   },
   {
    "duration": 14,
    "start_time": "2023-12-12T14:48:56.737Z"
   },
   {
    "duration": 6,
    "start_time": "2023-12-12T14:48:56.753Z"
   },
   {
    "duration": 28,
    "start_time": "2023-12-12T14:48:56.761Z"
   },
   {
    "duration": 23,
    "start_time": "2023-12-12T14:48:56.791Z"
   },
   {
    "duration": 19,
    "start_time": "2023-12-12T14:48:56.816Z"
   },
   {
    "duration": 19,
    "start_time": "2023-12-12T14:48:56.837Z"
   },
   {
    "duration": 21,
    "start_time": "2023-12-12T14:48:56.858Z"
   },
   {
    "duration": 16,
    "start_time": "2023-12-12T14:48:56.880Z"
   },
   {
    "duration": 14,
    "start_time": "2023-12-12T14:48:56.898Z"
   },
   {
    "duration": 151,
    "start_time": "2023-12-12T14:48:56.914Z"
   },
   {
    "duration": 4,
    "start_time": "2023-12-12T14:48:57.067Z"
   },
   {
    "duration": 17,
    "start_time": "2023-12-12T14:48:57.072Z"
   },
   {
    "duration": 3,
    "start_time": "2023-12-12T14:50:16.473Z"
   },
   {
    "duration": 55,
    "start_time": "2023-12-12T14:50:16.482Z"
   },
   {
    "duration": 8,
    "start_time": "2023-12-12T14:50:16.539Z"
   },
   {
    "duration": 24,
    "start_time": "2023-12-12T14:50:16.549Z"
   },
   {
    "duration": 236,
    "start_time": "2023-12-12T14:50:16.575Z"
   },
   {
    "duration": 26,
    "start_time": "2023-12-12T14:50:16.813Z"
   },
   {
    "duration": 7,
    "start_time": "2023-12-12T14:50:16.841Z"
   },
   {
    "duration": 16,
    "start_time": "2023-12-12T14:50:16.850Z"
   },
   {
    "duration": 426,
    "start_time": "2023-12-12T14:50:16.868Z"
   },
   {
    "duration": 15,
    "start_time": "2023-12-12T14:50:17.298Z"
   },
   {
    "duration": 9,
    "start_time": "2023-12-12T14:50:17.316Z"
   },
   {
    "duration": 32,
    "start_time": "2023-12-12T14:50:17.327Z"
   },
   {
    "duration": 34,
    "start_time": "2023-12-12T14:50:17.361Z"
   },
   {
    "duration": 28,
    "start_time": "2023-12-12T14:50:17.397Z"
   },
   {
    "duration": 30,
    "start_time": "2023-12-12T14:50:17.426Z"
   },
   {
    "duration": 13,
    "start_time": "2023-12-12T14:50:17.458Z"
   },
   {
    "duration": 28,
    "start_time": "2023-12-12T14:50:17.473Z"
   },
   {
    "duration": 46,
    "start_time": "2023-12-12T14:50:17.503Z"
   },
   {
    "duration": 15,
    "start_time": "2023-12-12T14:50:17.552Z"
   },
   {
    "duration": 85,
    "start_time": "2023-12-12T14:50:17.568Z"
   },
   {
    "duration": 12,
    "start_time": "2023-12-12T14:50:17.655Z"
   },
   {
    "duration": 30,
    "start_time": "2023-12-12T14:50:17.668Z"
   },
   {
    "duration": 21,
    "start_time": "2023-12-12T14:50:17.699Z"
   },
   {
    "duration": 22,
    "start_time": "2023-12-12T14:50:17.721Z"
   },
   {
    "duration": 22,
    "start_time": "2023-12-12T14:50:17.744Z"
   },
   {
    "duration": 20,
    "start_time": "2023-12-12T14:50:17.767Z"
   },
   {
    "duration": 22,
    "start_time": "2023-12-12T14:50:17.789Z"
   },
   {
    "duration": 23,
    "start_time": "2023-12-12T14:50:17.812Z"
   },
   {
    "duration": 15,
    "start_time": "2023-12-12T14:50:17.839Z"
   },
   {
    "duration": 18,
    "start_time": "2023-12-12T14:50:17.856Z"
   },
   {
    "duration": 157,
    "start_time": "2023-12-12T14:50:17.875Z"
   },
   {
    "duration": 4,
    "start_time": "2023-12-12T14:50:18.034Z"
   },
   {
    "duration": 38,
    "start_time": "2023-12-12T14:50:18.039Z"
   },
   {
    "duration": 52,
    "start_time": "2023-12-12T14:50:18.078Z"
   },
   {
    "duration": 29,
    "start_time": "2023-12-12T14:50:18.132Z"
   },
   {
    "duration": 148,
    "start_time": "2023-12-12T14:50:18.163Z"
   },
   {
    "duration": 3,
    "start_time": "2023-12-12T14:50:18.313Z"
   },
   {
    "duration": 22,
    "start_time": "2023-12-12T14:50:18.317Z"
   },
   {
    "duration": 144,
    "start_time": "2023-12-12T14:50:18.341Z"
   },
   {
    "duration": 15,
    "start_time": "2023-12-12T14:50:18.486Z"
   },
   {
    "duration": 8,
    "start_time": "2023-12-12T14:50:18.503Z"
   },
   {
    "duration": 39,
    "start_time": "2023-12-12T14:50:18.512Z"
   },
   {
    "duration": 17,
    "start_time": "2023-12-12T14:50:18.552Z"
   },
   {
    "duration": 46,
    "start_time": "2023-12-12T14:50:18.571Z"
   },
   {
    "duration": 26,
    "start_time": "2023-12-12T14:50:18.619Z"
   },
   {
    "duration": 37,
    "start_time": "2023-12-12T14:50:18.646Z"
   },
   {
    "duration": 496,
    "start_time": "2023-12-12T14:50:18.685Z"
   },
   {
    "duration": 17,
    "start_time": "2023-12-12T14:50:19.182Z"
   },
   {
    "duration": 22,
    "start_time": "2023-12-12T14:50:19.200Z"
   },
   {
    "duration": 50,
    "start_time": "2023-12-12T14:50:19.224Z"
   },
   {
    "duration": 26,
    "start_time": "2023-12-12T14:50:19.276Z"
   },
   {
    "duration": 40,
    "start_time": "2023-12-12T14:50:19.303Z"
   },
   {
    "duration": 13,
    "start_time": "2023-12-12T14:50:19.345Z"
   },
   {
    "duration": 46,
    "start_time": "2023-12-12T14:50:19.359Z"
   },
   {
    "duration": 65,
    "start_time": "2023-12-12T14:50:19.406Z"
   },
   {
    "duration": 37,
    "start_time": "2023-12-12T14:50:19.473Z"
   },
   {
    "duration": 756,
    "start_time": "2023-12-12T14:50:19.512Z"
   },
   {
    "duration": 2,
    "start_time": "2023-12-12T14:50:20.270Z"
   },
   {
    "duration": 21,
    "start_time": "2023-12-12T14:50:20.274Z"
   },
   {
    "duration": 7,
    "start_time": "2023-12-12T14:50:20.297Z"
   },
   {
    "duration": 8,
    "start_time": "2023-12-12T14:50:20.306Z"
   },
   {
    "duration": 29,
    "start_time": "2023-12-12T14:50:20.315Z"
   },
   {
    "duration": 15,
    "start_time": "2023-12-12T14:50:20.345Z"
   },
   {
    "duration": 19,
    "start_time": "2023-12-12T14:50:20.362Z"
   },
   {
    "duration": 23,
    "start_time": "2023-12-12T14:50:20.382Z"
   },
   {
    "duration": 21,
    "start_time": "2023-12-12T14:50:20.406Z"
   },
   {
    "duration": 16,
    "start_time": "2023-12-12T14:50:20.429Z"
   },
   {
    "duration": 22,
    "start_time": "2023-12-12T14:50:20.447Z"
   },
   {
    "duration": 22,
    "start_time": "2023-12-12T14:50:20.471Z"
   },
   {
    "duration": 6,
    "start_time": "2023-12-12T14:50:20.495Z"
   },
   {
    "duration": 171,
    "start_time": "2023-12-12T14:50:20.503Z"
   },
   {
    "duration": 5,
    "start_time": "2023-12-12T14:50:20.676Z"
   },
   {
    "duration": 26,
    "start_time": "2023-12-12T14:50:20.683Z"
   },
   {
    "duration": 100,
    "start_time": "2023-12-12T15:20:20.569Z"
   },
   {
    "duration": 16,
    "start_time": "2023-12-12T15:20:32.818Z"
   },
   {
    "duration": 3,
    "start_time": "2023-12-12T15:22:13.387Z"
   },
   {
    "duration": 33,
    "start_time": "2023-12-12T15:22:13.391Z"
   },
   {
    "duration": 10,
    "start_time": "2023-12-12T15:22:13.426Z"
   },
   {
    "duration": 18,
    "start_time": "2023-12-12T15:22:13.438Z"
   },
   {
    "duration": 224,
    "start_time": "2023-12-12T15:22:13.458Z"
   },
   {
    "duration": 34,
    "start_time": "2023-12-12T15:22:13.684Z"
   },
   {
    "duration": 11,
    "start_time": "2023-12-12T15:22:13.720Z"
   },
   {
    "duration": 17,
    "start_time": "2023-12-12T15:22:13.732Z"
   },
   {
    "duration": 511,
    "start_time": "2023-12-12T15:22:13.751Z"
   },
   {
    "duration": 15,
    "start_time": "2023-12-12T15:22:14.264Z"
   },
   {
    "duration": 6,
    "start_time": "2023-12-12T15:22:14.282Z"
   },
   {
    "duration": 41,
    "start_time": "2023-12-12T15:22:14.289Z"
   },
   {
    "duration": 23,
    "start_time": "2023-12-12T15:22:14.331Z"
   },
   {
    "duration": 10,
    "start_time": "2023-12-12T15:22:14.356Z"
   },
   {
    "duration": 5,
    "start_time": "2023-12-12T15:22:14.367Z"
   },
   {
    "duration": 17,
    "start_time": "2023-12-12T15:22:14.373Z"
   },
   {
    "duration": 19,
    "start_time": "2023-12-12T15:22:14.392Z"
   },
   {
    "duration": 9,
    "start_time": "2023-12-12T15:22:14.412Z"
   },
   {
    "duration": 21,
    "start_time": "2023-12-12T15:22:14.422Z"
   },
   {
    "duration": 9,
    "start_time": "2023-12-12T15:22:14.445Z"
   },
   {
    "duration": 7,
    "start_time": "2023-12-12T15:22:14.455Z"
   },
   {
    "duration": 12,
    "start_time": "2023-12-12T15:22:14.463Z"
   },
   {
    "duration": 26,
    "start_time": "2023-12-12T15:22:14.477Z"
   },
   {
    "duration": 11,
    "start_time": "2023-12-12T15:22:14.504Z"
   },
   {
    "duration": 7,
    "start_time": "2023-12-12T15:22:14.516Z"
   },
   {
    "duration": 12,
    "start_time": "2023-12-12T15:22:14.525Z"
   },
   {
    "duration": 6,
    "start_time": "2023-12-12T15:22:14.538Z"
   },
   {
    "duration": 16,
    "start_time": "2023-12-12T15:22:14.546Z"
   },
   {
    "duration": 3,
    "start_time": "2023-12-12T15:22:14.566Z"
   },
   {
    "duration": 7,
    "start_time": "2023-12-12T15:22:14.570Z"
   },
   {
    "duration": 154,
    "start_time": "2023-12-12T15:22:14.578Z"
   },
   {
    "duration": 4,
    "start_time": "2023-12-12T15:22:14.733Z"
   },
   {
    "duration": 24,
    "start_time": "2023-12-12T15:22:14.738Z"
   },
   {
    "duration": 11,
    "start_time": "2023-12-12T15:22:14.764Z"
   },
   {
    "duration": 14,
    "start_time": "2023-12-12T15:22:14.777Z"
   },
   {
    "duration": 128,
    "start_time": "2023-12-12T15:22:14.792Z"
   },
   {
    "duration": 4,
    "start_time": "2023-12-12T15:22:14.921Z"
   },
   {
    "duration": 30,
    "start_time": "2023-12-12T15:22:14.926Z"
   },
   {
    "duration": 132,
    "start_time": "2023-12-12T15:22:14.957Z"
   },
   {
    "duration": 14,
    "start_time": "2023-12-12T15:22:15.091Z"
   },
   {
    "duration": 27,
    "start_time": "2023-12-12T15:22:15.106Z"
   },
   {
    "duration": 33,
    "start_time": "2023-12-12T15:22:15.135Z"
   },
   {
    "duration": 16,
    "start_time": "2023-12-12T15:22:15.170Z"
   },
   {
    "duration": 16,
    "start_time": "2023-12-12T15:22:15.188Z"
   },
   {
    "duration": 17,
    "start_time": "2023-12-12T15:22:15.206Z"
   },
   {
    "duration": 15,
    "start_time": "2023-12-12T15:22:15.225Z"
   },
   {
    "duration": 401,
    "start_time": "2023-12-12T15:22:15.242Z"
   },
   {
    "duration": 12,
    "start_time": "2023-12-12T15:22:15.645Z"
   },
   {
    "duration": 57,
    "start_time": "2023-12-12T15:22:15.658Z"
   },
   {
    "duration": 0,
    "start_time": "2023-12-12T15:22:15.716Z"
   },
   {
    "duration": 0,
    "start_time": "2023-12-12T15:22:15.717Z"
   },
   {
    "duration": 0,
    "start_time": "2023-12-12T15:22:15.718Z"
   },
   {
    "duration": 0,
    "start_time": "2023-12-12T15:22:15.720Z"
   },
   {
    "duration": 0,
    "start_time": "2023-12-12T15:22:15.721Z"
   },
   {
    "duration": 0,
    "start_time": "2023-12-12T15:22:15.722Z"
   },
   {
    "duration": 0,
    "start_time": "2023-12-12T15:22:15.723Z"
   },
   {
    "duration": 0,
    "start_time": "2023-12-12T15:22:15.724Z"
   },
   {
    "duration": 0,
    "start_time": "2023-12-12T15:22:15.726Z"
   },
   {
    "duration": 0,
    "start_time": "2023-12-12T15:22:15.727Z"
   },
   {
    "duration": 0,
    "start_time": "2023-12-12T15:22:15.728Z"
   },
   {
    "duration": 0,
    "start_time": "2023-12-12T15:22:15.729Z"
   },
   {
    "duration": 1,
    "start_time": "2023-12-12T15:22:15.730Z"
   },
   {
    "duration": 0,
    "start_time": "2023-12-12T15:22:15.732Z"
   },
   {
    "duration": 0,
    "start_time": "2023-12-12T15:22:15.733Z"
   },
   {
    "duration": 0,
    "start_time": "2023-12-12T15:22:15.734Z"
   },
   {
    "duration": 0,
    "start_time": "2023-12-12T15:22:15.735Z"
   },
   {
    "duration": 0,
    "start_time": "2023-12-12T15:22:15.736Z"
   },
   {
    "duration": 0,
    "start_time": "2023-12-12T15:22:15.738Z"
   },
   {
    "duration": 0,
    "start_time": "2023-12-12T15:22:15.738Z"
   },
   {
    "duration": 0,
    "start_time": "2023-12-12T15:22:15.739Z"
   },
   {
    "duration": 0,
    "start_time": "2023-12-12T15:22:15.740Z"
   },
   {
    "duration": 0,
    "start_time": "2023-12-12T15:22:15.741Z"
   },
   {
    "duration": 0,
    "start_time": "2023-12-12T15:22:15.742Z"
   },
   {
    "duration": 0,
    "start_time": "2023-12-12T15:22:15.742Z"
   },
   {
    "duration": 8,
    "start_time": "2023-12-12T15:22:30.425Z"
   },
   {
    "duration": 3,
    "start_time": "2023-12-12T15:22:52.149Z"
   },
   {
    "duration": 49,
    "start_time": "2023-12-12T15:22:52.154Z"
   },
   {
    "duration": 9,
    "start_time": "2023-12-12T15:22:52.205Z"
   },
   {
    "duration": 32,
    "start_time": "2023-12-12T15:22:52.215Z"
   },
   {
    "duration": 239,
    "start_time": "2023-12-12T15:22:52.249Z"
   },
   {
    "duration": 27,
    "start_time": "2023-12-12T15:22:52.499Z"
   },
   {
    "duration": 9,
    "start_time": "2023-12-12T15:22:52.527Z"
   },
   {
    "duration": 41,
    "start_time": "2023-12-12T15:22:52.537Z"
   },
   {
    "duration": 433,
    "start_time": "2023-12-12T15:22:52.580Z"
   },
   {
    "duration": 16,
    "start_time": "2023-12-12T15:22:53.014Z"
   },
   {
    "duration": 10,
    "start_time": "2023-12-12T15:22:53.032Z"
   },
   {
    "duration": 29,
    "start_time": "2023-12-12T15:22:53.044Z"
   },
   {
    "duration": 20,
    "start_time": "2023-12-12T15:22:53.074Z"
   },
   {
    "duration": 39,
    "start_time": "2023-12-12T15:22:53.095Z"
   },
   {
    "duration": 9,
    "start_time": "2023-12-12T15:22:53.135Z"
   },
   {
    "duration": 30,
    "start_time": "2023-12-12T15:22:53.145Z"
   },
   {
    "duration": 31,
    "start_time": "2023-12-12T15:22:53.177Z"
   },
   {
    "duration": 11,
    "start_time": "2023-12-12T15:22:53.209Z"
   },
   {
    "duration": 24,
    "start_time": "2023-12-12T15:22:53.222Z"
   },
   {
    "duration": 102,
    "start_time": "2023-12-12T15:22:53.247Z"
   },
   {
    "duration": 32,
    "start_time": "2023-12-12T15:22:53.351Z"
   },
   {
    "duration": 38,
    "start_time": "2023-12-12T15:22:53.384Z"
   },
   {
    "duration": 41,
    "start_time": "2023-12-12T15:22:53.423Z"
   },
   {
    "duration": 36,
    "start_time": "2023-12-12T15:22:53.465Z"
   },
   {
    "duration": 23,
    "start_time": "2023-12-12T15:22:53.504Z"
   },
   {
    "duration": 26,
    "start_time": "2023-12-12T15:22:53.529Z"
   },
   {
    "duration": 22,
    "start_time": "2023-12-12T15:22:53.557Z"
   },
   {
    "duration": 26,
    "start_time": "2023-12-12T15:22:53.581Z"
   },
   {
    "duration": 16,
    "start_time": "2023-12-12T15:22:53.611Z"
   },
   {
    "duration": 22,
    "start_time": "2023-12-12T15:22:53.629Z"
   },
   {
    "duration": 164,
    "start_time": "2023-12-12T15:22:53.653Z"
   },
   {
    "duration": 3,
    "start_time": "2023-12-12T15:22:53.818Z"
   },
   {
    "duration": 32,
    "start_time": "2023-12-12T15:22:53.823Z"
   },
   {
    "duration": 25,
    "start_time": "2023-12-12T15:22:53.856Z"
   },
   {
    "duration": 31,
    "start_time": "2023-12-12T15:22:53.883Z"
   },
   {
    "duration": 125,
    "start_time": "2023-12-12T15:22:53.916Z"
   },
   {
    "duration": 3,
    "start_time": "2023-12-12T15:22:54.043Z"
   },
   {
    "duration": 27,
    "start_time": "2023-12-12T15:22:54.048Z"
   },
   {
    "duration": 130,
    "start_time": "2023-12-12T15:22:54.076Z"
   },
   {
    "duration": 9,
    "start_time": "2023-12-12T15:22:54.207Z"
   },
   {
    "duration": 24,
    "start_time": "2023-12-12T15:22:54.217Z"
   },
   {
    "duration": 30,
    "start_time": "2023-12-12T15:22:54.243Z"
   },
   {
    "duration": 15,
    "start_time": "2023-12-12T15:22:54.274Z"
   },
   {
    "duration": 27,
    "start_time": "2023-12-12T15:22:54.291Z"
   },
   {
    "duration": 33,
    "start_time": "2023-12-12T15:22:54.320Z"
   },
   {
    "duration": 43,
    "start_time": "2023-12-12T15:22:54.354Z"
   },
   {
    "duration": 438,
    "start_time": "2023-12-12T15:22:54.399Z"
   },
   {
    "duration": 18,
    "start_time": "2023-12-12T15:22:54.839Z"
   },
   {
    "duration": 0,
    "start_time": "2023-12-12T15:22:54.859Z"
   },
   {
    "duration": 0,
    "start_time": "2023-12-12T15:22:54.860Z"
   },
   {
    "duration": 0,
    "start_time": "2023-12-12T15:22:54.861Z"
   },
   {
    "duration": 0,
    "start_time": "2023-12-12T15:22:54.862Z"
   },
   {
    "duration": 0,
    "start_time": "2023-12-12T15:22:54.863Z"
   },
   {
    "duration": 0,
    "start_time": "2023-12-12T15:22:54.864Z"
   },
   {
    "duration": 0,
    "start_time": "2023-12-12T15:22:54.865Z"
   },
   {
    "duration": 0,
    "start_time": "2023-12-12T15:22:54.866Z"
   },
   {
    "duration": 0,
    "start_time": "2023-12-12T15:22:54.867Z"
   },
   {
    "duration": 0,
    "start_time": "2023-12-12T15:22:54.868Z"
   },
   {
    "duration": 0,
    "start_time": "2023-12-12T15:22:54.869Z"
   },
   {
    "duration": 0,
    "start_time": "2023-12-12T15:22:54.870Z"
   },
   {
    "duration": 0,
    "start_time": "2023-12-12T15:22:54.871Z"
   },
   {
    "duration": 0,
    "start_time": "2023-12-12T15:22:54.872Z"
   },
   {
    "duration": 0,
    "start_time": "2023-12-12T15:22:54.898Z"
   },
   {
    "duration": 0,
    "start_time": "2023-12-12T15:22:54.900Z"
   },
   {
    "duration": 0,
    "start_time": "2023-12-12T15:22:54.901Z"
   },
   {
    "duration": 0,
    "start_time": "2023-12-12T15:22:54.903Z"
   },
   {
    "duration": 0,
    "start_time": "2023-12-12T15:22:54.904Z"
   },
   {
    "duration": 0,
    "start_time": "2023-12-12T15:22:54.905Z"
   },
   {
    "duration": 0,
    "start_time": "2023-12-12T15:22:54.907Z"
   },
   {
    "duration": 0,
    "start_time": "2023-12-12T15:22:54.908Z"
   },
   {
    "duration": 0,
    "start_time": "2023-12-12T15:22:54.909Z"
   },
   {
    "duration": 0,
    "start_time": "2023-12-12T15:22:54.911Z"
   },
   {
    "duration": 0,
    "start_time": "2023-12-12T15:22:54.912Z"
   },
   {
    "duration": 0,
    "start_time": "2023-12-12T15:22:54.913Z"
   },
   {
    "duration": 12,
    "start_time": "2023-12-12T15:23:28.505Z"
   },
   {
    "duration": 9,
    "start_time": "2023-12-12T15:23:35.680Z"
   },
   {
    "duration": 3,
    "start_time": "2023-12-12T15:27:11.710Z"
   },
   {
    "duration": 46,
    "start_time": "2023-12-12T15:27:11.715Z"
   },
   {
    "duration": 8,
    "start_time": "2023-12-12T15:27:11.762Z"
   },
   {
    "duration": 10,
    "start_time": "2023-12-12T15:27:11.772Z"
   },
   {
    "duration": 224,
    "start_time": "2023-12-12T15:27:11.784Z"
   },
   {
    "duration": 25,
    "start_time": "2023-12-12T15:27:12.009Z"
   },
   {
    "duration": 8,
    "start_time": "2023-12-12T15:27:12.036Z"
   },
   {
    "duration": 10,
    "start_time": "2023-12-12T15:27:12.045Z"
   },
   {
    "duration": 418,
    "start_time": "2023-12-12T15:27:12.058Z"
   },
   {
    "duration": 16,
    "start_time": "2023-12-12T15:27:12.477Z"
   },
   {
    "duration": 6,
    "start_time": "2023-12-12T15:27:12.495Z"
   },
   {
    "duration": 8,
    "start_time": "2023-12-12T15:27:12.503Z"
   },
   {
    "duration": 7,
    "start_time": "2023-12-12T15:27:12.513Z"
   },
   {
    "duration": 11,
    "start_time": "2023-12-12T15:27:12.522Z"
   },
   {
    "duration": 6,
    "start_time": "2023-12-12T15:27:12.534Z"
   },
   {
    "duration": 15,
    "start_time": "2023-12-12T15:27:12.542Z"
   },
   {
    "duration": 36,
    "start_time": "2023-12-12T15:27:12.558Z"
   },
   {
    "duration": 44,
    "start_time": "2023-12-12T15:27:12.595Z"
   },
   {
    "duration": 19,
    "start_time": "2023-12-12T15:27:12.641Z"
   },
   {
    "duration": 8,
    "start_time": "2023-12-12T15:27:12.661Z"
   },
   {
    "duration": 7,
    "start_time": "2023-12-12T15:27:12.670Z"
   },
   {
    "duration": 18,
    "start_time": "2023-12-12T15:27:12.678Z"
   },
   {
    "duration": 13,
    "start_time": "2023-12-12T15:27:12.697Z"
   },
   {
    "duration": 5,
    "start_time": "2023-12-12T15:27:12.713Z"
   },
   {
    "duration": 23,
    "start_time": "2023-12-12T15:27:12.719Z"
   },
   {
    "duration": 20,
    "start_time": "2023-12-12T15:27:12.743Z"
   },
   {
    "duration": 16,
    "start_time": "2023-12-12T15:27:12.764Z"
   },
   {
    "duration": 20,
    "start_time": "2023-12-12T15:27:12.782Z"
   },
   {
    "duration": 11,
    "start_time": "2023-12-12T15:27:12.803Z"
   },
   {
    "duration": 12,
    "start_time": "2023-12-12T15:27:12.815Z"
   },
   {
    "duration": 136,
    "start_time": "2023-12-12T15:27:12.828Z"
   },
   {
    "duration": 4,
    "start_time": "2023-12-12T15:27:12.965Z"
   },
   {
    "duration": 14,
    "start_time": "2023-12-12T15:27:12.970Z"
   },
   {
    "duration": 14,
    "start_time": "2023-12-12T15:27:12.986Z"
   },
   {
    "duration": 15,
    "start_time": "2023-12-12T15:27:13.003Z"
   },
   {
    "duration": 129,
    "start_time": "2023-12-12T15:27:13.020Z"
   },
   {
    "duration": 3,
    "start_time": "2023-12-12T15:27:13.150Z"
   },
   {
    "duration": 14,
    "start_time": "2023-12-12T15:27:13.155Z"
   },
   {
    "duration": 234,
    "start_time": "2023-12-12T15:27:13.171Z"
   },
   {
    "duration": 9,
    "start_time": "2023-12-12T15:27:13.406Z"
   },
   {
    "duration": 12,
    "start_time": "2023-12-12T15:27:13.417Z"
   },
   {
    "duration": 19,
    "start_time": "2023-12-12T15:27:13.431Z"
   },
   {
    "duration": 8,
    "start_time": "2023-12-12T15:27:13.452Z"
   },
   {
    "duration": 23,
    "start_time": "2023-12-12T15:27:13.462Z"
   },
   {
    "duration": 18,
    "start_time": "2023-12-12T15:27:13.487Z"
   },
   {
    "duration": 19,
    "start_time": "2023-12-12T15:27:13.507Z"
   },
   {
    "duration": 405,
    "start_time": "2023-12-12T15:27:13.529Z"
   },
   {
    "duration": 10,
    "start_time": "2023-12-12T15:27:13.936Z"
   },
   {
    "duration": 8,
    "start_time": "2023-12-12T15:27:13.948Z"
   },
   {
    "duration": 4,
    "start_time": "2023-12-12T15:27:13.957Z"
   },
   {
    "duration": 6,
    "start_time": "2023-12-12T15:27:13.962Z"
   },
   {
    "duration": 756,
    "start_time": "2023-12-12T15:27:13.970Z"
   },
   {
    "duration": 0,
    "start_time": "2023-12-12T15:27:14.727Z"
   },
   {
    "duration": 0,
    "start_time": "2023-12-12T15:27:14.728Z"
   },
   {
    "duration": 0,
    "start_time": "2023-12-12T15:27:14.729Z"
   },
   {
    "duration": 0,
    "start_time": "2023-12-12T15:27:14.730Z"
   },
   {
    "duration": 0,
    "start_time": "2023-12-12T15:27:14.731Z"
   },
   {
    "duration": 0,
    "start_time": "2023-12-12T15:27:14.732Z"
   },
   {
    "duration": 0,
    "start_time": "2023-12-12T15:27:14.733Z"
   },
   {
    "duration": 0,
    "start_time": "2023-12-12T15:27:14.733Z"
   },
   {
    "duration": 0,
    "start_time": "2023-12-12T15:27:14.735Z"
   },
   {
    "duration": 0,
    "start_time": "2023-12-12T15:27:14.735Z"
   },
   {
    "duration": 0,
    "start_time": "2023-12-12T15:27:14.737Z"
   },
   {
    "duration": 0,
    "start_time": "2023-12-12T15:27:14.737Z"
   },
   {
    "duration": 0,
    "start_time": "2023-12-12T15:27:14.738Z"
   },
   {
    "duration": 0,
    "start_time": "2023-12-12T15:27:14.739Z"
   },
   {
    "duration": 0,
    "start_time": "2023-12-12T15:27:14.740Z"
   },
   {
    "duration": 0,
    "start_time": "2023-12-12T15:27:14.741Z"
   },
   {
    "duration": 0,
    "start_time": "2023-12-12T15:27:14.741Z"
   },
   {
    "duration": 0,
    "start_time": "2023-12-12T15:27:14.742Z"
   },
   {
    "duration": 0,
    "start_time": "2023-12-12T15:27:14.743Z"
   },
   {
    "duration": 0,
    "start_time": "2023-12-12T15:27:14.744Z"
   },
   {
    "duration": 0,
    "start_time": "2023-12-12T15:27:14.745Z"
   },
   {
    "duration": 0,
    "start_time": "2023-12-12T15:27:14.746Z"
   },
   {
    "duration": 3,
    "start_time": "2023-12-12T15:29:12.751Z"
   },
   {
    "duration": 30,
    "start_time": "2023-12-12T15:29:12.755Z"
   },
   {
    "duration": 8,
    "start_time": "2023-12-12T15:29:12.787Z"
   },
   {
    "duration": 21,
    "start_time": "2023-12-12T15:29:12.796Z"
   },
   {
    "duration": 220,
    "start_time": "2023-12-12T15:29:12.819Z"
   },
   {
    "duration": 24,
    "start_time": "2023-12-12T15:29:13.041Z"
   },
   {
    "duration": 8,
    "start_time": "2023-12-12T15:29:13.067Z"
   },
   {
    "duration": 31,
    "start_time": "2023-12-12T15:29:13.077Z"
   },
   {
    "duration": 404,
    "start_time": "2023-12-12T15:29:13.110Z"
   },
   {
    "duration": 16,
    "start_time": "2023-12-12T15:29:13.515Z"
   },
   {
    "duration": 6,
    "start_time": "2023-12-12T15:29:13.534Z"
   },
   {
    "duration": 9,
    "start_time": "2023-12-12T15:29:13.542Z"
   },
   {
    "duration": 7,
    "start_time": "2023-12-12T15:29:13.553Z"
   },
   {
    "duration": 31,
    "start_time": "2023-12-12T15:29:13.562Z"
   },
   {
    "duration": 5,
    "start_time": "2023-12-12T15:29:13.594Z"
   },
   {
    "duration": 39,
    "start_time": "2023-12-12T15:29:13.600Z"
   },
   {
    "duration": 16,
    "start_time": "2023-12-12T15:29:13.640Z"
   },
   {
    "duration": 9,
    "start_time": "2023-12-12T15:29:13.657Z"
   },
   {
    "duration": 7,
    "start_time": "2023-12-12T15:29:13.668Z"
   },
   {
    "duration": 10,
    "start_time": "2023-12-12T15:29:13.676Z"
   },
   {
    "duration": 18,
    "start_time": "2023-12-12T15:29:13.687Z"
   },
   {
    "duration": 14,
    "start_time": "2023-12-12T15:29:13.707Z"
   },
   {
    "duration": 20,
    "start_time": "2023-12-12T15:29:13.722Z"
   },
   {
    "duration": 27,
    "start_time": "2023-12-12T15:29:13.743Z"
   },
   {
    "duration": 24,
    "start_time": "2023-12-12T15:29:13.771Z"
   },
   {
    "duration": 18,
    "start_time": "2023-12-12T15:29:13.797Z"
   },
   {
    "duration": 7,
    "start_time": "2023-12-12T15:29:13.817Z"
   },
   {
    "duration": 18,
    "start_time": "2023-12-12T15:29:13.825Z"
   },
   {
    "duration": 9,
    "start_time": "2023-12-12T15:29:13.846Z"
   },
   {
    "duration": 37,
    "start_time": "2023-12-12T15:29:13.857Z"
   },
   {
    "duration": 171,
    "start_time": "2023-12-12T15:29:13.896Z"
   },
   {
    "duration": 3,
    "start_time": "2023-12-12T15:29:14.069Z"
   },
   {
    "duration": 56,
    "start_time": "2023-12-12T15:29:14.074Z"
   },
   {
    "duration": 34,
    "start_time": "2023-12-12T15:29:14.131Z"
   },
   {
    "duration": 44,
    "start_time": "2023-12-12T15:29:14.166Z"
   },
   {
    "duration": 133,
    "start_time": "2023-12-12T15:29:14.211Z"
   },
   {
    "duration": 3,
    "start_time": "2023-12-12T15:29:14.345Z"
   },
   {
    "duration": 45,
    "start_time": "2023-12-12T15:29:14.349Z"
   },
   {
    "duration": 151,
    "start_time": "2023-12-12T15:29:14.396Z"
   },
   {
    "duration": 9,
    "start_time": "2023-12-12T15:29:14.548Z"
   },
   {
    "duration": 27,
    "start_time": "2023-12-12T15:29:14.559Z"
   },
   {
    "duration": 16,
    "start_time": "2023-12-12T15:29:14.588Z"
   },
   {
    "duration": 26,
    "start_time": "2023-12-12T15:29:14.606Z"
   },
   {
    "duration": 57,
    "start_time": "2023-12-12T15:29:14.633Z"
   },
   {
    "duration": 27,
    "start_time": "2023-12-12T15:29:14.692Z"
   },
   {
    "duration": 30,
    "start_time": "2023-12-12T15:29:14.721Z"
   },
   {
    "duration": 440,
    "start_time": "2023-12-12T15:29:14.752Z"
   },
   {
    "duration": 2,
    "start_time": "2023-12-12T15:29:15.194Z"
   },
   {
    "duration": 16,
    "start_time": "2023-12-12T15:29:15.199Z"
   },
   {
    "duration": 13,
    "start_time": "2023-12-12T15:29:15.216Z"
   },
   {
    "duration": 3,
    "start_time": "2023-12-12T15:29:15.230Z"
   },
   {
    "duration": 5,
    "start_time": "2023-12-12T15:29:15.235Z"
   },
   {
    "duration": 10,
    "start_time": "2023-12-12T15:29:15.241Z"
   },
   {
    "duration": 11,
    "start_time": "2023-12-12T15:29:15.253Z"
   },
   {
    "duration": 12,
    "start_time": "2023-12-12T15:29:15.266Z"
   },
   {
    "duration": 21,
    "start_time": "2023-12-12T15:29:15.280Z"
   },
   {
    "duration": 6,
    "start_time": "2023-12-12T15:29:15.303Z"
   },
   {
    "duration": 15,
    "start_time": "2023-12-12T15:29:15.310Z"
   },
   {
    "duration": 7,
    "start_time": "2023-12-12T15:29:15.327Z"
   },
   {
    "duration": 4,
    "start_time": "2023-12-12T15:29:15.336Z"
   },
   {
    "duration": 10,
    "start_time": "2023-12-12T15:29:15.341Z"
   },
   {
    "duration": 18,
    "start_time": "2023-12-12T15:29:15.352Z"
   },
   {
    "duration": 21,
    "start_time": "2023-12-12T15:29:15.372Z"
   },
   {
    "duration": 13,
    "start_time": "2023-12-12T15:29:15.394Z"
   },
   {
    "duration": 20,
    "start_time": "2023-12-12T15:29:15.409Z"
   },
   {
    "duration": 17,
    "start_time": "2023-12-12T15:29:15.431Z"
   },
   {
    "duration": 111,
    "start_time": "2023-12-12T15:29:15.450Z"
   },
   {
    "duration": 13,
    "start_time": "2023-12-12T15:29:15.563Z"
   },
   {
    "duration": 29,
    "start_time": "2023-12-12T15:29:15.578Z"
   },
   {
    "duration": 21,
    "start_time": "2023-12-12T15:29:15.608Z"
   },
   {
    "duration": 14,
    "start_time": "2023-12-12T15:29:15.631Z"
   },
   {
    "duration": 12,
    "start_time": "2023-12-12T15:29:15.647Z"
   },
   {
    "duration": 144,
    "start_time": "2023-12-12T15:29:15.661Z"
   },
   {
    "duration": 4,
    "start_time": "2023-12-12T15:29:15.807Z"
   },
   {
    "duration": 8,
    "start_time": "2023-12-12T15:29:15.812Z"
   },
   {
    "duration": 3,
    "start_time": "2023-12-12T15:48:11.540Z"
   },
   {
    "duration": 29,
    "start_time": "2023-12-12T15:48:11.561Z"
   },
   {
    "duration": 9,
    "start_time": "2023-12-12T15:48:11.592Z"
   },
   {
    "duration": 16,
    "start_time": "2023-12-12T15:48:11.602Z"
   },
   {
    "duration": 232,
    "start_time": "2023-12-12T15:48:11.620Z"
   },
   {
    "duration": 27,
    "start_time": "2023-12-12T15:48:11.853Z"
   },
   {
    "duration": 8,
    "start_time": "2023-12-12T15:48:11.881Z"
   },
   {
    "duration": 14,
    "start_time": "2023-12-12T15:48:11.891Z"
   },
   {
    "duration": 447,
    "start_time": "2023-12-12T15:48:11.906Z"
   },
   {
    "duration": 16,
    "start_time": "2023-12-12T15:48:12.355Z"
   },
   {
    "duration": 6,
    "start_time": "2023-12-12T15:48:12.373Z"
   },
   {
    "duration": 23,
    "start_time": "2023-12-12T15:48:12.380Z"
   },
   {
    "duration": 8,
    "start_time": "2023-12-12T15:48:12.405Z"
   },
   {
    "duration": 13,
    "start_time": "2023-12-12T15:48:12.415Z"
   },
   {
    "duration": 4,
    "start_time": "2023-12-12T15:48:12.430Z"
   },
   {
    "duration": 11,
    "start_time": "2023-12-12T15:48:12.435Z"
   },
   {
    "duration": 6,
    "start_time": "2023-12-12T15:48:12.447Z"
   },
   {
    "duration": 12,
    "start_time": "2023-12-12T15:48:12.454Z"
   },
   {
    "duration": 5,
    "start_time": "2023-12-12T15:48:12.467Z"
   },
   {
    "duration": 36,
    "start_time": "2023-12-12T15:48:12.473Z"
   },
   {
    "duration": 5,
    "start_time": "2023-12-12T15:48:12.510Z"
   },
   {
    "duration": 11,
    "start_time": "2023-12-12T15:48:12.517Z"
   },
   {
    "duration": 9,
    "start_time": "2023-12-12T15:48:12.530Z"
   },
   {
    "duration": 9,
    "start_time": "2023-12-12T15:48:12.540Z"
   },
   {
    "duration": 19,
    "start_time": "2023-12-12T15:48:12.550Z"
   },
   {
    "duration": 9,
    "start_time": "2023-12-12T15:48:12.570Z"
   },
   {
    "duration": 9,
    "start_time": "2023-12-12T15:48:12.580Z"
   },
   {
    "duration": 10,
    "start_time": "2023-12-12T15:48:12.590Z"
   },
   {
    "duration": 3,
    "start_time": "2023-12-12T15:48:12.604Z"
   },
   {
    "duration": 5,
    "start_time": "2023-12-12T15:48:12.608Z"
   },
   {
    "duration": 149,
    "start_time": "2023-12-12T15:48:12.614Z"
   },
   {
    "duration": 3,
    "start_time": "2023-12-12T15:48:12.765Z"
   },
   {
    "duration": 16,
    "start_time": "2023-12-12T15:48:12.770Z"
   },
   {
    "duration": 12,
    "start_time": "2023-12-12T15:48:12.788Z"
   },
   {
    "duration": 10,
    "start_time": "2023-12-12T15:48:12.802Z"
   },
   {
    "duration": 124,
    "start_time": "2023-12-12T15:48:12.813Z"
   },
   {
    "duration": 3,
    "start_time": "2023-12-12T15:48:12.938Z"
   },
   {
    "duration": 17,
    "start_time": "2023-12-12T15:48:12.943Z"
   },
   {
    "duration": 123,
    "start_time": "2023-12-12T15:48:12.962Z"
   },
   {
    "duration": 18,
    "start_time": "2023-12-12T15:48:13.087Z"
   },
   {
    "duration": 25,
    "start_time": "2023-12-12T15:48:13.106Z"
   },
   {
    "duration": 15,
    "start_time": "2023-12-12T15:48:13.132Z"
   },
   {
    "duration": 9,
    "start_time": "2023-12-12T15:48:13.149Z"
   },
   {
    "duration": 20,
    "start_time": "2023-12-12T15:48:13.159Z"
   },
   {
    "duration": 7,
    "start_time": "2023-12-12T15:48:13.181Z"
   },
   {
    "duration": 15,
    "start_time": "2023-12-12T15:48:13.198Z"
   },
   {
    "duration": 461,
    "start_time": "2023-12-12T15:48:13.214Z"
   },
   {
    "duration": 23,
    "start_time": "2023-12-12T15:48:13.677Z"
   },
   {
    "duration": 10,
    "start_time": "2023-12-12T15:48:13.702Z"
   },
   {
    "duration": 5,
    "start_time": "2023-12-12T15:48:13.714Z"
   },
   {
    "duration": 17,
    "start_time": "2023-12-12T15:48:13.721Z"
   },
   {
    "duration": 17,
    "start_time": "2023-12-12T15:48:13.739Z"
   },
   {
    "duration": 11,
    "start_time": "2023-12-12T15:48:13.758Z"
   },
   {
    "duration": 12,
    "start_time": "2023-12-12T15:48:13.771Z"
   },
   {
    "duration": 31,
    "start_time": "2023-12-12T15:48:13.785Z"
   },
   {
    "duration": 13,
    "start_time": "2023-12-12T15:48:13.818Z"
   },
   {
    "duration": 4,
    "start_time": "2023-12-12T15:48:13.832Z"
   },
   {
    "duration": 18,
    "start_time": "2023-12-12T15:48:13.837Z"
   },
   {
    "duration": 16,
    "start_time": "2023-12-12T15:48:13.857Z"
   },
   {
    "duration": 12,
    "start_time": "2023-12-12T15:48:13.875Z"
   },
   {
    "duration": 18,
    "start_time": "2023-12-12T15:48:13.888Z"
   },
   {
    "duration": 18,
    "start_time": "2023-12-12T15:48:13.908Z"
   },
   {
    "duration": 15,
    "start_time": "2023-12-12T15:48:13.928Z"
   },
   {
    "duration": 14,
    "start_time": "2023-12-12T15:48:13.945Z"
   },
   {
    "duration": 25,
    "start_time": "2023-12-12T15:48:13.961Z"
   },
   {
    "duration": 9,
    "start_time": "2023-12-12T15:48:13.987Z"
   },
   {
    "duration": 6,
    "start_time": "2023-12-12T15:48:13.997Z"
   },
   {
    "duration": 3,
    "start_time": "2023-12-12T15:48:14.005Z"
   },
   {
    "duration": 5,
    "start_time": "2023-12-12T15:48:14.010Z"
   },
   {
    "duration": 137,
    "start_time": "2023-12-12T15:48:14.016Z"
   },
   {
    "duration": 2,
    "start_time": "2023-12-12T15:48:14.155Z"
   },
   {
    "duration": 17,
    "start_time": "2023-12-12T15:48:14.159Z"
   },
   {
    "duration": 19,
    "start_time": "2023-12-12T15:48:14.177Z"
   },
   {
    "duration": 11,
    "start_time": "2023-12-12T15:48:14.197Z"
   },
   {
    "duration": 7,
    "start_time": "2023-12-12T15:48:14.209Z"
   },
   {
    "duration": 23,
    "start_time": "2023-12-12T15:48:14.217Z"
   },
   {
    "duration": 5,
    "start_time": "2023-12-12T15:48:14.241Z"
   },
   {
    "duration": 7,
    "start_time": "2023-12-12T15:48:14.247Z"
   },
   {
    "duration": 422,
    "start_time": "2023-12-12T16:29:02.219Z"
   },
   {
    "duration": 88,
    "start_time": "2023-12-12T16:29:02.643Z"
   },
   {
    "duration": 14,
    "start_time": "2023-12-12T16:29:02.733Z"
   },
   {
    "duration": 13,
    "start_time": "2023-12-12T16:29:02.749Z"
   },
   {
    "duration": 639,
    "start_time": "2023-12-12T16:29:02.764Z"
   },
   {
    "duration": 160,
    "start_time": "2023-12-12T16:29:03.405Z"
   },
   {
    "duration": 10,
    "start_time": "2023-12-12T16:29:03.566Z"
   },
   {
    "duration": 14,
    "start_time": "2023-12-12T16:29:03.577Z"
   },
   {
    "duration": 431,
    "start_time": "2023-12-12T16:29:03.593Z"
   },
   {
    "duration": 67,
    "start_time": "2023-12-12T16:29:04.026Z"
   },
   {
    "duration": 8,
    "start_time": "2023-12-12T16:29:04.095Z"
   },
   {
    "duration": 14,
    "start_time": "2023-12-12T16:29:04.105Z"
   },
   {
    "duration": 11,
    "start_time": "2023-12-12T16:29:04.121Z"
   },
   {
    "duration": 71,
    "start_time": "2023-12-12T16:29:04.134Z"
   },
   {
    "duration": 9,
    "start_time": "2023-12-12T16:29:04.206Z"
   },
   {
    "duration": 9,
    "start_time": "2023-12-12T16:29:04.216Z"
   },
   {
    "duration": 6,
    "start_time": "2023-12-12T16:29:04.226Z"
   },
   {
    "duration": 8,
    "start_time": "2023-12-12T16:29:04.233Z"
   },
   {
    "duration": 8,
    "start_time": "2023-12-12T16:29:04.242Z"
   },
   {
    "duration": 8,
    "start_time": "2023-12-12T16:29:04.252Z"
   },
   {
    "duration": 15,
    "start_time": "2023-12-12T16:29:04.262Z"
   },
   {
    "duration": 38,
    "start_time": "2023-12-12T16:29:04.279Z"
   },
   {
    "duration": 9,
    "start_time": "2023-12-12T16:29:04.318Z"
   },
   {
    "duration": 6,
    "start_time": "2023-12-12T16:29:04.329Z"
   },
   {
    "duration": 14,
    "start_time": "2023-12-12T16:29:04.336Z"
   },
   {
    "duration": 16,
    "start_time": "2023-12-12T16:29:04.352Z"
   },
   {
    "duration": 58,
    "start_time": "2023-12-12T16:29:04.370Z"
   },
   {
    "duration": 58,
    "start_time": "2023-12-12T16:29:04.432Z"
   },
   {
    "duration": 113,
    "start_time": "2023-12-12T16:29:04.492Z"
   },
   {
    "duration": 10,
    "start_time": "2023-12-12T16:29:04.607Z"
   },
   {
    "duration": 154,
    "start_time": "2023-12-12T16:29:04.619Z"
   },
   {
    "duration": 4,
    "start_time": "2023-12-12T16:29:04.774Z"
   },
   {
    "duration": 32,
    "start_time": "2023-12-12T16:29:04.779Z"
   },
   {
    "duration": 11,
    "start_time": "2023-12-12T16:29:04.812Z"
   },
   {
    "duration": 25,
    "start_time": "2023-12-12T16:29:04.825Z"
   },
   {
    "duration": 136,
    "start_time": "2023-12-12T16:29:04.852Z"
   },
   {
    "duration": 3,
    "start_time": "2023-12-12T16:29:04.990Z"
   },
   {
    "duration": 27,
    "start_time": "2023-12-12T16:29:04.994Z"
   },
   {
    "duration": 130,
    "start_time": "2023-12-12T16:29:05.023Z"
   },
   {
    "duration": 11,
    "start_time": "2023-12-12T16:29:05.154Z"
   },
   {
    "duration": 14,
    "start_time": "2023-12-12T16:29:05.166Z"
   },
   {
    "duration": 18,
    "start_time": "2023-12-12T16:29:05.182Z"
   },
   {
    "duration": 20,
    "start_time": "2023-12-12T16:29:05.202Z"
   },
   {
    "duration": 15,
    "start_time": "2023-12-12T16:29:05.224Z"
   },
   {
    "duration": 29,
    "start_time": "2023-12-12T16:29:05.240Z"
   },
   {
    "duration": 20,
    "start_time": "2023-12-12T16:29:05.271Z"
   },
   {
    "duration": 506,
    "start_time": "2023-12-12T16:29:05.292Z"
   },
   {
    "duration": 16,
    "start_time": "2023-12-12T16:29:05.799Z"
   },
   {
    "duration": 10,
    "start_time": "2023-12-12T16:29:05.816Z"
   },
   {
    "duration": 7,
    "start_time": "2023-12-12T16:29:05.827Z"
   },
   {
    "duration": 16,
    "start_time": "2023-12-12T16:29:05.835Z"
   },
   {
    "duration": 11,
    "start_time": "2023-12-12T16:29:05.853Z"
   },
   {
    "duration": 515,
    "start_time": "2023-12-12T16:29:05.865Z"
   },
   {
    "duration": 9,
    "start_time": "2023-12-12T16:29:06.381Z"
   },
   {
    "duration": 14,
    "start_time": "2023-12-12T16:29:06.392Z"
   },
   {
    "duration": 10,
    "start_time": "2023-12-12T16:29:06.407Z"
   },
   {
    "duration": 5,
    "start_time": "2023-12-12T16:29:06.418Z"
   },
   {
    "duration": 5,
    "start_time": "2023-12-12T16:29:06.424Z"
   },
   {
    "duration": 25,
    "start_time": "2023-12-12T16:29:06.430Z"
   },
   {
    "duration": 12,
    "start_time": "2023-12-12T16:29:06.457Z"
   },
   {
    "duration": 22,
    "start_time": "2023-12-12T16:29:06.470Z"
   },
   {
    "duration": 22,
    "start_time": "2023-12-12T16:29:06.493Z"
   },
   {
    "duration": 15,
    "start_time": "2023-12-12T16:29:06.516Z"
   },
   {
    "duration": 28,
    "start_time": "2023-12-12T16:29:06.532Z"
   },
   {
    "duration": 25,
    "start_time": "2023-12-12T16:29:06.561Z"
   },
   {
    "duration": 29,
    "start_time": "2023-12-12T16:29:06.587Z"
   },
   {
    "duration": 9,
    "start_time": "2023-12-12T16:29:06.617Z"
   },
   {
    "duration": 27,
    "start_time": "2023-12-12T16:29:06.628Z"
   },
   {
    "duration": 11,
    "start_time": "2023-12-12T16:29:06.657Z"
   },
   {
    "duration": 20,
    "start_time": "2023-12-12T16:29:06.669Z"
   },
   {
    "duration": 160,
    "start_time": "2023-12-12T16:29:06.690Z"
   },
   {
    "duration": 3,
    "start_time": "2023-12-12T16:29:06.851Z"
   },
   {
    "duration": 18,
    "start_time": "2023-12-12T16:29:06.855Z"
   },
   {
    "duration": 7,
    "start_time": "2023-12-12T16:29:06.875Z"
   },
   {
    "duration": 17,
    "start_time": "2023-12-12T16:29:06.883Z"
   },
   {
    "duration": 12,
    "start_time": "2023-12-12T16:29:06.902Z"
   },
   {
    "duration": 8,
    "start_time": "2023-12-12T16:29:06.916Z"
   },
   {
    "duration": 11,
    "start_time": "2023-12-12T16:29:06.926Z"
   },
   {
    "duration": 17,
    "start_time": "2023-12-12T16:29:06.939Z"
   },
   {
    "duration": 5,
    "start_time": "2023-12-12T16:32:03.832Z"
   },
   {
    "duration": 4,
    "start_time": "2023-12-12T16:32:18.759Z"
   },
   {
    "duration": 5,
    "start_time": "2023-12-12T16:32:32.507Z"
   },
   {
    "duration": 4,
    "start_time": "2023-12-12T16:32:53.045Z"
   },
   {
    "duration": 390,
    "start_time": "2023-12-13T05:07:25.681Z"
   },
   {
    "duration": 74,
    "start_time": "2023-12-13T05:07:26.073Z"
   },
   {
    "duration": 15,
    "start_time": "2023-12-13T05:07:26.148Z"
   },
   {
    "duration": 97,
    "start_time": "2023-12-13T05:07:26.165Z"
   },
   {
    "duration": 681,
    "start_time": "2023-12-13T05:07:26.264Z"
   },
   {
    "duration": 67,
    "start_time": "2023-12-13T05:07:26.947Z"
   },
   {
    "duration": 9,
    "start_time": "2023-12-13T05:07:27.016Z"
   },
   {
    "duration": 22,
    "start_time": "2023-12-13T05:07:27.027Z"
   },
   {
    "duration": 464,
    "start_time": "2023-12-13T05:07:27.050Z"
   },
   {
    "duration": 62,
    "start_time": "2023-12-13T05:07:27.516Z"
   },
   {
    "duration": 6,
    "start_time": "2023-12-13T05:07:27.580Z"
   },
   {
    "duration": 19,
    "start_time": "2023-12-13T05:07:27.588Z"
   },
   {
    "duration": 13,
    "start_time": "2023-12-13T05:07:27.609Z"
   },
   {
    "duration": 79,
    "start_time": "2023-12-13T05:07:27.625Z"
   },
   {
    "duration": 5,
    "start_time": "2023-12-13T05:07:27.705Z"
   },
   {
    "duration": 25,
    "start_time": "2023-12-13T05:07:27.711Z"
   },
   {
    "duration": 27,
    "start_time": "2023-12-13T05:07:27.738Z"
   },
   {
    "duration": 39,
    "start_time": "2023-12-13T05:07:27.766Z"
   },
   {
    "duration": 26,
    "start_time": "2023-12-13T05:07:27.806Z"
   },
   {
    "duration": 36,
    "start_time": "2023-12-13T05:07:27.834Z"
   },
   {
    "duration": 22,
    "start_time": "2023-12-13T05:07:27.871Z"
   },
   {
    "duration": 26,
    "start_time": "2023-12-13T05:07:27.895Z"
   },
   {
    "duration": 23,
    "start_time": "2023-12-13T05:07:27.922Z"
   },
   {
    "duration": 24,
    "start_time": "2023-12-13T05:07:27.947Z"
   },
   {
    "duration": 28,
    "start_time": "2023-12-13T05:07:27.973Z"
   },
   {
    "duration": 22,
    "start_time": "2023-12-13T05:07:28.002Z"
   },
   {
    "duration": 45,
    "start_time": "2023-12-13T05:07:28.025Z"
   },
   {
    "duration": 14,
    "start_time": "2023-12-13T05:07:28.072Z"
   },
   {
    "duration": 24,
    "start_time": "2023-12-13T05:07:28.087Z"
   },
   {
    "duration": 16,
    "start_time": "2023-12-13T05:07:28.112Z"
   },
   {
    "duration": 20,
    "start_time": "2023-12-13T05:07:28.129Z"
   },
   {
    "duration": 175,
    "start_time": "2023-12-13T05:07:28.151Z"
   },
   {
    "duration": 4,
    "start_time": "2023-12-13T05:07:28.327Z"
   },
   {
    "duration": 33,
    "start_time": "2023-12-13T05:07:28.333Z"
   },
   {
    "duration": 36,
    "start_time": "2023-12-13T05:07:28.368Z"
   },
   {
    "duration": 24,
    "start_time": "2023-12-13T05:07:28.406Z"
   },
   {
    "duration": 150,
    "start_time": "2023-12-13T05:07:28.432Z"
   },
   {
    "duration": 3,
    "start_time": "2023-12-13T05:07:28.584Z"
   },
   {
    "duration": 16,
    "start_time": "2023-12-13T05:07:28.589Z"
   },
   {
    "duration": 145,
    "start_time": "2023-12-13T05:07:28.607Z"
   },
   {
    "duration": 11,
    "start_time": "2023-12-13T05:07:28.756Z"
   },
   {
    "duration": 32,
    "start_time": "2023-12-13T05:07:28.768Z"
   },
   {
    "duration": 30,
    "start_time": "2023-12-13T05:07:28.801Z"
   },
   {
    "duration": 17,
    "start_time": "2023-12-13T05:07:28.833Z"
   },
   {
    "duration": 24,
    "start_time": "2023-12-13T05:07:28.852Z"
   },
   {
    "duration": 26,
    "start_time": "2023-12-13T05:07:28.878Z"
   },
   {
    "duration": 37,
    "start_time": "2023-12-13T05:07:28.906Z"
   },
   {
    "duration": 487,
    "start_time": "2023-12-13T05:07:28.944Z"
   },
   {
    "duration": 12,
    "start_time": "2023-12-13T05:07:29.433Z"
   },
   {
    "duration": 20,
    "start_time": "2023-12-13T05:07:29.447Z"
   },
   {
    "duration": 4,
    "start_time": "2023-12-13T05:07:29.468Z"
   },
   {
    "duration": 13,
    "start_time": "2023-12-13T05:07:29.474Z"
   },
   {
    "duration": 10,
    "start_time": "2023-12-13T05:07:29.489Z"
   },
   {
    "duration": 463,
    "start_time": "2023-12-13T05:07:29.501Z"
   },
   {
    "duration": 9,
    "start_time": "2023-12-13T05:07:29.965Z"
   },
   {
    "duration": 4,
    "start_time": "2023-12-13T05:07:29.975Z"
   },
   {
    "duration": 5,
    "start_time": "2023-12-13T05:07:29.980Z"
   },
   {
    "duration": 35,
    "start_time": "2023-12-13T05:07:29.986Z"
   },
   {
    "duration": 47,
    "start_time": "2023-12-13T05:07:30.023Z"
   },
   {
    "duration": 58,
    "start_time": "2023-12-13T05:07:30.071Z"
   },
   {
    "duration": 42,
    "start_time": "2023-12-13T05:07:30.131Z"
   },
   {
    "duration": 19,
    "start_time": "2023-12-13T05:07:30.175Z"
   },
   {
    "duration": 45,
    "start_time": "2023-12-13T05:07:30.196Z"
   },
   {
    "duration": 54,
    "start_time": "2023-12-13T05:07:30.243Z"
   },
   {
    "duration": 69,
    "start_time": "2023-12-13T05:07:30.299Z"
   },
   {
    "duration": 76,
    "start_time": "2023-12-13T05:07:30.370Z"
   },
   {
    "duration": 73,
    "start_time": "2023-12-13T05:07:30.447Z"
   },
   {
    "duration": 42,
    "start_time": "2023-12-13T05:07:30.522Z"
   },
   {
    "duration": 21,
    "start_time": "2023-12-13T05:07:30.566Z"
   },
   {
    "duration": 50,
    "start_time": "2023-12-13T05:07:30.589Z"
   },
   {
    "duration": 237,
    "start_time": "2023-12-13T05:07:30.641Z"
   },
   {
    "duration": 3,
    "start_time": "2023-12-13T05:07:30.880Z"
   },
   {
    "duration": 57,
    "start_time": "2023-12-13T05:07:30.884Z"
   },
   {
    "duration": 54,
    "start_time": "2023-12-13T05:07:30.943Z"
   },
   {
    "duration": 41,
    "start_time": "2023-12-13T05:07:30.998Z"
   },
   {
    "duration": 47,
    "start_time": "2023-12-13T05:07:31.041Z"
   },
   {
    "duration": 70,
    "start_time": "2023-12-13T05:07:31.089Z"
   },
   {
    "duration": 27,
    "start_time": "2023-12-13T05:07:31.160Z"
   },
   {
    "duration": 63,
    "start_time": "2023-12-13T05:07:31.189Z"
   },
   {
    "duration": 35,
    "start_time": "2023-12-13T05:07:31.253Z"
   },
   {
    "duration": 3,
    "start_time": "2023-12-13T05:09:20.195Z"
   },
   {
    "duration": 27,
    "start_time": "2023-12-13T05:09:20.208Z"
   },
   {
    "duration": 8,
    "start_time": "2023-12-13T05:09:20.237Z"
   },
   {
    "duration": 17,
    "start_time": "2023-12-13T05:09:20.246Z"
   },
   {
    "duration": 254,
    "start_time": "2023-12-13T05:09:20.265Z"
   },
   {
    "duration": 32,
    "start_time": "2023-12-13T05:09:20.521Z"
   },
   {
    "duration": 25,
    "start_time": "2023-12-13T05:09:20.554Z"
   },
   {
    "duration": 16,
    "start_time": "2023-12-13T05:09:20.581Z"
   },
   {
    "duration": 478,
    "start_time": "2023-12-13T05:09:20.599Z"
   },
   {
    "duration": 14,
    "start_time": "2023-12-13T05:09:21.079Z"
   },
   {
    "duration": 41,
    "start_time": "2023-12-13T05:09:21.095Z"
   },
   {
    "duration": 10,
    "start_time": "2023-12-13T05:09:21.138Z"
   },
   {
    "duration": 19,
    "start_time": "2023-12-13T05:09:21.150Z"
   },
   {
    "duration": 22,
    "start_time": "2023-12-13T05:09:21.170Z"
   },
   {
    "duration": 16,
    "start_time": "2023-12-13T05:09:21.194Z"
   },
   {
    "duration": 11,
    "start_time": "2023-12-13T05:09:21.211Z"
   },
   {
    "duration": 12,
    "start_time": "2023-12-13T05:09:21.224Z"
   },
   {
    "duration": 11,
    "start_time": "2023-12-13T05:09:21.237Z"
   },
   {
    "duration": 6,
    "start_time": "2023-12-13T05:09:21.251Z"
   },
   {
    "duration": 12,
    "start_time": "2023-12-13T05:09:21.258Z"
   },
   {
    "duration": 16,
    "start_time": "2023-12-13T05:09:21.272Z"
   },
   {
    "duration": 10,
    "start_time": "2023-12-13T05:09:21.289Z"
   },
   {
    "duration": 27,
    "start_time": "2023-12-13T05:09:21.300Z"
   },
   {
    "duration": 7,
    "start_time": "2023-12-13T05:09:21.328Z"
   },
   {
    "duration": 27,
    "start_time": "2023-12-13T05:09:21.337Z"
   },
   {
    "duration": 30,
    "start_time": "2023-12-13T05:09:21.366Z"
   },
   {
    "duration": 26,
    "start_time": "2023-12-13T05:09:21.398Z"
   },
   {
    "duration": 12,
    "start_time": "2023-12-13T05:09:21.427Z"
   },
   {
    "duration": 16,
    "start_time": "2023-12-13T05:09:21.441Z"
   },
   {
    "duration": 12,
    "start_time": "2023-12-13T05:09:21.459Z"
   },
   {
    "duration": 14,
    "start_time": "2023-12-13T05:09:21.472Z"
   },
   {
    "duration": 12,
    "start_time": "2023-12-13T05:09:21.487Z"
   },
   {
    "duration": 6,
    "start_time": "2023-12-13T05:09:21.501Z"
   },
   {
    "duration": 154,
    "start_time": "2023-12-13T05:09:21.508Z"
   },
   {
    "duration": 4,
    "start_time": "2023-12-13T05:09:21.663Z"
   },
   {
    "duration": 22,
    "start_time": "2023-12-13T05:09:21.669Z"
   },
   {
    "duration": 6,
    "start_time": "2023-12-13T05:09:21.692Z"
   },
   {
    "duration": 13,
    "start_time": "2023-12-13T05:09:21.699Z"
   },
   {
    "duration": 154,
    "start_time": "2023-12-13T05:09:21.714Z"
   },
   {
    "duration": 4,
    "start_time": "2023-12-13T05:09:21.870Z"
   },
   {
    "duration": 14,
    "start_time": "2023-12-13T05:09:21.875Z"
   },
   {
    "duration": 151,
    "start_time": "2023-12-13T05:09:21.891Z"
   },
   {
    "duration": 10,
    "start_time": "2023-12-13T05:09:22.044Z"
   },
   {
    "duration": 9,
    "start_time": "2023-12-13T05:09:22.055Z"
   },
   {
    "duration": 16,
    "start_time": "2023-12-13T05:09:22.066Z"
   },
   {
    "duration": 8,
    "start_time": "2023-12-13T05:09:22.083Z"
   },
   {
    "duration": 20,
    "start_time": "2023-12-13T05:09:22.092Z"
   },
   {
    "duration": 33,
    "start_time": "2023-12-13T05:09:22.114Z"
   },
   {
    "duration": 18,
    "start_time": "2023-12-13T05:09:22.149Z"
   },
   {
    "duration": 428,
    "start_time": "2023-12-13T05:09:22.169Z"
   },
   {
    "duration": 12,
    "start_time": "2023-12-13T05:09:22.599Z"
   },
   {
    "duration": 30,
    "start_time": "2023-12-13T05:09:22.612Z"
   },
   {
    "duration": 3,
    "start_time": "2023-12-13T05:09:22.644Z"
   },
   {
    "duration": 10,
    "start_time": "2023-12-13T05:09:22.649Z"
   },
   {
    "duration": 11,
    "start_time": "2023-12-13T05:09:22.661Z"
   },
   {
    "duration": 43,
    "start_time": "2023-12-13T05:09:22.674Z"
   },
   {
    "duration": 8,
    "start_time": "2023-12-13T05:09:22.719Z"
   },
   {
    "duration": 3,
    "start_time": "2023-12-13T05:09:22.728Z"
   },
   {
    "duration": 4,
    "start_time": "2023-12-13T05:09:22.732Z"
   },
   {
    "duration": 4,
    "start_time": "2023-12-13T05:09:22.737Z"
   },
   {
    "duration": 16,
    "start_time": "2023-12-13T05:09:22.742Z"
   },
   {
    "duration": 19,
    "start_time": "2023-12-13T05:09:22.759Z"
   },
   {
    "duration": 18,
    "start_time": "2023-12-13T05:09:22.779Z"
   },
   {
    "duration": 11,
    "start_time": "2023-12-13T05:09:22.798Z"
   },
   {
    "duration": 7,
    "start_time": "2023-12-13T05:09:22.811Z"
   },
   {
    "duration": 20,
    "start_time": "2023-12-13T05:09:22.819Z"
   },
   {
    "duration": 16,
    "start_time": "2023-12-13T05:09:22.841Z"
   },
   {
    "duration": 3,
    "start_time": "2023-12-13T05:09:22.859Z"
   },
   {
    "duration": 6,
    "start_time": "2023-12-13T05:09:22.864Z"
   },
   {
    "duration": 21,
    "start_time": "2023-12-13T05:09:22.872Z"
   },
   {
    "duration": 7,
    "start_time": "2023-12-13T05:09:22.895Z"
   },
   {
    "duration": 26,
    "start_time": "2023-12-13T05:09:22.904Z"
   },
   {
    "duration": 242,
    "start_time": "2023-12-13T05:09:22.932Z"
   },
   {
    "duration": 3,
    "start_time": "2023-12-13T05:09:23.176Z"
   },
   {
    "duration": 11,
    "start_time": "2023-12-13T05:09:23.180Z"
   },
   {
    "duration": 19,
    "start_time": "2023-12-13T05:09:23.193Z"
   },
   {
    "duration": 31,
    "start_time": "2023-12-13T05:09:23.214Z"
   },
   {
    "duration": 6,
    "start_time": "2023-12-13T05:09:23.246Z"
   },
   {
    "duration": 2,
    "start_time": "2023-12-13T05:09:23.257Z"
   },
   {
    "duration": 15,
    "start_time": "2023-12-13T05:09:23.261Z"
   },
   {
    "duration": 5,
    "start_time": "2023-12-13T05:09:23.277Z"
   },
   {
    "duration": 20,
    "start_time": "2023-12-13T05:09:23.284Z"
   },
   {
    "duration": 6,
    "start_time": "2023-12-13T05:13:14.936Z"
   },
   {
    "duration": 2,
    "start_time": "2023-12-13T05:13:36.829Z"
   },
   {
    "duration": 26,
    "start_time": "2023-12-13T05:13:36.841Z"
   },
   {
    "duration": 8,
    "start_time": "2023-12-13T05:13:36.869Z"
   },
   {
    "duration": 10,
    "start_time": "2023-12-13T05:13:36.879Z"
   },
   {
    "duration": 331,
    "start_time": "2023-12-13T05:13:36.891Z"
   },
   {
    "duration": 32,
    "start_time": "2023-12-13T05:13:37.224Z"
   },
   {
    "duration": 8,
    "start_time": "2023-12-13T05:13:37.257Z"
   },
   {
    "duration": 25,
    "start_time": "2023-12-13T05:13:37.266Z"
   },
   {
    "duration": 457,
    "start_time": "2023-12-13T05:13:37.293Z"
   },
   {
    "duration": 21,
    "start_time": "2023-12-13T05:13:37.751Z"
   },
   {
    "duration": 8,
    "start_time": "2023-12-13T05:13:37.774Z"
   },
   {
    "duration": 10,
    "start_time": "2023-12-13T05:13:37.784Z"
   },
   {
    "duration": 10,
    "start_time": "2023-12-13T05:13:37.795Z"
   },
   {
    "duration": 13,
    "start_time": "2023-12-13T05:13:37.806Z"
   },
   {
    "duration": 23,
    "start_time": "2023-12-13T05:13:37.820Z"
   },
   {
    "duration": 10,
    "start_time": "2023-12-13T05:13:37.845Z"
   },
   {
    "duration": 6,
    "start_time": "2023-12-13T05:13:37.856Z"
   },
   {
    "duration": 24,
    "start_time": "2023-12-13T05:13:37.864Z"
   },
   {
    "duration": 5,
    "start_time": "2023-12-13T05:13:37.890Z"
   },
   {
    "duration": 5,
    "start_time": "2023-12-13T05:13:37.899Z"
   },
   {
    "duration": 11,
    "start_time": "2023-12-13T05:13:37.905Z"
   },
   {
    "duration": 26,
    "start_time": "2023-12-13T05:13:37.917Z"
   },
   {
    "duration": 6,
    "start_time": "2023-12-13T05:13:37.945Z"
   },
   {
    "duration": 6,
    "start_time": "2023-12-13T05:13:37.953Z"
   },
   {
    "duration": 6,
    "start_time": "2023-12-13T05:13:37.961Z"
   },
   {
    "duration": 4,
    "start_time": "2023-12-13T05:13:37.969Z"
   },
   {
    "duration": 12,
    "start_time": "2023-12-13T05:13:37.974Z"
   },
   {
    "duration": 9,
    "start_time": "2023-12-13T05:13:37.987Z"
   },
   {
    "duration": 8,
    "start_time": "2023-12-13T05:13:37.997Z"
   },
   {
    "duration": 40,
    "start_time": "2023-12-13T05:13:38.007Z"
   },
   {
    "duration": 24,
    "start_time": "2023-12-13T05:13:38.048Z"
   },
   {
    "duration": 6,
    "start_time": "2023-12-13T05:13:38.074Z"
   },
   {
    "duration": 14,
    "start_time": "2023-12-13T05:13:38.081Z"
   },
   {
    "duration": 13,
    "start_time": "2023-12-13T05:13:38.096Z"
   },
   {
    "duration": 5,
    "start_time": "2023-12-13T05:13:38.111Z"
   },
   {
    "duration": 150,
    "start_time": "2023-12-13T05:13:38.117Z"
   },
   {
    "duration": 4,
    "start_time": "2023-12-13T05:13:38.269Z"
   },
   {
    "duration": 12,
    "start_time": "2023-12-13T05:13:38.275Z"
   },
   {
    "duration": 6,
    "start_time": "2023-12-13T05:13:38.288Z"
   },
   {
    "duration": 22,
    "start_time": "2023-12-13T05:13:38.296Z"
   },
   {
    "duration": 146,
    "start_time": "2023-12-13T05:13:38.320Z"
   },
   {
    "duration": 4,
    "start_time": "2023-12-13T05:13:38.467Z"
   },
   {
    "duration": 16,
    "start_time": "2023-12-13T05:13:38.472Z"
   },
   {
    "duration": 167,
    "start_time": "2023-12-13T05:13:38.489Z"
   },
   {
    "duration": 10,
    "start_time": "2023-12-13T05:13:38.657Z"
   },
   {
    "duration": 8,
    "start_time": "2023-12-13T05:13:38.669Z"
   },
   {
    "duration": 25,
    "start_time": "2023-12-13T05:13:38.679Z"
   },
   {
    "duration": 11,
    "start_time": "2023-12-13T05:13:38.705Z"
   },
   {
    "duration": 32,
    "start_time": "2023-12-13T05:13:38.718Z"
   },
   {
    "duration": 6,
    "start_time": "2023-12-13T05:13:38.752Z"
   },
   {
    "duration": 21,
    "start_time": "2023-12-13T05:13:38.760Z"
   },
   {
    "duration": 437,
    "start_time": "2023-12-13T05:13:38.782Z"
   },
   {
    "duration": 25,
    "start_time": "2023-12-13T05:13:39.224Z"
   },
   {
    "duration": 10,
    "start_time": "2023-12-13T05:13:39.251Z"
   },
   {
    "duration": 6,
    "start_time": "2023-12-13T05:13:39.262Z"
   },
   {
    "duration": 10,
    "start_time": "2023-12-13T05:13:39.269Z"
   },
   {
    "duration": 12,
    "start_time": "2023-12-13T05:13:39.280Z"
   },
   {
    "duration": 2,
    "start_time": "2023-12-13T05:13:39.294Z"
   },
   {
    "duration": 9,
    "start_time": "2023-12-13T05:13:39.298Z"
   },
   {
    "duration": 2,
    "start_time": "2023-12-13T05:13:39.342Z"
   },
   {
    "duration": 5,
    "start_time": "2023-12-13T05:13:39.346Z"
   },
   {
    "duration": 5,
    "start_time": "2023-12-13T05:13:39.352Z"
   },
   {
    "duration": 3,
    "start_time": "2023-12-13T05:13:39.358Z"
   },
   {
    "duration": 6,
    "start_time": "2023-12-13T05:13:39.363Z"
   },
   {
    "duration": 4,
    "start_time": "2023-12-13T05:13:39.370Z"
   },
   {
    "duration": 3,
    "start_time": "2023-12-13T05:13:39.376Z"
   },
   {
    "duration": 7,
    "start_time": "2023-12-13T05:13:39.381Z"
   },
   {
    "duration": 58,
    "start_time": "2023-12-13T05:13:39.389Z"
   },
   {
    "duration": 14,
    "start_time": "2023-12-13T05:13:39.449Z"
   },
   {
    "duration": 11,
    "start_time": "2023-12-13T05:13:39.465Z"
   },
   {
    "duration": 5,
    "start_time": "2023-12-13T05:13:39.478Z"
   },
   {
    "duration": 7,
    "start_time": "2023-12-13T05:13:39.484Z"
   },
   {
    "duration": 6,
    "start_time": "2023-12-13T05:13:39.492Z"
   },
   {
    "duration": 7,
    "start_time": "2023-12-13T05:13:39.499Z"
   },
   {
    "duration": 164,
    "start_time": "2023-12-13T05:13:39.507Z"
   },
   {
    "duration": 3,
    "start_time": "2023-12-13T05:13:39.673Z"
   },
   {
    "duration": 8,
    "start_time": "2023-12-13T05:13:39.677Z"
   },
   {
    "duration": 5,
    "start_time": "2023-12-13T05:13:39.687Z"
   },
   {
    "duration": 9,
    "start_time": "2023-12-13T05:13:39.693Z"
   },
   {
    "duration": 6,
    "start_time": "2023-12-13T05:13:39.703Z"
   },
   {
    "duration": 3,
    "start_time": "2023-12-13T05:13:39.711Z"
   },
   {
    "duration": 4,
    "start_time": "2023-12-13T05:13:39.715Z"
   },
   {
    "duration": 21,
    "start_time": "2023-12-13T05:13:39.721Z"
   },
   {
    "duration": 7,
    "start_time": "2023-12-13T05:13:39.745Z"
   },
   {
    "duration": 4,
    "start_time": "2023-12-13T05:17:50.448Z"
   },
   {
    "duration": 45,
    "start_time": "2023-12-13T05:17:50.457Z"
   },
   {
    "duration": 10,
    "start_time": "2023-12-13T05:17:50.505Z"
   },
   {
    "duration": 17,
    "start_time": "2023-12-13T05:17:50.517Z"
   },
   {
    "duration": 289,
    "start_time": "2023-12-13T05:17:50.537Z"
   },
   {
    "duration": 26,
    "start_time": "2023-12-13T05:17:50.842Z"
   },
   {
    "duration": 10,
    "start_time": "2023-12-13T05:17:50.869Z"
   },
   {
    "duration": 14,
    "start_time": "2023-12-13T05:17:50.880Z"
   },
   {
    "duration": 634,
    "start_time": "2023-12-13T05:17:50.896Z"
   },
   {
    "duration": 25,
    "start_time": "2023-12-13T05:17:51.532Z"
   },
   {
    "duration": 7,
    "start_time": "2023-12-13T05:17:51.561Z"
   },
   {
    "duration": 13,
    "start_time": "2023-12-13T05:17:51.570Z"
   },
   {
    "duration": 17,
    "start_time": "2023-12-13T05:17:51.585Z"
   },
   {
    "duration": 17,
    "start_time": "2023-12-13T05:17:51.604Z"
   },
   {
    "duration": 19,
    "start_time": "2023-12-13T05:17:51.623Z"
   },
   {
    "duration": 9,
    "start_time": "2023-12-13T05:17:51.645Z"
   },
   {
    "duration": 21,
    "start_time": "2023-12-13T05:17:51.656Z"
   },
   {
    "duration": 26,
    "start_time": "2023-12-13T05:17:51.679Z"
   },
   {
    "duration": 9,
    "start_time": "2023-12-13T05:17:51.708Z"
   },
   {
    "duration": 6,
    "start_time": "2023-12-13T05:17:51.718Z"
   },
   {
    "duration": 22,
    "start_time": "2023-12-13T05:17:51.725Z"
   },
   {
    "duration": 21,
    "start_time": "2023-12-13T05:17:51.748Z"
   },
   {
    "duration": 28,
    "start_time": "2023-12-13T05:17:51.771Z"
   },
   {
    "duration": 18,
    "start_time": "2023-12-13T05:17:51.800Z"
   },
   {
    "duration": 17,
    "start_time": "2023-12-13T05:17:51.820Z"
   },
   {
    "duration": 10,
    "start_time": "2023-12-13T05:17:51.839Z"
   },
   {
    "duration": 26,
    "start_time": "2023-12-13T05:17:51.850Z"
   },
   {
    "duration": 23,
    "start_time": "2023-12-13T05:17:51.878Z"
   },
   {
    "duration": 7,
    "start_time": "2023-12-13T05:17:51.908Z"
   },
   {
    "duration": 7,
    "start_time": "2023-12-13T05:17:51.917Z"
   },
   {
    "duration": 25,
    "start_time": "2023-12-13T05:17:51.926Z"
   },
   {
    "duration": 13,
    "start_time": "2023-12-13T05:17:51.953Z"
   },
   {
    "duration": 19,
    "start_time": "2023-12-13T05:17:51.967Z"
   },
   {
    "duration": 9,
    "start_time": "2023-12-13T05:17:51.988Z"
   },
   {
    "duration": 14,
    "start_time": "2023-12-13T05:17:51.999Z"
   },
   {
    "duration": 155,
    "start_time": "2023-12-13T05:17:52.015Z"
   },
   {
    "duration": 4,
    "start_time": "2023-12-13T05:17:52.172Z"
   },
   {
    "duration": 36,
    "start_time": "2023-12-13T05:17:52.178Z"
   },
   {
    "duration": 12,
    "start_time": "2023-12-13T05:17:52.215Z"
   },
   {
    "duration": 14,
    "start_time": "2023-12-13T05:17:52.229Z"
   },
   {
    "duration": 143,
    "start_time": "2023-12-13T05:17:52.245Z"
   },
   {
    "duration": 4,
    "start_time": "2023-12-13T05:17:52.389Z"
   },
   {
    "duration": 14,
    "start_time": "2023-12-13T05:17:52.395Z"
   },
   {
    "duration": 155,
    "start_time": "2023-12-13T05:17:52.411Z"
   },
   {
    "duration": 10,
    "start_time": "2023-12-13T05:17:52.568Z"
   },
   {
    "duration": 22,
    "start_time": "2023-12-13T05:17:52.580Z"
   },
   {
    "duration": 22,
    "start_time": "2023-12-13T05:17:52.604Z"
   },
   {
    "duration": 8,
    "start_time": "2023-12-13T05:17:52.642Z"
   },
   {
    "duration": 17,
    "start_time": "2023-12-13T05:17:52.651Z"
   },
   {
    "duration": 7,
    "start_time": "2023-12-13T05:17:52.670Z"
   },
   {
    "duration": 19,
    "start_time": "2023-12-13T05:17:52.679Z"
   },
   {
    "duration": 526,
    "start_time": "2023-12-13T05:17:52.700Z"
   },
   {
    "duration": 23,
    "start_time": "2023-12-13T05:17:53.228Z"
   },
   {
    "duration": 14,
    "start_time": "2023-12-13T05:17:53.253Z"
   },
   {
    "duration": 5,
    "start_time": "2023-12-13T05:17:53.269Z"
   },
   {
    "duration": 10,
    "start_time": "2023-12-13T05:17:53.276Z"
   },
   {
    "duration": 26,
    "start_time": "2023-12-13T05:17:53.288Z"
   },
   {
    "duration": 6,
    "start_time": "2023-12-13T05:17:53.316Z"
   },
   {
    "duration": 27,
    "start_time": "2023-12-13T05:17:53.323Z"
   },
   {
    "duration": 3,
    "start_time": "2023-12-13T05:17:53.352Z"
   },
   {
    "duration": 6,
    "start_time": "2023-12-13T05:17:53.356Z"
   },
   {
    "duration": 9,
    "start_time": "2023-12-13T05:17:53.363Z"
   },
   {
    "duration": 5,
    "start_time": "2023-12-13T05:17:53.373Z"
   },
   {
    "duration": 5,
    "start_time": "2023-12-13T05:17:53.379Z"
   },
   {
    "duration": 6,
    "start_time": "2023-12-13T05:17:53.386Z"
   },
   {
    "duration": 5,
    "start_time": "2023-12-13T05:17:53.394Z"
   },
   {
    "duration": 45,
    "start_time": "2023-12-13T05:17:53.402Z"
   },
   {
    "duration": 15,
    "start_time": "2023-12-13T05:17:53.449Z"
   },
   {
    "duration": 25,
    "start_time": "2023-12-13T05:17:53.466Z"
   },
   {
    "duration": 5,
    "start_time": "2023-12-13T05:17:53.492Z"
   },
   {
    "duration": 5,
    "start_time": "2023-12-13T05:17:53.498Z"
   },
   {
    "duration": 3,
    "start_time": "2023-12-13T05:17:53.505Z"
   },
   {
    "duration": 6,
    "start_time": "2023-12-13T05:17:53.509Z"
   },
   {
    "duration": 4,
    "start_time": "2023-12-13T05:17:53.542Z"
   },
   {
    "duration": 168,
    "start_time": "2023-12-13T05:17:53.548Z"
   },
   {
    "duration": 3,
    "start_time": "2023-12-13T05:17:53.717Z"
   },
   {
    "duration": 20,
    "start_time": "2023-12-13T05:17:53.722Z"
   },
   {
    "duration": 5,
    "start_time": "2023-12-13T05:17:53.744Z"
   },
   {
    "duration": 9,
    "start_time": "2023-12-13T05:17:53.751Z"
   },
   {
    "duration": 5,
    "start_time": "2023-12-13T05:17:53.762Z"
   },
   {
    "duration": 4,
    "start_time": "2023-12-13T05:17:53.768Z"
   },
   {
    "duration": 4,
    "start_time": "2023-12-13T05:17:53.774Z"
   },
   {
    "duration": 3,
    "start_time": "2023-12-13T05:17:53.784Z"
   },
   {
    "duration": 5,
    "start_time": "2023-12-13T05:17:53.789Z"
   },
   {
    "duration": 9,
    "start_time": "2023-12-13T05:19:48.279Z"
   },
   {
    "duration": 8,
    "start_time": "2023-12-13T05:20:01.149Z"
   },
   {
    "duration": 2,
    "start_time": "2023-12-13T05:20:56.070Z"
   },
   {
    "duration": 26,
    "start_time": "2023-12-13T05:20:56.088Z"
   },
   {
    "duration": 9,
    "start_time": "2023-12-13T05:20:56.116Z"
   },
   {
    "duration": 33,
    "start_time": "2023-12-13T05:20:56.126Z"
   },
   {
    "duration": 255,
    "start_time": "2023-12-13T05:20:56.161Z"
   },
   {
    "duration": 33,
    "start_time": "2023-12-13T05:20:56.417Z"
   },
   {
    "duration": 8,
    "start_time": "2023-12-13T05:20:56.452Z"
   },
   {
    "duration": 25,
    "start_time": "2023-12-13T05:20:56.462Z"
   },
   {
    "duration": 482,
    "start_time": "2023-12-13T05:20:56.489Z"
   },
   {
    "duration": 15,
    "start_time": "2023-12-13T05:20:56.973Z"
   },
   {
    "duration": 6,
    "start_time": "2023-12-13T05:20:56.990Z"
   },
   {
    "duration": 10,
    "start_time": "2023-12-13T05:20:56.998Z"
   },
   {
    "duration": 10,
    "start_time": "2023-12-13T05:20:57.010Z"
   },
   {
    "duration": 26,
    "start_time": "2023-12-13T05:20:57.022Z"
   },
   {
    "duration": 5,
    "start_time": "2023-12-13T05:20:57.050Z"
   },
   {
    "duration": 17,
    "start_time": "2023-12-13T05:20:57.056Z"
   },
   {
    "duration": 11,
    "start_time": "2023-12-13T05:20:57.075Z"
   },
   {
    "duration": 22,
    "start_time": "2023-12-13T05:20:57.088Z"
   },
   {
    "duration": 13,
    "start_time": "2023-12-13T05:20:57.112Z"
   },
   {
    "duration": 6,
    "start_time": "2023-12-13T05:20:57.127Z"
   },
   {
    "duration": 117,
    "start_time": "2023-12-13T05:20:57.134Z"
   },
   {
    "duration": 6,
    "start_time": "2023-12-13T05:20:57.253Z"
   },
   {
    "duration": 8,
    "start_time": "2023-12-13T05:20:57.260Z"
   },
   {
    "duration": 14,
    "start_time": "2023-12-13T05:20:57.270Z"
   },
   {
    "duration": 29,
    "start_time": "2023-12-13T05:20:57.286Z"
   },
   {
    "duration": 25,
    "start_time": "2023-12-13T05:20:57.316Z"
   },
   {
    "duration": 12,
    "start_time": "2023-12-13T05:20:57.343Z"
   },
   {
    "duration": 13,
    "start_time": "2023-12-13T05:20:57.359Z"
   },
   {
    "duration": 13,
    "start_time": "2023-12-13T05:20:57.373Z"
   },
   {
    "duration": 18,
    "start_time": "2023-12-13T05:20:57.387Z"
   },
   {
    "duration": 15,
    "start_time": "2023-12-13T05:20:57.406Z"
   },
   {
    "duration": 24,
    "start_time": "2023-12-13T05:20:57.423Z"
   },
   {
    "duration": 7,
    "start_time": "2023-12-13T05:20:57.449Z"
   },
   {
    "duration": 10,
    "start_time": "2023-12-13T05:20:57.457Z"
   },
   {
    "duration": 5,
    "start_time": "2023-12-13T05:20:57.468Z"
   },
   {
    "duration": 7,
    "start_time": "2023-12-13T05:20:57.475Z"
   },
   {
    "duration": 185,
    "start_time": "2023-12-13T05:20:57.484Z"
   },
   {
    "duration": 4,
    "start_time": "2023-12-13T05:20:57.671Z"
   },
   {
    "duration": 27,
    "start_time": "2023-12-13T05:20:57.676Z"
   },
   {
    "duration": 5,
    "start_time": "2023-12-13T05:20:57.705Z"
   },
   {
    "duration": 12,
    "start_time": "2023-12-13T05:20:57.712Z"
   },
   {
    "duration": 154,
    "start_time": "2023-12-13T05:20:57.726Z"
   },
   {
    "duration": 4,
    "start_time": "2023-12-13T05:20:57.881Z"
   },
   {
    "duration": 11,
    "start_time": "2023-12-13T05:20:57.887Z"
   },
   {
    "duration": 146,
    "start_time": "2023-12-13T05:20:57.900Z"
   },
   {
    "duration": 9,
    "start_time": "2023-12-13T05:20:58.047Z"
   },
   {
    "duration": 9,
    "start_time": "2023-12-13T05:20:58.058Z"
   },
   {
    "duration": 16,
    "start_time": "2023-12-13T05:20:58.068Z"
   },
   {
    "duration": 12,
    "start_time": "2023-12-13T05:20:58.085Z"
   },
   {
    "duration": 18,
    "start_time": "2023-12-13T05:20:58.098Z"
   },
   {
    "duration": 29,
    "start_time": "2023-12-13T05:20:58.117Z"
   },
   {
    "duration": 20,
    "start_time": "2023-12-13T05:20:58.147Z"
   },
   {
    "duration": 430,
    "start_time": "2023-12-13T05:20:58.169Z"
   },
   {
    "duration": 13,
    "start_time": "2023-12-13T05:20:58.600Z"
   },
   {
    "duration": 12,
    "start_time": "2023-12-13T05:20:58.614Z"
   },
   {
    "duration": 15,
    "start_time": "2023-12-13T05:20:58.628Z"
   },
   {
    "duration": 13,
    "start_time": "2023-12-13T05:20:58.645Z"
   },
   {
    "duration": 15,
    "start_time": "2023-12-13T05:20:58.659Z"
   },
   {
    "duration": 12,
    "start_time": "2023-12-13T05:20:58.676Z"
   },
   {
    "duration": 12,
    "start_time": "2023-12-13T05:20:58.689Z"
   },
   {
    "duration": 3,
    "start_time": "2023-12-13T05:20:58.702Z"
   },
   {
    "duration": 9,
    "start_time": "2023-12-13T05:20:58.706Z"
   },
   {
    "duration": 6,
    "start_time": "2023-12-13T05:20:58.717Z"
   },
   {
    "duration": 19,
    "start_time": "2023-12-13T05:20:58.724Z"
   },
   {
    "duration": 7,
    "start_time": "2023-12-13T05:20:58.744Z"
   },
   {
    "duration": 11,
    "start_time": "2023-12-13T05:20:58.753Z"
   },
   {
    "duration": 10,
    "start_time": "2023-12-13T05:20:58.766Z"
   },
   {
    "duration": 7,
    "start_time": "2023-12-13T05:20:58.777Z"
   },
   {
    "duration": 14,
    "start_time": "2023-12-13T05:20:58.786Z"
   },
   {
    "duration": 14,
    "start_time": "2023-12-13T05:20:58.801Z"
   },
   {
    "duration": 8,
    "start_time": "2023-12-13T05:20:58.817Z"
   },
   {
    "duration": 4,
    "start_time": "2023-12-13T05:20:58.841Z"
   },
   {
    "duration": 2,
    "start_time": "2023-12-13T05:20:58.847Z"
   },
   {
    "duration": 6,
    "start_time": "2023-12-13T05:20:58.851Z"
   },
   {
    "duration": 7,
    "start_time": "2023-12-13T05:20:58.858Z"
   },
   {
    "duration": 162,
    "start_time": "2023-12-13T05:20:58.867Z"
   },
   {
    "duration": 3,
    "start_time": "2023-12-13T05:20:59.030Z"
   },
   {
    "duration": 32,
    "start_time": "2023-12-13T05:20:59.042Z"
   },
   {
    "duration": 4,
    "start_time": "2023-12-13T05:20:59.079Z"
   },
   {
    "duration": 6,
    "start_time": "2023-12-13T05:20:59.084Z"
   },
   {
    "duration": 4,
    "start_time": "2023-12-13T05:20:59.091Z"
   },
   {
    "duration": 4,
    "start_time": "2023-12-13T05:20:59.096Z"
   },
   {
    "duration": 5,
    "start_time": "2023-12-13T05:20:59.101Z"
   },
   {
    "duration": 4,
    "start_time": "2023-12-13T05:20:59.108Z"
   },
   {
    "duration": 7,
    "start_time": "2023-12-13T05:20:59.113Z"
   },
   {
    "duration": 3,
    "start_time": "2023-12-13T05:24:52.601Z"
   },
   {
    "duration": 99,
    "start_time": "2023-12-13T05:25:37.462Z"
   },
   {
    "duration": 3,
    "start_time": "2023-12-13T05:26:13.548Z"
   },
   {
    "duration": 46,
    "start_time": "2023-12-13T05:26:13.557Z"
   },
   {
    "duration": 10,
    "start_time": "2023-12-13T05:26:13.606Z"
   },
   {
    "duration": 26,
    "start_time": "2023-12-13T05:26:13.618Z"
   },
   {
    "duration": 261,
    "start_time": "2023-12-13T05:26:13.647Z"
   },
   {
    "duration": 24,
    "start_time": "2023-12-13T05:26:13.910Z"
   },
   {
    "duration": 9,
    "start_time": "2023-12-13T05:26:13.935Z"
   },
   {
    "duration": 13,
    "start_time": "2023-12-13T05:26:13.945Z"
   },
   {
    "duration": 509,
    "start_time": "2023-12-13T05:26:13.959Z"
   },
   {
    "duration": 15,
    "start_time": "2023-12-13T05:26:14.470Z"
   },
   {
    "duration": 7,
    "start_time": "2023-12-13T05:26:14.488Z"
   },
   {
    "duration": 10,
    "start_time": "2023-12-13T05:26:14.496Z"
   },
   {
    "duration": 10,
    "start_time": "2023-12-13T05:26:14.507Z"
   },
   {
    "duration": 30,
    "start_time": "2023-12-13T05:26:14.519Z"
   },
   {
    "duration": 5,
    "start_time": "2023-12-13T05:26:14.550Z"
   },
   {
    "duration": 22,
    "start_time": "2023-12-13T05:26:14.556Z"
   },
   {
    "duration": 5,
    "start_time": "2023-12-13T05:26:14.579Z"
   },
   {
    "duration": 13,
    "start_time": "2023-12-13T05:26:14.586Z"
   },
   {
    "duration": 8,
    "start_time": "2023-12-13T05:26:14.601Z"
   },
   {
    "duration": 6,
    "start_time": "2023-12-13T05:26:14.611Z"
   },
   {
    "duration": 105,
    "start_time": "2023-12-13T05:26:14.643Z"
   },
   {
    "duration": 8,
    "start_time": "2023-12-13T05:26:14.750Z"
   },
   {
    "duration": 11,
    "start_time": "2023-12-13T05:26:14.759Z"
   },
   {
    "duration": 14,
    "start_time": "2023-12-13T05:26:14.772Z"
   },
   {
    "duration": 9,
    "start_time": "2023-12-13T05:26:14.788Z"
   },
   {
    "duration": 11,
    "start_time": "2023-12-13T05:26:14.799Z"
   },
   {
    "duration": 35,
    "start_time": "2023-12-13T05:26:14.812Z"
   },
   {
    "duration": 14,
    "start_time": "2023-12-13T05:26:14.848Z"
   },
   {
    "duration": 36,
    "start_time": "2023-12-13T05:26:14.866Z"
   },
   {
    "duration": 10,
    "start_time": "2023-12-13T05:26:14.904Z"
   },
   {
    "duration": 22,
    "start_time": "2023-12-13T05:26:14.916Z"
   },
   {
    "duration": 11,
    "start_time": "2023-12-13T05:26:14.940Z"
   },
   {
    "duration": 340,
    "start_time": "2023-12-13T05:26:14.953Z"
   },
   {
    "duration": 8,
    "start_time": "2023-12-13T05:26:15.295Z"
   },
   {
    "duration": 18,
    "start_time": "2023-12-13T05:26:15.304Z"
   },
   {
    "duration": 15,
    "start_time": "2023-12-13T05:26:15.323Z"
   },
   {
    "duration": 17,
    "start_time": "2023-12-13T05:26:15.339Z"
   },
   {
    "duration": 13,
    "start_time": "2023-12-13T05:26:15.358Z"
   },
   {
    "duration": 16,
    "start_time": "2023-12-13T05:26:15.373Z"
   },
   {
    "duration": 147,
    "start_time": "2023-12-13T05:26:15.390Z"
   },
   {
    "duration": 5,
    "start_time": "2023-12-13T05:26:15.539Z"
   },
   {
    "duration": 21,
    "start_time": "2023-12-13T05:26:15.545Z"
   },
   {
    "duration": 7,
    "start_time": "2023-12-13T05:26:15.569Z"
   },
   {
    "duration": 22,
    "start_time": "2023-12-13T05:26:15.577Z"
   },
   {
    "duration": 160,
    "start_time": "2023-12-13T05:26:15.600Z"
   },
   {
    "duration": 4,
    "start_time": "2023-12-13T05:26:15.762Z"
   },
   {
    "duration": 22,
    "start_time": "2023-12-13T05:26:15.767Z"
   },
   {
    "duration": 151,
    "start_time": "2023-12-13T05:26:15.791Z"
   },
   {
    "duration": 10,
    "start_time": "2023-12-13T05:26:15.944Z"
   },
   {
    "duration": 46,
    "start_time": "2023-12-13T05:26:15.956Z"
   },
   {
    "duration": 39,
    "start_time": "2023-12-13T05:26:16.004Z"
   },
   {
    "duration": 62,
    "start_time": "2023-12-13T05:26:16.045Z"
   },
   {
    "duration": 47,
    "start_time": "2023-12-13T05:26:16.108Z"
   },
   {
    "duration": 42,
    "start_time": "2023-12-13T05:26:16.156Z"
   },
   {
    "duration": 49,
    "start_time": "2023-12-13T05:26:16.200Z"
   },
   {
    "duration": 501,
    "start_time": "2023-12-13T05:26:16.250Z"
   },
   {
    "duration": 15,
    "start_time": "2023-12-13T05:26:16.753Z"
   },
   {
    "duration": 29,
    "start_time": "2023-12-13T05:26:16.769Z"
   },
   {
    "duration": 13,
    "start_time": "2023-12-13T05:26:16.800Z"
   },
   {
    "duration": 34,
    "start_time": "2023-12-13T05:26:16.815Z"
   },
   {
    "duration": 36,
    "start_time": "2023-12-13T05:26:16.851Z"
   },
   {
    "duration": 13,
    "start_time": "2023-12-13T05:26:16.889Z"
   },
   {
    "duration": 17,
    "start_time": "2023-12-13T05:26:16.904Z"
   },
   {
    "duration": 36,
    "start_time": "2023-12-13T05:26:16.922Z"
   },
   {
    "duration": 10,
    "start_time": "2023-12-13T05:26:16.960Z"
   },
   {
    "duration": 16,
    "start_time": "2023-12-13T05:26:16.971Z"
   },
   {
    "duration": 20,
    "start_time": "2023-12-13T05:26:16.988Z"
   },
   {
    "duration": 13,
    "start_time": "2023-12-13T05:26:17.010Z"
   },
   {
    "duration": 27,
    "start_time": "2023-12-13T05:26:17.025Z"
   },
   {
    "duration": 9,
    "start_time": "2023-12-13T05:26:17.054Z"
   },
   {
    "duration": 23,
    "start_time": "2023-12-13T05:26:17.064Z"
   },
   {
    "duration": 16,
    "start_time": "2023-12-13T05:26:17.089Z"
   },
   {
    "duration": 34,
    "start_time": "2023-12-13T05:26:17.107Z"
   },
   {
    "duration": 11,
    "start_time": "2023-12-13T05:26:17.143Z"
   },
   {
    "duration": 15,
    "start_time": "2023-12-13T05:26:17.156Z"
   },
   {
    "duration": 11,
    "start_time": "2023-12-13T05:26:17.173Z"
   },
   {
    "duration": 21,
    "start_time": "2023-12-13T05:26:17.186Z"
   },
   {
    "duration": 19,
    "start_time": "2023-12-13T05:26:17.209Z"
   },
   {
    "duration": 164,
    "start_time": "2023-12-13T05:26:17.230Z"
   },
   {
    "duration": 3,
    "start_time": "2023-12-13T05:26:17.395Z"
   },
   {
    "duration": 18,
    "start_time": "2023-12-13T05:26:17.399Z"
   },
   {
    "duration": 37,
    "start_time": "2023-12-13T05:26:17.418Z"
   },
   {
    "duration": 12,
    "start_time": "2023-12-13T05:26:17.460Z"
   },
   {
    "duration": 4,
    "start_time": "2023-12-13T05:26:17.473Z"
   },
   {
    "duration": 27,
    "start_time": "2023-12-13T05:26:17.479Z"
   },
   {
    "duration": 20,
    "start_time": "2023-12-13T05:26:17.508Z"
   },
   {
    "duration": 9,
    "start_time": "2023-12-13T05:26:17.530Z"
   },
   {
    "duration": 12,
    "start_time": "2023-12-13T05:26:17.540Z"
   },
   {
    "duration": 148,
    "start_time": "2023-12-13T05:26:58.408Z"
   },
   {
    "duration": 305,
    "start_time": "2023-12-13T05:27:35.711Z"
   },
   {
    "duration": 297,
    "start_time": "2023-12-13T05:27:57.203Z"
   },
   {
    "duration": 179,
    "start_time": "2023-12-13T05:31:27.263Z"
   },
   {
    "duration": 201,
    "start_time": "2023-12-13T05:31:53.542Z"
   },
   {
    "duration": 9,
    "start_time": "2023-12-13T05:35:02.030Z"
   },
   {
    "duration": 15,
    "start_time": "2023-12-13T05:49:06.782Z"
   },
   {
    "duration": 282,
    "start_time": "2023-12-13T05:50:05.775Z"
   },
   {
    "duration": 194,
    "start_time": "2023-12-13T05:52:57.208Z"
   },
   {
    "duration": 9,
    "start_time": "2023-12-13T05:54:29.922Z"
   },
   {
    "duration": 200,
    "start_time": "2023-12-13T05:59:56.681Z"
   },
   {
    "duration": 8,
    "start_time": "2023-12-13T06:00:33.386Z"
   },
   {
    "duration": 8,
    "start_time": "2023-12-13T06:01:58.887Z"
   },
   {
    "duration": 16,
    "start_time": "2023-12-13T06:02:10.067Z"
   },
   {
    "duration": 6,
    "start_time": "2023-12-13T06:06:24.538Z"
   },
   {
    "duration": 215,
    "start_time": "2023-12-13T06:06:42.811Z"
   },
   {
    "duration": 16,
    "start_time": "2023-12-13T06:08:15.377Z"
   },
   {
    "duration": 13,
    "start_time": "2023-12-13T06:12:31.355Z"
   },
   {
    "duration": 14,
    "start_time": "2023-12-13T06:12:52.890Z"
   },
   {
    "duration": 105,
    "start_time": "2023-12-13T06:22:50.983Z"
   },
   {
    "duration": 436,
    "start_time": "2023-12-13T06:24:17.234Z"
   },
   {
    "duration": 240,
    "start_time": "2023-12-13T06:27:03.898Z"
   },
   {
    "duration": 263,
    "start_time": "2023-12-13T06:27:52.885Z"
   },
   {
    "duration": 244,
    "start_time": "2023-12-13T06:28:28.813Z"
   },
   {
    "duration": 257,
    "start_time": "2023-12-13T06:29:03.205Z"
   },
   {
    "duration": 462,
    "start_time": "2023-12-13T06:29:33.472Z"
   },
   {
    "duration": 314,
    "start_time": "2023-12-13T06:32:09.389Z"
   },
   {
    "duration": 142,
    "start_time": "2023-12-13T06:33:03.861Z"
   },
   {
    "duration": 146,
    "start_time": "2023-12-13T06:34:29.139Z"
   },
   {
    "duration": 1278,
    "start_time": "2023-12-13T07:02:19.447Z"
   },
   {
    "duration": 1667,
    "start_time": "2023-12-13T07:07:27.423Z"
   },
   {
    "duration": 9,
    "start_time": "2023-12-13T07:08:04.845Z"
   },
   {
    "duration": 15,
    "start_time": "2023-12-13T07:08:19.096Z"
   },
   {
    "duration": 11,
    "start_time": "2023-12-13T07:27:16.023Z"
   },
   {
    "duration": 12,
    "start_time": "2023-12-13T07:59:27.098Z"
   },
   {
    "duration": 12,
    "start_time": "2023-12-13T07:59:40.922Z"
   },
   {
    "duration": 2,
    "start_time": "2023-12-13T08:00:11.264Z"
   },
   {
    "duration": 46,
    "start_time": "2023-12-13T08:00:11.268Z"
   },
   {
    "duration": 9,
    "start_time": "2023-12-13T08:00:11.316Z"
   },
   {
    "duration": 20,
    "start_time": "2023-12-13T08:00:11.326Z"
   },
   {
    "duration": 313,
    "start_time": "2023-12-13T08:00:11.348Z"
   },
   {
    "duration": 26,
    "start_time": "2023-12-13T08:00:11.663Z"
   },
   {
    "duration": 8,
    "start_time": "2023-12-13T08:00:11.691Z"
   },
   {
    "duration": 19,
    "start_time": "2023-12-13T08:00:11.701Z"
   },
   {
    "duration": 602,
    "start_time": "2023-12-13T08:00:11.722Z"
   },
   {
    "duration": 25,
    "start_time": "2023-12-13T08:00:12.326Z"
   },
   {
    "duration": 6,
    "start_time": "2023-12-13T08:00:12.353Z"
   },
   {
    "duration": 18,
    "start_time": "2023-12-13T08:00:12.360Z"
   },
   {
    "duration": 11,
    "start_time": "2023-12-13T08:00:12.381Z"
   },
   {
    "duration": 15,
    "start_time": "2023-12-13T08:00:12.394Z"
   },
   {
    "duration": 10,
    "start_time": "2023-12-13T08:00:12.410Z"
   },
   {
    "duration": 20,
    "start_time": "2023-12-13T08:00:12.421Z"
   },
   {
    "duration": 9,
    "start_time": "2023-12-13T08:00:12.443Z"
   },
   {
    "duration": 11,
    "start_time": "2023-12-13T08:00:12.453Z"
   },
   {
    "duration": 18,
    "start_time": "2023-12-13T08:00:12.466Z"
   },
   {
    "duration": 13,
    "start_time": "2023-12-13T08:00:12.486Z"
   },
   {
    "duration": 17,
    "start_time": "2023-12-13T08:00:12.500Z"
   },
   {
    "duration": 13,
    "start_time": "2023-12-13T08:00:12.518Z"
   },
   {
    "duration": 23,
    "start_time": "2023-12-13T08:00:12.533Z"
   },
   {
    "duration": 12,
    "start_time": "2023-12-13T08:00:12.558Z"
   },
   {
    "duration": 8,
    "start_time": "2023-12-13T08:00:12.571Z"
   },
   {
    "duration": 16,
    "start_time": "2023-12-13T08:00:12.580Z"
   },
   {
    "duration": 8,
    "start_time": "2023-12-13T08:00:12.597Z"
   },
   {
    "duration": 78,
    "start_time": "2023-12-13T08:00:12.607Z"
   },
   {
    "duration": 59,
    "start_time": "2023-12-13T08:00:12.687Z"
   },
   {
    "duration": 19,
    "start_time": "2023-12-13T08:00:12.748Z"
   },
   {
    "duration": 23,
    "start_time": "2023-12-13T08:00:12.769Z"
   },
   {
    "duration": 16,
    "start_time": "2023-12-13T08:00:12.793Z"
   },
   {
    "duration": 324,
    "start_time": "2023-12-13T08:00:12.810Z"
   },
   {
    "duration": 7,
    "start_time": "2023-12-13T08:00:13.149Z"
   },
   {
    "duration": 28,
    "start_time": "2023-12-13T08:00:13.158Z"
   },
   {
    "duration": 25,
    "start_time": "2023-12-13T08:00:13.187Z"
   },
   {
    "duration": 5,
    "start_time": "2023-12-13T08:00:13.217Z"
   },
   {
    "duration": 10,
    "start_time": "2023-12-13T08:00:13.224Z"
   },
   {
    "duration": 9,
    "start_time": "2023-12-13T08:00:13.236Z"
   },
   {
    "duration": 242,
    "start_time": "2023-12-13T08:00:13.247Z"
   },
   {
    "duration": 7,
    "start_time": "2023-12-13T08:00:13.490Z"
   },
   {
    "duration": 44,
    "start_time": "2023-12-13T08:00:13.498Z"
   },
   {
    "duration": 9,
    "start_time": "2023-12-13T08:00:13.543Z"
   },
   {
    "duration": 67,
    "start_time": "2023-12-13T08:00:13.553Z"
   },
   {
    "duration": 48,
    "start_time": "2023-12-13T08:00:13.622Z"
   },
   {
    "duration": 26,
    "start_time": "2023-12-13T08:00:13.672Z"
   },
   {
    "duration": 238,
    "start_time": "2023-12-13T08:00:13.700Z"
   },
   {
    "duration": 9,
    "start_time": "2023-12-13T08:00:13.941Z"
   },
   {
    "duration": 27,
    "start_time": "2023-12-13T08:00:13.951Z"
   },
   {
    "duration": 20,
    "start_time": "2023-12-13T08:00:13.980Z"
   },
   {
    "duration": 390,
    "start_time": "2023-12-13T08:00:14.001Z"
   },
   {
    "duration": 10,
    "start_time": "2023-12-13T08:00:14.392Z"
   },
   {
    "duration": 18,
    "start_time": "2023-12-13T08:00:14.404Z"
   },
   {
    "duration": 23,
    "start_time": "2023-12-13T08:00:14.423Z"
   },
   {
    "duration": 240,
    "start_time": "2023-12-13T08:00:14.448Z"
   },
   {
    "duration": 11,
    "start_time": "2023-12-13T08:00:14.689Z"
   },
   {
    "duration": 9,
    "start_time": "2023-12-13T08:00:14.702Z"
   },
   {
    "duration": 33,
    "start_time": "2023-12-13T08:00:14.713Z"
   },
   {
    "duration": 24,
    "start_time": "2023-12-13T08:00:14.747Z"
   },
   {
    "duration": 11,
    "start_time": "2023-12-13T08:00:14.772Z"
   },
   {
    "duration": 67,
    "start_time": "2023-12-13T08:00:14.785Z"
   },
   {
    "duration": 15,
    "start_time": "2023-12-13T08:00:14.854Z"
   },
   {
    "duration": 5,
    "start_time": "2023-12-13T08:00:14.871Z"
   },
   {
    "duration": 25,
    "start_time": "2023-12-13T08:00:14.877Z"
   },
   {
    "duration": 13,
    "start_time": "2023-12-13T08:00:14.904Z"
   },
   {
    "duration": 158,
    "start_time": "2023-12-13T08:00:14.918Z"
   },
   {
    "duration": 150,
    "start_time": "2023-12-13T08:00:15.078Z"
   },
   {
    "duration": 488,
    "start_time": "2023-12-13T08:00:15.229Z"
   },
   {
    "duration": 23,
    "start_time": "2023-12-13T08:00:15.719Z"
   },
   {
    "duration": 19,
    "start_time": "2023-12-13T08:00:15.744Z"
   },
   {
    "duration": 41,
    "start_time": "2023-12-13T08:00:15.765Z"
   },
   {
    "duration": 19,
    "start_time": "2023-12-13T08:00:15.807Z"
   },
   {
    "duration": 18,
    "start_time": "2023-12-13T08:00:15.827Z"
   },
   {
    "duration": 24,
    "start_time": "2023-12-13T08:00:15.846Z"
   },
   {
    "duration": 19,
    "start_time": "2023-12-13T08:00:15.871Z"
   },
   {
    "duration": 31,
    "start_time": "2023-12-13T08:00:15.891Z"
   },
   {
    "duration": 33,
    "start_time": "2023-12-13T08:00:15.923Z"
   },
   {
    "duration": 15,
    "start_time": "2023-12-13T08:00:15.958Z"
   },
   {
    "duration": 19,
    "start_time": "2023-12-13T08:00:15.975Z"
   },
   {
    "duration": 17,
    "start_time": "2023-12-13T08:00:15.995Z"
   },
   {
    "duration": 16,
    "start_time": "2023-12-13T08:00:16.014Z"
   },
   {
    "duration": 41,
    "start_time": "2023-12-13T08:00:16.032Z"
   },
   {
    "duration": 34,
    "start_time": "2023-12-13T08:00:16.074Z"
   },
   {
    "duration": 31,
    "start_time": "2023-12-13T08:00:16.109Z"
   },
   {
    "duration": 31,
    "start_time": "2023-12-13T08:00:16.141Z"
   },
   {
    "duration": 44,
    "start_time": "2023-12-13T08:00:16.173Z"
   },
   {
    "duration": 46,
    "start_time": "2023-12-13T08:00:16.218Z"
   },
   {
    "duration": 28,
    "start_time": "2023-12-13T08:00:16.265Z"
   },
   {
    "duration": 45,
    "start_time": "2023-12-13T08:00:16.295Z"
   },
   {
    "duration": 19,
    "start_time": "2023-12-13T08:00:16.342Z"
   },
   {
    "duration": 19,
    "start_time": "2023-12-13T08:00:16.363Z"
   },
   {
    "duration": 21,
    "start_time": "2023-12-13T08:00:16.384Z"
   },
   {
    "duration": 41,
    "start_time": "2023-12-13T08:00:16.407Z"
   },
   {
    "duration": 48,
    "start_time": "2023-12-13T08:00:16.450Z"
   },
   {
    "duration": 205,
    "start_time": "2023-12-13T08:00:16.499Z"
   },
   {
    "duration": 3,
    "start_time": "2023-12-13T08:00:16.706Z"
   },
   {
    "duration": 12,
    "start_time": "2023-12-13T08:00:16.711Z"
   },
   {
    "duration": 6,
    "start_time": "2023-12-13T08:00:16.724Z"
   },
   {
    "duration": 19,
    "start_time": "2023-12-13T08:00:16.743Z"
   },
   {
    "duration": 20,
    "start_time": "2023-12-13T08:00:16.764Z"
   },
   {
    "duration": 7,
    "start_time": "2023-12-13T08:00:16.785Z"
   },
   {
    "duration": 9,
    "start_time": "2023-12-13T08:00:16.794Z"
   },
   {
    "duration": 17,
    "start_time": "2023-12-13T08:00:16.804Z"
   },
   {
    "duration": 12,
    "start_time": "2023-12-13T08:00:16.823Z"
   },
   {
    "duration": 12,
    "start_time": "2023-12-13T08:01:36.390Z"
   },
   {
    "duration": 12,
    "start_time": "2023-12-13T08:01:45.334Z"
   },
   {
    "duration": 13,
    "start_time": "2023-12-13T08:02:11.292Z"
   },
   {
    "duration": 3,
    "start_time": "2023-12-13T08:05:49.231Z"
   },
   {
    "duration": 29,
    "start_time": "2023-12-13T08:05:49.237Z"
   },
   {
    "duration": 8,
    "start_time": "2023-12-13T08:05:49.268Z"
   },
   {
    "duration": 11,
    "start_time": "2023-12-13T08:05:49.277Z"
   },
   {
    "duration": 314,
    "start_time": "2023-12-13T08:05:49.290Z"
   },
   {
    "duration": 24,
    "start_time": "2023-12-13T08:05:49.605Z"
   },
   {
    "duration": 12,
    "start_time": "2023-12-13T08:05:49.631Z"
   },
   {
    "duration": 15,
    "start_time": "2023-12-13T08:05:49.645Z"
   },
   {
    "duration": 600,
    "start_time": "2023-12-13T08:05:49.662Z"
   },
   {
    "duration": 25,
    "start_time": "2023-12-13T08:05:50.264Z"
   },
   {
    "duration": 7,
    "start_time": "2023-12-13T08:05:50.292Z"
   },
   {
    "duration": 16,
    "start_time": "2023-12-13T08:05:50.301Z"
   },
   {
    "duration": 13,
    "start_time": "2023-12-13T08:05:50.319Z"
   },
   {
    "duration": 20,
    "start_time": "2023-12-13T08:05:50.334Z"
   },
   {
    "duration": 17,
    "start_time": "2023-12-13T08:05:50.355Z"
   },
   {
    "duration": 10,
    "start_time": "2023-12-13T08:05:50.375Z"
   },
   {
    "duration": 37,
    "start_time": "2023-12-13T08:05:50.386Z"
   },
   {
    "duration": 25,
    "start_time": "2023-12-13T08:05:50.424Z"
   },
   {
    "duration": 9,
    "start_time": "2023-12-13T08:05:50.451Z"
   },
   {
    "duration": 15,
    "start_time": "2023-12-13T08:05:50.461Z"
   },
   {
    "duration": 11,
    "start_time": "2023-12-13T08:05:50.477Z"
   },
   {
    "duration": 13,
    "start_time": "2023-12-13T08:05:50.489Z"
   },
   {
    "duration": 5,
    "start_time": "2023-12-13T08:05:50.504Z"
   },
   {
    "duration": 7,
    "start_time": "2023-12-13T08:05:50.511Z"
   },
   {
    "duration": 4,
    "start_time": "2023-12-13T08:05:50.520Z"
   },
   {
    "duration": 7,
    "start_time": "2023-12-13T08:05:50.542Z"
   },
   {
    "duration": 16,
    "start_time": "2023-12-13T08:05:50.550Z"
   },
   {
    "duration": 17,
    "start_time": "2023-12-13T08:05:50.568Z"
   },
   {
    "duration": 11,
    "start_time": "2023-12-13T08:05:50.589Z"
   },
   {
    "duration": 10,
    "start_time": "2023-12-13T08:05:50.601Z"
   },
   {
    "duration": 41,
    "start_time": "2023-12-13T08:05:50.613Z"
   },
   {
    "duration": 36,
    "start_time": "2023-12-13T08:05:50.655Z"
   },
   {
    "duration": 364,
    "start_time": "2023-12-13T08:05:50.693Z"
   },
   {
    "duration": 7,
    "start_time": "2023-12-13T08:05:51.058Z"
   },
   {
    "duration": 17,
    "start_time": "2023-12-13T08:05:51.067Z"
   },
   {
    "duration": 15,
    "start_time": "2023-12-13T08:05:51.085Z"
   },
   {
    "duration": 14,
    "start_time": "2023-12-13T08:05:51.102Z"
   },
   {
    "duration": 7,
    "start_time": "2023-12-13T08:05:51.118Z"
   },
   {
    "duration": 6,
    "start_time": "2023-12-13T08:05:51.126Z"
   },
   {
    "duration": 242,
    "start_time": "2023-12-13T08:05:51.141Z"
   },
   {
    "duration": 9,
    "start_time": "2023-12-13T08:05:51.384Z"
   },
   {
    "duration": 18,
    "start_time": "2023-12-13T08:05:51.394Z"
   },
   {
    "duration": 10,
    "start_time": "2023-12-13T08:05:51.413Z"
   },
   {
    "duration": 36,
    "start_time": "2023-12-13T08:05:51.424Z"
   },
   {
    "duration": 9,
    "start_time": "2023-12-13T08:05:51.461Z"
   },
   {
    "duration": 28,
    "start_time": "2023-12-13T08:05:51.472Z"
   },
   {
    "duration": 405,
    "start_time": "2023-12-13T08:05:51.502Z"
   },
   {
    "duration": 9,
    "start_time": "2023-12-13T08:05:51.909Z"
   },
   {
    "duration": 15,
    "start_time": "2023-12-13T08:05:51.919Z"
   },
   {
    "duration": 31,
    "start_time": "2023-12-13T08:05:51.936Z"
   },
   {
    "duration": 272,
    "start_time": "2023-12-13T08:05:51.969Z"
   },
   {
    "duration": 9,
    "start_time": "2023-12-13T08:05:52.243Z"
   },
   {
    "duration": 35,
    "start_time": "2023-12-13T08:05:52.253Z"
   },
   {
    "duration": 23,
    "start_time": "2023-12-13T08:05:52.290Z"
   },
   {
    "duration": 272,
    "start_time": "2023-12-13T08:05:52.314Z"
   },
   {
    "duration": 10,
    "start_time": "2023-12-13T08:05:52.588Z"
   },
   {
    "duration": 38,
    "start_time": "2023-12-13T08:05:52.599Z"
   },
   {
    "duration": 37,
    "start_time": "2023-12-13T08:05:52.639Z"
   },
   {
    "duration": 53,
    "start_time": "2023-12-13T08:05:52.679Z"
   },
   {
    "duration": 9,
    "start_time": "2023-12-13T08:05:52.734Z"
   },
   {
    "duration": 34,
    "start_time": "2023-12-13T08:05:52.745Z"
   },
   {
    "duration": 32,
    "start_time": "2023-12-13T08:05:52.781Z"
   },
   {
    "duration": 56,
    "start_time": "2023-12-13T08:05:52.815Z"
   },
   {
    "duration": 44,
    "start_time": "2023-12-13T08:05:52.873Z"
   },
   {
    "duration": 33,
    "start_time": "2023-12-13T08:05:52.918Z"
   },
   {
    "duration": 170,
    "start_time": "2023-12-13T08:05:52.953Z"
   },
   {
    "duration": 161,
    "start_time": "2023-12-13T08:05:53.125Z"
   },
   {
    "duration": 483,
    "start_time": "2023-12-13T08:05:53.287Z"
   },
   {
    "duration": 13,
    "start_time": "2023-12-13T08:05:53.772Z"
   },
   {
    "duration": 37,
    "start_time": "2023-12-13T08:05:53.787Z"
   },
   {
    "duration": 36,
    "start_time": "2023-12-13T08:05:53.826Z"
   },
   {
    "duration": 29,
    "start_time": "2023-12-13T08:05:53.864Z"
   },
   {
    "duration": 41,
    "start_time": "2023-12-13T08:05:53.894Z"
   },
   {
    "duration": 24,
    "start_time": "2023-12-13T08:05:53.937Z"
   },
   {
    "duration": 31,
    "start_time": "2023-12-13T08:05:53.963Z"
   },
   {
    "duration": 40,
    "start_time": "2023-12-13T08:05:53.996Z"
   },
   {
    "duration": 29,
    "start_time": "2023-12-13T08:05:54.037Z"
   },
   {
    "duration": 35,
    "start_time": "2023-12-13T08:05:54.067Z"
   },
   {
    "duration": 22,
    "start_time": "2023-12-13T08:05:54.104Z"
   },
   {
    "duration": 25,
    "start_time": "2023-12-13T08:05:54.127Z"
   },
   {
    "duration": 27,
    "start_time": "2023-12-13T08:05:54.153Z"
   },
   {
    "duration": 20,
    "start_time": "2023-12-13T08:05:54.182Z"
   },
   {
    "duration": 19,
    "start_time": "2023-12-13T08:05:54.209Z"
   },
   {
    "duration": 34,
    "start_time": "2023-12-13T08:05:54.229Z"
   },
   {
    "duration": 39,
    "start_time": "2023-12-13T08:05:54.265Z"
   },
   {
    "duration": 26,
    "start_time": "2023-12-13T08:05:54.306Z"
   },
   {
    "duration": 34,
    "start_time": "2023-12-13T08:05:54.334Z"
   },
   {
    "duration": 27,
    "start_time": "2023-12-13T08:05:54.370Z"
   },
   {
    "duration": 41,
    "start_time": "2023-12-13T08:05:54.399Z"
   },
   {
    "duration": 42,
    "start_time": "2023-12-13T08:05:54.442Z"
   },
   {
    "duration": 52,
    "start_time": "2023-12-13T08:05:54.486Z"
   },
   {
    "duration": 36,
    "start_time": "2023-12-13T08:05:54.541Z"
   },
   {
    "duration": 29,
    "start_time": "2023-12-13T08:05:54.579Z"
   },
   {
    "duration": 38,
    "start_time": "2023-12-13T08:05:54.610Z"
   },
   {
    "duration": 228,
    "start_time": "2023-12-13T08:05:54.650Z"
   },
   {
    "duration": 3,
    "start_time": "2023-12-13T08:05:54.880Z"
   },
   {
    "duration": 29,
    "start_time": "2023-12-13T08:05:54.885Z"
   },
   {
    "duration": 41,
    "start_time": "2023-12-13T08:05:54.916Z"
   },
   {
    "duration": 54,
    "start_time": "2023-12-13T08:05:54.958Z"
   },
   {
    "duration": 38,
    "start_time": "2023-12-13T08:05:55.013Z"
   },
   {
    "duration": 27,
    "start_time": "2023-12-13T08:05:55.052Z"
   },
   {
    "duration": 37,
    "start_time": "2023-12-13T08:05:55.081Z"
   },
   {
    "duration": 33,
    "start_time": "2023-12-13T08:05:55.120Z"
   },
   {
    "duration": 46,
    "start_time": "2023-12-13T08:05:55.154Z"
   },
   {
    "duration": 193,
    "start_time": "2023-12-13T08:21:36.699Z"
   },
   {
    "duration": 174,
    "start_time": "2023-12-13T08:23:28.208Z"
   },
   {
    "duration": 167,
    "start_time": "2023-12-13T08:23:45.815Z"
   },
   {
    "duration": 173,
    "start_time": "2023-12-13T08:24:08.107Z"
   },
   {
    "duration": 3,
    "start_time": "2023-12-13T08:28:22.621Z"
   },
   {
    "duration": 28,
    "start_time": "2023-12-13T08:28:22.628Z"
   },
   {
    "duration": 9,
    "start_time": "2023-12-13T08:28:22.658Z"
   },
   {
    "duration": 15,
    "start_time": "2023-12-13T08:28:22.669Z"
   },
   {
    "duration": 344,
    "start_time": "2023-12-13T08:28:22.687Z"
   },
   {
    "duration": 25,
    "start_time": "2023-12-13T08:28:23.033Z"
   },
   {
    "duration": 9,
    "start_time": "2023-12-13T08:28:23.060Z"
   },
   {
    "duration": 14,
    "start_time": "2023-12-13T08:28:23.070Z"
   },
   {
    "duration": 732,
    "start_time": "2023-12-13T08:28:23.086Z"
   },
   {
    "duration": 26,
    "start_time": "2023-12-13T08:28:23.821Z"
   },
   {
    "duration": 9,
    "start_time": "2023-12-13T08:28:23.849Z"
   },
   {
    "duration": 14,
    "start_time": "2023-12-13T08:28:23.860Z"
   },
   {
    "duration": 13,
    "start_time": "2023-12-13T08:28:23.877Z"
   },
   {
    "duration": 20,
    "start_time": "2023-12-13T08:28:23.892Z"
   },
   {
    "duration": 6,
    "start_time": "2023-12-13T08:28:23.914Z"
   },
   {
    "duration": 14,
    "start_time": "2023-12-13T08:28:23.943Z"
   },
   {
    "duration": 5,
    "start_time": "2023-12-13T08:28:23.959Z"
   },
   {
    "duration": 6,
    "start_time": "2023-12-13T08:28:23.966Z"
   },
   {
    "duration": 7,
    "start_time": "2023-12-13T08:28:23.974Z"
   },
   {
    "duration": 5,
    "start_time": "2023-12-13T08:28:23.983Z"
   },
   {
    "duration": 52,
    "start_time": "2023-12-13T08:28:23.990Z"
   },
   {
    "duration": 9,
    "start_time": "2023-12-13T08:28:24.044Z"
   },
   {
    "duration": 6,
    "start_time": "2023-12-13T08:28:24.055Z"
   },
   {
    "duration": 10,
    "start_time": "2023-12-13T08:28:24.062Z"
   },
   {
    "duration": 5,
    "start_time": "2023-12-13T08:28:24.074Z"
   },
   {
    "duration": 7,
    "start_time": "2023-12-13T08:28:24.080Z"
   },
   {
    "duration": 5,
    "start_time": "2023-12-13T08:28:24.089Z"
   },
   {
    "duration": 53,
    "start_time": "2023-12-13T08:28:24.095Z"
   },
   {
    "duration": 16,
    "start_time": "2023-12-13T08:28:24.155Z"
   },
   {
    "duration": 14,
    "start_time": "2023-12-13T08:28:24.173Z"
   },
   {
    "duration": 28,
    "start_time": "2023-12-13T08:28:24.189Z"
   },
   {
    "duration": 21,
    "start_time": "2023-12-13T08:28:24.220Z"
   },
   {
    "duration": 378,
    "start_time": "2023-12-13T08:28:24.243Z"
   },
   {
    "duration": 18,
    "start_time": "2023-12-13T08:28:24.624Z"
   },
   {
    "duration": 14,
    "start_time": "2023-12-13T08:28:24.645Z"
   },
   {
    "duration": 5,
    "start_time": "2023-12-13T08:28:24.661Z"
   },
   {
    "duration": 8,
    "start_time": "2023-12-13T08:28:24.668Z"
   },
   {
    "duration": 4,
    "start_time": "2023-12-13T08:28:24.678Z"
   },
   {
    "duration": 7,
    "start_time": "2023-12-13T08:28:24.684Z"
   },
   {
    "duration": 281,
    "start_time": "2023-12-13T08:28:24.692Z"
   },
   {
    "duration": 11,
    "start_time": "2023-12-13T08:28:24.975Z"
   },
   {
    "duration": 38,
    "start_time": "2023-12-13T08:28:24.987Z"
   },
   {
    "duration": 16,
    "start_time": "2023-12-13T08:28:25.027Z"
   },
   {
    "duration": 17,
    "start_time": "2023-12-13T08:28:25.045Z"
   },
   {
    "duration": 6,
    "start_time": "2023-12-13T08:28:25.064Z"
   },
   {
    "duration": 14,
    "start_time": "2023-12-13T08:28:25.072Z"
   },
   {
    "duration": 269,
    "start_time": "2023-12-13T08:28:25.088Z"
   },
   {
    "duration": 9,
    "start_time": "2023-12-13T08:28:25.359Z"
   },
   {
    "duration": 4,
    "start_time": "2023-12-13T08:28:25.370Z"
   },
   {
    "duration": 15,
    "start_time": "2023-12-13T08:28:25.375Z"
   },
   {
    "duration": 265,
    "start_time": "2023-12-13T08:28:25.391Z"
   },
   {
    "duration": 11,
    "start_time": "2023-12-13T08:28:25.658Z"
   },
   {
    "duration": 48,
    "start_time": "2023-12-13T08:28:25.670Z"
   },
   {
    "duration": 9,
    "start_time": "2023-12-13T08:28:25.719Z"
   },
   {
    "duration": 277,
    "start_time": "2023-12-13T08:28:25.730Z"
   },
   {
    "duration": 11,
    "start_time": "2023-12-13T08:28:26.009Z"
   },
   {
    "duration": 24,
    "start_time": "2023-12-13T08:28:26.022Z"
   },
   {
    "duration": 52,
    "start_time": "2023-12-13T08:28:26.048Z"
   },
   {
    "duration": 18,
    "start_time": "2023-12-13T08:28:26.102Z"
   },
   {
    "duration": 9,
    "start_time": "2023-12-13T08:28:26.121Z"
   },
   {
    "duration": 21,
    "start_time": "2023-12-13T08:28:26.132Z"
   },
   {
    "duration": 16,
    "start_time": "2023-12-13T08:28:26.154Z"
   },
   {
    "duration": 6,
    "start_time": "2023-12-13T08:28:26.172Z"
   },
   {
    "duration": 20,
    "start_time": "2023-12-13T08:28:26.180Z"
   },
   {
    "duration": 12,
    "start_time": "2023-12-13T08:28:26.202Z"
   },
   {
    "duration": 537,
    "start_time": "2023-12-13T08:28:26.216Z"
   },
   {
    "duration": 15,
    "start_time": "2023-12-13T08:28:26.755Z"
   },
   {
    "duration": 28,
    "start_time": "2023-12-13T08:28:26.771Z"
   },
   {
    "duration": 37,
    "start_time": "2023-12-13T08:28:26.800Z"
   },
   {
    "duration": 21,
    "start_time": "2023-12-13T08:28:26.839Z"
   },
   {
    "duration": 29,
    "start_time": "2023-12-13T08:28:26.863Z"
   },
   {
    "duration": 29,
    "start_time": "2023-12-13T08:28:26.894Z"
   },
   {
    "duration": 24,
    "start_time": "2023-12-13T08:28:26.925Z"
   },
   {
    "duration": 45,
    "start_time": "2023-12-13T08:28:26.950Z"
   },
   {
    "duration": 28,
    "start_time": "2023-12-13T08:28:26.997Z"
   },
   {
    "duration": 36,
    "start_time": "2023-12-13T08:28:27.027Z"
   },
   {
    "duration": 24,
    "start_time": "2023-12-13T08:28:27.065Z"
   },
   {
    "duration": 17,
    "start_time": "2023-12-13T08:28:27.091Z"
   },
   {
    "duration": 26,
    "start_time": "2023-12-13T08:28:27.109Z"
   },
   {
    "duration": 32,
    "start_time": "2023-12-13T08:28:27.137Z"
   },
   {
    "duration": 15,
    "start_time": "2023-12-13T08:28:27.171Z"
   },
   {
    "duration": 27,
    "start_time": "2023-12-13T08:28:27.188Z"
   },
   {
    "duration": 8,
    "start_time": "2023-12-13T08:28:27.221Z"
   },
   {
    "duration": 12,
    "start_time": "2023-12-13T08:28:27.230Z"
   },
   {
    "duration": 31,
    "start_time": "2023-12-13T08:28:27.244Z"
   },
   {
    "duration": 28,
    "start_time": "2023-12-13T08:28:27.276Z"
   },
   {
    "duration": 27,
    "start_time": "2023-12-13T08:28:27.305Z"
   },
   {
    "duration": 26,
    "start_time": "2023-12-13T08:28:27.333Z"
   },
   {
    "duration": 26,
    "start_time": "2023-12-13T08:28:27.360Z"
   },
   {
    "duration": 21,
    "start_time": "2023-12-13T08:28:27.388Z"
   },
   {
    "duration": 29,
    "start_time": "2023-12-13T08:28:27.411Z"
   },
   {
    "duration": 14,
    "start_time": "2023-12-13T08:28:27.442Z"
   },
   {
    "duration": 206,
    "start_time": "2023-12-13T08:28:27.458Z"
   },
   {
    "duration": 3,
    "start_time": "2023-12-13T08:28:27.665Z"
   },
   {
    "duration": 22,
    "start_time": "2023-12-13T08:28:27.670Z"
   },
   {
    "duration": 13,
    "start_time": "2023-12-13T08:28:27.693Z"
   },
   {
    "duration": 27,
    "start_time": "2023-12-13T08:28:27.708Z"
   },
   {
    "duration": 12,
    "start_time": "2023-12-13T08:28:27.737Z"
   },
   {
    "duration": 28,
    "start_time": "2023-12-13T08:28:27.751Z"
   },
   {
    "duration": 21,
    "start_time": "2023-12-13T08:28:27.781Z"
   },
   {
    "duration": 29,
    "start_time": "2023-12-13T08:28:27.805Z"
   },
   {
    "duration": 23,
    "start_time": "2023-12-13T08:28:27.836Z"
   },
   {
    "duration": 3,
    "start_time": "2023-12-13T08:31:45.802Z"
   },
   {
    "duration": 31,
    "start_time": "2023-12-13T08:31:45.808Z"
   },
   {
    "duration": 10,
    "start_time": "2023-12-13T08:31:45.841Z"
   },
   {
    "duration": 16,
    "start_time": "2023-12-13T08:31:45.853Z"
   },
   {
    "duration": 326,
    "start_time": "2023-12-13T08:31:45.871Z"
   },
   {
    "duration": 24,
    "start_time": "2023-12-13T08:31:46.199Z"
   },
   {
    "duration": 11,
    "start_time": "2023-12-13T08:31:46.225Z"
   },
   {
    "duration": 14,
    "start_time": "2023-12-13T08:31:46.243Z"
   },
   {
    "duration": 706,
    "start_time": "2023-12-13T08:31:46.258Z"
   },
   {
    "duration": 25,
    "start_time": "2023-12-13T08:31:46.966Z"
   },
   {
    "duration": 8,
    "start_time": "2023-12-13T08:31:46.994Z"
   },
   {
    "duration": 14,
    "start_time": "2023-12-13T08:31:47.004Z"
   },
   {
    "duration": 13,
    "start_time": "2023-12-13T08:31:47.020Z"
   },
   {
    "duration": 18,
    "start_time": "2023-12-13T08:31:47.035Z"
   },
   {
    "duration": 7,
    "start_time": "2023-12-13T08:31:47.055Z"
   },
   {
    "duration": 14,
    "start_time": "2023-12-13T08:31:47.065Z"
   },
   {
    "duration": 6,
    "start_time": "2023-12-13T08:31:47.082Z"
   },
   {
    "duration": 9,
    "start_time": "2023-12-13T08:31:47.090Z"
   },
   {
    "duration": 44,
    "start_time": "2023-12-13T08:31:47.100Z"
   },
   {
    "duration": 5,
    "start_time": "2023-12-13T08:31:47.146Z"
   },
   {
    "duration": 21,
    "start_time": "2023-12-13T08:31:47.153Z"
   },
   {
    "duration": 7,
    "start_time": "2023-12-13T08:31:47.176Z"
   },
   {
    "duration": 8,
    "start_time": "2023-12-13T08:31:47.185Z"
   },
   {
    "duration": 15,
    "start_time": "2023-12-13T08:31:47.195Z"
   },
   {
    "duration": 8,
    "start_time": "2023-12-13T08:31:47.212Z"
   },
   {
    "duration": 26,
    "start_time": "2023-12-13T08:31:47.222Z"
   },
   {
    "duration": 7,
    "start_time": "2023-12-13T08:31:47.250Z"
   },
   {
    "duration": 26,
    "start_time": "2023-12-13T08:31:47.259Z"
   },
   {
    "duration": 13,
    "start_time": "2023-12-13T08:31:47.291Z"
   },
   {
    "duration": 17,
    "start_time": "2023-12-13T08:31:47.306Z"
   },
   {
    "duration": 21,
    "start_time": "2023-12-13T08:31:47.325Z"
   },
   {
    "duration": 17,
    "start_time": "2023-12-13T08:31:47.347Z"
   },
   {
    "duration": 354,
    "start_time": "2023-12-13T08:31:47.365Z"
   },
   {
    "duration": 8,
    "start_time": "2023-12-13T08:31:47.720Z"
   },
   {
    "duration": 21,
    "start_time": "2023-12-13T08:31:47.729Z"
   },
   {
    "duration": 4,
    "start_time": "2023-12-13T08:31:47.752Z"
   },
   {
    "duration": 6,
    "start_time": "2023-12-13T08:31:47.759Z"
   },
   {
    "duration": 11,
    "start_time": "2023-12-13T08:31:47.767Z"
   },
   {
    "duration": 8,
    "start_time": "2023-12-13T08:31:47.780Z"
   },
   {
    "duration": 247,
    "start_time": "2023-12-13T08:31:47.790Z"
   },
   {
    "duration": 10,
    "start_time": "2023-12-13T08:31:48.042Z"
   },
   {
    "duration": 25,
    "start_time": "2023-12-13T08:31:48.054Z"
   },
   {
    "duration": 4,
    "start_time": "2023-12-13T08:31:48.081Z"
   },
   {
    "duration": 11,
    "start_time": "2023-12-13T08:31:48.087Z"
   },
   {
    "duration": 4,
    "start_time": "2023-12-13T08:31:48.100Z"
   },
   {
    "duration": 44,
    "start_time": "2023-12-13T08:31:48.105Z"
   },
   {
    "duration": 235,
    "start_time": "2023-12-13T08:31:48.151Z"
   },
   {
    "duration": 9,
    "start_time": "2023-12-13T08:31:48.388Z"
   },
   {
    "duration": 4,
    "start_time": "2023-12-13T08:31:48.398Z"
   },
   {
    "duration": 39,
    "start_time": "2023-12-13T08:31:48.403Z"
   },
   {
    "duration": 237,
    "start_time": "2023-12-13T08:31:48.444Z"
   },
   {
    "duration": 9,
    "start_time": "2023-12-13T08:31:48.682Z"
   },
   {
    "duration": 21,
    "start_time": "2023-12-13T08:31:48.693Z"
   },
   {
    "duration": 13,
    "start_time": "2023-12-13T08:31:48.715Z"
   },
   {
    "duration": 248,
    "start_time": "2023-12-13T08:31:48.730Z"
   },
   {
    "duration": 10,
    "start_time": "2023-12-13T08:31:48.980Z"
   },
   {
    "duration": 18,
    "start_time": "2023-12-13T08:31:48.992Z"
   },
   {
    "duration": 31,
    "start_time": "2023-12-13T08:31:49.012Z"
   },
   {
    "duration": 29,
    "start_time": "2023-12-13T08:31:49.045Z"
   },
   {
    "duration": 7,
    "start_time": "2023-12-13T08:31:49.075Z"
   },
   {
    "duration": 46,
    "start_time": "2023-12-13T08:31:49.084Z"
   },
   {
    "duration": 34,
    "start_time": "2023-12-13T08:31:49.133Z"
   },
   {
    "duration": 16,
    "start_time": "2023-12-13T08:31:49.168Z"
   },
   {
    "duration": 43,
    "start_time": "2023-12-13T08:31:49.186Z"
   },
   {
    "duration": 33,
    "start_time": "2023-12-13T08:31:49.233Z"
   },
   {
    "duration": 465,
    "start_time": "2023-12-13T08:31:49.268Z"
   },
   {
    "duration": 16,
    "start_time": "2023-12-13T08:31:49.735Z"
   },
   {
    "duration": 14,
    "start_time": "2023-12-13T08:31:49.753Z"
   },
   {
    "duration": 23,
    "start_time": "2023-12-13T08:31:49.769Z"
   },
   {
    "duration": 12,
    "start_time": "2023-12-13T08:31:49.794Z"
   },
   {
    "duration": 37,
    "start_time": "2023-12-13T08:31:49.808Z"
   },
   {
    "duration": 35,
    "start_time": "2023-12-13T08:31:49.848Z"
   },
   {
    "duration": 45,
    "start_time": "2023-12-13T08:31:49.884Z"
   },
   {
    "duration": 35,
    "start_time": "2023-12-13T08:31:49.931Z"
   },
   {
    "duration": 11,
    "start_time": "2023-12-13T08:31:49.968Z"
   },
   {
    "duration": 34,
    "start_time": "2023-12-13T08:31:49.980Z"
   },
   {
    "duration": 26,
    "start_time": "2023-12-13T08:31:50.016Z"
   },
   {
    "duration": 50,
    "start_time": "2023-12-13T08:31:50.043Z"
   },
   {
    "duration": 42,
    "start_time": "2023-12-13T08:31:50.096Z"
   },
   {
    "duration": 25,
    "start_time": "2023-12-13T08:31:50.141Z"
   },
   {
    "duration": 37,
    "start_time": "2023-12-13T08:31:50.168Z"
   },
   {
    "duration": 19,
    "start_time": "2023-12-13T08:31:50.208Z"
   },
   {
    "duration": 15,
    "start_time": "2023-12-13T08:31:50.236Z"
   },
   {
    "duration": 19,
    "start_time": "2023-12-13T08:31:50.254Z"
   },
   {
    "duration": 62,
    "start_time": "2023-12-13T08:31:50.275Z"
   },
   {
    "duration": 46,
    "start_time": "2023-12-13T08:31:50.339Z"
   },
   {
    "duration": 22,
    "start_time": "2023-12-13T08:31:50.387Z"
   },
   {
    "duration": 19,
    "start_time": "2023-12-13T08:31:50.411Z"
   },
   {
    "duration": 20,
    "start_time": "2023-12-13T08:31:50.432Z"
   },
   {
    "duration": 20,
    "start_time": "2023-12-13T08:31:50.454Z"
   },
   {
    "duration": 23,
    "start_time": "2023-12-13T08:31:50.475Z"
   },
   {
    "duration": 9,
    "start_time": "2023-12-13T08:31:50.500Z"
   },
   {
    "duration": 192,
    "start_time": "2023-12-13T08:31:50.511Z"
   },
   {
    "duration": 3,
    "start_time": "2023-12-13T08:31:50.705Z"
   },
   {
    "duration": 35,
    "start_time": "2023-12-13T08:31:50.709Z"
   },
   {
    "duration": 22,
    "start_time": "2023-12-13T08:31:50.746Z"
   },
   {
    "duration": 18,
    "start_time": "2023-12-13T08:31:50.770Z"
   },
   {
    "duration": 17,
    "start_time": "2023-12-13T08:31:50.790Z"
   },
   {
    "duration": 33,
    "start_time": "2023-12-13T08:31:50.809Z"
   },
   {
    "duration": 15,
    "start_time": "2023-12-13T08:31:50.843Z"
   },
   {
    "duration": 37,
    "start_time": "2023-12-13T08:31:50.860Z"
   },
   {
    "duration": 22,
    "start_time": "2023-12-13T08:31:50.899Z"
   },
   {
    "duration": 6,
    "start_time": "2023-12-13T08:32:03.399Z"
   },
   {
    "duration": 156,
    "start_time": "2023-12-13T08:32:04.158Z"
   },
   {
    "duration": 3,
    "start_time": "2023-12-13T08:32:09.317Z"
   },
   {
    "duration": 5,
    "start_time": "2023-12-13T08:32:10.234Z"
   },
   {
    "duration": 3,
    "start_time": "2023-12-13T08:32:39.981Z"
   },
   {
    "duration": 30,
    "start_time": "2023-12-13T08:32:39.987Z"
   },
   {
    "duration": 12,
    "start_time": "2023-12-13T08:32:40.020Z"
   },
   {
    "duration": 12,
    "start_time": "2023-12-13T08:32:40.034Z"
   },
   {
    "duration": 330,
    "start_time": "2023-12-13T08:32:40.049Z"
   },
   {
    "duration": 26,
    "start_time": "2023-12-13T08:32:40.381Z"
   },
   {
    "duration": 9,
    "start_time": "2023-12-13T08:32:40.409Z"
   },
   {
    "duration": 23,
    "start_time": "2023-12-13T08:32:40.419Z"
   },
   {
    "duration": 690,
    "start_time": "2023-12-13T08:32:40.445Z"
   },
   {
    "duration": 28,
    "start_time": "2023-12-13T08:32:41.136Z"
   },
   {
    "duration": 9,
    "start_time": "2023-12-13T08:32:41.168Z"
   },
   {
    "duration": 14,
    "start_time": "2023-12-13T08:32:41.179Z"
   },
   {
    "duration": 21,
    "start_time": "2023-12-13T08:32:41.195Z"
   },
   {
    "duration": 17,
    "start_time": "2023-12-13T08:32:41.219Z"
   },
   {
    "duration": 9,
    "start_time": "2023-12-13T08:32:41.238Z"
   },
   {
    "duration": 18,
    "start_time": "2023-12-13T08:32:41.249Z"
   },
   {
    "duration": 18,
    "start_time": "2023-12-13T08:32:41.269Z"
   },
   {
    "duration": 18,
    "start_time": "2023-12-13T08:32:41.290Z"
   },
   {
    "duration": 9,
    "start_time": "2023-12-13T08:32:41.310Z"
   },
   {
    "duration": 28,
    "start_time": "2023-12-13T08:32:41.321Z"
   },
   {
    "duration": 26,
    "start_time": "2023-12-13T08:32:41.350Z"
   },
   {
    "duration": 13,
    "start_time": "2023-12-13T08:32:41.378Z"
   },
   {
    "duration": 10,
    "start_time": "2023-12-13T08:32:41.393Z"
   },
   {
    "duration": 11,
    "start_time": "2023-12-13T08:32:41.405Z"
   },
   {
    "duration": 12,
    "start_time": "2023-12-13T08:32:41.417Z"
   },
   {
    "duration": 27,
    "start_time": "2023-12-13T08:32:41.431Z"
   },
   {
    "duration": 19,
    "start_time": "2023-12-13T08:32:41.460Z"
   },
   {
    "duration": 20,
    "start_time": "2023-12-13T08:32:41.481Z"
   },
   {
    "duration": 10,
    "start_time": "2023-12-13T08:32:41.508Z"
   },
   {
    "duration": 5,
    "start_time": "2023-12-13T08:32:41.520Z"
   },
   {
    "duration": 16,
    "start_time": "2023-12-13T08:32:41.526Z"
   },
   {
    "duration": 3,
    "start_time": "2023-12-13T08:32:41.544Z"
   },
   {
    "duration": 314,
    "start_time": "2023-12-13T08:32:41.549Z"
   },
   {
    "duration": 8,
    "start_time": "2023-12-13T08:32:41.865Z"
   },
   {
    "duration": 21,
    "start_time": "2023-12-13T08:32:41.875Z"
   },
   {
    "duration": 8,
    "start_time": "2023-12-13T08:32:41.898Z"
   },
   {
    "duration": 22,
    "start_time": "2023-12-13T08:32:41.907Z"
   },
   {
    "duration": 23,
    "start_time": "2023-12-13T08:32:41.931Z"
   },
   {
    "duration": 9,
    "start_time": "2023-12-13T08:32:41.956Z"
   },
   {
    "duration": 212,
    "start_time": "2023-12-13T08:32:41.967Z"
   },
   {
    "duration": 7,
    "start_time": "2023-12-13T08:32:42.181Z"
   },
   {
    "duration": 21,
    "start_time": "2023-12-13T08:32:42.190Z"
   },
   {
    "duration": 29,
    "start_time": "2023-12-13T08:32:42.213Z"
   },
   {
    "duration": 14,
    "start_time": "2023-12-13T08:32:42.245Z"
   },
   {
    "duration": 7,
    "start_time": "2023-12-13T08:32:42.261Z"
   },
   {
    "duration": 17,
    "start_time": "2023-12-13T08:32:42.270Z"
   },
   {
    "duration": 273,
    "start_time": "2023-12-13T08:32:42.289Z"
   },
   {
    "duration": 8,
    "start_time": "2023-12-13T08:32:42.564Z"
   },
   {
    "duration": 4,
    "start_time": "2023-12-13T08:32:42.574Z"
   },
   {
    "duration": 13,
    "start_time": "2023-12-13T08:32:42.579Z"
   },
   {
    "duration": 269,
    "start_time": "2023-12-13T08:32:42.593Z"
   },
   {
    "duration": 9,
    "start_time": "2023-12-13T08:32:42.863Z"
   },
   {
    "duration": 19,
    "start_time": "2023-12-13T08:32:42.874Z"
   },
   {
    "duration": 6,
    "start_time": "2023-12-13T08:32:42.895Z"
   },
   {
    "duration": 288,
    "start_time": "2023-12-13T08:32:42.905Z"
   },
   {
    "duration": 11,
    "start_time": "2023-12-13T08:32:43.194Z"
   },
   {
    "duration": 15,
    "start_time": "2023-12-13T08:32:43.206Z"
   },
   {
    "duration": 29,
    "start_time": "2023-12-13T08:32:43.223Z"
   },
   {
    "duration": 15,
    "start_time": "2023-12-13T08:32:43.254Z"
   },
   {
    "duration": 7,
    "start_time": "2023-12-13T08:32:43.271Z"
   },
   {
    "duration": 24,
    "start_time": "2023-12-13T08:32:43.280Z"
   },
   {
    "duration": 46,
    "start_time": "2023-12-13T08:32:43.305Z"
   },
   {
    "duration": 6,
    "start_time": "2023-12-13T08:32:43.353Z"
   },
   {
    "duration": 25,
    "start_time": "2023-12-13T08:32:43.361Z"
   },
   {
    "duration": 21,
    "start_time": "2023-12-13T08:32:43.387Z"
   },
   {
    "duration": 517,
    "start_time": "2023-12-13T08:32:43.409Z"
   },
   {
    "duration": 21,
    "start_time": "2023-12-13T08:32:43.928Z"
   },
   {
    "duration": 10,
    "start_time": "2023-12-13T08:32:43.951Z"
   },
   {
    "duration": 11,
    "start_time": "2023-12-13T08:32:43.963Z"
   },
   {
    "duration": 11,
    "start_time": "2023-12-13T08:32:43.976Z"
   },
   {
    "duration": 4,
    "start_time": "2023-12-13T08:32:43.988Z"
   },
   {
    "duration": 16,
    "start_time": "2023-12-13T08:32:43.994Z"
   },
   {
    "duration": 12,
    "start_time": "2023-12-13T08:32:44.042Z"
   },
   {
    "duration": 11,
    "start_time": "2023-12-13T08:32:44.056Z"
   },
   {
    "duration": 2,
    "start_time": "2023-12-13T08:32:44.069Z"
   },
   {
    "duration": 13,
    "start_time": "2023-12-13T08:32:44.073Z"
   },
   {
    "duration": 30,
    "start_time": "2023-12-13T08:32:44.088Z"
   },
   {
    "duration": 7,
    "start_time": "2023-12-13T08:32:44.120Z"
   },
   {
    "duration": 4,
    "start_time": "2023-12-13T08:32:44.129Z"
   },
   {
    "duration": 10,
    "start_time": "2023-12-13T08:32:44.134Z"
   },
   {
    "duration": 5,
    "start_time": "2023-12-13T08:32:44.145Z"
   },
   {
    "duration": 17,
    "start_time": "2023-12-13T08:32:44.151Z"
   },
   {
    "duration": 3,
    "start_time": "2023-12-13T08:32:44.175Z"
   },
   {
    "duration": 13,
    "start_time": "2023-12-13T08:32:44.180Z"
   },
   {
    "duration": 13,
    "start_time": "2023-12-13T08:32:44.195Z"
   },
   {
    "duration": 42,
    "start_time": "2023-12-13T08:32:44.210Z"
   },
   {
    "duration": 17,
    "start_time": "2023-12-13T08:32:44.253Z"
   },
   {
    "duration": 8,
    "start_time": "2023-12-13T08:32:44.271Z"
   },
   {
    "duration": 6,
    "start_time": "2023-12-13T08:32:44.281Z"
   },
   {
    "duration": 14,
    "start_time": "2023-12-13T08:32:44.288Z"
   },
   {
    "duration": 7,
    "start_time": "2023-12-13T08:32:44.303Z"
   },
   {
    "duration": 10,
    "start_time": "2023-12-13T08:32:44.312Z"
   },
   {
    "duration": 172,
    "start_time": "2023-12-13T08:32:44.342Z"
   },
   {
    "duration": 3,
    "start_time": "2023-12-13T08:32:44.516Z"
   },
   {
    "duration": 6,
    "start_time": "2023-12-13T08:32:44.520Z"
   },
   {
    "duration": 4,
    "start_time": "2023-12-13T08:32:44.544Z"
   },
   {
    "duration": 5,
    "start_time": "2023-12-13T08:32:44.549Z"
   },
   {
    "duration": 12,
    "start_time": "2023-12-13T08:32:44.555Z"
   },
   {
    "duration": 7,
    "start_time": "2023-12-13T08:32:44.568Z"
   },
   {
    "duration": 5,
    "start_time": "2023-12-13T08:32:44.576Z"
   },
   {
    "duration": 6,
    "start_time": "2023-12-13T08:32:44.582Z"
   },
   {
    "duration": 3,
    "start_time": "2023-12-13T08:40:06.603Z"
   },
   {
    "duration": 29,
    "start_time": "2023-12-13T08:40:06.607Z"
   },
   {
    "duration": 9,
    "start_time": "2023-12-13T08:40:06.638Z"
   },
   {
    "duration": 19,
    "start_time": "2023-12-13T08:40:06.648Z"
   },
   {
    "duration": 301,
    "start_time": "2023-12-13T08:40:06.669Z"
   },
   {
    "duration": 25,
    "start_time": "2023-12-13T08:40:06.972Z"
   },
   {
    "duration": 10,
    "start_time": "2023-12-13T08:40:06.999Z"
   },
   {
    "duration": 34,
    "start_time": "2023-12-13T08:40:07.011Z"
   },
   {
    "duration": 704,
    "start_time": "2023-12-13T08:40:07.047Z"
   },
   {
    "duration": 25,
    "start_time": "2023-12-13T08:40:07.753Z"
   },
   {
    "duration": 7,
    "start_time": "2023-12-13T08:40:07.782Z"
   },
   {
    "duration": 21,
    "start_time": "2023-12-13T08:40:07.791Z"
   },
   {
    "duration": 28,
    "start_time": "2023-12-13T08:40:07.814Z"
   },
   {
    "duration": 26,
    "start_time": "2023-12-13T08:40:07.843Z"
   },
   {
    "duration": 6,
    "start_time": "2023-12-13T08:40:07.870Z"
   },
   {
    "duration": 17,
    "start_time": "2023-12-13T08:40:07.877Z"
   },
   {
    "duration": 8,
    "start_time": "2023-12-13T08:40:07.895Z"
   },
   {
    "duration": 91,
    "start_time": "2023-12-13T08:40:07.905Z"
   },
   {
    "duration": 79,
    "start_time": "2023-12-13T08:40:07.998Z"
   },
   {
    "duration": 5,
    "start_time": "2023-12-13T08:40:08.079Z"
   },
   {
    "duration": 11,
    "start_time": "2023-12-13T08:40:08.085Z"
   },
   {
    "duration": 6,
    "start_time": "2023-12-13T08:40:08.097Z"
   },
   {
    "duration": 8,
    "start_time": "2023-12-13T08:40:08.105Z"
   },
   {
    "duration": 16,
    "start_time": "2023-12-13T08:40:08.115Z"
   },
   {
    "duration": 5,
    "start_time": "2023-12-13T08:40:08.133Z"
   },
   {
    "duration": 6,
    "start_time": "2023-12-13T08:40:08.140Z"
   },
   {
    "duration": 7,
    "start_time": "2023-12-13T08:40:08.148Z"
   },
   {
    "duration": 13,
    "start_time": "2023-12-13T08:40:08.157Z"
   },
   {
    "duration": 13,
    "start_time": "2023-12-13T08:40:08.175Z"
   },
   {
    "duration": 8,
    "start_time": "2023-12-13T08:40:08.190Z"
   },
   {
    "duration": 26,
    "start_time": "2023-12-13T08:40:08.199Z"
   },
   {
    "duration": 21,
    "start_time": "2023-12-13T08:40:08.227Z"
   },
   {
    "duration": 320,
    "start_time": "2023-12-13T08:40:08.250Z"
   },
   {
    "duration": 10,
    "start_time": "2023-12-13T08:40:08.572Z"
   },
   {
    "duration": 23,
    "start_time": "2023-12-13T08:40:08.584Z"
   },
   {
    "duration": 22,
    "start_time": "2023-12-13T08:40:08.609Z"
   },
   {
    "duration": 12,
    "start_time": "2023-12-13T08:40:08.633Z"
   },
   {
    "duration": 5,
    "start_time": "2023-12-13T08:40:08.647Z"
   },
   {
    "duration": 7,
    "start_time": "2023-12-13T08:40:08.654Z"
   },
   {
    "duration": 234,
    "start_time": "2023-12-13T08:40:08.663Z"
   },
   {
    "duration": 8,
    "start_time": "2023-12-13T08:40:08.899Z"
   },
   {
    "duration": 18,
    "start_time": "2023-12-13T08:40:08.909Z"
   },
   {
    "duration": 18,
    "start_time": "2023-12-13T08:40:08.928Z"
   },
   {
    "duration": 14,
    "start_time": "2023-12-13T08:40:08.947Z"
   },
   {
    "duration": 5,
    "start_time": "2023-12-13T08:40:08.963Z"
   },
   {
    "duration": 12,
    "start_time": "2023-12-13T08:40:08.969Z"
   },
   {
    "duration": 250,
    "start_time": "2023-12-13T08:40:08.982Z"
   },
   {
    "duration": 15,
    "start_time": "2023-12-13T08:40:09.233Z"
   },
   {
    "duration": 4,
    "start_time": "2023-12-13T08:40:09.249Z"
   },
   {
    "duration": 12,
    "start_time": "2023-12-13T08:40:09.254Z"
   },
   {
    "duration": 267,
    "start_time": "2023-12-13T08:40:09.267Z"
   },
   {
    "duration": 10,
    "start_time": "2023-12-13T08:40:09.535Z"
   },
   {
    "duration": 18,
    "start_time": "2023-12-13T08:40:09.546Z"
   },
   {
    "duration": 6,
    "start_time": "2023-12-13T08:40:09.566Z"
   },
   {
    "duration": 283,
    "start_time": "2023-12-13T08:40:09.573Z"
   },
   {
    "duration": 11,
    "start_time": "2023-12-13T08:40:09.858Z"
   },
   {
    "duration": 9,
    "start_time": "2023-12-13T08:40:09.870Z"
   },
   {
    "duration": 21,
    "start_time": "2023-12-13T08:40:09.880Z"
   },
   {
    "duration": 26,
    "start_time": "2023-12-13T08:40:09.903Z"
   },
   {
    "duration": 7,
    "start_time": "2023-12-13T08:40:09.943Z"
   },
   {
    "duration": 21,
    "start_time": "2023-12-13T08:40:09.952Z"
   },
   {
    "duration": 15,
    "start_time": "2023-12-13T08:40:09.975Z"
   },
   {
    "duration": 7,
    "start_time": "2023-12-13T08:40:09.992Z"
   },
   {
    "duration": 46,
    "start_time": "2023-12-13T08:40:10.001Z"
   },
   {
    "duration": 17,
    "start_time": "2023-12-13T08:40:10.049Z"
   },
   {
    "duration": 447,
    "start_time": "2023-12-13T08:40:10.067Z"
   },
   {
    "duration": 13,
    "start_time": "2023-12-13T08:40:10.516Z"
   },
   {
    "duration": 19,
    "start_time": "2023-12-13T08:40:10.530Z"
   },
   {
    "duration": 15,
    "start_time": "2023-12-13T08:40:10.550Z"
   },
   {
    "duration": 10,
    "start_time": "2023-12-13T08:40:10.567Z"
   },
   {
    "duration": 7,
    "start_time": "2023-12-13T08:40:10.579Z"
   },
   {
    "duration": 17,
    "start_time": "2023-12-13T08:40:10.588Z"
   },
   {
    "duration": 27,
    "start_time": "2023-12-13T08:40:10.606Z"
   },
   {
    "duration": 11,
    "start_time": "2023-12-13T08:40:10.643Z"
   },
   {
    "duration": 3,
    "start_time": "2023-12-13T08:40:10.656Z"
   },
   {
    "duration": 9,
    "start_time": "2023-12-13T08:40:10.661Z"
   },
   {
    "duration": 12,
    "start_time": "2023-12-13T08:40:10.672Z"
   },
   {
    "duration": 5,
    "start_time": "2023-12-13T08:40:10.686Z"
   },
   {
    "duration": 3,
    "start_time": "2023-12-13T08:40:10.692Z"
   },
   {
    "duration": 16,
    "start_time": "2023-12-13T08:40:10.697Z"
   },
   {
    "duration": 27,
    "start_time": "2023-12-13T08:40:10.715Z"
   },
   {
    "duration": 7,
    "start_time": "2023-12-13T08:40:10.744Z"
   },
   {
    "duration": 3,
    "start_time": "2023-12-13T08:40:10.758Z"
   },
   {
    "duration": 11,
    "start_time": "2023-12-13T08:40:10.762Z"
   },
   {
    "duration": 16,
    "start_time": "2023-12-13T08:40:10.775Z"
   },
   {
    "duration": 16,
    "start_time": "2023-12-13T08:40:10.792Z"
   },
   {
    "duration": 44,
    "start_time": "2023-12-13T08:40:10.810Z"
   },
   {
    "duration": 5,
    "start_time": "2023-12-13T08:40:10.856Z"
   },
   {
    "duration": 5,
    "start_time": "2023-12-13T08:40:10.862Z"
   },
   {
    "duration": 4,
    "start_time": "2023-12-13T08:40:10.869Z"
   },
   {
    "duration": 3,
    "start_time": "2023-12-13T08:40:10.875Z"
   },
   {
    "duration": 7,
    "start_time": "2023-12-13T08:40:10.880Z"
   },
   {
    "duration": 243,
    "start_time": "2023-12-13T08:40:10.889Z"
   },
   {
    "duration": 2,
    "start_time": "2023-12-13T08:40:11.142Z"
   },
   {
    "duration": 17,
    "start_time": "2023-12-13T08:40:11.146Z"
   },
   {
    "duration": 3,
    "start_time": "2023-12-13T08:40:11.165Z"
   },
   {
    "duration": 8,
    "start_time": "2023-12-13T08:40:11.170Z"
   },
   {
    "duration": 5,
    "start_time": "2023-12-13T08:40:11.180Z"
   },
   {
    "duration": 4,
    "start_time": "2023-12-13T08:40:11.187Z"
   },
   {
    "duration": 9,
    "start_time": "2023-12-13T08:40:11.192Z"
   },
   {
    "duration": 9,
    "start_time": "2023-12-13T08:40:11.202Z"
   },
   {
    "duration": 6,
    "start_time": "2023-12-13T08:40:11.213Z"
   },
   {
    "duration": 3,
    "start_time": "2023-12-13T08:41:50.231Z"
   },
   {
    "duration": 37,
    "start_time": "2023-12-13T08:41:50.236Z"
   },
   {
    "duration": 13,
    "start_time": "2023-12-13T08:41:50.276Z"
   },
   {
    "duration": 16,
    "start_time": "2023-12-13T08:41:50.291Z"
   },
   {
    "duration": 337,
    "start_time": "2023-12-13T08:41:50.309Z"
   },
   {
    "duration": 26,
    "start_time": "2023-12-13T08:41:50.648Z"
   },
   {
    "duration": 9,
    "start_time": "2023-12-13T08:41:50.676Z"
   },
   {
    "duration": 39,
    "start_time": "2023-12-13T08:41:50.687Z"
   },
   {
    "duration": 706,
    "start_time": "2023-12-13T08:41:50.728Z"
   },
   {
    "duration": 25,
    "start_time": "2023-12-13T08:41:51.436Z"
   },
   {
    "duration": 11,
    "start_time": "2023-12-13T08:41:51.464Z"
   },
   {
    "duration": 15,
    "start_time": "2023-12-13T08:41:51.476Z"
   },
   {
    "duration": 26,
    "start_time": "2023-12-13T08:41:51.492Z"
   },
   {
    "duration": 21,
    "start_time": "2023-12-13T08:41:51.520Z"
   },
   {
    "duration": 6,
    "start_time": "2023-12-13T08:41:51.543Z"
   },
   {
    "duration": 24,
    "start_time": "2023-12-13T08:41:51.551Z"
   },
   {
    "duration": 16,
    "start_time": "2023-12-13T08:41:51.577Z"
   },
   {
    "duration": 28,
    "start_time": "2023-12-13T08:41:51.595Z"
   },
   {
    "duration": 15,
    "start_time": "2023-12-13T08:41:51.625Z"
   },
   {
    "duration": 14,
    "start_time": "2023-12-13T08:41:51.642Z"
   },
   {
    "duration": 25,
    "start_time": "2023-12-13T08:41:51.658Z"
   },
   {
    "duration": 14,
    "start_time": "2023-12-13T08:41:51.686Z"
   },
   {
    "duration": 31,
    "start_time": "2023-12-13T08:41:51.702Z"
   },
   {
    "duration": 32,
    "start_time": "2023-12-13T08:41:51.735Z"
   },
   {
    "duration": 12,
    "start_time": "2023-12-13T08:41:51.769Z"
   },
   {
    "duration": 25,
    "start_time": "2023-12-13T08:41:51.783Z"
   },
   {
    "duration": 24,
    "start_time": "2023-12-13T08:41:51.810Z"
   },
   {
    "duration": 22,
    "start_time": "2023-12-13T08:41:51.836Z"
   },
   {
    "duration": 23,
    "start_time": "2023-12-13T08:41:51.863Z"
   },
   {
    "duration": 24,
    "start_time": "2023-12-13T08:41:51.887Z"
   },
   {
    "duration": 20,
    "start_time": "2023-12-13T08:41:51.913Z"
   },
   {
    "duration": 20,
    "start_time": "2023-12-13T08:41:51.935Z"
   },
   {
    "duration": 344,
    "start_time": "2023-12-13T08:41:51.957Z"
   },
   {
    "duration": 7,
    "start_time": "2023-12-13T08:41:52.303Z"
   },
   {
    "duration": 29,
    "start_time": "2023-12-13T08:41:52.311Z"
   },
   {
    "duration": 40,
    "start_time": "2023-12-13T08:41:52.341Z"
   },
   {
    "duration": 21,
    "start_time": "2023-12-13T08:41:52.383Z"
   },
   {
    "duration": 20,
    "start_time": "2023-12-13T08:41:52.405Z"
   },
   {
    "duration": 11,
    "start_time": "2023-12-13T08:41:52.427Z"
   },
   {
    "duration": 240,
    "start_time": "2023-12-13T08:41:52.440Z"
   },
   {
    "duration": 8,
    "start_time": "2023-12-13T08:41:52.681Z"
   },
   {
    "duration": 31,
    "start_time": "2023-12-13T08:41:52.691Z"
   },
   {
    "duration": 12,
    "start_time": "2023-12-13T08:41:52.724Z"
   },
   {
    "duration": 41,
    "start_time": "2023-12-13T08:41:52.738Z"
   },
   {
    "duration": 34,
    "start_time": "2023-12-13T08:41:52.781Z"
   },
   {
    "duration": 30,
    "start_time": "2023-12-13T08:41:52.818Z"
   },
   {
    "duration": 262,
    "start_time": "2023-12-13T08:41:52.851Z"
   },
   {
    "duration": 10,
    "start_time": "2023-12-13T08:41:53.114Z"
   },
   {
    "duration": 21,
    "start_time": "2023-12-13T08:41:53.125Z"
   },
   {
    "duration": 48,
    "start_time": "2023-12-13T08:41:53.148Z"
   },
   {
    "duration": 289,
    "start_time": "2023-12-13T08:41:53.197Z"
   },
   {
    "duration": 9,
    "start_time": "2023-12-13T08:41:53.487Z"
   },
   {
    "duration": 23,
    "start_time": "2023-12-13T08:41:53.498Z"
   },
   {
    "duration": 18,
    "start_time": "2023-12-13T08:41:53.523Z"
   },
   {
    "duration": 312,
    "start_time": "2023-12-13T08:41:53.543Z"
   },
   {
    "duration": 11,
    "start_time": "2023-12-13T08:41:53.857Z"
   },
   {
    "duration": 10,
    "start_time": "2023-12-13T08:41:53.869Z"
   },
   {
    "duration": 31,
    "start_time": "2023-12-13T08:41:53.880Z"
   },
   {
    "duration": 30,
    "start_time": "2023-12-13T08:41:53.913Z"
   },
   {
    "duration": 31,
    "start_time": "2023-12-13T08:41:53.946Z"
   },
   {
    "duration": 38,
    "start_time": "2023-12-13T08:41:53.979Z"
   },
   {
    "duration": 16,
    "start_time": "2023-12-13T08:41:54.019Z"
   },
   {
    "duration": 6,
    "start_time": "2023-12-13T08:41:54.037Z"
   },
   {
    "duration": 17,
    "start_time": "2023-12-13T08:41:54.045Z"
   },
   {
    "duration": 16,
    "start_time": "2023-12-13T08:41:54.064Z"
   },
   {
    "duration": 466,
    "start_time": "2023-12-13T08:41:54.082Z"
   },
   {
    "duration": 13,
    "start_time": "2023-12-13T08:41:54.550Z"
   },
   {
    "duration": 10,
    "start_time": "2023-12-13T08:41:54.564Z"
   },
   {
    "duration": 22,
    "start_time": "2023-12-13T08:41:54.576Z"
   },
   {
    "duration": 10,
    "start_time": "2023-12-13T08:41:54.600Z"
   },
   {
    "duration": 29,
    "start_time": "2023-12-13T08:41:54.612Z"
   },
   {
    "duration": 10,
    "start_time": "2023-12-13T08:41:54.643Z"
   },
   {
    "duration": 15,
    "start_time": "2023-12-13T08:41:54.654Z"
   },
   {
    "duration": 12,
    "start_time": "2023-12-13T08:41:54.671Z"
   },
   {
    "duration": 3,
    "start_time": "2023-12-13T08:41:54.685Z"
   },
   {
    "duration": 19,
    "start_time": "2023-12-13T08:41:54.689Z"
   },
   {
    "duration": 17,
    "start_time": "2023-12-13T08:41:54.709Z"
   },
   {
    "duration": 17,
    "start_time": "2023-12-13T08:41:54.728Z"
   },
   {
    "duration": 6,
    "start_time": "2023-12-13T08:41:54.746Z"
   },
   {
    "duration": 42,
    "start_time": "2023-12-13T08:41:54.754Z"
   },
   {
    "duration": 5,
    "start_time": "2023-12-13T08:41:54.798Z"
   },
   {
    "duration": 10,
    "start_time": "2023-12-13T08:41:54.804Z"
   },
   {
    "duration": 4,
    "start_time": "2023-12-13T08:41:54.820Z"
   },
   {
    "duration": 6,
    "start_time": "2023-12-13T08:41:54.825Z"
   },
   {
    "duration": 8,
    "start_time": "2023-12-13T08:41:54.832Z"
   },
   {
    "duration": 23,
    "start_time": "2023-12-13T08:41:54.841Z"
   },
   {
    "duration": 20,
    "start_time": "2023-12-13T08:41:54.865Z"
   },
   {
    "duration": 4,
    "start_time": "2023-12-13T08:41:54.887Z"
   },
   {
    "duration": 6,
    "start_time": "2023-12-13T08:41:54.892Z"
   },
   {
    "duration": 11,
    "start_time": "2023-12-13T08:41:54.900Z"
   },
   {
    "duration": 6,
    "start_time": "2023-12-13T08:41:54.912Z"
   },
   {
    "duration": 17,
    "start_time": "2023-12-13T08:41:54.919Z"
   },
   {
    "duration": 178,
    "start_time": "2023-12-13T08:41:54.938Z"
   },
   {
    "duration": 4,
    "start_time": "2023-12-13T08:41:55.118Z"
   },
   {
    "duration": 18,
    "start_time": "2023-12-13T08:41:55.124Z"
   },
   {
    "duration": 5,
    "start_time": "2023-12-13T08:41:55.144Z"
   },
   {
    "duration": 11,
    "start_time": "2023-12-13T08:41:55.152Z"
   },
   {
    "duration": 4,
    "start_time": "2023-12-13T08:41:55.165Z"
   },
   {
    "duration": 12,
    "start_time": "2023-12-13T08:41:55.171Z"
   },
   {
    "duration": 18,
    "start_time": "2023-12-13T08:41:55.185Z"
   },
   {
    "duration": 18,
    "start_time": "2023-12-13T08:41:55.206Z"
   },
   {
    "duration": 7,
    "start_time": "2023-12-13T08:41:55.225Z"
   },
   {
    "duration": 2,
    "start_time": "2023-12-13T08:42:42.342Z"
   },
   {
    "duration": 35,
    "start_time": "2023-12-13T08:42:42.347Z"
   },
   {
    "duration": 9,
    "start_time": "2023-12-13T08:42:42.384Z"
   },
   {
    "duration": 15,
    "start_time": "2023-12-13T08:42:42.395Z"
   },
   {
    "duration": 304,
    "start_time": "2023-12-13T08:42:42.412Z"
   },
   {
    "duration": 29,
    "start_time": "2023-12-13T08:42:42.718Z"
   },
   {
    "duration": 8,
    "start_time": "2023-12-13T08:42:42.749Z"
   },
   {
    "duration": 11,
    "start_time": "2023-12-13T08:42:42.758Z"
   },
   {
    "duration": 701,
    "start_time": "2023-12-13T08:42:42.771Z"
   },
   {
    "duration": 25,
    "start_time": "2023-12-13T08:42:43.474Z"
   },
   {
    "duration": 8,
    "start_time": "2023-12-13T08:42:43.503Z"
   },
   {
    "duration": 12,
    "start_time": "2023-12-13T08:42:43.513Z"
   },
   {
    "duration": 15,
    "start_time": "2023-12-13T08:42:43.527Z"
   },
   {
    "duration": 18,
    "start_time": "2023-12-13T08:42:43.543Z"
   },
   {
    "duration": 6,
    "start_time": "2023-12-13T08:42:43.563Z"
   },
   {
    "duration": 11,
    "start_time": "2023-12-13T08:42:43.571Z"
   },
   {
    "duration": 12,
    "start_time": "2023-12-13T08:42:43.584Z"
   },
   {
    "duration": 15,
    "start_time": "2023-12-13T08:42:43.597Z"
   },
   {
    "duration": 6,
    "start_time": "2023-12-13T08:42:43.614Z"
   },
   {
    "duration": 24,
    "start_time": "2023-12-13T08:42:43.621Z"
   },
   {
    "duration": 13,
    "start_time": "2023-12-13T08:42:43.646Z"
   },
   {
    "duration": 6,
    "start_time": "2023-12-13T08:42:43.660Z"
   },
   {
    "duration": 9,
    "start_time": "2023-12-13T08:42:43.667Z"
   },
   {
    "duration": 7,
    "start_time": "2023-12-13T08:42:43.677Z"
   },
   {
    "duration": 8,
    "start_time": "2023-12-13T08:42:43.686Z"
   },
   {
    "duration": 18,
    "start_time": "2023-12-13T08:42:43.696Z"
   },
   {
    "duration": 10,
    "start_time": "2023-12-13T08:42:43.716Z"
   },
   {
    "duration": 13,
    "start_time": "2023-12-13T08:42:43.743Z"
   },
   {
    "duration": 13,
    "start_time": "2023-12-13T08:42:43.762Z"
   },
   {
    "duration": 14,
    "start_time": "2023-12-13T08:42:43.777Z"
   },
   {
    "duration": 6,
    "start_time": "2023-12-13T08:42:43.792Z"
   },
   {
    "duration": 3,
    "start_time": "2023-12-13T08:42:43.800Z"
   },
   {
    "duration": 330,
    "start_time": "2023-12-13T08:42:43.805Z"
   },
   {
    "duration": 7,
    "start_time": "2023-12-13T08:42:44.142Z"
   },
   {
    "duration": 20,
    "start_time": "2023-12-13T08:42:44.151Z"
   },
   {
    "duration": 5,
    "start_time": "2023-12-13T08:42:44.173Z"
   },
   {
    "duration": 6,
    "start_time": "2023-12-13T08:42:44.179Z"
   },
   {
    "duration": 22,
    "start_time": "2023-12-13T08:42:44.186Z"
   },
   {
    "duration": 17,
    "start_time": "2023-12-13T08:42:44.210Z"
   },
   {
    "duration": 226,
    "start_time": "2023-12-13T08:42:44.228Z"
   },
   {
    "duration": 8,
    "start_time": "2023-12-13T08:42:44.455Z"
   },
   {
    "duration": 17,
    "start_time": "2023-12-13T08:42:44.465Z"
   },
   {
    "duration": 6,
    "start_time": "2023-12-13T08:42:44.483Z"
   },
   {
    "duration": 11,
    "start_time": "2023-12-13T08:42:44.490Z"
   },
   {
    "duration": 6,
    "start_time": "2023-12-13T08:42:44.502Z"
   },
   {
    "duration": 11,
    "start_time": "2023-12-13T08:42:44.510Z"
   },
   {
    "duration": 244,
    "start_time": "2023-12-13T08:42:44.523Z"
   },
   {
    "duration": 9,
    "start_time": "2023-12-13T08:42:44.769Z"
   },
   {
    "duration": 5,
    "start_time": "2023-12-13T08:42:44.780Z"
   },
   {
    "duration": 18,
    "start_time": "2023-12-13T08:42:44.787Z"
   },
   {
    "duration": 253,
    "start_time": "2023-12-13T08:42:44.807Z"
   },
   {
    "duration": 9,
    "start_time": "2023-12-13T08:42:45.061Z"
   },
   {
    "duration": 27,
    "start_time": "2023-12-13T08:42:45.071Z"
   },
   {
    "duration": 5,
    "start_time": "2023-12-13T08:42:45.100Z"
   },
   {
    "duration": 243,
    "start_time": "2023-12-13T08:42:45.107Z"
   },
   {
    "duration": 10,
    "start_time": "2023-12-13T08:42:45.352Z"
   },
   {
    "duration": 10,
    "start_time": "2023-12-13T08:42:45.363Z"
   },
   {
    "duration": 20,
    "start_time": "2023-12-13T08:42:45.375Z"
   },
   {
    "duration": 25,
    "start_time": "2023-12-13T08:42:45.397Z"
   },
   {
    "duration": 24,
    "start_time": "2023-12-13T08:42:45.423Z"
   },
   {
    "duration": 36,
    "start_time": "2023-12-13T08:42:45.449Z"
   },
   {
    "duration": 16,
    "start_time": "2023-12-13T08:42:45.487Z"
   },
   {
    "duration": 8,
    "start_time": "2023-12-13T08:42:45.504Z"
   },
   {
    "duration": 40,
    "start_time": "2023-12-13T08:42:45.513Z"
   },
   {
    "duration": 20,
    "start_time": "2023-12-13T08:42:45.555Z"
   },
   {
    "duration": 439,
    "start_time": "2023-12-13T08:42:45.577Z"
   },
   {
    "duration": 14,
    "start_time": "2023-12-13T08:42:46.017Z"
   },
   {
    "duration": 22,
    "start_time": "2023-12-13T08:42:46.042Z"
   },
   {
    "duration": 37,
    "start_time": "2023-12-13T08:42:46.065Z"
   },
   {
    "duration": 11,
    "start_time": "2023-12-13T08:42:46.103Z"
   },
   {
    "duration": 35,
    "start_time": "2023-12-13T08:42:46.116Z"
   },
   {
    "duration": 39,
    "start_time": "2023-12-13T08:42:46.152Z"
   },
   {
    "duration": 17,
    "start_time": "2023-12-13T08:42:46.193Z"
   },
   {
    "duration": 24,
    "start_time": "2023-12-13T08:42:46.212Z"
   },
   {
    "duration": 4,
    "start_time": "2023-12-13T08:42:46.238Z"
   },
   {
    "duration": 26,
    "start_time": "2023-12-13T08:42:46.243Z"
   },
   {
    "duration": 19,
    "start_time": "2023-12-13T08:42:46.270Z"
   },
   {
    "duration": 16,
    "start_time": "2023-12-13T08:42:46.290Z"
   },
   {
    "duration": 16,
    "start_time": "2023-12-13T08:42:46.307Z"
   },
   {
    "duration": 33,
    "start_time": "2023-12-13T08:42:46.325Z"
   },
   {
    "duration": 26,
    "start_time": "2023-12-13T08:42:46.360Z"
   },
   {
    "duration": 19,
    "start_time": "2023-12-13T08:42:46.387Z"
   },
   {
    "duration": 17,
    "start_time": "2023-12-13T08:42:46.412Z"
   },
   {
    "duration": 31,
    "start_time": "2023-12-13T08:42:46.431Z"
   },
   {
    "duration": 21,
    "start_time": "2023-12-13T08:42:46.463Z"
   },
   {
    "duration": 28,
    "start_time": "2023-12-13T08:42:46.485Z"
   },
   {
    "duration": 37,
    "start_time": "2023-12-13T08:42:46.515Z"
   },
   {
    "duration": 15,
    "start_time": "2023-12-13T08:42:46.554Z"
   },
   {
    "duration": 19,
    "start_time": "2023-12-13T08:42:46.571Z"
   },
   {
    "duration": 30,
    "start_time": "2023-12-13T08:42:46.592Z"
   },
   {
    "duration": 17,
    "start_time": "2023-12-13T08:42:46.625Z"
   },
   {
    "duration": 27,
    "start_time": "2023-12-13T08:42:46.644Z"
   },
   {
    "duration": 183,
    "start_time": "2023-12-13T08:42:46.673Z"
   },
   {
    "duration": 3,
    "start_time": "2023-12-13T08:42:46.857Z"
   },
   {
    "duration": 28,
    "start_time": "2023-12-13T08:42:46.862Z"
   },
   {
    "duration": 12,
    "start_time": "2023-12-13T08:42:46.891Z"
   },
   {
    "duration": 28,
    "start_time": "2023-12-13T08:42:46.904Z"
   },
   {
    "duration": 34,
    "start_time": "2023-12-13T08:42:46.934Z"
   },
   {
    "duration": 18,
    "start_time": "2023-12-13T08:42:46.970Z"
   },
   {
    "duration": 26,
    "start_time": "2023-12-13T08:42:46.990Z"
   },
   {
    "duration": 29,
    "start_time": "2023-12-13T08:42:47.017Z"
   },
   {
    "duration": 5,
    "start_time": "2023-12-13T08:42:47.047Z"
   },
   {
    "duration": 175,
    "start_time": "2023-12-13T08:43:32.238Z"
   },
   {
    "duration": 3,
    "start_time": "2023-12-13T08:44:41.475Z"
   },
   {
    "duration": 42,
    "start_time": "2023-12-13T08:44:41.482Z"
   },
   {
    "duration": 9,
    "start_time": "2023-12-13T08:44:41.526Z"
   },
   {
    "duration": 11,
    "start_time": "2023-12-13T08:44:41.537Z"
   },
   {
    "duration": 320,
    "start_time": "2023-12-13T08:44:41.551Z"
   },
   {
    "duration": 26,
    "start_time": "2023-12-13T08:44:41.873Z"
   },
   {
    "duration": 10,
    "start_time": "2023-12-13T08:44:41.900Z"
   },
   {
    "duration": 15,
    "start_time": "2023-12-13T08:44:41.911Z"
   },
   {
    "duration": 690,
    "start_time": "2023-12-13T08:44:41.927Z"
   },
   {
    "duration": 25,
    "start_time": "2023-12-13T08:44:42.619Z"
   },
   {
    "duration": 8,
    "start_time": "2023-12-13T08:44:42.647Z"
   },
   {
    "duration": 10,
    "start_time": "2023-12-13T08:44:42.657Z"
   },
   {
    "duration": 12,
    "start_time": "2023-12-13T08:44:42.670Z"
   },
   {
    "duration": 11,
    "start_time": "2023-12-13T08:44:42.684Z"
   },
   {
    "duration": 5,
    "start_time": "2023-12-13T08:44:42.697Z"
   },
   {
    "duration": 47,
    "start_time": "2023-12-13T08:44:42.704Z"
   },
   {
    "duration": 7,
    "start_time": "2023-12-13T08:44:42.753Z"
   },
   {
    "duration": 8,
    "start_time": "2023-12-13T08:44:42.761Z"
   },
   {
    "duration": 7,
    "start_time": "2023-12-13T08:44:42.770Z"
   },
   {
    "duration": 13,
    "start_time": "2023-12-13T08:44:42.778Z"
   },
   {
    "duration": 10,
    "start_time": "2023-12-13T08:44:42.793Z"
   },
   {
    "duration": 39,
    "start_time": "2023-12-13T08:44:42.805Z"
   },
   {
    "duration": 7,
    "start_time": "2023-12-13T08:44:42.846Z"
   },
   {
    "duration": 7,
    "start_time": "2023-12-13T08:44:42.855Z"
   },
   {
    "duration": 5,
    "start_time": "2023-12-13T08:44:42.864Z"
   },
   {
    "duration": 7,
    "start_time": "2023-12-13T08:44:42.871Z"
   },
   {
    "duration": 13,
    "start_time": "2023-12-13T08:44:42.880Z"
   },
   {
    "duration": 16,
    "start_time": "2023-12-13T08:44:42.894Z"
   },
   {
    "duration": 10,
    "start_time": "2023-12-13T08:44:42.942Z"
   },
   {
    "duration": 7,
    "start_time": "2023-12-13T08:44:42.954Z"
   },
   {
    "duration": 9,
    "start_time": "2023-12-13T08:44:42.963Z"
   },
   {
    "duration": 3,
    "start_time": "2023-12-13T08:44:42.974Z"
   },
   {
    "duration": 338,
    "start_time": "2023-12-13T08:44:42.978Z"
   },
   {
    "duration": 6,
    "start_time": "2023-12-13T08:44:43.318Z"
   },
   {
    "duration": 19,
    "start_time": "2023-12-13T08:44:43.326Z"
   },
   {
    "duration": 6,
    "start_time": "2023-12-13T08:44:43.346Z"
   },
   {
    "duration": 6,
    "start_time": "2023-12-13T08:44:43.353Z"
   },
   {
    "duration": 4,
    "start_time": "2023-12-13T08:44:43.360Z"
   },
   {
    "duration": 6,
    "start_time": "2023-12-13T08:44:43.365Z"
   },
   {
    "duration": 251,
    "start_time": "2023-12-13T08:44:43.372Z"
   },
   {
    "duration": 17,
    "start_time": "2023-12-13T08:44:43.625Z"
   },
   {
    "duration": 14,
    "start_time": "2023-12-13T08:44:43.644Z"
   },
   {
    "duration": 24,
    "start_time": "2023-12-13T08:44:43.659Z"
   },
   {
    "duration": 20,
    "start_time": "2023-12-13T08:44:43.685Z"
   },
   {
    "duration": 30,
    "start_time": "2023-12-13T08:44:43.707Z"
   },
   {
    "duration": 34,
    "start_time": "2023-12-13T08:44:43.739Z"
   },
   {
    "duration": 273,
    "start_time": "2023-12-13T08:44:43.775Z"
   },
   {
    "duration": 8,
    "start_time": "2023-12-13T08:44:44.050Z"
   },
   {
    "duration": 8,
    "start_time": "2023-12-13T08:44:44.059Z"
   },
   {
    "duration": 14,
    "start_time": "2023-12-13T08:44:44.068Z"
   },
   {
    "duration": 240,
    "start_time": "2023-12-13T08:44:44.083Z"
   },
   {
    "duration": 22,
    "start_time": "2023-12-13T08:44:44.325Z"
   },
   {
    "duration": 17,
    "start_time": "2023-12-13T08:44:44.348Z"
   },
   {
    "duration": 7,
    "start_time": "2023-12-13T08:44:44.366Z"
   },
   {
    "duration": 279,
    "start_time": "2023-12-13T08:44:44.374Z"
   },
   {
    "duration": 11,
    "start_time": "2023-12-13T08:44:44.654Z"
   },
   {
    "duration": 28,
    "start_time": "2023-12-13T08:44:44.667Z"
   },
   {
    "duration": 41,
    "start_time": "2023-12-13T08:44:44.697Z"
   },
   {
    "duration": 34,
    "start_time": "2023-12-13T08:44:44.739Z"
   },
   {
    "duration": 11,
    "start_time": "2023-12-13T08:44:44.774Z"
   },
   {
    "duration": 46,
    "start_time": "2023-12-13T08:44:44.786Z"
   },
   {
    "duration": 42,
    "start_time": "2023-12-13T08:44:44.833Z"
   },
   {
    "duration": 7,
    "start_time": "2023-12-13T08:44:44.876Z"
   },
   {
    "duration": 41,
    "start_time": "2023-12-13T08:44:44.884Z"
   },
   {
    "duration": 25,
    "start_time": "2023-12-13T08:44:44.927Z"
   },
   {
    "duration": 480,
    "start_time": "2023-12-13T08:44:44.954Z"
   },
   {
    "duration": 18,
    "start_time": "2023-12-13T08:44:45.435Z"
   },
   {
    "duration": 22,
    "start_time": "2023-12-13T08:44:45.454Z"
   },
   {
    "duration": 33,
    "start_time": "2023-12-13T08:44:45.478Z"
   },
   {
    "duration": 25,
    "start_time": "2023-12-13T08:44:45.513Z"
   },
   {
    "duration": 32,
    "start_time": "2023-12-13T08:44:45.539Z"
   },
   {
    "duration": 38,
    "start_time": "2023-12-13T08:44:45.573Z"
   },
   {
    "duration": 16,
    "start_time": "2023-12-13T08:44:45.613Z"
   },
   {
    "duration": 58,
    "start_time": "2023-12-13T08:44:45.631Z"
   },
   {
    "duration": 22,
    "start_time": "2023-12-13T08:44:45.691Z"
   },
   {
    "duration": 41,
    "start_time": "2023-12-13T08:44:45.715Z"
   },
   {
    "duration": 42,
    "start_time": "2023-12-13T08:44:45.758Z"
   },
   {
    "duration": 24,
    "start_time": "2023-12-13T08:44:45.801Z"
   },
   {
    "duration": 21,
    "start_time": "2023-12-13T08:44:45.826Z"
   },
   {
    "duration": 16,
    "start_time": "2023-12-13T08:44:45.849Z"
   },
   {
    "duration": 22,
    "start_time": "2023-12-13T08:44:45.866Z"
   },
   {
    "duration": 31,
    "start_time": "2023-12-13T08:44:45.890Z"
   },
   {
    "duration": 9,
    "start_time": "2023-12-13T08:44:45.927Z"
   },
   {
    "duration": 8,
    "start_time": "2023-12-13T08:44:45.937Z"
   },
   {
    "duration": 23,
    "start_time": "2023-12-13T08:44:45.947Z"
   },
   {
    "duration": 17,
    "start_time": "2023-12-13T08:44:45.971Z"
   },
   {
    "duration": 18,
    "start_time": "2023-12-13T08:44:45.990Z"
   },
   {
    "duration": 4,
    "start_time": "2023-12-13T08:44:46.010Z"
   },
   {
    "duration": 11,
    "start_time": "2023-12-13T08:44:46.016Z"
   },
   {
    "duration": 16,
    "start_time": "2023-12-13T08:44:46.028Z"
   },
   {
    "duration": 10,
    "start_time": "2023-12-13T08:44:46.046Z"
   },
   {
    "duration": 9,
    "start_time": "2023-12-13T08:44:46.057Z"
   },
   {
    "duration": 185,
    "start_time": "2023-12-13T08:44:46.067Z"
   },
   {
    "duration": 3,
    "start_time": "2023-12-13T08:44:46.254Z"
   },
   {
    "duration": 7,
    "start_time": "2023-12-13T08:44:46.258Z"
   },
   {
    "duration": 14,
    "start_time": "2023-12-13T08:44:46.267Z"
   },
   {
    "duration": 6,
    "start_time": "2023-12-13T08:44:46.283Z"
   },
   {
    "duration": 6,
    "start_time": "2023-12-13T08:44:46.291Z"
   },
   {
    "duration": 4,
    "start_time": "2023-12-13T08:44:46.299Z"
   },
   {
    "duration": 7,
    "start_time": "2023-12-13T08:44:46.304Z"
   },
   {
    "duration": 33,
    "start_time": "2023-12-13T08:44:46.313Z"
   },
   {
    "duration": 6,
    "start_time": "2023-12-13T08:44:46.347Z"
   },
   {
    "duration": 454,
    "start_time": "2023-12-14T04:07:52.025Z"
   },
   {
    "duration": 73,
    "start_time": "2023-12-14T04:07:52.481Z"
   },
   {
    "duration": 14,
    "start_time": "2023-12-14T04:07:52.556Z"
   },
   {
    "duration": 11,
    "start_time": "2023-12-14T04:07:52.572Z"
   },
   {
    "duration": 727,
    "start_time": "2023-12-14T04:07:52.584Z"
   },
   {
    "duration": 70,
    "start_time": "2023-12-14T04:07:53.313Z"
   },
   {
    "duration": 10,
    "start_time": "2023-12-14T04:07:53.384Z"
   },
   {
    "duration": 15,
    "start_time": "2023-12-14T04:07:53.396Z"
   },
   {
    "duration": 521,
    "start_time": "2023-12-14T04:07:53.412Z"
   },
   {
    "duration": 61,
    "start_time": "2023-12-14T04:07:53.936Z"
   },
   {
    "duration": 7,
    "start_time": "2023-12-14T04:07:53.999Z"
   },
   {
    "duration": 8,
    "start_time": "2023-12-14T04:07:54.007Z"
   },
   {
    "duration": 8,
    "start_time": "2023-12-14T04:07:54.016Z"
   },
   {
    "duration": 70,
    "start_time": "2023-12-14T04:07:54.026Z"
   },
   {
    "duration": 5,
    "start_time": "2023-12-14T04:07:54.097Z"
   },
   {
    "duration": 9,
    "start_time": "2023-12-14T04:07:54.103Z"
   },
   {
    "duration": 6,
    "start_time": "2023-12-14T04:07:54.114Z"
   },
   {
    "duration": 30,
    "start_time": "2023-12-14T04:07:54.122Z"
   },
   {
    "duration": 8,
    "start_time": "2023-12-14T04:07:54.155Z"
   },
   {
    "duration": 5,
    "start_time": "2023-12-14T04:07:54.164Z"
   },
   {
    "duration": 12,
    "start_time": "2023-12-14T04:07:54.170Z"
   },
   {
    "duration": 9,
    "start_time": "2023-12-14T04:07:54.183Z"
   },
   {
    "duration": 6,
    "start_time": "2023-12-14T04:07:54.193Z"
   },
   {
    "duration": 50,
    "start_time": "2023-12-14T04:07:54.201Z"
   },
   {
    "duration": 5,
    "start_time": "2023-12-14T04:07:54.254Z"
   },
   {
    "duration": 7,
    "start_time": "2023-12-14T04:07:54.260Z"
   },
   {
    "duration": 8,
    "start_time": "2023-12-14T04:07:54.268Z"
   },
   {
    "duration": 13,
    "start_time": "2023-12-14T04:07:54.280Z"
   },
   {
    "duration": 63,
    "start_time": "2023-12-14T04:07:54.294Z"
   },
   {
    "duration": 12,
    "start_time": "2023-12-14T04:07:54.359Z"
   },
   {
    "duration": 14,
    "start_time": "2023-12-14T04:07:54.373Z"
   },
   {
    "duration": 10,
    "start_time": "2023-12-14T04:07:54.388Z"
   },
   {
    "duration": 375,
    "start_time": "2023-12-14T04:07:54.399Z"
   },
   {
    "duration": 7,
    "start_time": "2023-12-14T04:07:54.775Z"
   },
   {
    "duration": 20,
    "start_time": "2023-12-14T04:07:54.784Z"
   },
   {
    "duration": 28,
    "start_time": "2023-12-14T04:07:54.807Z"
   },
   {
    "duration": 20,
    "start_time": "2023-12-14T04:07:54.836Z"
   },
   {
    "duration": 30,
    "start_time": "2023-12-14T04:07:54.858Z"
   },
   {
    "duration": 6,
    "start_time": "2023-12-14T04:07:54.889Z"
   },
   {
    "duration": 208,
    "start_time": "2023-12-14T04:07:54.896Z"
   },
   {
    "duration": 7,
    "start_time": "2023-12-14T04:07:55.106Z"
   },
   {
    "duration": 29,
    "start_time": "2023-12-14T04:07:55.115Z"
   },
   {
    "duration": 6,
    "start_time": "2023-12-14T04:07:55.146Z"
   },
   {
    "duration": 12,
    "start_time": "2023-12-14T04:07:55.154Z"
   },
   {
    "duration": 5,
    "start_time": "2023-12-14T04:07:55.167Z"
   },
   {
    "duration": 13,
    "start_time": "2023-12-14T04:07:55.173Z"
   },
   {
    "duration": 233,
    "start_time": "2023-12-14T04:07:55.187Z"
   },
   {
    "duration": 19,
    "start_time": "2023-12-14T04:07:55.422Z"
   },
   {
    "duration": 5,
    "start_time": "2023-12-14T04:07:55.443Z"
   },
   {
    "duration": 14,
    "start_time": "2023-12-14T04:07:55.449Z"
   },
   {
    "duration": 247,
    "start_time": "2023-12-14T04:07:55.465Z"
   },
   {
    "duration": 8,
    "start_time": "2023-12-14T04:07:55.714Z"
   },
   {
    "duration": 44,
    "start_time": "2023-12-14T04:07:55.723Z"
   },
   {
    "duration": 7,
    "start_time": "2023-12-14T04:07:55.769Z"
   },
   {
    "duration": 246,
    "start_time": "2023-12-14T04:07:55.777Z"
   },
   {
    "duration": 24,
    "start_time": "2023-12-14T04:07:56.025Z"
   },
   {
    "duration": 13,
    "start_time": "2023-12-14T04:07:56.051Z"
   },
   {
    "duration": 33,
    "start_time": "2023-12-14T04:07:56.065Z"
   },
   {
    "duration": 23,
    "start_time": "2023-12-14T04:07:56.099Z"
   },
   {
    "duration": 18,
    "start_time": "2023-12-14T04:07:56.123Z"
   },
   {
    "duration": 37,
    "start_time": "2023-12-14T04:07:56.144Z"
   },
   {
    "duration": 25,
    "start_time": "2023-12-14T04:07:56.183Z"
   },
   {
    "duration": 31,
    "start_time": "2023-12-14T04:07:56.209Z"
   },
   {
    "duration": 27,
    "start_time": "2023-12-14T04:07:56.242Z"
   },
   {
    "duration": 32,
    "start_time": "2023-12-14T04:07:56.270Z"
   },
   {
    "duration": 442,
    "start_time": "2023-12-14T04:07:56.303Z"
   },
   {
    "duration": 17,
    "start_time": "2023-12-14T04:07:56.747Z"
   },
   {
    "duration": 10,
    "start_time": "2023-12-14T04:07:56.765Z"
   },
   {
    "duration": 14,
    "start_time": "2023-12-14T04:07:56.777Z"
   },
   {
    "duration": 20,
    "start_time": "2023-12-14T04:07:56.793Z"
   },
   {
    "duration": 28,
    "start_time": "2023-12-14T04:07:56.814Z"
   },
   {
    "duration": 14,
    "start_time": "2023-12-14T04:07:56.845Z"
   },
   {
    "duration": 19,
    "start_time": "2023-12-14T04:07:56.861Z"
   },
   {
    "duration": 29,
    "start_time": "2023-12-14T04:07:56.882Z"
   },
   {
    "duration": 47,
    "start_time": "2023-12-14T04:07:56.913Z"
   },
   {
    "duration": 34,
    "start_time": "2023-12-14T04:07:56.961Z"
   },
   {
    "duration": 531,
    "start_time": "2023-12-14T04:07:56.997Z"
   },
   {
    "duration": 8,
    "start_time": "2023-12-14T04:07:57.530Z"
   },
   {
    "duration": 28,
    "start_time": "2023-12-14T04:07:57.539Z"
   },
   {
    "duration": 30,
    "start_time": "2023-12-14T04:07:57.568Z"
   },
   {
    "duration": 20,
    "start_time": "2023-12-14T04:07:57.599Z"
   },
   {
    "duration": 21,
    "start_time": "2023-12-14T04:07:57.625Z"
   },
   {
    "duration": 34,
    "start_time": "2023-12-14T04:07:57.648Z"
   },
   {
    "duration": 30,
    "start_time": "2023-12-14T04:07:57.684Z"
   },
   {
    "duration": 29,
    "start_time": "2023-12-14T04:07:57.716Z"
   },
   {
    "duration": 29,
    "start_time": "2023-12-14T04:07:57.747Z"
   },
   {
    "duration": 28,
    "start_time": "2023-12-14T04:07:57.778Z"
   },
   {
    "duration": 33,
    "start_time": "2023-12-14T04:07:57.808Z"
   },
   {
    "duration": 56,
    "start_time": "2023-12-14T04:07:57.843Z"
   },
   {
    "duration": 43,
    "start_time": "2023-12-14T04:07:57.900Z"
   },
   {
    "duration": 27,
    "start_time": "2023-12-14T04:07:57.945Z"
   },
   {
    "duration": 46,
    "start_time": "2023-12-14T04:07:57.974Z"
   },
   {
    "duration": 25,
    "start_time": "2023-12-14T04:07:58.022Z"
   },
   {
    "duration": 36,
    "start_time": "2023-12-14T04:07:58.049Z"
   },
   {
    "duration": 185,
    "start_time": "2023-12-14T04:07:58.087Z"
   },
   {
    "duration": 3,
    "start_time": "2023-12-14T04:07:58.274Z"
   },
   {
    "duration": 22,
    "start_time": "2023-12-14T04:07:58.278Z"
   },
   {
    "duration": 17,
    "start_time": "2023-12-14T04:07:58.302Z"
   },
   {
    "duration": 27,
    "start_time": "2023-12-14T04:07:58.320Z"
   },
   {
    "duration": 46,
    "start_time": "2023-12-14T04:07:58.350Z"
   },
   {
    "duration": 25,
    "start_time": "2023-12-14T04:07:58.398Z"
   },
   {
    "duration": 36,
    "start_time": "2023-12-14T04:07:58.425Z"
   },
   {
    "duration": 27,
    "start_time": "2023-12-14T04:07:58.462Z"
   },
   {
    "duration": 42,
    "start_time": "2023-12-14T04:07:58.490Z"
   },
   {
    "duration": 45,
    "start_time": "2023-12-14T09:06:26.628Z"
   },
   {
    "duration": 433,
    "start_time": "2023-12-14T09:06:40.777Z"
   },
   {
    "duration": 74,
    "start_time": "2023-12-14T09:06:41.211Z"
   },
   {
    "duration": 16,
    "start_time": "2023-12-14T09:06:41.286Z"
   },
   {
    "duration": 11,
    "start_time": "2023-12-14T09:06:41.304Z"
   },
   {
    "duration": 660,
    "start_time": "2023-12-14T09:06:41.316Z"
   },
   {
    "duration": 64,
    "start_time": "2023-12-14T09:06:41.978Z"
   },
   {
    "duration": 10,
    "start_time": "2023-12-14T09:06:42.043Z"
   },
   {
    "duration": 15,
    "start_time": "2023-12-14T09:06:42.055Z"
   },
   {
    "duration": 493,
    "start_time": "2023-12-14T09:06:42.072Z"
   },
   {
    "duration": 63,
    "start_time": "2023-12-14T09:06:42.567Z"
   },
   {
    "duration": 7,
    "start_time": "2023-12-14T09:06:42.631Z"
   },
   {
    "duration": 31,
    "start_time": "2023-12-14T09:06:42.639Z"
   },
   {
    "duration": 8,
    "start_time": "2023-12-14T09:06:42.671Z"
   },
   {
    "duration": 66,
    "start_time": "2023-12-14T09:06:42.681Z"
   },
   {
    "duration": 3,
    "start_time": "2023-12-14T09:06:42.749Z"
   },
   {
    "duration": 8,
    "start_time": "2023-12-14T09:06:42.754Z"
   },
   {
    "duration": 5,
    "start_time": "2023-12-14T09:06:42.763Z"
   },
   {
    "duration": 10,
    "start_time": "2023-12-14T09:06:42.769Z"
   },
   {
    "duration": 5,
    "start_time": "2023-12-14T09:06:42.781Z"
   },
   {
    "duration": 8,
    "start_time": "2023-12-14T09:06:42.788Z"
   },
   {
    "duration": 14,
    "start_time": "2023-12-14T09:06:42.797Z"
   },
   {
    "duration": 14,
    "start_time": "2023-12-14T09:06:42.812Z"
   },
   {
    "duration": 6,
    "start_time": "2023-12-14T09:06:42.828Z"
   },
   {
    "duration": 21,
    "start_time": "2023-12-14T09:06:42.835Z"
   },
   {
    "duration": 7,
    "start_time": "2023-12-14T09:06:42.858Z"
   },
   {
    "duration": 7,
    "start_time": "2023-12-14T09:06:42.866Z"
   },
   {
    "duration": 20,
    "start_time": "2023-12-14T09:06:42.874Z"
   },
   {
    "duration": 12,
    "start_time": "2023-12-14T09:06:42.898Z"
   },
   {
    "duration": 13,
    "start_time": "2023-12-14T09:06:42.911Z"
   },
   {
    "duration": 12,
    "start_time": "2023-12-14T09:06:42.926Z"
   },
   {
    "duration": 7,
    "start_time": "2023-12-14T09:06:42.939Z"
   },
   {
    "duration": 14,
    "start_time": "2023-12-14T09:06:42.952Z"
   },
   {
    "duration": 351,
    "start_time": "2023-12-14T09:06:42.968Z"
   },
   {
    "duration": 8,
    "start_time": "2023-12-14T09:06:43.320Z"
   },
   {
    "duration": 25,
    "start_time": "2023-12-14T09:06:43.330Z"
   },
   {
    "duration": 21,
    "start_time": "2023-12-14T09:06:43.357Z"
   },
   {
    "duration": 20,
    "start_time": "2023-12-14T09:06:43.379Z"
   },
   {
    "duration": 11,
    "start_time": "2023-12-14T09:06:43.401Z"
   },
   {
    "duration": 11,
    "start_time": "2023-12-14T09:06:43.414Z"
   },
   {
    "duration": 193,
    "start_time": "2023-12-14T09:06:43.426Z"
   },
   {
    "duration": 9,
    "start_time": "2023-12-14T09:06:43.620Z"
   },
   {
    "duration": 30,
    "start_time": "2023-12-14T09:06:43.630Z"
   },
   {
    "duration": 4,
    "start_time": "2023-12-14T09:06:43.662Z"
   },
   {
    "duration": 12,
    "start_time": "2023-12-14T09:06:43.667Z"
   },
   {
    "duration": 16,
    "start_time": "2023-12-14T09:06:43.681Z"
   },
   {
    "duration": 26,
    "start_time": "2023-12-14T09:06:43.698Z"
   },
   {
    "duration": 183,
    "start_time": "2023-12-14T09:06:43.725Z"
   },
   {
    "duration": 8,
    "start_time": "2023-12-14T09:06:43.910Z"
   },
   {
    "duration": 8,
    "start_time": "2023-12-14T09:06:43.919Z"
   },
   {
    "duration": 13,
    "start_time": "2023-12-14T09:06:43.928Z"
   },
   {
    "duration": 200,
    "start_time": "2023-12-14T09:06:43.952Z"
   },
   {
    "duration": 9,
    "start_time": "2023-12-14T09:06:44.153Z"
   },
   {
    "duration": 21,
    "start_time": "2023-12-14T09:06:44.163Z"
   },
   {
    "duration": 9,
    "start_time": "2023-12-14T09:06:44.186Z"
   },
   {
    "duration": 226,
    "start_time": "2023-12-14T09:06:44.197Z"
   },
   {
    "duration": 9,
    "start_time": "2023-12-14T09:06:44.425Z"
   },
   {
    "duration": 17,
    "start_time": "2023-12-14T09:06:44.436Z"
   },
   {
    "duration": 17,
    "start_time": "2023-12-14T09:06:44.454Z"
   },
   {
    "duration": 20,
    "start_time": "2023-12-14T09:06:44.473Z"
   },
   {
    "duration": 15,
    "start_time": "2023-12-14T09:06:44.494Z"
   },
   {
    "duration": 24,
    "start_time": "2023-12-14T09:06:44.511Z"
   },
   {
    "duration": 24,
    "start_time": "2023-12-14T09:06:44.537Z"
   },
   {
    "duration": 5,
    "start_time": "2023-12-14T09:06:44.562Z"
   },
   {
    "duration": 29,
    "start_time": "2023-12-14T09:06:44.569Z"
   },
   {
    "duration": 16,
    "start_time": "2023-12-14T09:06:44.600Z"
   },
   {
    "duration": 444,
    "start_time": "2023-12-14T09:06:44.618Z"
   },
   {
    "duration": 11,
    "start_time": "2023-12-14T09:06:45.064Z"
   },
   {
    "duration": 59,
    "start_time": "2023-12-14T09:06:45.077Z"
   },
   {
    "duration": 31,
    "start_time": "2023-12-14T09:06:45.138Z"
   },
   {
    "duration": 10,
    "start_time": "2023-12-14T09:06:45.171Z"
   },
   {
    "duration": 31,
    "start_time": "2023-12-14T09:06:45.182Z"
   },
   {
    "duration": 9,
    "start_time": "2023-12-14T09:06:45.214Z"
   },
   {
    "duration": 13,
    "start_time": "2023-12-14T09:06:45.224Z"
   },
   {
    "duration": 9,
    "start_time": "2023-12-14T09:06:45.239Z"
   },
   {
    "duration": 16,
    "start_time": "2023-12-14T09:06:45.249Z"
   },
   {
    "duration": 26,
    "start_time": "2023-12-14T09:06:45.266Z"
   },
   {
    "duration": 27,
    "start_time": "2023-12-14T09:06:45.295Z"
   },
   {
    "duration": 496,
    "start_time": "2023-12-14T09:06:45.323Z"
   },
   {
    "duration": 7,
    "start_time": "2023-12-14T09:06:45.821Z"
   },
   {
    "duration": 11,
    "start_time": "2023-12-14T09:06:45.830Z"
   },
   {
    "duration": 10,
    "start_time": "2023-12-14T09:06:45.843Z"
   },
   {
    "duration": 3,
    "start_time": "2023-12-14T09:06:45.858Z"
   },
   {
    "duration": 5,
    "start_time": "2023-12-14T09:06:45.862Z"
   },
   {
    "duration": 11,
    "start_time": "2023-12-14T09:06:45.868Z"
   },
   {
    "duration": 15,
    "start_time": "2023-12-14T09:06:45.880Z"
   },
   {
    "duration": 9,
    "start_time": "2023-12-14T09:06:45.897Z"
   },
   {
    "duration": 10,
    "start_time": "2023-12-14T09:06:45.908Z"
   },
   {
    "duration": 16,
    "start_time": "2023-12-14T09:06:45.919Z"
   },
   {
    "duration": 19,
    "start_time": "2023-12-14T09:06:45.937Z"
   },
   {
    "duration": 15,
    "start_time": "2023-12-14T09:06:45.957Z"
   },
   {
    "duration": 4,
    "start_time": "2023-12-14T09:06:45.973Z"
   },
   {
    "duration": 7,
    "start_time": "2023-12-14T09:06:45.978Z"
   },
   {
    "duration": 97,
    "start_time": "2023-12-14T09:06:45.986Z"
   },
   {
    "duration": 24,
    "start_time": "2023-12-14T09:06:46.085Z"
   },
   {
    "duration": 12,
    "start_time": "2023-12-14T09:06:46.111Z"
   },
   {
    "duration": 127,
    "start_time": "2023-12-14T09:06:46.124Z"
   },
   {
    "duration": 3,
    "start_time": "2023-12-14T09:06:46.253Z"
   },
   {
    "duration": 13,
    "start_time": "2023-12-14T09:06:46.258Z"
   },
   {
    "duration": 5,
    "start_time": "2023-12-14T09:06:46.273Z"
   },
   {
    "duration": 10,
    "start_time": "2023-12-14T09:06:46.280Z"
   },
   {
    "duration": 25,
    "start_time": "2023-12-14T09:06:46.291Z"
   },
   {
    "duration": 6,
    "start_time": "2023-12-14T09:06:46.317Z"
   },
   {
    "duration": 17,
    "start_time": "2023-12-14T09:06:46.325Z"
   },
   {
    "duration": 4,
    "start_time": "2023-12-14T09:06:46.344Z"
   },
   {
    "duration": 10,
    "start_time": "2023-12-14T09:06:46.349Z"
   },
   {
    "duration": 3,
    "start_time": "2023-12-14T09:10:28.527Z"
   },
   {
    "duration": 33,
    "start_time": "2023-12-14T09:10:28.544Z"
   },
   {
    "duration": 8,
    "start_time": "2023-12-14T09:10:28.579Z"
   },
   {
    "duration": 10,
    "start_time": "2023-12-14T09:10:28.588Z"
   },
   {
    "duration": 222,
    "start_time": "2023-12-14T09:10:28.600Z"
   },
   {
    "duration": 28,
    "start_time": "2023-12-14T09:10:28.824Z"
   },
   {
    "duration": 8,
    "start_time": "2023-12-14T09:10:28.854Z"
   },
   {
    "duration": 17,
    "start_time": "2023-12-14T09:10:28.863Z"
   },
   {
    "duration": 449,
    "start_time": "2023-12-14T09:10:28.881Z"
   },
   {
    "duration": 15,
    "start_time": "2023-12-14T09:10:29.332Z"
   },
   {
    "duration": 9,
    "start_time": "2023-12-14T09:10:29.348Z"
   },
   {
    "duration": 16,
    "start_time": "2023-12-14T09:10:29.359Z"
   },
   {
    "duration": 8,
    "start_time": "2023-12-14T09:10:29.376Z"
   },
   {
    "duration": 22,
    "start_time": "2023-12-14T09:10:29.385Z"
   },
   {
    "duration": 17,
    "start_time": "2023-12-14T09:10:29.408Z"
   },
   {
    "duration": 12,
    "start_time": "2023-12-14T09:10:29.426Z"
   },
   {
    "duration": 18,
    "start_time": "2023-12-14T09:10:29.439Z"
   },
   {
    "duration": 17,
    "start_time": "2023-12-14T09:10:29.458Z"
   },
   {
    "duration": 5,
    "start_time": "2023-12-14T09:10:29.477Z"
   },
   {
    "duration": 5,
    "start_time": "2023-12-14T09:10:29.483Z"
   },
   {
    "duration": 10,
    "start_time": "2023-12-14T09:10:29.490Z"
   },
   {
    "duration": 6,
    "start_time": "2023-12-14T09:10:29.501Z"
   },
   {
    "duration": 13,
    "start_time": "2023-12-14T09:10:29.508Z"
   },
   {
    "duration": 9,
    "start_time": "2023-12-14T09:10:29.523Z"
   },
   {
    "duration": 18,
    "start_time": "2023-12-14T09:10:29.535Z"
   },
   {
    "duration": 23,
    "start_time": "2023-12-14T09:10:29.555Z"
   },
   {
    "duration": 8,
    "start_time": "2023-12-14T09:10:29.579Z"
   },
   {
    "duration": 22,
    "start_time": "2023-12-14T09:10:29.597Z"
   },
   {
    "duration": 22,
    "start_time": "2023-12-14T09:10:29.620Z"
   },
   {
    "duration": 13,
    "start_time": "2023-12-14T09:10:29.643Z"
   },
   {
    "duration": 11,
    "start_time": "2023-12-14T09:10:29.658Z"
   },
   {
    "duration": 10,
    "start_time": "2023-12-14T09:10:29.670Z"
   },
   {
    "duration": 289,
    "start_time": "2023-12-14T09:10:29.681Z"
   },
   {
    "duration": 6,
    "start_time": "2023-12-14T09:10:29.972Z"
   },
   {
    "duration": 18,
    "start_time": "2023-12-14T09:10:29.980Z"
   },
   {
    "duration": 53,
    "start_time": "2023-12-14T09:10:30.000Z"
   },
   {
    "duration": 43,
    "start_time": "2023-12-14T09:10:30.054Z"
   },
   {
    "duration": 51,
    "start_time": "2023-12-14T09:10:30.099Z"
   },
   {
    "duration": 28,
    "start_time": "2023-12-14T09:10:30.151Z"
   },
   {
    "duration": 188,
    "start_time": "2023-12-14T09:10:30.181Z"
   },
   {
    "duration": 6,
    "start_time": "2023-12-14T09:10:30.371Z"
   },
   {
    "duration": 46,
    "start_time": "2023-12-14T09:10:30.378Z"
   },
   {
    "duration": 72,
    "start_time": "2023-12-14T09:10:30.425Z"
   },
   {
    "duration": 130,
    "start_time": "2023-12-14T09:10:30.499Z"
   },
   {
    "duration": 85,
    "start_time": "2023-12-14T09:10:30.630Z"
   },
   {
    "duration": 109,
    "start_time": "2023-12-14T09:10:30.716Z"
   },
   {
    "duration": 265,
    "start_time": "2023-12-14T09:10:30.826Z"
   },
   {
    "duration": 10,
    "start_time": "2023-12-14T09:10:31.093Z"
   },
   {
    "duration": 185,
    "start_time": "2023-12-14T09:10:31.104Z"
   },
   {
    "duration": 80,
    "start_time": "2023-12-14T09:10:31.291Z"
   },
   {
    "duration": 197,
    "start_time": "2023-12-14T09:10:31.373Z"
   },
   {
    "duration": 8,
    "start_time": "2023-12-14T09:10:31.571Z"
   },
   {
    "duration": 51,
    "start_time": "2023-12-14T09:10:31.581Z"
   },
   {
    "duration": 193,
    "start_time": "2023-12-14T09:10:31.633Z"
   },
   {
    "duration": 386,
    "start_time": "2023-12-14T09:10:31.827Z"
   },
   {
    "duration": 10,
    "start_time": "2023-12-14T09:10:32.215Z"
   },
   {
    "duration": 25,
    "start_time": "2023-12-14T09:10:32.227Z"
   },
   {
    "duration": 65,
    "start_time": "2023-12-14T09:10:32.253Z"
   },
   {
    "duration": 36,
    "start_time": "2023-12-14T09:10:32.319Z"
   },
   {
    "duration": 52,
    "start_time": "2023-12-14T09:10:32.357Z"
   },
   {
    "duration": 37,
    "start_time": "2023-12-14T09:10:32.410Z"
   },
   {
    "duration": 51,
    "start_time": "2023-12-14T09:10:32.448Z"
   },
   {
    "duration": 14,
    "start_time": "2023-12-14T09:10:32.500Z"
   },
   {
    "duration": 52,
    "start_time": "2023-12-14T09:10:32.515Z"
   },
   {
    "duration": 57,
    "start_time": "2023-12-14T09:10:32.569Z"
   },
   {
    "duration": 779,
    "start_time": "2023-12-14T09:10:32.627Z"
   },
   {
    "duration": 11,
    "start_time": "2023-12-14T09:10:33.408Z"
   },
   {
    "duration": 14,
    "start_time": "2023-12-14T09:10:33.423Z"
   },
   {
    "duration": 31,
    "start_time": "2023-12-14T09:10:33.438Z"
   },
   {
    "duration": 10,
    "start_time": "2023-12-14T09:10:33.470Z"
   },
   {
    "duration": 14,
    "start_time": "2023-12-14T09:10:33.481Z"
   },
   {
    "duration": 16,
    "start_time": "2023-12-14T09:10:33.497Z"
   },
   {
    "duration": 17,
    "start_time": "2023-12-14T09:10:33.514Z"
   },
   {
    "duration": 30,
    "start_time": "2023-12-14T09:10:33.533Z"
   },
   {
    "duration": 14,
    "start_time": "2023-12-14T09:10:33.564Z"
   },
   {
    "duration": 16,
    "start_time": "2023-12-14T09:10:33.580Z"
   },
   {
    "duration": 18,
    "start_time": "2023-12-14T09:10:33.597Z"
   },
   {
    "duration": 9,
    "start_time": "2023-12-14T09:10:33.616Z"
   },
   {
    "duration": 7,
    "start_time": "2023-12-14T09:10:33.631Z"
   },
   {
    "duration": 3,
    "start_time": "2023-12-14T09:10:33.639Z"
   },
   {
    "duration": 6,
    "start_time": "2023-12-14T09:10:33.643Z"
   },
   {
    "duration": 6,
    "start_time": "2023-12-14T09:10:33.650Z"
   },
   {
    "duration": 6,
    "start_time": "2023-12-14T09:10:33.658Z"
   },
   {
    "duration": 5,
    "start_time": "2023-12-14T09:10:33.665Z"
   },
   {
    "duration": 12,
    "start_time": "2023-12-14T09:10:33.671Z"
   },
   {
    "duration": 10,
    "start_time": "2023-12-14T09:10:33.684Z"
   },
   {
    "duration": 14,
    "start_time": "2023-12-14T09:10:33.695Z"
   },
   {
    "duration": 8,
    "start_time": "2023-12-14T09:10:33.711Z"
   },
   {
    "duration": 1746,
    "start_time": "2023-12-14T09:10:33.720Z"
   },
   {
    "duration": 0,
    "start_time": "2023-12-14T09:10:35.467Z"
   },
   {
    "duration": 0,
    "start_time": "2023-12-14T09:10:35.469Z"
   },
   {
    "duration": 0,
    "start_time": "2023-12-14T09:10:35.470Z"
   },
   {
    "duration": 0,
    "start_time": "2023-12-14T09:10:35.471Z"
   },
   {
    "duration": 0,
    "start_time": "2023-12-14T09:10:35.471Z"
   },
   {
    "duration": 0,
    "start_time": "2023-12-14T09:10:35.473Z"
   },
   {
    "duration": 0,
    "start_time": "2023-12-14T09:10:35.474Z"
   },
   {
    "duration": 0,
    "start_time": "2023-12-14T09:10:35.475Z"
   },
   {
    "duration": 0,
    "start_time": "2023-12-14T09:10:35.476Z"
   },
   {
    "duration": 0,
    "start_time": "2023-12-14T09:10:35.477Z"
   },
   {
    "duration": 0,
    "start_time": "2023-12-14T09:10:35.478Z"
   },
   {
    "duration": 0,
    "start_time": "2023-12-14T09:10:35.479Z"
   },
   {
    "duration": 0,
    "start_time": "2023-12-14T09:10:35.479Z"
   },
   {
    "duration": 0,
    "start_time": "2023-12-14T09:10:35.480Z"
   },
   {
    "duration": 0,
    "start_time": "2023-12-14T09:10:35.481Z"
   },
   {
    "duration": 0,
    "start_time": "2023-12-14T09:10:35.482Z"
   },
   {
    "duration": 0,
    "start_time": "2023-12-14T09:10:35.484Z"
   },
   {
    "duration": 0,
    "start_time": "2023-12-14T09:10:35.485Z"
   },
   {
    "duration": 0,
    "start_time": "2023-12-14T09:10:35.486Z"
   },
   {
    "duration": 0,
    "start_time": "2023-12-14T09:10:35.487Z"
   },
   {
    "duration": 3,
    "start_time": "2023-12-14T09:13:50.340Z"
   },
   {
    "duration": 38,
    "start_time": "2023-12-14T09:13:50.351Z"
   },
   {
    "duration": 8,
    "start_time": "2023-12-14T09:13:50.390Z"
   },
   {
    "duration": 13,
    "start_time": "2023-12-14T09:13:50.399Z"
   },
   {
    "duration": 214,
    "start_time": "2023-12-14T09:13:50.414Z"
   },
   {
    "duration": 33,
    "start_time": "2023-12-14T09:13:50.630Z"
   },
   {
    "duration": 8,
    "start_time": "2023-12-14T09:13:50.665Z"
   },
   {
    "duration": 17,
    "start_time": "2023-12-14T09:13:50.674Z"
   },
   {
    "duration": 422,
    "start_time": "2023-12-14T09:13:50.693Z"
   },
   {
    "duration": 15,
    "start_time": "2023-12-14T09:13:51.116Z"
   },
   {
    "duration": 17,
    "start_time": "2023-12-14T09:13:51.133Z"
   },
   {
    "duration": 8,
    "start_time": "2023-12-14T09:13:51.152Z"
   },
   {
    "duration": 52,
    "start_time": "2023-12-14T09:13:51.162Z"
   },
   {
    "duration": 24,
    "start_time": "2023-12-14T09:13:51.215Z"
   },
   {
    "duration": 7,
    "start_time": "2023-12-14T09:13:51.240Z"
   },
   {
    "duration": 26,
    "start_time": "2023-12-14T09:13:51.248Z"
   },
   {
    "duration": 14,
    "start_time": "2023-12-14T09:13:51.275Z"
   },
   {
    "duration": 13,
    "start_time": "2023-12-14T09:13:51.290Z"
   },
   {
    "duration": 23,
    "start_time": "2023-12-14T09:13:51.305Z"
   },
   {
    "duration": 14,
    "start_time": "2023-12-14T09:13:51.329Z"
   },
   {
    "duration": 31,
    "start_time": "2023-12-14T09:13:51.344Z"
   },
   {
    "duration": 25,
    "start_time": "2023-12-14T09:13:51.377Z"
   },
   {
    "duration": 12,
    "start_time": "2023-12-14T09:13:51.404Z"
   },
   {
    "duration": 51,
    "start_time": "2023-12-14T09:13:51.417Z"
   },
   {
    "duration": 26,
    "start_time": "2023-12-14T09:13:51.470Z"
   },
   {
    "duration": 12,
    "start_time": "2023-12-14T09:13:51.497Z"
   },
   {
    "duration": 5,
    "start_time": "2023-12-14T09:13:51.510Z"
   },
   {
    "duration": 15,
    "start_time": "2023-12-14T09:13:51.516Z"
   },
   {
    "duration": 22,
    "start_time": "2023-12-14T09:13:51.535Z"
   },
   {
    "duration": 10,
    "start_time": "2023-12-14T09:13:51.558Z"
   },
   {
    "duration": 5,
    "start_time": "2023-12-14T09:13:51.569Z"
   },
   {
    "duration": 14,
    "start_time": "2023-12-14T09:13:51.575Z"
   },
   {
    "duration": 306,
    "start_time": "2023-12-14T09:13:51.590Z"
   },
   {
    "duration": 6,
    "start_time": "2023-12-14T09:13:51.897Z"
   },
   {
    "duration": 24,
    "start_time": "2023-12-14T09:13:51.905Z"
   },
   {
    "duration": 18,
    "start_time": "2023-12-14T09:13:51.931Z"
   },
   {
    "duration": 23,
    "start_time": "2023-12-14T09:13:51.950Z"
   },
   {
    "duration": 33,
    "start_time": "2023-12-14T09:13:51.974Z"
   },
   {
    "duration": 27,
    "start_time": "2023-12-14T09:13:52.009Z"
   },
   {
    "duration": 203,
    "start_time": "2023-12-14T09:13:52.038Z"
   },
   {
    "duration": 10,
    "start_time": "2023-12-14T09:13:52.243Z"
   },
   {
    "duration": 20,
    "start_time": "2023-12-14T09:13:52.255Z"
   },
   {
    "duration": 14,
    "start_time": "2023-12-14T09:13:52.277Z"
   },
   {
    "duration": 19,
    "start_time": "2023-12-14T09:13:52.293Z"
   },
   {
    "duration": 24,
    "start_time": "2023-12-14T09:13:52.313Z"
   },
   {
    "duration": 14,
    "start_time": "2023-12-14T09:13:52.338Z"
   },
   {
    "duration": 204,
    "start_time": "2023-12-14T09:13:52.354Z"
   },
   {
    "duration": 8,
    "start_time": "2023-12-14T09:13:52.560Z"
   },
   {
    "duration": 24,
    "start_time": "2023-12-14T09:13:52.569Z"
   },
   {
    "duration": 49,
    "start_time": "2023-12-14T09:13:52.595Z"
   },
   {
    "duration": 197,
    "start_time": "2023-12-14T09:13:52.645Z"
   },
   {
    "duration": 11,
    "start_time": "2023-12-14T09:13:52.843Z"
   },
   {
    "duration": 16,
    "start_time": "2023-12-14T09:13:52.856Z"
   },
   {
    "duration": 5,
    "start_time": "2023-12-14T09:13:52.873Z"
   },
   {
    "duration": 298,
    "start_time": "2023-12-14T09:13:52.880Z"
   },
   {
    "duration": 9,
    "start_time": "2023-12-14T09:13:53.179Z"
   },
   {
    "duration": 144,
    "start_time": "2023-12-14T09:13:53.189Z"
   },
   {
    "duration": 55,
    "start_time": "2023-12-14T09:13:53.334Z"
   },
   {
    "duration": 18,
    "start_time": "2023-12-14T09:13:53.390Z"
   },
   {
    "duration": 7,
    "start_time": "2023-12-14T09:13:53.410Z"
   },
   {
    "duration": 13,
    "start_time": "2023-12-14T09:13:53.419Z"
   },
   {
    "duration": 28,
    "start_time": "2023-12-14T09:13:53.434Z"
   },
   {
    "duration": 5,
    "start_time": "2023-12-14T09:13:53.464Z"
   },
   {
    "duration": 41,
    "start_time": "2023-12-14T09:13:53.470Z"
   },
   {
    "duration": 17,
    "start_time": "2023-12-14T09:13:53.513Z"
   },
   {
    "duration": 410,
    "start_time": "2023-12-14T09:13:53.531Z"
   },
   {
    "duration": 18,
    "start_time": "2023-12-14T09:13:53.942Z"
   },
   {
    "duration": 18,
    "start_time": "2023-12-14T09:13:53.962Z"
   },
   {
    "duration": 26,
    "start_time": "2023-12-14T09:13:53.982Z"
   },
   {
    "duration": 9,
    "start_time": "2023-12-14T09:13:54.010Z"
   },
   {
    "duration": 20,
    "start_time": "2023-12-14T09:13:54.020Z"
   },
   {
    "duration": 38,
    "start_time": "2023-12-14T09:13:54.041Z"
   },
   {
    "duration": 28,
    "start_time": "2023-12-14T09:13:54.080Z"
   },
   {
    "duration": 12,
    "start_time": "2023-12-14T09:13:54.110Z"
   },
   {
    "duration": 11,
    "start_time": "2023-12-14T09:13:54.124Z"
   },
   {
    "duration": 15,
    "start_time": "2023-12-14T09:13:54.136Z"
   },
   {
    "duration": 2,
    "start_time": "2023-12-14T09:13:54.152Z"
   },
   {
    "duration": 12,
    "start_time": "2023-12-14T09:13:54.155Z"
   },
   {
    "duration": 2,
    "start_time": "2023-12-14T09:13:54.168Z"
   },
   {
    "duration": 6,
    "start_time": "2023-12-14T09:13:54.171Z"
   },
   {
    "duration": 6,
    "start_time": "2023-12-14T09:13:54.178Z"
   },
   {
    "duration": 5,
    "start_time": "2023-12-14T09:13:54.185Z"
   },
   {
    "duration": 2,
    "start_time": "2023-12-14T09:13:54.196Z"
   },
   {
    "duration": 11,
    "start_time": "2023-12-14T09:13:54.200Z"
   },
   {
    "duration": 6,
    "start_time": "2023-12-14T09:13:54.212Z"
   },
   {
    "duration": 7,
    "start_time": "2023-12-14T09:13:54.219Z"
   },
   {
    "duration": 5,
    "start_time": "2023-12-14T09:13:54.227Z"
   },
   {
    "duration": 1208,
    "start_time": "2023-12-14T09:13:54.252Z"
   },
   {
    "duration": 0,
    "start_time": "2023-12-14T09:13:55.462Z"
   },
   {
    "duration": 0,
    "start_time": "2023-12-14T09:13:55.463Z"
   },
   {
    "duration": 0,
    "start_time": "2023-12-14T09:13:55.464Z"
   },
   {
    "duration": 0,
    "start_time": "2023-12-14T09:13:55.465Z"
   },
   {
    "duration": 0,
    "start_time": "2023-12-14T09:13:55.466Z"
   },
   {
    "duration": 0,
    "start_time": "2023-12-14T09:13:55.468Z"
   },
   {
    "duration": 0,
    "start_time": "2023-12-14T09:13:55.469Z"
   },
   {
    "duration": 0,
    "start_time": "2023-12-14T09:13:55.470Z"
   },
   {
    "duration": 0,
    "start_time": "2023-12-14T09:13:55.471Z"
   },
   {
    "duration": 0,
    "start_time": "2023-12-14T09:13:55.472Z"
   },
   {
    "duration": 0,
    "start_time": "2023-12-14T09:13:55.473Z"
   },
   {
    "duration": 0,
    "start_time": "2023-12-14T09:13:55.475Z"
   },
   {
    "duration": 0,
    "start_time": "2023-12-14T09:13:55.476Z"
   },
   {
    "duration": 0,
    "start_time": "2023-12-14T09:13:55.477Z"
   },
   {
    "duration": 0,
    "start_time": "2023-12-14T09:13:55.478Z"
   },
   {
    "duration": 0,
    "start_time": "2023-12-14T09:13:55.479Z"
   },
   {
    "duration": 0,
    "start_time": "2023-12-14T09:13:55.480Z"
   },
   {
    "duration": 0,
    "start_time": "2023-12-14T09:13:55.482Z"
   },
   {
    "duration": 0,
    "start_time": "2023-12-14T09:13:55.482Z"
   },
   {
    "duration": 0,
    "start_time": "2023-12-14T09:13:55.483Z"
   },
   {
    "duration": 5,
    "start_time": "2023-12-14T09:14:27.568Z"
   },
   {
    "duration": 3,
    "start_time": "2023-12-14T09:14:32.518Z"
   },
   {
    "duration": 4,
    "start_time": "2023-12-14T09:14:33.434Z"
   },
   {
    "duration": 1011,
    "start_time": "2024-06-13T12:31:51.265Z"
   },
   {
    "duration": 107,
    "start_time": "2024-06-13T12:31:52.278Z"
   },
   {
    "duration": 13,
    "start_time": "2024-06-13T12:31:52.387Z"
   },
   {
    "duration": 22,
    "start_time": "2024-06-13T12:31:52.402Z"
   },
   {
    "duration": 222,
    "start_time": "2024-06-13T12:31:52.426Z"
   },
   {
    "duration": 152,
    "start_time": "2024-06-13T12:31:52.650Z"
   },
   {
    "duration": 12,
    "start_time": "2024-06-13T12:31:52.803Z"
   },
   {
    "duration": 16,
    "start_time": "2024-06-13T12:31:52.817Z"
   },
   {
    "duration": 484,
    "start_time": "2024-06-13T12:31:52.834Z"
   },
   {
    "duration": 79,
    "start_time": "2024-06-13T12:31:53.320Z"
   },
   {
    "duration": 7,
    "start_time": "2024-06-13T12:31:53.401Z"
   },
   {
    "duration": 25,
    "start_time": "2024-06-13T12:31:53.411Z"
   },
   {
    "duration": 35,
    "start_time": "2024-06-13T12:31:53.439Z"
   },
   {
    "duration": 48,
    "start_time": "2024-06-13T12:31:53.476Z"
   },
   {
    "duration": 19,
    "start_time": "2024-06-13T12:31:53.526Z"
   },
   {
    "duration": 26,
    "start_time": "2024-06-13T12:31:53.547Z"
   },
   {
    "duration": 37,
    "start_time": "2024-06-13T12:31:53.574Z"
   },
   {
    "duration": 44,
    "start_time": "2024-06-13T12:31:53.615Z"
   },
   {
    "duration": 31,
    "start_time": "2024-06-13T12:31:53.661Z"
   },
   {
    "duration": 33,
    "start_time": "2024-06-13T12:31:53.694Z"
   },
   {
    "duration": 31,
    "start_time": "2024-06-13T12:31:53.728Z"
   },
   {
    "duration": 27,
    "start_time": "2024-06-13T12:31:53.761Z"
   },
   {
    "duration": 36,
    "start_time": "2024-06-13T12:31:53.789Z"
   },
   {
    "duration": 21,
    "start_time": "2024-06-13T12:31:53.826Z"
   },
   {
    "duration": 22,
    "start_time": "2024-06-13T12:31:53.848Z"
   },
   {
    "duration": 27,
    "start_time": "2024-06-13T12:31:53.871Z"
   },
   {
    "duration": 37,
    "start_time": "2024-06-13T12:31:53.899Z"
   },
   {
    "duration": 23,
    "start_time": "2024-06-13T12:31:53.939Z"
   },
   {
    "duration": 24,
    "start_time": "2024-06-13T12:31:53.964Z"
   },
   {
    "duration": 8,
    "start_time": "2024-06-13T12:31:53.990Z"
   },
   {
    "duration": 49,
    "start_time": "2024-06-13T12:31:53.999Z"
   },
   {
    "duration": 297,
    "start_time": "2024-06-13T12:31:54.049Z"
   },
   {
    "duration": 7,
    "start_time": "2024-06-13T12:31:54.347Z"
   },
   {
    "duration": 10,
    "start_time": "2024-06-13T12:31:54.355Z"
   },
   {
    "duration": 8,
    "start_time": "2024-06-13T12:31:54.366Z"
   },
   {
    "duration": 10,
    "start_time": "2024-06-13T12:31:54.375Z"
   },
   {
    "duration": 36,
    "start_time": "2024-06-13T12:31:54.386Z"
   },
   {
    "duration": 4,
    "start_time": "2024-06-13T12:31:54.423Z"
   },
   {
    "duration": 179,
    "start_time": "2024-06-13T12:31:54.428Z"
   },
   {
    "duration": 12,
    "start_time": "2024-06-13T12:31:54.609Z"
   },
   {
    "duration": 31,
    "start_time": "2024-06-13T12:31:54.624Z"
   },
   {
    "duration": 15,
    "start_time": "2024-06-13T12:31:54.656Z"
   },
   {
    "duration": 20,
    "start_time": "2024-06-13T12:31:54.672Z"
   },
   {
    "duration": 10,
    "start_time": "2024-06-13T12:31:54.693Z"
   },
   {
    "duration": 33,
    "start_time": "2024-06-13T12:31:54.704Z"
   },
   {
    "duration": 191,
    "start_time": "2024-06-13T12:31:54.739Z"
   },
   {
    "duration": 10,
    "start_time": "2024-06-13T12:31:54.931Z"
   },
   {
    "duration": 3,
    "start_time": "2024-06-13T12:31:54.943Z"
   },
   {
    "duration": 11,
    "start_time": "2024-06-13T12:31:54.947Z"
   },
   {
    "duration": 231,
    "start_time": "2024-06-13T12:31:54.959Z"
   },
   {
    "duration": 8,
    "start_time": "2024-06-13T12:31:55.191Z"
   },
   {
    "duration": 35,
    "start_time": "2024-06-13T12:31:55.216Z"
   },
   {
    "duration": 5,
    "start_time": "2024-06-13T12:31:55.253Z"
   },
   {
    "duration": 231,
    "start_time": "2024-06-13T12:31:55.260Z"
   },
   {
    "duration": 25,
    "start_time": "2024-06-13T12:31:55.493Z"
   },
   {
    "duration": 17,
    "start_time": "2024-06-13T12:31:55.519Z"
   },
   {
    "duration": 26,
    "start_time": "2024-06-13T12:31:55.538Z"
   },
   {
    "duration": 31,
    "start_time": "2024-06-13T12:31:55.567Z"
   },
   {
    "duration": 25,
    "start_time": "2024-06-13T12:31:55.600Z"
   },
   {
    "duration": 43,
    "start_time": "2024-06-13T12:31:55.627Z"
   },
   {
    "duration": 29,
    "start_time": "2024-06-13T12:31:55.672Z"
   },
   {
    "duration": 12,
    "start_time": "2024-06-13T12:31:55.702Z"
   },
   {
    "duration": 37,
    "start_time": "2024-06-13T12:31:55.715Z"
   },
   {
    "duration": 20,
    "start_time": "2024-06-13T12:31:55.754Z"
   },
   {
    "duration": 449,
    "start_time": "2024-06-13T12:31:55.776Z"
   },
   {
    "duration": 11,
    "start_time": "2024-06-13T12:31:56.227Z"
   },
   {
    "duration": 20,
    "start_time": "2024-06-13T12:31:56.239Z"
   },
   {
    "duration": 31,
    "start_time": "2024-06-13T12:31:56.261Z"
   },
   {
    "duration": 10,
    "start_time": "2024-06-13T12:31:56.294Z"
   },
   {
    "duration": 31,
    "start_time": "2024-06-13T12:31:56.306Z"
   },
   {
    "duration": 11,
    "start_time": "2024-06-13T12:31:56.339Z"
   },
   {
    "duration": 7,
    "start_time": "2024-06-13T12:31:56.352Z"
   },
   {
    "duration": 31,
    "start_time": "2024-06-13T12:31:56.360Z"
   },
   {
    "duration": 11,
    "start_time": "2024-06-13T12:31:56.392Z"
   },
   {
    "duration": 43,
    "start_time": "2024-06-13T12:31:56.405Z"
   },
   {
    "duration": 14,
    "start_time": "2024-06-13T12:31:56.449Z"
   },
   {
    "duration": 11,
    "start_time": "2024-06-13T12:31:56.464Z"
   },
   {
    "duration": 15,
    "start_time": "2024-06-13T12:31:56.477Z"
   },
   {
    "duration": 17,
    "start_time": "2024-06-13T12:31:56.493Z"
   },
   {
    "duration": 13,
    "start_time": "2024-06-13T12:31:56.512Z"
   },
   {
    "duration": 3,
    "start_time": "2024-06-13T12:31:56.527Z"
   },
   {
    "duration": 4,
    "start_time": "2024-06-13T12:31:56.535Z"
   },
   {
    "duration": 36,
    "start_time": "2024-06-13T12:31:56.540Z"
   },
   {
    "duration": 22,
    "start_time": "2024-06-13T12:31:56.577Z"
   },
   {
    "duration": 4,
    "start_time": "2024-06-13T12:31:56.600Z"
   },
   {
    "duration": 7,
    "start_time": "2024-06-13T12:31:56.606Z"
   },
   {
    "duration": 18,
    "start_time": "2024-06-13T12:31:56.618Z"
   },
   {
    "duration": 4,
    "start_time": "2024-06-13T12:31:56.637Z"
   },
   {
    "duration": 4,
    "start_time": "2024-06-13T12:31:56.643Z"
   },
   {
    "duration": 9,
    "start_time": "2024-06-13T12:31:56.648Z"
   },
   {
    "duration": 14,
    "start_time": "2024-06-13T12:31:56.658Z"
   },
   {
    "duration": 47,
    "start_time": "2024-06-13T12:31:56.674Z"
   },
   {
    "duration": 4,
    "start_time": "2024-06-13T12:31:56.722Z"
   },
   {
    "duration": 3,
    "start_time": "2024-06-13T12:31:56.730Z"
   },
   {
    "duration": 17,
    "start_time": "2024-06-13T12:31:56.734Z"
   },
   {
    "duration": 9,
    "start_time": "2024-06-13T12:31:56.752Z"
   },
   {
    "duration": 129,
    "start_time": "2024-06-13T12:31:56.762Z"
   },
   {
    "duration": 3,
    "start_time": "2024-06-13T12:31:56.892Z"
   },
   {
    "duration": 25,
    "start_time": "2024-06-13T12:31:56.909Z"
   },
   {
    "duration": 17,
    "start_time": "2024-06-13T12:31:56.936Z"
   },
   {
    "duration": 4,
    "start_time": "2024-06-13T12:31:56.955Z"
   },
   {
    "duration": 2,
    "start_time": "2024-06-13T12:31:56.961Z"
   },
   {
    "duration": 4,
    "start_time": "2024-06-13T12:31:56.965Z"
   },
   {
    "duration": 6,
    "start_time": "2024-06-13T12:31:56.970Z"
   },
   {
    "duration": 7,
    "start_time": "2024-06-13T12:31:56.977Z"
   }
  ],
  "kernelspec": {
   "display_name": "Python 3 (ipykernel)",
   "language": "python",
   "name": "python3"
  },
  "language_info": {
   "codemirror_mode": {
    "name": "ipython",
    "version": 3
   },
   "file_extension": ".py",
   "mimetype": "text/x-python",
   "name": "python",
   "nbconvert_exporter": "python",
   "pygments_lexer": "ipython3",
   "version": "3.9.5"
  },
  "toc": {
   "base_numbering": 1,
   "nav_menu": {},
   "number_sections": true,
   "sideBar": true,
   "skip_h1_title": true,
   "title_cell": "Table of Contents",
   "title_sidebar": "Contents",
   "toc_cell": false,
   "toc_position": {},
   "toc_section_display": true,
   "toc_window_display": false
  }
 },
 "nbformat": 4,
 "nbformat_minor": 5
}
